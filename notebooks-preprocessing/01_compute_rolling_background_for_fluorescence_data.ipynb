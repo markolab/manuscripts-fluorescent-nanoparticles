{
 "cells": [
  {
   "cell_type": "code",
   "execution_count": 1,
   "id": "6fdf449c-18e7-4dcc-a194-9de011757c91",
   "metadata": {
    "tags": []
   },
   "outputs": [],
   "source": [
    "%load_ext autoreload\n",
    "%autoreload 2\n",
    "%matplotlib inline"
   ]
  },
  {
   "cell_type": "code",
   "execution_count": 5,
   "id": "b25fd5e0-464c-4c6e-93d1-1082c5d1aa1e",
   "metadata": {
    "tags": []
   },
   "outputs": [],
   "source": [
    "import os\n",
    "import copy\n",
    "import cv2\n",
    "import matplotlib.pyplot as plt\n",
    "import numpy as np\n",
    "import toml\n",
    "import glob\n",
    "import h5py\n",
    "from tqdm.auto import tqdm\n",
    "from markovids import vid"
   ]
  },
  {
   "cell_type": "code",
   "execution_count": 6,
   "id": "0c9b2f24-2f03-473f-bb43-96ff3f96c0d2",
   "metadata": {
    "tags": []
   },
   "outputs": [],
   "source": [
    "from joblib import Parallel, delayed"
   ]
  },
  {
   "cell_type": "markdown",
   "id": "bdb6af78-dd92-4b5f-a533-a31359064f6a",
   "metadata": {},
   "source": [
    "## User functions"
   ]
  },
  {
   "cell_type": "code",
   "execution_count": 7,
   "id": "a9ad8acc-4417-4f14-a276-459db8ff1caf",
   "metadata": {},
   "outputs": [],
   "source": [
    "def get_rolling_bground(\n",
    "    dat_file,\n",
    "    step_size=1500,\n",
    "    frame_spacing=20,\n",
    "    overlap=0,\n",
    "    agg_func=np.mean,\n",
    "    reader_kwargs={\"threads\": 2},\n",
    "    progress_bar=False,\n",
    "    save_dir=\"_bground\",\n",
    "):\n",
    "\n",
    "    basename = os.path.splitext(os.path.basename(dat_file))[0]\n",
    "    path = os.path.dirname(dat_file)\n",
    "    bground_path = os.path.join(path, save_dir, f\"{basename}.hdf5\")\n",
    "\n",
    "    os.makedirs(os.path.join(path, save_dir), exist_ok=True)\n",
    "    \n",
    "    if os.path.exists(bground_path):\n",
    "        return None\n",
    "\n",
    "    vid_reader = vid.io.AutoReader(\n",
    "        dat_file,\n",
    "        **reader_kwargs\n",
    "    )\n",
    "    steps = range(0, vid_reader.nframes, step_size - overlap)\n",
    "\n",
    "    bgrounds = []\n",
    "    idxs = []\n",
    "    for _step in tqdm(steps, disable=not progress_bar):\n",
    "        left_edge = _step\n",
    "        right_edge = left_edge + step_size\n",
    "\n",
    "        if right_edge > vid_reader.nframes:\n",
    "            break\n",
    "        # right_edge = min(left_edge + step_size, reader.nframes)\n",
    "        use_frames = vid_reader.get_frames(range(left_edge, right_edge, frame_spacing))\n",
    "        bgrounds.append(agg_func(use_frames, axis=0))\n",
    "        idxs.append((left_edge + right_edge) / 2) # get midpoint frame index...\n",
    "    vid_reader.close()\n",
    "\n",
    "    \n",
    "    with h5py.File(bground_path, \"w\") as f:\n",
    "        f.create_dataset(\n",
    "            \"bground\",\n",
    "            data=np.array(bgrounds),\n",
    "            compression=\"gzip\",\n",
    "        )\n",
    "        f.create_dataset(\"frame_idxs\", data=np.array(idxs), compression=\"gzip\")\n",
    "    \n",
    "    return None"
   ]
  },
  {
   "cell_type": "markdown",
   "id": "c26e2ce6-b8f0-4d26-a151-cd0f1dd38f84",
   "metadata": {},
   "source": [
    "# Quantify fluorescence decay over time"
   ]
  },
  {
   "cell_type": "code",
   "execution_count": 8,
   "id": "249093aa-8bcc-4cbc-aaef-022b73885f77",
   "metadata": {},
   "outputs": [],
   "source": [
    "# need to use different calibration files for different days..."
   ]
  },
  {
   "cell_type": "code",
   "execution_count": 9,
   "id": "7dbc4d25-2494-4342-9488-1d44ecad7b24",
   "metadata": {
    "tags": []
   },
   "outputs": [],
   "source": [
    "base_dir = \"/mnt/data/jmarkow/active_projects/quantum_dots/\"\n",
    "fluo_files = sorted(glob.glob(os.path.join(base_dir, \"**\", \"Basler*fluorescence.avi\"), recursive=True))"
   ]
  },
  {
   "cell_type": "code",
   "execution_count": 11,
   "id": "9a788be6-0411-411e-a39e-f4203f3c4354",
   "metadata": {},
   "outputs": [
    {
     "name": "stdout",
     "output_type": "stream",
     "text": [
      "1280\n"
     ]
    },
    {
     "name": "stderr",
     "output_type": "stream",
     "text": [
      "[Parallel(n_jobs=4)]: Using backend MultiprocessingBackend with 4 concurrent workers.\n",
      "[Parallel(n_jobs=4)]: Done   5 tasks      | elapsed:  3.0min\n",
      "[Parallel(n_jobs=4)]: Done  10 tasks      | elapsed:  4.4min\n",
      "[Parallel(n_jobs=4)]: Done  17 tasks      | elapsed:  4.6min\n",
      "[Parallel(n_jobs=4)]: Done  24 tasks      | elapsed:  4.6min\n",
      "[Parallel(n_jobs=4)]: Done  33 tasks      | elapsed:  4.6min\n",
      "[Parallel(n_jobs=4)]: Done  42 tasks      | elapsed:  4.6min\n",
      "[Parallel(n_jobs=4)]: Batch computation too fast (0.16885275519256376s.) Setting batch_size=2.\n",
      "[Parallel(n_jobs=4)]: Batch computation too fast (0.012085199356079102s.) Setting batch_size=4.\n",
      "[Parallel(n_jobs=4)]: Done  57 tasks      | elapsed:  4.6min\n",
      "[Parallel(n_jobs=4)]: Batch computation too fast (0.022510766983032227s.) Setting batch_size=8.\n",
      "[Parallel(n_jobs=4)]: Done  93 tasks      | elapsed:  4.6min\n",
      "[Parallel(n_jobs=4)]: Batch computation too fast (0.045400142669677734s.) Setting batch_size=16.\n",
      "[Parallel(n_jobs=4)]: Batch computation too fast (0.08081936836242676s.) Setting batch_size=32.\n",
      "[Parallel(n_jobs=4)]: Done 225 tasks      | elapsed:  4.6min\n",
      "[Parallel(n_jobs=4)]: Batch computation too fast (0.17821717262268066s.) Setting batch_size=64.\n",
      "[Parallel(n_jobs=4)]: Done 609 tasks      | elapsed:  4.6min\n",
      "[Parallel(n_jobs=4)]: Done 1097 tasks      | elapsed:  4.7min\n",
      "[Parallel(n_jobs=4)]: Done 1172 tasks      | elapsed:  4.7min\n",
      "[Parallel(n_jobs=4)]: Done 1257 tasks      | elapsed:  4.7min\n",
      "[Parallel(n_jobs=4)]: Done 1280 out of 1280 | elapsed:  5.7min finished\n"
     ]
    }
   ],
   "source": [
    "delays = []\n",
    "for _file in fluo_files:\n",
    "    delays.append(\n",
    "        delayed(get_rolling_bground)(\n",
    "            _file,      \n",
    "        )\n",
    "    )\n",
    "print(len(delays))\n",
    "dat = Parallel(n_jobs=4, verbose=10, backend=\"multiprocessing\")(delays)"
   ]
  },
  {
   "cell_type": "code",
   "execution_count": null,
   "id": "e5206f46-7042-4d9b-9b05-e32676c12ba5",
   "metadata": {},
   "outputs": [],
   "source": []
  },
  {
   "cell_type": "code",
   "execution_count": null,
   "id": "b684d675-0e4d-49fd-824a-31c9564c3019",
   "metadata": {},
   "outputs": [],
   "source": []
  }
 ],
 "metadata": {
  "kernelspec": {
   "display_name": "Python [conda env:data_analysis]",
   "language": "python",
   "name": "conda-env-data_analysis-py"
  },
  "language_info": {
   "codemirror_mode": {
    "name": "ipython",
    "version": 3
   },
   "file_extension": ".py",
   "mimetype": "text/x-python",
   "name": "python",
   "nbconvert_exporter": "python",
   "pygments_lexer": "ipython3",
   "version": "3.10.0"
  }
 },
 "nbformat": 4,
 "nbformat_minor": 5
}
