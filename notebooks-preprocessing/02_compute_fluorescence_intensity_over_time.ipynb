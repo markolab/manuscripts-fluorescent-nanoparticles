{
 "cells": [
  {
   "cell_type": "code",
   "execution_count": 1,
   "id": "6fdf449c-18e7-4dcc-a194-9de011757c91",
   "metadata": {
    "tags": []
   },
   "outputs": [],
   "source": [
    "%load_ext autoreload\n",
    "%autoreload 2\n",
    "%matplotlib inline"
   ]
  },
  {
   "cell_type": "code",
   "execution_count": 2,
   "id": "b25fd5e0-464c-4c6e-93d1-1082c5d1aa1e",
   "metadata": {
    "tags": []
   },
   "outputs": [
    {
     "name": "stdout",
     "output_type": "stream",
     "text": [
      "Jupyter environment detected. Enabling Open3D WebVisualizer.\n",
      "[Open3D INFO] WebRTC GUI backend enabled.\n",
      "[Open3D INFO] WebRTCWindowSystem: HTTP handshake server disabled.\n"
     ]
    }
   ],
   "source": [
    "import os\n",
    "import copy\n",
    "import cv2\n",
    "import matplotlib.pyplot as plt\n",
    "import numpy as np\n",
    "import skimage\n",
    "import toml\n",
    "import glob\n",
    "import h5py\n",
    "from tqdm.auto import tqdm\n",
    "from markovids import vid\n",
    "from qd_analysis.util import clean_df"
   ]
  },
  {
   "cell_type": "code",
   "execution_count": 3,
   "id": "4f3b9332-f833-44cb-9c90-289d79778622",
   "metadata": {
    "tags": []
   },
   "outputs": [],
   "source": [
    "from scipy import signal"
   ]
  },
  {
   "cell_type": "code",
   "execution_count": 4,
   "id": "433b263a-08c3-4d7d-8dee-748fdae52e5a",
   "metadata": {
    "tags": []
   },
   "outputs": [],
   "source": [
    "import warnings"
   ]
  },
  {
   "cell_type": "code",
   "execution_count": 5,
   "id": "959a3d07-17c7-4480-bc93-002fb9e0fa4a",
   "metadata": {
    "tags": []
   },
   "outputs": [],
   "source": [
    "from skimage.measure import regionprops_table"
   ]
  },
  {
   "cell_type": "code",
   "execution_count": 6,
   "id": "0c9b2f24-2f03-473f-bb43-96ff3f96c0d2",
   "metadata": {
    "tags": []
   },
   "outputs": [],
   "source": [
    "from joblib import Parallel, delayed\n",
    "import pandas as pd\n",
    "import seaborn as sns"
   ]
  },
  {
   "cell_type": "code",
   "execution_count": 7,
   "id": "5bdc7c55-8b45-4a9a-b34c-0933260b578a",
   "metadata": {
    "tags": []
   },
   "outputs": [],
   "source": [
    "segmentation_dir = \"_segmentation_tau-0-pretrain\""
   ]
  },
  {
   "cell_type": "markdown",
   "id": "bdb6af78-dd92-4b5f-a533-a31359064f6a",
   "metadata": {},
   "source": [
    "## User functions"
   ]
  },
  {
   "cell_type": "code",
   "execution_count": 8,
   "id": "c827cfd3-aa33-4793-806e-1933711dd14a",
   "metadata": {
    "tags": []
   },
   "outputs": [],
   "source": [
    "def sos_filter(x, fps, tau=.01, order=3):\n",
    "    sos = signal.butter(order, (1 / tau) / (fps / 2), btype=\"low\", output=\"sos\")\n",
    "    return signal.sosfiltfilt(sos, x, axis=0)\n",
    "\n",
    "def lp_filter(x, sigma):\n",
    "    return cv2.GaussianBlur(x, [0, 0], sigma, sigma)\n",
    "\n",
    "\n",
    "def bp_filter(x, sigma1, sigma2, clip=True):\n",
    "    if (sigma2 == 0) or (sigma2 is None):\n",
    "        return lp_filter(x, sigma1)\n",
    "    else:\n",
    "        return np.clip(\n",
    "            lp_filter(x, sigma1) - lp_filter(x, sigma2),\n",
    "            0 if clip == True else -np.inf,\n",
    "            np.inf,\n",
    "        )"
   ]
  },
  {
   "cell_type": "code",
   "execution_count": 9,
   "id": "592119f7-f923-45ce-8ade-21979df3b079",
   "metadata": {
    "tags": []
   },
   "outputs": [],
   "source": [
    "def get_average_intensity(\n",
    "    dat_file,\n",
    "    spacing=400,\n",
    "    reader_kwargs={\"threads\": 2},\n",
    "    segmentation_dir=segmentation_dir,\n",
    "    distortion_coeffs=None,\n",
    "    intrinsic_matrix=None,\n",
    "    bground_dir=\"_bground\",\n",
    "    output_dir=\"_ave_intensity\",\n",
    "    summary_quantiles=[0.99, 0.999, 1.0],\n",
    "    bpass=(1, 3),\n",
    "    force=False,\n",
    "):\n",
    "    # ONLY undistort at the end so we don't have to account for it \n",
    "    # when we don't need it (e.g. keypoints)\n",
    "    metadata = toml.load(os.path.join(os.path.dirname(dat_file), \"../metadata.toml\"))\n",
    "    dirname, fname_reflectance = os.path.split(\n",
    "        dat_file.replace(\"fluorescence\", \"reflectance\")\n",
    "    )\n",
    "    fname_reflectance, ext = os.path.splitext(fname_reflectance)\n",
    "    fname_fluorescence, ext = os.path.splitext(os.path.basename(dat_file))\n",
    "\n",
    "    segmentation_path = os.path.join(\n",
    "        dirname, segmentation_dir, f\"{fname_reflectance}.hdf5\"\n",
    "    )\n",
    "    bground_path = os.path.join(dirname, bground_dir, f\"{fname_fluorescence}.hdf5\")\n",
    "    save_file = os.path.join(dirname, output_dir, f\"{fname_fluorescence}.parquet\")\n",
    "\n",
    "    os.makedirs(os.path.join(dirname, output_dir), exist_ok=True)\n",
    "    os.makedirs(os.path.join(dirname, bground_dir), exist_ok=True)\n",
    "\n",
    "    if os.path.exists(save_file) and not force:\n",
    "        stats = pd.read_parquet(save_file)\n",
    "        return stats\n",
    "\n",
    "    reader = vid.io.AutoReader(\n",
    "        dat_file,\n",
    "        **reader_kwargs,\n",
    "    )\n",
    "    frame_range = range(0, reader.nframes, spacing)\n",
    "\n",
    "    if os.path.exists(segmentation_path):\n",
    "        try:\n",
    "            with h5py.File(segmentation_path) as f:\n",
    "                masks = f[\"labels\"][frame_range]\n",
    "                masks = masks.astype(\"uint8\")\n",
    "        except Exception as e:\n",
    "            print(e)\n",
    "            warnings.warn(f\"Could not load mask from {segmentation_path}\")\n",
    "            reader.close()\n",
    "            return None\n",
    "    else:\n",
    "        warnings.warn(f\"No mask found {segmentation_path} for {dat_file}\")\n",
    "        reader.close()\n",
    "        return None\n",
    "\n",
    "    if os.path.exists(bground_path):\n",
    "        with warnings.catch_warnings():\n",
    "            with h5py.File(bground_path, \"r\") as f:\n",
    "                rolling_bgrounds = f[\"bground\"][()]\n",
    "                idxs = f[\"frame_idxs\"][()]\n",
    "            frames = reader.get_frames(frame_range)\n",
    "    else:\n",
    "        warnings.warn(f\"No background found {dat_file}\")\n",
    "        reader.close()\n",
    "        return None\n",
    "    \n",
    "\n",
    "    bground_sub = np.zeros(frames.shape, dtype=\"int16\")\n",
    "    for i, (_idx, _frame) in enumerate(zip(frame_range, frames)):\n",
    "        use_bground = np.argmin(np.abs(idxs - _idx))\n",
    "        bground_sub[i] = np.clip(_frame - rolling_bgrounds[use_bground], 0, 255)\n",
    "\n",
    "    # bground_sub = np.clip(frames - bground[None, ...], 0, 255).astype(\"int16\")\n",
    "    bground_sub_raw = bground_sub.copy()\n",
    "    for i in range(len(bground_sub)):\n",
    "        bground_sub[i] = bp_filter(bground_sub[i], *bpass)\n",
    "\n",
    "    # undistort everything we use here:\n",
    "    # 1. bground_sub_raw\n",
    "    # 2. bground_sub\n",
    "    # 3. masks\n",
    "\n",
    "    if intrinsic_matrix is not None:\n",
    "        for i in range(len(masks)):\n",
    "            masks[i] = cv2.undistort(\n",
    "                masks[i], intrinsic_matrix, distortion_coeffs\n",
    "            )\n",
    "        for i in range(len(bground_sub)):\n",
    "            bground_sub[i] = cv2.undistort(\n",
    "                bground_sub[i], intrinsic_matrix, distortion_coeffs\n",
    "            )\n",
    "        for i in range(len(bground_sub_raw)):\n",
    "            bground_sub_raw[i] = cv2.undistort(\n",
    "                bground_sub_raw[i], intrinsic_matrix, distortion_coeffs\n",
    "            )\n",
    "\n",
    "    extra_props = []\n",
    "    for _quantile in summary_quantiles:\n",
    "        func = lambda regionmask, im, quantile=_quantile: np.quantile(\n",
    "            im[regionmask], quantile\n",
    "        )\n",
    "        func.__name__ = f\"q{_quantile}\"\n",
    "        extra_props.append(func)\n",
    "\n",
    "    func = lambda regionmask, im: np.std(im[regionmask])\n",
    "    func.__name__ = \"std\"\n",
    "    extra_props.append(func)\n",
    "\n",
    "    bground_mu = bground_sub[masks == 0].mean()\n",
    "    bground_sig = bground_sub[masks == 0].std()\n",
    "\n",
    "    func = lambda regionmask, im: np.mean(\n",
    "        (im[regionmask] > (bground_mu + 10 * bground_sig)).astype(\"float32\")\n",
    "    )\n",
    "    func.__name__ = \"frac_pixels_above_background\"\n",
    "    extra_props.append(func)\n",
    "\n",
    "\n",
    "    stats = [\n",
    "        regionprops_table(\n",
    "            _mask,\n",
    "            intensity_image=_im,\n",
    "            properties=[\"mean_intensity\"],\n",
    "            extra_properties=extra_props,\n",
    "        )\n",
    "        for _im, _mask in zip(bground_sub, masks)\n",
    "    ]\n",
    "\n",
    "    dfs = []\n",
    "    use_idx = []\n",
    "    for i, (_stat, _idx) in enumerate(zip(stats, frame_range)):\n",
    "        _df = pd.DataFrame(_stat)\n",
    "        if _df.empty:\n",
    "            continue\n",
    "        _df[\"frame_idx\"] = _idx\n",
    "        dfs.append(_df)\n",
    "        use_idx.append(i)\n",
    "\n",
    "    use_idx = np.array(use_idx).astype(\"int\")\n",
    "    stats = pd.concat(dfs, ignore_index=True)\n",
    "    stats[\"start_time\"] = metadata[\"start_time\"]\n",
    "    stats[\"hw_trigger_pulse_width\"] = str(\n",
    "        metadata[\"cli_parameters\"][\"hw_trigger_pulse_width\"]\n",
    "    )\n",
    "\n",
    "    for k, v in metadata[\"user_input\"].items():\n",
    "        stats[k] = v\n",
    "\n",
    "    for _quantile in summary_quantiles:\n",
    "        _tmp = np.quantile(bground_sub_raw[use_idx], _quantile, axis=(1, 2))\n",
    "        stats[f\"q{_quantile}_fullframe_raw\"] = _tmp\n",
    "    stats[\"mean_intensity_fullframe_raw\"] = np.mean(\n",
    "        bground_sub_raw[use_idx], axis=(1, 2)\n",
    "    )\n",
    "    stats[\"std_intensity_fullframe_raw\"] = np.std(bground_sub_raw[use_idx], axis=(1, 2))\n",
    "\n",
    "    for _quantile in summary_quantiles:\n",
    "        _tmp = np.quantile(bground_sub[use_idx], _quantile, axis=(1, 2))\n",
    "        stats[f\"q{_quantile}_fullframe_bpass\"] = _tmp\n",
    "    stats[\"mean_intensity_fullframe_bpass\"] = np.mean(bground_sub[use_idx], axis=(1, 2))\n",
    "    stats[\"std_intensity_fullframe_bpass\"] = np.std(bground_sub[use_idx], axis=(1, 2))\n",
    "\n",
    "    stats[\"filename\"] = dat_file\n",
    "    stats.to_parquet(save_file)\n",
    "    return stats"
   ]
  },
  {
   "cell_type": "markdown",
   "id": "c26e2ce6-b8f0-4d26-a151-cd0f1dd38f84",
   "metadata": {},
   "source": [
    "# Quantify fluorescence decay over time"
   ]
  },
  {
   "cell_type": "code",
   "execution_count": 10,
   "id": "249093aa-8bcc-4cbc-aaef-022b73885f77",
   "metadata": {},
   "outputs": [],
   "source": [
    "# need to use different calibration files for different days..."
   ]
  },
  {
   "cell_type": "code",
   "execution_count": 11,
   "id": "7dbc4d25-2494-4342-9488-1d44ecad7b24",
   "metadata": {
    "tags": []
   },
   "outputs": [],
   "source": [
    "base_dir = \"/mnt/data/jmarkow/active_projects/quantum_dots/timecourse_01\"\n",
    "fluo_files = sorted(glob.glob(os.path.join(base_dir, \"**\", \"Basler*fluorescence.avi\"), recursive=True))\n",
    "base_dir = \"/mnt/data/jmarkow/active_projects/quantum_dots/timecourse_01_agarose_beads\"\n",
    "fluo_files += sorted(glob.glob(os.path.join(base_dir, \"**\", \"Basler*fluorescence.avi\"), recursive=True))"
   ]
  },
  {
   "cell_type": "code",
   "execution_count": 12,
   "id": "044bc3c9-798d-4926-b335-677f32868e8a",
   "metadata": {},
   "outputs": [],
   "source": [
    "calibration_data = toml.load(\"/home/jmarkow/data_dir/active_projects/quantum_dots/timecourse_01_calibration.toml\")"
   ]
  },
  {
   "cell_type": "code",
   "execution_count": 13,
   "id": "98e1beb2-31f7-49b9-a5ea-339473ad76a6",
   "metadata": {},
   "outputs": [
    {
     "data": {
      "application/vnd.jupyter.widget-view+json": {
       "model_id": "bc6ad73bcaae416284544d41870433f2",
       "version_major": 2,
       "version_minor": 0
      },
      "text/plain": [
       "  0%|          | 0/780 [00:00<?, ?it/s]"
      ]
     },
     "metadata": {},
     "output_type": "display_data"
    }
   ],
   "source": [
    "# get subject names and filter that stuff...\n",
    "metadata = {}\n",
    "for _file in tqdm(fluo_files):\n",
    "    metadata[_file] = toml.load(os.path.join(os.path.dirname(_file), \"../metadata.toml\"))"
   ]
  },
  {
   "cell_type": "code",
   "execution_count": 14,
   "id": "9a788be6-0411-411e-a39e-f4203f3c4354",
   "metadata": {},
   "outputs": [
    {
     "name": "stdout",
     "output_type": "stream",
     "text": [
      "780\n"
     ]
    },
    {
     "name": "stderr",
     "output_type": "stream",
     "text": [
      "[Parallel(n_jobs=-1)]: Using backend MultiprocessingBackend with 16 concurrent workers.\n",
      "[Parallel(n_jobs=-1)]: Batch computation too fast (0.1981818675994873s.) Setting batch_size=2.\n",
      "[Parallel(n_jobs=-1)]: Done   9 tasks      | elapsed:    0.4s\n",
      "[Parallel(n_jobs=-1)]: Done  18 tasks      | elapsed:    0.5s\n",
      "[Parallel(n_jobs=-1)]: Done  29 tasks      | elapsed:    0.6s\n",
      "[Parallel(n_jobs=-1)]: Batch computation too fast (0.18400168418884277s.) Setting batch_size=4.\n",
      "[Parallel(n_jobs=-1)]: Done  48 tasks      | elapsed:    0.7s\n",
      "[Parallel(n_jobs=-1)]: Done  74 tasks      | elapsed:    0.9s\n",
      "[Parallel(n_jobs=-1)]: Done 106 tasks      | elapsed:    1.1s\n",
      "[Parallel(n_jobs=-1)]: Done 164 tasks      | elapsed:    1.4s\n",
      "[Parallel(n_jobs=-1)]: Done 224 tasks      | elapsed:    1.6s\n",
      "[Parallel(n_jobs=-1)]: Done 292 tasks      | elapsed:    1.9s\n",
      "[Parallel(n_jobs=-1)]: Done 360 tasks      | elapsed:    2.3s\n",
      "[Parallel(n_jobs=-1)]: Done 436 tasks      | elapsed:    2.6s\n",
      "[Parallel(n_jobs=-1)]: Done 512 tasks      | elapsed:    3.0s\n",
      "[Parallel(n_jobs=-1)]: Done 596 tasks      | elapsed:    3.4s\n",
      "[Parallel(n_jobs=-1)]: Done 680 tasks      | elapsed:    3.8s\n",
      "[Parallel(n_jobs=-1)]: Done 730 tasks      | elapsed:    4.0s\n",
      "[Parallel(n_jobs=-1)]: Done 749 out of 780 | elapsed:    4.1s remaining:    0.2s\n",
      "[Parallel(n_jobs=-1)]: Done 780 out of 780 | elapsed:    4.3s finished\n"
     ]
    }
   ],
   "source": [
    "delays = []\n",
    "for _file in fluo_files:\n",
    "    cam = os.path.basename(_file).replace(\"-fluorescence.avi\", \"\")\n",
    "    delays.append(\n",
    "        delayed(get_average_intensity)(\n",
    "            _file,\n",
    "            force=False,\n",
    "            intrinsic_matrix=np.array(calibration_data[\"intrinsics\"][cam]),\n",
    "            distortion_coeffs=np.array(calibration_data[\"distortion_coeffs\"][cam])        \n",
    "        )\n",
    "    )\n",
    "print(len(delays))\n",
    "dat = Parallel(n_jobs=-1, verbose=10, backend=\"multiprocessing\")(delays)"
   ]
  },
  {
   "cell_type": "code",
   "execution_count": 15,
   "id": "19c87bec-14a9-46cb-82ec-51e98e6a65a5",
   "metadata": {
    "tags": []
   },
   "outputs": [],
   "source": [
    "base_dir = \"/mnt/data/jmarkow/active_projects/quantum_dots/timecourse_02\"\n",
    "fluo_files = sorted(glob.glob(os.path.join(base_dir, \"**\", \"Basler*fluorescence.avi\"), recursive=True))\n",
    "base_dir = \"/mnt/data/jmarkow/active_projects/quantum_dots/timecourse_02_joints\"\n",
    "fluo_files += sorted(glob.glob(os.path.join(base_dir, \"**\", \"Basler*fluorescence.avi\"), recursive=True))\n",
    "base_dir = \"/mnt/data/jmarkow/active_projects/quantum_dots/timecourse_03\"\n",
    "fluo_files += sorted(glob.glob(os.path.join(base_dir, \"**\", \"Basler*fluorescence.avi\"), recursive=True))"
   ]
  },
  {
   "cell_type": "code",
   "execution_count": 16,
   "id": "61ede1da-7de1-49f0-a8d9-363752bd6d1e",
   "metadata": {},
   "outputs": [],
   "source": [
    "calibration_data = [toml.load(\"/home/jmarkow/data_dir/active_projects/quantum_dots/timecourse_02_calibration_v1.toml\"),\n",
    "                    toml.load(\"/home/jmarkow/data_dir/active_projects/quantum_dots/timecourse_02_calibration_v2.toml\")]"
   ]
  },
  {
   "cell_type": "code",
   "execution_count": 17,
   "id": "2cbbb51a-894f-47d7-8415-cc98bf4fd58f",
   "metadata": {},
   "outputs": [
    {
     "data": {
      "application/vnd.jupyter.widget-view+json": {
       "model_id": "877b2f40aa684abbb2115bcad5307ad9",
       "version_major": 2,
       "version_minor": 0
      },
      "text/plain": [
       "  0%|          | 0/485 [00:00<?, ?it/s]"
      ]
     },
     "metadata": {},
     "output_type": "display_data"
    }
   ],
   "source": [
    "# get subject names and filter that stuff...\n",
    "metadata = {}\n",
    "for _file in tqdm(fluo_files):\n",
    "    metadata[_file] = toml.load(os.path.join(os.path.dirname(_file), \"../metadata.toml\"))"
   ]
  },
  {
   "cell_type": "code",
   "execution_count": 18,
   "id": "9c032120-1e41-4816-9ca1-e43e47bea2c8",
   "metadata": {},
   "outputs": [
    {
     "name": "stdout",
     "output_type": "stream",
     "text": [
      "485\n"
     ]
    },
    {
     "name": "stderr",
     "output_type": "stream",
     "text": [
      "[Parallel(n_jobs=-1)]: Using backend MultiprocessingBackend with 16 concurrent workers.\n",
      "[Parallel(n_jobs=-1)]: Batch computation too fast (0.09774994850158691s.) Setting batch_size=2.\n",
      "[Parallel(n_jobs=-1)]: Done   9 tasks      | elapsed:    0.4s\n",
      "[Parallel(n_jobs=-1)]: Done  18 tasks      | elapsed:    0.4s\n",
      "[Parallel(n_jobs=-1)]: Done  29 tasks      | elapsed:    0.5s\n",
      "[Parallel(n_jobs=-1)]: Batch computation too fast (0.1811513900756836s.) Setting batch_size=4.\n",
      "[Parallel(n_jobs=-1)]: Done  48 tasks      | elapsed:    0.6s\n",
      "[Parallel(n_jobs=-1)]: Done  74 tasks      | elapsed:    0.7s\n",
      "[Parallel(n_jobs=-1)]: Done 104 tasks      | elapsed:    1.0s\n",
      "[Parallel(n_jobs=-1)]: Done 164 tasks      | elapsed:    1.2s\n",
      "[Parallel(n_jobs=-1)]: Done 224 tasks      | elapsed:    1.3s\n",
      "[Parallel(n_jobs=-1)]: Done 292 tasks      | elapsed:    1.5s\n",
      "[Parallel(n_jobs=-1)]: Done 360 tasks      | elapsed:    1.6s\n",
      "[Parallel(n_jobs=-1)]: Batch computation too fast (0.19967468381855916s.) Setting batch_size=8.\n",
      "[Parallel(n_jobs=-1)]: Done 485 out of 485 | elapsed:   45.7s finished\n"
     ]
    }
   ],
   "source": [
    "delays = []\n",
    "for _file in fluo_files:\n",
    "    cam = os.path.basename(_file).replace(\"-fluorescence.avi\", \"\")\n",
    "    timestamp = pd.to_datetime(metadata[_file][\"start_time\"])\n",
    "    if timestamp.floor(\"d\") <= pd.to_datetime(\"2024-06-10\"):\n",
    "        use_calibration_data = calibration_data[0]\n",
    "    else:\n",
    "        use_calibration_data = calibration_data[1]\n",
    "    # for 0610 load v1 after that load v2 calibration data...\n",
    "    delays.append(\n",
    "        delayed(get_average_intensity)(\n",
    "            _file,\n",
    "            force=False,\n",
    "            intrinsic_matrix=np.array(use_calibration_data[\"intrinsics\"][cam]),\n",
    "            distortion_coeffs=np.array(use_calibration_data[\"distortion_coeffs\"][cam])        \n",
    "        )\n",
    "    )\n",
    "print(len(delays))\n",
    "dat2 = Parallel(n_jobs=-1, verbose=10, backend=\"multiprocessing\")(delays)"
   ]
  },
  {
   "cell_type": "code",
   "execution_count": 19,
   "id": "ea1407a2-50af-40ae-b6a9-826f20cf7bfe",
   "metadata": {},
   "outputs": [],
   "source": [
    "dat += dat2"
   ]
  },
  {
   "cell_type": "code",
   "execution_count": 20,
   "id": "6af0b32f-3021-4ba6-a3df-c6716cf716c1",
   "metadata": {},
   "outputs": [],
   "source": [
    "fluo_df = pd.concat(dat, ignore_index=True)\n",
    "# fluo_df = fluo_df.loc[~fluo_df[\"start_time\"].str.contains(\"2024-04-01\")].copy()"
   ]
  },
  {
   "cell_type": "markdown",
   "id": "1295a1fd-7819-4210-9e2e-559e2e13d248",
   "metadata": {},
   "source": [
    "# clean up df and save off"
   ]
  },
  {
   "cell_type": "code",
   "execution_count": 21,
   "id": "3feb23b4-e5c4-4b3e-8278-b20c1828cd64",
   "metadata": {},
   "outputs": [],
   "source": [
    "config = toml.load(\"config.toml\")\n"
   ]
  },
  {
   "cell_type": "code",
   "execution_count": 22,
   "id": "37bd8f8d-0750-444a-baa9-f81f3686d5cb",
   "metadata": {},
   "outputs": [
    {
     "data": {
      "text/plain": [
       "{'dirs': {'analysis': '/home/jmarkow/data_dir/active_projects/quantum_dots/_analysis'},\n",
       " 'aliases': {'vehicle': 'vehicle',\n",
       "  'blank': 'blank',\n",
       "  'exp': 'qd_cell_labels',\n",
       "  'ab_cell': 'qd_cell_labels',\n",
       "  'gel': 'qd_alg_caco3',\n",
       "  'alg': 'qd_alg',\n",
       "  'saqd': 'qd_saqd',\n",
       "  'beads': 'qd_beads',\n",
       "  'collagen': 'qd_conj_coll',\n",
       "  'coll': 'qd_conj_coll_click',\n",
       "  'fibr': 'qd_conj_fibro_click',\n",
       "  'bio_fibr': 'qd_conj_fibro_bio',\n",
       "  'bio_coll': 'qd_conj_coll_bio',\n",
       "  'vasc': 'qd_vascular_labels',\n",
       "  'light_test': 'qd_vascular_labels_high_light'},\n",
       " 'parse_metadata': {'chk_fields': ['notes', 'session']},\n",
       " 'typos': {'subject': {'qd_ep_02': 'qd_exp_02',\n",
       "   'collagen_qd_conjugation_01': 'qd_conjugation_collagen_01',\n",
       "   'collagen_qd_conjugation_02': 'qd_conjugation_collagen_02'}},\n",
       " 'exclusions': {'dates': ['2024-04-01'], 'subjects': []}}"
      ]
     },
     "execution_count": 22,
     "metadata": {},
     "output_type": "execute_result"
    }
   ],
   "source": [
    "config"
   ]
  },
  {
   "cell_type": "code",
   "execution_count": 23,
   "id": "b5cc0061-cf5a-4092-9909-6818cffdf3cc",
   "metadata": {},
   "outputs": [],
   "source": [
    "fluo_df = clean_df(\n",
    "    fluo_df,\n",
    "    exp_types=config[\"aliases\"],\n",
    "    subject_typos=config[\"typos\"][\"subject\"],\n",
    "    chk_fields=config[\"parse_metadata\"][\"chk_fields\"],\n",
    "    exclude_subjects=config[\"exclusions\"][\"subjects\"],\n",
    "    exclude_dates=config[\"exclusions\"][\"dates\"],\n",
    ")"
   ]
  },
  {
   "cell_type": "code",
   "execution_count": 24,
   "id": "db45dc4d-4904-417d-899b-5f6d7bf2bc17",
   "metadata": {},
   "outputs": [],
   "source": [
    "os.makedirs(config[\"dirs\"][\"analysis\"], exist_ok=True)\n",
    "fluo_df.to_parquet(os.path.join(config[\"dirs\"][\"analysis\"], \"fluorescence_intensity_over_time.parquet\"))"
   ]
  },
  {
   "cell_type": "code",
   "execution_count": 25,
   "id": "82903417-0347-4741-8e38-09b6f1062ddb",
   "metadata": {},
   "outputs": [
    {
     "data": {
      "text/plain": [
       "array(['qd_cell_labels', 'blank', 'qd_alg', 'vehicle',\n",
       "       'qd_vascular_labels', 'qd_alg_caco3', 'qd_saqd', 'qd_beads',\n",
       "       'qd_beads_v2', 'null_v2', 'vehicle_v2', 'qd_cell_labels_v2',\n",
       "       'qd_conj_fibro_click_v2', 'qd_conj_coll_click_v2',\n",
       "       'qd_conj_fibro_bio_v2', 'qd_conj_coll_bio_v2'], dtype=object)"
      ]
     },
     "execution_count": 25,
     "metadata": {},
     "output_type": "execute_result"
    }
   ],
   "source": [
    "fluo_df[\"exp_type\"].unique()"
   ]
  },
  {
   "cell_type": "code",
   "execution_count": null,
   "id": "c5d6f614-39ee-46cb-9651-a96b3a86026a",
   "metadata": {},
   "outputs": [],
   "source": []
  },
  {
   "cell_type": "code",
   "execution_count": 26,
   "id": "812e9095-7318-4b56-b654-4661b0f255a8",
   "metadata": {},
   "outputs": [
    {
     "data": {
      "text/plain": [
       "'/mnt/data/jmarkow/active_projects/quantum_dots/timecourse_01/session_20231204114743-438357 (system76-pc)/_proc/Basler-267601741000-24383488-fluorescence.avitest'"
      ]
     },
     "execution_count": 26,
     "metadata": {},
     "output_type": "execute_result"
    }
   ],
   "source": [
    "fluo_df[\"filename\"].apply(lambda x: x + \"test\").iat[0]"
   ]
  },
  {
   "cell_type": "code",
   "execution_count": null,
   "id": "ae2162e2-34f2-4aa3-b699-e4830c9c94e8",
   "metadata": {},
   "outputs": [],
   "source": []
  }
 ],
 "metadata": {
  "kernelspec": {
   "display_name": "Python [conda env:data_analysis]",
   "language": "python",
   "name": "conda-env-data_analysis-py"
  },
  "language_info": {
   "codemirror_mode": {
    "name": "ipython",
    "version": 3
   },
   "file_extension": ".py",
   "mimetype": "text/x-python",
   "name": "python",
   "nbconvert_exporter": "python",
   "pygments_lexer": "ipython3",
   "version": "3.10.0"
  }
 },
 "nbformat": 4,
 "nbformat_minor": 5
}
