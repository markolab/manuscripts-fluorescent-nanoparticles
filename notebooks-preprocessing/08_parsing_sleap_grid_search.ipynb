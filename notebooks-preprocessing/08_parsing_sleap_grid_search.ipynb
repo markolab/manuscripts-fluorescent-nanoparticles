{
 "cells": [
  {
   "cell_type": "code",
   "execution_count": 1,
   "id": "6fdf449c-18e7-4dcc-a194-9de011757c91",
   "metadata": {
    "tags": []
   },
   "outputs": [],
   "source": [
    "%load_ext autoreload\n",
    "%autoreload 2\n",
    "%matplotlib inline"
   ]
  },
  {
   "cell_type": "code",
   "execution_count": 17,
   "id": "52844345-aa05-4c4d-bf9b-b7ff7e10e897",
   "metadata": {},
   "outputs": [],
   "source": [
    "import os\n",
    "import subprocess\n",
    "import io\n",
    "import copy\n",
    "import matplotlib.pyplot as plt\n",
    "import glob\n",
    "import numpy as np\n",
    "import toml\n",
    "import seaborn as sns\n",
    "from tqdm.auto import tqdm\n",
    "# from sleap import Labels, Video, Skeleton\n"
   ]
  },
  {
   "cell_type": "code",
   "execution_count": 3,
   "id": "f719bd0b-90cb-4281-8a91-91baf8253c5d",
   "metadata": {},
   "outputs": [],
   "source": [
    "import json"
   ]
  },
  {
   "cell_type": "code",
   "execution_count": 4,
   "id": "08f078a5-5a3b-4166-b68c-21097824c42f",
   "metadata": {},
   "outputs": [],
   "source": [
    "# load in template"
   ]
  },
  {
   "cell_type": "markdown",
   "id": "8ef1d3ae-b688-4c60-bdb0-a9aad4e7ca1b",
   "metadata": {},
   "source": [
    "# Parse grid search"
   ]
  },
  {
   "cell_type": "markdown",
   "id": "c53afbee-357b-4b5f-b1c4-39f0dfbf573b",
   "metadata": {},
   "source": [
    "1. TODO: need to check mAP test/train to see how robust learning is\n",
    "2. TODO: match 1 with overall performance (maybe equal weighting after normalize?)"
   ]
  },
  {
   "cell_type": "code",
   "execution_count": 5,
   "id": "2edf2f28-43cb-4151-8658-2c7d65f6ef09",
   "metadata": {},
   "outputs": [],
   "source": [
    "save_dir = \"/mnt/data/jmarkow/panels/2024-06 (QD paper)\"\n",
    "os.makedirs(save_dir, exist_ok=True)"
   ]
  },
  {
   "cell_type": "code",
   "execution_count": 6,
   "id": "93e43d33-3e18-4eaf-9be1-0b3dc8490a09",
   "metadata": {},
   "outputs": [
    {
     "name": "stderr",
     "output_type": "stream",
     "text": [
      "2024-08-20 01:51:30.067121: W tensorflow/stream_executor/platform/default/dso_loader.cc:64] Could not load dynamic library 'libcudart.so.11.0'; dlerror: libcudart.so.11.0: cannot open shared object file: No such file or directory; LD_LIBRARY_PATH: /home/jmarkow/miniconda3/envs/sleap-analysis/lib/python3.10/site-packages/cv2/../../lib64:\n",
      "2024-08-20 01:51:30.067177: I tensorflow/stream_executor/cuda/cudart_stub.cc:29] Ignore above cudart dlerror if you do not have a GPU set up on your machine.\n"
     ]
    }
   ],
   "source": [
    "import sleap\n",
    "import pandas as pd\n",
    "import re\n",
    "from qd_analysis.fig import setup_plotting_env"
   ]
  },
  {
   "cell_type": "markdown",
   "id": "3d6acf5d-4a7c-46f5-a49f-cc4cb0f89703",
   "metadata": {},
   "source": [
    "# "
   ]
  },
  {
   "cell_type": "code",
   "execution_count": 169,
   "id": "1984ba12-0ede-44b9-81d7-082397e72445",
   "metadata": {},
   "outputs": [],
   "source": [
    "# gridsearch_dir = [\"/home/jmarkow/data_dir/active_projects/keypoints_basler_nir_plexiglass_arena/sleap_training/gridsearch_4[8-9]/models/\",\n",
    "#                   \"/home/jmarkow/data_dir/active_projects/keypoints_basler_nir_plexiglass_arena/sleap_training/gridsearch_50/models/\"\n",
    "#                  ]\n",
    "# gridsearch_dir = [\"/home/jmarkow/data_dir/active_projects/keypoints_basler_nir_plexiglass_arena/sleap_training/gridsearch_qds_06/\",\n",
    "#                   \"/home/jmarkow/data_dir/active_projects/keypoints_basler_nir_plexiglass_arena/sleap_training/gridsearch_qds_07/\",\n",
    "#                   \"/home/jmarkow/data_dir/active_projects/keypoints_basler_nir_plexiglass_arena/sleap_training/gridsearch_qds_08/\",\n",
    "#                   \"/home/jmarkow/data_dir/active_projects/keypoints_basler_nir_plexiglass_arena/sleap_training/gridsearch_qds_camholdout_00/\",\n",
    "#                   \"/home/jmarkow/data_dir/active_projects/keypoints_basler_nir_plexiglass_arena/sleap_training/gridsearch_qds_camholdout_01/\",\n",
    "#                   \"/home/jmarkow/data_dir/active_projects/keypoints_basler_nir_plexiglass_arena/sleap_training/gridsearch_qds_samecam_00/\",\n",
    "#                   \"/home/jmarkow/data_dir/active_projects/keypoints_basler_nir_plexiglass_arena/sleap_training/gridsearch_qds_samecam_01/\",\n",
    "#                  ]\n",
    "\n",
    "# gridsearch_dir = [\"/home/jmarkow/data_dir/active_projects/keypoints_basler_nir_plexiglass_arena/sleap_training/gridsearch_fused_v2_03\",\n",
    "#                   \"/home/jmarkow/data_dir/active_projects/keypoints_basler_nir_plexiglass_arena/sleap_training/gridsearch_fused_v2_04\"\n",
    "#                  ]\n",
    "\n",
    "gridsearch_dir = [\n",
    "    \"/home/jmarkow/data_dir/active_projects/keypoints_basler_nir_plexiglass_arena/sleap_training/gridsearch_qds_v2_01/\",\n",
    "    \"/home/jmarkow/data_dir/active_projects/keypoints_basler_nir_plexiglass_arena/sleap_training/gridsearch_qds_v2_samecam_01/\",\n",
    "    \"/home/jmarkow/data_dir/active_projects/keypoints_basler_nir_plexiglass_arena/sleap_training/gridsearch_qds_v2_camholdout_01/\"\n",
    "]\n",
    "\n",
    "gridsearch_dir = [\n",
    "    \"/home/jmarkow/data_dir/active_projects/keypoints_basler_nir_plexiglass_arena/sleap_training/gridsearch_qds_kneejoints_01/\",\n",
    "    \"/home/jmarkow/data_dir/active_projects/keypoints_basler_nir_plexiglass_arena/sleap_training/gridsearch_qds_kneejoints_samecam_01/\",\n",
    "    \"/home/jmarkow/data_dir/active_projects/keypoints_basler_nir_plexiglass_arena/sleap_training/gridsearch_qds_kneejoints_camholdout_01/\"\n",
    "]\n",
    "\n",
    "training_configs_fnames = []\n",
    "for _dir in gridsearch_dir:\n",
    "    training_configs_fnames += glob.glob(os.path.join(_dir, \"**/initial_config.json\"), recursive=True)"
   ]
  },
  {
   "cell_type": "code",
   "execution_count": 170,
   "id": "d75bbf42-ac66-4ac1-9a65-5d5c2071fdfe",
   "metadata": {},
   "outputs": [],
   "source": [
    "import natsort"
   ]
  },
  {
   "cell_type": "code",
   "execution_count": 171,
   "id": "f526bd0b-243b-4c9b-b31b-e105c3f3cd05",
   "metadata": {},
   "outputs": [],
   "source": [
    "training_configs_fnames = natsort.natsorted(training_configs_fnames)"
   ]
  },
  {
   "cell_type": "code",
   "execution_count": 172,
   "id": "96a21b21-a370-4f68-b992-323ed8ac1d8d",
   "metadata": {},
   "outputs": [
    {
     "data": {
      "application/vnd.jupyter.widget-view+json": {
       "model_id": "8555070f1f9041f1a2562b9cd08539c8",
       "version_major": 2,
       "version_minor": 0
      },
      "text/plain": [
       "  0%|          | 0/135 [00:00<?, ?it/s]"
      ]
     },
     "metadata": {},
     "output_type": "display_data"
    },
    {
     "name": "stderr",
     "output_type": "stream",
     "text": [
      "/home/jmarkow/miniconda3/envs/sleap-analysis/lib/python3.10/site-packages/sleap/nn/evals.py:539: RuntimeWarning: Mean of empty slice\n",
      "  \"dist.avg\": np.nanmean(dists),\n",
      "/home/jmarkow/miniconda3/envs/sleap-analysis/lib/python3.10/site-packages/sleap/nn/evals.py:572: RuntimeWarning: Mean of empty slice.\n",
      "  mPCK = mPCK_parts.mean()\n",
      "/home/jmarkow/miniconda3/envs/sleap-analysis/lib/python3.10/site-packages/numpy/core/_methods.py:129: RuntimeWarning: invalid value encountered in scalar divide\n",
      "  ret = ret.dtype.type(ret / rcount)\n",
      "/home/jmarkow/miniconda3/envs/sleap-analysis/lib/python3.10/site-packages/sleap/nn/evals.py:666: RuntimeWarning: Mean of empty slice.\n",
      "  pair_pck = metrics[\"pck.pcks\"].mean(axis=-1).mean(axis=-1)\n",
      "/home/jmarkow/miniconda3/envs/sleap-analysis/lib/python3.10/site-packages/numpy/core/_methods.py:121: RuntimeWarning: invalid value encountered in divide\n",
      "  ret = um.true_divide(\n",
      "/home/jmarkow/miniconda3/envs/sleap-analysis/lib/python3.10/site-packages/sleap/nn/evals.py:668: RuntimeWarning: Mean of empty slice.\n",
      "  metrics[\"oks.mOKS\"] = pair_oks.mean()\n",
      "/tmp/ipykernel_2247616/3695910308.py:46: RuntimeWarning: Mean of empty slice\n",
      "  node_dists = np.nanmean(val_metric[\"dist.dists\"], axis=0)\n"
     ]
    }
   ],
   "source": [
    "all_metrics = []\n",
    "for _config_fname in tqdm(training_configs_fnames):\n",
    "    # dir\n",
    "    param_dct = {}\n",
    "    use_dir = os.path.dirname(_config_fname)\n",
    "    param_dir = os.path.basename(use_dir)\n",
    "\n",
    "    val_metric_fname = os.path.join(use_dir, \"metrics.val.npz\")\n",
    "    train_metric_fname = os.path.join(use_dir, \"metrics.train.npz\")\n",
    "\n",
    "    if \"hindleg\" or \"joint\" in _config_fname:\n",
    "        try:\n",
    "            # need to recompute for single node skeletons...\n",
    "            labels_gt = sleap.load_file(os.path.join(use_dir, \"labels_gt.val.slp\"))\n",
    "            labels_pr = sleap.load_file(os.path.join(use_dir, \"labels_pr.val.slp\"))\n",
    "    \n",
    "            # manually give the scale here..\n",
    "            val_metric = sleap.nn.evals.evaluate(\n",
    "                    labels_gt, labels_pr, oks_scale=150, user_labels_only=True \n",
    "            )\n",
    "            labels_gt = sleap.load_file(os.path.join(use_dir, \"labels_gt.train.slp\"))\n",
    "            labels_pr = sleap.load_file(os.path.join(use_dir, \"labels_pr.train.slp\"))\n",
    "            train_metric = sleap.nn.evals.evaluate(\n",
    "                    labels_gt, labels_pr, oks_scale=150, user_labels_only=True\n",
    "            )\n",
    "        except (IndexError, FileNotFoundError):\n",
    "            continue\n",
    "    else:\n",
    "        try:\n",
    "            val_metric = sleap.load_metrics(val_metric_fname)\n",
    "            train_metric = sleap.load_metrics(train_metric_fname)\n",
    "        except FileNotFoundError:\n",
    "            continue\n",
    "\n",
    "    with open(_config_fname, \"r\") as f:\n",
    "        initial_config = json.load(f)\n",
    "\n",
    "    with open(os.path.join(use_dir, \"training_config.json\"), \"r\") as f:\n",
    "        training_config = json.load(f)\n",
    "\n",
    "    total_nframes = len(training_config[\"data\"][\"labels\"][\"training_inds\"] + training_config[\"data\"][\"labels\"][\"validation_inds\"])\n",
    "    training_nframes = len(training_config[\"data\"][\"labels\"][\"training_inds\"])\n",
    "    \n",
    "    slp_data = sleap.load_file(os.path.join(use_dir, \"labels_gt.train.slp\"))\n",
    "    node_names = [_.name for _ in slp_data.skeletons[0].nodes]\n",
    "    node_dists = np.nanmean(val_metric[\"dist.dists\"], axis=0)\n",
    "    node_dists_std = np.nanstd(val_metric[\"dist.dists\"])\n",
    "    \n",
    "    for _name, _dist in zip(node_names, node_dists):\n",
    "        param_dct[f\"val_dist_{_name}\"] = _dist\n",
    "    \n",
    "    param_dct[\"val_mDist\"] = np.nanmean(val_metric[\"dist.dists\"])\n",
    "    param_dct[\"val_mDist_std\"] = np.nanmean(node_dists_std)\n",
    "    param_dct[\"val_dist_max\"] = np.nanmax(val_metric[\"dist.dists\"])\n",
    "    param_dct[\"val_dist.p50\"] = np.nanmean(val_metric[\"dist.p50\"])\n",
    "    param_dct[\"val_dist.p90\"] = np.nanmean(val_metric[\"dist.p90\"])\n",
    "    param_dct[\"val_dist.p99\"] = np.nanmean(val_metric[\"dist.p99\"])\n",
    "    param_dct[\"val_map\"] = val_metric[\"oks_voc.mAP\"]\n",
    "    param_dct[\"train_mDist\"] = np.nanmean(train_metric[\"dist.avg\"])\n",
    "    param_dct[\"train_map\"] = train_metric[\"oks_voc.mAP\"]\n",
    "    param_dct[\"basename\"] = os.path.basename(os.path.dirname(_config_fname))\n",
    "    param_dct[\"nframes\"] = total_nframes\n",
    "    param_dct[\"nframes_training\"] = training_nframes\n",
    "    param_dct[\"nframes_training_raw\"] = training_nframes\n",
    "    param_dct[\"condition\"] = \"all\"\n",
    "\n",
    "    if \"holdoutcam\" in param_dct[\"basename\"]:\n",
    "        param_dct[\"condition\"] = \"different\"\n",
    "        # param_dct[\"nframes_training\"] = heldout_bins[np.argmin(np.abs(training_nframes - np.array(heldout_bins)))] \n",
    "    elif \"samecam\" in param_dct[\"basename\"]:\n",
    "        param_dct[\"condition\"] = \"same\"\n",
    "        # param_dct[\"nframes_training\"] = heldout_bins[np.argmin(np.abs(training_nframes - np.array(heldout_bins)))] \n",
    "\n",
    "    param_dct[\"is_joint\"] = \"joint\" in _config_fname\n",
    "    # df.loc[df[\"basename\"].str.contains(\"holdoutcam\"),\"condition\"] = \"out_distribution_cam\"    \n",
    "    all_metrics.append(param_dct)"
   ]
  },
  {
   "cell_type": "code",
   "execution_count": 173,
   "id": "f88687ae-bcca-4f05-ad87-234e84cc0d69",
   "metadata": {},
   "outputs": [],
   "source": [
    "df = pd.DataFrame(all_metrics)\n",
    "df = df.query(\"nframes_training_raw > 50\")"
   ]
  },
  {
   "cell_type": "code",
   "execution_count": 174,
   "id": "21934e78-c11b-4657-aecd-440893f4e540",
   "metadata": {},
   "outputs": [],
   "source": [
    "df[\"val_dist_hindleg_ave\"] = df.filter(regex=\"val_dist_hindleg\").mean(axis=1)"
   ]
  },
  {
   "cell_type": "code",
   "execution_count": 175,
   "id": "cbff915b-0f0d-4155-957c-05a42387e9ef",
   "metadata": {},
   "outputs": [],
   "source": [
    "dist_columns = list(df.filter(regex=\"val_dist_[a-z].*\").columns)"
   ]
  },
  {
   "cell_type": "code",
   "execution_count": 176,
   "id": "2b0f6717-d782-42dc-9fb8-033aea092ffc",
   "metadata": {},
   "outputs": [],
   "source": [
    "plt_df = df.set_index([\"is_joint\",\"nframes_training\"])[dist_columns].melt(ignore_index=False).reset_index()"
   ]
  },
  {
   "cell_type": "code",
   "execution_count": 177,
   "id": "e058cbc8-5a63-4fa2-b9cd-08854a976762",
   "metadata": {},
   "outputs": [],
   "source": [
    "import seaborn as sns"
   ]
  },
  {
   "cell_type": "code",
   "execution_count": 178,
   "id": "0b25b811-2785-4a0c-8660-77e5f47131b1",
   "metadata": {},
   "outputs": [],
   "source": [
    "setup_plotting_env()"
   ]
  },
  {
   "cell_type": "code",
   "execution_count": 179,
   "id": "8f41ee8f-26b3-4ff2-9189-3186ab32ab35",
   "metadata": {},
   "outputs": [],
   "source": [
    "sns.set_context(\"paper\", font_scale=.8)"
   ]
  },
  {
   "cell_type": "code",
   "execution_count": 180,
   "id": "e995ce71-3598-469d-bf85-b8dc41b93452",
   "metadata": {},
   "outputs": [],
   "source": [
    "from mpl_toolkits.axes_grid1.inset_locator import inset_axes\n"
   ]
  },
  {
   "cell_type": "code",
   "execution_count": 181,
   "id": "ca4c3022-89a3-4c9d-8cab-2be5de465b0a",
   "metadata": {},
   "outputs": [],
   "source": [
    "from sklearn.linear_model import (\n",
    "    RANSACRegressor,\n",
    ")\n",
    "from sklearn.metrics import mean_squared_error\n",
    "from sklearn.pipeline import make_pipeline\n",
    "from sklearn.preprocessing import PolynomialFeatures"
   ]
  },
  {
   "cell_type": "code",
   "execution_count": 182,
   "id": "60bfc104-2f75-410a-9743-e878460cf04d",
   "metadata": {},
   "outputs": [],
   "source": [
    "estimator = RANSACRegressor()"
   ]
  },
  {
   "cell_type": "code",
   "execution_count": 183,
   "id": "851f80eb-f476-4d2a-a8e3-6b6338c2e87e",
   "metadata": {},
   "outputs": [],
   "source": [
    "def fit_curve(\n",
    "    df,\n",
    "    x=\"nframes_training_raw\",\n",
    "    y=\"val_mDist\",\n",
    "    degree=2,\n",
    "    log_transform=True,\n",
    "    domain=(100, int(1.1e5)),\n",
    "    # eval_points=np.arange(100, int(1.1e5), 100),\n",
    "):\n",
    "    eval_points = np.arange(domain[0], domain[1], 100)\n",
    "    use_x, use_y = df[x].values, df[y].values\n",
    "    idx = (use_x >= domain[0]) & (use_x <= domain[1])\n",
    "    use_x = use_x[idx]\n",
    "    use_y = use_y[idx]\n",
    "    model = make_pipeline(PolynomialFeatures(degree), estimator)\n",
    "    if log_transform:\n",
    "        use_x = np.log(use_x[:, None])\n",
    "        eval_points_hat = np.log(eval_points[:, None])\n",
    "    else:\n",
    "        use_x = use_x[:, None]\n",
    "        eval_points_hat = eval_points[:, None]\n",
    "    try:\n",
    "        model.fit(use_x, use_y)\n",
    "    except ValueError:\n",
    "        return None\n",
    "    return eval_points, model.predict(eval_points_hat)"
   ]
  },
  {
   "cell_type": "code",
   "execution_count": 184,
   "id": "3cbe3779-2657-451b-ae36-88c5d4003336",
   "metadata": {},
   "outputs": [],
   "source": [
    "#def get_ci(df, func=):\n",
    "    # "
   ]
  },
  {
   "cell_type": "code",
   "execution_count": 185,
   "id": "00fafc2c-19d0-4f42-9f05-61b14069e7b6",
   "metadata": {},
   "outputs": [],
   "source": [
    "precision = 1e3\n",
    "max_range = (np.ceil(df.groupby(\"condition\")[\"nframes_training_raw\"].max() / precision) * precision).astype(\"int\")"
   ]
  },
  {
   "cell_type": "code",
   "execution_count": 186,
   "id": "c087ca6a-12a4-4ec4-9c7e-a10434cbf15a",
   "metadata": {},
   "outputs": [
    {
     "data": {
      "application/vnd.jupyter.widget-view+json": {
       "model_id": "fef00d6c90ab404881bc748958f5b841",
       "version_major": 2,
       "version_minor": 0
      },
      "text/plain": [
       "  0%|          | 0/1000 [00:00<?, ?it/s]"
      ]
     },
     "metadata": {},
     "output_type": "display_data"
    },
    {
     "name": "stderr",
     "output_type": "stream",
     "text": [
      "/home/jmarkow/miniconda3/envs/sleap-analysis/lib/python3.10/site-packages/sklearn/metrics/_regression.py:796: UndefinedMetricWarning: R^2 score is not well-defined with less than two samples.\n",
      "  warnings.warn(msg, UndefinedMetricWarning)\n",
      "/home/jmarkow/miniconda3/envs/sleap-analysis/lib/python3.10/site-packages/sklearn/metrics/_regression.py:796: UndefinedMetricWarning: R^2 score is not well-defined with less than two samples.\n",
      "  warnings.warn(msg, UndefinedMetricWarning)\n",
      "/home/jmarkow/miniconda3/envs/sleap-analysis/lib/python3.10/site-packages/sklearn/metrics/_regression.py:796: UndefinedMetricWarning: R^2 score is not well-defined with less than two samples.\n",
      "  warnings.warn(msg, UndefinedMetricWarning)\n",
      "/home/jmarkow/miniconda3/envs/sleap-analysis/lib/python3.10/site-packages/sklearn/metrics/_regression.py:796: UndefinedMetricWarning: R^2 score is not well-defined with less than two samples.\n",
      "  warnings.warn(msg, UndefinedMetricWarning)\n",
      "/home/jmarkow/miniconda3/envs/sleap-analysis/lib/python3.10/site-packages/sklearn/metrics/_regression.py:796: UndefinedMetricWarning: R^2 score is not well-defined with less than two samples.\n",
      "  warnings.warn(msg, UndefinedMetricWarning)\n",
      "/home/jmarkow/miniconda3/envs/sleap-analysis/lib/python3.10/site-packages/sklearn/metrics/_regression.py:796: UndefinedMetricWarning: R^2 score is not well-defined with less than two samples.\n",
      "  warnings.warn(msg, UndefinedMetricWarning)\n",
      "/home/jmarkow/miniconda3/envs/sleap-analysis/lib/python3.10/site-packages/sklearn/metrics/_regression.py:796: UndefinedMetricWarning: R^2 score is not well-defined with less than two samples.\n",
      "  warnings.warn(msg, UndefinedMetricWarning)\n",
      "/home/jmarkow/miniconda3/envs/sleap-analysis/lib/python3.10/site-packages/sklearn/metrics/_regression.py:796: UndefinedMetricWarning: R^2 score is not well-defined with less than two samples.\n",
      "  warnings.warn(msg, UndefinedMetricWarning)\n",
      "/home/jmarkow/miniconda3/envs/sleap-analysis/lib/python3.10/site-packages/sklearn/metrics/_regression.py:796: UndefinedMetricWarning: R^2 score is not well-defined with less than two samples.\n",
      "  warnings.warn(msg, UndefinedMetricWarning)\n",
      "/home/jmarkow/miniconda3/envs/sleap-analysis/lib/python3.10/site-packages/sklearn/metrics/_regression.py:796: UndefinedMetricWarning: R^2 score is not well-defined with less than two samples.\n",
      "  warnings.warn(msg, UndefinedMetricWarning)\n",
      "/home/jmarkow/miniconda3/envs/sleap-analysis/lib/python3.10/site-packages/sklearn/metrics/_regression.py:796: UndefinedMetricWarning: R^2 score is not well-defined with less than two samples.\n",
      "  warnings.warn(msg, UndefinedMetricWarning)\n",
      "/home/jmarkow/miniconda3/envs/sleap-analysis/lib/python3.10/site-packages/sklearn/metrics/_regression.py:796: UndefinedMetricWarning: R^2 score is not well-defined with less than two samples.\n",
      "  warnings.warn(msg, UndefinedMetricWarning)\n",
      "/home/jmarkow/miniconda3/envs/sleap-analysis/lib/python3.10/site-packages/sklearn/metrics/_regression.py:796: UndefinedMetricWarning: R^2 score is not well-defined with less than two samples.\n",
      "  warnings.warn(msg, UndefinedMetricWarning)\n",
      "/home/jmarkow/miniconda3/envs/sleap-analysis/lib/python3.10/site-packages/sklearn/metrics/_regression.py:796: UndefinedMetricWarning: R^2 score is not well-defined with less than two samples.\n",
      "  warnings.warn(msg, UndefinedMetricWarning)\n",
      "/home/jmarkow/miniconda3/envs/sleap-analysis/lib/python3.10/site-packages/sklearn/metrics/_regression.py:796: UndefinedMetricWarning: R^2 score is not well-defined with less than two samples.\n",
      "  warnings.warn(msg, UndefinedMetricWarning)\n",
      "/home/jmarkow/miniconda3/envs/sleap-analysis/lib/python3.10/site-packages/sklearn/metrics/_regression.py:796: UndefinedMetricWarning: R^2 score is not well-defined with less than two samples.\n",
      "  warnings.warn(msg, UndefinedMetricWarning)\n",
      "/home/jmarkow/miniconda3/envs/sleap-analysis/lib/python3.10/site-packages/sklearn/metrics/_regression.py:796: UndefinedMetricWarning: R^2 score is not well-defined with less than two samples.\n",
      "  warnings.warn(msg, UndefinedMetricWarning)\n",
      "/home/jmarkow/miniconda3/envs/sleap-analysis/lib/python3.10/site-packages/sklearn/metrics/_regression.py:796: UndefinedMetricWarning: R^2 score is not well-defined with less than two samples.\n",
      "  warnings.warn(msg, UndefinedMetricWarning)\n",
      "/home/jmarkow/miniconda3/envs/sleap-analysis/lib/python3.10/site-packages/sklearn/metrics/_regression.py:796: UndefinedMetricWarning: R^2 score is not well-defined with less than two samples.\n",
      "  warnings.warn(msg, UndefinedMetricWarning)\n",
      "/home/jmarkow/miniconda3/envs/sleap-analysis/lib/python3.10/site-packages/sklearn/metrics/_regression.py:796: UndefinedMetricWarning: R^2 score is not well-defined with less than two samples.\n",
      "  warnings.warn(msg, UndefinedMetricWarning)\n",
      "/home/jmarkow/miniconda3/envs/sleap-analysis/lib/python3.10/site-packages/sklearn/metrics/_regression.py:796: UndefinedMetricWarning: R^2 score is not well-defined with less than two samples.\n",
      "  warnings.warn(msg, UndefinedMetricWarning)\n",
      "/home/jmarkow/miniconda3/envs/sleap-analysis/lib/python3.10/site-packages/sklearn/metrics/_regression.py:796: UndefinedMetricWarning: R^2 score is not well-defined with less than two samples.\n",
      "  warnings.warn(msg, UndefinedMetricWarning)\n",
      "/home/jmarkow/miniconda3/envs/sleap-analysis/lib/python3.10/site-packages/sklearn/metrics/_regression.py:796: UndefinedMetricWarning: R^2 score is not well-defined with less than two samples.\n",
      "  warnings.warn(msg, UndefinedMetricWarning)\n",
      "/home/jmarkow/miniconda3/envs/sleap-analysis/lib/python3.10/site-packages/sklearn/metrics/_regression.py:796: UndefinedMetricWarning: R^2 score is not well-defined with less than two samples.\n",
      "  warnings.warn(msg, UndefinedMetricWarning)\n",
      "/home/jmarkow/miniconda3/envs/sleap-analysis/lib/python3.10/site-packages/sklearn/metrics/_regression.py:796: UndefinedMetricWarning: R^2 score is not well-defined with less than two samples.\n",
      "  warnings.warn(msg, UndefinedMetricWarning)\n"
     ]
    }
   ],
   "source": [
    "# repeat this 1000 times\n",
    "fits = []\n",
    "nboots = 1000\n",
    "# take percentiles, yadda yadda\n",
    "for _boot in tqdm(range(nboots)):\n",
    "    fits.append(\n",
    "        df.groupby(\"condition\")[[\"nframes_training_raw\", \"val_mDist\"]].apply(\n",
    "            lambda x: fit_curve(\n",
    "                x.sample(len(x), replace=True),\n",
    "                degree=1,\n",
    "                domain=(100, max_range[x.name]),\n",
    "            )\n",
    "        )\n",
    "    )"
   ]
  },
  {
   "cell_type": "code",
   "execution_count": 187,
   "id": "56808a76-3ba7-40d2-9ada-9649ba492089",
   "metadata": {},
   "outputs": [],
   "source": [
    "all_fits = (\n",
    "    df.groupby(\"condition\")[[\"nframes_training_raw\", \"val_mDist\"]].apply(\n",
    "        lambda x: fit_curve(\n",
    "            x,\n",
    "            degree=1,\n",
    "            domain=(100, max_range[x.name]),\n",
    "        )\n",
    "    )\n",
    ")"
   ]
  },
  {
   "cell_type": "code",
   "execution_count": 188,
   "id": "267a3bf0-be7c-47e4-b824-d63dcb8cad06",
   "metadata": {},
   "outputs": [],
   "source": [
    "conditions = sorted(df[\"condition\"].unique())"
   ]
  },
  {
   "cell_type": "code",
   "execution_count": 189,
   "id": "6900e088-e346-44c3-942b-5d9ec73ad87b",
   "metadata": {},
   "outputs": [],
   "source": [
    "boot_fits = {}\n",
    "cis = {}\n",
    "colors = {k: v for k, v in zip(conditions, sns.color_palette())}\n",
    "for _condition in conditions:\n",
    "    boot_fits[_condition] = np.vstack([_fit.loc[_condition][1] for _fit in fits if _fit.loc[_condition] is not None])"
   ]
  },
  {
   "cell_type": "code",
   "execution_count": 190,
   "id": "499b51ae-0644-45c5-b8c1-ef3044338615",
   "metadata": {},
   "outputs": [],
   "source": [
    "# thresholds = [6.12, 4.9, 2.45] # 2.5, 2, 1\n",
    "thresholds = [4.9, 2.45]"
   ]
  },
  {
   "cell_type": "code",
   "execution_count": 191,
   "id": "2bbbde85-3a00-44b7-ad7e-b44f7282e91c",
   "metadata": {},
   "outputs": [],
   "source": [
    "eval_points = {_condition: all_fits.loc[_condition][0] for _condition in conditions}"
   ]
  },
  {
   "cell_type": "code",
   "execution_count": 192,
   "id": "f8fa0830-126f-4452-9efa-8199096ee2f4",
   "metadata": {
    "scrolled": true
   },
   "outputs": [],
   "source": [
    "# get threshold crossing.\n",
    "\n",
    "crossings = {}\n",
    "for _threshold in thresholds:\n",
    "    crossings[_threshold] = {}\n",
    "    for _condition in conditions:\n",
    "        crossings[_threshold][_condition] = []\n",
    "        med_fit = all_fits[_condition][1]\n",
    "        crossed = med_fit < _threshold\n",
    "        try:\n",
    "            crossings[_threshold][_condition] = eval_points[_condition][np.flatnonzero(crossed).min()]\n",
    "        except ValueError:\n",
    "            crossings[_threshold][_condition] = np.nan"
   ]
  },
  {
   "cell_type": "code",
   "execution_count": 193,
   "id": "eefafb50-b2b3-49a1-819a-2980685d9fc4",
   "metadata": {},
   "outputs": [
    {
     "data": {
      "text/plain": [
       "{4.9: {'all': 400, 'different': 500, 'same': 100},\n",
       " 2.45: {'all': 6800, 'different': nan, 'same': 2300}}"
      ]
     },
     "execution_count": 193,
     "metadata": {},
     "output_type": "execute_result"
    }
   ],
   "source": [
    "crossings"
   ]
  },
  {
   "cell_type": "code",
   "execution_count": 194,
   "id": "d14c2190-3bde-4d26-8fb9-d4562e488d21",
   "metadata": {},
   "outputs": [],
   "source": [
    "linestyles = [\"--\", \":\"]"
   ]
  },
  {
   "cell_type": "code",
   "execution_count": 196,
   "id": "357c6249-9e9f-4d96-a7c6-b62d21260363",
   "metadata": {},
   "outputs": [],
   "source": [
    "magnification = .008 / .3048 # focal length / object distance\n",
    "pixelsize = 5.5e-6"
   ]
  },
  {
   "cell_type": "code",
   "execution_count": 197,
   "id": "4bb24fa3-bfcf-43ac-ab59-ba1423b92cfa",
   "metadata": {},
   "outputs": [],
   "source": [
    "nyquist_limit = pixelsize / magnification * 2.3 * 1e3 # convert to mm"
   ]
  },
  {
   "cell_type": "code",
   "execution_count": 198,
   "id": "da8b20e8-da98-40ac-9103-2c098ba34629",
   "metadata": {},
   "outputs": [],
   "source": [
    "# nyquist_limit = .515 # pixelsize / magnification * 2.3\n",
    "mm_per_px = 0.4086988622772185 # at 12 inches away"
   ]
  },
  {
   "cell_type": "code",
   "execution_count": 199,
   "id": "fc66a3b6-8c53-4205-8585-367d02eaeaa9",
   "metadata": {},
   "outputs": [],
   "source": [
    "theoretical_limit = nyquist_limit / mm_per_px"
   ]
  },
  {
   "cell_type": "code",
   "execution_count": 200,
   "id": "9fb103b4-a895-48f9-a20e-aef2dda13118",
   "metadata": {},
   "outputs": [],
   "source": [
    "if \"joint\" in gridsearch_dir[0]:\n",
    "    save_fname = \"keypoint_pixel_error_scaling_noinset_joints.pdf\"\n",
    "    ylim = (1, 50)\n",
    "    xlim = (100, 3e4)\n",
    "else:\n",
    "    save_fname = \"keypoint_pixel_error_scaling_noinset.pdf\"\n",
    "    ylim = (1, 30)\n",
    "    xlim = (100, 1e5)"
   ]
  },
  {
   "cell_type": "code",
   "execution_count": 201,
   "id": "987852f9-e9c5-4453-8e41-f787238558b2",
   "metadata": {},
   "outputs": [],
   "source": [
    "setup_plotting_env()"
   ]
  },
  {
   "cell_type": "code",
   "execution_count": 202,
   "id": "82d78959-5a0b-4a80-b936-407851675e4e",
   "metadata": {},
   "outputs": [
    {
     "name": "stdout",
     "output_type": "stream",
     "text": [
      "INFO:fontTools.subset:maxp pruned\n",
      "INFO:fontTools.subset:LTSH dropped\n",
      "INFO:fontTools.subset:cmap pruned\n",
      "INFO:fontTools.subset:kern pruned\n",
      "INFO:fontTools.subset:post pruned\n",
      "INFO:fontTools.subset:PCLT dropped\n",
      "INFO:fontTools.subset:JSTF dropped\n",
      "INFO:fontTools.subset:DSIG dropped\n",
      "INFO:fontTools.subset:GSUB pruned\n",
      "INFO:fontTools.subset:glyf pruned\n",
      "INFO:fontTools.subset:Added gid0 to subset\n",
      "INFO:fontTools.subset:Added first four glyphs to subset\n",
      "INFO:fontTools.subset:Closing glyph list over 'GSUB': 31 glyphs before\n",
      "INFO:fontTools.subset:Glyph names: ['.notdef', '.null', 'N', 'P', 'a', 'colon', 'd', 'e', 'f', 'four', 'g', 'h', 'i', 'l', 'm', 'n', 'nonmarkingreturn', 'o', 'one', 'parenleft', 'parenright', 'q', 'r', 's', 'space', 't', 'three', 'two', 'x', 'y', 'zero']\n",
      "INFO:fontTools.subset:Glyph IDs:   [0, 1, 2, 3, 11, 12, 19, 20, 21, 22, 23, 29, 49, 51, 68, 71, 72, 73, 74, 75, 76, 79, 80, 81, 82, 84, 85, 86, 87, 91, 92]\n",
      "INFO:fontTools.subset:Closed glyph list over 'GSUB': 31 glyphs after\n",
      "INFO:fontTools.subset:Glyph names: ['.notdef', '.null', 'N', 'P', 'a', 'colon', 'd', 'e', 'f', 'four', 'g', 'h', 'i', 'l', 'm', 'n', 'nonmarkingreturn', 'o', 'one', 'parenleft', 'parenright', 'q', 'r', 's', 'space', 't', 'three', 'two', 'x', 'y', 'zero']\n",
      "INFO:fontTools.subset:Glyph IDs:   [0, 1, 2, 3, 11, 12, 19, 20, 21, 22, 23, 29, 49, 51, 68, 71, 72, 73, 74, 75, 76, 79, 80, 81, 82, 84, 85, 86, 87, 91, 92]\n",
      "INFO:fontTools.subset:Closing glyph list over 'glyf': 31 glyphs before\n",
      "INFO:fontTools.subset:Glyph names: ['.notdef', '.null', 'N', 'P', 'a', 'colon', 'd', 'e', 'f', 'four', 'g', 'h', 'i', 'l', 'm', 'n', 'nonmarkingreturn', 'o', 'one', 'parenleft', 'parenright', 'q', 'r', 's', 'space', 't', 'three', 'two', 'x', 'y', 'zero']\n",
      "INFO:fontTools.subset:Glyph IDs:   [0, 1, 2, 3, 11, 12, 19, 20, 21, 22, 23, 29, 49, 51, 68, 71, 72, 73, 74, 75, 76, 79, 80, 81, 82, 84, 85, 86, 87, 91, 92]\n",
      "INFO:fontTools.subset:Closed glyph list over 'glyf': 31 glyphs after\n",
      "INFO:fontTools.subset:Glyph names: ['.notdef', '.null', 'N', 'P', 'a', 'colon', 'd', 'e', 'f', 'four', 'g', 'h', 'i', 'l', 'm', 'n', 'nonmarkingreturn', 'o', 'one', 'parenleft', 'parenright', 'q', 'r', 's', 'space', 't', 'three', 'two', 'x', 'y', 'zero']\n",
      "INFO:fontTools.subset:Glyph IDs:   [0, 1, 2, 3, 11, 12, 19, 20, 21, 22, 23, 29, 49, 51, 68, 71, 72, 73, 74, 75, 76, 79, 80, 81, 82, 84, 85, 86, 87, 91, 92]\n",
      "INFO:fontTools.subset:Retaining 31 glyphs\n",
      "INFO:fontTools.subset:head subsetting not needed\n",
      "INFO:fontTools.subset:hhea subsetting not needed\n",
      "INFO:fontTools.subset:maxp subsetting not needed\n",
      "INFO:fontTools.subset:OS/2 subsetting not needed\n",
      "INFO:fontTools.subset:hmtx subsetted\n",
      "INFO:fontTools.subset:VDMX subsetting not needed\n",
      "INFO:fontTools.subset:hdmx subsetted\n",
      "INFO:fontTools.subset:cmap subsetted\n",
      "INFO:fontTools.subset:fpgm subsetting not needed\n",
      "INFO:fontTools.subset:prep subsetting not needed\n",
      "INFO:fontTools.subset:cvt  subsetting not needed\n",
      "INFO:fontTools.subset:loca subsetting not needed\n",
      "INFO:fontTools.subset:kern subsetted\n",
      "INFO:fontTools.subset:post subsetted\n",
      "INFO:fontTools.subset:gasp subsetting not needed\n",
      "INFO:fontTools.subset:GDEF subsetted\n",
      "INFO:fontTools.subset:GSUB subsetted\n",
      "INFO:fontTools.subset:name subsetting not needed\n",
      "INFO:fontTools.subset:glyf subsetted\n",
      "INFO:fontTools.subset:head pruned\n",
      "INFO:fontTools.subset:OS/2 Unicode ranges pruned: [0]\n",
      "INFO:fontTools.subset:OS/2 CodePage ranges pruned: [0]\n",
      "INFO:fontTools.subset:glyf pruned\n",
      "INFO:fontTools.subset:GDEF pruned to empty; dropped\n",
      "INFO:fontTools.subset:GSUB pruned\n",
      "INFO:fontTools.subset:name pruned\n"
     ]
    },
    {
     "data": {
      "image/png": "[encoded data removed]",
      "text/plain": [
       "<Figure size 150x200 with 1 Axes>"
      ]
     },
     "metadata": {},
     "output_type": "display_data"
    }
   ],
   "source": [
    "fig, ax = plt.subplots(1, figsize=(1.5, 2))\n",
    "fit_lines = []\n",
    "for _condition in conditions:\n",
    "    use_df = df.query(\n",
    "        \"condition == @_condition and nframes_training_raw>=100 and nframes_training_raw<=100000\"\n",
    "    )\n",
    "    ci_lo = np.quantile(boot_fits[_condition], 0.025, axis=0)\n",
    "    ci_hi = np.quantile(boot_fits[_condition], 0.975, axis=0)\n",
    "    med = np.quantile(boot_fits[_condition], 0.5, axis=0)\n",
    "    ax.fill_between(\n",
    "        eval_points[_condition], ci_lo, ci_hi, fc=colors[_condition], alpha=0.5\n",
    "    )\n",
    "    l = ax.plot(\n",
    "        eval_points[_condition],\n",
    "        all_fits[_condition][1],\n",
    "        alpha=1,\n",
    "        color=colors[_condition],\n",
    "        label=_condition,\n",
    "        lw=1,\n",
    "    )\n",
    "    fit_lines.append(l[0])\n",
    "    ax.scatter(\n",
    "        use_df[\"nframes_training_raw\"],\n",
    "        use_df[\"val_mDist\"],\n",
    "        fc=colors[_condition],\n",
    "        alpha=0.6,\n",
    "        clip_on=False,\n",
    "        ec=\"none\",\n",
    "        lw=0,\n",
    "        s=12,\n",
    "    )\n",
    "    threshold_lines = []\n",
    "    for _threshold, _ls in zip(thresholds, linestyles):\n",
    "        l = ax.axhline(y=_threshold, zorder=-500, color=\"k\", ls=_ls, alpha=.5, label=\"thresh\")\n",
    "        threshold_lines.append(l)\n",
    "        # ax.plot(\n",
    "        #     [crossings[_threshold][_condition]] * 2,\n",
    "        #     [1, _threshold],\n",
    "        #     color=colors[_condition],\n",
    "        #     lw=1,\n",
    "        #     ls=_ls,\n",
    "        #     zorder=-500,\n",
    "        #     alpha=.5,\n",
    "        #     # clip_on=False,\n",
    "        # )\n",
    "\n",
    "ax.set_xscale(\"log\")\n",
    "ax.set_yscale(\"log\")\n",
    "l = ax.axhline(y=theoretical_limit, zorder=-500, color=\"m\", ls=\"-\", alpha=1., label=\"theory\")\n",
    "\n",
    "threshold_lines.append(l)\n",
    "\n",
    "fig.legend(handles=fit_lines + threshold_lines, bbox_to_anchor=(1.5, 0.5))\n",
    "\n",
    "ax.set_ylabel(\"Pixel error re: qdots\")\n",
    "ax.set_xlabel(\"N(training frames)\")\n",
    "\n",
    "ax.set_ylim(*ylim)\n",
    "ax.set_xlim(*xlim)\n",
    "sns.despine(offset=5, trim=False)\n",
    "fig.savefig(os.path.join(save_dir, save_fname), bbox_inches=\"tight\")\n",
    "# ax.set_ylim(0,15)"
   ]
  },
  {
   "cell_type": "code",
   "execution_count": 203,
   "id": "86462372-79c4-416e-a462-40b7197fb3d8",
   "metadata": {},
   "outputs": [],
   "source": [
    "crossings = {str(k): v for k,v in crossings.items()}"
   ]
  },
  {
   "cell_type": "code",
   "execution_count": 204,
   "id": "854b0fdd-dec0-4c89-95cf-4bc6dd170ac2",
   "metadata": {},
   "outputs": [],
   "source": [
    "if \"joint\" in gridsearch_dir[0]:\n",
    "    stats_fname = \"stats_keypoints_surface_joints.toml\"\n",
    "else:\n",
    "    stats_fname = \"stats_keypoints_surface.toml\""
   ]
  },
  {
   "cell_type": "code",
   "execution_count": 205,
   "id": "e74b4f92-8070-45e9-a8ad-6e40492d31c9",
   "metadata": {},
   "outputs": [],
   "source": [
    "with open(os.path.join(save_dir, stats_fname), \"w\") as f:\n",
    "    toml.dump(crossings, f)"
   ]
  },
  {
   "cell_type": "code",
   "execution_count": 206,
   "id": "899d773d-2529-4c73-9fe0-12c63fda028f",
   "metadata": {},
   "outputs": [
    {
     "data": {
      "text/plain": [
       "{'4.9': {'all': 400, 'different': 500, 'same': 100},\n",
       " '2.45': {'all': 6800, 'different': nan, 'same': 2300}}"
      ]
     },
     "execution_count": 206,
     "metadata": {},
     "output_type": "execute_result"
    }
   ],
   "source": [
    "crossings"
   ]
  },
  {
   "cell_type": "code",
   "execution_count": 207,
   "id": "eb1331b0-e291-4460-bcc6-28e8557743c3",
   "metadata": {},
   "outputs": [
    {
     "data": {
      "text/plain": [
       "0.4819649999999999"
      ]
     },
     "execution_count": 207,
     "metadata": {},
     "output_type": "execute_result"
    }
   ],
   "source": [
    "nyquist_limit"
   ]
  },
  {
   "cell_type": "code",
   "execution_count": null,
   "id": "4867b905-3455-4a3b-b424-393026d16ec9",
   "metadata": {},
   "outputs": [],
   "source": []
  },
  {
   "cell_type": "code",
   "execution_count": null,
   "id": "31a2bfb6-6462-452c-890e-6f42f535e5e4",
   "metadata": {},
   "outputs": [],
   "source": []
  },
  {
   "cell_type": "code",
   "execution_count": null,
   "id": "1d8edbec-1e0c-4b8b-8ccc-9a665300fe41",
   "metadata": {},
   "outputs": [],
   "source": []
  },
  {
   "cell_type": "code",
   "execution_count": null,
   "id": "931aa19a-3ed1-49aa-8a0a-1f36ba4d8ad2",
   "metadata": {},
   "outputs": [],
   "source": []
  },
  {
   "cell_type": "code",
   "execution_count": null,
   "id": "5a4efe86-bd1f-4d1b-a3fa-e28580d2a7d4",
   "metadata": {},
   "outputs": [],
   "source": []
  }
 ],
 "metadata": {
  "kernelspec": {
   "display_name": "Python [conda env:sleap-analysis]",
   "language": "python",
   "name": "conda-env-sleap-analysis-py"
  },
  "language_info": {
   "codemirror_mode": {
    "name": "ipython",
    "version": 3
   },
   "file_extension": ".py",
   "mimetype": "text/x-python",
   "name": "python",
   "nbconvert_exporter": "python",
   "pygments_lexer": "ipython3",
   "version": "3.10.13"
  }
 },
 "nbformat": 4,
 "nbformat_minor": 5
}
