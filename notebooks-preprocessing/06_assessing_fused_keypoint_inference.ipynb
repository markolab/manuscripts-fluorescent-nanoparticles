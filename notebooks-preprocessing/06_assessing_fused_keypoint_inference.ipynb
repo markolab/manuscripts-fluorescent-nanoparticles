{
 "cells": [
  {
   "cell_type": "code",
   "execution_count": 1,
   "id": "6fdf449c-18e7-4dcc-a194-9de011757c91",
   "metadata": {
    "tags": []
   },
   "outputs": [],
   "source": [
    "%load_ext autoreload\n",
    "%autoreload 2\n",
    "%matplotlib inline"
   ]
  },
  {
   "cell_type": "code",
   "execution_count": 2,
   "id": "52844345-aa05-4c4d-bf9b-b7ff7e10e897",
   "metadata": {},
   "outputs": [],
   "source": [
    "import os\n",
    "import io\n",
    "import copy\n",
    "import cv2\n",
    "import matplotlib.pyplot as plt\n",
    "import numpy as np\n",
    "import skimage\n",
    "import toml\n",
    "import glob\n",
    "import h5py\n",
    "from tqdm.auto import tqdm\n",
    "from markovids import vid\n",
    "from scipy import spatial, signal, ndimage\n",
    "import sleap_io"
   ]
  },
  {
   "cell_type": "code",
   "execution_count": 3,
   "id": "97041af0-00e4-4cba-89ca-55276df8336c",
   "metadata": {},
   "outputs": [],
   "source": [
    "from qd_analysis.fig import setup_plotting_env"
   ]
  },
  {
   "cell_type": "code",
   "execution_count": 4,
   "id": "0c9b2f24-2f03-473f-bb43-96ff3f96c0d2",
   "metadata": {
    "tags": []
   },
   "outputs": [],
   "source": [
    "from joblib import Parallel, delayed\n",
    "import pandas as pd\n",
    "import seaborn as sns"
   ]
  },
  {
   "cell_type": "code",
   "execution_count": 5,
   "id": "f965787c-4239-486c-864e-0b8fac252614",
   "metadata": {},
   "outputs": [],
   "source": [
    "import re\n",
    "import warnings"
   ]
  },
  {
   "cell_type": "code",
   "execution_count": 6,
   "id": "2a5cbac7-45c6-407d-ad43-cb25578fd58f",
   "metadata": {},
   "outputs": [],
   "source": [
    "import json"
   ]
  },
  {
   "cell_type": "code",
   "execution_count": 7,
   "id": "14500ae7-3dee-4908-8be9-0f372fec5052",
   "metadata": {},
   "outputs": [
    {
     "data": {
      "text/plain": [
       "'/home/jmarkow/data_dir/active_projects/quantum_dots/_analysis'"
      ]
     },
     "execution_count": 7,
     "metadata": {},
     "output_type": "execute_result"
    }
   ],
   "source": [
    "config = toml.load(\"config.toml\")\n",
    "config[\"dirs\"][\"analysis\"]"
   ]
  },
  {
   "cell_type": "code",
   "execution_count": 54,
   "id": "15b5b326-a4f6-4e32-be3f-aa62e33139d1",
   "metadata": {},
   "outputs": [],
   "source": [
    "from scipy.stats import rankdata\n",
    "\n",
    "def rank_biserial_correlation(x, y):\n",
    "    differences = np.array(x) - np.array(y)\n",
    "    non_zero_differences = differences[differences != 0]\n",
    "    ranks = rankdata(np.abs(non_zero_differences))\n",
    "    \n",
    "    # Step 4: Get the sum of ranks for positive and negative differences\n",
    "    w_plus = np.sum(ranks[non_zero_differences > 0])   # Sum of ranks for positive differences\n",
    "    w_minus = np.sum(ranks[non_zero_differences < 0])  # Sum of ranks for negative differences\n",
    "    \n",
    "    # Step 5: Calculate rank-biserial correlation\n",
    "    # n = len(non_zero_differences)\n",
    "    n = len(non_zero_differences)\n",
    "    total_ranks_sum = n * (n + 1) / 2 # number of pairs\n",
    "    rank_biserial = (w_plus - w_minus) / total_ranks_sum\n",
    "    \n",
    "    return rank_biserial"
   ]
  },
  {
   "cell_type": "code",
   "execution_count": 8,
   "id": "d7e0c63c-7dee-4c9b-a78d-949ea70303a4",
   "metadata": {},
   "outputs": [],
   "source": [
    "# https://stackoverflow.com/questions/66171969/compute-center-of-mass-in-numpy\n",
    "def center_of_mass(array: np.ndarray, yidx = None, xidx = None):\n",
    "    total = array.sum()\n",
    "    # alternatively with np.arange as well\n",
    "    if yidx is None:\n",
    "        yidx = range(array.shape[0])\n",
    "\n",
    "    if xidx is None:\n",
    "        xidx = range(array.shape[1])\n",
    "    \n",
    "    y_coord = (array.sum(axis=1) @ yidx) / total\n",
    "    x_coord = (array.sum(axis=0) @ xidx) / total\n",
    "    return x_coord, y_coord"
   ]
  },
  {
   "cell_type": "code",
   "execution_count": 9,
   "id": "2a185ede-a814-49a5-b817-459a061386e2",
   "metadata": {
    "tags": []
   },
   "outputs": [],
   "source": [
    "save_dir = \"/mnt/data/jmarkow/panels/2024-06 (QD paper)\"\n",
    "os.makedirs(save_dir, exist_ok=True)"
   ]
  },
  {
   "cell_type": "markdown",
   "id": "5ae6e564-6e34-41c6-b628-197e2387ee78",
   "metadata": {},
   "source": [
    "## Gather data and predicted keypoints"
   ]
  },
  {
   "cell_type": "code",
   "execution_count": 10,
   "id": "89d2a8da-d603-4b67-93f6-f32b70d8c17d",
   "metadata": {},
   "outputs": [],
   "source": [
    "# pool repeats"
   ]
  },
  {
   "cell_type": "code",
   "execution_count": 11,
   "id": "c11b5d1c-4ba4-458d-9a78-265b15b84d5a",
   "metadata": {
    "tags": []
   },
   "outputs": [],
   "source": [
    "model_dirs = [\n",
    "    \"/home/jmarkow/data_dir/active_projects/keypoints_basler_nir_plexiglass_arena/sleap_training/gridsearch_fused_v2_04/models/unet_filters-64_filters_rate-2_training_labels-train_frames_fused_weights-None_bpass-None.slp_repeat-0.single_instance/\",\n",
    "    \"/home/jmarkow/data_dir/active_projects/keypoints_basler_nir_plexiglass_arena/sleap_training/gridsearch_fused_v2_04/models/unet_filters-64_filters_rate-2_training_labels-train_frames_fused_weights-None_bpass-None.slp_repeat-1.single_instance/\",\n",
    "    \"/home/jmarkow/data_dir/active_projects/keypoints_basler_nir_plexiglass_arena/sleap_training/gridsearch_fused_v2_04/models/unet_filters-64_filters_rate-2_training_labels-train_frames_fused_weights-None_bpass-None.slp_repeat-2.single_instance/\",\n",
    "    \"/home/jmarkow/data_dir/active_projects/keypoints_basler_nir_plexiglass_arena/sleap_training/gridsearch_fused_v2_04/models/unet_filters-64_filters_rate-2_training_labels-train_frames_fused_weights-None_bpass-None.slp_repeat-3.single_instance/\",\n",
    "    \"/home/jmarkow/data_dir/active_projects/keypoints_basler_nir_plexiglass_arena/sleap_training/gridsearch_fused_v2_04/models/unet_filters-64_filters_rate-2_training_labels-train_frames_fused_weights-None_bpass-None.slp_repeat-4.single_instance/\",\n",
    "    \n",
    "]\n",
    "# fluo_files = sorted(glob.glob(os.path.join(base_dir, \"**\", \"Basler*fluorescence.avi\"), recursive=True))"
   ]
  },
  {
   "cell_type": "code",
   "execution_count": 12,
   "id": "dd5504d6-7367-4b52-b2ea-a8ef3f3d337a",
   "metadata": {},
   "outputs": [],
   "source": [
    "save_file = os.path.join(config[\"dirs\"][\"analysis\"], \"kpoint_qd_gt_comparison.parquet\") "
   ]
  },
  {
   "cell_type": "code",
   "execution_count": 13,
   "id": "6e1511a3-667d-4bc1-8dc8-e955858753d3",
   "metadata": {},
   "outputs": [],
   "source": [
    "dcts = []\n",
    "search_radius = 7.5\n",
    "\n",
    "search_obj = skimage.morphology.disk(radius=search_radius).astype(\"float\")\n",
    "search_y, search_x = np.where(search_obj>0)\n",
    "center = search_obj.shape[0] // 2\n",
    "xx = np.arange(search_obj.shape[1] + 1)\n",
    "yy = np.arange(search_obj.shape[0] + 1)\n",
    "xx -= center\n",
    "yy -= center"
   ]
  },
  {
   "cell_type": "code",
   "execution_count": 14,
   "id": "52bc396d-8897-4c8d-9759-769f17f8e8cb",
   "metadata": {},
   "outputs": [],
   "source": [
    "if not os.path.exists(save_file):\n",
    "    for count_model, _model_dir in tqdm(enumerate(model_dirs), total=len(model_dirs)):\n",
    "        with open(os.path.join(_model_dir, \"training_config.json\")) as f:\n",
    "            training_config = json.load(f)\n",
    "        \n",
    "        training_data_path = os.path.join(_model_dir, \"../../\", training_config[\"data\"][\"labels\"][\"training_labels\"])\n",
    "        training_metadata_path = os.path.splitext(training_data_path)[0] + \".toml\"\n",
    "        training_metadata = toml.load(training_metadata_path)[\"segments_metadata\"]\n",
    "        \n",
    "        _dset = sleap_io.load_slp(os.path.join(_model_dir, \"labels_gt.train.slp\"))\n",
    "        skeleton = _dset.skeleton\n",
    "    \n",
    "        # dset = sleap_io.load_slp(training_data_path)\n",
    "        training_gt_dset = sleap_io.load_slp(os.path.join(_model_dir, \"labels_gt.train.slp\")).labeled_frames\n",
    "        training_pred_dset = sleap_io.load_slp(os.path.join(_model_dir, \"labels_pr.train.slp\")).labeled_frames\n",
    "        validation_gt_dset = sleap_io.load_slp(os.path.join(_model_dir, \"labels_gt.val.slp\")).labeled_frames\n",
    "        validation_pred_dset = sleap_io.load_slp(os.path.join(_model_dir, \"labels_pr.val.slp\")).labeled_frames\n",
    "        \n",
    "        concat_gt_dset = training_gt_dset + validation_gt_dset\n",
    "        concat_pred_dset = training_pred_dset + validation_pred_dset\n",
    "        \n",
    "        use_metadata = [training_metadata[i] for i in training_config[\"data\"][\"labels\"][\"training_inds\"]]\n",
    "        use_metadata += [training_metadata[i] for i in training_config[\"data\"][\"labels\"][\"validation_inds\"]]\n",
    "        \n",
    "        fluo_fnames = sorted(list(set([_metadata[\"dat_path_fluo\"] for _metadata in use_metadata])))\n",
    "        \n",
    "        all_bgrounds = {}\n",
    "        for _fname in tqdm(fluo_fnames):\n",
    "            bground_fname = os.path.join(\n",
    "                os.path.dirname(_fname),\n",
    "                \"_bground\",\n",
    "                os.path.splitext(os.path.basename(_fname))[0] + \".hdf5\",\n",
    "            )\n",
    "            all_bgrounds[_fname] = {}\n",
    "            with h5py.File(bground_fname, \"r\") as f:\n",
    "                all_bgrounds[_fname][\"bgrounds\"] = f[\"bground\"][()]\n",
    "                all_bgrounds[_fname][\"idxs\"] = f[\"frame_idxs\"][()]\n",
    "    \n",
    "       \n",
    "        for count, (labeled_frame_gt, labeled_frame_pred, metadata) in tqdm(\n",
    "            enumerate(zip(concat_gt_dset, concat_pred_dset, use_metadata)), total=len(use_metadata)\n",
    "        ):\n",
    "            points_gt = labeled_frame_gt.instances[0].points\n",
    "            points_pred = labeled_frame_pred.instances[0].points\n",
    "            bgrounds = all_bgrounds[metadata[\"dat_path_fluo\"]][\"bgrounds\"]\n",
    "            bgrounds_idxs = all_bgrounds[metadata[\"dat_path_fluo\"]][\"idxs\"]\n",
    "        \n",
    "            reader = vid.io.AutoReader(metadata[\"dat_path_fluo\"])\n",
    "            width, height = reader.frame_size\n",
    "            frame = reader.get_frames(metadata[\"frame_index\"])[0]\n",
    "            reader.close()\n",
    "            use_bground_idx = np.argmin(np.abs(bgrounds_idxs - metadata[\"frame_index\"]))\n",
    "            bground_sub = np.clip(frame.astype(\"int16\") - bgrounds[use_bground_idx], 0, np.inf)\n",
    "            is_train = labeled_frame_pred.frame_idx in training_config[\"data\"][\"labels\"][\"training_inds\"]\n",
    "            # bground_sub[bground_sub<10] = 0\n",
    "        \n",
    "            for node, _kpoint in points_pred.items():\n",
    "                if ~np.isnan(_kpoint.x):\n",
    "                    # mask out others or remove overlap????\n",
    "                    gt_x = points_gt[node].x\n",
    "                    gt_y = points_gt[node].y\n",
    "        \n",
    "                    kpoint_x_idx = int(np.round(_kpoint.x))\n",
    "                    kpoint_y_idx = int(np.round(_kpoint.y))\n",
    "                    \n",
    "                    try:\n",
    "                        new_coords = xx + kpoint_x_idx, yy + kpoint_y_idx\n",
    "                        xrange = (new_coords[0][0], new_coords[0][-1])\n",
    "                        yrange = (new_coords[1][0], new_coords[1][-1])\n",
    "        \n",
    "                        # get CoM shift relative to center, add as offset to original kpoint\n",
    "                        masked_bground_sub = search_obj * bground_sub[slice(*yrange), slice(*xrange)].astype(\"float\")\n",
    "                        com = center_of_mass(masked_bground_sub, yidx=range(*yrange), xidx=range(*xrange))\n",
    "                        # com = ((_com[0] - center) + _kpoint.x, (_com[1] - center) + _kpoint.y)\n",
    "                        fluo_ave = np.nanmean(masked_bground_sub[search_y,search_x])\n",
    "                        fluo_peak = np.nanmax(masked_bground_sub[search_y,search_x])\n",
    "                        \n",
    "                    except ValueError:\n",
    "                        fluo_ave = np.nan\n",
    "                        fluo_peak = np.nan\n",
    "                        com = (np.nan, np.nan)\n",
    "                        peak_loc = (np.nan, np.nan)\n",
    "                    \n",
    "                    try:\n",
    "                        mask = np.zeros_like(bground_sub)\n",
    "        \n",
    "                        gt_x_idx = int(np.round(gt_x))\n",
    "                        gt_y_idx = int(np.round(gt_y))\n",
    "        \n",
    "                        new_coords = xx + gt_x_idx, yy + gt_y_idx\n",
    "                        xrange = (new_coords[0][0], new_coords[0][-1])\n",
    "                        yrange = (new_coords[1][0], new_coords[1][-1]) \n",
    "                        masked_bground_sub = search_obj * bground_sub[slice(*yrange), slice(*xrange)]\n",
    "                        fluo_ave_gt = np.nanmean(masked_bground_sub[search_y,search_x])\n",
    "                        fluo_peak_gt = np.nanmax(masked_bground_sub[search_y,search_x])\n",
    "                    \n",
    "                    except ValueError:\n",
    "                        fluo_ave_gt = np.nan\n",
    "                        fluo_peak_gt = np.nan\n",
    "                    \n",
    "        \n",
    "                    _dct = {\n",
    "                        \"com_x\": com[0],\n",
    "                        \"com_y\": com[1],\n",
    "                        \"gt_x\": gt_x,\n",
    "                        \"gt_y\": gt_y,\n",
    "                        \"kpoint_name\": node.name,\n",
    "                        \"kpoint_x\": _kpoint.x,\n",
    "                        \"kpoint_y\": _kpoint.y,\n",
    "                        \"kpoint_to_gt_l2\": np.hypot(_kpoint.x - gt_x, _kpoint.y - gt_y),\n",
    "                        \"com_to_gt_l2\": np.hypot(com[0] - gt_x, com[1] - gt_y),\n",
    "                        \"fluo_ave\": fluo_ave,\n",
    "                        \"fluo_ave_gt\": fluo_ave_gt,\n",
    "                        \"fluo_peak\": fluo_peak,\n",
    "                        \"fluo_peak_gt\": fluo_peak_gt,\n",
    "                        \"frame_index\": metadata[\"frame_index\"],\n",
    "                        \"dset_index\": count,\n",
    "                        \"model_index\": count_model,\n",
    "                        \"dset_type\": \"train\" if is_train else \"validate\",\n",
    "                        \"model_dir\": _model_dir,\n",
    "                        \"search_radius\": search_radius,\n",
    "                    }\n",
    "        \n",
    "                    dcts.append(_dct)\n",
    "    df = pd.DataFrame(dcts)\n",
    "else:\n",
    "    df = pd.read_parquet(os.path.join(config[\"dirs\"][\"analysis\"], \"kpoint_qd_gt_comparison.parquet\"))"
   ]
  },
  {
   "cell_type": "code",
   "execution_count": 15,
   "id": "96005f27-85dd-475a-8085-fda2199905c7",
   "metadata": {},
   "outputs": [],
   "source": [
    "dist_cols = list(df.filter(regex=\"l2\").columns)"
   ]
  },
  {
   "cell_type": "code",
   "execution_count": 16,
   "id": "f0cc201a-dbed-43c9-910c-daba7509dc33",
   "metadata": {},
   "outputs": [],
   "source": [
    "threshold = df.query(\"dset_type == 'train'\")[\"fluo_ave_gt\"].quantile(0.01)"
   ]
  },
  {
   "cell_type": "code",
   "execution_count": 17,
   "id": "427c1b5a-65f1-47cf-aa3c-b6e8d6cc4889",
   "metadata": {},
   "outputs": [],
   "source": [
    "df[\"high_fluo\"] = df[\"fluo_ave\"] > threshold"
   ]
  },
  {
   "cell_type": "code",
   "execution_count": 18,
   "id": "9a803236-5868-4af1-8a0c-4f3e2b525f1f",
   "metadata": {},
   "outputs": [],
   "source": [
    "plt_df = (\n",
    "    df.query(\"dset_type == 'validate'\")\n",
    "    .groupby([\"high_fluo\", \"model_index\", \"dset_index\"])[dist_cols]\n",
    "    .mean()\n",
    "    .melt(ignore_index=False)\n",
    "    .reset_index()\n",
    ")"
   ]
  },
  {
   "cell_type": "code",
   "execution_count": 19,
   "id": "c5d71554-0e66-4f36-a111-8901c2b8bf06",
   "metadata": {},
   "outputs": [],
   "source": [
    "setup_plotting_env()"
   ]
  },
  {
   "cell_type": "code",
   "execution_count": 20,
   "id": "63293cb2-6756-4c2f-80f5-9d25926b3cbb",
   "metadata": {},
   "outputs": [
    {
     "data": {
      "image/png": "[encoded data removed]",
      "text/plain": [
       "<Figure size 125x200 with 1 Axes>"
      ]
     },
     "metadata": {},
     "output_type": "display_data"
    }
   ],
   "source": [
    "fig, ax = plt.subplots(1, figsize=(1.25, 2.))\n",
    "sns.boxplot(\n",
    "    data=plt_df,\n",
    "    x=\"variable\",\n",
    "    y=\"value\",\n",
    "    hue=\"high_fluo\",\n",
    "    showfliers=False,\n",
    "    # showcaps=False,\n",
    "    palette=sns.color_palette(\"rocket\", n_colors=2),\n",
    "    # clip_on=False,\n",
    "    # width=.5,\n",
    "    # dodge=2,\n",
    ")\n",
    "\n",
    "ax.legend(bbox_to_anchor=(1,.5))\n",
    "ax.set_ylabel(\"Distance to Qdot\\n(heldout frames, pixels)\")\n",
    "ax.set_ylim(.1, 100)\n",
    "ax.set_xlabel(\"\")\n",
    "ax.set_yscale(\"log\")\n",
    "sns.despine(offset=3, trim=False)\n",
    "# fig.savefig(os.path.join(save_dir, \"kpoint_qd_gt_error_high_vs_low_fluo.pdf\"), bbox_inches=\"tight\")"
   ]
  },
  {
   "cell_type": "code",
   "execution_count": 21,
   "id": "953dced9-6e9b-4c85-a308-605c33be3b20",
   "metadata": {},
   "outputs": [],
   "source": [
    "from scipy.stats import mannwhitneyu, wilcoxon"
   ]
  },
  {
   "cell_type": "code",
   "execution_count": 22,
   "id": "77b7b7f4-47f1-4a54-ba7d-cba63fb2a35e",
   "metadata": {},
   "outputs": [],
   "source": [
    "y1 = plt_df.query(\"variable == 'kpoint_to_gt_l2' and high_fluo\").set_index(\"dset_index\")[\"value\"]\n",
    "y2 = plt_df.query(\"variable == 'com_to_gt_l2' and high_fluo\").set_index(\"dset_index\")[\"value\"]"
   ]
  },
  {
   "cell_type": "code",
   "execution_count": 23,
   "id": "60df7d83-33b8-4725-9bed-641a2166dca7",
   "metadata": {},
   "outputs": [
    {
     "data": {
      "image/png": "[encoded data removed]",
      "text/plain": [
       "<Figure size 125x175 with 1 Axes>"
      ]
     },
     "metadata": {},
     "output_type": "display_data"
    }
   ],
   "source": [
    "fig, ax = plt.subplots(1, figsize=(1.25,1.75))\n",
    "sns.histplot((y2-y1), fill=True, color=sns.color_palette(\"rocket\", n_colors=2)[1],\n",
    ")\n",
    "ax.set_xlim(-2, 2)\n",
    "ax.set_xlabel(\"Ave. pixel error difference\\n(CoM - keypoint)\")\n",
    "ax.set_ylabel(\"n(frames)\")\n",
    "ax.axvline(x=0, lw=1, color=\"k\", ls=\"--\")\n",
    "sns.despine(offset=5, trim=True)\n",
    "fig.savefig(os.path.join(save_dir, \"kpoint_qd_gt_com_vs_keypoint.pdf\"), bbox_inches=\"tight\")"
   ]
  },
  {
   "cell_type": "code",
   "execution_count": 24,
   "id": "4dc0d101-6a47-4dc3-b3cb-6be0dc9f6172",
   "metadata": {},
   "outputs": [],
   "source": [
    "stat_dct = {}"
   ]
  },
  {
   "cell_type": "code",
   "execution_count": 25,
   "id": "6c7aa7bf-36f1-4d19-931d-3ea47229824e",
   "metadata": {},
   "outputs": [],
   "source": [
    "vars = list(plt_df[\"variable\"].unique())"
   ]
  },
  {
   "cell_type": "code",
   "execution_count": 59,
   "id": "3259db2f-8964-4af9-8fa6-6654ae818b75",
   "metadata": {},
   "outputs": [],
   "source": [
    "stat_dct[\"high_v_lo_fluo\"] = {}\n",
    "test = mannwhitneyu\n",
    "for _var in vars:\n",
    "    lo_grp = plt_df.query(\"variable == @_var and not high_fluo\")[\"value\"].dropna().values\n",
    "    hi_grp  = plt_df.query(\"variable == @_var and high_fluo\")[\"value\"].dropna().values\n",
    "    stat, p = test(hi_grp, lo_grp)\n",
    "    n1 = len(hi_grp)\n",
    "    n2 = len(lo_grp)\n",
    "    stat_dct[\"high_v_lo_fluo\"][_var] = {\"p\": p, \"test\": str(test.__name__), \"stat\": stat, \"n1\": len(lo_grp), \"n2\": len(hi_grp), \"f\": stat / (n1 * n2)}"
   ]
  },
  {
   "cell_type": "code",
   "execution_count": 60,
   "id": "1b20e55f-f981-4374-b604-cddb97073cf1",
   "metadata": {},
   "outputs": [],
   "source": [
    "kpoint_grp = plt_df.query(\"variable == 'kpoint_to_gt_l2' and high_fluo\")[\"value\"].dropna().values\n",
    "com_grp = plt_df.query(\"variable == 'com_to_gt_l2' and high_fluo\")[\"value\"].dropna().values"
   ]
  },
  {
   "cell_type": "code",
   "execution_count": 61,
   "id": "446215ca-9b1a-40f2-b2ec-16bae50d52f1",
   "metadata": {},
   "outputs": [],
   "source": [
    "stat, p = wilcoxon(kpoint_grp,com_grp) "
   ]
  },
  {
   "cell_type": "code",
   "execution_count": 62,
   "id": "d0e754bd-f057-45f0-8af9-5b57c3e1ed3b",
   "metadata": {},
   "outputs": [],
   "source": [
    "stat_dct[\"kpoint_v_com_hi_fluo\"] = {\"stat\": stat, \"p\": p, \"n1\": len(kpoint_grp), \"n2\": len(com_grp), \"r\": rank_biserial_correlation(com_grp, kpoint_grp)}"
   ]
  },
  {
   "cell_type": "code",
   "execution_count": 63,
   "id": "48ca7f2f-b7df-45d8-be58-fb69f7a69538",
   "metadata": {},
   "outputs": [
    {
     "data": {
      "text/plain": [
       "-0.6391515582414978"
      ]
     },
     "execution_count": 63,
     "metadata": {},
     "output_type": "execute_result"
    }
   ],
   "source": [
    "rank_biserial_correlation(com_grp,kpoint_grp)"
   ]
  },
  {
   "cell_type": "code",
   "execution_count": 64,
   "id": "a5ed2250-9766-484b-9676-aa0fd516378f",
   "metadata": {},
   "outputs": [],
   "source": [
    "with open(os.path.join(save_dir, \"kpoint_v_qd_gt.toml\"), \"w\") as f:\n",
    "    toml.dump(stat_dct, f)"
   ]
  },
  {
   "cell_type": "code",
   "execution_count": null,
   "id": "1d543f85-898a-4372-b29a-7472b6f2c727",
   "metadata": {},
   "outputs": [],
   "source": [
    "stat_dct"
   ]
  },
  {
   "cell_type": "code",
   "execution_count": 66,
   "id": "110d149b-7734-40d2-861f-60aab7e2e1f0",
   "metadata": {},
   "outputs": [],
   "source": [
    "# df.to_parquet(os.path.join(config[\"dirs\"][\"analysis\"], \"kpoint_qd_gt_comparison.parquet\"))"
   ]
  },
  {
   "cell_type": "code",
   "execution_count": 67,
   "id": "4b2e482c-82ad-4bcc-9e4f-249910f0df44",
   "metadata": {},
   "outputs": [
    {
     "data": {
      "text/plain": [
       "10.880077519379844"
      ]
     },
     "execution_count": 67,
     "metadata": {},
     "output_type": "execute_result"
    }
   ],
   "source": [
    "threshold"
   ]
  },
  {
   "cell_type": "code",
   "execution_count": 68,
   "id": "ea5b8d14-243f-4e8c-a248-71c9b555146f",
   "metadata": {},
   "outputs": [],
   "source": [
    "bins = df.query(\"dset_type == 'train'\")[\"fluo_ave_gt\"].quantile(np.linspace(0, 1, 10))"
   ]
  },
  {
   "cell_type": "code",
   "execution_count": 69,
   "id": "be895dd3-48bf-4337-893c-6034938b44cc",
   "metadata": {},
   "outputs": [
    {
     "data": {
      "text/plain": [
       "0.000000      2.451085\n",
       "0.111111     42.094341\n",
       "0.222222     68.240517\n",
       "0.333333     94.026667\n",
       "0.444444    120.067054\n",
       "0.555556    141.717597\n",
       "0.666667    168.158837\n",
       "0.777778    194.124031\n",
       "0.888889    218.595581\n",
       "1.000000    253.196899\n",
       "Name: fluo_ave_gt, dtype: float64"
      ]
     },
     "execution_count": 69,
     "metadata": {},
     "output_type": "execute_result"
    }
   ],
   "source": [
    "bins"
   ]
  },
  {
   "cell_type": "code",
   "execution_count": 70,
   "id": "916209cf-271e-4fcf-93b3-e643db3c8073",
   "metadata": {},
   "outputs": [],
   "source": [
    "df[\"fluo_bin\"] = pd.cut(df[\"fluo_ave\"], bins, labels=False)"
   ]
  },
  {
   "cell_type": "code",
   "execution_count": 71,
   "id": "62490a65-e4d9-4d6c-8b16-9282920b594a",
   "metadata": {},
   "outputs": [],
   "source": [
    "use_mm_per_px = 0.40869886227721863\n"
   ]
  },
  {
   "cell_type": "code",
   "execution_count": 72,
   "id": "ff5a27ce-339a-4bf1-b9d2-2a18264a6571",
   "metadata": {},
   "outputs": [],
   "source": [
    "df[\"com_to_gt_l2_mm\"] = df[\"com_to_gt_l2\"] * use_mm_per_px "
   ]
  },
  {
   "cell_type": "code",
   "execution_count": null,
   "id": "400ebd08-7941-446f-a6b5-ae53cd7a42e9",
   "metadata": {},
   "outputs": [],
   "source": [
    "df.query(\"dset_type == 'validate' and fluo_ave > 10\").groupby(\n",
    "    [\"model_index\", \"dset_index\"]\n",
    ")[\"com_to_gt_l2_mm\"].median().groupby(\"model_index\").mean().mean()"
   ]
  },
  {
   "cell_type": "code",
   "execution_count": null,
   "id": "ebca5300-e4fd-46cb-aafd-0f8bd5260fff",
   "metadata": {},
   "outputs": [],
   "source": [
    ".2 / use_mm_per_px"
   ]
  },
  {
   "cell_type": "code",
   "execution_count": null,
   "id": "e6ecb574-69e5-4153-b4e8-e0bf31eeb1dd",
   "metadata": {},
   "outputs": [],
   "source": [
    "sns.stripplot(\n",
    "    data=df.query(\"dset_type == 'validate'\").groupby([\"model_index\", \"fluo_bin\", \"dset_index\"])[\"com_to_gt_l2_mm\"]\n",
    "    .mean()\n",
    "    .groupby([\"fluo_bin\", \"model_index\"])\n",
    "    .median()\n",
    "    .reset_index(),\n",
    "    x=\"fluo_bin\",\n",
    "    y=\"com_to_gt_l2_mm\",\n",
    ")"
   ]
  },
  {
   "cell_type": "code",
   "execution_count": null,
   "id": "ca72c7ca-4668-429a-bf42-1fcc086dc200",
   "metadata": {},
   "outputs": [],
   "source": []
  }
 ],
 "metadata": {
  "kernelspec": {
   "display_name": "Python [conda env:sleap-analysis]",
   "language": "python",
   "name": "conda-env-sleap-analysis-py"
  },
  "language_info": {
   "codemirror_mode": {
    "name": "ipython",
    "version": 3
   },
   "file_extension": ".py",
   "mimetype": "text/x-python",
   "name": "python",
   "nbconvert_exporter": "python",
   "pygments_lexer": "ipython3",
   "version": "3.10.13"
  }
 },
 "nbformat": 4,
 "nbformat_minor": 5
}
