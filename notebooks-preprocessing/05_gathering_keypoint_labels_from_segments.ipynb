{
 "cells": [
  {
   "cell_type": "code",
   "execution_count": 1,
   "id": "5f17da30-45c1-48dc-88ed-cb3c5371e855",
   "metadata": {
    "tags": []
   },
   "outputs": [],
   "source": [
    "%load_ext autoreload\n",
    "%autoreload 2\n",
    "%matplotlib inline"
   ]
  },
  {
   "cell_type": "code",
   "execution_count": 2,
   "id": "32ebef63-7529-4361-8cf1-0a4bfb076968",
   "metadata": {
    "tags": []
   },
   "outputs": [],
   "source": [
    "import os\n",
    "import subprocess\n",
    "import io\n",
    "import copy\n",
    "import cv2\n",
    "import matplotlib.pyplot as plt\n",
    "import numpy as np\n",
    "import pandas as pd\n",
    "import seaborn as sns\n",
    "import h5py\n",
    "import toml\n",
    "from tqdm.auto import tqdm\n",
    "from markovids import pcl, vid, depth"
   ]
  },
  {
   "cell_type": "markdown",
   "id": "e74fb1d3-952f-459f-b833-c83c13f7d7a7",
   "metadata": {},
   "source": [
    "## User functions"
   ]
  },
  {
   "cell_type": "code",
   "execution_count": 3,
   "id": "e1ff1ad8-3606-450e-88a8-7dc438a8a4e1",
   "metadata": {},
   "outputs": [],
   "source": [
    "def lp_filter(x, sigma):\n",
    "    return cv2.GaussianBlur(x, [0, 0], sigma, sigma)\n",
    "\n",
    "def bp_filter(x, sigma1, sigma2, clip=True):\n",
    "    if (sigma1 == 0) or (sigma1 is None):\n",
    "        return x\n",
    "    elif (sigma2 == 0) or (sigma2 is None):\n",
    "        return lp_filter(x, sigma1)\n",
    "    else:\n",
    "        return np.clip(\n",
    "            lp_filter(x, sigma1) - lp_filter(x, sigma2),\n",
    "            0 if clip == True else -np.inf,\n",
    "            np.inf,\n",
    "        )"
   ]
  },
  {
   "cell_type": "markdown",
   "id": "0d65fe40-ace5-4ab8-aec6-c52542eaa2a7",
   "metadata": {},
   "source": [
    "# Load in metadata"
   ]
  },
  {
   "cell_type": "code",
   "execution_count": 4,
   "id": "ef9b6fb3-7f3b-481d-a535-4c774d67b730",
   "metadata": {},
   "outputs": [],
   "source": [
    "# original_data_dir = \"/home/jmarkow/data_dir/active_projects/quantum_dots/timecourse_02/\"\n",
    "original_data_dir = \"/home/jmarkow/data_dir/active_projects/quantum_dots/timecourse_02_joints/\"\n",
    "output_dir = \"/home/jmarkow/data_dir/active_projects/keypoints_basler_nir_plexiglass_arena/sleap_training/_labels/\""
   ]
  },
  {
   "cell_type": "code",
   "execution_count": 5,
   "id": "b0a31aae-bef6-4a0d-b33f-396ca8bbdce5",
   "metadata": {},
   "outputs": [],
   "source": [
    "os.makedirs(output_dir, exist_ok=True)"
   ]
  },
  {
   "cell_type": "markdown",
   "id": "d78db1e4-ef12-4a6b-a8a6-75de3f610419",
   "metadata": {},
   "source": [
    "# Gather all data files"
   ]
  },
  {
   "cell_type": "code",
   "execution_count": 6,
   "id": "37d68496-1aee-4965-a7b9-23cec1f5b06f",
   "metadata": {
    "tags": []
   },
   "outputs": [],
   "source": [
    "import glob\n",
    "dat_paths_reflect = sorted(glob.glob(os.path.join(original_data_dir, \"**\", \"*reflectance.avi\"), recursive=True))"
   ]
  },
  {
   "cell_type": "markdown",
   "id": "f4db7909-1a47-4b61-a01c-4221d914053a",
   "metadata": {},
   "source": [
    "# Get what already exists on segments"
   ]
  },
  {
   "cell_type": "markdown",
   "id": "37ab32a2-dd47-48eb-be7e-0b88f22e7600",
   "metadata": {},
   "source": [
    "1. Get old labels\n",
    "2. Get segments.ai labels\n",
    "3. Merge everything\n",
    "4. Save per camera keypoints\n",
    "5. Don't need to save any images, should be fast"
   ]
  },
  {
   "cell_type": "code",
   "execution_count": 7,
   "id": "4e62692b-9fd7-4b0a-ab15-bb1a958b5a3d",
   "metadata": {},
   "outputs": [
    {
     "name": "stderr",
     "output_type": "stream",
     "text": [
      "2024-08-12 14:15:36.746954: W tensorflow/stream_executor/platform/default/dso_loader.cc:64] Could not load dynamic library 'libcudart.so.11.0'; dlerror: libcudart.so.11.0: cannot open shared object file: No such file or directory; LD_LIBRARY_PATH: /home/jmarkow/miniconda3/envs/sleap-analysis/lib/python3.10/site-packages/cv2/../../lib64:\n",
      "2024-08-12 14:15:36.746985: I tensorflow/stream_executor/cuda/cudart_stub.cc:29] Ignore above cudart dlerror if you do not have a GPU set up on your machine.\n"
     ]
    },
    {
     "name": "stdout",
     "output_type": "stream",
     "text": [
      "INFO:segments.client:Initialized successfully.\n"
     ]
    }
   ],
   "source": [
    "import json\n",
    "\n",
    "from sleap.instance import LabeledFrame, PredictedInstance, Instance, PointArray, Point\n",
    "from sleap import Labels, Video, Skeleton\n",
    "\n",
    "from segments import SegmentsClient\n",
    "import json\n",
    "\n",
    "# You can find your api key at https://segments.ai/account\n",
    "api_key = \"XXX\"\n",
    "client = SegmentsClient(api_key)"
   ]
  },
  {
   "cell_type": "code",
   "execution_count": 8,
   "id": "8b7502d0-e166-4541-9786-70114d90587c",
   "metadata": {},
   "outputs": [],
   "source": [
    "exclude_paths = [\n",
    "    \"session_20240610170622-119479\"\n",
    "]"
   ]
  },
  {
   "cell_type": "code",
   "execution_count": 9,
   "id": "381e301d-3421-478b-a2e3-4db1d9ad418d",
   "metadata": {},
   "outputs": [],
   "source": [
    "dataset_name = \"jmarkow/basler-nir-plexiglass-arena-keypoints-fused-kneejoints\" \n",
    "samples = client.get_samples(dataset_name, per_page=10000, label_status=[\"LABELED\", \"REVIEWED\"]) # LABELED/REVIEWED\n",
    "pre_segments_labels = [(client.get_label(_sample.uuid), _sample) for _sample in samples]"
   ]
  },
  {
   "cell_type": "code",
   "execution_count": 10,
   "id": "16cb4c98-367b-45df-ba26-bcc045878715",
   "metadata": {},
   "outputs": [
    {
     "data": {
      "text/plain": [
       "822"
      ]
     },
     "execution_count": 10,
     "metadata": {},
     "output_type": "execute_result"
    }
   ],
   "source": [
    "len(samples)"
   ]
  },
  {
   "cell_type": "code",
   "execution_count": 11,
   "id": "b9da450f-a092-461f-8f1b-01541aac9007",
   "metadata": {},
   "outputs": [],
   "source": [
    "segments_labels = []\n",
    "for _label in pre_segments_labels:\n",
    "    to_add = True\n",
    "    for _path in exclude_paths:\n",
    "        if _path in _label[1].metadata[\"dat_path_fluo\"]:\n",
    "            to_add = False\n",
    "\n",
    "    if to_add:\n",
    "        segments_labels.append(_label)"
   ]
  },
  {
   "cell_type": "code",
   "execution_count": 12,
   "id": "99ef0301-83c0-4195-a54b-8158b3566ef6",
   "metadata": {},
   "outputs": [],
   "source": [
    "from collections import defaultdict\n",
    "leaderboard = defaultdict(int)\n",
    "chk_labels = segments_labels\n",
    "for _label, _sample in chk_labels:\n",
    "    leaderboard[_label.created_by] += 1\n",
    "    # break"
   ]
  },
  {
   "cell_type": "code",
   "execution_count": 13,
   "id": "dff0772f-057e-4681-bfd3-4e2e32a0b874",
   "metadata": {},
   "outputs": [
    {
     "data": {
      "text/plain": [
       "defaultdict(int, {'jmarkow': 822})"
      ]
     },
     "execution_count": 13,
     "metadata": {},
     "output_type": "execute_result"
    }
   ],
   "source": [
    "leaderboard"
   ]
  },
  {
   "cell_type": "code",
   "execution_count": 14,
   "id": "a92a5253-0622-4258-8a23-318334a92120",
   "metadata": {},
   "outputs": [],
   "source": [
    "# write out frames to new avi file for loading"
   ]
  },
  {
   "cell_type": "code",
   "execution_count": 15,
   "id": "745f251e-dc6c-4f4a-b707-1396fc776738",
   "metadata": {},
   "outputs": [],
   "source": [
    "uniq_files = sorted(list(set([_[1].metadata[\"dat_path_reflect\"] for _ in segments_labels])))"
   ]
  },
  {
   "cell_type": "code",
   "execution_count": 16,
   "id": "6790c8aa-4238-4ef5-9797-d5f26d999ace",
   "metadata": {},
   "outputs": [],
   "source": [
    "segments_dset = client.get_dataset(dataset_name)\n",
    "segments_cats = segments_dset.task_attributes.categories\n",
    "segments_id_map = {_cat.id: _cat.name for _cat in segments_cats}"
   ]
  },
  {
   "cell_type": "code",
   "execution_count": 17,
   "id": "10822520-c7ce-4b64-b95a-00fe62faf157",
   "metadata": {},
   "outputs": [],
   "source": [
    "# set up skeleton\n",
    "use_skeleton = Skeleton(\"markolab-skeleton-v0\")\n",
    "[use_skeleton.add_node(_name) for _name in segments_id_map.values()]\n",
    "is_joints = False\n",
    "if \"hindleg_L\" in segments_id_map.values():\n",
    "    use_skeleton.add_edge(\"hindleg_L\", \"back_bottom\")\n",
    "    use_skeleton.add_edge(\"hindleg_R\", \"back_bottom\")\n",
    "    use_skeleton.add_edge(\"tail_tip\", \"tail_middle\")\n",
    "    use_skeleton.add_edge(\"tail_middle\", \"tail_base\")\n",
    "    use_skeleton.add_edge(\"tail_base\", \"back_bottom\")\n",
    "    use_skeleton.add_edge(\"back_bottom\", \"back_middle\")\n",
    "    use_skeleton.add_edge(\"back_middle\", \"back_top\")\n",
    "    use_skeleton.add_edge(\"foreleg_L\", \"back_top\")\n",
    "    use_skeleton.add_edge(\"foreleg_R\", \"back_top\")\n",
    "    use_skeleton.add_symmetry(\"foreleg_L\",\"foreleg_R\")\n",
    "    use_skeleton.add_symmetry(\"hindleg_L\",\"hindleg_R\")\n",
    "elif \"knee_L\" in segments_id_map.values():\n",
    "    is_joints = True\n",
    "    use_skeleton.add_symmetry(\"knee_L\",\"knee_R\")"
   ]
  },
  {
   "cell_type": "code",
   "execution_count": 18,
   "id": "9d192635-e12a-493f-9e74-bf65038f4dfe",
   "metadata": {},
   "outputs": [],
   "source": [
    "# get some essentials\n",
    "reader = vid.io.AutoReader(dat_paths_reflect[0])"
   ]
  },
  {
   "cell_type": "code",
   "execution_count": 19,
   "id": "7287f301-d78c-4466-8384-30fac96108fc",
   "metadata": {},
   "outputs": [],
   "source": [
    "writer_kwargs = {\"frame_size\": reader.frame_size,\n",
    "                 \"dtype\": reader.dtype,\n",
    "                 \"fps\": reader.fps,\n",
    "                 \"pixel_format\": reader.pixel_format}"
   ]
  },
  {
   "cell_type": "code",
   "execution_count": 20,
   "id": "6eaec496-09a7-4337-82e9-f2edf8d5e31b",
   "metadata": {},
   "outputs": [],
   "source": [
    "reader.close()"
   ]
  },
  {
   "cell_type": "code",
   "execution_count": 23,
   "id": "38872ca7-480f-4919-9afb-37ccc878a417",
   "metadata": {},
   "outputs": [],
   "source": [
    "bground_path = \"_bground\""
   ]
  },
  {
   "cell_type": "code",
   "execution_count": 24,
   "id": "857bcfa0-a4d5-4e24-9dd6-10bb48cf6085",
   "metadata": {},
   "outputs": [
    {
     "data": {
      "application/vnd.jupyter.widget-view+json": {
       "model_id": "ee209672e9be48e88c3b186a7a9baea5",
       "version_major": 2,
       "version_minor": 0
      },
      "text/plain": [
       "  0%|          | 0/1 [00:00<?, ?it/s]"
      ]
     },
     "metadata": {},
     "output_type": "display_data"
    },
    {
     "data": {
      "application/vnd.jupyter.widget-view+json": {
       "model_id": "84d0b7fc96174f8cab535a1aa363c9ef",
       "version_major": 2,
       "version_minor": 0
      },
      "text/plain": [
       "  0%|          | 0/3 [00:00<?, ?it/s]"
      ]
     },
     "metadata": {},
     "output_type": "display_data"
    },
    {
     "data": {
      "application/vnd.jupyter.widget-view+json": {
       "model_id": "a906e10257f64d8fb1794bca201a5616",
       "version_major": 2,
       "version_minor": 0
      },
      "text/plain": [
       "  0%|          | 0/5 [00:00<?, ?it/s]"
      ]
     },
     "metadata": {},
     "output_type": "display_data"
    },
    {
     "name": "stdout",
     "output_type": "stream",
     "text": [
      "n(labels) 822\n"
     ]
    },
    {
     "data": {
      "application/vnd.jupyter.widget-view+json": {
       "model_id": "9fd357fae43a4d4082fe27e463d07de4",
       "version_major": 2,
       "version_minor": 0
      },
      "text/plain": [
       "  0%|          | 0/5 [00:00<?, ?it/s]"
      ]
     },
     "metadata": {},
     "output_type": "display_data"
    },
    {
     "name": "stdout",
     "output_type": "stream",
     "text": [
      "n(labels) 822\n"
     ]
    },
    {
     "data": {
      "application/vnd.jupyter.widget-view+json": {
       "model_id": "c05ab8b648b24a17983a68b69aa739c1",
       "version_major": 2,
       "version_minor": 0
      },
      "text/plain": [
       "  0%|          | 0/5 [00:00<?, ?it/s]"
      ]
     },
     "metadata": {},
     "output_type": "display_data"
    },
    {
     "name": "stdout",
     "output_type": "stream",
     "text": [
      "n(labels) 822\n"
     ]
    }
   ],
   "source": [
    "# bpass = [None, (1, 3), (1, 5)]\n",
    "bpass = [None]\n",
    "weights = [\n",
    "    None,\n",
    "    (0.0, 1.0),\n",
    "    # (0.25, 0.75),\n",
    "    # (0.5, 0.5),\n",
    "    # (0.75, 0.25),\n",
    "    (1.0, 0.0),\n",
    "]  # fluo vs reflect weights\n",
    "force = True\n",
    "for _bpass in tqdm(bpass):\n",
    "    for _weights in tqdm(weights):\n",
    "        if is_joints:\n",
    "            save_path = os.path.join(\n",
    "                output_dir, f\"train_frames_kneejoints_fused_weights-{_weights}_bpass-{_bpass}.avi\"\n",
    "            )\n",
    "        else:\n",
    "            save_path = os.path.join(\n",
    "                output_dir, f\"train_frames_fused_weights-{_weights}_bpass-{_bpass}.avi\"\n",
    "            )\n",
    "        if os.path.exists(save_path) and (not force):\n",
    "            continue\n",
    "\n",
    "        save_path_sleap = os.path.splitext(save_path)[0] + \".slp\"\n",
    "        save_path_metadata = os.path.splitext(save_path)[0] + \".toml\"\n",
    "\n",
    "        writer_kwargs[\"pixel_format\"] = \"bgr24\" if _weights is None else \"gray\"\n",
    "        writer = vid.io.AviWriter(save_path, **writer_kwargs)\n",
    "        vid_obj = Video.from_filename(save_path, grayscale=(not _weights is None))\n",
    "\n",
    "        cur_idx = 0\n",
    "        all_labeled_frames = []\n",
    "        all_segments_metadata = {\"segments_metadata\" : []}\n",
    "        for _file in tqdm(uniq_files):\n",
    "            use_labels = [\n",
    "                (_label, _sample)\n",
    "                for _label, _sample in segments_labels\n",
    "                if _sample.metadata[\"dat_path_reflect\"] == _file\n",
    "            ]\n",
    "            use_frames = [\n",
    "                _sample.metadata[\"frame_index\"] for _label, _sample in use_labels\n",
    "            ]\n",
    "\n",
    "            fluo_fname = _file.replace(\"-reflectance.avi\", \"-fluorescence.avi\")\n",
    "\n",
    "            reflect_reader = vid.io.AutoReader(_file)\n",
    "            fluo_reader = vid.io.AutoReader(fluo_fname)\n",
    "            reflect_frames = reflect_reader.get_frames(use_frames)\n",
    "            fluo_frames = fluo_reader.get_frames(use_frames).copy()\n",
    "            reflect_reader.close()\n",
    "            fluo_reader.close()\n",
    "\n",
    "            dirname = os.path.dirname(_file)\n",
    "            bground_fname = os.path.splitext(os.path.basename(fluo_fname))[0]\n",
    "            use_bground_path = os.path.join(\n",
    "                dirname, bground_path, f\"{bground_fname}.hdf5\"\n",
    "            )\n",
    "\n",
    "            with h5py.File(use_bground_path, \"r\") as f:\n",
    "                rolling_bgrounds = f[\"bground\"][()]\n",
    "                idxs = f[\"frame_idxs\"][()]\n",
    "\n",
    "            for i, (_idx, _frame) in enumerate(zip(use_frames, fluo_frames)):\n",
    "                use_bground = np.argmin(np.abs(idxs - _idx))\n",
    "                fluo_frames[i] = np.clip(\n",
    "                    _frame - rolling_bgrounds[use_bground], 0, 255\n",
    "                ).astype(\"uint8\")\n",
    "\n",
    "            if _weights is not None:\n",
    "                write_frames = np.zeros_like(reflect_frames)\n",
    "\n",
    "                for i, (_reflect, _fluo) in enumerate(zip(reflect_frames, fluo_frames)):\n",
    "                    frame_index = use_frames[i]\n",
    "\n",
    "                    if _bpass is not None:\n",
    "                        proc_fluo = bp_filter(_fluo.astype(\"float32\"), *_bpass)\n",
    "                    else:\n",
    "                        proc_fluo = _fluo.astype(\"float32\")\n",
    "                    proc_fluo[proc_fluo <= 0] = 0\n",
    "\n",
    "                    if _weights[1] == 1:\n",
    "                        new_im = _reflect.astype(\"uint8\") # skip normalization if we're not combining\n",
    "                    elif _weights[0] == 1:\n",
    "                        new_im = proc_fluo.astype(\"uint8\") # skip normalization if we're not combining\n",
    "                    else:\n",
    "                        new_im = _weights[0] * proc_fluo + _weights[1] * _reflect\n",
    "                        new_im = (new_im - new_im.min()) / (new_im.max() - new_im.min())\n",
    "                        new_im *= 255\n",
    "                        new_im = new_im.astype(\"uint8\")\n",
    "\n",
    "                    write_frames[i] = new_im\n",
    "            else:\n",
    "                write_frames = np.zeros(\n",
    "                    (\n",
    "                        reflect_frames.shape[0],\n",
    "                        reflect_frames.shape[1],\n",
    "                        reflect_frames.shape[2],\n",
    "                        3, # bgr\n",
    "                    ),\n",
    "                    dtype=\"uint8\",\n",
    "                )\n",
    "                for i, (_reflect, _fluo) in enumerate(zip(reflect_frames, fluo_frames)):\n",
    "\n",
    "                    if _bpass is not None:\n",
    "                        proc_fluo = bp_filter(_fluo.astype(\"float32\"), *_bpass)\n",
    "                    else:\n",
    "                        proc_fluo = _fluo.astype(\"float32\")\n",
    "                    proc_fluo[proc_fluo <= 0] = 0\n",
    "                    \n",
    "                    write_frames[i][...,0] = proc_fluo.astype(\"uint8\")\n",
    "                    write_frames[i][...,1] = _reflect\n",
    "                    write_frames[i][...,2] = _reflect\n",
    "\n",
    "            for (_label, _sample), _frame in zip(use_labels, write_frames):\n",
    "                use_points = {}\n",
    "                for _annotation in _label.attributes.annotations:\n",
    "                    x, y = _annotation.points[0]\n",
    "                    name = segments_id_map[_annotation.category_id]\n",
    "                    common_name = name.split(\" \")[0]\n",
    "                    use_points[common_name] = Point(\n",
    "                        x=x, y=y, visible=True, complete=True\n",
    "                    )\n",
    "                if len(use_points) > 0:\n",
    "                    # only write a frame if we're here...\n",
    "                    writer.write_frames([_frame], progress_bar=False)\n",
    "                    instance = Instance(skeleton=use_skeleton, points=use_points)\n",
    "                    labeled_frame = LabeledFrame(\n",
    "                        video=vid_obj, instances=[instance], frame_idx=cur_idx\n",
    "                    )\n",
    "                    all_labeled_frames.append(labeled_frame)\n",
    "\n",
    "                    # metadata to stash\n",
    "                    metadata = {\n",
    "                        \"uuid\": _sample.uuid,        \n",
    "                        \"dat_path_fluo\": _sample.metadata[\"dat_path_fluo\"],    \n",
    "                        \"dat_path_reflect\": _sample.metadata[\"dat_path_reflect\"],\n",
    "                        \"img_path\": _sample.metadata[\"img_path\"],\n",
    "                        \"frame_index\": _sample.metadata[\"frame_index\"],\n",
    "                        \"camera\": _sample.metadata[\"camera\"],\n",
    "                        \"pad\": _sample.metadata[\"pad\"],\n",
    "                        \"dataset_index\": len(all_labeled_frames) - 1\n",
    "                    }\n",
    "                    all_segments_metadata[\"segments_metadata\"].append(metadata)\n",
    "                    cur_idx += 1\n",
    "\n",
    "            # read in frames, map to avi etc.\n",
    "\n",
    "        writer.close()\n",
    "        labels = Labels(all_labeled_frames)\n",
    "        print(f\"n(labels) {len(labels)}\")\n",
    "        with open(save_path_metadata, \"w\") as f:\n",
    "            toml.dump(all_segments_metadata, f)\n",
    "        labels.save(save_path_sleap, with_images=True)"
   ]
  },
  {
   "cell_type": "code",
   "execution_count": 25,
   "id": "04ca366c-9292-4111-9f28-d4cc9ed2dad8",
   "metadata": {},
   "outputs": [
    {
     "data": {
      "text/plain": [
       "Instance(video=Video(filename=/home/jmarkow/data_dir/active_projects/keypoints_basler_nir_plexiglass_arena/sleap_training/_labels/train_frames_kneejoints_fused_weights-(1.0, 0.0)_bpass-None.avi, shape=(822, 1023, 1008, 1), backend=MediaVideo), frame_idx=821, points=[knee_R: (327.4, 549.2)], track=None)"
      ]
     },
     "execution_count": 25,
     "metadata": {},
     "output_type": "execute_result"
    }
   ],
   "source": [
    "instance"
   ]
  },
  {
   "cell_type": "code",
   "execution_count": 26,
   "id": "43e2285c-e728-4ce4-af07-3a27d4d94492",
   "metadata": {},
   "outputs": [],
   "source": [
    "instance = labels[2].instances[0]"
   ]
  },
  {
   "cell_type": "code",
   "execution_count": 27,
   "id": "feebf1cc-341b-417f-b365-c76b548a83d0",
   "metadata": {},
   "outputs": [
    {
     "data": {
      "image/png": "[encoded data removed]",
      "text/plain": [
       "<Figure size 640x480 with 1 Axes>"
      ]
     },
     "metadata": {},
     "output_type": "display_data"
    }
   ],
   "source": [
    "plt.imshow(labels[2].image[:,:,0])\n",
    "for _point in instance.points:\n",
    "    # pass\n",
    "    plt.scatter(_point.x, _point.y, s=10, c=\"r\")"
   ]
  },
  {
   "cell_type": "code",
   "execution_count": null,
   "id": "00280196-211f-4ab9-925d-70de438db196",
   "metadata": {},
   "outputs": [],
   "source": []
  },
  {
   "cell_type": "code",
   "execution_count": null,
   "id": "c274729a-9fbd-4145-b76d-be3fdc4da906",
   "metadata": {},
   "outputs": [],
   "source": []
  }
 ],
 "metadata": {
  "kernelspec": {
   "display_name": "Python [conda env:sleap-analysis]",
   "language": "python",
   "name": "conda-env-sleap-analysis-py"
  },
  "language_info": {
   "codemirror_mode": {
    "name": "ipython",
    "version": 3
   },
   "file_extension": ".py",
   "mimetype": "text/x-python",
   "name": "python",
   "nbconvert_exporter": "python",
   "pygments_lexer": "ipython3",
   "version": "3.10.13"
  }
 },
 "nbformat": 4,
 "nbformat_minor": 5
}
