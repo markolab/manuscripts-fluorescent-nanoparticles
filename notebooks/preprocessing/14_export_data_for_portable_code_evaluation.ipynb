{
 "cells": [
  {
   "cell_type": "markdown",
   "id": "cf5f4e0e-68f5-40a1-9b31-246295af6f1f",
   "metadata": {},
   "source": [
    " This notebook takes pre-processing outputs that require access to the raw dataset and:\n",
    "1. gives them sensible names\n",
    "2. exports them to single location"
   ]
  },
  {
   "cell_type": "code",
   "execution_count": 1,
   "id": "5f17da30-45c1-48dc-88ed-cb3c5371e855",
   "metadata": {
    "tags": []
   },
   "outputs": [],
   "source": [
    "%load_ext autoreload\n",
    "%autoreload 2\n",
    "%matplotlib inline"
   ]
  },
  {
   "cell_type": "code",
   "execution_count": 2,
   "id": "32ebef63-7529-4361-8cf1-0a4bfb076968",
   "metadata": {
    "tags": []
   },
   "outputs": [],
   "source": [
    "import os\n",
    "import shutil\n",
    "import toml\n",
    "import glob\n",
    "from tqdm.auto import tqdm"
   ]
  },
  {
   "cell_type": "code",
   "execution_count": 3,
   "id": "6e10c89b-5f37-4176-ba1e-3ca6c336a7aa",
   "metadata": {},
   "outputs": [],
   "source": [
    "root_dir = os.path.expanduser(\"~/shared_folder/active_lab_members/markowitz_jeffrey/active_projects\")"
   ]
  },
  {
   "cell_type": "code",
   "execution_count": 4,
   "id": "600b549c-95b0-45e2-9233-a1062a10c315",
   "metadata": {},
   "outputs": [],
   "source": [
    "qd_analysis_dir = toml.load(\"config.toml\")[\"dirs\"][\"analysis\"]\n",
    "keypoint_training_dir = \"keypoints_basler_nir_plexiglass_arena/sleap_training_round2/\" "
   ]
  },
  {
   "cell_type": "code",
   "execution_count": 5,
   "id": "fe347f9c-748a-4642-99ee-45d14d8b6c66",
   "metadata": {},
   "outputs": [],
   "source": [
    "export_dir = os.path.join(root_dir, \"quantum_dots/_for_paper/ulutas_et_al_data/\")"
   ]
  },
  {
   "cell_type": "markdown",
   "id": "b984904a-aa3a-4542-8a52-312230ab1834",
   "metadata": {},
   "source": [
    "from the analysis dir we need\n",
    "1. histology from round1 and round2\n",
    "2. fluorescence decay/intensity data\n",
    "3. spatial autocorrelation data\n",
    "4. manually labeled keypoint data\n",
    "5. autolabeled keypoint data\n",
    "6. other evaluations... "
   ]
  },
  {
   "cell_type": "markdown",
   "id": "0dce4e9d-27d3-40d5-8869-4efe79cc26ef",
   "metadata": {},
   "source": [
    "### histology round 1"
   ]
  },
  {
   "cell_type": "code",
   "execution_count": 6,
   "id": "1901c1d6-8cf7-489a-af81-d9930c7ac49b",
   "metadata": {},
   "outputs": [],
   "source": [
    "histology_data_dir = os.path.join(root_dir, \"quantum_dots/histology/\")\n",
    "histology_data_files = sorted(glob.glob(os.path.join(histology_data_dir, \"*.nd2\")))\n",
    "histology_data_files = [_file for _file in histology_data_files if \"BF\" not in _file]"
   ]
  },
  {
   "cell_type": "code",
   "execution_count": 7,
   "id": "cea63ff9-c24b-4ceb-9e40-eaccd68e9967",
   "metadata": {},
   "outputs": [],
   "source": [
    "use_export_dir = os.path.join(export_dir, \"histology_epifluorescence\")"
   ]
  },
  {
   "cell_type": "code",
   "execution_count": 8,
   "id": "56809f28-acf9-4d09-96b0-b2db09f7033c",
   "metadata": {},
   "outputs": [],
   "source": [
    "os.makedirs(use_export_dir, exist_ok=True)"
   ]
  },
  {
   "cell_type": "code",
   "execution_count": 9,
   "id": "028322ea-5167-41f8-9e8f-2f88bf7e87e1",
   "metadata": {},
   "outputs": [],
   "source": [
    "# now copy the data files over to the new directory"
   ]
  },
  {
   "cell_type": "code",
   "execution_count": 10,
   "id": "f8fc2cad-9979-477c-bcab-0b8ac82264a3",
   "metadata": {},
   "outputs": [
    {
     "data": {
      "application/vnd.jupyter.widget-view+json": {
       "model_id": "c99f319b51c243d8a6c79d7085d1f67b",
       "version_major": 2,
       "version_minor": 0
      },
      "text/plain": [
       "  0%|          | 0/7 [00:00<?, ?it/s]"
      ]
     },
     "metadata": {},
     "output_type": "display_data"
    }
   ],
   "source": [
    "for _file in tqdm(histology_data_files):\n",
    "    new_file = os.path.join(use_export_dir, os.path.basename(_file))\n",
    "    if not os.path.exists(new_file):\n",
    "        shutil.copyfile(_file, new_file)"
   ]
  },
  {
   "cell_type": "code",
   "execution_count": 11,
   "id": "0f12a639-521e-4d79-aeaa-eb0ffea1d121",
   "metadata": {},
   "outputs": [
    {
     "data": {
      "text/plain": [
       "7"
      ]
     },
     "execution_count": 11,
     "metadata": {},
     "output_type": "execute_result"
    }
   ],
   "source": [
    "len(histology_data_files)"
   ]
  },
  {
   "cell_type": "code",
   "execution_count": 12,
   "id": "a703f91b-ba2a-4dc4-8dbe-f0c30b679bb6",
   "metadata": {},
   "outputs": [
    {
     "data": {
      "text/plain": [
       "7"
      ]
     },
     "execution_count": 12,
     "metadata": {},
     "output_type": "execute_result"
    }
   ],
   "source": [
    "len(glob.glob(os.path.join(use_export_dir,\"*.nd2\")))"
   ]
  },
  {
   "cell_type": "markdown",
   "id": "d1066da7-0149-4587-af8e-9c6617ef2a1b",
   "metadata": {},
   "source": [
    "### histology round 2 -- wga & dapi"
   ]
  },
  {
   "cell_type": "code",
   "execution_count": 13,
   "id": "19ac3fcc-cec8-4fe7-9757-c5f876e2b307",
   "metadata": {},
   "outputs": [],
   "source": [
    "histology_round2_wga_data_dirs = [\n",
    "    os.path.join(root_dir, \"quantum_dots/sciadv_rebuttal/histology/Quantification_QDR_20um_cell_and_vasc/\"),\n",
    "    os.path.join(root_dir, \"quantum_dots/sciadv_rebuttal/histology/QDR_cell_vasc_+4h_WGA_DAPI_20X_zeynep/\"),\n",
    "]\n",
    "histology_round2_wga_data_files = []\n",
    "for _dir in histology_round2_wga_data_dirs:\n",
    "    histology_round2_wga_data_files += sorted(glob.glob(os.path.join(_dir, \"*20X.czi\")))\n",
    "# data_files = [_file for _file in data_files if \"BF\" not in _file]"
   ]
  },
  {
   "cell_type": "code",
   "execution_count": 14,
   "id": "9e277038-c23c-420f-87b9-093bd83e99cc",
   "metadata": {},
   "outputs": [],
   "source": [
    "use_export_dir = os.path.join(export_dir, \"histology_round2_wpa-and-dapi\")\n",
    "os.makedirs(use_export_dir, exist_ok=True)"
   ]
  },
  {
   "cell_type": "code",
   "execution_count": 15,
   "id": "13e16401-d1a2-48e7-b5f5-3c4c6f01ba4b",
   "metadata": {},
   "outputs": [
    {
     "data": {
      "application/vnd.jupyter.widget-view+json": {
       "model_id": "a18e9657f10444edbd8f040eb3ed185f",
       "version_major": 2,
       "version_minor": 0
      },
      "text/plain": [
       "  0%|          | 0/17 [00:00<?, ?it/s]"
      ]
     },
     "metadata": {},
     "output_type": "display_data"
    }
   ],
   "source": [
    "for _file in tqdm(histology_round2_wga_data_files):\n",
    "    new_file = os.path.join(use_export_dir, os.path.basename(_file))\n",
    "    if not os.path.exists(new_file):\n",
    "        shutil.copyfile(_file, new_file)"
   ]
  },
  {
   "cell_type": "code",
   "execution_count": 16,
   "id": "f64ac4a9-84fd-4a01-8e50-d0a9b0f5922a",
   "metadata": {},
   "outputs": [
    {
     "data": {
      "text/plain": [
       "17"
      ]
     },
     "execution_count": 16,
     "metadata": {},
     "output_type": "execute_result"
    }
   ],
   "source": [
    "len(histology_round2_wga_data_files)"
   ]
  },
  {
   "cell_type": "code",
   "execution_count": 17,
   "id": "ffd3a185-4c78-4d2a-9778-02e251b874d1",
   "metadata": {},
   "outputs": [
    {
     "data": {
      "text/plain": [
       "17"
      ]
     },
     "execution_count": 17,
     "metadata": {},
     "output_type": "execute_result"
    }
   ],
   "source": [
    "len(glob.glob(os.path.join(use_export_dir, \"*20X.czi\")))"
   ]
  },
  {
   "cell_type": "markdown",
   "id": "4316644d-432f-4b70-8f8a-dcd42a1ed1fa",
   "metadata": {},
   "source": [
    "### histology round 2 -- collagen & dapi"
   ]
  },
  {
   "cell_type": "code",
   "execution_count": 18,
   "id": "aeb3eaad-3517-4d40-9bcd-5a2771ea9ed8",
   "metadata": {},
   "outputs": [],
   "source": [
    "histology_round2_coll_data_dir = os.path.join(root_dir, \"quantum_dots/sciadv_rebuttal/histology/QDR_QDcoll_collagen_488_+1d_DAPI_63X/\")\n",
    "histology_round2_coll_data_files = sorted(glob.glob(os.path.join(histology_round2_coll_data_dir, \"*63X.czi\")))"
   ]
  },
  {
   "cell_type": "code",
   "execution_count": 19,
   "id": "28866cbd-9cb7-4655-9b45-8186b8175a9d",
   "metadata": {},
   "outputs": [],
   "source": [
    "use_export_dir = os.path.join(export_dir, \"histology_round2_collagen-and-dapi\")\n",
    "os.makedirs(use_export_dir, exist_ok=True)"
   ]
  },
  {
   "cell_type": "code",
   "execution_count": 20,
   "id": "c4f9e82d-35f9-4d5e-9121-37a3fa2e6a0e",
   "metadata": {},
   "outputs": [
    {
     "data": {
      "application/vnd.jupyter.widget-view+json": {
       "model_id": "a299c6236a464fe28b77b0a4e34a530a",
       "version_major": 2,
       "version_minor": 0
      },
      "text/plain": [
       "  0%|          | 0/23 [00:00<?, ?it/s]"
      ]
     },
     "metadata": {},
     "output_type": "display_data"
    }
   ],
   "source": [
    "for _file in tqdm(histology_round2_coll_data_files):\n",
    "    new_file = os.path.join(use_export_dir, os.path.basename(_file))\n",
    "    if not os.path.exists(new_file):\n",
    "        shutil.copyfile(_file, new_file)"
   ]
  },
  {
   "cell_type": "code",
   "execution_count": 21,
   "id": "b37d9fd1-f1cb-44f4-a367-9cad5474475e",
   "metadata": {},
   "outputs": [
    {
     "data": {
      "text/plain": [
       "23"
      ]
     },
     "execution_count": 21,
     "metadata": {},
     "output_type": "execute_result"
    }
   ],
   "source": [
    "len(histology_round2_coll_data_files)"
   ]
  },
  {
   "cell_type": "code",
   "execution_count": 22,
   "id": "f907e1b6-3643-495c-9cfa-040c26b85df3",
   "metadata": {},
   "outputs": [
    {
     "data": {
      "text/plain": [
       "23"
      ]
     },
     "execution_count": 22,
     "metadata": {},
     "output_type": "execute_result"
    }
   ],
   "source": [
    "len(glob.glob(os.path.join(use_export_dir, \"*.czi\")))"
   ]
  },
  {
   "cell_type": "markdown",
   "id": "d70eb2fe-790b-47bd-9199-c084589d7687",
   "metadata": {},
   "source": [
    "### bead images"
   ]
  },
  {
   "cell_type": "code",
   "execution_count": 23,
   "id": "1ba669f2-07fd-4924-aec4-6c3fe85bd01b",
   "metadata": {},
   "outputs": [],
   "source": [
    "bead_image_data_dir = os.path.join(root_dir, \"quantum_dots/beads_images/\")\n",
    "bead_image_data_files = sorted(glob.glob(os.path.join(bead_image_data_dir, \"*.nd2\")))"
   ]
  },
  {
   "cell_type": "code",
   "execution_count": 24,
   "id": "c25df6f4-bb4d-4820-a9e7-be1798b804ea",
   "metadata": {},
   "outputs": [],
   "source": [
    "use_export_dir = os.path.join(export_dir, \"bead_tests\")\n",
    "os.makedirs(use_export_dir, exist_ok=True)"
   ]
  },
  {
   "cell_type": "code",
   "execution_count": 25,
   "id": "6dbf729a-8862-4949-8d8e-4317fe84dc37",
   "metadata": {},
   "outputs": [
    {
     "data": {
      "application/vnd.jupyter.widget-view+json": {
       "model_id": "3c0473b6ae3b4be08a0863aa1f1fa79b",
       "version_major": 2,
       "version_minor": 0
      },
      "text/plain": [
       "  0%|          | 0/22 [00:00<?, ?it/s]"
      ]
     },
     "metadata": {},
     "output_type": "display_data"
    }
   ],
   "source": [
    "for _file in tqdm(bead_image_data_files):\n",
    "    new_file = os.path.join(use_export_dir, os.path.basename(_file))\n",
    "    if not os.path.exists(new_file):\n",
    "        shutil.copyfile(_file, new_file)"
   ]
  },
  {
   "cell_type": "code",
   "execution_count": 26,
   "id": "7e2e84f4-ebb4-4078-ad1f-4155a33c5559",
   "metadata": {},
   "outputs": [
    {
     "data": {
      "text/plain": [
       "22"
      ]
     },
     "execution_count": 26,
     "metadata": {},
     "output_type": "execute_result"
    }
   ],
   "source": [
    "len(bead_image_data_files)"
   ]
  },
  {
   "cell_type": "code",
   "execution_count": 27,
   "id": "3183eb51-147b-447f-ac8a-361ac74f34be",
   "metadata": {},
   "outputs": [
    {
     "data": {
      "text/plain": [
       "22"
      ]
     },
     "execution_count": 27,
     "metadata": {},
     "output_type": "execute_result"
    }
   ],
   "source": [
    "len(glob.glob(os.path.join(use_export_dir, \"*.nd2\")))"
   ]
  },
  {
   "cell_type": "markdown",
   "id": "e17afbb3-5738-4ca6-993b-0b4c4cbe289b",
   "metadata": {},
   "source": [
    "### fluorescence intensity data"
   ]
  },
  {
   "cell_type": "code",
   "execution_count": 28,
   "id": "f5cc73da-4a12-49f5-922e-7a290c3ec2a8",
   "metadata": {},
   "outputs": [],
   "source": [
    "intensity_parquet_file = os.path.join(qd_analysis_dir, \"fluorescence_intensity_over_time.parquet\")"
   ]
  },
  {
   "cell_type": "code",
   "execution_count": 29,
   "id": "9749a3b0-3d18-4680-ac96-77af6d17fc36",
   "metadata": {},
   "outputs": [],
   "source": [
    "use_export_dir = os.path.join(export_dir, \"dataframes\")\n",
    "os.makedirs(use_export_dir, exist_ok=True)"
   ]
  },
  {
   "cell_type": "code",
   "execution_count": 30,
   "id": "39c2851b-8861-4375-8147-1983be8704a8",
   "metadata": {},
   "outputs": [
    {
     "data": {
      "text/plain": [
       "'/storage/home/hcoda1/4/jmarkowitz30/shared_folder/active_lab_members/markowitz_jeffrey/active_projects/quantum_dots/_for_paper/ulutas_et_al_data/dataframes/fluorescence_intensity_over_time.parquet'"
      ]
     },
     "execution_count": 30,
     "metadata": {},
     "output_type": "execute_result"
    }
   ],
   "source": [
    "shutil.copyfile(intensity_parquet_file, os.path.join(use_export_dir, os.path.basename(intensity_parquet_file)))"
   ]
  },
  {
   "cell_type": "markdown",
   "id": "d725f38c-3200-4a21-8a97-6ed0fcab5017",
   "metadata": {},
   "source": [
    "### spatial autocorrelation data"
   ]
  },
  {
   "cell_type": "code",
   "execution_count": 31,
   "id": "fea745ec-25da-4a65-9230-7006c06ea191",
   "metadata": {},
   "outputs": [],
   "source": [
    "autocorrelation_parquet_file = os.path.join(qd_analysis_dir, \"fluorescence_autocorrelation.parquet\")"
   ]
  },
  {
   "cell_type": "code",
   "execution_count": 32,
   "id": "dbc65994-f731-4cff-8c75-d691b24813ff",
   "metadata": {},
   "outputs": [],
   "source": [
    "use_export_dir = os.path.join(export_dir, \"dataframes\")\n",
    "os.makedirs(use_export_dir, exist_ok=True)"
   ]
  },
  {
   "cell_type": "code",
   "execution_count": 33,
   "id": "444337d3-0c69-4b71-b6c4-072fc71f743c",
   "metadata": {},
   "outputs": [
    {
     "data": {
      "text/plain": [
       "'/storage/home/hcoda1/4/jmarkowitz30/shared_folder/active_lab_members/markowitz_jeffrey/active_projects/quantum_dots/_for_paper/ulutas_et_al_data/dataframes/fluorescence_autocorrelation.parquet'"
      ]
     },
     "execution_count": 33,
     "metadata": {},
     "output_type": "execute_result"
    }
   ],
   "source": [
    "shutil.copyfile(autocorrelation_parquet_file, os.path.join(use_export_dir, os.path.basename(autocorrelation_parquet_file)))"
   ]
  },
  {
   "cell_type": "markdown",
   "id": "92ffd43f-6212-4492-b9ee-c980fff62082",
   "metadata": {},
   "source": [
    "### Autolabeled datasets"
   ]
  },
  {
   "cell_type": "code",
   "execution_count": 34,
   "id": "06a775aa-66f0-4cc5-a84c-66de018398fd",
   "metadata": {},
   "outputs": [],
   "source": [
    "autolabel_keypoint_files = [\n",
    "    os.path.join(root_dir, \"keypoints_basler_nir_plexiglass_arena/sleap_training_round2/_labels_qd/kpoint_training_dataset_qd_alignment_round2_manual_labeling_nofluo_version-v1-embed-True-sleap-version.slp\"),\n",
    "    os.path.join(root_dir, \"keypoints_basler_nir_plexiglass_arena/sleap_training_round2/_labels_qd/kpoint_training_dataset_qd_alignment_kneejoints_reflect_only_round2_manual_labeling_nofluo_version-v1-embed-True-sleap-version.slp\")\n",
    "]"
   ]
  },
  {
   "cell_type": "code",
   "execution_count": 35,
   "id": "b9f37fce-6815-4513-9654-71864f466a7f",
   "metadata": {},
   "outputs": [],
   "source": [
    "use_export_dir = os.path.join(export_dir, \"autolabeled_keypoints\")\n",
    "os.makedirs(use_export_dir, exist_ok=True)"
   ]
  },
  {
   "cell_type": "code",
   "execution_count": 36,
   "id": "e40b8e7c-86e7-49d8-8811-6da81715f2c1",
   "metadata": {},
   "outputs": [
    {
     "data": {
      "application/vnd.jupyter.widget-view+json": {
       "model_id": "35c2ac8c3d5742a69806aef2c7d4016f",
       "version_major": 2,
       "version_minor": 0
      },
      "text/plain": [
       "  0%|          | 0/2 [00:00<?, ?it/s]"
      ]
     },
     "metadata": {},
     "output_type": "display_data"
    }
   ],
   "source": [
    "for _file in tqdm(autolabel_keypoint_files):\n",
    "    if \"kneejoints\" in _file:\n",
    "        use_fname = \"autolabel_kneejoints.slp\"\n",
    "    else:\n",
    "        use_fname = \"autolabel_standard-keypoints.slp\"\n",
    "    use_metadata_fname = use_fname.replace(\".slp\", \".toml\")\n",
    "    use_parquet_fname = use_fname.replace(\".slp\", \".parquet\")\n",
    "    _metadata_fname = _file.replace(\".slp\", \".toml\")\n",
    "    _parquet_fname = _file.replace(\"-embed-True-sleap-version.slp\", \".parquet\")\n",
    "    shutil.copyfile(_file, os.path.join(use_export_dir, use_fname))\n",
    "    shutil.copyfile(_metadata_fname, os.path.join(use_export_dir, use_metadata_fname))\n",
    "    shutil.copyfile(_parquet_fname, os.path.join(use_export_dir, use_parquet_fname))"
   ]
  },
  {
   "cell_type": "markdown",
   "id": "e0d56a9f-ec6b-4f21-ab00-2fee281040db",
   "metadata": {},
   "source": [
    "### manually labeled datasets"
   ]
  },
  {
   "cell_type": "code",
   "execution_count": 69,
   "id": "13d1bec7-3af0-4e94-85c1-29ad9de55b45",
   "metadata": {},
   "outputs": [],
   "source": [
    "manual_label_keypoints_files = [\n",
    "     \"/storage/home/hcoda1/4/jmarkowitz30/shared_folder/active_lab_members/markowitz_jeffrey/active_projects/keypoints_basler_nir_plexiglass_arena/sleap_training_round2/_labels/basler-nir-plexiglass-arena-keypoints-fused-round2_weights-None_bpass-None_fluo-aligned.slp\",\n",
    "     \"/storage/home/hcoda1/4/jmarkowitz30/shared_folder/active_lab_members/markowitz_jeffrey/active_projects/keypoints_basler_nir_plexiglass_arena/sleap_training_round2/_labels/basler-nir-plexiglass-arena-keypoints-fused-kneejoints_weights-None_bpass-None_fluo-aligned.slp\"\n",
    "]"
   ]
  },
  {
   "cell_type": "code",
   "execution_count": 70,
   "id": "cef06ae5-99c5-4263-b195-d846b14a1979",
   "metadata": {},
   "outputs": [],
   "source": [
    "use_export_dir = os.path.join(export_dir, \"manually_labeled_keypoints\")\n",
    "os.makedirs(use_export_dir, exist_ok=True)"
   ]
  },
  {
   "cell_type": "code",
   "execution_count": 72,
   "id": "f7a8c3ab-ae8f-4e68-abe1-6f5cb985d420",
   "metadata": {},
   "outputs": [
    {
     "data": {
      "application/vnd.jupyter.widget-view+json": {
       "model_id": "8508984d00994f53a6110b62099dce2a",
       "version_major": 2,
       "version_minor": 0
      },
      "text/plain": [
       "  0%|          | 0/2 [00:00<?, ?it/s]"
      ]
     },
     "metadata": {},
     "output_type": "display_data"
    }
   ],
   "source": [
    "for _file in tqdm(manual_label_keypoints_files):\n",
    "    if \"kneejoints\" in _file:\n",
    "        use_fname = \"manual_label_kneejoints.slp\"\n",
    "    else:\n",
    "        use_fname = \"manual_label_standard-keypoints.slp\"\n",
    "    use_metadata_fname = use_fname.replace(\".slp\", \".toml\")\n",
    "    _metadata_fname = _file.replace(\".slp\", \".toml\")\n",
    "    shutil.copyfile(_file, os.path.join(use_export_dir, use_fname))\n",
    "    shutil.copyfile(_metadata_fname, os.path.join(use_export_dir, use_metadata_fname))"
   ]
  },
  {
   "cell_type": "markdown",
   "id": "56012eae-b9b3-4533-b331-97bd96cdf6cf",
   "metadata": {},
   "source": [
    "### Autolabeled data metrics"
   ]
  },
  {
   "cell_type": "code",
   "execution_count": 37,
   "id": "69973b31-e44d-4854-aa41-e8520b330b2e",
   "metadata": {},
   "outputs": [],
   "source": [
    "sleap_metrics_autolabel_training_parquet_file = os.path.join(qd_analysis_dir, \"sleap_metrics_qd_training.parquet\")"
   ]
  },
  {
   "cell_type": "code",
   "execution_count": 38,
   "id": "dccac33c-68b2-4cff-b3ce-645f42f7ba92",
   "metadata": {},
   "outputs": [],
   "source": [
    "use_export_dir = os.path.join(export_dir, \"dataframes\")\n",
    "os.makedirs(use_export_dir, exist_ok=True)"
   ]
  },
  {
   "cell_type": "code",
   "execution_count": 39,
   "id": "348f1d01-3b87-4b66-a14d-2adddad0a42c",
   "metadata": {},
   "outputs": [
    {
     "data": {
      "text/plain": [
       "'/storage/home/hcoda1/4/jmarkowitz30/shared_folder/active_lab_members/markowitz_jeffrey/active_projects/quantum_dots/_for_paper/ulutas_et_al_data/dataframes/sleap_metrics_qd_training.parquet'"
      ]
     },
     "execution_count": 39,
     "metadata": {},
     "output_type": "execute_result"
    }
   ],
   "source": [
    "shutil.copyfile(\n",
    "    sleap_metrics_autolabel_training_parquet_file,\n",
    "    os.path.join(use_export_dir, os.path.basename(sleap_metrics_autolabel_training_parquet_file)),\n",
    ")"
   ]
  },
  {
   "cell_type": "markdown",
   "id": "a6996110-6ec2-4255-afd7-589be96037ff",
   "metadata": {},
   "source": [
    "### Manually labeled data results"
   ]
  },
  {
   "cell_type": "code",
   "execution_count": 40,
   "id": "b092dc9f-50f8-4390-a64d-03b3964c50ab",
   "metadata": {},
   "outputs": [],
   "source": [
    "root_dir = \"/storage/home/hcoda1/4/jmarkowitz30/shared_folder/active_lab_members/markowitz_jeffrey/active_projects/\"\n",
    "proc_dirs = {\n",
    "    \"parameter_sweep\": \"keypoints_basler_nir_plexiglass_arena/sleap_training_round2/keypoints_from_manual_data_parameter_sweep/\",\n",
    "    \"different_modalities\": \"keypoints_basler_nir_plexiglass_arena/sleap_training_round2/keypoints_from_manual_data_different_modalities/\",\n",
    "    \"subsample\": \"keypoints_basler_nir_plexiglass_arena/sleap_training_round2/keypoints_from_manual_data_subsample/\",\n",
    "}"
   ]
  },
  {
   "cell_type": "code",
   "execution_count": 41,
   "id": "1fe5e326-6e9b-4170-8fe6-a303049c460c",
   "metadata": {},
   "outputs": [],
   "source": [
    "use_export_dir = os.path.join(export_dir, \"dataframes\")\n",
    "os.makedirs(use_export_dir, exist_ok=True)"
   ]
  },
  {
   "cell_type": "code",
   "execution_count": 42,
   "id": "9e813d50-3d09-479b-8174-321a06794dd6",
   "metadata": {},
   "outputs": [],
   "source": [
    "prefix = \"manually_labeled_data_\""
   ]
  },
  {
   "cell_type": "code",
   "execution_count": 43,
   "id": "fc8e6cd5-ea2c-48bd-a79f-f06886f08496",
   "metadata": {},
   "outputs": [
    {
     "data": {
      "application/vnd.jupyter.widget-view+json": {
       "model_id": "40e7fe229c59456f9817c384c1bf6aab",
       "version_major": 2,
       "version_minor": 0
      },
      "text/plain": [
       "  0%|          | 0/3 [00:00<?, ?it/s]"
      ]
     },
     "metadata": {},
     "output_type": "display_data"
    }
   ],
   "source": [
    "for k, v in tqdm(proc_dirs.items()):\n",
    "    new_file = os.path.join(use_export_dir, f\"{prefix}{k}.parquet\")\n",
    "    if not os.path.exists(new_file):\n",
    "        shutil.copyfile(\n",
    "            os.path.join(root_dir, v, \"aggregated_results.parquet\"),\n",
    "            new_file,\n",
    "        )"
   ]
  },
  {
   "cell_type": "markdown",
   "id": "247878cf-aa9a-44e5-93e7-a71959ea6e1d",
   "metadata": {},
   "source": [
    "### kneejoint cadaver"
   ]
  },
  {
   "cell_type": "code",
   "execution_count": 64,
   "id": "e9a43a7f-42d4-457a-a3f3-ae03acb83e6e",
   "metadata": {},
   "outputs": [],
   "source": [
    "kneejoint_image_data_dir = os.path.join(root_dir, \"quantum_dots/kneejoint_cadaver/\")\n",
    "kneejoint_image_data_files = sorted(glob.glob(os.path.join(kneejoint_image_data_dir, \"*.tiff\")))"
   ]
  },
  {
   "cell_type": "code",
   "execution_count": 65,
   "id": "b4abd1cc-8617-4032-bc8d-72ffa28629da",
   "metadata": {},
   "outputs": [],
   "source": [
    "use_export_dir = os.path.join(export_dir, \"kneejoint_cadaver_images\")\n",
    "os.makedirs(use_export_dir, exist_ok=True)"
   ]
  },
  {
   "cell_type": "code",
   "execution_count": 67,
   "id": "fabdb622-dce3-4b71-95b0-0cb163de7c8d",
   "metadata": {},
   "outputs": [
    {
     "data": {
      "application/vnd.jupyter.widget-view+json": {
       "model_id": "dcd9d63065e34b0799f821c09f330e24",
       "version_major": 2,
       "version_minor": 0
      },
      "text/plain": [
       "  0%|          | 0/12 [00:00<?, ?it/s]"
      ]
     },
     "metadata": {},
     "output_type": "display_data"
    }
   ],
   "source": [
    "for _file in tqdm(kneejoint_image_data_files):\n",
    "    new_file = os.path.join(use_export_dir, os.path.basename(_file))\n",
    "    if not os.path.exists(new_file):\n",
    "        shutil.copyfile(_file, new_file)"
   ]
  },
  {
   "cell_type": "markdown",
   "id": "c3ce1ff9-e372-4152-9191-2fcf256c2d61",
   "metadata": {},
   "source": [
    "### interlabeler datasets"
   ]
  },
  {
   "cell_type": "code",
   "execution_count": 44,
   "id": "9dbcf943-36a0-4989-96b8-f7200af13204",
   "metadata": {},
   "outputs": [],
   "source": [
    "interlabeler_data_files = sorted(glob.glob(os.path.join(qd_analysis_dir, \"interlabeler*samples*.pkl\")))"
   ]
  },
  {
   "cell_type": "code",
   "execution_count": 45,
   "id": "dfb56fff-ab1f-4e9d-9d76-5623a6443113",
   "metadata": {},
   "outputs": [],
   "source": [
    "use_export_dir = os.path.join(export_dir, \"interlabeler_error\")\n",
    "os.makedirs(use_export_dir, exist_ok=True)"
   ]
  },
  {
   "cell_type": "code",
   "execution_count": 46,
   "id": "e8f93289-d08b-454b-9894-3850017bbca4",
   "metadata": {},
   "outputs": [
    {
     "data": {
      "application/vnd.jupyter.widget-view+json": {
       "model_id": "e950bb4464574a2fb26bc563b36e11bd",
       "version_major": 2,
       "version_minor": 0
      },
      "text/plain": [
       "  0%|          | 0/4 [00:00<?, ?it/s]"
      ]
     },
     "metadata": {},
     "output_type": "display_data"
    }
   ],
   "source": [
    "for _file in tqdm(interlabeler_data_files):\n",
    "    new_file = os.path.join(use_export_dir, os.path.basename(_file))\n",
    "    if not os.path.exists(new_file):\n",
    "        shutil.copyfile(_file, new_file)"
   ]
  },
  {
   "cell_type": "markdown",
   "id": "6c9d6a1b-b890-48c5-b691-8b0fa017ecf8",
   "metadata": {},
   "source": [
    "### accuracy v. distance/angle from camera"
   ]
  },
  {
   "cell_type": "code",
   "execution_count": 47,
   "id": "4dda7060-808e-4302-afae-092f32b2830a",
   "metadata": {},
   "outputs": [],
   "source": [
    "accuracy_v_position_parquet = os.path.join(qd_analysis_dir, \"accuracy_v_distance_from_camera.parquet\")"
   ]
  },
  {
   "cell_type": "code",
   "execution_count": 48,
   "id": "f4c20f39-0584-4649-8e9b-942397d9d4c7",
   "metadata": {},
   "outputs": [],
   "source": [
    "use_export_dir = os.path.join(export_dir, \"dataframes\")\n",
    "os.makedirs(use_export_dir, exist_ok=True)"
   ]
  },
  {
   "cell_type": "code",
   "execution_count": 49,
   "id": "b7a095d7-20dd-4c9e-9146-f4d1f2a161cf",
   "metadata": {},
   "outputs": [
    {
     "data": {
      "text/plain": [
       "'/storage/home/hcoda1/4/jmarkowitz30/shared_folder/active_lab_members/markowitz_jeffrey/active_projects/quantum_dots/_for_paper/ulutas_et_al_data/dataframes/accuracy_v_distance_from_camera.parquet'"
      ]
     },
     "execution_count": 49,
     "metadata": {},
     "output_type": "execute_result"
    }
   ],
   "source": [
    "shutil.copyfile(\n",
    "    accuracy_v_position_parquet, os.path.join(use_export_dir, os.path.basename(accuracy_v_position_parquet))\n",
    ")"
   ]
  },
  {
   "cell_type": "markdown",
   "id": "5693fb0d-b0d0-4ab3-aa88-2bd44e5d52ba",
   "metadata": {},
   "source": [
    "### qdot 800 spectrum from chroma viewer"
   ]
  },
  {
   "cell_type": "code",
   "execution_count": 50,
   "id": "38e6aa19-e88c-4b2a-9296-88a42a4886e3",
   "metadata": {},
   "outputs": [],
   "source": [
    "qdot_800_csv = \"/storage/home/hcoda1/4/jmarkowitz30/shared_folder/active_lab_members/markowitz_jeffrey/active_projects/quantum_dots/misc/qdot_spectra/Qdot 800.csv\"\n",
    "led_excitation_xlsx = \"/storage/home/hcoda1/4/jmarkowitz30/shared_folder/active_lab_members/markowitz_jeffrey/active_projects/quantum_dots/misc/qdot_spectra/Raw Spectral Distribution Data.xlsx\""
   ]
  },
  {
   "cell_type": "code",
   "execution_count": 51,
   "id": "a795354c-e211-46fb-b03d-2c577d032b80",
   "metadata": {},
   "outputs": [],
   "source": [
    "use_export_dir = os.path.join(export_dir, \"misc\")\n",
    "os.makedirs(use_export_dir, exist_ok=True)"
   ]
  },
  {
   "cell_type": "code",
   "execution_count": 52,
   "id": "60c7fc3f-7c67-4a3d-bb6c-c62d9b711937",
   "metadata": {},
   "outputs": [
    {
     "data": {
      "text/plain": [
       "'/storage/home/hcoda1/4/jmarkowitz30/shared_folder/active_lab_members/markowitz_jeffrey/active_projects/quantum_dots/_for_paper/ulutas_et_al_data/misc/qdot_800_excitation_chroma_viewer.csv'"
      ]
     },
     "execution_count": 52,
     "metadata": {},
     "output_type": "execute_result"
    }
   ],
   "source": [
    "shutil.copyfile(\n",
    "    qdot_800_csv, os.path.join(use_export_dir, \"qdot_800_excitation_chroma_viewer.csv\")\n",
    ")"
   ]
  },
  {
   "cell_type": "code",
   "execution_count": 53,
   "id": "33c61029-b4d9-4e6c-98b0-64ad9b6d264b",
   "metadata": {},
   "outputs": [
    {
     "data": {
      "text/plain": [
       "'/storage/home/hcoda1/4/jmarkowitz30/shared_folder/active_lab_members/markowitz_jeffrey/active_projects/quantum_dots/_for_paper/ulutas_et_al_data/misc/advanced_illumination_led_data.xlsx'"
      ]
     },
     "execution_count": 53,
     "metadata": {},
     "output_type": "execute_result"
    }
   ],
   "source": [
    "shutil.copyfile(\n",
    "    led_excitation_xlsx, os.path.join(use_export_dir, \"advanced_illumination_led_data.xlsx\")\n",
    ")"
   ]
  },
  {
   "cell_type": "markdown",
   "id": "1e599be5-1c30-4a1f-9264-3563de77dac6",
   "metadata": {},
   "source": [
    "### keypoint models..."
   ]
  },
  {
   "cell_type": "code",
   "execution_count": 87,
   "id": "227d21e9-049f-44fb-ba0d-b689bafc9108",
   "metadata": {},
   "outputs": [],
   "source": [
    "# manual\n",
    "model_dirs = {\n",
    "    \"manually_labeled_data_kpoint_models_standard\": \"/storage/coda1/p-jmarkowitz30/0/shared/active_lab_members/markowitz_jeffrey/active_projects/keypoints_basler_nir_plexiglass_arena/sleap_training_round2/keypoints_from_manual_data_final_model/models\",\n",
    "    \"manually_labeled_data_kpoint_models_kneejoints\": \"/storage/coda1/p-jmarkowitz30/0/shared/active_lab_members/markowitz_jeffrey/active_projects/keypoints_basler_nir_plexiglass_arena/sleap_training_round2/keypoints_from_manual_data_final_model_kneejoints/models\",\n",
    "    \"autolabeled_data_kpoint_models_standard\": \"/storage/coda1/p-jmarkowitz30/0/shared/active_lab_members/markowitz_jeffrey/active_projects/keypoints_basler_nir_plexiglass_arena/sleap_training_round2/keypoints_from_qds_all_cameras_v3/models\",\n",
    "}\n",
    "# there will be model repeats, go ahead and copy all of them to the right place...\n",
    "# also go ahead and keep everything in there for posterity..."
   ]
  },
  {
   "cell_type": "code",
   "execution_count": 88,
   "id": "07522af8-03e8-4b7c-96a0-96674acb7b76",
   "metadata": {},
   "outputs": [],
   "source": [
    "use_export_dir = os.path.join(export_dir, \"keypoint_models\")\n",
    "os.makedirs(use_export_dir, exist_ok=True)"
   ]
  },
  {
   "cell_type": "code",
   "execution_count": 98,
   "id": "b34673c2-aebd-44c1-9f35-f68851e39aae",
   "metadata": {},
   "outputs": [],
   "source": [
    "import pandas as pd"
   ]
  },
  {
   "cell_type": "code",
   "execution_count": 110,
   "id": "c43da0d7-3f33-4d4a-ac30-e49e0ed2c069",
   "metadata": {},
   "outputs": [
    {
     "data": {
      "application/vnd.jupyter.widget-view+json": {
       "model_id": "5b6e1e90aee74f02a6f98be370dc2f6f",
       "version_major": 2,
       "version_minor": 0
      },
      "text/plain": [
       "  0%|          | 0/3 [00:00<?, ?it/s]"
      ]
     },
     "metadata": {},
     "output_type": "display_data"
    }
   ],
   "source": [
    "for _new_dir, _model_dir in tqdm(model_dirs.items()):\n",
    "    # get directories\n",
    "    use_models = sorted(os.listdir(_model_dir))\n",
    "    use_models = [\n",
    "        os.path.join(_model_dir, _lst) for _lst in use_models if os.path.isdir(os.path.join(_model_dir, _lst))\n",
    "    ]\n",
    "\n",
    "    if \"from_qds\" in _model_dir:\n",
    "        use_models = [_dir for _dir in use_models if \"subsample-None\" in _dir]\n",
    "\n",
    "    # find the model with the best validation loss and save off\n",
    "    training_loss = {}\n",
    "    for _model in use_models:\n",
    "        training_log_fname = os.path.join(_model, \"training_log.csv\")\n",
    "        training_log = pd.read_csv(training_log_fname)\n",
    "        training_loss[_model] = training_log[\"val_loss\"].iat[-1]\n",
    "\n",
    "    best_model = min(training_loss, key=training_loss.get)\n",
    "    new_dir = os.path.join(use_export_dir, _new_dir)\n",
    "    shutil.copytree(best_model, new_dir, dirs_exist_ok=True)\n",
    "    \n",
    "    # for i, _model in enumerate(use_models):\n",
    "        # new_dir = os.path.join(use_export_dir, f\"{_new_dir}_repeat-{i}\")\n",
    "        # shutil.copytree(_model, new_dir, dirs_exist_ok=True)\n",
    "        # os.makedirs(new_dir, exist_ok=True) "
   ]
  }
 ],
 "metadata": {
  "kernelspec": {
   "display_name": "data-analysis (local)",
   "language": "python",
   "name": "data_analysis_local"
  },
  "language_info": {
   "codemirror_mode": {
    "name": "ipython",
    "version": 3
   },
   "file_extension": ".py",
   "mimetype": "text/x-python",
   "name": "python",
   "nbconvert_exporter": "python",
   "pygments_lexer": "ipython3",
   "version": "3.10.0"
  }
 },
 "nbformat": 4,
 "nbformat_minor": 5
}
