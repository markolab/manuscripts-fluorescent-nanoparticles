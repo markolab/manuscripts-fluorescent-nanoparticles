{
 "cells": [
  {
   "cell_type": "code",
   "execution_count": 1,
   "id": "5f17da30-45c1-48dc-88ed-cb3c5371e855",
   "metadata": {
    "tags": []
   },
   "outputs": [],
   "source": [
    "%load_ext autoreload\n",
    "%autoreload 2\n",
    "%matplotlib inline"
   ]
  },
  {
   "cell_type": "code",
   "execution_count": null,
   "id": "dffbb95d-3260-4e9d-8478-47f582329479",
   "metadata": {},
   "outputs": [],
   "source": [
    "import os\n",
    "from tqdm.auto import tqdm\n",
    "from segments import SegmentsClient"
   ]
  },
  {
   "cell_type": "markdown",
   "id": "f5ed73a3-6958-4027-ba10-1395e49a2207",
   "metadata": {},
   "source": [
    "# Get data from root repository in segments, copy over to individual repositories"
   ]
  },
  {
   "cell_type": "code",
   "execution_count": 112,
   "id": "c7cd3174-1824-40a3-a9b2-da8a028213cf",
   "metadata": {
    "tags": []
   },
   "outputs": [],
   "source": [
    "api_key = os.getenv(\"SEGMENTSAPI\")\n",
    "client = SegmentsClient(api_key)"
   ]
  },
  {
   "cell_type": "code",
   "execution_count": 118,
   "id": "86c30824-6803-4b50-b724-a23fa9668d44",
   "metadata": {
    "tags": []
   },
   "outputs": [],
   "source": [
    "# dataset_name=\"jmarkow/basler-nir-plexiglass-arena-keypoints-fused-round2\"\n",
    "root_dataset_name = \"jmarkow/basler-nir-plexiglass-arena-keypoints-fused-kneejoints-reflectonly\"\n",
    "# samples = client.get_samples(dataset_name, label_status=[\"LABELED\",\"REVIEWED\"])\n",
    "# labels = [client.get_label(_sample.uuid) for _sample in samples]\n",
    "labelers = [\"zeynep\", \"amartya\", \"claire\", \"brittany\"]\n",
    "labeler_username_map = {\n",
    "    \"zeynep\": \"eulutas\",\n",
    "    \"amartya\": \"amartya\",\n",
    "    \"claire\": \"cdeng\",\n",
    "    \"brittany\": \"brittanyaddison\"\n",
    "}"
   ]
  },
  {
   "cell_type": "code",
   "execution_count": 119,
   "id": "8ad495a7-e665-4bf2-bcfe-889d318c1ed2",
   "metadata": {},
   "outputs": [],
   "source": [
    "dset_name = root_dataset_name.split(\"/\")[1]"
   ]
  },
  {
   "cell_type": "code",
   "execution_count": 151,
   "id": "60ccf1c4-9278-4cc3-a336-128755211bb0",
   "metadata": {},
   "outputs": [],
   "source": [
    "from segments.exceptions import AlreadyExistsError, CollaboratorError"
   ]
  },
  {
   "cell_type": "code",
   "execution_count": 155,
   "id": "24694542-288a-4bb1-bf3e-cff9c1331859",
   "metadata": {},
   "outputs": [],
   "source": [
    "force_delete = True  # BE CAREFUL WHEN IT'S SET TO TRUE!!!!"
   ]
  },
  {
   "cell_type": "code",
   "execution_count": 156,
   "id": "1f2e9de4-3b0c-44f8-beec-8eb4fd3be7d9",
   "metadata": {},
   "outputs": [
    {
     "data": {
      "application/vnd.jupyter.widget-view+json": {
       "model_id": "ddcf58d77fa24067be260633a55fea04",
       "version_major": 2,
       "version_minor": 0
      },
      "text/plain": [
       "  0%|          | 0/4 [00:00<?, ?it/s]"
      ]
     },
     "metadata": {},
     "output_type": "display_data"
    }
   ],
   "source": [
    "for _labeler in tqdm(labelers):\n",
    "    new_dset_name = f\"{dset_name}-{_labeler}\"\n",
    "    try:\n",
    "        client.clone_dataset(root_dataset_name, new_dset_name, clone_labels=True)\n",
    "    except AlreadyExistsError as e:\n",
    "        if force_delete:\n",
    "            client.delete_dataset(f\"{root_dataset_name}-{_labeler}\")\n",
    "            client.clone_dataset(root_dataset_name, new_dset_name, clone_labels=True)\n",
    "        else:\n",
    "            pass"
   ]
  },
  {
   "cell_type": "code",
   "execution_count": 157,
   "id": "fe176633-0eb1-4a80-b716-76f3b4e0b020",
   "metadata": {},
   "outputs": [],
   "source": [
    "import time"
   ]
  },
  {
   "cell_type": "code",
   "execution_count": 158,
   "id": "c94c03fb-ad85-430c-bf07-888664e0aa71",
   "metadata": {},
   "outputs": [
    {
     "name": "stdout",
     "output_type": "stream",
     "text": [
      "Pausing for 60 seconds...\n"
     ]
    }
   ],
   "source": [
    "print(\"Pausing for 60 seconds...\")\n",
    "time.sleep(60)"
   ]
  },
  {
   "cell_type": "code",
   "execution_count": 159,
   "id": "418ea49e-7ddd-4ee9-b622-50e8b0df9f6b",
   "metadata": {},
   "outputs": [
    {
     "data": {
      "application/vnd.jupyter.widget-view+json": {
       "model_id": "a50f3864eb98452e8f19be47e5e3201a",
       "version_major": 2,
       "version_minor": 0
      },
      "text/plain": [
       "  0%|          | 0/4 [00:00<?, ?it/s]"
      ]
     },
     "metadata": {},
     "output_type": "display_data"
    }
   ],
   "source": [
    "samples = {}\n",
    "for _labeler in tqdm(labelers):\n",
    "    samples[_labeler] = client.get_samples(f\"{root_dataset_name}-{_labeler}\", label_status=[\"LABELED\",\"REVIEWED\"])"
   ]
  },
  {
   "cell_type": "code",
   "execution_count": 160,
   "id": "66b8da93-6325-426f-8f93-dab81391fca0",
   "metadata": {},
   "outputs": [
    {
     "name": "stdout",
     "output_type": "stream",
     "text": [
      "zeynep\n",
      "466\n",
      "amartya\n",
      "466\n",
      "claire\n",
      "466\n",
      "brittany\n",
      "466\n"
     ]
    }
   ],
   "source": [
    "for _labeler, v in samples.items():\n",
    "    print(_labeler)\n",
    "    print(len(v))"
   ]
  },
  {
   "cell_type": "code",
   "execution_count": 161,
   "id": "d9291ee1-c830-47f4-acc5-7bb678046b27",
   "metadata": {},
   "outputs": [
    {
     "data": {
      "application/vnd.jupyter.widget-view+json": {
       "model_id": "1901e1ae0eb34991884c211edfb498c3",
       "version_major": 2,
       "version_minor": 0
      },
      "text/plain": [
       "  0%|          | 0/4 [00:00<?, ?it/s]"
      ]
     },
     "metadata": {},
     "output_type": "display_data"
    }
   ],
   "source": [
    "# add everyone as a collaborator ONLY on their own dataset\n",
    "for _labeler in tqdm(labelers):\n",
    "    try:\n",
    "        client.add_dataset_collaborator(f\"{root_dataset_name}-{_labeler}\", labeler_username_map[_labeler])\n",
    "    except CollaboratorError as e:\n",
    "        pass"
   ]
  },
  {
   "cell_type": "code",
   "execution_count": 162,
   "id": "3db4df7d-f5dd-4163-a42e-02dbefd8100c",
   "metadata": {},
   "outputs": [],
   "source": [
    "# get labels from each dataset and remove any non-labeler labels..."
   ]
  },
  {
   "cell_type": "code",
   "execution_count": 163,
   "id": "f723e962-1911-41da-8894-2b381ff13805",
   "metadata": {},
   "outputs": [
    {
     "data": {
      "application/vnd.jupyter.widget-view+json": {
       "model_id": "1a61545f744e49a986454342aacbf03a",
       "version_major": 2,
       "version_minor": 0
      },
      "text/plain": [
       "  0%|          | 0/4 [00:00<?, ?it/s]"
      ]
     },
     "metadata": {},
     "output_type": "display_data"
    },
    {
     "data": {
      "application/vnd.jupyter.widget-view+json": {
       "model_id": "c54f2c4ec80443d1a10fa18a0aa85ab2",
       "version_major": 2,
       "version_minor": 0
      },
      "text/plain": [
       "  0%|          | 0/466 [00:00<?, ?it/s]"
      ]
     },
     "metadata": {},
     "output_type": "display_data"
    },
    {
     "data": {
      "application/vnd.jupyter.widget-view+json": {
       "model_id": "6da0136c48f24777bbef80e23c52035f",
       "version_major": 2,
       "version_minor": 0
      },
      "text/plain": [
       "  0%|          | 0/466 [00:00<?, ?it/s]"
      ]
     },
     "metadata": {},
     "output_type": "display_data"
    },
    {
     "data": {
      "application/vnd.jupyter.widget-view+json": {
       "model_id": "8008ac71f51e419b88e00f664c29c1c8",
       "version_major": 2,
       "version_minor": 0
      },
      "text/plain": [
       "  0%|          | 0/466 [00:00<?, ?it/s]"
      ]
     },
     "metadata": {},
     "output_type": "display_data"
    },
    {
     "data": {
      "application/vnd.jupyter.widget-view+json": {
       "model_id": "80a40edffc2d4cd1af985347c3a3ba68",
       "version_major": 2,
       "version_minor": 0
      },
      "text/plain": [
       "  0%|          | 0/466 [00:00<?, ?it/s]"
      ]
     },
     "metadata": {},
     "output_type": "display_data"
    },
    {
     "data": {
      "application/vnd.jupyter.widget-view+json": {
       "model_id": "c3f9ca0ffb5049929be613efdd620a07",
       "version_major": 2,
       "version_minor": 0
      },
      "text/plain": [
       "  0%|          | 0/466 [00:00<?, ?it/s]"
      ]
     },
     "metadata": {},
     "output_type": "display_data"
    },
    {
     "data": {
      "application/vnd.jupyter.widget-view+json": {
       "model_id": "13c145dc9e9a4b1c86dc1bbb8ea5efce",
       "version_major": 2,
       "version_minor": 0
      },
      "text/plain": [
       "  0%|          | 0/171 [00:00<?, ?it/s]"
      ]
     },
     "metadata": {},
     "output_type": "display_data"
    },
    {
     "data": {
      "application/vnd.jupyter.widget-view+json": {
       "model_id": "0e364066e6f4418d870af61054146501",
       "version_major": 2,
       "version_minor": 0
      },
      "text/plain": [
       "  0%|          | 0/466 [00:00<?, ?it/s]"
      ]
     },
     "metadata": {},
     "output_type": "display_data"
    },
    {
     "data": {
      "application/vnd.jupyter.widget-view+json": {
       "model_id": "d7f1c08556314a26a2a15b69c5f949ab",
       "version_major": 2,
       "version_minor": 0
      },
      "text/plain": [
       "  0%|          | 0/295 [00:00<?, ?it/s]"
      ]
     },
     "metadata": {},
     "output_type": "display_data"
    }
   ],
   "source": [
    "for _labeler, _samples in tqdm(samples.items()):\n",
    "    labels = [client.get_label(_sample.uuid) for _sample in tqdm(_samples)]\n",
    "    to_del = [\n",
    "        (_sample.uuid, _label.labelset)\n",
    "        for _sample, _label in zip(_samples, labels)\n",
    "        if _label.created_by != labeler_username_map[_labeler]\n",
    "    ]\n",
    "    [client.delete_label(_uuid, _labelset) for (_uuid, _labelset) in tqdm(to_del)]"
   ]
  },
  {
   "cell_type": "code",
   "execution_count": null,
   "id": "9bc8f4c1-4860-457b-bc72-eba29c1b2947",
   "metadata": {},
   "outputs": [],
   "source": []
  },
  {
   "cell_type": "code",
   "execution_count": null,
   "id": "19e64a95-51ef-4c25-a297-750d2e011cfe",
   "metadata": {},
   "outputs": [],
   "source": []
  }
 ],
 "metadata": {
  "kernelspec": {
   "display_name": "Python 3 (ipykernel)",
   "language": "python",
   "name": "python3"
  },
  "language_info": {
   "codemirror_mode": {
    "name": "ipython",
    "version": 3
   },
   "file_extension": ".py",
   "mimetype": "text/x-python",
   "name": "python",
   "nbconvert_exporter": "python",
   "pygments_lexer": "ipython3",
   "version": "3.10.0"
  }
 },
 "nbformat": 4,
 "nbformat_minor": 5
}
