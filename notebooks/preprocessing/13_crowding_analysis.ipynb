{
 "cells": [
  {
   "cell_type": "code",
   "execution_count": 1,
   "id": "6fdf449c-18e7-4dcc-a194-9de011757c91",
   "metadata": {
    "tags": []
   },
   "outputs": [],
   "source": [
    "%load_ext autoreload\n",
    "%autoreload 2\n",
    "%matplotlib inline"
   ]
  },
  {
   "cell_type": "code",
   "execution_count": 2,
   "id": "710f6e7c-2cef-4964-8c5f-eb5d89637e75",
   "metadata": {
    "tags": []
   },
   "outputs": [],
   "source": [
    "import os\n",
    "import matplotlib.pyplot as plt\n",
    "import numpy as np\n",
    "import toml\n",
    "import sleap_io as sio\n",
    "import seaborn as sns\n",
    "import pandas as pd\n",
    "from tqdm.auto import tqdm\n",
    "from scipy import spatial\n",
    "from qd_analysis.fig import setup_plotting_env\n",
    "setup_plotting_env()"
   ]
  },
  {
   "cell_type": "code",
   "execution_count": 3,
   "id": "7d22e9e9-bdb1-4c79-9cb8-11baf9396bb2",
   "metadata": {},
   "outputs": [],
   "source": [
    "save_dir = \"/storage/home/hcoda1/4/jmarkowitz30/shared_folder/active_lab_members/markowitz_jeffrey/panels/2025-04 (QD paper round 2)\"\n"
   ]
  },
  {
   "cell_type": "code",
   "execution_count": 4,
   "id": "14500ae7-3dee-4908-8be9-0f372fec5052",
   "metadata": {
    "tags": []
   },
   "outputs": [
    {
     "data": {
      "text/plain": [
       "'/storage/home/hcoda1/4/jmarkowitz30/shared_folder/active_lab_members/markowitz_jeffrey/active_projects/quantum_dots/_analysis'"
      ]
     },
     "execution_count": 4,
     "metadata": {},
     "output_type": "execute_result"
    }
   ],
   "source": [
    "config = toml.load(\"../preprocessing/config.toml\")\n",
    "config[\"dirs\"][\"analysis\"]"
   ]
  },
  {
   "cell_type": "markdown",
   "id": "5ae6e564-6e34-41c6-b628-197e2387ee78",
   "metadata": {},
   "source": [
    "## Gather data and predicted keypoints\n",
    "\n",
    "1. At this point assumes we've run ../preprocessing/05_gathering..."
   ]
  },
  {
   "cell_type": "code",
   "execution_count": 5,
   "id": "47722b6a-99be-40fb-90ed-13f1af3a7052",
   "metadata": {
    "tags": []
   },
   "outputs": [],
   "source": [
    "root_dir = \"/storage/home/hcoda1/4/jmarkowitz30/shared_folder/active_lab_members/markowitz_jeffrey/active_projects/\"\n",
    "training_fname = os.path.join(root_dir, \"keypoints_basler_nir_plexiglass_arena/sleap_training_round2/_labels/basler-nir-plexiglass-arena-keypoints-fused-round2_weights-None_bpass-None.slp\")\n"
   ]
  },
  {
   "cell_type": "code",
   "execution_count": 6,
   "id": "d5b6cbaf-279c-4bf3-9445-6f646fa66b72",
   "metadata": {
    "tags": []
   },
   "outputs": [],
   "source": [
    "training_labels = sio.load_slp(training_fname)\n",
    "use_skeleton = training_labels.skeleton"
   ]
  },
  {
   "cell_type": "code",
   "execution_count": 7,
   "id": "193e4a29-2a9c-4bee-896a-710540a7138d",
   "metadata": {},
   "outputs": [],
   "source": [
    "node_names = [_node.name for _node in use_skeleton.nodes]"
   ]
  },
  {
   "cell_type": "code",
   "execution_count": 8,
   "id": "e1557231-3255-49fd-921e-9767c21349e7",
   "metadata": {
    "tags": []
   },
   "outputs": [
    {
     "data": {
      "application/vnd.jupyter.widget-view+json": {
       "model_id": "a4a3830eb25c4b1485e0a39b76536024",
       "version_major": 2,
       "version_minor": 0
      },
      "text/plain": [
       "  0%|          | 0/862 [00:00<?, ?it/s]"
      ]
     },
     "metadata": {},
     "output_type": "display_data"
    },
    {
     "name": "stderr",
     "output_type": "stream",
     "text": [
      "/tmp/ipykernel_1447544/2915916953.py:9: RuntimeWarning: All-NaN slice encountered\n",
      "  min_dists = np.nanmin(dist_matrix, axis=1)\n"
     ]
    }
   ],
   "source": [
    "new_labeled_frames = []\n",
    "kpoint_dcts = []\n",
    "for i, _label in tqdm(\n",
    "    enumerate(training_labels.labeled_frames), total=len(training_labels.labeled_frames)\n",
    "):\n",
    "    points_pred = _label.instances[0].numpy()\n",
    "    dist_matrix = spatial.distance.squareform(spatial.distance.pdist(points_pred))\n",
    "    np.fill_diagonal(dist_matrix, np.nan) \n",
    "    min_dists = np.nanmin(dist_matrix, axis=1)\n",
    "    kpoint_dct = {}\n",
    "    for _node, _dist in zip(node_names, min_dists):\n",
    "        kpoint_dct[_node] = _dist\n",
    "    kpoint_dcts.append(kpoint_dct)"
   ]
  },
  {
   "cell_type": "code",
   "execution_count": 9,
   "id": "239a2b71-609e-46d9-8940-b6e1f18d4240",
   "metadata": {},
   "outputs": [],
   "source": [
    "# now combine back, tail, paws\n",
    "segments = {}\n",
    "segments[\"back\"] = [\"back_bottom\",\"back_middle\",\"back_top\"]\n",
    "segments[\"paws\"] = [\"foreleg_L\", \"foreleg_R\", \"hindleg_L\", \"hindleg_R\"]\n",
    "segments[\"tail\"] = [\"tail_base\", \"tail_middle\", \"tail_tip\"]\n",
    "segments[\"knee\"] = [\"knee_L\", \"knee_R\"]\n",
    "map_body_part_to_segment = {}\n",
    "for k, v in segments.items():\n",
    "    for _v in v:\n",
    "        map_body_part_to_segment[_v] = k"
   ]
  },
  {
   "cell_type": "code",
   "execution_count": 10,
   "id": "d04063c0-e55b-43c8-a7e2-e429698f97b1",
   "metadata": {},
   "outputs": [],
   "source": [
    "aliases = {\n",
    "    \"back_bottom\": \"Back bottom\",\n",
    "    \"back_middle\": \"Back middle\",\n",
    "    \"back_top\": \"Back top\",\n",
    "    \"knee_L\": \"L. knee\",\n",
    "    \"knee_R\": \"R. knee\",\n",
    "    \"hindleg_L\": \"L. hindpaw\",\n",
    "    \"hindleg_R\": \"R. hindpaw\",\n",
    "    \"foreleg_L\": \"L. forepaw\",\n",
    "    \"foreleg_R\": \"R. forepaw\",\n",
    "    \"tail_base\": \"Tail base\",\n",
    "    \"tail_middle\": \"Tail middle\",\n",
    "    \"tail_tip\": \"Tail tip\",\n",
    "}"
   ]
  },
  {
   "cell_type": "code",
   "execution_count": 11,
   "id": "9fd807b8-3205-46c9-a518-b4f32fb5dc86",
   "metadata": {},
   "outputs": [],
   "source": [
    "crowding_df = pd.DataFrame(kpoint_dcts)"
   ]
  },
  {
   "cell_type": "code",
   "execution_count": 12,
   "id": "5330e7e2-0833-4a56-8664-c73497019e54",
   "metadata": {},
   "outputs": [],
   "source": [
    "crowding_df = crowding_df.melt(var_name=\"kpoint_name\")\n",
    "crowding_df[\"segment\"] = crowding_df[\"kpoint_name\"].map(map_body_part_to_segment)\n",
    "crowding_df[\"kpoint_alias\"] = crowding_df[\"kpoint_name\"].map(aliases)"
   ]
  },
  {
   "cell_type": "code",
   "execution_count": 13,
   "id": "b5b95362-0835-4e4e-a6f8-0433c32bc24b",
   "metadata": {},
   "outputs": [],
   "source": [
    "hist_kwargs = {\"bins\": np.arange(0,101,2),\n",
    "               \"element\": \"step\",\n",
    "               \"alpha\": 1.,\n",
    "               \"clip_on\": False,\n",
    "               \"fill\": True,\n",
    "               \"linewidth\": 0}"
   ]
  },
  {
   "cell_type": "code",
   "execution_count": 14,
   "id": "94075023-1493-4dd4-ba0e-71fca03fde30",
   "metadata": {},
   "outputs": [],
   "source": [
    "nkpoints = crowding_df[\"kpoint_alias\"].nunique()\n",
    "nsegments = crowding_df[\"segment\"].nunique()"
   ]
  },
  {
   "cell_type": "code",
   "execution_count": 15,
   "id": "6bcb4be3-ecd6-40a9-9daf-c457e6bbd565",
   "metadata": {},
   "outputs": [
    {
     "data": {
      "image/png": "[encoded data removed]",
      "text/plain": [
       "<Figure size 550x375 with 10 Axes>"
      ]
     },
     "metadata": {},
     "output_type": "display_data"
    }
   ],
   "source": [
    "# Initialize the FacetGrid object\n",
    "pal = sns.cubehelix_palette(nkpoints, rot=-0.25, light=0.7)\n",
    "g = sns.FacetGrid(\n",
    "    crowding_df, col=\"kpoint_alias\", hue=\"kpoint_alias\", aspect=1.1, height=1.25, palette=pal, sharey=True, sharex=True, col_wrap=4,\n",
    ")\n",
    "g.map(\n",
    "    sns.histplot,\n",
    "    \"value\",\n",
    "    **hist_kwargs,\n",
    ")\n",
    "# g.map(sns.kdeplot, \"l2_error\", clip_on=False, color=\"w\", lw=2, bw_adjust=0.5)\n",
    "# g.refline(y=0, linewidth=2, linestyle=\"-\", color=None, clip_on=False)\n",
    "# Define and use a simple function to label the plot in axes coordinates\n",
    "def label(x, color, label):\n",
    "    ax = plt.gca()\n",
    "    ax.text(\n",
    "        0.5,\n",
    "        0.8,\n",
    "        label,\n",
    "        fontweight=\"bold\",\n",
    "        color=color,\n",
    "        ha=\"left\",\n",
    "        va=\"bottom\",\n",
    "        transform=ax.transAxes,\n",
    "    )\n",
    "\n",
    "g.map(label, \"segment\")\n",
    "# g.figure.subplots_adjust(hspace=0.25)\n",
    "g.set_titles(\"\")\n",
    "g.set(xlim=(0,100), xticks=np.arange(0,100,10), xlabel=\"\")\n",
    "g.fig.supxlabel(\"Distance to nearest keypoint (pixels)\", fontsize=7)\n",
    "g.fig.savefig(os.path.join(save_dir, \"manual_data_keypoint_nn_dist.pdf\"), bbox_inches=\"tight\", dpi=600)"
   ]
  },
  {
   "cell_type": "code",
   "execution_count": 25,
   "id": "7ad9d000-d355-43e0-93c5-c6d75f876b49",
   "metadata": {},
   "outputs": [
    {
     "data": {
      "image/png": "[encoded data removed]",
      "text/plain": [
       "<Figure size 448x160 with 3 Axes>"
      ]
     },
     "metadata": {},
     "output_type": "display_data"
    }
   ],
   "source": [
    "# Initialize the FacetGrid object\n",
    "pal = sns.cubehelix_palette(nsegments, rot=-0.25, light=0.7)\n",
    "g = sns.FacetGrid(\n",
    "    crowding_df, col=\"segment\", hue=\"segment\", aspect=.7, height=1.6, palette=pal, sharey=True, sharex=True, col_wrap=4,\n",
    ")\n",
    "g.map(\n",
    "    sns.histplot,\n",
    "    \"value\",\n",
    "    **hist_kwargs,\n",
    ")\n",
    "# g.map(sns.kdeplot, \"l2_error\", clip_on=False, color=\"w\", lw=2, bw_adjust=0.5)\n",
    "# g.refline(y=0, linewidth=2, linestyle=\"-\", color=None, clip_on=False)\n",
    "# Define and use a simple function to label the plot in axes coordinates\n",
    "def label(x, color, label):\n",
    "    ax = plt.gca()\n",
    "    ax.text(\n",
    "        0.5,\n",
    "        0.8,\n",
    "        label,\n",
    "        fontweight=\"bold\",\n",
    "        color=color,\n",
    "        ha=\"left\",\n",
    "        va=\"bottom\",\n",
    "        transform=ax.transAxes,\n",
    "    )\n",
    "\n",
    "g.map(label, \"segment\")\n",
    "# g.figure.subplots_adjust(hspace=0.25)\n",
    "g.set_titles(\"\")\n",
    "g.set(xlim=(0,100), xticks=np.arange(0,101,25), xlabel=\"\")\n",
    "g.fig.supxlabel(\"Distance to nearest keypoint (pixels)\", fontsize=7, x=.4, ha=\"center\")\n",
    "g.fig.savefig(os.path.join(save_dir, \"manual_data_keypoint_nn_dist_segments.pdf\"), bbox_inches=\"tight\", dpi=600)"
   ]
  },
  {
   "cell_type": "code",
   "execution_count": 27,
   "id": "46356524-dcd4-4aad-9bc1-c7c94db9a9f2",
   "metadata": {},
   "outputs": [
    {
     "data": {
      "text/plain": [
       "segment\n",
       "back    12.153051\n",
       "paws    14.650156\n",
       "tail    15.994127\n",
       "Name: value, dtype: float64"
      ]
     },
     "execution_count": 27,
     "metadata": {},
     "output_type": "execute_result"
    }
   ],
   "source": [
    "crowding_df.groupby(\"segment\")[\"value\"].quantile(.05)"
   ]
  },
  {
   "cell_type": "code",
   "execution_count": null,
   "id": "8266e202-fbcf-439a-a20b-88733b8a3fde",
   "metadata": {},
   "outputs": [],
   "source": []
  }
 ],
 "metadata": {
  "kernelspec": {
   "display_name": "data-analysis (local)",
   "language": "python",
   "name": "data_analysis_local"
  },
  "language_info": {
   "codemirror_mode": {
    "name": "ipython",
    "version": 3
   },
   "file_extension": ".py",
   "mimetype": "text/x-python",
   "name": "python",
   "nbconvert_exporter": "python",
   "pygments_lexer": "ipython3",
   "version": "3.10.0"
  }
 },
 "nbformat": 4,
 "nbformat_minor": 5
}
