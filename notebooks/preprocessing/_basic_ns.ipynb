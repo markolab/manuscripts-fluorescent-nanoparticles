{
 "cells": [
  {
   "cell_type": "code",
   "execution_count": 1,
   "id": "5f17da30-45c1-48dc-88ed-cb3c5371e855",
   "metadata": {
    "tags": []
   },
   "outputs": [],
   "source": [
    "%load_ext autoreload\n",
    "%autoreload 2\n",
    "%matplotlib inline"
   ]
  },
  {
   "cell_type": "code",
   "execution_count": 2,
   "id": "32ebef63-7529-4361-8cf1-0a4bfb076968",
   "metadata": {
    "tags": []
   },
   "outputs": [],
   "source": [
    "import os\n",
    "import copy\n",
    "import h5py\n",
    "import toml\n",
    "import glob\n",
    "import sleap_io as sio\n",
    "from tqdm.auto import tqdm"
   ]
  },
  {
   "cell_type": "markdown",
   "id": "33bc163a-cd62-4ac8-ba2d-29beae1402e6",
   "metadata": {},
   "source": [
    "# Get counts for SLEAP training"
   ]
  },
  {
   "cell_type": "code",
   "execution_count": 3,
   "id": "6e10c89b-5f37-4176-ba1e-3ca6c336a7aa",
   "metadata": {},
   "outputs": [],
   "source": [
    "root_dir = os.path.expanduser(\"~/shared_folder/active_lab_members/markowitz_jeffrey/active_projects\")"
   ]
  },
  {
   "cell_type": "code",
   "execution_count": 4,
   "id": "6fa9bcfd-7c43-44b7-9858-e85af3727773",
   "metadata": {},
   "outputs": [
    {
     "data": {
      "text/plain": [
       "'N(fused frames) 862'"
      ]
     },
     "execution_count": 4,
     "metadata": {},
     "output_type": "execute_result"
    }
   ],
   "source": [
    "# fused keypoint location...\n",
    "fused_keypoint_files = os.path.join(root_dir, \"keypoints_basler_nir_plexiglass_arena/sleap_training_round2/_labels/basler-nir-plexiglass-arena-keypoints-fused-round2_weights-None_bpass-None.slp\")\n",
    "f\"N(fused frames) {len(sio.load_slp(fused_keypoint_files))}\""
   ]
  },
  {
   "cell_type": "code",
   "execution_count": 5,
   "id": "8b9db75e-961f-4972-9f33-02989f614717",
   "metadata": {},
   "outputs": [
    {
     "data": {
      "text/plain": [
       "'keypoints_basler_nir_plexiglass_arena/sleap_training_round2/_labels/basler-nir-plexiglass-arena-keypoints-fused-kneejoints_weights-(0.0, 1.0)_bpass-None_fluo-aligned.slp'"
      ]
     },
     "execution_count": 5,
     "metadata": {},
     "output_type": "execute_result"
    }
   ],
   "source": [
    "# how big is the whole dataset??\n",
    "\"keypoints_basler_nir_plexiglass_arena/sleap_training_round2/_labels/basler-nir-plexiglass-arena-keypoints-fused-kneejoints_weights-(0.0, 1.0)_bpass-None_fluo-aligned.slp\""
   ]
  },
  {
   "cell_type": "code",
   "execution_count": 6,
   "id": "dbf5ca7e-19b3-412c-abff-6388a1b9d4db",
   "metadata": {},
   "outputs": [
    {
     "data": {
      "text/plain": [
       "'N(fused frames, kneejoint) 872'"
      ]
     },
     "execution_count": 6,
     "metadata": {},
     "output_type": "execute_result"
    }
   ],
   "source": [
    "# fused keypoint location...\n",
    "fused_keypoint_files = os.path.join(root_dir, \"keypoints_basler_nir_plexiglass_arena/sleap_training_round2/_labels/basler-nir-plexiglass-arena-keypoints-fused-kneejoints_weights-(0.0, 1.0)_bpass-None_fluo-aligned.slp\")\n",
    "f\"N(fused frames, kneejoint) {len(sio.load_slp(fused_keypoint_files))}\""
   ]
  },
  {
   "cell_type": "markdown",
   "id": "56012eae-b9b3-4533-b331-97bd96cdf6cf",
   "metadata": {},
   "source": [
    "# Autolabeled data"
   ]
  },
  {
   "cell_type": "code",
   "execution_count": 7,
   "id": "ee91bd1f-ee06-4638-93de-1945daf2372e",
   "metadata": {},
   "outputs": [],
   "source": [
    "autolabel_keypoint_metadata_file = os.path.join(root_dir, \"keypoints_basler_nir_plexiglass_arena/sleap_training_round2/_labels_qd/kpoint_training_dataset_qd_alignment_round2_manual_labeling_nofluo_version-v1-embed-False.toml\")\n",
    "autolabel_metadata = toml.load(autolabel_keypoint_metadata_file)"
   ]
  },
  {
   "cell_type": "code",
   "execution_count": 8,
   "id": "f83caaf0-675b-426b-a0ae-0f99975002fd",
   "metadata": {},
   "outputs": [
    {
     "data": {
      "text/plain": [
       "'N(autolabeled frames, standard)=114629'"
      ]
     },
     "execution_count": 8,
     "metadata": {},
     "output_type": "execute_result"
    }
   ],
   "source": [
    "f\"N(autolabeled frames, standard)={len(autolabel_metadata['frames'])}\""
   ]
  },
  {
   "cell_type": "code",
   "execution_count": 9,
   "id": "41e6e9bc-a578-4618-8db8-3b82fc7163d0",
   "metadata": {},
   "outputs": [],
   "source": [
    "# count for each camera"
   ]
  },
  {
   "cell_type": "code",
   "execution_count": 10,
   "id": "abcef7a0-a010-41e0-85fa-f266e6373b7e",
   "metadata": {},
   "outputs": [],
   "source": [
    "camera_per_frame = [_[\"camera\"] for _ in autolabel_metadata[\"frames\"]]"
   ]
  },
  {
   "cell_type": "code",
   "execution_count": 11,
   "id": "291d294b-846f-4680-b922-3d2962abcc2a",
   "metadata": {},
   "outputs": [],
   "source": [
    "counts = {}\n",
    "for camera in camera_per_frame:\n",
    "    counts[camera]  = counts.get(camera, 0) + 1"
   ]
  },
  {
   "cell_type": "code",
   "execution_count": 12,
   "id": "9fa9ac1e-ea8a-4ee6-ac5e-9b125437cee2",
   "metadata": {},
   "outputs": [],
   "source": [
    "counts_heldout = {}\n",
    "for camera in counts.keys():\n",
    "    counts_heldout[camera] = 0\n",
    "    for camera2 in counts.keys():\n",
    "        if camera2 != camera:\n",
    "            counts_heldout[camera] += counts[camera2]"
   ]
  },
  {
   "cell_type": "code",
   "execution_count": 13,
   "id": "c311d1a8-2da9-448c-bc96-30b21e728c44",
   "metadata": {},
   "outputs": [
    {
     "data": {
      "text/plain": [
       "{'Basler-267601741000-24383488': 21866,\n",
       " 'Basler-267601746219-24404505': 25022,\n",
       " 'Basler-267601746223-24404515': 18953,\n",
       " 'Basler-26760175421F-24461855': 24343,\n",
       " 'Basler-2676017611A4-24514980': 24445}"
      ]
     },
     "execution_count": 13,
     "metadata": {},
     "output_type": "execute_result"
    }
   ],
   "source": [
    "counts"
   ]
  },
  {
   "cell_type": "code",
   "execution_count": 14,
   "id": "0177fb5a-be63-4388-98a5-8e5a6c17cf03",
   "metadata": {},
   "outputs": [
    {
     "data": {
      "text/plain": [
       "{'Basler-267601741000-24383488': 92763,\n",
       " 'Basler-267601746219-24404505': 89607,\n",
       " 'Basler-267601746223-24404515': 95676,\n",
       " 'Basler-26760175421F-24461855': 90286,\n",
       " 'Basler-2676017611A4-24514980': 90184}"
      ]
     },
     "execution_count": 14,
     "metadata": {},
     "output_type": "execute_result"
    }
   ],
   "source": [
    "counts_heldout"
   ]
  },
  {
   "cell_type": "code",
   "execution_count": 15,
   "id": "115a53bd-0fe9-4ab1-a064-3f92ad0fcd68",
   "metadata": {},
   "outputs": [],
   "source": [
    "# number of mice from each group...\n"
   ]
  },
  {
   "cell_type": "code",
   "execution_count": 16,
   "id": "468a4a0a-e9eb-4d0f-9e4d-ec0b8aaa1e74",
   "metadata": {},
   "outputs": [],
   "source": [
    "joint = False\n",
    "if joint:\n",
    "    kpoint_dir = os.path.join(root_dir, \"keypoints_basler_nir_plexiglass_arena/keypoint_inference_kneejoints_export_fused_weights-None_bpass-None\")\n",
    "else:\n",
    "    kpoint_dir = os.path.join(root_dir, \"keypoints_basler_nir_plexiglass_arena/keypoint_inference_export_fused_weights-None_bpass-None\")"
   ]
  },
  {
   "cell_type": "code",
   "execution_count": 17,
   "id": "9b6fa640-a6de-498b-971e-75c24b1c5b71",
   "metadata": {},
   "outputs": [],
   "source": [
    "sleap_files = sorted(glob.glob(os.path.join(kpoint_dir, \"**\", \"*.slp\"), recursive=True))"
   ]
  },
  {
   "cell_type": "code",
   "execution_count": 18,
   "id": "6c8ea321-770f-4818-9df9-23e4a5d7d7a4",
   "metadata": {},
   "outputs": [],
   "source": [
    "total_frames = 0"
   ]
  },
  {
   "cell_type": "code",
   "execution_count": 19,
   "id": "1debb9be-c06c-4d10-b259-30d01d5d2e4b",
   "metadata": {},
   "outputs": [
    {
     "data": {
      "application/vnd.jupyter.widget-view+json": {
       "model_id": "e3b7b2dc97534de3b41523f55f37abb8",
       "version_major": 2,
       "version_minor": 0
      },
      "text/plain": [
       "  0%|          | 0/172 [00:00<?, ?it/s]"
      ]
     },
     "metadata": {},
     "output_type": "display_data"
    }
   ],
   "source": [
    "frame_counts = [len(sio.load_slp(_sleap_file).labeled_frames) for _sleap_file in tqdm(sleap_files)]"
   ]
  },
  {
   "cell_type": "code",
   "execution_count": 20,
   "id": "9024f0df-d4d6-4c5a-b05e-efc73e54e4f8",
   "metadata": {},
   "outputs": [
    {
     "data": {
      "text/plain": [
       "1425041"
      ]
     },
     "execution_count": 20,
     "metadata": {},
     "output_type": "execute_result"
    }
   ],
   "source": [
    "sum(frame_counts)"
   ]
  },
  {
   "cell_type": "markdown",
   "id": "82d9b49e-4c98-464d-96d0-3f2b798949c0",
   "metadata": {},
   "source": [
    "# Autolabeled data (kneejoints)"
   ]
  },
  {
   "cell_type": "code",
   "execution_count": 21,
   "id": "2e0b24d2-a7f5-4ab7-9ecb-b16f32b133ae",
   "metadata": {},
   "outputs": [],
   "source": [
    "autolabel_keypoint_metadata_file = os.path.join(root_dir, \"keypoints_basler_nir_plexiglass_arena/sleap_training_round2/_labels_qd/kpoint_training_dataset_qd_alignment_kneejoints_reflect_only_round2_manual_labeling_nofluo_version-v1-embed-False.toml\")\n",
    "autolabel_metadata = toml.load(autolabel_keypoint_metadata_file)"
   ]
  },
  {
   "cell_type": "code",
   "execution_count": 22,
   "id": "78466340-8393-42e3-85c2-a81849926d4f",
   "metadata": {},
   "outputs": [
    {
     "data": {
      "text/plain": [
       "'N(autolabeled frames, kneejoints)=17901'"
      ]
     },
     "execution_count": 22,
     "metadata": {},
     "output_type": "execute_result"
    }
   ],
   "source": [
    "f\"N(autolabeled frames, kneejoints)={len(autolabel_metadata['frames'])}\""
   ]
  },
  {
   "cell_type": "markdown",
   "id": "d9669676-81a1-442b-a91a-afe37cf523aa",
   "metadata": {},
   "source": [
    "# Segmentation model"
   ]
  },
  {
   "cell_type": "code",
   "execution_count": 25,
   "id": "26145099-f1f4-41e1-9dc6-73450da6c389",
   "metadata": {},
   "outputs": [],
   "source": [
    "import joblib"
   ]
  },
  {
   "cell_type": "code",
   "execution_count": 26,
   "id": "04403ccf-8c59-48c1-9903-56a2cc525df8",
   "metadata": {},
   "outputs": [],
   "source": [
    "segmentation_data = \"/storage/coda1/p-jmarkowitz30/0/shared/active_lab_members/markowitz_jeffrey/active_projects/segmentation_basler_nir_plexiglass_arena/segmentation_training_data.pkl.gz\""
   ]
  },
  {
   "cell_type": "code",
   "execution_count": 27,
   "id": "f8566522-9c92-4618-bde5-198fc7701668",
   "metadata": {},
   "outputs": [],
   "source": [
    "training_data = joblib.load(segmentation_data)"
   ]
  },
  {
   "cell_type": "code",
   "execution_count": 28,
   "id": "70a078dd-d7f0-443d-8972-d3b3cec0a433",
   "metadata": {},
   "outputs": [],
   "source": [
    "training_datapoints = training_data[\"x\"].shape[0]"
   ]
  },
  {
   "cell_type": "code",
   "execution_count": 29,
   "id": "b75266df-2654-4f15-b8ae-ae9d7526c86a",
   "metadata": {},
   "outputs": [
    {
     "name": "stdout",
     "output_type": "stream",
     "text": [
      "1395\n"
     ]
    }
   ],
   "source": [
    "print(training_datapoints)"
   ]
  },
  {
   "cell_type": "code",
   "execution_count": null,
   "id": "115fff54-8e74-4d00-af85-bd4421c54679",
   "metadata": {},
   "outputs": [],
   "source": []
  }
 ],
 "metadata": {
  "kernelspec": {
   "display_name": "data-analysis (local)",
   "language": "python",
   "name": "data_analysis_local"
  },
  "language_info": {
   "codemirror_mode": {
    "name": "ipython",
    "version": 3
   },
   "file_extension": ".py",
   "mimetype": "text/x-python",
   "name": "python",
   "nbconvert_exporter": "python",
   "pygments_lexer": "ipython3",
   "version": "3.10.0"
  }
 },
 "nbformat": 4,
 "nbformat_minor": 5
}
