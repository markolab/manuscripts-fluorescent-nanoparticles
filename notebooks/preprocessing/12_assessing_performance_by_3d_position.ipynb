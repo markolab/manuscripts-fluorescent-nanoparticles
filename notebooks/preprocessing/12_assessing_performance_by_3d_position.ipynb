{
 "cells": [
  {
   "cell_type": "code",
   "execution_count": 1,
   "id": "6fdf449c-18e7-4dcc-a194-9de011757c91",
   "metadata": {
    "tags": []
   },
   "outputs": [],
   "source": [
    "%load_ext autoreload\n",
    "%autoreload 2\n",
    "%matplotlib inline"
   ]
  },
  {
   "cell_type": "code",
   "execution_count": null,
   "id": "e6aa4d5b-8df3-4f55-8be0-ddfd2203b457",
   "metadata": {},
   "outputs": [],
   "source": [
    "import os\n",
    "import cv2\n",
    "import matplotlib.pyplot as plt\n",
    "import numpy as np\n",
    "import toml\n",
    "import pandas as pd\n",
    "import seaborn as sns\n",
    "import scipy.spatial.transform as tf\n",
    "\n",
    "from tqdm.auto import tqdm\n",
    "from scipy import spatial\n",
    "from sklearn.decomposition import PCA\n",
    "from scipy.optimize import least_squares"
   ]
  },
  {
   "cell_type": "code",
   "execution_count": 4,
   "id": "524319b1-7b87-4192-8dd0-d916f3435703",
   "metadata": {
    "tags": []
   },
   "outputs": [],
   "source": [
    "def get_l2_norm(df, x1=\"kpoint_x\", x2=\"kpoint_com_gauss_x\", y1=\"kpoint_y\", y2=\"kpoint_com_gauss_y\"):\n",
    "    return np.linalg.norm([df[x1] - df[x2], df[y1] - df[y2]])"
   ]
  },
  {
   "cell_type": "code",
   "execution_count": 5,
   "id": "8858922d-a939-49cf-b73c-2e09abb8fd84",
   "metadata": {},
   "outputs": [],
   "source": [
    "# https://gist.github.com/davegreenwood/e1d2227d08e24cc4e353d95d0c18c914#file-triangulation-py-L9\n",
    "# see also https://github.com/opencv/opencv_contrib/blob/master/modules/sfm/src/triangulation.cpp#L96\n",
    "def triangulate_nviews(P, ip):\n",
    "    \"\"\"\n",
    "    Triangulate a point visible in n camera views.\n",
    "    P is a list of camera projection matrices.\n",
    "    ip is a list of homogenised image points. eg [ [x, y, 1], [x, y, 1] ], OR,\n",
    "    ip is a 2d array - shape nx3 - [ [x, y, 1], [x, y, 1] ]\n",
    "    len of ip must be the same as len of P\n",
    "    \"\"\"\n",
    "    if not len(ip) == len(P):\n",
    "        raise ValueError('Number of points and number of cameras not equal.')\n",
    "    if ip.shape[1] == 2:\n",
    "        ip = np.hstack([ip, np.ones((len(ip),1), dtype=ip.dtype)])\n",
    "    n = len(P)\n",
    "    M = np.zeros([3*n, 4+n])\n",
    "    for i, (x, p) in enumerate(zip(ip, P)):\n",
    "        M[3*i:3*i+3, :4] = p\n",
    "        M[3*i:3*i+3, 4+i] = -x\n",
    "    try:\n",
    "        V = np.linalg.svd(M)[-1]\n",
    "        X = V[-1, :4]\n",
    "        return X / X[3]\n",
    "    except np.linalg.LinAlgError as e:\n",
    "        return np.array([np.nan,np.nan,np.nan])"
   ]
  },
  {
   "cell_type": "code",
   "execution_count": 6,
   "id": "abe79478-03dd-4a07-acff-a7fdbb7de2d8",
   "metadata": {},
   "outputs": [],
   "source": [
    "def triangulate_points(df, extrinsics, min_views=2, use_x=\"kpoint_com_gauss_x_undistort\", use_y=\"kpoint_com_gauss_y_undistort\"):\n",
    "    input_pts = np.hstack([df[[use_x, use_y]].values, np.ones((len(df),1))])\n",
    "    cam_matrix = [extrinsics[_cam] for _cam in df[\"camera\"].tolist()]\n",
    "    if len(cam_matrix)>=min_views:\n",
    "        return triangulate_nviews(cam_matrix, input_pts)[:3]\n",
    "    else:\n",
    "        return np.array([np.nan, np.nan, np.nan])"
   ]
  },
  {
   "cell_type": "code",
   "execution_count": 7,
   "id": "74f0eb79-cd96-4998-8387-1c143fda6508",
   "metadata": {},
   "outputs": [],
   "source": [
    "def pad_matrices(df, kpoint_mapping={}):\n",
    "    new_arr = np.full((len(kpoint_mapping), 3), fill_value=np.nan, dtype=\"float\")\n",
    "    for _kpoint_name, _idx in kpoint_mapping.items():\n",
    "        try:\n",
    "            new_arr[_idx,:] = df.xs(_kpoint_name, level=\"kpoint_name\").to_numpy()[0]\n",
    "        except KeyError:\n",
    "            pass\n",
    "    return new_arr"
   ]
  },
  {
   "cell_type": "code",
   "execution_count": 9,
   "id": "a9713b82-11db-48bb-88e9-0496b23802bc",
   "metadata": {},
   "outputs": [],
   "source": [
    "def get_plane(points_3d):\n",
    "    # Suppose `points_3d` is (N, 3)\n",
    "    pca = PCA(n_components=3)\n",
    "    centroid = np.nanmean(points_3d, axis=0)\n",
    "    pca.fit(points_3d - centroid)\n",
    "    z_axis = np.array([0, 0, 1])\n",
    "    normal = pca.components_[2]  # Normal vector\n",
    "    rotation_vec = np.cross(normal, z_axis)\n",
    "    rotation_angle = np.arccos(np.clip(np.dot(normal, z_axis), -1, 1))\n",
    "    if np.linalg.norm(rotation_vec) > 1e-6:\n",
    "        rotation_vec /= np.linalg.norm(rotation_vec)\n",
    "        rot = tf.Rotation.from_rotvec(rotation_angle * rotation_vec)\n",
    "        # points_aligned = rot.apply(points_3d)\n",
    "    else:\n",
    "        # points_aligned = points_3d\n",
    "        rot = None\n",
    "    return rot, centroid"
   ]
  },
  {
   "cell_type": "code",
   "execution_count": 45,
   "id": "2dddb80b-548f-4775-95a2-a8f367a354b3",
   "metadata": {},
   "outputs": [],
   "source": [
    "def compute_camera_geometry(X, C, arena_center):\n",
    "    \"\"\"\n",
    "    X: (..., 3) keypoints\n",
    "    C: (3,) camera position\n",
    "    arena_center: (3,) target the camera is looking at\n",
    "    Returns: distance (...), angle_deg (...)\n",
    "    \"\"\"\n",
    "    V_to_point = X - C\n",
    "    V_target = arena_center - C\n",
    "\n",
    "    dist = np.linalg.norm(V_to_point, axis=-1)\n",
    "\n",
    "    # Normalize\n",
    "    V_to_point_norm = V_to_point / np.linalg.norm(V_to_point, axis=-1, keepdims=True)\n",
    "    V_target_norm = V_target / np.linalg.norm(V_target)\n",
    "\n",
    "    dot = np.sum(V_to_point_norm * V_target_norm, axis=-1)\n",
    "    angle_rad = np.arccos(np.clip(dot, -1.0, 1.0))\n",
    "    angle_deg = np.degrees(angle_rad)\n",
    "\n",
    "    return dist, angle_deg"
   ]
  },
  {
   "cell_type": "markdown",
   "id": "5ae6e564-6e34-41c6-b628-197e2387ee78",
   "metadata": {},
   "source": [
    "## Gather data and predicted keypoints"
   ]
  },
  {
   "cell_type": "code",
   "execution_count": 11,
   "id": "5abbf7f4-9f15-411b-b058-b02b512f303a",
   "metadata": {},
   "outputs": [],
   "source": [
    "centroid_parts = [\n",
    "    \"foreleg_L\",\n",
    "    \"foreleg_R\",\n",
    "    \"hindleg_L\",\n",
    "    \"hindleg_R\",\n",
    "    \"back_bottom\",\n",
    "    \"back_middle\",\n",
    "    \"back_top\",\n",
    "]"
   ]
  },
  {
   "cell_type": "code",
   "execution_count": 12,
   "id": "b349fb58-1bc9-4ed2-ba7b-42b95b3f09ca",
   "metadata": {},
   "outputs": [],
   "source": [
    "import socket\n",
    "hostname = socket.gethostname()\n",
    "\n",
    "config = toml.load(\"../preprocessing/config.toml\")\n",
    "if \"pace\" in hostname:\n",
    "    save_dir = config[\"dirs\"][\"analysis\"]\n",
    "else:\n",
    "    save_dir = os.path.expanduser(\"~/Desktop/data/qds_sciadv_rebuttal/quantum_dot_analysis/\")\n",
    "\n",
    "use_joints = False"
   ]
  },
  {
   "cell_type": "code",
   "execution_count": 13,
   "id": "388d4c85-619d-442c-b338-a6dd9dc04a2c",
   "metadata": {
    "tags": []
   },
   "outputs": [],
   "source": [
    "if use_joints:\n",
    "    save_file = os.path.join(save_dir, \"kpoint_training_dataset_qd_alignment_kneejoints_reflect_only_round2_manual_labeling_nofluo_version-v1.parquet\") \n",
    "else:\n",
    "    # save_file = \"/storage/coda1/p-jmarkowitz30/0/shared/active_lab_members/markowitz_jeffrey/active_projects/keypoints_basler_nir_plexiglass_arena/sleap_training_round2/_labels_qd/kpoint_training_dataset_qd_alignment_round2_manual_labeling_nofluo_version-v1.parquet\"\n",
    "    save_file = os.path.join(save_dir, \"kpoint_training_dataset_qd_alignment_round2_manual_labeling_nofluo_version-v1.parquet\")     "
   ]
  },
  {
   "cell_type": "code",
   "execution_count": 14,
   "id": "d6b62fb0-8538-4d2d-8657-c0d582738d07",
   "metadata": {},
   "outputs": [],
   "source": [
    "min_nviews = 2"
   ]
  },
  {
   "cell_type": "code",
   "execution_count": 15,
   "id": "235fe4e1-322b-4fac-8d75-6f77d46d9e50",
   "metadata": {
    "tags": []
   },
   "outputs": [],
   "source": [
    "# also here drop keypoints that we can't triangulate...\n",
    "qd_df = pd.read_parquet(save_file).drop([\"crop_im\"],axis=1)\n",
    "qd_df[\"session\"] = qd_df[\"kpoint_avi_fname\"].str.extract(\"(session_[0-9|\\-]+) \")\n",
    "qd_df = qd_df.groupby([\"session\",\"frame_index\",\"kpoint_name\"]).filter(lambda x: len(x[\"kpoint_x\"].dropna()) >= min_nviews)"
   ]
  },
  {
   "cell_type": "code",
   "execution_count": 16,
   "id": "ed3a3b24-59cf-44db-8301-25d0e83f5089",
   "metadata": {},
   "outputs": [],
   "source": [
    "qd_df.index = np.arange(len(qd_df))"
   ]
  },
  {
   "cell_type": "code",
   "execution_count": 17,
   "id": "b990c6e7-7422-4aed-9c12-041dde735c2a",
   "metadata": {
    "tags": []
   },
   "outputs": [],
   "source": [
    "# map to idx \n",
    "kpoint_idx_mapping = {key: i for i, key in enumerate(sorted(qd_df[\"kpoint_name\"].unique()))}\n",
    "idx_kpoint_mapping = {v: k for k, v in kpoint_idx_mapping.items()}"
   ]
  },
  {
   "cell_type": "code",
   "execution_count": 18,
   "id": "15c87e15-08d9-4395-8ccb-b433efb511e2",
   "metadata": {
    "tags": []
   },
   "outputs": [],
   "source": [
    "qd_df[\"kpoint_idx\"] = qd_df[\"kpoint_name\"].map(kpoint_idx_mapping)\n"
   ]
  },
  {
   "cell_type": "markdown",
   "id": "b60a498a-46e6-4f57-98ce-c3b2142c8357",
   "metadata": {},
   "source": [
    "# Threshold data"
   ]
  },
  {
   "cell_type": "code",
   "execution_count": 19,
   "id": "7019d934-1bc5-46de-8f46-5bc9b91253bc",
   "metadata": {},
   "outputs": [],
   "source": [
    "score_threshold = .5"
   ]
  },
  {
   "cell_type": "code",
   "execution_count": 20,
   "id": "5ae11969-0225-431b-9dc2-756424224ba5",
   "metadata": {
    "tags": []
   },
   "outputs": [],
   "source": [
    "sessions = qd_df[\"session\"].unique()"
   ]
  },
  {
   "cell_type": "code",
   "execution_count": 21,
   "id": "c8cc72e3-c514-4bad-9d11-f907a74a48d6",
   "metadata": {
    "tags": []
   },
   "outputs": [],
   "source": [
    "# filtered_qd_df = qd_df.query(\"kpoint_score > @score_threshold\").copy()\n",
    "filtered_qd_df = qd_df"
   ]
  },
  {
   "cell_type": "markdown",
   "id": "f5c67e25-78e2-4367-a60a-42f11b544293",
   "metadata": {},
   "source": [
    "# load in calibration"
   ]
  },
  {
   "cell_type": "code",
   "execution_count": 22,
   "id": "816bafa3-586e-4243-88a1-2e2d3b894092",
   "metadata": {},
   "outputs": [],
   "source": [
    "cam_path = os.path.join(\"/storage/home/hcoda1/4/jmarkowitz30/shared_folder/active_lab_members/markowitz_jeffrey/active_projects/quantum_dots/timecourse_02_calibration_v2.toml\")\n",
    "# cam_path = os.path.expanduser(os.path.join(save_dir, \"timecourse_02_calibration_v2.toml\"))\n",
    "projection_m = toml.load(cam_path)"
   ]
  },
  {
   "cell_type": "code",
   "execution_count": 23,
   "id": "794203eb-f7ed-4735-be1e-8db26d4caf3f",
   "metadata": {},
   "outputs": [],
   "source": [
    "cams = list(projection_m[\"extrinsics\"].keys())"
   ]
  },
  {
   "cell_type": "code",
   "execution_count": 24,
   "id": "8ce9b9fc-3428-4d09-8719-778b6578e96c",
   "metadata": {},
   "outputs": [],
   "source": [
    "extrinsics = {}\n",
    "intrinsics = {}\n",
    "distortion_coeffs = {}\n",
    "\n",
    "for k, v in projection_m[\"extrinsics\"].items():\n",
    "    extrinsics[k] = np.array(v)\n",
    "\n",
    "for k, v in projection_m[\"intrinsics\"].items():\n",
    "    intrinsics[k] = np.array(v)\n",
    "    \n",
    "for k, v in projection_m[\"distortion_coeffs\"].items():\n",
    "    distortion_coeffs[k] = np.array(v)"
   ]
  },
  {
   "cell_type": "code",
   "execution_count": 25,
   "id": "f8f056e6-9d3b-4b0c-8a89-002c2bcaf957",
   "metadata": {},
   "outputs": [],
   "source": [
    "tqdm.pandas()"
   ]
  },
  {
   "cell_type": "code",
   "execution_count": 26,
   "id": "b78d3a2b-8a33-4ad0-8063-2c7506c8fd49",
   "metadata": {
    "tags": []
   },
   "outputs": [
    {
     "data": {
      "application/vnd.jupyter.widget-view+json": {
       "model_id": "56acb1c4a2a449128f019db37b0c39f1",
       "version_major": 2,
       "version_minor": 0
      },
      "text/plain": [
       "  0%|          | 0/5 [00:00<?, ?it/s]"
      ]
     },
     "metadata": {},
     "output_type": "display_data"
    },
    {
     "data": {
      "application/vnd.jupyter.widget-view+json": {
       "model_id": "7292f912cfb040508610b12df344699f",
       "version_major": 2,
       "version_minor": 0
      },
      "text/plain": [
       "  0%|          | 0/5 [00:00<?, ?it/s]"
      ]
     },
     "metadata": {},
     "output_type": "display_data"
    }
   ],
   "source": [
    "undistorted_points = filtered_qd_df.groupby(\"camera\")[\n",
    "    [\"camera\", \"kpoint_com_gauss_x\", \"kpoint_com_gauss_y\"]\n",
    "].progress_apply(\n",
    "    lambda x: (\n",
    "        pd.DataFrame(\n",
    "        data=cv2.undistortPoints(\n",
    "        x[[\"kpoint_com_gauss_x\", \"kpoint_com_gauss_y\"]].values,\n",
    "        intrinsics[x[\"camera\"].iat[0]],\n",
    "        distortion_coeffs[x[\"camera\"].iat[0]]\n",
    "        ).squeeze(),\n",
    "        columns=[\"kpoint_com_gauss_x_undistort\",\"kpoint_com_gauss_y_undistort\"],\n",
    "        index=x.index,\n",
    ")))\n",
    "\n",
    "undistorted_points.index = undistorted_points.index.get_level_values(-1)\n",
    "filtered_qd_df = filtered_qd_df.join(undistorted_points)\n",
    "\n",
    "undistorted_points = filtered_qd_df.groupby(\"camera\")[\n",
    "    [\"camera\", \"kpoint_x\", \"kpoint_y\"]\n",
    "].progress_apply(\n",
    "    lambda x: (\n",
    "        pd.DataFrame(\n",
    "        data=cv2.undistortPoints(\n",
    "        x[[\"kpoint_x\", \"kpoint_y\"]].values,\n",
    "        intrinsics[x[\"camera\"].iat[0]],\n",
    "        distortion_coeffs[x[\"camera\"].iat[0]]\n",
    "        ).squeeze(),\n",
    "        columns=[\"kpoint_x_undistort\",\"kpoint_y_undistort\"],\n",
    "        index=x.index,\n",
    ")))\n",
    "\n",
    "undistorted_points.index = undistorted_points.index.get_level_values(-1)\n",
    "filtered_qd_df = filtered_qd_df.join(undistorted_points)"
   ]
  },
  {
   "cell_type": "code",
   "execution_count": null,
   "id": "4cfce4d9-52b6-4f68-97b2-35b80501ab4e",
   "metadata": {},
   "outputs": [],
   "source": [
    "# we also need undistorted in pixel coordinates to compute errors (don't use for triangulation)...\n",
    "undistorted_points_unnormalized = filtered_qd_df.groupby(\"camera\")[\n",
    "    [\"camera\", \"kpoint_com_gauss_x\", \"kpoint_com_gauss_y\"]\n",
    "].progress_apply(\n",
    "    lambda x: (\n",
    "        pd.DataFrame(\n",
    "        data=cv2.undistortPoints(\n",
    "        x[[\"kpoint_com_gauss_x\", \"kpoint_com_gauss_y\"]].values,\n",
    "        intrinsics[x[\"camera\"].iat[0]],\n",
    "        distortion_coeffs[x[\"camera\"].iat[0]],\n",
    "        P=intrinsics[x[\"camera\"].iat[0]],\n",
    "        ).squeeze(),\n",
    "        columns=[\"kpoint_com_gauss_x_undistort_pixel\",\"kpoint_com_gauss_y_undistort_pixel\"],\n",
    "        index=x.index,\n",
    ")))\n",
    "\n",
    "undistorted_points_unnormalized.index = undistorted_points_unnormalized.index.get_level_values(-1)\n",
    "filtered_qd_df = filtered_qd_df.join(undistorted_points_unnormalized)\n",
    "\n",
    "undistorted_points_unnormalized = filtered_qd_df.groupby(\"camera\")[\n",
    "    [\"camera\", \"kpoint_x\", \"kpoint_y\"]\n",
    "].progress_apply(\n",
    "    lambda x: (\n",
    "        pd.DataFrame(\n",
    "        data=cv2.undistortPoints(\n",
    "        x[[\"kpoint_x\", \"kpoint_y\"]].values,\n",
    "        intrinsics[x[\"camera\"].iat[0]],\n",
    "        distortion_coeffs[x[\"camera\"].iat[0]],\n",
    "        P=intrinsics[x[\"camera\"].iat[0]],\n",
    "        ).squeeze(),\n",
    "        columns=[\"kpoint_x_undistort_pixel\",\"kpoint_y_undistort_pixel\"],\n",
    "        index=x.index,\n",
    ")))\n",
    "\n",
    "undistorted_points_unnormalized.index = undistorted_points_unnormalized.index.get_level_values(-1)\n",
    "filtered_qd_df = filtered_qd_df.join(undistorted_points_unnormalized)"
   ]
  },
  {
   "cell_type": "code",
   "execution_count": 27,
   "id": "707224e7-336e-4f70-8e06-fcaaaf27f219",
   "metadata": {},
   "outputs": [],
   "source": [
    "kpoints = list(kpoint_idx_mapping.keys())\n",
    "cameras = list(extrinsics.keys())\n",
    "nframes = len(filtered_qd_df.drop_duplicates([\"session\",\"frame_index\"]))"
   ]
  },
  {
   "cell_type": "code",
   "execution_count": 28,
   "id": "eee8f4ee-49bd-4a49-b968-e6e56a86ae93",
   "metadata": {},
   "outputs": [
    {
     "data": {
      "application/vnd.jupyter.widget-view+json": {
       "model_id": "e7e687be244e47b0a0f37ac559996ae6",
       "version_major": 2,
       "version_minor": 0
      },
      "text/plain": [
       "  0%|          | 0/995140 [00:00<?, ?it/s]"
      ]
     },
     "metadata": {},
     "output_type": "display_data"
    },
    {
     "name": "stderr",
     "output_type": "stream",
     "text": [
      "IOPub message rate exceeded.\n",
      "The Jupyter server will temporarily stop sending output\n",
      "to the client in order to avoid crashing it.\n",
      "To change this limit, set the config variable\n",
      "`--ServerApp.iopub_msg_rate_limit`.\n",
      "\n",
      "Current values:\n",
      "ServerApp.iopub_msg_rate_limit=1000.0 (msgs/sec)\n",
      "ServerApp.rate_limit_window=3.0 (secs)\n",
      "\n"
     ]
    },
    {
     "data": {
      "application/vnd.jupyter.widget-view+json": {
       "model_id": "f59bbb1b4aed4c18a7810aa22731d3b5",
       "version_major": 2,
       "version_minor": 0
      },
      "text/plain": [
       "  0%|          | 0/99514 [00:00<?, ?it/s]"
      ]
     },
     "metadata": {},
     "output_type": "display_data"
    }
   ],
   "source": [
    "pts_com = (\n",
    "    filtered_qd_df\n",
    "    .groupby([\"session\",\"frame_index\",\"kpoint_name\"])[\n",
    "        [\"kpoint_com_gauss_x_undistort\", \"kpoint_com_gauss_y_undistort\", \"camera\"]\n",
    "    ]\n",
    "    .progress_apply(lambda x: triangulate_points(x, extrinsics=extrinsics, min_views=min_nviews))\n",
    ")\n",
    "padded_pts_com = (\n",
    "    pts_com\n",
    "    .groupby([\"session\", \"frame_index\"])\n",
    "    .progress_apply(lambda x: pad_matrices(x, kpoint_mapping=kpoint_idx_mapping))\n",
    ")"
   ]
  },
  {
   "cell_type": "code",
   "execution_count": 29,
   "id": "1f2bdb91-0a18-4fdf-924d-ad7daa8efd53",
   "metadata": {},
   "outputs": [
    {
     "data": {
      "application/vnd.jupyter.widget-view+json": {
       "model_id": "82eaff53faa04f0d893776df030d26db",
       "version_major": 2,
       "version_minor": 0
      },
      "text/plain": [
       "  0%|          | 0/995140 [00:00<?, ?it/s]"
      ]
     },
     "metadata": {},
     "output_type": "display_data"
    },
    {
     "data": {
      "application/vnd.jupyter.widget-view+json": {
       "model_id": "81b0d59825384f8f8f267ffb395f8e65",
       "version_major": 2,
       "version_minor": 0
      },
      "text/plain": [
       "  0%|          | 0/99514 [00:00<?, ?it/s]"
      ]
     },
     "metadata": {},
     "output_type": "display_data"
    },
    {
     "name": "stderr",
     "output_type": "stream",
     "text": [
      "IOStream.flush timed out\n"
     ]
    }
   ],
   "source": [
    "pts_kpoint = filtered_qd_df.groupby([\"session\", \"frame_index\", \"kpoint_name\"])[\n",
    "    [\"kpoint_x_undistort\", \"kpoint_y_undistort\", \"camera\"]\n",
    "].progress_apply(\n",
    "    lambda x: triangulate_points(\n",
    "        x, extrinsics=extrinsics, min_views=min_nviews, use_x=\"kpoint_x_undistort\", use_y=\"kpoint_y_undistort\"\n",
    "    )\n",
    ")\n",
    "padded_pts_kpoint = pts_kpoint.groupby([\"session\", \"frame_index\"]).progress_apply(\n",
    "    lambda x: pad_matrices(x, kpoint_mapping=kpoint_idx_mapping)\n",
    ")"
   ]
  },
  {
   "cell_type": "markdown",
   "id": "76a24313-ac1a-4e32-91e5-6ed0b5a8f9a9",
   "metadata": {},
   "source": [
    "# now take the triangulated data and package"
   ]
  },
  {
   "cell_type": "code",
   "execution_count": 30,
   "id": "54f247bd-dc72-4823-bb0b-e0d995c97a57",
   "metadata": {},
   "outputs": [],
   "source": [
    "permute = [0, 2, 1]\n",
    "flip_z = True"
   ]
  },
  {
   "cell_type": "code",
   "execution_count": 31,
   "id": "50257809-dd1e-4c98-be34-090ce77a74e9",
   "metadata": {},
   "outputs": [
    {
     "data": {
      "application/vnd.jupyter.widget-view+json": {
       "model_id": "38141336a7c04e759cc78519a95972ad",
       "version_major": 2,
       "version_minor": 0
      },
      "text/plain": [
       "  0%|          | 0/99514 [00:00<?, ?it/s]"
      ]
     },
     "metadata": {},
     "output_type": "display_data"
    },
    {
     "name": "stderr",
     "output_type": "stream",
     "text": [
      "/tmp/ipykernel_3227157/399689187.py:3: RuntimeWarning: All-NaN slice encountered\n",
      "  centroid_3d_com = padded_pts_com.progress_apply(lambda x: np.nanmedian(x[centroid_idx,:],axis=0))\n"
     ]
    },
    {
     "data": {
      "application/vnd.jupyter.widget-view+json": {
       "model_id": "9df062031b4a40619cef18e17ccf2b8f",
       "version_major": 2,
       "version_minor": 0
      },
      "text/plain": [
       "  0%|          | 0/99514 [00:00<?, ?it/s]"
      ]
     },
     "metadata": {},
     "output_type": "display_data"
    },
    {
     "name": "stdout",
     "output_type": "stream",
     "text": [
      "X range: -203.0369933368354 145.7882548021557\n",
      "Y range: 203.0641648637491 541.4403676497175\n",
      "Z range: -68.4834556287769 68.83223486963605\n"
     ]
    }
   ],
   "source": [
    "# centroid parts\n",
    "centroid_idx = sorted([kpoint_idx_mapping[_part] for _part in centroid_parts])\n",
    "centroid_3d_com = padded_pts_com.progress_apply(lambda x: np.nanmedian(x[centroid_idx,:],axis=0))\n",
    "centroid_3d_kpoint = padded_pts_kpoint.progress_apply(lambda x: np.nanmedian(x[centroid_idx,:],axis=0))\n",
    "xyz_com = np.stack(centroid_3d_com)\n",
    "xyz_com = xyz_com[:,permute]\n",
    "xyz_kpoint = np.stack(centroid_3d_kpoint)\n",
    "xyz_kpoint = xyz_kpoint[:,permute]\n",
    "if flip_z:\n",
    "    xyz_com[:,2] *= -1\n",
    "    xyz_kpoint[:,2] *= -1\n",
    "print(\"X range:\", np.nanmin(xyz_com[:,0]), np.nanmax(xyz_com[:,0]))\n",
    "print(\"Y range:\", np.nanmin(xyz_com[:,1]), np.nanmax(xyz_com[:,1]))\n",
    "print(\"Z range:\", np.nanmin(xyz_com[:,2]), np.nanmax(xyz_com[:,2]))"
   ]
  },
  {
   "cell_type": "code",
   "execution_count": 32,
   "id": "2701c88f-cac9-4191-9c92-3b369ad73ed5",
   "metadata": {},
   "outputs": [],
   "source": [
    "camera_pos = {}\n",
    "for _cam, _extrinsic in extrinsics.items():\n",
    "    # Extract R and t\n",
    "    R = _extrinsic[:, :3]\n",
    "    t = _extrinsic[:, 3:] \n",
    "    # Compute camera center in world coordinates\n",
    "    camera_pos[_cam]= -R.T @ t"
   ]
  },
  {
   "cell_type": "code",
   "execution_count": 33,
   "id": "888361f4-d397-49e8-a73d-7080480f2c9c",
   "metadata": {},
   "outputs": [
    {
     "data": {
      "text/plain": [
       "[0, 2, 1]"
      ]
     },
     "execution_count": 33,
     "metadata": {},
     "output_type": "execute_result"
    }
   ],
   "source": [
    "permute"
   ]
  },
  {
   "cell_type": "code",
   "execution_count": 34,
   "id": "2d1d0363-db73-4a22-b8ea-32b91fb07d60",
   "metadata": {},
   "outputs": [],
   "source": [
    "for k, v in camera_pos.items():\n",
    "    camera_pos[k] = v[permute]\n",
    "    if flip_z:\n",
    "        camera_pos[k][-1] *= - 1"
   ]
  },
  {
   "cell_type": "code",
   "execution_count": 35,
   "id": "0b6b83d2-cd24-430f-abd4-30ca68e1184f",
   "metadata": {},
   "outputs": [
    {
     "data": {
      "image/png": "[encoded data removed]",
      "text/plain": [
       "<Figure size 400x400 with 1 Axes>"
      ]
     },
     "metadata": {},
     "output_type": "display_data"
    }
   ],
   "source": [
    "fig = plt.figure(figsize=(4,4))\n",
    "ax = fig.add_subplot(projection=\"3d\")\n",
    "ax.scatter(\n",
    "    xyz_kpoint[:10000:10,0],\n",
    "    xyz_kpoint[:10000:10,1],\n",
    "    xyz_kpoint[:10000:10,2],\n",
    "    lw=1,\n",
    "    # color=palette[_notes],\n",
    ")\n",
    "for k, v in camera_pos.items():\n",
    "    ax.scatter(v[0], v[1], v[2], color=\"y\")\n",
    "elev = 25\n",
    "azim = +60\n",
    "ax.view_init(elev, azim)"
   ]
  },
  {
   "cell_type": "code",
   "execution_count": 36,
   "id": "dc38ef14-7aa5-467b-9645-8f0051bd01d2",
   "metadata": {},
   "outputs": [],
   "source": [
    "# use z_depths close and far..."
   ]
  },
  {
   "cell_type": "markdown",
   "id": "d526aa03-f9a8-4413-b6cc-20cb787d4fbd",
   "metadata": {},
   "source": [
    "# Make sure everything lies on a plane, re-triangulate with corrected camera positions"
   ]
  },
  {
   "cell_type": "code",
   "execution_count": 37,
   "id": "6eb090c2-4217-4d79-9883-d72fdf07c9a9",
   "metadata": {},
   "outputs": [],
   "source": [
    "import copy\n",
    "# flip_z = True"
   ]
  },
  {
   "cell_type": "code",
   "execution_count": 38,
   "id": "7596c34a-0bda-4261-8f20-862599b84d6e",
   "metadata": {
    "tags": []
   },
   "outputs": [],
   "source": [
    "# subsample for rotation\n",
    "use_xyz_com = xyz_com.copy()\n",
    "use_xyz_com = use_xyz_com[~np.isnan(use_xyz_com).any(axis=1)]\n",
    "rot_3d, centroid = get_plane(use_xyz_com)"
   ]
  },
  {
   "cell_type": "code",
   "execution_count": 39,
   "id": "7d399ee9-ac0d-42ba-b8b0-03077a3202e7",
   "metadata": {},
   "outputs": [],
   "source": [
    "new_xyz_com = rot_3d.apply(xyz_com - centroid)\n",
    "new_xyz_kpoint = rot_3d.apply(xyz_kpoint - centroid)"
   ]
  },
  {
   "cell_type": "code",
   "execution_count": 40,
   "id": "6308fe93-0568-4c70-8cee-c5b83959e61c",
   "metadata": {},
   "outputs": [],
   "source": [
    "corrected_camera_pos = copy.deepcopy(camera_pos)\n",
    "for k, v in corrected_camera_pos.items():\n",
    "    use_v = v\n",
    "    new_v = rot_3d.apply(use_v.ravel() - centroid)\n",
    "    corrected_camera_pos[k] = new_v"
   ]
  },
  {
   "cell_type": "code",
   "execution_count": 42,
   "id": "7bdf67f7-2465-4864-8a80-819dbe1434b3",
   "metadata": {},
   "outputs": [
    {
     "data": {
      "image/png": "[encoded data removed]",
      "text/plain": [
       "<Figure size 400x400 with 1 Axes>"
      ]
     },
     "metadata": {},
     "output_type": "display_data"
    }
   ],
   "source": [
    "fig, ax = plt.subplots(1, figsize=(4,4))\n",
    "ax.scatter(xyz_com[:,0],\n",
    "           xyz_com[:,1])\n",
    "for k, v in corrected_camera_pos.items():\n",
    "    ax.scatter(v[0], v[1], color=\"y\", s=100)"
   ]
  },
  {
   "cell_type": "code",
   "execution_count": 43,
   "id": "e8f7d7fe-2ead-4060-953c-35c51e824424",
   "metadata": {
    "tags": []
   },
   "outputs": [
    {
     "data": {
      "image/png": "[encoded data removed]",
      "text/plain": [
       "<Figure size 400x400 with 1 Axes>"
      ]
     },
     "metadata": {},
     "output_type": "display_data"
    }
   ],
   "source": [
    "fig = plt.figure(figsize=(4,4))\n",
    "ax = fig.add_subplot(projection=\"3d\")\n",
    "ax.scatter(\n",
    "    new_xyz_com[::5,0],\n",
    "    new_xyz_com[::5,1],\n",
    "    new_xyz_com[::5,2],\n",
    "    alpha=.25,\n",
    "    # lw=1,\n",
    "    # color=palette[_notes],\n",
    ")\n",
    "for k, v in corrected_camera_pos.items():\n",
    "    ax.scatter(v[0], v[1], v[2], color=\"y\", s=100)\n",
    "ax.set(zlim=(-200,200))\n",
    "\n",
    "elev = +15\n",
    "azim = +10\n",
    "ax.view_init(elev, azim)"
   ]
  },
  {
   "cell_type": "code",
   "execution_count": 44,
   "id": "e122b78a-4a1c-4cbf-827d-a3dd6501e18f",
   "metadata": {
    "tags": []
   },
   "outputs": [],
   "source": [
    "sessions = padded_pts_com.index.get_level_values(0).unique()"
   ]
  },
  {
   "cell_type": "code",
   "execution_count": 46,
   "id": "4e72a503-900c-42e1-ae11-ab8beda88992",
   "metadata": {},
   "outputs": [],
   "source": [
    "arena_center = np.nanmedian(new_xyz_com, axis=0)"
   ]
  },
  {
   "cell_type": "code",
   "execution_count": 47,
   "id": "08191f49-fb0c-4d0a-985c-31667477ba2d",
   "metadata": {},
   "outputs": [],
   "source": [
    "pts_index = list(padded_pts_com.index)"
   ]
  },
  {
   "cell_type": "code",
   "execution_count": 49,
   "id": "57f39d10-6877-432e-b27d-0ef49fa001cd",
   "metadata": {
    "tags": []
   },
   "outputs": [
    {
     "data": {
      "application/vnd.jupyter.widget-view+json": {
       "model_id": "cb77697ae98f48388523a8e961dd6b89",
       "version_major": 2,
       "version_minor": 0
      },
      "text/plain": [
       "  0%|          | 0/5 [00:00<?, ?it/s]"
      ]
     },
     "metadata": {},
     "output_type": "display_data"
    }
   ],
   "source": [
    "cameras = list(extrinsics.keys())\n",
    "dfs = []\n",
    "for chk_camera in tqdm(cameras):\n",
    "    dist, angle = compute_camera_geometry(new_xyz_com, corrected_camera_pos[chk_camera].ravel(), arena_center=arena_center) \n",
    "    new_index = [(_session, _frame_index, chk_camera) for _session, _frame_index in pts_index]\n",
    "    _geometry_df = pd.DataFrame()\n",
    "    _geometry_df.index = pd.MultiIndex.from_tuples(new_index)\n",
    "    _geometry_df.index.names = [\"session\",\"frame_index\",\"camera\"]\n",
    "    _geometry_df[\"dist_from_camera_mm\"] = dist\n",
    "    _geometry_df[\"angle_from_camera_degrees\"] = angle\n",
    "    dfs.append(_geometry_df)"
   ]
  },
  {
   "cell_type": "code",
   "execution_count": 85,
   "id": "e8c49b9a-1f38-46cd-9c0b-a95faeaff29c",
   "metadata": {},
   "outputs": [],
   "source": [
    "geometry_df = pd.concat(dfs, ignore_index=False)"
   ]
  },
  {
   "cell_type": "code",
   "execution_count": 110,
   "id": "e3eb36c5-8073-4a4f-b665-093b1a386b95",
   "metadata": {},
   "outputs": [],
   "source": [
    "new_df = pd.merge(filtered_qd_df, geometry_df, on=list(geometry_df.index.names))"
   ]
  },
  {
   "cell_type": "code",
   "execution_count": 111,
   "id": "78165d35-d699-4e85-bd17-664e383f2bb7",
   "metadata": {},
   "outputs": [],
   "source": [
    "new_df[\"error_kpoint_x_px\"] = new_df[\"kpoint_x_undistort_pixel\"] - new_df[\"kpoint_com_gauss_x_undistort_pixel\"]\n",
    "new_df[\"error_kpoint_y_px\"] = new_df[\"kpoint_y_undistort_pixel\"] - new_df[\"kpoint_com_gauss_y_undistort_pixel\"]\n",
    "\n",
    "fx_map = {_cam: v[0,0] for _cam, v in intrinsics.items()}\n",
    "fy_map = {_cam: v[1,1] for _cam, v in intrinsics.items()}\n",
    "px_map = {_cam: v[0,2] for _cam, v in intrinsics.items()}\n",
    "py_map = {_cam: v[1,2] for _cam, v in intrinsics.items()}\n",
    "\n",
    "new_df[\"fx\"] = new_df[\"camera\"].map(fx_map)\n",
    "new_df[\"fy\"] = new_df[\"camera\"].map(fy_map)\n",
    "new_df[\"px\"] = new_df[\"camera\"].map(px_map)\n",
    "new_df[\"py\"] = new_df[\"camera\"].map(py_map)\n",
    "\n",
    "new_df[\"error_kpoint_x_mm\"] = (new_df[\"error_kpoint_x_px\"] * new_df[\"dist_from_camera_mm\"]) / new_df[\"px\"]\n",
    "new_df[\"error_kpoint_y_mm\"] = (new_df[\"error_kpoint_y_px\"] * new_df[\"dist_from_camera_mm\"]) / new_df[\"py\"]\n",
    "new_df[\"error_kpoint_l2_mm\"] = np.hypot(new_df[\"error_kpoint_x_mm\"], new_df[\"error_kpoint_y_mm\"])"
   ]
  },
  {
   "cell_type": "code",
   "execution_count": 112,
   "id": "b5d6d304-5623-49b1-924c-1c6b633af592",
   "metadata": {},
   "outputs": [],
   "source": [
    "xyz_df = pd.DataFrame(data=new_xyz_com, index=padded_pts_com.index, columns=[\"centroid_x_world\",\"centroid_y_world\",\"centroid_z_world\"])\n",
    "new_df = pd.merge(new_df, xyz_df, on=list(xyz_df.index.names))"
   ]
  },
  {
   "cell_type": "code",
   "execution_count": 113,
   "id": "b1688e83-bdb0-4288-b58a-f54e5f4647fb",
   "metadata": {},
   "outputs": [],
   "source": [
    "cam_df = pd.DataFrame(data=np.stack(list(corrected_camera_pos.values())), index=list(corrected_camera_pos.keys()), columns=[\"camera_x_world\",\"camera_y_world\",\"camera_z_world\"])\n",
    "cam_df.index.name = \"camera\""
   ]
  },
  {
   "cell_type": "code",
   "execution_count": 114,
   "id": "b55e52e0-252f-492b-a53e-7a953d7333c9",
   "metadata": {},
   "outputs": [],
   "source": [
    "new_df = pd.merge(new_df, cam_df, on=list(cam_df.index.names))"
   ]
  },
  {
   "cell_type": "code",
   "execution_count": 115,
   "id": "600b5dfa-18b1-41ec-8cf3-fce7e845c413",
   "metadata": {},
   "outputs": [],
   "source": [
    "new_df.to_parquet(os.path.join(save_dir, \"accuracy_v_distance_from_camera.parquet\"))"
   ]
  }
 ],
 "metadata": {
  "kernelspec": {
   "display_name": "data-analysis (local)",
   "language": "python",
   "name": "data_analysis_local"
  },
  "language_info": {
   "codemirror_mode": {
    "name": "ipython",
    "version": 3
   },
   "file_extension": ".py",
   "mimetype": "text/x-python",
   "name": "python",
   "nbconvert_exporter": "python",
   "pygments_lexer": "ipython3",
   "version": "3.10.0"
  }
 },
 "nbformat": 4,
 "nbformat_minor": 5
}
