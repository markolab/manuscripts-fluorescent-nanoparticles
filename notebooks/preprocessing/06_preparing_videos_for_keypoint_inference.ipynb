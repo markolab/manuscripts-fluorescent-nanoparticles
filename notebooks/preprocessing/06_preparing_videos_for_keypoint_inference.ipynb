{
 "cells": [
  {
   "cell_type": "code",
   "execution_count": 1,
   "id": "5f17da30-45c1-48dc-88ed-cb3c5371e855",
   "metadata": {
    "tags": []
   },
   "outputs": [],
   "source": [
    "%load_ext autoreload\n",
    "%autoreload 2\n",
    "%matplotlib inline"
   ]
  },
  {
   "cell_type": "code",
   "execution_count": 2,
   "id": "0b73844f-2fd3-4636-89f6-dbfb7c75f172",
   "metadata": {
    "tags": []
   },
   "outputs": [],
   "source": [
    "import os\n",
    "import copy\n",
    "import cv2\n",
    "from markovids import vid\n",
    "import numpy as np\n",
    "import h5py\n",
    "import toml\n",
    "from tqdm.auto import tqdm\n",
    "import re"
   ]
  },
  {
   "cell_type": "markdown",
   "id": "e74fb1d3-952f-459f-b833-c83c13f7d7a7",
   "metadata": {},
   "source": [
    "## User functions"
   ]
  },
  {
   "cell_type": "code",
   "execution_count": 3,
   "id": "8bf05b39-db42-4915-b0cd-ccb97d45a6b6",
   "metadata": {
    "tags": []
   },
   "outputs": [],
   "source": [
    "def lp_filter(x, sigma):\n",
    "    return cv2.GaussianBlur(x, [0, 0], sigma, sigma)\n",
    "\n",
    "def bp_filter(x, sigma1, sigma2, clip=True):\n",
    "    if (sigma1 == 0) or (sigma1 is None):\n",
    "        return x\n",
    "    elif (sigma2 == 0) or (sigma2 is None):\n",
    "        return lp_filter(x, sigma1)\n",
    "    else:\n",
    "        return np.clip(\n",
    "            lp_filter(x, sigma1) - lp_filter(x, sigma2),\n",
    "            0 if clip == True else -np.inf,\n",
    "            np.inf,\n",
    "        )"
   ]
  },
  {
   "cell_type": "markdown",
   "id": "0d65fe40-ace5-4ab8-aec6-c52542eaa2a7",
   "metadata": {},
   "source": [
    "# Load in metadata"
   ]
  },
  {
   "cell_type": "code",
   "execution_count": 4,
   "id": "32d4ac18-f85f-44bd-9f17-bb62c916e755",
   "metadata": {
    "tags": []
   },
   "outputs": [],
   "source": [
    "base_dir = \"/storage/home/hcoda1/4/jmarkowitz30/shared_folder/active_lab_members/markowitz_jeffrey/active_projects/quantum_dots/timecourse_02_joints/\""
   ]
  },
  {
   "cell_type": "markdown",
   "id": "d78db1e4-ef12-4a6b-a8a6-75de3f610419",
   "metadata": {},
   "source": [
    "# Gather all data files"
   ]
  },
  {
   "cell_type": "code",
   "execution_count": 5,
   "id": "37d68496-1aee-4965-a7b9-23cec1f5b06f",
   "metadata": {
    "tags": []
   },
   "outputs": [],
   "source": [
    "import glob\n",
    "dat_paths = {}\n",
    "avis = sorted(glob.glob(os.path.join(base_dir, \"**\", \"*reflectance.avi\"), recursive=True))"
   ]
  },
  {
   "cell_type": "markdown",
   "id": "f4db7909-1a47-4b61-a01c-4221d914053a",
   "metadata": {},
   "source": [
    "# Get what already exists on segments"
   ]
  },
  {
   "cell_type": "code",
   "execution_count": 7,
   "id": "93d2f947-4cdf-4a83-a973-5827e264450c",
   "metadata": {
    "tags": []
   },
   "outputs": [],
   "source": [
    "r = re.compile(\"session\\_.*\\d+.*\\)\")"
   ]
  },
  {
   "cell_type": "code",
   "execution_count": 9,
   "id": "da37f19e-3fae-4af5-bb41-1ef3d63e44fe",
   "metadata": {
    "tags": []
   },
   "outputs": [],
   "source": [
    "exclude_paths = [\n",
    "    \"session_20240610170622-119479\"\n",
    "]\n",
    "exclude_subjects = [\n",
    "    \"qd_knee_01\",\n",
    "    \"qd_knee_02\"\n",
    "]"
   ]
  },
  {
   "cell_type": "code",
   "execution_count": 18,
   "id": "6b6f2cbf-1515-4b1a-8438-5ad219855d5c",
   "metadata": {
    "tags": []
   },
   "outputs": [],
   "source": [
    "dry_run = False\n",
    "force = False\n",
    "weights = (0., 1.) # (fluo, reflectance)\n",
    "# weights = None\n",
    "max_hours = 72\n",
    "bpass = None\n",
    "batch_size = 2500\n",
    "bground_path = \"_bground\""
   ]
  },
  {
   "cell_type": "code",
   "execution_count": 19,
   "id": "1af801da-b5c2-4acf-9b3d-fccfc398c2ad",
   "metadata": {
    "tags": []
   },
   "outputs": [],
   "source": [
    "# get some essentials\n",
    "reader = vid.io.AutoReader(avis[0])"
   ]
  },
  {
   "cell_type": "code",
   "execution_count": 20,
   "id": "6bb9cac5-b5a8-454b-9376-d0d05d10d8d9",
   "metadata": {
    "tags": []
   },
   "outputs": [],
   "source": [
    "writer_kwargs = {\"frame_size\": reader.frame_size,\n",
    "                 \"dtype\": reader.dtype,\n",
    "                 \"fps\": reader.fps,\n",
    "                 \"pixel_format\": reader.pixel_format}"
   ]
  },
  {
   "cell_type": "code",
   "execution_count": 21,
   "id": "6ecceb4f-fbe2-479c-9f81-d26281ab7381",
   "metadata": {
    "tags": []
   },
   "outputs": [],
   "source": [
    "reader.close()"
   ]
  },
  {
   "cell_type": "code",
   "execution_count": 25,
   "id": "585f9654-dce8-4bcf-8439-df289549b304",
   "metadata": {
    "tags": []
   },
   "outputs": [],
   "source": [
    "# export_dir = os.path.join(f\"/mnt/data/jmarkow/active_projects/keypoints_basler_nir_plexiglass_arena/keypoint_inference_export_fused_weights-{weights}_bpass-{bpass}/\")\n",
    "export_dir = os.path.join(f\"/storage/home/hcoda1/4/jmarkowitz30/shared_folder/active_lab_members/markowitz_jeffrey/active_projects/keypoints_basler_nir_plexiglass_arena/keypoint_inference_kneejoints_export_fused_weights-{weights}_bpass-{bpass}/\")"
   ]
  },
  {
   "cell_type": "code",
   "execution_count": 26,
   "id": "bd5b8dc6-9a85-4670-ad49-cf836b8d10d4",
   "metadata": {
    "tags": []
   },
   "outputs": [
    {
     "data": {
      "text/plain": [
       "False"
      ]
     },
     "execution_count": 26,
     "metadata": {},
     "output_type": "execute_result"
    }
   ],
   "source": [
    "os.path.exists(export_dir)"
   ]
  },
  {
   "cell_type": "code",
   "execution_count": 27,
   "id": "0e797cf0-ac2a-4dbe-81c5-14a12c520616",
   "metadata": {
    "tags": []
   },
   "outputs": [],
   "source": [
    "os.makedirs(export_dir, exist_ok=True)"
   ]
  },
  {
   "cell_type": "code",
   "execution_count": 28,
   "id": "25863088-5a5f-4d97-bd8a-8acc2f214d40",
   "metadata": {
    "tags": []
   },
   "outputs": [],
   "source": [
    "import warnings"
   ]
  },
  {
   "cell_type": "code",
   "execution_count": 29,
   "id": "066d44ec-713d-4042-aa76-4a6d5cd31d0d",
   "metadata": {
    "tags": []
   },
   "outputs": [
    {
     "data": {
      "application/vnd.jupyter.widget-view+json": {
       "model_id": "983df084192b484d950279d13f7077f9",
       "version_major": 2,
       "version_minor": 0
      },
      "text/plain": [
       "  0%|          | 0/60 [00:00<?, ?it/s]"
      ]
     },
     "metadata": {},
     "output_type": "display_data"
    },
    {
     "name": "stderr",
     "output_type": "stream",
     "text": [
      "/tmp/ipykernel_3099460/1498407631.py:22: UserWarning: Skip path /storage/home/hcoda1/4/jmarkowitz30/shared_folder/active_lab_members/markowitz_jeffrey/active_projects/quantum_dots/timecourse_02_joints/session_20240807184314-983785 (system76-pc)/_proc/Basler-267601741000-24383488-reflectance.avi\n",
      "  warnings.warn(f\"Skip path {_avi}\")\n",
      "/tmp/ipykernel_3099460/1498407631.py:22: UserWarning: Skip path /storage/home/hcoda1/4/jmarkowitz30/shared_folder/active_lab_members/markowitz_jeffrey/active_projects/quantum_dots/timecourse_02_joints/session_20240807184314-983785 (system76-pc)/_proc/Basler-267601746219-24404505-reflectance.avi\n",
      "  warnings.warn(f\"Skip path {_avi}\")\n",
      "/tmp/ipykernel_3099460/1498407631.py:22: UserWarning: Skip path /storage/home/hcoda1/4/jmarkowitz30/shared_folder/active_lab_members/markowitz_jeffrey/active_projects/quantum_dots/timecourse_02_joints/session_20240807184314-983785 (system76-pc)/_proc/Basler-267601746223-24404515-reflectance.avi\n",
      "  warnings.warn(f\"Skip path {_avi}\")\n",
      "/tmp/ipykernel_3099460/1498407631.py:22: UserWarning: Skip path /storage/home/hcoda1/4/jmarkowitz30/shared_folder/active_lab_members/markowitz_jeffrey/active_projects/quantum_dots/timecourse_02_joints/session_20240807184314-983785 (system76-pc)/_proc/Basler-26760175421F-24461855-reflectance.avi\n",
      "  warnings.warn(f\"Skip path {_avi}\")\n",
      "/tmp/ipykernel_3099460/1498407631.py:22: UserWarning: Skip path /storage/home/hcoda1/4/jmarkowitz30/shared_folder/active_lab_members/markowitz_jeffrey/active_projects/quantum_dots/timecourse_02_joints/session_20240807184314-983785 (system76-pc)/_proc/Basler-2676017611A4-24514980-reflectance.avi\n",
      "  warnings.warn(f\"Skip path {_avi}\")\n",
      "/tmp/ipykernel_3099460/1498407631.py:22: UserWarning: Skip path /storage/home/hcoda1/4/jmarkowitz30/shared_folder/active_lab_members/markowitz_jeffrey/active_projects/quantum_dots/timecourse_02_joints/session_20240807185011-686647 (system76-pc)/_proc/Basler-267601741000-24383488-reflectance.avi\n",
      "  warnings.warn(f\"Skip path {_avi}\")\n",
      "/tmp/ipykernel_3099460/1498407631.py:22: UserWarning: Skip path /storage/home/hcoda1/4/jmarkowitz30/shared_folder/active_lab_members/markowitz_jeffrey/active_projects/quantum_dots/timecourse_02_joints/session_20240807185011-686647 (system76-pc)/_proc/Basler-267601746219-24404505-reflectance.avi\n",
      "  warnings.warn(f\"Skip path {_avi}\")\n",
      "/tmp/ipykernel_3099460/1498407631.py:22: UserWarning: Skip path /storage/home/hcoda1/4/jmarkowitz30/shared_folder/active_lab_members/markowitz_jeffrey/active_projects/quantum_dots/timecourse_02_joints/session_20240807185011-686647 (system76-pc)/_proc/Basler-267601746223-24404515-reflectance.avi\n",
      "  warnings.warn(f\"Skip path {_avi}\")\n",
      "/tmp/ipykernel_3099460/1498407631.py:22: UserWarning: Skip path /storage/home/hcoda1/4/jmarkowitz30/shared_folder/active_lab_members/markowitz_jeffrey/active_projects/quantum_dots/timecourse_02_joints/session_20240807185011-686647 (system76-pc)/_proc/Basler-26760175421F-24461855-reflectance.avi\n",
      "  warnings.warn(f\"Skip path {_avi}\")\n",
      "/tmp/ipykernel_3099460/1498407631.py:22: UserWarning: Skip path /storage/home/hcoda1/4/jmarkowitz30/shared_folder/active_lab_members/markowitz_jeffrey/active_projects/quantum_dots/timecourse_02_joints/session_20240807185011-686647 (system76-pc)/_proc/Basler-2676017611A4-24514980-reflectance.avi\n",
      "  warnings.warn(f\"Skip path {_avi}\")\n",
      "/tmp/ipykernel_3099460/1498407631.py:22: UserWarning: Skip path /storage/home/hcoda1/4/jmarkowitz30/shared_folder/active_lab_members/markowitz_jeffrey/active_projects/quantum_dots/timecourse_02_joints/session_20240808145054-349286 (system76-pc)/_proc/Basler-267601741000-24383488-reflectance.avi\n",
      "  warnings.warn(f\"Skip path {_avi}\")\n",
      "/tmp/ipykernel_3099460/1498407631.py:22: UserWarning: Skip path /storage/home/hcoda1/4/jmarkowitz30/shared_folder/active_lab_members/markowitz_jeffrey/active_projects/quantum_dots/timecourse_02_joints/session_20240808145054-349286 (system76-pc)/_proc/Basler-267601746219-24404505-reflectance.avi\n",
      "  warnings.warn(f\"Skip path {_avi}\")\n",
      "/tmp/ipykernel_3099460/1498407631.py:22: UserWarning: Skip path /storage/home/hcoda1/4/jmarkowitz30/shared_folder/active_lab_members/markowitz_jeffrey/active_projects/quantum_dots/timecourse_02_joints/session_20240808145054-349286 (system76-pc)/_proc/Basler-267601746223-24404515-reflectance.avi\n",
      "  warnings.warn(f\"Skip path {_avi}\")\n",
      "/tmp/ipykernel_3099460/1498407631.py:22: UserWarning: Skip path /storage/home/hcoda1/4/jmarkowitz30/shared_folder/active_lab_members/markowitz_jeffrey/active_projects/quantum_dots/timecourse_02_joints/session_20240808145054-349286 (system76-pc)/_proc/Basler-26760175421F-24461855-reflectance.avi\n",
      "  warnings.warn(f\"Skip path {_avi}\")\n",
      "/tmp/ipykernel_3099460/1498407631.py:22: UserWarning: Skip path /storage/home/hcoda1/4/jmarkowitz30/shared_folder/active_lab_members/markowitz_jeffrey/active_projects/quantum_dots/timecourse_02_joints/session_20240808145054-349286 (system76-pc)/_proc/Basler-2676017611A4-24514980-reflectance.avi\n",
      "  warnings.warn(f\"Skip path {_avi}\")\n",
      "/tmp/ipykernel_3099460/1498407631.py:22: UserWarning: Skip path /storage/home/hcoda1/4/jmarkowitz30/shared_folder/active_lab_members/markowitz_jeffrey/active_projects/quantum_dots/timecourse_02_joints/session_20240808145841-469241 (system76-pc)/_proc/Basler-267601741000-24383488-reflectance.avi\n",
      "  warnings.warn(f\"Skip path {_avi}\")\n",
      "/tmp/ipykernel_3099460/1498407631.py:22: UserWarning: Skip path /storage/home/hcoda1/4/jmarkowitz30/shared_folder/active_lab_members/markowitz_jeffrey/active_projects/quantum_dots/timecourse_02_joints/session_20240808145841-469241 (system76-pc)/_proc/Basler-267601746219-24404505-reflectance.avi\n",
      "  warnings.warn(f\"Skip path {_avi}\")\n",
      "/tmp/ipykernel_3099460/1498407631.py:22: UserWarning: Skip path /storage/home/hcoda1/4/jmarkowitz30/shared_folder/active_lab_members/markowitz_jeffrey/active_projects/quantum_dots/timecourse_02_joints/session_20240808145841-469241 (system76-pc)/_proc/Basler-267601746223-24404515-reflectance.avi\n",
      "  warnings.warn(f\"Skip path {_avi}\")\n",
      "/tmp/ipykernel_3099460/1498407631.py:22: UserWarning: Skip path /storage/home/hcoda1/4/jmarkowitz30/shared_folder/active_lab_members/markowitz_jeffrey/active_projects/quantum_dots/timecourse_02_joints/session_20240808145841-469241 (system76-pc)/_proc/Basler-26760175421F-24461855-reflectance.avi\n",
      "  warnings.warn(f\"Skip path {_avi}\")\n",
      "/tmp/ipykernel_3099460/1498407631.py:22: UserWarning: Skip path /storage/home/hcoda1/4/jmarkowitz30/shared_folder/active_lab_members/markowitz_jeffrey/active_projects/quantum_dots/timecourse_02_joints/session_20240808145841-469241 (system76-pc)/_proc/Basler-2676017611A4-24514980-reflectance.avi\n",
      "  warnings.warn(f\"Skip path {_avi}\")\n",
      "/tmp/ipykernel_3099460/1498407631.py:22: UserWarning: Skip path /storage/home/hcoda1/4/jmarkowitz30/shared_folder/active_lab_members/markowitz_jeffrey/active_projects/quantum_dots/timecourse_02_joints/session_20240809144859-341520 (system76-pc)/_proc/Basler-267601741000-24383488-reflectance.avi\n",
      "  warnings.warn(f\"Skip path {_avi}\")\n",
      "/tmp/ipykernel_3099460/1498407631.py:22: UserWarning: Skip path /storage/home/hcoda1/4/jmarkowitz30/shared_folder/active_lab_members/markowitz_jeffrey/active_projects/quantum_dots/timecourse_02_joints/session_20240809144859-341520 (system76-pc)/_proc/Basler-267601746219-24404505-reflectance.avi\n",
      "  warnings.warn(f\"Skip path {_avi}\")\n",
      "/tmp/ipykernel_3099460/1498407631.py:22: UserWarning: Skip path /storage/home/hcoda1/4/jmarkowitz30/shared_folder/active_lab_members/markowitz_jeffrey/active_projects/quantum_dots/timecourse_02_joints/session_20240809144859-341520 (system76-pc)/_proc/Basler-267601746223-24404515-reflectance.avi\n",
      "  warnings.warn(f\"Skip path {_avi}\")\n",
      "/tmp/ipykernel_3099460/1498407631.py:22: UserWarning: Skip path /storage/home/hcoda1/4/jmarkowitz30/shared_folder/active_lab_members/markowitz_jeffrey/active_projects/quantum_dots/timecourse_02_joints/session_20240809144859-341520 (system76-pc)/_proc/Basler-26760175421F-24461855-reflectance.avi\n",
      "  warnings.warn(f\"Skip path {_avi}\")\n",
      "/tmp/ipykernel_3099460/1498407631.py:22: UserWarning: Skip path /storage/home/hcoda1/4/jmarkowitz30/shared_folder/active_lab_members/markowitz_jeffrey/active_projects/quantum_dots/timecourse_02_joints/session_20240809144859-341520 (system76-pc)/_proc/Basler-2676017611A4-24514980-reflectance.avi\n",
      "  warnings.warn(f\"Skip path {_avi}\")\n",
      "/tmp/ipykernel_3099460/1498407631.py:22: UserWarning: Skip path /storage/home/hcoda1/4/jmarkowitz30/shared_folder/active_lab_members/markowitz_jeffrey/active_projects/quantum_dots/timecourse_02_joints/session_20240809145611-336329 (system76-pc)/_proc/Basler-267601741000-24383488-reflectance.avi\n",
      "  warnings.warn(f\"Skip path {_avi}\")\n",
      "/tmp/ipykernel_3099460/1498407631.py:22: UserWarning: Skip path /storage/home/hcoda1/4/jmarkowitz30/shared_folder/active_lab_members/markowitz_jeffrey/active_projects/quantum_dots/timecourse_02_joints/session_20240809145611-336329 (system76-pc)/_proc/Basler-267601746219-24404505-reflectance.avi\n",
      "  warnings.warn(f\"Skip path {_avi}\")\n",
      "/tmp/ipykernel_3099460/1498407631.py:22: UserWarning: Skip path /storage/home/hcoda1/4/jmarkowitz30/shared_folder/active_lab_members/markowitz_jeffrey/active_projects/quantum_dots/timecourse_02_joints/session_20240809145611-336329 (system76-pc)/_proc/Basler-267601746223-24404515-reflectance.avi\n",
      "  warnings.warn(f\"Skip path {_avi}\")\n",
      "/tmp/ipykernel_3099460/1498407631.py:22: UserWarning: Skip path /storage/home/hcoda1/4/jmarkowitz30/shared_folder/active_lab_members/markowitz_jeffrey/active_projects/quantum_dots/timecourse_02_joints/session_20240809145611-336329 (system76-pc)/_proc/Basler-26760175421F-24461855-reflectance.avi\n",
      "  warnings.warn(f\"Skip path {_avi}\")\n",
      "/tmp/ipykernel_3099460/1498407631.py:22: UserWarning: Skip path /storage/home/hcoda1/4/jmarkowitz30/shared_folder/active_lab_members/markowitz_jeffrey/active_projects/quantum_dots/timecourse_02_joints/session_20240809145611-336329 (system76-pc)/_proc/Basler-2676017611A4-24514980-reflectance.avi\n",
      "  warnings.warn(f\"Skip path {_avi}\")\n",
      "/tmp/ipykernel_3099460/1498407631.py:22: UserWarning: Skip path /storage/home/hcoda1/4/jmarkowitz30/shared_folder/active_lab_members/markowitz_jeffrey/active_projects/quantum_dots/timecourse_02_joints/session_20240812134609-589220 (system76-pc)/_proc/Basler-267601741000-24383488-reflectance.avi\n",
      "  warnings.warn(f\"Skip path {_avi}\")\n",
      "/tmp/ipykernel_3099460/1498407631.py:22: UserWarning: Skip path /storage/home/hcoda1/4/jmarkowitz30/shared_folder/active_lab_members/markowitz_jeffrey/active_projects/quantum_dots/timecourse_02_joints/session_20240812134609-589220 (system76-pc)/_proc/Basler-267601746219-24404505-reflectance.avi\n",
      "  warnings.warn(f\"Skip path {_avi}\")\n",
      "/tmp/ipykernel_3099460/1498407631.py:22: UserWarning: Skip path /storage/home/hcoda1/4/jmarkowitz30/shared_folder/active_lab_members/markowitz_jeffrey/active_projects/quantum_dots/timecourse_02_joints/session_20240812134609-589220 (system76-pc)/_proc/Basler-267601746223-24404515-reflectance.avi\n",
      "  warnings.warn(f\"Skip path {_avi}\")\n",
      "/tmp/ipykernel_3099460/1498407631.py:22: UserWarning: Skip path /storage/home/hcoda1/4/jmarkowitz30/shared_folder/active_lab_members/markowitz_jeffrey/active_projects/quantum_dots/timecourse_02_joints/session_20240812134609-589220 (system76-pc)/_proc/Basler-26760175421F-24461855-reflectance.avi\n",
      "  warnings.warn(f\"Skip path {_avi}\")\n",
      "/tmp/ipykernel_3099460/1498407631.py:22: UserWarning: Skip path /storage/home/hcoda1/4/jmarkowitz30/shared_folder/active_lab_members/markowitz_jeffrey/active_projects/quantum_dots/timecourse_02_joints/session_20240812134609-589220 (system76-pc)/_proc/Basler-2676017611A4-24514980-reflectance.avi\n",
      "  warnings.warn(f\"Skip path {_avi}\")\n",
      "/tmp/ipykernel_3099460/1498407631.py:22: UserWarning: Skip path /storage/home/hcoda1/4/jmarkowitz30/shared_folder/active_lab_members/markowitz_jeffrey/active_projects/quantum_dots/timecourse_02_joints/session_20240812135508-603927 (system76-pc)/_proc/Basler-267601741000-24383488-reflectance.avi\n",
      "  warnings.warn(f\"Skip path {_avi}\")\n",
      "/tmp/ipykernel_3099460/1498407631.py:22: UserWarning: Skip path /storage/home/hcoda1/4/jmarkowitz30/shared_folder/active_lab_members/markowitz_jeffrey/active_projects/quantum_dots/timecourse_02_joints/session_20240812135508-603927 (system76-pc)/_proc/Basler-267601746219-24404505-reflectance.avi\n",
      "  warnings.warn(f\"Skip path {_avi}\")\n",
      "/tmp/ipykernel_3099460/1498407631.py:22: UserWarning: Skip path /storage/home/hcoda1/4/jmarkowitz30/shared_folder/active_lab_members/markowitz_jeffrey/active_projects/quantum_dots/timecourse_02_joints/session_20240812135508-603927 (system76-pc)/_proc/Basler-267601746223-24404515-reflectance.avi\n",
      "  warnings.warn(f\"Skip path {_avi}\")\n",
      "/tmp/ipykernel_3099460/1498407631.py:22: UserWarning: Skip path /storage/home/hcoda1/4/jmarkowitz30/shared_folder/active_lab_members/markowitz_jeffrey/active_projects/quantum_dots/timecourse_02_joints/session_20240812135508-603927 (system76-pc)/_proc/Basler-26760175421F-24461855-reflectance.avi\n",
      "  warnings.warn(f\"Skip path {_avi}\")\n",
      "/tmp/ipykernel_3099460/1498407631.py:22: UserWarning: Skip path /storage/home/hcoda1/4/jmarkowitz30/shared_folder/active_lab_members/markowitz_jeffrey/active_projects/quantum_dots/timecourse_02_joints/session_20240812135508-603927 (system76-pc)/_proc/Basler-2676017611A4-24514980-reflectance.avi\n",
      "  warnings.warn(f\"Skip path {_avi}\")\n"
     ]
    }
   ],
   "source": [
    "proc_avis = []\n",
    "for _avi in tqdm(avis):\n",
    "    \n",
    "    skip = False\n",
    "    \n",
    "    for _exclude in exclude_paths:\n",
    "        if _exclude in _avi:\n",
    "            skip = True\n",
    "\n",
    "        \n",
    "    metadata = toml.load(os.path.join(os.path.dirname(_avi), \"../metadata.toml\"))\n",
    "    \n",
    "    user_metadata = metadata[\"user_input\"]\n",
    "    subject_name = user_metadata[\"subject\"]\n",
    "    session_name = user_metadata[\"session\"]\n",
    "    notes = user_metadata[\"notes\"]\n",
    "\n",
    "    if subject_name.lower() in exclude_subjects:\n",
    "        skip = True\n",
    "\n",
    "    if skip:\n",
    "        warnings.warn(f\"Skip path {_avi}\")\n",
    "        continue\n",
    "    \n",
    "    try:\n",
    "        hours = int(re.match(r\"\\+(\\d+)h\", notes).groups(0)[0])\n",
    "    except AttributeError:\n",
    "        continue\n",
    "\n",
    "    if (hours > max_hours):\n",
    "        continue\n",
    "    else:\n",
    "        proc_avis.append(_avi)"
   ]
  },
  {
   "cell_type": "code",
   "execution_count": 30,
   "id": "062b42e6-388f-422d-8f1e-376d574114af",
   "metadata": {
    "tags": []
   },
   "outputs": [
    {
     "data": {
      "text/plain": [
       "['/storage/home/hcoda1/4/jmarkowitz30/shared_folder/active_lab_members/markowitz_jeffrey/active_projects/quantum_dots/timecourse_02_joints/session_20240807185653-046788 (system76-pc)/_proc/Basler-267601741000-24383488-reflectance.avi',\n",
       " '/storage/home/hcoda1/4/jmarkowitz30/shared_folder/active_lab_members/markowitz_jeffrey/active_projects/quantum_dots/timecourse_02_joints/session_20240807185653-046788 (system76-pc)/_proc/Basler-267601746219-24404505-reflectance.avi',\n",
       " '/storage/home/hcoda1/4/jmarkowitz30/shared_folder/active_lab_members/markowitz_jeffrey/active_projects/quantum_dots/timecourse_02_joints/session_20240807185653-046788 (system76-pc)/_proc/Basler-267601746223-24404515-reflectance.avi',\n",
       " '/storage/home/hcoda1/4/jmarkowitz30/shared_folder/active_lab_members/markowitz_jeffrey/active_projects/quantum_dots/timecourse_02_joints/session_20240807185653-046788 (system76-pc)/_proc/Basler-26760175421F-24461855-reflectance.avi',\n",
       " '/storage/home/hcoda1/4/jmarkowitz30/shared_folder/active_lab_members/markowitz_jeffrey/active_projects/quantum_dots/timecourse_02_joints/session_20240807185653-046788 (system76-pc)/_proc/Basler-2676017611A4-24514980-reflectance.avi',\n",
       " '/storage/home/hcoda1/4/jmarkowitz30/shared_folder/active_lab_members/markowitz_jeffrey/active_projects/quantum_dots/timecourse_02_joints/session_20240808150531-629291 (system76-pc)/_proc/Basler-267601741000-24383488-reflectance.avi',\n",
       " '/storage/home/hcoda1/4/jmarkowitz30/shared_folder/active_lab_members/markowitz_jeffrey/active_projects/quantum_dots/timecourse_02_joints/session_20240808150531-629291 (system76-pc)/_proc/Basler-267601746219-24404505-reflectance.avi',\n",
       " '/storage/home/hcoda1/4/jmarkowitz30/shared_folder/active_lab_members/markowitz_jeffrey/active_projects/quantum_dots/timecourse_02_joints/session_20240808150531-629291 (system76-pc)/_proc/Basler-267601746223-24404515-reflectance.avi',\n",
       " '/storage/home/hcoda1/4/jmarkowitz30/shared_folder/active_lab_members/markowitz_jeffrey/active_projects/quantum_dots/timecourse_02_joints/session_20240808150531-629291 (system76-pc)/_proc/Basler-26760175421F-24461855-reflectance.avi',\n",
       " '/storage/home/hcoda1/4/jmarkowitz30/shared_folder/active_lab_members/markowitz_jeffrey/active_projects/quantum_dots/timecourse_02_joints/session_20240808150531-629291 (system76-pc)/_proc/Basler-2676017611A4-24514980-reflectance.avi',\n",
       " '/storage/home/hcoda1/4/jmarkowitz30/shared_folder/active_lab_members/markowitz_jeffrey/active_projects/quantum_dots/timecourse_02_joints/session_20240809150224-571873 (system76-pc)/_proc/Basler-267601741000-24383488-reflectance.avi',\n",
       " '/storage/home/hcoda1/4/jmarkowitz30/shared_folder/active_lab_members/markowitz_jeffrey/active_projects/quantum_dots/timecourse_02_joints/session_20240809150224-571873 (system76-pc)/_proc/Basler-267601746219-24404505-reflectance.avi',\n",
       " '/storage/home/hcoda1/4/jmarkowitz30/shared_folder/active_lab_members/markowitz_jeffrey/active_projects/quantum_dots/timecourse_02_joints/session_20240809150224-571873 (system76-pc)/_proc/Basler-267601746223-24404515-reflectance.avi',\n",
       " '/storage/home/hcoda1/4/jmarkowitz30/shared_folder/active_lab_members/markowitz_jeffrey/active_projects/quantum_dots/timecourse_02_joints/session_20240809150224-571873 (system76-pc)/_proc/Basler-26760175421F-24461855-reflectance.avi',\n",
       " '/storage/home/hcoda1/4/jmarkowitz30/shared_folder/active_lab_members/markowitz_jeffrey/active_projects/quantum_dots/timecourse_02_joints/session_20240809150224-571873 (system76-pc)/_proc/Basler-2676017611A4-24514980-reflectance.avi']"
      ]
     },
     "execution_count": 30,
     "metadata": {},
     "output_type": "execute_result"
    }
   ],
   "source": [
    "proc_avis"
   ]
  },
  {
   "cell_type": "code",
   "execution_count": 31,
   "id": "cda8fb20-3997-42de-9a93-34c067c96aad",
   "metadata": {
    "tags": []
   },
   "outputs": [
    {
     "data": {
      "application/vnd.jupyter.widget-view+json": {
       "model_id": "7183c76ceff347d8a8fc1cc10417b62e",
       "version_major": 2,
       "version_minor": 0
      },
      "text/plain": [
       "  0%|          | 0/15 [00:00<?, ?it/s]"
      ]
     },
     "metadata": {},
     "output_type": "display_data"
    },
    {
     "data": {
      "application/vnd.jupyter.widget-view+json": {
       "model_id": "cf14aaa2b31a491aa548f947672daa68",
       "version_major": 2,
       "version_minor": 0
      },
      "text/plain": [
       "  0%|          | 0/4 [00:00<?, ?it/s]"
      ]
     },
     "metadata": {},
     "output_type": "display_data"
    },
    {
     "data": {
      "application/vnd.jupyter.widget-view+json": {
       "model_id": "ec53c75e0ae14d2fb25a60b804920d46",
       "version_major": 2,
       "version_minor": 0
      },
      "text/plain": [
       "  0%|          | 0/4 [00:00<?, ?it/s]"
      ]
     },
     "metadata": {},
     "output_type": "display_data"
    },
    {
     "data": {
      "application/vnd.jupyter.widget-view+json": {
       "model_id": "a77f84e3a2c444349c21aba3df28240b",
       "version_major": 2,
       "version_minor": 0
      },
      "text/plain": [
       "  0%|          | 0/4 [00:00<?, ?it/s]"
      ]
     },
     "metadata": {},
     "output_type": "display_data"
    },
    {
     "data": {
      "application/vnd.jupyter.widget-view+json": {
       "model_id": "711b082f0b244d59b514ef527e90efb6",
       "version_major": 2,
       "version_minor": 0
      },
      "text/plain": [
       "  0%|          | 0/4 [00:00<?, ?it/s]"
      ]
     },
     "metadata": {},
     "output_type": "display_data"
    },
    {
     "data": {
      "application/vnd.jupyter.widget-view+json": {
       "model_id": "d1bad3bb8622493d9defa47cdb6b5e92",
       "version_major": 2,
       "version_minor": 0
      },
      "text/plain": [
       "  0%|          | 0/4 [00:00<?, ?it/s]"
      ]
     },
     "metadata": {},
     "output_type": "display_data"
    },
    {
     "data": {
      "application/vnd.jupyter.widget-view+json": {
       "model_id": "47c48f1864494ce3825874c3fbc8adfc",
       "version_major": 2,
       "version_minor": 0
      },
      "text/plain": [
       "  0%|          | 0/4 [00:00<?, ?it/s]"
      ]
     },
     "metadata": {},
     "output_type": "display_data"
    },
    {
     "data": {
      "application/vnd.jupyter.widget-view+json": {
       "model_id": "419f165f920b4e1d948dc434317b2b35",
       "version_major": 2,
       "version_minor": 0
      },
      "text/plain": [
       "  0%|          | 0/4 [00:00<?, ?it/s]"
      ]
     },
     "metadata": {},
     "output_type": "display_data"
    },
    {
     "data": {
      "application/vnd.jupyter.widget-view+json": {
       "model_id": "3be67ae853ca43e48b195bc3b638747b",
       "version_major": 2,
       "version_minor": 0
      },
      "text/plain": [
       "  0%|          | 0/4 [00:00<?, ?it/s]"
      ]
     },
     "metadata": {},
     "output_type": "display_data"
    },
    {
     "data": {
      "application/vnd.jupyter.widget-view+json": {
       "model_id": "1324069773904a2198f61d1aaa4f8118",
       "version_major": 2,
       "version_minor": 0
      },
      "text/plain": [
       "  0%|          | 0/4 [00:00<?, ?it/s]"
      ]
     },
     "metadata": {},
     "output_type": "display_data"
    },
    {
     "data": {
      "application/vnd.jupyter.widget-view+json": {
       "model_id": "dcb722a77e564b80ba182772c1c37f11",
       "version_major": 2,
       "version_minor": 0
      },
      "text/plain": [
       "  0%|          | 0/4 [00:00<?, ?it/s]"
      ]
     },
     "metadata": {},
     "output_type": "display_data"
    },
    {
     "data": {
      "application/vnd.jupyter.widget-view+json": {
       "model_id": "12232907c9c747888005fcc4f6d9cc8f",
       "version_major": 2,
       "version_minor": 0
      },
      "text/plain": [
       "  0%|          | 0/4 [00:00<?, ?it/s]"
      ]
     },
     "metadata": {},
     "output_type": "display_data"
    },
    {
     "data": {
      "application/vnd.jupyter.widget-view+json": {
       "model_id": "64179d2e600641acb23f523b4cf2e0d5",
       "version_major": 2,
       "version_minor": 0
      },
      "text/plain": [
       "  0%|          | 0/4 [00:00<?, ?it/s]"
      ]
     },
     "metadata": {},
     "output_type": "display_data"
    },
    {
     "data": {
      "application/vnd.jupyter.widget-view+json": {
       "model_id": "aa6f6a3d766849309936d4050decd874",
       "version_major": 2,
       "version_minor": 0
      },
      "text/plain": [
       "  0%|          | 0/4 [00:00<?, ?it/s]"
      ]
     },
     "metadata": {},
     "output_type": "display_data"
    },
    {
     "data": {
      "application/vnd.jupyter.widget-view+json": {
       "model_id": "7c6d4ebb9209485ebec55d5db436973b",
       "version_major": 2,
       "version_minor": 0
      },
      "text/plain": [
       "  0%|          | 0/4 [00:00<?, ?it/s]"
      ]
     },
     "metadata": {},
     "output_type": "display_data"
    },
    {
     "data": {
      "application/vnd.jupyter.widget-view+json": {
       "model_id": "493315f113194b8bb9fe451744e16f06",
       "version_major": 2,
       "version_minor": 0
      },
      "text/plain": [
       "  0%|          | 0/4 [00:00<?, ?it/s]"
      ]
     },
     "metadata": {},
     "output_type": "display_data"
    }
   ],
   "source": [
    "for _avi in tqdm(proc_avis):\n",
    "        \n",
    "    dirname = os.path.dirname(_avi)\n",
    "    fileparts = os.path.normpath(_avi).split(os.path.sep)\n",
    "    fname = os.path.splitext(fileparts[-1])[0]\n",
    "    session_date = list(filter(r.match, fileparts))[0]\n",
    "    \n",
    "    cam_name = os.path.splitext(os.path.basename(_avi))[0].split(\"-reflectance\")[0] \n",
    "    metadata = toml.load(os.path.join(os.path.dirname(_avi), \"../metadata.toml\"))\n",
    "    \n",
    "    user_metadata = metadata[\"user_input\"]\n",
    "    subject_name = user_metadata[\"subject\"]\n",
    "    session_name = user_metadata[\"session\"]\n",
    "    notes = user_metadata[\"notes\"]\n",
    "    \n",
    "    export_fname = f\"{subject_name}_{session_name}-{notes}_{session_date}_camera-{cam_name}.avi\"\n",
    "    export_metadata_fname = f\"{subject_name}_{session_name}-{notes}_{session_date}_camera-{cam_name}.toml\"\n",
    "    export_metadata = {\"export_metadata\": {\"cam\": cam_name, \"session\": session_name, \"file\": _avi}} \n",
    "    export_metadata[\"export_metadata\"][\"original_metadata\"] = metadata\n",
    "    # use_export_dir = os.path.join(export_dir, cam_name)\n",
    "    save_path = os.path.join(export_dir, export_fname)\n",
    "    \n",
    "    \n",
    "    os.makedirs(export_dir, exist_ok=True)\n",
    "    writer_kwargs[\"pixel_format\"] = \"bgr24\" if weights is None else \"gray\"\n",
    "    \n",
    "    if not dry_run:\n",
    "\n",
    "        fluo_fname = _avi.replace(\"-reflectance.avi\",\"-fluorescence.avi\")\n",
    "        reflect_reader = vid.io.AutoReader(_avi)\n",
    "        fluo_reader = vid.io.AutoReader(fluo_fname)\n",
    "\n",
    "        if os.path.exists(save_path) and not force:\n",
    "            export_reader = vid.io.AutoReader(save_path)\n",
    "            if reflect_reader.nframes == export_reader.nframes:\n",
    "                # if we finished the job continue\n",
    "                warnings.warn(f\"Frames equal between {_avi} and {save_path}, skipping...\")\n",
    "                continue\n",
    "            else: \n",
    "                warnings.warn(f\"Frames unequal between {_avi} and {save_path}\")\n",
    "                pass\n",
    "\n",
    "        writer = vid.io.AviWriter(save_path, **writer_kwargs)\n",
    "        \n",
    "    \n",
    "        bground_fname = os.path.splitext(os.path.basename(fluo_fname))[0]\n",
    "        use_bground_path = os.path.join(dirname, bground_path, f\"{bground_fname}.hdf5\")\n",
    "        nframes = reflect_reader.nframes\n",
    "        \n",
    "        for _batch in tqdm(range(0, nframes, batch_size), total=int(np.ceil(nframes / batch_size))):\n",
    "            \n",
    "            use_frames = range(_batch, _batch + batch_size)\n",
    "            reflect_frames = reflect_reader.get_frames(use_frames)\n",
    "\n",
    "            # only load if we're using fluo\n",
    "            if (weights is None) or (weights[1] != 1):\n",
    "                fluo_frames = fluo_reader.get_frames(use_frames).copy()\n",
    "                \n",
    "                with h5py.File(use_bground_path, \"r\") as f:\n",
    "                    rolling_bgrounds = f[\"bground\"][()]\n",
    "                    idxs = f[\"frame_idxs\"][()]\n",
    "            \n",
    "                for i, (_idx, _frame) in enumerate(zip(use_frames, fluo_frames)):\n",
    "                    use_bground = np.argmin(np.abs(idxs - _idx))\n",
    "                    fluo_frames[i] = np.clip(_frame - rolling_bgrounds[use_bground], 0, 255).astype(\"uint8\")\n",
    "            else:\n",
    "                # print(\"Skipping\")\n",
    "                fluo_frames = np.zeros_like(reflect_frames) # not used, just a dummy for iteration\n",
    "\n",
    "\n",
    "            if weights is not None:\n",
    "                write_frames = np.zeros_like(reflect_frames)\n",
    "            else:\n",
    "                write_frames = np.zeros(\n",
    "                    (reflect_frames.shape[0],\n",
    "                     reflect_frames.shape[1],\n",
    "                     reflect_frames.shape[2],\n",
    "                     3),\n",
    "                    dtype=\"uint8\")\n",
    "            \n",
    "            for i, (_reflect, _fluo) in enumerate(zip(reflect_frames, fluo_frames)):    \n",
    "                if bpass is not None:\n",
    "                    proc_fluo = bp_filter(_fluo.astype(\"float32\"), *bpass)\n",
    "                else:\n",
    "                    proc_fluo = _fluo.astype(\"float32\")\n",
    "                proc_fluo[proc_fluo<=0] = 0\n",
    "\n",
    "                if weights is not None:\n",
    "                    if weights[1] == 1:\n",
    "                        new_im = _reflect.astype(\"uint8\") # skip normalization if we're not combining\n",
    "                    elif weights[0] == 1:\n",
    "                        new_im = proc_fluo.astype(\"uint8\") # skip normalization if we're not combining\n",
    "                    else:\n",
    "                        new_im = weights[0] * proc_fluo + weights[1] * _reflect\n",
    "                        new_im = (new_im - new_im.min()) / (new_im.max() - new_im.min())\n",
    "                        new_im *= 255\n",
    "                        new_im = new_im.astype(\"uint8\")\n",
    "                    write_frames[i] = new_im\n",
    "                else:\n",
    "                    write_frames[i][...,0] = proc_fluo.astype(\"uint8\")\n",
    "                    write_frames[i][...,1] = _reflect.astype(\"uint8\")\n",
    "                    write_frames[i][...,2] = _reflect.astype(\"uint8\")\n",
    "                    \n",
    "            writer.write_frames(write_frames, progress_bar=False)\n",
    "        \n",
    "        reflect_reader.close()\n",
    "        fluo_reader.close()\n",
    "        writer.close()\n",
    "        \n",
    "        with open(os.path.join(export_dir, export_metadata_fname), \"w\") as f:\n",
    "            toml.dump(export_metadata, f)"
   ]
  },
  {
   "cell_type": "code",
   "execution_count": null,
   "id": "4eefec12-cb40-4de6-859f-fc68724ee7d0",
   "metadata": {},
   "outputs": [],
   "source": []
  }
 ],
 "metadata": {
  "kernelspec": {
   "display_name": "data-analysis (local)",
   "language": "python",
   "name": "data_analysis_local"
  },
  "language_info": {
   "codemirror_mode": {
    "name": "ipython",
    "version": 3
   },
   "file_extension": ".py",
   "mimetype": "text/x-python",
   "name": "python",
   "nbconvert_exporter": "python",
   "pygments_lexer": "ipython3",
   "version": "3.10.0"
  }
 },
 "nbformat": 4,
 "nbformat_minor": 5
}
