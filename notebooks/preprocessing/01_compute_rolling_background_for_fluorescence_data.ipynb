{
 "cells": [
  {
   "cell_type": "code",
   "execution_count": 1,
   "id": "6fdf449c-18e7-4dcc-a194-9de011757c91",
   "metadata": {
    "tags": []
   },
   "outputs": [],
   "source": [
    "%load_ext autoreload\n",
    "%autoreload 2\n",
    "%matplotlib inline"
   ]
  },
  {
   "cell_type": "code",
   "execution_count": null,
   "id": "b2d7fcc7-f455-4098-93d5-61f2fdd92a15",
   "metadata": {
    "tags": []
   },
   "outputs": [],
   "source": [
    "import os\n",
    "import numpy as np\n",
    "import glob\n",
    "import h5py\n",
    "from tqdm.auto import tqdm\n",
    "from markovids import vid\n",
    "from joblib import Parallel, delayed"
   ]
  },
  {
   "cell_type": "markdown",
   "id": "bdb6af78-dd92-4b5f-a533-a31359064f6a",
   "metadata": {},
   "source": [
    "## User functions"
   ]
  },
  {
   "cell_type": "code",
   "execution_count": 4,
   "id": "a9ad8acc-4417-4f14-a276-459db8ff1caf",
   "metadata": {},
   "outputs": [],
   "source": [
    "def get_rolling_bground(\n",
    "    dat_file,\n",
    "    step_size=1500,\n",
    "    frame_spacing=20,\n",
    "    overlap=0,\n",
    "    agg_func=np.mean,\n",
    "    reader_kwargs={\"threads\": 2},\n",
    "    progress_bar=False,\n",
    "    save_dir=\"_bground\",\n",
    "):\n",
    "\n",
    "    basename = os.path.splitext(os.path.basename(dat_file))[0]\n",
    "    path = os.path.dirname(dat_file)\n",
    "    bground_path = os.path.join(path, save_dir, f\"{basename}.hdf5\")\n",
    "\n",
    "    os.makedirs(os.path.join(path, save_dir), exist_ok=True)\n",
    "\n",
    "    if os.path.exists(bground_path):\n",
    "        return None\n",
    "\n",
    "    vid_reader = vid.io.AutoReader(dat_file, **reader_kwargs)\n",
    "    steps = range(0, vid_reader.nframes, step_size - overlap)\n",
    "\n",
    "    bgrounds = []\n",
    "    idxs = []\n",
    "    for _step in tqdm(steps, disable=not progress_bar):\n",
    "        left_edge = _step\n",
    "        right_edge = left_edge + step_size\n",
    "\n",
    "        if right_edge > vid_reader.nframes:\n",
    "            break\n",
    "        # right_edge = min(left_edge + step_size, reader.nframes)\n",
    "        use_frames = vid_reader.get_frames(range(left_edge, right_edge, frame_spacing))\n",
    "        bgrounds.append(agg_func(use_frames, axis=0))\n",
    "        idxs.append((left_edge + right_edge) / 2)  # get midpoint frame index...\n",
    "    vid_reader.close()\n",
    "\n",
    "    with h5py.File(bground_path, \"w\") as f:\n",
    "        f.create_dataset(\n",
    "            \"bground\",\n",
    "            data=np.array(bgrounds),\n",
    "            compression=\"gzip\",\n",
    "        )\n",
    "        f.create_dataset(\"frame_idxs\", data=np.array(idxs), compression=\"gzip\")\n",
    "\n",
    "    return None"
   ]
  },
  {
   "cell_type": "markdown",
   "id": "c26e2ce6-b8f0-4d26-a151-cd0f1dd38f84",
   "metadata": {},
   "source": [
    "# Quantify fluorescence decay over time"
   ]
  },
  {
   "cell_type": "code",
   "execution_count": null,
   "id": "45b73f5b-5128-4f92-8b94-143b20edda67",
   "metadata": {},
   "outputs": [],
   "source": [
    "base_dir = os.path.expanduser(\"~/shared_folder/active_lab_members/markowitz_jeffrey/active_projects/quantum_dots/timecourse_0*\")\n",
    "fluo_files = sorted(glob.glob(os.path.join(base_dir, \"**\", \"Basler*fluorescence.avi\"), recursive=True))"
   ]
  },
  {
   "cell_type": "code",
   "execution_count": 8,
   "id": "f4838060-28eb-4a3a-960e-dc7509e60e02",
   "metadata": {
    "tags": []
   },
   "outputs": [],
   "source": [
    "base_dir = os.path.expanduser(\"~/shared_folder/active_lab_members/markowitz_jeffrey/active_projects/quantum_dots/sciadv_rebuttal/\")\n",
    "fluo_files += sorted(glob.glob(os.path.join(base_dir, \"**\", \"Basler*fluorescence.avi\"), recursive=True))"
   ]
  },
  {
   "cell_type": "code",
   "execution_count": 9,
   "id": "9a788be6-0411-411e-a39e-f4203f3c4354",
   "metadata": {},
   "outputs": [
    {
     "name": "stdout",
     "output_type": "stream",
     "text": [
      "1832\n"
     ]
    },
    {
     "name": "stderr",
     "output_type": "stream",
     "text": [
      "[Parallel(n_jobs=8)]: Using backend MultiprocessingBackend with 8 concurrent workers.\n",
      "[Parallel(n_jobs=8)]: Done  10 tasks      | elapsed:    0.3s\n",
      "[Parallel(n_jobs=8)]: Done  38 tasks      | elapsed:    0.4s\n",
      "[Parallel(n_jobs=8)]: Done  88 tasks      | elapsed:    0.8s\n",
      "[Parallel(n_jobs=8)]: Done 144 tasks      | elapsed:    1.3s\n",
      "[Parallel(n_jobs=8)]: Done 216 tasks      | elapsed:    1.8s\n",
      "[Parallel(n_jobs=8)]: Done 288 tasks      | elapsed:    2.1s\n",
      "[Parallel(n_jobs=8)]: Done 376 tasks      | elapsed:    2.7s\n",
      "[Parallel(n_jobs=8)]: Done 464 tasks      | elapsed:    3.2s\n",
      "[Parallel(n_jobs=8)]: Done 568 tasks      | elapsed:    3.7s\n",
      "[Parallel(n_jobs=8)]: Done 672 tasks      | elapsed:    4.3s\n",
      "[Parallel(n_jobs=8)]: Done 792 tasks      | elapsed:    5.5s\n",
      "[Parallel(n_jobs=8)]: Done 912 tasks      | elapsed:    6.6s\n",
      "[Parallel(n_jobs=8)]: Done 1048 tasks      | elapsed:    7.2s\n",
      "[Parallel(n_jobs=8)]: Done 1184 tasks      | elapsed:    8.2s\n",
      "[Parallel(n_jobs=8)]: Done 1336 tasks      | elapsed:    9.8s\n",
      "[Parallel(n_jobs=8)]: Done 1488 tasks      | elapsed:   11.2s\n",
      "[Parallel(n_jobs=8)]: Done 1656 tasks      | elapsed:   13.2s\n",
      "[Parallel(n_jobs=8)]: Done 1761 tasks      | elapsed:   15.0s\n",
      "[Parallel(n_jobs=8)]: Done 1832 out of 1832 | elapsed:  6.3min finished\n"
     ]
    }
   ],
   "source": [
    "delays = []\n",
    "for _file in fluo_files:\n",
    "    delays.append(\n",
    "        delayed(get_rolling_bground)(\n",
    "            _file,\n",
    "        )\n",
    "    )\n",
    "print(len(delays))\n",
    "dat = Parallel(n_jobs=8, verbose=10, batch_size=8, backend=\"multiprocessing\")(delays)"
   ]
  },
  {
   "cell_type": "code",
   "execution_count": null,
   "id": "ccc0dfaa-91a7-4a25-b750-fdc09c334a30",
   "metadata": {},
   "outputs": [],
   "source": []
  }
 ],
 "metadata": {
  "kernelspec": {
   "display_name": "data-analysis (local)",
   "language": "python",
   "name": "data_analysis_local"
  },
  "language_info": {
   "codemirror_mode": {
    "name": "ipython",
    "version": 3
   },
   "file_extension": ".py",
   "mimetype": "text/x-python",
   "name": "python",
   "nbconvert_exporter": "python",
   "pygments_lexer": "ipython3",
   "version": "3.10.0"
  }
 },
 "nbformat": 4,
 "nbformat_minor": 5
}
