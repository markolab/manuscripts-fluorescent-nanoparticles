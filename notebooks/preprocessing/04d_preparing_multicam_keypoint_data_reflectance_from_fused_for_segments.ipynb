{
 "cells": [
  {
   "cell_type": "code",
   "execution_count": 1,
   "id": "5f17da30-45c1-48dc-88ed-cb3c5371e855",
   "metadata": {
    "tags": []
   },
   "outputs": [],
   "source": [
    "%load_ext autoreload\n",
    "%autoreload 2\n",
    "%matplotlib inline"
   ]
  },
  {
   "cell_type": "code",
   "execution_count": null,
   "id": "3e28b464-cf5e-4603-abef-90ed3e42d5d5",
   "metadata": {},
   "outputs": [],
   "source": [
    "import os\n",
    "import cv2\n",
    "import matplotlib.pyplot as plt\n",
    "import numpy as np\n",
    "import glob\n",
    "import toml\n",
    "from segments import SegmentsClient\n",
    "from tqdm.auto import tqdm\n",
    "from markovids import vid"
   ]
  },
  {
   "cell_type": "markdown",
   "id": "8101d716-81d8-436b-ae83-a3c61d2302e7",
   "metadata": {},
   "source": [
    "1. get labels from fused dataset\n",
    "2. create a dataset for each annotator...\n",
    "3. compare against fluorescence and across humans..."
   ]
  },
  {
   "cell_type": "markdown",
   "id": "e74fb1d3-952f-459f-b833-c83c13f7d7a7",
   "metadata": {},
   "source": [
    "## User functions"
   ]
  },
  {
   "cell_type": "code",
   "execution_count": 5,
   "id": "af107698-b97a-483a-a089-cbd4147b49cc",
   "metadata": {
    "tags": []
   },
   "outputs": [],
   "source": [
    "# https://stackoverflow.com/questions/52498777/apply-matplotlib-or-custom-colormap-to-opencv-image\n",
    "def mpl_to_cv2_colormap(cmap_name):\n",
    "    import matplotlib.pyplot as plt\n",
    "\n",
    "    cmap = plt.get_cmap(cmap_name)\n",
    "    sm = plt.cm.ScalarMappable(cmap=cmap)\n",
    "\n",
    "    # step from min to max, strip alpha, rgb to bgr\n",
    "    color_range = sm.to_rgba(np.linspace(0, 1, 256), bytes=True)[:, 2::-1]\n",
    "    return color_range.reshape(256, 1, 3)\n",
    "\n",
    "\n",
    "def minmax_scale(batch_frames):\n",
    "    use_min = batch_frames.min(axis=(1, 2), keepdims=True)\n",
    "    use_max = batch_frames.max(axis=(1, 2), keepdims=True)\n",
    "\n",
    "    # normalize between 0-1\n",
    "    batch_frames = (batch_frames - use_min) / (use_max - use_min)\n",
    "    batch_frames[batch_frames < 0] = 0\n",
    "    batch_frames[batch_frames > 1] = 1\n",
    "    return batch_frames\n",
    "\n",
    "\n",
    "def intensity_to_rgba(frame, minval=1800, maxval=2200, colormap=cv2.COLORMAP_TURBO):\n",
    "    disp_frame = frame.copy().astype(\"float\")\n",
    "    disp_frame -= minval\n",
    "    disp_frame[disp_frame < 0] = 0\n",
    "    disp_frame /= np.abs(maxval - minval)\n",
    "    disp_frame[disp_frame >= 1] = 1\n",
    "    disp_frame *= 255\n",
    "    bgr_frame = cv2.applyColorMap(disp_frame.astype(np.uint8), colormap)\n",
    "    rgb_frame = cv2.cvtColor(bgr_frame, cv2.COLOR_BGR2RGB)\n",
    "\n",
    "    # new_frame[:, :, :3] = rgb_frame / 255.0\n",
    "    return rgb_frame"
   ]
  },
  {
   "cell_type": "markdown",
   "id": "0d65fe40-ace5-4ab8-aec6-c52542eaa2a7",
   "metadata": {},
   "source": [
    "# Load in metadata"
   ]
  },
  {
   "cell_type": "code",
   "execution_count": 6,
   "id": "32d4ac18-f85f-44bd-9f17-bb62c916e755",
   "metadata": {
    "tags": []
   },
   "outputs": [],
   "source": [
    "base_dir = \"/storage/home/hcoda1/4/jmarkowitz30/shared_folder/active_lab_members/markowitz_jeffrey/active_projects/quantum_dots/timecourse_02/\"\n",
    "# base_dir = \"/mnt/data/jmarkow/projects_active/mouse_open_field_multicam_lucid\"\n",
    "# base_dir = \"/home/jmarkow/data_dir/active_projects/quantum_dots/timecourse_02_joints/\"\n",
    "background_path = \"_bground\"\n",
    "frame_path = \"_proc\""
   ]
  },
  {
   "cell_type": "code",
   "execution_count": 7,
   "id": "bc145107-d115-4099-a50e-f91df604bd63",
   "metadata": {},
   "outputs": [],
   "source": [
    "calibration_data_file = os.path.join(os.path.dirname(base_dir), \"../timecourse_02_calibration_v2.toml\")\n",
    "calibration_data = toml.load(calibration_data_file)\n",
    "# calibration_data = toml.load(\"/home/jmarkow/data_dir/active_projects/quantum_dots/timecourse_02_calibration_v2.toml\")\n",
    "cameras = sorted(list(calibration_data[\"intrinsics\"].keys()))"
   ]
  },
  {
   "cell_type": "code",
   "execution_count": 8,
   "id": "15c94616-e194-46d0-81f1-5784d70458da",
   "metadata": {},
   "outputs": [],
   "source": [
    "# camera_dirs = [os.path.join(base_dir, _camera) for _camera in cameras]"
   ]
  },
  {
   "cell_type": "code",
   "execution_count": 95,
   "id": "d0daf7d2-f6b4-4309-b153-d3520da9592f",
   "metadata": {
    "tags": []
   },
   "outputs": [],
   "source": [
    "minval = 0\n",
    "maxval = 255\n",
    "use_cmap = plt.matplotlib.cm.viridis\n",
    "use_cmap = mpl_to_cv2_colormap(use_cmap)\n",
    "\n",
    "pad = 0  # pad with a 20px border\n",
    "dry_run = False"
   ]
  },
  {
   "cell_type": "markdown",
   "id": "f4db7909-1a47-4b61-a01c-4221d914053a",
   "metadata": {},
   "source": [
    "# Get what already exists on segments"
   ]
  },
  {
   "cell_type": "code",
   "execution_count": 96,
   "id": "c7cd3174-1824-40a3-a9b2-da8a028213cf",
   "metadata": {
    "tags": []
   },
   "outputs": [],
   "source": [
    "\n",
    "# You can find your api key at https://segments.ai/account\n",
    "api_key = os.getenv(\"SEGMENTSAPI\")\n",
    "client = SegmentsClient(api_key)"
   ]
  },
  {
   "cell_type": "code",
   "execution_count": 97,
   "id": "196bbc25-5cc7-4aa8-bae4-cc41be9ea408",
   "metadata": {},
   "outputs": [],
   "source": [
    "dataset_name = \"jmarkow/basler-nir-plexiglass-arena-keypoints-fused-round2\"\n",
    "# dataset_name = \"jmarkow/basler-nir-plexiglass-arena-keypoints-fused-kneejoints\"\n",
    "samples = client.get_samples(dataset_name, label_status=[\"LABELED\", \"REVIEWED\"])"
   ]
  },
  {
   "cell_type": "code",
   "execution_count": 129,
   "id": "0192af7c-1873-4484-b362-feb7303a4536",
   "metadata": {
    "tags": []
   },
   "outputs": [],
   "source": [
    "root_dir = \"/storage/home/hcoda1/4/jmarkowitz30/shared_folder/active_lab_members/markowitz_jeffrey/active_projects/quantum_dots/\"\n",
    "export_dir = \"/storage/home/hcoda1/4/jmarkowitz30/shared_folder/active_lab_members/markowitz_jeffrey/active_projects/keypoints_basler_nir_plexiglass_arena/segments_ai_labeling_export_fused_round2_reflect_only/\""
   ]
  },
  {
   "cell_type": "code",
   "execution_count": 130,
   "id": "b9efa151-c245-41b8-a80c-935b8590907a",
   "metadata": {
    "tags": []
   },
   "outputs": [],
   "source": [
    "used_files = [_sample.metadata[\"dat_path_reflect\"] for _sample in samples]"
   ]
  },
  {
   "cell_type": "code",
   "execution_count": 131,
   "id": "96587fe1-ffeb-4849-aeb1-7dd04b723234",
   "metadata": {
    "tags": []
   },
   "outputs": [],
   "source": [
    "uniq_files = sorted(list(set(used_files)))"
   ]
  },
  {
   "cell_type": "markdown",
   "id": "21b74da4-8620-4686-95f5-dd0869a51d10",
   "metadata": {},
   "source": [
    "# Export data to directory first"
   ]
  },
  {
   "cell_type": "code",
   "execution_count": 132,
   "id": "2d546783-5f61-4abb-971f-9ea6db5a1d7e",
   "metadata": {
    "tags": []
   },
   "outputs": [],
   "source": [
    "n_dirlevels = 4"
   ]
  },
  {
   "cell_type": "code",
   "execution_count": 133,
   "id": "a226845d-60aa-40a4-a755-100dcbefe95f",
   "metadata": {
    "tags": []
   },
   "outputs": [],
   "source": [
    "from PIL import Image\n",
    "from PIL.PngImagePlugin import PngInfo\n",
    "import warnings"
   ]
  },
  {
   "cell_type": "code",
   "execution_count": 134,
   "id": "d2875cc9-a79c-4821-8728-f2bc992efee5",
   "metadata": {
    "tags": []
   },
   "outputs": [],
   "source": [
    "os.makedirs(export_dir, exist_ok=True)"
   ]
  },
  {
   "cell_type": "code",
   "execution_count": 135,
   "id": "202acfff-2900-4219-9e7f-1704ef9bd08e",
   "metadata": {
    "tags": []
   },
   "outputs": [
    {
     "data": {
      "application/vnd.jupyter.widget-view+json": {
       "model_id": "adec118c77eb46e6979fe9561686f877",
       "version_major": 2,
       "version_minor": 0
      },
      "text/plain": [
       "  0%|          | 0/60 [00:00<?, ?it/s]"
      ]
     },
     "metadata": {},
     "output_type": "display_data"
    }
   ],
   "source": [
    "for _file in tqdm(uniq_files):\n",
    "    use_samples = [_sample for _sample in samples if _sample.metadata[\"dat_path_reflect\"] == _file]\n",
    "    use_frames = [_sample.metadata[\"frame_index\"] for _sample in use_samples]\n",
    "    use_fnames = [os.path.basename(_sample.metadata[\"img_path\"]) for _sample in use_samples]\n",
    "\n",
    "    path_suffix = os.path.join(*_file.split(os.sep)[-n_dirlevels:])\n",
    "    use_file = os.path.join(root_dir, path_suffix)\n",
    "\n",
    "    reflect_reader = vid.io.AutoReader(use_file)\n",
    "    reflect_frames = reflect_reader.get_frames(use_frames)\n",
    "    reflect_reader.close()\n",
    "\n",
    "    for (\n",
    "        _sample,\n",
    "        _fname,\n",
    "        _im,\n",
    "    ) in zip(use_samples, use_fnames, reflect_frames):\n",
    "        use_frame = np.pad(_im, ((pad, pad), (pad, pad)), mode=\"constant\", constant_values=0)\n",
    "        export_frame = intensity_to_rgba(use_frame, minval=minval, maxval=maxval, colormap=use_cmap)[:, :, :3]\n",
    "\n",
    "        filename_export = os.path.join(export_dir, os.path.basename(_fname))\n",
    "\n",
    "        targetImage = Image.fromarray(export_frame)\n",
    "        metadata = PngInfo()\n",
    "        metadata.add_text(\"pad\", str(pad))\n",
    "        metadata.add_text(\"frame_index\", str(_sample.metadata[\"frame_index\"]))\n",
    "        metadata.add_text(\"camera\", _sample.metadata[\"camera\"])\n",
    "        metadata.add_text(\"dat_path_fluo\", _sample.metadata[\"dat_path_fluo\"])\n",
    "        metadata.add_text(\"dat_path_reflect\", _sample.metadata[\"dat_path_reflect\"])\n",
    "        metadata.add_text(\"img_path\", filename_export)\n",
    "        metadata.add_text(\"original_segments_uuid\", _sample.uuid)\n",
    "        metadata.add_text(\"original_segments_name\", _sample.name)\n",
    "        metadata.add_text(\"original_img_path\", _sample.metadata[\"img_path\"])\n",
    "\n",
    "        if not dry_run:\n",
    "            if not os.path.exists(filename_export):\n",
    "                targetImage.save(filename_export, pnginfo=metadata)\n",
    "            else:\n",
    "                warnings.warn(f\"{filename_export} already exists, skipping...\")\n",
    "        # export if we're not doing a dry run\n",
    "        #"
   ]
  },
  {
   "cell_type": "code",
   "execution_count": 139,
   "id": "6e534eb5-0e81-44e7-80a4-ddfdc47b2090",
   "metadata": {
    "tags": []
   },
   "outputs": [],
   "source": [
    "filenames_exported = sorted(glob.glob(os.path.join(export_dir, \"*.png\")))"
   ]
  },
  {
   "cell_type": "markdown",
   "id": "475976e1-c7f9-406b-90ac-c4e418d13cbf",
   "metadata": {},
   "source": [
    "# Upload new data to segments.ai"
   ]
  },
  {
   "cell_type": "code",
   "execution_count": null,
   "id": "c805c492-b848-4186-9836-efa6211ceaf6",
   "metadata": {
    "tags": []
   },
   "outputs": [],
   "source": [
    "urls = []"
   ]
  },
  {
   "cell_type": "code",
   "execution_count": 146,
   "id": "fbe17d4a-008b-4f57-96c4-466f77ddc04a",
   "metadata": {
    "tags": []
   },
   "outputs": [],
   "source": [
    "# assume everything is synced..."
   ]
  },
  {
   "cell_type": "code",
   "execution_count": 151,
   "id": "4bd8aff6-1e7d-4202-90f2-266a84e5e849",
   "metadata": {
    "tags": []
   },
   "outputs": [],
   "source": [
    "root_dataset_name = \"jmarkow/basler-nir-plexiglass-arena-keypoints-fused-round2-reflectonly\"\n",
    "labelers = [\"zeynep\", \"amartya\", \"claire\", \"brittany\"]"
   ]
  },
  {
   "cell_type": "code",
   "execution_count": 166,
   "id": "f5aa7c85-fb39-481b-8837-78d94d1e80e3",
   "metadata": {
    "tags": []
   },
   "outputs": [],
   "source": [
    "current_samples = client.get_samples(f\"{root_dataset_name}-{labelers[0]}\")"
   ]
  },
  {
   "cell_type": "code",
   "execution_count": 167,
   "id": "d16da0d0-b1c8-4525-be56-44b95bca08c9",
   "metadata": {
    "tags": []
   },
   "outputs": [],
   "source": [
    "filenames_uploaded = []\n",
    "for _sample in current_samples:\n",
    "    filenames_uploaded.append(os.path.basename(_sample.metadata[\"img_path\"]))"
   ]
  },
  {
   "cell_type": "code",
   "execution_count": 168,
   "id": "35dde13d-f6cf-486a-8bef-77ed5df84538",
   "metadata": {},
   "outputs": [],
   "source": [
    "filenames_to_upload = [_fname for _fname in filenames_exported if os.path.basename(_fname) not in filenames_uploaded]"
   ]
  },
  {
   "cell_type": "code",
   "execution_count": 163,
   "id": "7fe85787-305f-457d-b114-d938412ff907",
   "metadata": {
    "tags": []
   },
   "outputs": [
    {
     "data": {
      "application/vnd.jupyter.widget-view+json": {
       "model_id": "bf3a2f458aa540c3a59700393a21ce2e",
       "version_major": 2,
       "version_minor": 0
      },
      "text/plain": [
       "  0%|          | 0/592 [00:00<?, ?it/s]"
      ]
     },
     "metadata": {},
     "output_type": "display_data"
    }
   ],
   "source": [
    "urls = []\n",
    "for _filename in tqdm(filenames_to_upload):\n",
    "    with open(_filename, \"rb\") as f:\n",
    "        use_filename = os.path.basename(_filename)\n",
    "        asset = client.upload_asset(f, use_filename)\n",
    "    image_url = asset.url\n",
    "    urls.append(image_url)"
   ]
  },
  {
   "cell_type": "code",
   "execution_count": 164,
   "id": "d7651b16-0b5e-4c2b-9448-20e5e3e92a6f",
   "metadata": {
    "tags": []
   },
   "outputs": [
    {
     "data": {
      "application/vnd.jupyter.widget-view+json": {
       "model_id": "0bfdb88f2b7348fdba0b3009115860b3",
       "version_major": 2,
       "version_minor": 0
      },
      "text/plain": [
       "  0%|          | 0/592 [00:00<?, ?it/s]"
      ]
     },
     "metadata": {},
     "output_type": "display_data"
    }
   ],
   "source": [
    "for _name, _url in tqdm(zip(filenames_to_upload, urls), total=len(filenames_to_upload)):\n",
    "    # convert numeric metadata prior to adding to dataset...\n",
    "    metadata = Image.open(_name).text\n",
    "    metadata[\"pad\"] = int(metadata[\"pad\"])\n",
    "    metadata[\"frame_index\"] = int(metadata[\"frame_index\"])\n",
    "    attributes = {\"image\": {\"url\": _url}}\n",
    "    for _labeler in labelers:\n",
    "        metadata[\"labeler\"] = _labeler\n",
    "        use_dataset_name = f\"{root_dataset_name}-{_labeler}\"\n",
    "        sample_name = f\"{os.path.basename(_name)}-{_labeler}\" \n",
    "        sample = client.add_sample(use_dataset_name, sample_name, attributes, metadata=metadata)"
   ]
  },
  {
   "cell_type": "code",
   "execution_count": null,
   "id": "16450b69-6b7b-4f98-b31e-887c4f25f8a6",
   "metadata": {},
   "outputs": [],
   "source": [
    "# samples = client.get_samples(dataset_name, per_page=10000, label_status=[\"UNLABELED\"])"
   ]
  }
 ],
 "metadata": {
  "kernelspec": {
   "display_name": "data-analysis (local)",
   "language": "python",
   "name": "data_analysis_local"
  },
  "language_info": {
   "codemirror_mode": {
    "name": "ipython",
    "version": 3
   },
   "file_extension": ".py",
   "mimetype": "text/x-python",
   "name": "python",
   "nbconvert_exporter": "python",
   "pygments_lexer": "ipython3",
   "version": "3.10.0"
  }
 },
 "nbformat": 4,
 "nbformat_minor": 5
}
