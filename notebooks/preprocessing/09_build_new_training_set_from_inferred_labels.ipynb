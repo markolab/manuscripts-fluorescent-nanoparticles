{
 "cells": [
  {
   "cell_type": "code",
   "execution_count": 2,
   "id": "6fdf449c-18e7-4dcc-a194-9de011757c91",
   "metadata": {
    "tags": []
   },
   "outputs": [
    {
     "name": "stdout",
     "output_type": "stream",
     "text": [
      "The autoreload extension is already loaded. To reload it, use:\n",
      "  %reload_ext autoreload\n"
     ]
    }
   ],
   "source": [
    "%load_ext autoreload\n",
    "%autoreload 2\n",
    "%matplotlib inline"
   ]
  },
  {
   "cell_type": "code",
   "execution_count": 3,
   "id": "19457c24-6bef-4f62-84f7-be661bc9f7f1",
   "metadata": {
    "tags": []
   },
   "outputs": [],
   "source": [
    "import os\n",
    "import cv2\n",
    "import matplotlib.pyplot as plt\n",
    "import numpy as np\n",
    "import skimage\n",
    "import toml\n",
    "import glob\n",
    "import pyarrow as pa\n",
    "import pandas as pd\n",
    "import sleap_io as sio\n",
    "import warnings\n",
    "\n",
    "from segments import SegmentsClient\n",
    "from tqdm.auto import tqdm\n",
    "from markovids import vid, pcl\n",
    "from scipy.spatial.distance import pdist\n",
    "from joblib import Parallel, delayed\n",
    "from sklearn.decomposition import PCA\n",
    "from sklearn.metrics import mean_squared_error"
   ]
  },
  {
   "cell_type": "code",
   "execution_count": 4,
   "id": "524319b1-7b87-4192-8dd0-d916f3435703",
   "metadata": {
    "tags": []
   },
   "outputs": [],
   "source": [
    "def get_l2_norm(df, x1=\"kpoint_x\", x2=\"kpoint_com_gauss_x\", y1=\"kpoint_y\", y2=\"kpoint_com_gauss_y\"):\n",
    "    return np.linalg.norm([df[x1] - df[x2], df[y1] - df[y2]])"
   ]
  },
  {
   "cell_type": "code",
   "execution_count": 5,
   "id": "0457f428-d721-4f3c-848d-a05299b9cb17",
   "metadata": {
    "tags": []
   },
   "outputs": [],
   "source": [
    "def get_l2_norm_diffs(df, x=\"kpoint_use_x\", y=\"kpoint_use_y\"):\n",
    "    return np.linalg.norm([df[x],df[y]])"
   ]
  },
  {
   "cell_type": "code",
   "execution_count": 6,
   "id": "d3b05f65-79b8-4e7c-ac47-27e7f66ca4b3",
   "metadata": {
    "tags": []
   },
   "outputs": [],
   "source": [
    "# TRY KPOINT X/Y HERE\n",
    "def convert_to_point_array(df, x_key=\"kpoint_use_x\", y_key=\"kpoint_use_y\", n_nodes=10):\n",
    "    # sort by kpoint num\n",
    "    assert len(df) == df[\"kpoint_name\"].nunique()\n",
    "    new_array = np.full((n_nodes, 2), fill_value=np.nan)\n",
    "    for _idx, _row in df.iterrows():\n",
    "        new_array[int(_row[\"kpoint_idx\"]), 0] = _row[x_key]\n",
    "        new_array[int(_row[\"kpoint_idx\"]), 1] = _row[y_key]\n",
    "    return new_array"
   ]
  },
  {
   "cell_type": "code",
   "execution_count": 7,
   "id": "4288f9a0-0e98-4899-9fd4-2314d4ceb9e7",
   "metadata": {
    "tags": []
   },
   "outputs": [],
   "source": [
    "def tail_filter(df):\n",
    "    # cond1 = (df[\"kpoint_name\"].isin([\"tail_middle\", \"tail_tip\"]).sum() == 2)\n",
    "    # cond2 = (df[\"kpoint_name\"].isin([\"tail_middle\",\"tail_tip\"]).sum() == 0)\n",
    "    cond1 = (df[\"kpoint_name\"] == \"tail_tip\").sum() > 0\n",
    "    cond2 = (df[\"kpoint_name\"] == \"tail_middle\").sum() > 0\n",
    "    return (cond1 & cond2) | (~cond1 & ~cond2)"
   ]
  },
  {
   "cell_type": "code",
   "execution_count": 8,
   "id": "1f5f5f62-e1e8-4d57-97c6-fde7ca01f7fd",
   "metadata": {
    "tags": []
   },
   "outputs": [],
   "source": [
    "def adaptive_threshold(conf, high_thresh=0.7, low_thresh=0.05, high_x=5, low_x=15):\n",
    "    # Linear interpolation between max distance at low and high confidence\n",
    "    conf = np.clip(conf, low_thresh, high_thresh)\n",
    "    return low_x + (high_x - low_x) * (conf - low_thresh) / (high_thresh - low_thresh)"
   ]
  },
  {
   "cell_type": "code",
   "execution_count": 9,
   "id": "a18ba9d5-24a6-4888-8bc2-abe8769f5943",
   "metadata": {
    "tags": []
   },
   "outputs": [],
   "source": [
    "def get_kpoint_qd_df(\n",
    "    sleap_fname=None,\n",
    "    fluo_fname=None,\n",
    "    batch_size=1000,\n",
    "    search_radius=10,\n",
    "    crop_radius=25,\n",
    "    confidence_threshold=-1,  # used no confidence threshold for first run, then .5 for joints\n",
    "    reader_kwargs={\"threads\": 2},\n",
    "    force=True,\n",
    "    **kwargs,\n",
    "):\n",
    "\n",
    "    save_file = os.path.splitext(sleap_fname)[0] + \"_robust_centroid.parquet\"\n",
    "    if (not force) and os.path.exists(save_file):\n",
    "        try:\n",
    "            return pd.read_parquet(save_file)\n",
    "        except pa.lib.ArrowInvalid as e:\n",
    "            # if we can't load the file, we have to do it over again!\n",
    "            warnings.warn(f\"Parquet file {save_file} is invalid, will re-process data\")\n",
    "            pass\n",
    "\n",
    "    dset = sio.load_slp(sleap_fname)\n",
    "\n",
    "    skeleton = dset.skeleton\n",
    "    labeled_frames = dset.labeled_frames\n",
    "\n",
    "    search_obj = skimage.morphology.disk(radius=search_radius).astype(\"float\")\n",
    "    search_y, search_x = np.where(search_obj > 0)\n",
    "    center = search_obj.shape[0] // 2\n",
    "    xx = np.arange(search_obj.shape[1] + 1)\n",
    "    yy = np.arange(search_obj.shape[0] + 1)\n",
    "    xx -= center\n",
    "    yy -= center\n",
    "\n",
    "    if not os.path.exists(fluo_fname):\n",
    "        warnings.warn(f\"Fluorescence file {fluo_fname} does not exist\")\n",
    "        return None\n",
    "\n",
    "    reader = vid.io.AutoReader(fluo_fname, **reader_kwargs)\n",
    "    nframes = reader.nframes\n",
    "    width, height = reader.frame_size\n",
    "\n",
    "    dcts = []\n",
    "    batches = range(0, nframes, batch_size)\n",
    "    for _batch in tqdm(batches):\n",
    "        frame_idx = range(_batch, _batch + batch_size)\n",
    "        try:\n",
    "            use_frames = reader.get_frames(frame_idx)[..., 0]\n",
    "        except TypeError:\n",
    "            warnings.warn(f\"Issue loading batch {_batch, _batch + batch_size} in {fluo_fname}\")\n",
    "            continue\n",
    "        frame_idx = list(frame_idx)\n",
    "\n",
    "        for idx, _frame in zip(frame_idx, use_frames):\n",
    "            labeled_frame = labeled_frames[idx]\n",
    "            try:\n",
    "                kpoints = labeled_frame.instances[0].points\n",
    "            except IndexError as e:\n",
    "                continue\n",
    "\n",
    "            kpoints = {k.name: v for k, v in kpoints.items()}\n",
    "\n",
    "            for _node, _kpoint in kpoints.items():\n",
    "                if ~np.isnan(_kpoint.x) and (_kpoint.score >= confidence_threshold):\n",
    "\n",
    "                    kpoint_x_idx = int(np.round(_kpoint.x))\n",
    "                    kpoint_y_idx = int(np.round(_kpoint.y))\n",
    "\n",
    "                    new_coords = xx + kpoint_x_idx, yy + kpoint_y_idx\n",
    "                    xrange = (new_coords[0][0], new_coords[0][-1])\n",
    "                    yrange = (new_coords[1][0], new_coords[1][-1])\n",
    "\n",
    "                    try:\n",
    "                        new_coords = xx + kpoint_x_idx, yy + kpoint_y_idx\n",
    "                        xrange = (new_coords[0][0], new_coords[0][-1])\n",
    "                        yrange = (new_coords[1][0], new_coords[1][-1])\n",
    "                        masked_bground_sub = search_obj * _frame[slice(*yrange), slice(*xrange)].astype(\"float\")\n",
    "\n",
    "                        mask = pcl.fluo.get_closest_blob(masked_bground_sub)\n",
    "                        masked_bground_sub[mask == 0] = 0\n",
    "\n",
    "                        kpoint_gauss_params, kpoint_moment_params = pcl.fluo.fit_2d_gaussian_with_moments(\n",
    "                            masked_bground_sub,\n",
    "                            loss=\"linear\",\n",
    "                        )\n",
    "                        kpoint_com = [\n",
    "                            kpoint_moment_params[\"x0\"] + xrange[0],\n",
    "                            kpoint_moment_params[\"y0\"] + yrange[0],\n",
    "                        ]\n",
    "\n",
    "                        if kpoint_gauss_params is not None:\n",
    "                            kpoint_com_gauss = [\n",
    "                                kpoint_gauss_params[\"x0\"] + xrange[0],\n",
    "                                kpoint_gauss_params[\"y0\"] + yrange[0],\n",
    "                            ]\n",
    "                        else:\n",
    "                            kpoint_gauss_params = {\n",
    "                                \"x0\": np.nan,\n",
    "                                \"y0\": np.nan,\n",
    "                                \"sigma_x\": np.nan,\n",
    "                                \"sigma_y\": np.nan,\n",
    "                                \"theta\": np.nan,\n",
    "                                \"offset\": np.nan,\n",
    "                                \"amplitude\": np.nan,\n",
    "                            }\n",
    "                            kpoint_com_gauss = [\n",
    "                                np.nan,\n",
    "                                np.nan,\n",
    "                            ]\n",
    "\n",
    "                        kpoint_fluo_ave = np.nanmean(masked_bground_sub[search_y, search_x])\n",
    "                        kpoint_fluo_peak = np.nanmax(masked_bground_sub[search_y, search_x])\n",
    "\n",
    "                    except ValueError:\n",
    "\n",
    "                        kpoint_gauss_params = {\n",
    "                            \"x0\": np.nan,\n",
    "                            \"y0\": np.nan,\n",
    "                            \"sigma_x\": np.nan,\n",
    "                            \"sigma_y\": np.nan,\n",
    "                            \"theta\": np.nan,\n",
    "                            \"offset\": np.nan,\n",
    "                            \"amplitude\": np.nan,\n",
    "                        }\n",
    "\n",
    "                        kpoint_fluo_ave = np.nan\n",
    "                        kpoint_fluo_peak = np.nan\n",
    "                        kpoint_com = [np.nan, np.nan]\n",
    "                        kpoint_com_gauss = [np.nan, np.nan]\n",
    "\n",
    "                    crop_valid = True\n",
    "                    use_x = kpoint_x_idx\n",
    "                    use_y = kpoint_y_idx\n",
    "                    top = use_y - crop_radius\n",
    "                    bottom = use_y + crop_radius\n",
    "                    left = use_x - crop_radius\n",
    "                    right = use_x + crop_radius\n",
    "                    if (top >= 0) & (bottom <= height) & (left >= 0) & (right <= width):\n",
    "                        crop_im = _frame[top:bottom, left:right].astype(\"uint8\")\n",
    "                    else:\n",
    "                        crop_im = np.zeros((crop_radius * 2 + 1, crop_radius * 2 + 1), dtype=\"uint8\")\n",
    "                        crop_valid = False\n",
    "\n",
    "                    _dct = {\n",
    "                        \"kpoint_name\": _node,\n",
    "                        \"kpoint_com_x\": kpoint_com[0],\n",
    "                        \"kpoint_com_y\": kpoint_com[1],\n",
    "                        \"kpoint_com_gauss_x\": kpoint_com_gauss[0],\n",
    "                        \"kpoint_com_gauss_y\": kpoint_com_gauss[1],\n",
    "                        \"kpoint_sigma_gauss_x\": kpoint_gauss_params[\"sigma_x\"],\n",
    "                        \"kpoint_sigma_gauss_y\": kpoint_gauss_params[\"sigma_y\"],\n",
    "                        \"kpoint_amplitude_gauss\": kpoint_gauss_params[\"amplitude\"],\n",
    "                        \"kpoint_offset_gauss\": kpoint_gauss_params[\"offset\"],\n",
    "                        \"kpoint_theta_gauss\": kpoint_gauss_params[\"theta\"],\n",
    "                        \"kpoint_x\": _kpoint.x,\n",
    "                        \"kpoint_y\": _kpoint.y,\n",
    "                        \"kpoint_score\": _kpoint.score,\n",
    "                        \"fluo_ave\": kpoint_fluo_ave,\n",
    "                        \"fluo_peak\": kpoint_fluo_peak,\n",
    "                        \"frame_index\": idx,\n",
    "                        \"crop_im\": crop_im,\n",
    "                        \"crop_valid\": crop_valid,\n",
    "                    }\n",
    "                    dcts.append(_dct)\n",
    "\n",
    "    reader.close()\n",
    "    store_dat = pd.DataFrame(dcts)\n",
    "    store_dat[\"sleap_file\"] = sleap_fname\n",
    "    store_dat[\"fluo_file\"] = fluo_fname\n",
    "    store_dat[\"search_radius\"] = search_radius\n",
    "    for k, v in kwargs.items():\n",
    "        store_dat[k] = v\n",
    "    store_dat[\"crop_im\"] = pa.array(store_dat[\"crop_im\"].apply(list))\n",
    "    store_dat.to_parquet(save_file)\n",
    "    return store_dat"
   ]
  },
  {
   "cell_type": "code",
   "execution_count": 10,
   "id": "39856096-0b79-425b-ad0d-db35fc126123",
   "metadata": {
    "tags": []
   },
   "outputs": [],
   "source": [
    "default_win_kwargs = {\"window\": 20, \"min_periods\": 1, \"center\": True}\n",
    "\n",
    "\n",
    "def hampel(df, scale=0.6745, threshold=3, replace=True, insert_nans=True, **kwargs):\n",
    "    use_kwargs = default_win_kwargs | kwargs\n",
    "    new_df = df.copy()\n",
    "    meds = df.rolling(**use_kwargs).median()\n",
    "    devs = (df - meds).abs()\n",
    "    mads = devs.rolling(**use_kwargs).median()\n",
    "    mads /= scale\n",
    "    mads_dev = devs / mads\n",
    "    if insert_nans:\n",
    "        new_df[np.logical_or(np.isnan(meds), np.isnan(mads_dev))] = np.nan\n",
    "    if replace:\n",
    "        new_df[mads_dev > threshold] = meds[mads_dev > threshold]\n",
    "    else:\n",
    "        new_df[mads_dev > threshold] = np.nan\n",
    "    return new_df"
   ]
  },
  {
   "cell_type": "code",
   "execution_count": 11,
   "id": "37bfa1b5-beca-4ce7-8ee0-d0930f202ca0",
   "metadata": {
    "tags": []
   },
   "outputs": [],
   "source": [
    "def get_diff(x):\n",
    "    use_df = np.hstack([x.diff(periods=1).values[:,None],\n",
    "                        x.diff(periods=-1).values[:,None]])\n",
    "    return np.nanmean(use_df, axis=1)"
   ]
  },
  {
   "cell_type": "code",
   "execution_count": 12,
   "id": "9e9ed35e-ee02-489f-8b88-3caf31dc636d",
   "metadata": {
    "tags": []
   },
   "outputs": [],
   "source": [
    "def get_pca_metrics(x, max_components=20, zscore=False):\n",
    "    mat = np.vstack(x)\n",
    "    index = x.index\n",
    "\n",
    "    if zscore:\n",
    "        mat = (mat - np.nanmean(mat, axis=0)) / np.nanstd(mat, axis=0)\n",
    "    else:\n",
    "        mat -= np.nanmean(mat, axis=0)\n",
    "\n",
    "    excl_points = np.isnan(mat).any(axis=1)\n",
    "\n",
    "    pca = PCA(n_components=max_components, whiten=True)\n",
    "    pca.fit(mat[~excl_points])\n",
    "    lam_cumsum = np.cumsum(pca.explained_variance_ratio_)\n",
    "\n",
    "    errors = []\n",
    "    for i in range(20):\n",
    "        pca = PCA(n_components=i)\n",
    "        X_proj = pca.fit_transform(mat[~excl_points])\n",
    "        X_recon = pca.inverse_transform(X_proj)\n",
    "        mse = mean_squared_error(mat[~excl_points], X_recon)\n",
    "        errors.append(mse)\n",
    "\n",
    "    return lam_cumsum, np.array(errors)\n",
    "\n",
    "    # print(np.cumsum(pca.explained_variance_ratio_))\n",
    "\n",
    "\n",
    "# use separate function establish k\n",
    "def get_topk_pca_diff(x, k=3, zscore=False):\n",
    "\n",
    "    mat = np.vstack(x)\n",
    "    if zscore:\n",
    "        mat = (mat - np.nanmean(mat, axis=0)) / np.nanstd(mat, axis=0)\n",
    "    else:\n",
    "        mat -= np.nanmean(mat, axis=0)\n",
    "\n",
    "    index = x.index\n",
    "\n",
    "    excl_points = np.isnan(mat).any(axis=1)\n",
    "\n",
    "    pca = PCA(n_components=k, whiten=True)\n",
    "    mat_pca = pca.fit_transform(mat[~excl_points])\n",
    "    # print(np.cumsum(pca.explained_variance_ratio_))\n",
    "\n",
    "    new_mat = np.full((len(mat), k), fill_value=np.nan)\n",
    "    new_mat[~excl_points, :] = mat_pca\n",
    "\n",
    "    use_data = np.insert(np.linalg.norm(np.diff(new_mat, axis=0), axis=1), 0, np.nan)\n",
    "    return pd.Series(data=use_data, index=index)\n",
    "\n",
    "\n",
    "def get_topk_pca_recon_error(x, k=3, zscore=False):\n",
    "\n",
    "    mat = np.vstack(x)\n",
    "    if zscore:\n",
    "        mat = (mat - np.nanmean(mat, axis=0)) / np.nanstd(mat, axis=0)\n",
    "    else:\n",
    "        mat -= np.nanmean(mat, axis=0)\n",
    "    index = x.index\n",
    "    excl_points = np.isnan(mat).any(axis=1)\n",
    "\n",
    "    pca = PCA(n_components=k, whiten=True)\n",
    "    mat_proj = pca.fit_transform(mat[~excl_points])\n",
    "    # print(np.cumsum(pca.explained_variance_ratio_))\n",
    "\n",
    "    new_mat = np.full((len(mat), k), fill_value=np.nan)\n",
    "    new_mat[~excl_points, :] = mat_proj\n",
    "\n",
    "    mat_recon = pca.inverse_transform(new_mat)\n",
    "    err = np.linalg.norm(mat - mat_recon, axis=1)\n",
    "    return pd.Series(data=err, index=index)"
   ]
  },
  {
   "cell_type": "markdown",
   "id": "5ae6e564-6e34-41c6-b628-197e2387ee78",
   "metadata": {},
   "source": [
    "## Gather data and predicted keypoints"
   ]
  },
  {
   "cell_type": "code",
   "execution_count": 235,
   "id": "47dae160-3e2d-47ed-b407-efdba74af262",
   "metadata": {
    "tags": []
   },
   "outputs": [],
   "source": [
    "force = False\n",
    "is_joint = 2  # pass 2 if we want specify reflect onnly\n",
    "nofluo = True\n",
    "use_version = \"v2\""
   ]
  },
  {
   "cell_type": "code",
   "execution_count": 236,
   "id": "c85273b7-a11f-42f3-ae5d-d7351f76df99",
   "metadata": {
    "tags": []
   },
   "outputs": [],
   "source": [
    "root_dir = os.path.expanduser(\"~/shared_folder/active_lab_members/markowitz_jeffrey/active_projects/\")"
   ]
  },
  {
   "cell_type": "code",
   "execution_count": 237,
   "id": "c11b5d1c-4ba4-458d-9a78-265b15b84d5a",
   "metadata": {
    "tags": []
   },
   "outputs": [],
   "source": [
    "# base_dir = \"/home/jmarkow/data_dir/active_projects/quantum_dots/timecourse_02\"\n",
    "# base_dir = \"/home/jmarkow/data_dir/active_projects/quantum_dots/timecourse_02_joints\"\n",
    "# fluo_files = sorted(glob.glob(os.path.join(root_dir, \"quantum_dots/timecourse_02_joints\", \"**\", \"Basler*fluorescence.avi\"), recursive=True))\n",
    "# fluo_files = sorted(glob.glob(os.path.join(root_dir, \"quantum_dots/timecourse_02\", \"**\", \"Basler*fluorescence.avi\"), recursive=True))"
   ]
  },
  {
   "cell_type": "code",
   "execution_count": 238,
   "id": "c72120bd-7d0e-4478-b307-1600478923eb",
   "metadata": {
    "tags": []
   },
   "outputs": [
    {
     "data": {
      "text/plain": [
       "'/storage/home/hcoda1/4/jmarkowitz30/shared_folder/active_lab_members/markowitz_jeffrey/active_projects/quantum_dots/_analysis'"
      ]
     },
     "execution_count": 238,
     "metadata": {},
     "output_type": "execute_result"
    }
   ],
   "source": [
    "config = toml.load(\"../preprocessing/config.toml\")\n",
    "config[\"dirs\"][\"analysis\"]"
   ]
  },
  {
   "cell_type": "code",
   "execution_count": 239,
   "id": "f57103ac-b2ac-44a8-aeb6-89b0b0d43071",
   "metadata": {
    "tags": []
   },
   "outputs": [],
   "source": [
    "if is_joint == 1:\n",
    "    kpoint_dir = os.path.join(root_dir, \"keypoints_basler_nir_plexiglass_arena/keypoint_inference_kneejoints_export_fused_weights-None_bpass-None\")\n",
    "elif is_joint == 2:\n",
    "    kpoint_dir = os.path.join(root_dir, \"keypoints_basler_nir_plexiglass_arena/keypoint_inference_kneejoints_export_fused_weights-(0.0, 1.0)_bpass-None\")\n",
    "else:\n",
    "    kpoint_dir = os.path.join(root_dir, \"keypoints_basler_nir_plexiglass_arena/keypoint_inference_export_fused_weights-None_bpass-None\")\n",
    "    # kpoint_dir = os.path.join(root_dir, \"keypoints_basler_nir_plexiglass_arena/keypoint_inference_export_fused_weights-(0.0, 1.0)_bpass-None\")"
   ]
  },
  {
   "cell_type": "code",
   "execution_count": 240,
   "id": "0a319036-ea06-45b6-8a99-ee21ae6bacd1",
   "metadata": {
    "tags": []
   },
   "outputs": [
    {
     "data": {
      "text/plain": [
       "'/storage/home/hcoda1/4/jmarkowitz30/shared_folder/active_lab_members/markowitz_jeffrey/active_projects/keypoints_basler_nir_plexiglass_arena/keypoint_inference_kneejoints_export_fused_weights-(0.0, 1.0)_bpass-None'"
      ]
     },
     "execution_count": 240,
     "metadata": {},
     "output_type": "execute_result"
    }
   ],
   "source": [
    "kpoint_dir"
   ]
  },
  {
   "cell_type": "code",
   "execution_count": 241,
   "id": "2f84e32a-6a1c-4381-bad7-1d1268ebe521",
   "metadata": {
    "tags": []
   },
   "outputs": [],
   "source": [
    "if nofluo:\n",
    "    suffix = \".predictions.round2_manual_labeling_nofluo.slp\"\n",
    "else:\n",
    "    suffix = \".predictions.round2_manual_labeling.slp\""
   ]
  },
  {
   "cell_type": "code",
   "execution_count": 242,
   "id": "a47e8f65-dbeb-4c9e-801e-bfa0bca6cde8",
   "metadata": {
    "tags": []
   },
   "outputs": [],
   "source": [
    "sleap_files = sorted(glob.glob(os.path.join(kpoint_dir, \"**\", f\"*{suffix}\"), recursive=True))"
   ]
  },
  {
   "cell_type": "code",
   "execution_count": 243,
   "id": "487297ad-c3cf-49be-a766-bab69262fd3a",
   "metadata": {
    "tags": []
   },
   "outputs": [
    {
     "data": {
      "text/plain": [
       "['/storage/home/hcoda1/4/jmarkowitz30/shared_folder/active_lab_members/markowitz_jeffrey/active_projects/keypoints_basler_nir_plexiglass_arena/keypoint_inference_kneejoints_export_fused_weights-(0.0, 1.0)_bpass-None/QD_knee_03_RECORDING 1-+1h_session_20240807185653-046788 (system76-pc)_camera-Basler-267601741000-24383488.predictions.round2_manual_labeling_nofluo.slp',\n",
       " '/storage/home/hcoda1/4/jmarkowitz30/shared_folder/active_lab_members/markowitz_jeffrey/active_projects/keypoints_basler_nir_plexiglass_arena/keypoint_inference_kneejoints_export_fused_weights-(0.0, 1.0)_bpass-None/QD_knee_03_RECORDING 1-+1h_session_20240807185653-046788 (system76-pc)_camera-Basler-267601746219-24404505.predictions.round2_manual_labeling_nofluo.slp',\n",
       " '/storage/home/hcoda1/4/jmarkowitz30/shared_folder/active_lab_members/markowitz_jeffrey/active_projects/keypoints_basler_nir_plexiglass_arena/keypoint_inference_kneejoints_export_fused_weights-(0.0, 1.0)_bpass-None/QD_knee_03_RECORDING 1-+1h_session_20240807185653-046788 (system76-pc)_camera-Basler-267601746223-24404515.predictions.round2_manual_labeling_nofluo.slp',\n",
       " '/storage/home/hcoda1/4/jmarkowitz30/shared_folder/active_lab_members/markowitz_jeffrey/active_projects/keypoints_basler_nir_plexiglass_arena/keypoint_inference_kneejoints_export_fused_weights-(0.0, 1.0)_bpass-None/QD_knee_03_RECORDING 1-+1h_session_20240807185653-046788 (system76-pc)_camera-Basler-26760175421F-24461855.predictions.round2_manual_labeling_nofluo.slp',\n",
       " '/storage/home/hcoda1/4/jmarkowitz30/shared_folder/active_lab_members/markowitz_jeffrey/active_projects/keypoints_basler_nir_plexiglass_arena/keypoint_inference_kneejoints_export_fused_weights-(0.0, 1.0)_bpass-None/QD_knee_03_RECORDING 1-+1h_session_20240807185653-046788 (system76-pc)_camera-Basler-2676017611A4-24514980.predictions.round2_manual_labeling_nofluo.slp',\n",
       " '/storage/home/hcoda1/4/jmarkowitz30/shared_folder/active_lab_members/markowitz_jeffrey/active_projects/keypoints_basler_nir_plexiglass_arena/keypoint_inference_kneejoints_export_fused_weights-(0.0, 1.0)_bpass-None/QD_knee_03_RECORDING 1-+24h_session_20240808150531-629291 (system76-pc)_camera-Basler-267601741000-24383488.predictions.round2_manual_labeling_nofluo.slp',\n",
       " '/storage/home/hcoda1/4/jmarkowitz30/shared_folder/active_lab_members/markowitz_jeffrey/active_projects/keypoints_basler_nir_plexiglass_arena/keypoint_inference_kneejoints_export_fused_weights-(0.0, 1.0)_bpass-None/QD_knee_03_RECORDING 1-+24h_session_20240808150531-629291 (system76-pc)_camera-Basler-267601746219-24404505.predictions.round2_manual_labeling_nofluo.slp',\n",
       " '/storage/home/hcoda1/4/jmarkowitz30/shared_folder/active_lab_members/markowitz_jeffrey/active_projects/keypoints_basler_nir_plexiglass_arena/keypoint_inference_kneejoints_export_fused_weights-(0.0, 1.0)_bpass-None/QD_knee_03_RECORDING 1-+24h_session_20240808150531-629291 (system76-pc)_camera-Basler-267601746223-24404515.predictions.round2_manual_labeling_nofluo.slp',\n",
       " '/storage/home/hcoda1/4/jmarkowitz30/shared_folder/active_lab_members/markowitz_jeffrey/active_projects/keypoints_basler_nir_plexiglass_arena/keypoint_inference_kneejoints_export_fused_weights-(0.0, 1.0)_bpass-None/QD_knee_03_RECORDING 1-+24h_session_20240808150531-629291 (system76-pc)_camera-Basler-26760175421F-24461855.predictions.round2_manual_labeling_nofluo.slp',\n",
       " '/storage/home/hcoda1/4/jmarkowitz30/shared_folder/active_lab_members/markowitz_jeffrey/active_projects/keypoints_basler_nir_plexiglass_arena/keypoint_inference_kneejoints_export_fused_weights-(0.0, 1.0)_bpass-None/QD_knee_03_RECORDING 1-+24h_session_20240808150531-629291 (system76-pc)_camera-Basler-2676017611A4-24514980.predictions.round2_manual_labeling_nofluo.slp',\n",
       " '/storage/home/hcoda1/4/jmarkowitz30/shared_folder/active_lab_members/markowitz_jeffrey/active_projects/keypoints_basler_nir_plexiglass_arena/keypoint_inference_kneejoints_export_fused_weights-(0.0, 1.0)_bpass-None/QD_knee_03_RECORDING 1-+48h_session_20240809150224-571873 (system76-pc)_camera-Basler-267601741000-24383488.predictions.round2_manual_labeling_nofluo.slp',\n",
       " '/storage/home/hcoda1/4/jmarkowitz30/shared_folder/active_lab_members/markowitz_jeffrey/active_projects/keypoints_basler_nir_plexiglass_arena/keypoint_inference_kneejoints_export_fused_weights-(0.0, 1.0)_bpass-None/QD_knee_03_RECORDING 1-+48h_session_20240809150224-571873 (system76-pc)_camera-Basler-267601746219-24404505.predictions.round2_manual_labeling_nofluo.slp',\n",
       " '/storage/home/hcoda1/4/jmarkowitz30/shared_folder/active_lab_members/markowitz_jeffrey/active_projects/keypoints_basler_nir_plexiglass_arena/keypoint_inference_kneejoints_export_fused_weights-(0.0, 1.0)_bpass-None/QD_knee_03_RECORDING 1-+48h_session_20240809150224-571873 (system76-pc)_camera-Basler-267601746223-24404515.predictions.round2_manual_labeling_nofluo.slp',\n",
       " '/storage/home/hcoda1/4/jmarkowitz30/shared_folder/active_lab_members/markowitz_jeffrey/active_projects/keypoints_basler_nir_plexiglass_arena/keypoint_inference_kneejoints_export_fused_weights-(0.0, 1.0)_bpass-None/QD_knee_03_RECORDING 1-+48h_session_20240809150224-571873 (system76-pc)_camera-Basler-26760175421F-24461855.predictions.round2_manual_labeling_nofluo.slp',\n",
       " '/storage/home/hcoda1/4/jmarkowitz30/shared_folder/active_lab_members/markowitz_jeffrey/active_projects/keypoints_basler_nir_plexiglass_arena/keypoint_inference_kneejoints_export_fused_weights-(0.0, 1.0)_bpass-None/QD_knee_03_RECORDING 1-+48h_session_20240809150224-571873 (system76-pc)_camera-Basler-2676017611A4-24514980.predictions.round2_manual_labeling_nofluo.slp']"
      ]
     },
     "execution_count": 243,
     "metadata": {},
     "output_type": "execute_result"
    }
   ],
   "source": [
    "sleap_files"
   ]
  },
  {
   "cell_type": "code",
   "execution_count": 244,
   "id": "c1397baa-c4e3-4c54-9f55-56c30207cb29",
   "metadata": {
    "tags": []
   },
   "outputs": [],
   "source": [
    "bground_path = \"_bground\""
   ]
  },
  {
   "cell_type": "code",
   "execution_count": 245,
   "id": "f5a847c3-c1b2-4b6e-96f0-444bfb3a3f9c",
   "metadata": {
    "tags": []
   },
   "outputs": [
    {
     "data": {
      "application/vnd.jupyter.widget-view+json": {
       "model_id": "2b367528145f4e258e276af965f47954",
       "version_major": 2,
       "version_minor": 0
      },
      "text/plain": [
       "  0%|          | 0/15 [00:00<?, ?it/s]"
      ]
     },
     "metadata": {},
     "output_type": "display_data"
    }
   ],
   "source": [
    "sleap_dcts = []\n",
    "for _sfile in tqdm(sleap_files):\n",
    "    metadata_fname = _sfile.replace(suffix, \".toml\")\n",
    "    metadata = toml.load(metadata_fname)\n",
    "    _file_dct = {}\n",
    "    _file_dct[\"sleap_fname\"] = _sfile\n",
    "    _tmp_fname = metadata[\"export_metadata\"][\"file\"].replace(\"-reflectance.avi\", \"-fluorescence.avi\")\n",
    "    _file_dct[\"fluo_fname\"] = os.path.join(root_dir, os.path.join(*_tmp_fname.split(os.sep)[-5:]))\n",
    "    fluo_basename = os.path.splitext(os.path.basename(_file_dct[\"fluo_fname\"]))[0]\n",
    "    fluo_dirname = os.path.dirname(_file_dct[\"fluo_fname\"])\n",
    "    bground_fname = os.path.join(fluo_dirname, bground_path, f\"{fluo_basename}.hdf5\")\n",
    "\n",
    "    _tmp_fname = metadata[\"export_metadata\"][\"file\"]\n",
    "    _file_dct[\"reflect_fname\"] = os.path.join(root_dir, os.path.join(*_tmp_fname.split(os.sep)[-5:]))\n",
    "    _file_dct[\"fluo_bground_fname\"] = bground_fname\n",
    "    _file_dct[\"kpoint_avi_fname\"] = _sfile.replace(suffix, \".avi\")\n",
    "    _file_dct[\"start_time\"] = metadata[\"export_metadata\"][\"original_metadata\"][\"start_time\"]\n",
    "    _file_dct[\"camera\"] = metadata[\"export_metadata\"][\"cam\"]\n",
    "    sleap_dcts.append(_file_dct)"
   ]
  },
  {
   "cell_type": "markdown",
   "id": "3202bf02-3cfb-4e44-9b63-a65561445790",
   "metadata": {},
   "source": [
    "TODO:\n",
    "\n",
    "1. hampel filter to rem any outliers (just replace with nan)\n",
    "1. light temporal smoothing (savgol or gauss)\n",
    "1. average pairwise distance to other keypoints..."
   ]
  },
  {
   "cell_type": "code",
   "execution_count": 246,
   "id": "8aa888be-a59c-4f76-bb27-02468e69cd25",
   "metadata": {
    "tags": []
   },
   "outputs": [],
   "source": [
    "if is_joint:\n",
    "    fluo_training_fname = os.path.join(root_dir, \"keypoints_basler_nir_plexiglass_arena/sleap_training_round2/_labels/basler-nir-plexiglass-arena-keypoints-fused-kneejoints_weights-(1.0, 0.0)_bpass-None.slp\")    \n",
    "else:\n",
    "    fluo_training_fname = os.path.join(root_dir, \"keypoints_basler_nir_plexiglass_arena/sleap_training_round2/_labels/basler-nir-plexiglass-arena-keypoints-fused-round2_weights-(1.0, 0.0)_bpass-None.slp\")"
   ]
  },
  {
   "cell_type": "code",
   "execution_count": 247,
   "id": "bd8c4e37-d617-41b1-9c09-ad85768f310e",
   "metadata": {
    "tags": []
   },
   "outputs": [],
   "source": [
    "fluo_labels = sio.load_slp(fluo_training_fname)"
   ]
  },
  {
   "cell_type": "code",
   "execution_count": 248,
   "id": "2013a50a-2f4a-4213-a5ad-b6fa0f7db355",
   "metadata": {
    "tags": []
   },
   "outputs": [],
   "source": [
    "save_fname = f\"kpoint_training_dataset_qd_alignment_\"\n",
    "\n",
    "if is_joint == 1:\n",
    "    save_fname += \"kneejoints_\"\n",
    "elif is_joint == 2:\n",
    "    save_fname += \"kneejoints_reflect_only_\"\n",
    "\n",
    "save_fname += suffix.split(\".\")[-2]\n",
    "save_fname += f\"_version-{use_version}\"\n",
    "save_fname += \".parquet\"\n",
    "save_path = os.path.join(config[\"dirs\"][\"analysis\"], save_fname)"
   ]
  },
  {
   "cell_type": "code",
   "execution_count": 250,
   "id": "fc5d45e5-bfac-4e55-bcfc-53a4b248a447",
   "metadata": {
    "tags": []
   },
   "outputs": [],
   "source": [
    "delays = []\n",
    "for _dct in sleap_dcts:\n",
    "    if \"_weights-None\" not in _dct[\"kpoint_avi_fname\"]:\n",
    "        use_fluo = _dct[\"kpoint_avi_fname\"].replace(\"_weights-(0.0, 1.0)\",\"_weights-None\")\n",
    "    else:\n",
    "        use_fluo = _dct[\"kpoint_avi_fname\"]\n",
    "    _delay = delayed(get_kpoint_qd_df)(\n",
    "        sleap_fname=_dct[\"sleap_fname\"],\n",
    "        fluo_fname=use_fluo,\n",
    "        # fluo_bground_fname=_dct[\"fluo_bground_fname\"],\n",
    "        start_time=_dct[\"start_time\"],\n",
    "        kpoint_avi_fname=_dct[\"kpoint_avi_fname\"],\n",
    "        camera=_dct[\"camera\"],\n",
    "        search_radius=10,\n",
    "        crop_radius=15,\n",
    "        force=False,\n",
    "        batch_size=500,\n",
    "        # confidence_threshold=0 if \"joint\" in base_dir else 0,\n",
    "    )\n",
    "    delays.append(_delay)"
   ]
  },
  {
   "cell_type": "code",
   "execution_count": 251,
   "id": "a3fc0a42-0af0-4917-9137-39954ff01341",
   "metadata": {
    "tags": []
   },
   "outputs": [
    {
     "name": "stderr",
     "output_type": "stream",
     "text": [
      "[Parallel(n_jobs=10)]: Using backend LokyBackend with 10 concurrent workers.\n",
      "[Parallel(n_jobs=10)]: Done   2 out of  15 | elapsed:    7.6s remaining:   49.2s\n",
      "[Parallel(n_jobs=10)]: Done   4 out of  15 | elapsed:    9.6s remaining:   26.3s\n",
      "[Parallel(n_jobs=10)]: Done   6 out of  15 | elapsed:   11.6s remaining:   17.4s\n",
      "[Parallel(n_jobs=10)]: Done   8 out of  15 | elapsed:   13.2s remaining:   11.6s\n",
      "[Parallel(n_jobs=10)]: Done  10 out of  15 | elapsed:   15.1s remaining:    7.6s\n",
      "[Parallel(n_jobs=10)]: Done  12 out of  15 | elapsed:   16.8s remaining:    4.2s\n",
      "[Parallel(n_jobs=10)]: Done  15 out of  15 | elapsed:   19.4s finished\n"
     ]
    }
   ],
   "source": [
    "# run this on a small subset of the data to test the impact of robust centroid detection...\n",
    "if not os.path.exists(save_path) or force:\n",
    "    dat = Parallel(n_jobs=10, verbose=10, backend=\"loky\")(delays)\n",
    "    fluo_key = {}\n",
    "    reflect_key = {}\n",
    "    for _dct in sleap_dcts:\n",
    "        fluo_key[_dct[\"kpoint_avi_fname\"]] = _dct[\"fluo_fname\"]\n",
    "        reflect_key[_dct[\"kpoint_avi_fname\"]] = _dct[\"reflect_fname\"]\n",
    "\n",
    "    qd_df = pd.concat(dat, ignore_index=True)\n",
    "    qd_df[\"reflect_file\"] = qd_df[\"kpoint_avi_fname\"].map(reflect_key)\n",
    "    qd_df[\"fluo_file\"] = qd_df[\"kpoint_avi_fname\"].map(fluo_key)\n",
    "    qd_df.to_parquet(save_path)\n",
    "else:\n",
    "    qd_df = pd.read_parquet(save_path)"
   ]
  },
  {
   "cell_type": "code",
   "execution_count": 252,
   "id": "4e62692b-9fd7-4b0a-ab15-bb1a958b5a3d",
   "metadata": {
    "tags": []
   },
   "outputs": [],
   "source": [
    "client = SegmentsClient(os.getenv(\"SEGMENTSAPI\"))"
   ]
  },
  {
   "cell_type": "code",
   "execution_count": 253,
   "id": "381e301d-3421-478b-a2e3-4db1d9ad418d",
   "metadata": {
    "tags": []
   },
   "outputs": [],
   "source": [
    "if is_joint:\n",
    "    dataset_name = \"jmarkow/basler-nir-plexiglass-arena-keypoints-fused-kneejoints\"\n",
    "else:\n",
    "    dataset_name = \"jmarkow/basler-nir-plexiglass-arena-keypoints-fused-round2\"\n",
    "samples = client.get_samples(dataset_name, per_page=10000, label_status=[\"LABELED\",\"REVIEWED\"])\n",
    "pre_segments_labels = [(client.get_label(_sample.uuid), _sample) for _sample in samples]"
   ]
  },
  {
   "cell_type": "code",
   "execution_count": 254,
   "id": "1d8317dc-6c37-4d72-8605-6668193d0c59",
   "metadata": {
    "tags": []
   },
   "outputs": [],
   "source": [
    "if is_joint:\n",
    "    old_labels_fname = os.path.join(root_dir, \"keypoints_basler_nir_plexiglass_arena/sleap_training/_labels/train_frames_kneejoints_fused_weights-None_bpass-None.slp\")\n",
    "else:\n",
    "    old_labels_fname = os.path.join(root_dir, \"keypoints_basler_nir_plexiglass_arena/sleap_training_round2/_labels/basler-nir-plexiglass-arena-keypoints-fused-round2_weights-(0.0, 1.0)_bpass-None_fluo-aligned.slp\")"
   ]
  },
  {
   "cell_type": "code",
   "execution_count": 255,
   "id": "4deb5ded-ac89-43f5-9a22-5981d4ac853e",
   "metadata": {
    "tags": []
   },
   "outputs": [],
   "source": [
    "use_skeleton = sio.load_file(old_labels_fname).skeleton"
   ]
  },
  {
   "cell_type": "code",
   "execution_count": 256,
   "id": "a854ff18-6981-483d-95a3-0ba4ba6712e9",
   "metadata": {
    "tags": []
   },
   "outputs": [],
   "source": [
    "# map to idx \n",
    "kpoint_idx_mapping = {key: i for i, key in enumerate(sorted(qd_df[\"kpoint_name\"].unique()))}\n",
    "idx_kpoint_mapping = {v: k for k, v in kpoint_idx_mapping.items()}"
   ]
  },
  {
   "cell_type": "code",
   "execution_count": 257,
   "id": "484b7bd3-717c-4965-bd6a-a08b3545889e",
   "metadata": {
    "tags": []
   },
   "outputs": [],
   "source": [
    "n_nodes = len(kpoint_idx_mapping)"
   ]
  },
  {
   "cell_type": "markdown",
   "id": "ac24b40e-29a5-44cb-82ef-2a2dd476ca82",
   "metadata": {},
   "source": [
    "# Load in from parquet, make sure we didn't drop any kpoints due to confidence thresholding, etc."
   ]
  },
  {
   "cell_type": "code",
   "execution_count": 258,
   "id": "7d9842c4-09ab-4d68-8b51-5489882ce705",
   "metadata": {
    "tags": []
   },
   "outputs": [],
   "source": [
    "tqdm.pandas()"
   ]
  },
  {
   "cell_type": "code",
   "execution_count": 259,
   "id": "37281a02-a9ba-46bf-a359-e4f3335b9370",
   "metadata": {
    "tags": []
   },
   "outputs": [
    {
     "data": {
      "application/vnd.jupyter.widget-view+json": {
       "model_id": "37dda025dad94984a50589921850b5d2",
       "version_major": 2,
       "version_minor": 0
      },
      "text/plain": [
       "  0%|          | 0/247698 [00:00<?, ?it/s]"
      ]
     },
     "metadata": {},
     "output_type": "display_data"
    }
   ],
   "source": [
    "qd_df[\"kpoint_com_gauss_gt_l2\"] = qd_df.progress_apply(\n",
    "    lambda x: get_l2_norm(x, x1=\"kpoint_x\", y1=\"kpoint_y\"), axis=1\n",
    ")"
   ]
  },
  {
   "cell_type": "code",
   "execution_count": 260,
   "id": "9c8131e7-a1be-4041-bf45-6cf988e2d2e3",
   "metadata": {
    "tags": []
   },
   "outputs": [],
   "source": [
    "# lo thresholds are basic thresholds to ensure the point is visible\n",
    "# confidence_threshold_lo = .25 # below this is likely not visible\n",
    "# was previously .6 for joints...\n",
    "\n",
    "# anything above this is a PLAUSIBLE KEYPOINT\n",
    "params = {}\n",
    "params[\"confidence_threshold_visible\"] = 0.2\n",
    "\n",
    "params[\"confidence_threshold_hi\"] = 1  # v2\n",
    "params[\"fluo_threshold_hi\"] = 25  # since we have high probability, fluorescence threshold is lower\n",
    "params[\"l2_threshold_hi\"] = 5  # should be closer to fiducial in theory\n",
    "\n",
    "if is_joint:\n",
    "    params[\"confidence_threshold_lo\"] = 0.5\n",
    "else:\n",
    "    params[\"confidence_threshold_lo\"] = 0.7  # v1, crank this up and allow for more drops\n",
    "params[\"l2_threshold_lo\"] = 15  # low confidence max dist\n",
    "params[\"fluo_threshold_lo\"] = 75  # we need more fluo is confidence is low\n",
    "\n",
    "# common thresholds\n",
    "params[\"l2_diff_threshold\"] = 30  # if l2 across adjacent frames exceeds this toss it\n",
    "\n",
    "if is_joint:\n",
    "    params[\"min_kpoints\"] = 1\n",
    "elif use_version == \"v1\":\n",
    "    params[\"min_kpoints\"] = 3\n",
    "else:\n",
    "    params[\"min_kpoints\"] = 4\n",
    "\n",
    "params[\"pca_zscore\"] = True  # zscore instead of just center?\n",
    "if use_version == \"v1\":\n",
    "    params[\"pca_dist_threshold_quantile\"] = 0.95  # v2\n",
    "    params[\"pca_recon_threshold_quantile\"] = 0.95  # v2\n",
    "else:\n",
    "    params[\"pca_dist_threshold_quantile\"] = 0.9  # v1\n",
    "    params[\"pca_recon_threshold_quantile\"] = 0.9  # v1\n",
    "\n",
    "# pca_dist_threshold_quantile = .95 #v1\n",
    "# pca_recon_threshold_quantile = .95 #v1\n",
    "\n",
    "params[\"pca_threshold_mse_target\"] = 0.9  # x% reduction in MSE to decide ncomponents to retain\n",
    "params[\"pca_threshold_scree_target\"] = 0.9  # x% cumulative variance explained to decide ncomponents to retain\n",
    "params[\"pairwise_distance_threshold\"] = 300  # no pair of points can exceed X pixels\n",
    "params[\"dropped_kpoints_lo\"] = 0.75\n",
    "params[\"dropped_kpoints_hi\"] = 3\n",
    "# hampel_params = {\n",
    "#     \"window\": 10,\n",
    "#     \"min_periods\": 10,\n",
    "#     \"threshold\": 6,\n",
    "#     \"replace\": False,\n",
    "# }\n",
    "# gaussian_params = {\n",
    "#     \"window\": 5,\n",
    "#     \"min_periods\": 5,\n",
    "#     \"center\": True,\n",
    "#     \"win_type\": \"gaussian\",\n",
    "# }\n",
    "# gaussian_smooth = {\n",
    "#     \"std\": .75,\n",
    "# }\n",
    "params[\"hampel_params\"] = None\n",
    "params[\"gaussian_params\"] = None  # skip temporal smoothing"
   ]
  },
  {
   "cell_type": "code",
   "execution_count": 261,
   "id": "4b4d9197-1c80-4424-846e-0e6f370fcb0a",
   "metadata": {
    "tags": []
   },
   "outputs": [],
   "source": [
    "params[\"interpolate_params\"] = {\n",
    "    \"method\": \"slinear\",\n",
    "    \"limit_direction\": \"both\",\n",
    "    \"limit_area\": \"inside\",\n",
    "    \"limit\": 3,\n",
    "}"
   ]
  },
  {
   "cell_type": "code",
   "execution_count": 262,
   "id": "e6049605-8f20-40f5-a791-992ca68f74dd",
   "metadata": {
    "tags": []
   },
   "outputs": [],
   "source": [
    "kpoint_keys = [\"kpoint_use_x\", \"kpoint_use_y\"]\n",
    "qd_df[\"kpoint_use_x\"] = qd_df[\"kpoint_com_gauss_x\"].copy()\n",
    "qd_df[\"kpoint_use_y\"] = qd_df[\"kpoint_com_gauss_y\"].copy()"
   ]
  },
  {
   "cell_type": "code",
   "execution_count": 263,
   "id": "0901f4c4-a56e-4284-a880-b6382d552372",
   "metadata": {
    "tags": []
   },
   "outputs": [
    {
     "data": {
      "application/vnd.jupyter.widget-view+json": {
       "model_id": "0eca67f504d3442d9dd9272435576bf6",
       "version_major": 2,
       "version_minor": 0
      },
      "text/plain": [
       "  0%|          | 0/123849 [00:00<?, ?it/s]"
      ]
     },
     "metadata": {},
     "output_type": "display_data"
    }
   ],
   "source": [
    "qd_df[\"kpoint_idx\"] = qd_df[\"kpoint_name\"].map(kpoint_idx_mapping)\n",
    "arrays = qd_df.groupby([\"kpoint_avi_fname\", \"frame_index\"]).progress_apply(\n",
    "    lambda x: convert_to_point_array(x, n_nodes=n_nodes), include_groups=False\n",
    ")"
   ]
  },
  {
   "cell_type": "code",
   "execution_count": 264,
   "id": "99688731-969c-435d-ba3c-bafb1a318841",
   "metadata": {
    "tags": []
   },
   "outputs": [
    {
     "data": {
      "application/vnd.jupyter.widget-view+json": {
       "model_id": "cffd5a24f8b2434582f1e9e78b75b515",
       "version_major": 2,
       "version_minor": 0
      },
      "text/plain": [
       "  0%|          | 0/247698 [00:00<?, ?it/s]"
      ]
     },
     "metadata": {},
     "output_type": "display_data"
    },
    {
     "data": {
      "application/vnd.jupyter.widget-view+json": {
       "model_id": "47ca9297d54a4ccdb08ef60798d23e23",
       "version_major": 2,
       "version_minor": 0
      },
      "text/plain": [
       "  0%|          | 0/247698 [00:00<?, ?it/s]"
      ]
     },
     "metadata": {},
     "output_type": "display_data"
    }
   ],
   "source": [
    "kpoint_fwd_diff_keys = [f\"{_}_fwd_diff\" for _ in kpoint_keys]\n",
    "kpoint_rev_diff_keys = [f\"{_}_rev_diff\" for _ in kpoint_keys]\n",
    "\n",
    "# this is overkill, skip...\n",
    "if params[\"hampel_params\"] is not None:\n",
    "    qd_df[kpoint_keys] = qd_df.groupby([\"kpoint_avi_fname\", \"kpoint_name\"])[\n",
    "        kpoint_keys\n",
    "    ].transform(lambda x: hampel(x, **params[\"hampel_params\"]))\n",
    "    qd_df[kpoint_keys] = qd_df[kpoint_keys].interpolate(**params[\"interpolate_params\"])\n",
    "\n",
    "if params[\"gaussian_params\"] is not None:\n",
    "    qd_df[kpoint_keys] = qd_df.groupby([\"kpoint_avi_fname\", \"kpoint_name\"])[\n",
    "        kpoint_keys\n",
    "    ].transform(lambda x: x.rolling(**params[\"gaussian_params\"]).mean(**params[\"gaussian_smooth\"]))\n",
    "\n",
    "\n",
    "# use aggressive interpolation for computing diff...\n",
    "qd_df[kpoint_fwd_diff_keys] = qd_df.groupby([\"kpoint_avi_fname\",\"kpoint_name\"])[kpoint_keys].transform(lambda x: x.ffill().diff(periods=1))\n",
    "qd_df[kpoint_rev_diff_keys] = qd_df.groupby([\"kpoint_avi_fname\",\"kpoint_name\"])[kpoint_keys].transform(lambda x: x.ffill().diff(periods=-1))\n",
    "qd_df[\"kpoint_use_fwd_diff_l2\"] = qd_df[kpoint_fwd_diff_keys].progress_apply(\n",
    "    lambda x: get_l2_norm_diffs(x, *kpoint_fwd_diff_keys), axis=1\n",
    ")\n",
    "qd_df[\"kpoint_use_rev_diff_l2\"] = qd_df[kpoint_rev_diff_keys].progress_apply(\n",
    "    lambda x: get_l2_norm_diffs(x, *kpoint_rev_diff_keys), axis=1\n",
    ")\n",
    "qd_df[\"kpoint_use_diff_l2\"] = qd_df[[\"kpoint_use_fwd_diff_l2\",\"kpoint_use_rev_diff_l2\"]].mean(axis=1)"
   ]
  },
  {
   "cell_type": "code",
   "execution_count": 265,
   "id": "f1b14d06-3735-436a-8fa3-77f2cddc61f9",
   "metadata": {
    "tags": []
   },
   "outputs": [],
   "source": [
    "if not is_joint:\n",
    "    arrays_reshape = arrays.apply(lambda x: x.reshape(1, -1)).rename(\"array\").reset_index()\n",
    "    pca_metrics = arrays_reshape.groupby(\"kpoint_avi_fname\")[\"array\"].apply(\n",
    "        lambda x: get_pca_metrics(x, zscore=params[\"pca_zscore\"]), include_groups=False\n",
    "    )\n",
    "\n",
    "    scree_optimum = [np.argmax(_metrics[0] > params[\"pca_threshold_scree_target\"]) + 1 for _metrics in pca_metrics]\n",
    "    mse_optimum = [\n",
    "        np.argmax(((_metrics[1][0] - _metrics[1]) / _metrics[1][0]) > params[\"pca_threshold_mse_target\"]) + 1\n",
    "        for _metrics in pca_metrics\n",
    "    ]\n",
    "\n",
    "    params[\"pca_use_k\"] = int(np.median(mse_optimum))\n",
    "\n",
    "    print(f\"Will use {params['pca_use_k']} PCA components for anomaly detection\")\n",
    "\n",
    "    pca_dist = (\n",
    "        arrays_reshape.groupby(\"kpoint_avi_fname\")[\"array\"]\n",
    "        .apply(\n",
    "            lambda x: get_topk_pca_diff(x, k=params[\"pca_use_k\"], zscore=params[\"pca_zscore\"]),\n",
    "            include_groups=False,\n",
    "        )\n",
    "        .rename(\"pca_dist\")\n",
    "    )\n",
    "    pca_dist.index = pca_dist.index.get_level_values(-1)\n",
    "    pca_recon_error = (\n",
    "        arrays_reshape.groupby(\"kpoint_avi_fname\")[\"array\"]\n",
    "        .apply(\n",
    "            lambda x: get_topk_pca_recon_error(x, k=params[\"pca_use_k\"], zscore=params[\"pca_zscore\"]),\n",
    "            include_groups=False,\n",
    "        )\n",
    "        .rename(\"pca_recon_error\")\n",
    "    )\n",
    "    pca_recon_error.index = pca_recon_error.index.get_level_values(-1)\n",
    "    arrays_reshape[\"pca_dist\"] = pca_dist\n",
    "    arrays_reshape[\"pca_recon_error\"] = pca_recon_error\n",
    "    arrays_reshape = arrays_reshape.drop(\"array\", axis=1)\n",
    "\n",
    "    pca_dist_threshold = pca_dist.quantile(params[\"pca_dist_threshold_quantile\"])\n",
    "    pca_recon_threshold = pca_recon_error.quantile(params[\"pca_recon_threshold_quantile\"])\n",
    "\n",
    "    if \"pca_dist\" not in qd_df.columns:\n",
    "        qd_df = pd.merge(qd_df, arrays_reshape, on=[\"frame_index\", \"kpoint_avi_fname\"])\n",
    "    else:\n",
    "        qd_df = qd_df.drop([\"pca_dist\", \"pca_recon_error\"], axis=1)\n",
    "        qd_df = pd.merge(qd_df, arrays_reshape, on=[\"frame_index\", \"kpoint_avi_fname\"])"
   ]
  },
  {
   "cell_type": "code",
   "execution_count": 266,
   "id": "b09fae50-a995-434f-ad58-c1bbe67adc5f",
   "metadata": {
    "tags": []
   },
   "outputs": [],
   "source": [
    "distance_threshold = adaptive_threshold(\n",
    "    qd_df[\"kpoint_score\"],\n",
    "    low_thresh=params[\"confidence_threshold_lo\"],\n",
    "    high_thresh=params[\"confidence_threshold_hi\"],\n",
    "    low_x=params[\"l2_threshold_lo\"],\n",
    "    high_x=params[\"l2_threshold_hi\"],\n",
    ")\n",
    "fluo_threshold = adaptive_threshold(\n",
    "    qd_df[\"kpoint_score\"],\n",
    "    low_thresh=params[\"confidence_threshold_lo\"],\n",
    "    high_thresh=params[\"confidence_threshold_hi\"],\n",
    "    low_x=params[\"fluo_threshold_lo\"],\n",
    "    high_x=params[\"fluo_threshold_hi\"],\n",
    ")"
   ]
  },
  {
   "cell_type": "code",
   "execution_count": 267,
   "id": "de260a8f-1869-4b00-aa3c-ee3f0b274b94",
   "metadata": {
    "tags": []
   },
   "outputs": [],
   "source": [
    "qd_df[\"distance_threshold\"] = distance_threshold\n",
    "qd_df[\"fluo_threshold\"] = fluo_threshold"
   ]
  },
  {
   "cell_type": "code",
   "execution_count": 268,
   "id": "4c4fd0f3-c86d-4353-90a5-69ab65d98c22",
   "metadata": {
    "tags": []
   },
   "outputs": [
    {
     "name": "stdout",
     "output_type": "stream",
     "text": [
      "n(frames) prior to kpoint drop filter: 22546\n",
      "n(frames) after kpoint drop filter: 22546\n"
     ]
    }
   ],
   "source": [
    "if use_version == \"v1\":\n",
    "    include_pca_null = False\n",
    "    condition1 = \"(kpoint_score > @params['confidence_threshold_visible'])\"\n",
    "    if not is_joint:\n",
    "        condition1 += \" and ((~pca_dist.isnull() and pca_dist < @pca_dist_threshold)\"\n",
    "        if include_pca_null:\n",
    "            condition1 += \" or (pca_dist.isnull())\"\n",
    "        else:\n",
    "            condition1 += \")\"\n",
    "        condition1 += \" and ((~pca_recon_error.isnull() and pca_recon_error < @pca_recon_threshold)\"\n",
    "        if include_pca_null:\n",
    "            condition1 += \" or (pca_recon_error.isnull())\"\n",
    "        else:\n",
    "            condition1 += \")\"\n",
    "\n",
    "    condition2 = \"(kpoint_score > @params['confidence_threshold_lo'])\"\n",
    "    condition2 += \" and (kpoint_com_gauss_gt_l2 < distance_threshold)\"\n",
    "    condition2 += \" and (kpoint_amplitude_gauss > fluo_threshold)\"\n",
    "    condition2 += \" and (kpoint_use_diff_l2 < @params['l2_diff_threshold'])\"\n",
    "\n",
    "    filtered_qd_df = qd_df.query(condition1).copy()\n",
    "    filtered_qd_df = filtered_qd_df.dropna(subset=[\"kpoint_x\", \"kpoint_y\"])\n",
    "    # frame_nkpoints1 = filtered_qd_df.groupby([\"kpoint_avi_fname\", \"frame_index\"]).size()\n",
    "\n",
    "    frame_nkpoints1 = filtered_qd_df.groupby([\"kpoint_avi_fname\", \"frame_index\"]).size().rename(\"visible_kpoints\")\n",
    "    filtered_qd_df = pd.merge(filtered_qd_df, frame_nkpoints1, on=frame_nkpoints1.index.names)\n",
    "\n",
    "    filtered_qd_df = filtered_qd_df.dropna(subset=kpoint_keys)\n",
    "    filtered_qd_df = filtered_qd_df.query(condition2)\n",
    "    # if not is_joint:\n",
    "    #     filtered_qd_df = filtered_qd_df.groupby([\"kpoint_avi_fname\", \"frame_index\"]).filter(tail_filter)\n",
    "    frame_nkpoints2 = filtered_qd_df.groupby([\"kpoint_avi_fname\", \"frame_index\"]).size().rename(\"trusted_kpoints\")\n",
    "    filtered_qd_df = pd.merge(filtered_qd_df, frame_nkpoints2, on=frame_nkpoints2.index.names)\n",
    "\n",
    "    filtered_qd_df[\"dropped_kpoints\"] = filtered_qd_df[\"visible_kpoints\"] - filtered_qd_df[\"trusted_kpoints\"]\n",
    "    dropped_threshold = adaptive_threshold(\n",
    "        filtered_qd_df[\"visible_kpoints\"],\n",
    "        low_thresh=params[\"min_kpoints\"],\n",
    "        high_thresh=n_nodes,\n",
    "        low_x=params[\"dropped_kpoints_lo\"],\n",
    "        high_x=params[\"dropped_kpoints_hi\"],\n",
    "    )\n",
    "\n",
    "    filtered_qd_df[\"dropped_kpoint_threshold\"] = dropped_threshold\n",
    "\n",
    "    nframes = len(filtered_qd_df.drop_duplicates([\"kpoint_avi_fname\", \"frame_index\"]))\n",
    "    print(f\"n(frames) prior to kpoint drop filter: {nframes}\")\n",
    "\n",
    "    filtered_qd_df = filtered_qd_df.query(\"dropped_kpoints <= dropped_kpoint_threshold\")\n",
    "    filtered_qd_df = filtered_qd_df.groupby([\"kpoint_avi_fname\", \"frame_index\"]).filter(\n",
    "        lambda x: len(x) >= params[\"min_kpoints\"]\n",
    "    )\n",
    "\n",
    "    nframes = len(filtered_qd_df.drop_duplicates([\"kpoint_avi_fname\", \"frame_index\"]))\n",
    "    print(f\"n(frames) after kpoint drop filter: {nframes}\")\n",
    "else:\n",
    "    include_pca_null = False\n",
    "    if not is_joint:\n",
    "        condition1 = \" ((~pca_dist.isnull() and pca_dist < @pca_dist_threshold)\"\n",
    "        if include_pca_null:\n",
    "            condition1 += \" or (pca_dist.isnull())\"\n",
    "        else:\n",
    "            condition1 += \")\"\n",
    "        condition1 += \" and ((~pca_recon_error.isnull() and pca_recon_error < @pca_recon_threshold)\"\n",
    "        if include_pca_null:\n",
    "            condition1 += \" or (pca_recon_error.isnull())\"\n",
    "        else:\n",
    "            condition1 += \")\"\n",
    "\n",
    "    condition2 = \"(kpoint_score > @params['confidence_threshold_lo'])\"\n",
    "    condition2 += \" and (kpoint_com_gauss_gt_l2 < distance_threshold)\"\n",
    "    condition2 += \" and (kpoint_amplitude_gauss > fluo_threshold)\"\n",
    "    condition2 += \" and (kpoint_use_diff_l2 < @params['l2_diff_threshold'])\"\n",
    "\n",
    "    filtered_qd_df = qd_df.query(condition1).copy()\n",
    "    filtered_qd_df = filtered_qd_df.dropna(subset=[\"kpoint_x\", \"kpoint_y\"])\n",
    "    filtered_qd_df = filtered_qd_df.query(condition2)\n",
    "\n",
    "    nframes = len(filtered_qd_df.drop_duplicates([\"kpoint_avi_fname\", \"frame_index\"]))\n",
    "    print(f\"n(frames) prior to kpoint drop filter: {nframes}\")\n",
    "\n",
    "    filtered_qd_df = filtered_qd_df.groupby([\"kpoint_avi_fname\", \"frame_index\"]).filter(\n",
    "        lambda x: len(x) >= params[\"min_kpoints\"]\n",
    "    )\n",
    "\n",
    "    nframes = len(filtered_qd_df.drop_duplicates([\"kpoint_avi_fname\", \"frame_index\"]))\n",
    "    print(f\"n(frames) after kpoint drop filter: {nframes}\")"
   ]
  },
  {
   "cell_type": "markdown",
   "id": "3d2d3784-fedc-4838-9b06-4dd70369d24f",
   "metadata": {},
   "source": [
    "# Make new training file"
   ]
  },
  {
   "cell_type": "code",
   "execution_count": 269,
   "id": "2529e63a-4588-4cb5-ad66-02f76165b09b",
   "metadata": {
    "tags": []
   },
   "outputs": [],
   "source": [
    "use_vid_key = \"reflect_file\""
   ]
  },
  {
   "cell_type": "code",
   "execution_count": 270,
   "id": "24048aa0-79a2-481e-8e09-15605e2fd9f1",
   "metadata": {
    "tags": []
   },
   "outputs": [
    {
     "data": {
      "application/vnd.jupyter.widget-view+json": {
       "model_id": "ea7a7f8fcefb4f3da7b8300d196d9300",
       "version_major": 2,
       "version_minor": 0
      },
      "text/plain": [
       "  0%|          | 0/22546 [00:00<?, ?it/s]"
      ]
     },
     "metadata": {},
     "output_type": "display_data"
    }
   ],
   "source": [
    "filtered_arrays = filtered_qd_df.groupby([use_vid_key, \"camera\", \"frame_index\"]).progress_apply(\n",
    "    lambda x: convert_to_point_array(x, n_nodes=n_nodes), include_groups=False\n",
    ")\n"
   ]
  },
  {
   "cell_type": "code",
   "execution_count": 271,
   "id": "05a24a4f-7eaf-4366-a764-6ff2280a8e36",
   "metadata": {
    "tags": []
   },
   "outputs": [],
   "source": [
    "if not is_joint:\n",
    "    # maybe smarter way is to use hampel filter on these distances...\n",
    "    dists = [~(pdist(_array) > params[\"pairwise_distance_threshold\"]).any() for _array in tqdm(filtered_arrays)]\n",
    "    include_arrays = np.flatnonzero(dists)\n",
    "    filtered_arrays = filtered_arrays.iloc[include_arrays]\n",
    "    print(len(filtered_arrays))"
   ]
  },
  {
   "cell_type": "code",
   "execution_count": 272,
   "id": "4b0f0e43-970f-4bb4-916d-5b9e597a6ea5",
   "metadata": {
    "tags": []
   },
   "outputs": [],
   "source": [
    "uniq_videos = sorted(set([_key[0] for _key, _arr in filtered_arrays.items()]))"
   ]
  },
  {
   "cell_type": "code",
   "execution_count": 273,
   "id": "10b92d73-597d-4aa9-a2e2-726b19f18147",
   "metadata": {
    "tags": []
   },
   "outputs": [],
   "source": [
    "videos = {}\n",
    "for _vid in uniq_videos:\n",
    "    videos[_vid] = sio.Video.from_filename(_vid)"
   ]
  },
  {
   "cell_type": "code",
   "execution_count": 274,
   "id": "0e047f73-b700-4555-828a-906883fceb35",
   "metadata": {
    "tags": []
   },
   "outputs": [],
   "source": [
    "key_names = list(filtered_arrays.index.names)"
   ]
  },
  {
   "cell_type": "code",
   "execution_count": 275,
   "id": "9b19062a-f37b-4b80-9490-61eadebb0a19",
   "metadata": {
    "tags": []
   },
   "outputs": [
    {
     "data": {
      "text/plain": [
       "{0: 'knee_L', 1: 'knee_R'}"
      ]
     },
     "execution_count": 275,
     "metadata": {},
     "output_type": "execute_result"
    }
   ],
   "source": [
    "idx_kpoint_mapping"
   ]
  },
  {
   "cell_type": "code",
   "execution_count": 276,
   "id": "b42606d1-a100-4d51-a27d-c79eab511139",
   "metadata": {
    "tags": []
   },
   "outputs": [
    {
     "data": {
      "application/vnd.jupyter.widget-view+json": {
       "model_id": "59306d0af15e491a9aeb3da78370fae1",
       "version_major": 2,
       "version_minor": 0
      },
      "text/plain": [
       "  0%|          | 0/22546 [00:00<?, ?it/s]"
      ]
     },
     "metadata": {},
     "output_type": "display_data"
    }
   ],
   "source": [
    "all_labeled_frames = []\n",
    "all_labeled_frames_metadata = []\n",
    "for _mdata, _arr in tqdm(filtered_arrays.items(), total=len(filtered_arrays)):\n",
    "    use_points = {}\n",
    "    mdict = {k: v for k, v in zip(key_names, _mdata)}\n",
    "    for i, _point in enumerate(_arr):\n",
    "        x, y = _point\n",
    "        name = idx_kpoint_mapping[i]\n",
    "        use_points[name] = sio.Point(x=x, y=y, visible=True, complete=True)\n",
    "    if len(use_points) > 0:\n",
    "        instance = sio.Instance(skeleton=use_skeleton, points=use_points)\n",
    "        labeled_frame = sio.LabeledFrame(\n",
    "            video=videos[mdict[use_vid_key]], instances=[instance], frame_idx=mdict[\"frame_index\"]\n",
    "        )\n",
    "        all_labeled_frames.append(labeled_frame)\n",
    "        all_labeled_frames_metadata.append(mdict)"
   ]
  },
  {
   "cell_type": "code",
   "execution_count": 277,
   "id": "175806ae-4df0-45c6-adfc-fd8b92288fc6",
   "metadata": {
    "tags": []
   },
   "outputs": [],
   "source": [
    "nlabeled_frames = len(all_labeled_frames)"
   ]
  },
  {
   "cell_type": "code",
   "execution_count": 278,
   "id": "b9da450f-a092-461f-8f1b-01541aac9007",
   "metadata": {
    "tags": []
   },
   "outputs": [
    {
     "data": {
      "application/vnd.jupyter.widget-view+json": {
       "model_id": "c4450b00a2a8472baa9e1e4c6a5d867c",
       "version_major": 2,
       "version_minor": 0
      },
      "text/plain": [
       "  0%|          | 0/22546 [00:00<?, ?it/s]"
      ]
     },
     "metadata": {},
     "output_type": "display_data"
    }
   ],
   "source": [
    "keep_idxs = []\n",
    "for i, _labeled_frame in tqdm(enumerate(all_labeled_frames), total=len(all_labeled_frames)):\n",
    "    chk_file = _labeled_frame.video.filename\n",
    "    chk_string = f\"{os.sep}\".join(chk_file.split(os.sep)[-3:]) # last three ropes in session name\n",
    "    chk_frame_idx = int(_labeled_frame.frame_idx)\n",
    "    keep = True\n",
    "    for (_label, _sample) in pre_segments_labels:\n",
    "        match_string = f\"{os.sep}\".join(_sample.metadata[\"dat_path_reflect\"].split(os.sep)[-3:]) # last three ropes in session name\n",
    "        match_frame_idx = int(_sample.metadata[\"frame_index\"])\n",
    "        frame_distance = np.abs(match_frame_idx - chk_frame_idx)\n",
    "        # if files match we need to be N frames away to keep\n",
    "        if (match_string == chk_string) and (frame_distance < 10):\n",
    "            keep = False\n",
    "            break\n",
    "    # if a match was never found let's keep it!\n",
    "    if keep:\n",
    "        keep_idxs.append(i)"
   ]
  },
  {
   "cell_type": "code",
   "execution_count": 279,
   "id": "15245383-cc8c-4f33-b874-0b719a72fcd3",
   "metadata": {
    "tags": []
   },
   "outputs": [],
   "source": [
    "# save off metadata as toml, easy loading for training functions..."
   ]
  },
  {
   "cell_type": "code",
   "execution_count": 280,
   "id": "74734c58-9986-4053-9745-33cc60aacf4f",
   "metadata": {
    "tags": []
   },
   "outputs": [],
   "source": [
    "all_labeled_frames_nomatch = [all_labeled_frames[i] for i in keep_idxs]\n",
    "all_labeled_frames_metadata_nomatch = [all_labeled_frames_metadata[i] for i in keep_idxs]\n",
    "nlabeled_frames = len(all_labeled_frames_nomatch)"
   ]
  },
  {
   "cell_type": "code",
   "execution_count": 281,
   "id": "3e18584f-e807-451d-bf7a-5767278ab609",
   "metadata": {
    "tags": []
   },
   "outputs": [
    {
     "data": {
      "image/png": "[encoded data removed]",
      "text/plain": [
       "<Figure size 640x480 with 1 Axes>"
      ]
     },
     "metadata": {},
     "output_type": "display_data"
    }
   ],
   "source": [
    "plt.imshow(all_labeled_frames_nomatch[152].image.squeeze())\n",
    "for node, point in all_labeled_frames_nomatch[152].instances[0].points.items():\n",
    "    plt.scatter(point.x, point.y)"
   ]
  },
  {
   "cell_type": "code",
   "execution_count": 282,
   "id": "79419c47-d97c-4b37-88da-cd61ce238fce",
   "metadata": {
    "tags": []
   },
   "outputs": [],
   "source": [
    "params[\"directory_with_keypoint_data\"] = kpoint_dir\n",
    "params[\"version\"] = use_version"
   ]
  },
  {
   "cell_type": "code",
   "execution_count": 285,
   "id": "012dda36-f639-4382-90a4-8cdaad2d2197",
   "metadata": {
    "tags": []
   },
   "outputs": [
    {
     "name": "stdout",
     "output_type": "stream",
     "text": [
      "kpoint_training_dataset_qd_alignment_kneejoints_reflect_only_round2_manual_labeling_nofluo_version-v2\n",
      "17901\n"
     ]
    }
   ],
   "source": [
    "save_dir = os.path.join(root_dir, \"keypoints_basler_nir_plexiglass_arena/sleap_training_round2/_labels_qd/\")\n",
    "os.makedirs(save_dir, exist_ok=True)\n",
    "embeds = [False]\n",
    "save_prefix = os.path.splitext(save_fname)[0]\n",
    "print(save_prefix)\n",
    "print(len(all_labeled_frames_nomatch))"
   ]
  },
  {
   "cell_type": "code",
   "execution_count": 286,
   "id": "94e7ddb8-e0ec-465f-861a-605cf5b25f9e",
   "metadata": {
    "tags": []
   },
   "outputs": [],
   "source": [
    "filtered_qd_df.to_parquet(os.path.join(save_dir, f\"{save_prefix}.parquet\")) # save off the parquet file used to generate the data..."
   ]
  },
  {
   "cell_type": "code",
   "execution_count": 287,
   "id": "ac2231cf-6333-45c0-8644-c1b9cc60d837",
   "metadata": {
    "tags": []
   },
   "outputs": [],
   "source": [
    "for embed in embeds:\n",
    "    save_path = os.path.join(\n",
    "        save_dir,\n",
    "        f\"{save_prefix}-embed-{embed}.slp\",\n",
    "    )\n",
    "    labels = sio.Labels(labeled_frames=all_labeled_frames_nomatch)\n",
    "    labels.save(save_path, embed=embed)\n",
    "    with open(save_path.replace(\".slp\", \".toml\"), \"w\") as f:\n",
    "        toml.dump({\"dataset_parameters\": params, \"frames\": all_labeled_frames_metadata_nomatch}, f)"
   ]
  },
  {
   "cell_type": "code",
   "execution_count": 288,
   "id": "16fceee2-b970-4a95-a5e6-9600519c7c4a",
   "metadata": {
    "tags": []
   },
   "outputs": [],
   "source": [
    "height, width = all_labeled_frames[0].image.squeeze().shape"
   ]
  },
  {
   "cell_type": "code",
   "execution_count": 289,
   "id": "dcbac703-ab00-4b09-943e-ccc661db972a",
   "metadata": {
    "tags": []
   },
   "outputs": [],
   "source": [
    "use_cmap = plt.matplotlib.colormaps[\"turbo\"]"
   ]
  },
  {
   "cell_type": "code",
   "execution_count": 290,
   "id": "9c20ce1b-ccb7-4113-9988-40675671ef22",
   "metadata": {
    "tags": []
   },
   "outputs": [],
   "source": [
    "movie_path = os.path.join(\n",
    "    save_dir,\n",
    "    f\"{save_prefix}.mp4\",\n",
    ")"
   ]
  },
  {
   "cell_type": "code",
   "execution_count": 291,
   "id": "8ee1090b-5bc8-4e91-962b-2b88a8e90f50",
   "metadata": {
    "tags": []
   },
   "outputs": [],
   "source": [
    "show_frames = 1000"
   ]
  },
  {
   "cell_type": "code",
   "execution_count": 292,
   "id": "133ed681-20f3-41ef-a7e6-e9809bba7552",
   "metadata": {
    "tags": []
   },
   "outputs": [],
   "source": [
    "new_frames = np.zeros((show_frames, height, width, 3), dtype=\"uint8\")\n",
    "spacing = np.floor(len(labels.labeled_frames) / len(new_frames))"
   ]
  },
  {
   "cell_type": "code",
   "execution_count": 293,
   "id": "21ad38f0-261f-40c0-bd90-89d9f58bf3e0",
   "metadata": {
    "tags": []
   },
   "outputs": [],
   "source": [
    "nbody_parts = len(use_skeleton.nodes)\n",
    "node_colors = {node: np.array(use_cmap(i / (nbody_parts - 1))[:3]) * 255 for i, node in enumerate(use_skeleton.nodes)}"
   ]
  },
  {
   "cell_type": "code",
   "execution_count": 294,
   "id": "9ae5bbd4-3c43-4f00-a7d7-42bcf3b03e5d",
   "metadata": {
    "tags": []
   },
   "outputs": [],
   "source": [
    "vid_frame_idx = np.floor(np.linspace(0, len(labels.labeled_frames) - 1, show_frames)).astype(\"int\")"
   ]
  },
  {
   "cell_type": "code",
   "execution_count": 295,
   "id": "622b7b58-9f64-4b21-8475-190dd7faff14",
   "metadata": {
    "tags": []
   },
   "outputs": [
    {
     "data": {
      "application/vnd.jupyter.widget-view+json": {
       "model_id": "b780f59fb98845228619a6bf439f34ec",
       "version_major": 2,
       "version_minor": 0
      },
      "text/plain": [
       "  0%|          | 0/1000 [00:00<?, ?it/s]"
      ]
     },
     "metadata": {},
     "output_type": "display_data"
    }
   ],
   "source": [
    "for i, _idx in tqdm(enumerate(vid_frame_idx), total=len(vid_frame_idx)):\n",
    "    _im = labels.labeled_frames[_idx].image.squeeze()\n",
    "    use_im = np.round(np.stack([_im] * 3, axis=-1) * 0.75).astype(\"uint8\")\n",
    "    for node, point in labels.labeled_frames[_idx].instances[0].points.items():\n",
    "        try:\n",
    "            use_im = cv2.circle(use_im, (int(point.x), int(point.y)), 10, node_colors[node], -1)\n",
    "        except ValueError:\n",
    "            pass\n",
    "    new_frames[i] = use_im"
   ]
  },
  {
   "cell_type": "code",
   "execution_count": 296,
   "id": "49195cab-8ee6-42dc-86bd-bf7324b87890",
   "metadata": {
    "tags": []
   },
   "outputs": [],
   "source": [
    "writer = vid.io.MP4WriterPreview(movie_path, frame_size = (width, height), fps=5)"
   ]
  },
  {
   "cell_type": "code",
   "execution_count": 297,
   "id": "163da07a-3378-42f6-a222-22b4ccece8c0",
   "metadata": {
    "tags": []
   },
   "outputs": [
    {
     "data": {
      "application/vnd.jupyter.widget-view+json": {
       "model_id": "4d81ea5f405246c39aa60035d119cfd8",
       "version_major": 2,
       "version_minor": 0
      },
      "text/plain": [
       "  0%|          | 0/1000 [00:00<?, ?it/s]"
      ]
     },
     "metadata": {},
     "output_type": "display_data"
    }
   ],
   "source": [
    "writer.write_frames(new_frames, frames_idx=vid_frame_idx)"
   ]
  },
  {
   "cell_type": "code",
   "execution_count": 298,
   "id": "d8bc35c5-1ea5-4af1-8926-60095f9e93d9",
   "metadata": {
    "tags": []
   },
   "outputs": [],
   "source": [
    "writer.close()"
   ]
  }
 ],
 "metadata": {
  "kernelspec": {
   "display_name": "Python 3 (ipykernel)",
   "language": "python",
   "name": "python3"
  },
  "language_info": {
   "codemirror_mode": {
    "name": "ipython",
    "version": 3
   },
   "file_extension": ".py",
   "mimetype": "text/x-python",
   "name": "python",
   "nbconvert_exporter": "python",
   "pygments_lexer": "ipython3",
   "version": "3.10.0"
  }
 },
 "nbformat": 4,
 "nbformat_minor": 5
}
