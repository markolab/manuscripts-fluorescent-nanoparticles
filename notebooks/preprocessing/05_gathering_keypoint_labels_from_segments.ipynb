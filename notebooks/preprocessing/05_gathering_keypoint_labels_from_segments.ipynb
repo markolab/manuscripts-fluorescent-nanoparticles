{
 "cells": [
  {
   "cell_type": "code",
   "execution_count": 1,
   "id": "5f17da30-45c1-48dc-88ed-cb3c5371e855",
   "metadata": {
    "tags": []
   },
   "outputs": [],
   "source": [
    "%load_ext autoreload\n",
    "%autoreload 2\n",
    "%matplotlib inline"
   ]
  },
  {
   "cell_type": "code",
   "execution_count": null,
   "id": "ff6ae5c1-c3f4-44ef-90d0-12147d8a381c",
   "metadata": {
    "tags": []
   },
   "outputs": [],
   "source": [
    "import os\n",
    "import cv2\n",
    "import matplotlib.pyplot as plt\n",
    "import numpy as np\n",
    "import h5py\n",
    "import toml\n",
    "import sleap_io as sio\n",
    "from segments import SegmentsClient\n",
    "from tqdm.auto import tqdm\n",
    "from markovids import vid"
   ]
  },
  {
   "cell_type": "markdown",
   "id": "e74fb1d3-952f-459f-b833-c83c13f7d7a7",
   "metadata": {},
   "source": [
    "## User functions"
   ]
  },
  {
   "cell_type": "code",
   "execution_count": 5,
   "id": "e1ff1ad8-3606-450e-88a8-7dc438a8a4e1",
   "metadata": {
    "tags": []
   },
   "outputs": [],
   "source": [
    "def lp_filter(x, sigma):\n",
    "    return cv2.GaussianBlur(x, [0, 0], sigma, sigma)\n",
    "\n",
    "\n",
    "def bp_filter(x, sigma1, sigma2, clip=True):\n",
    "    if (sigma1 == 0) or (sigma1 is None):\n",
    "        return x\n",
    "    elif (sigma2 == 0) or (sigma2 is None):\n",
    "        return lp_filter(x, sigma1)\n",
    "    else:\n",
    "        return np.clip(\n",
    "            lp_filter(x, sigma1) - lp_filter(x, sigma2),\n",
    "            0 if clip == True else -np.inf,\n",
    "            np.inf,\n",
    "        )"
   ]
  },
  {
   "cell_type": "markdown",
   "id": "0d65fe40-ace5-4ab8-aec6-c52542eaa2a7",
   "metadata": {},
   "source": [
    "# Load in metadata"
   ]
  },
  {
   "cell_type": "code",
   "execution_count": 6,
   "id": "221695f0-d0b3-444e-a1f6-7033965902b7",
   "metadata": {
    "tags": []
   },
   "outputs": [],
   "source": [
    "root_dir = \"/storage/home/hcoda1/4/jmarkowitz30/shared_folder/active_lab_members/markowitz_jeffrey/active_projects/\""
   ]
  },
  {
   "cell_type": "code",
   "execution_count": 8,
   "id": "ef9b6fb3-7f3b-481d-a535-4c774d67b730",
   "metadata": {
    "tags": []
   },
   "outputs": [],
   "source": [
    "# original_data_dir = os.path.join(root_dir, \"quantum_dots/timecourse_02\") # location of the original avi files\n",
    "# dataset_name = \"jmarkow/basler-nir-plexiglass-arena-keypoints-fused-round2\" # segments dataset name\n",
    "\n",
    "original_data_dir = os.path.join(root_dir, \"quantum_dots/timecourse_02_joints\")\n",
    "dataset_name = \"jmarkow/basler-nir-plexiglass-arena-keypoints-fused-kneejoints\"\n",
    "output_dir = os.path.join(root_dir, \"keypoints_basler_nir_plexiglass_arena/sleap_training_round2/_labels/\")"
   ]
  },
  {
   "cell_type": "code",
   "execution_count": 9,
   "id": "b0a31aae-bef6-4a0d-b33f-396ca8bbdce5",
   "metadata": {
    "tags": []
   },
   "outputs": [],
   "source": [
    "os.makedirs(output_dir, exist_ok=True)"
   ]
  },
  {
   "cell_type": "markdown",
   "id": "d78db1e4-ef12-4a6b-a8a6-75de3f610419",
   "metadata": {},
   "source": [
    "# Gather all data files"
   ]
  },
  {
   "cell_type": "code",
   "execution_count": 10,
   "id": "37d68496-1aee-4965-a7b9-23cec1f5b06f",
   "metadata": {
    "tags": []
   },
   "outputs": [],
   "source": [
    "import glob\n",
    "dat_paths_reflect = sorted(glob.glob(os.path.join(original_data_dir, \"**\", \"*reflectance.avi\"), recursive=True))"
   ]
  },
  {
   "cell_type": "markdown",
   "id": "f4db7909-1a47-4b61-a01c-4221d914053a",
   "metadata": {},
   "source": [
    "# Get what already exists on segments"
   ]
  },
  {
   "cell_type": "markdown",
   "id": "37ab32a2-dd47-48eb-be7e-0b88f22e7600",
   "metadata": {},
   "source": [
    "1. Get old labels\n",
    "2. Get segments.ai labels\n",
    "3. Merge everything\n",
    "4. Save per camera keypoints\n",
    "5. Don't need to save any images, should be fast"
   ]
  },
  {
   "cell_type": "code",
   "execution_count": 11,
   "id": "4e62692b-9fd7-4b0a-ab15-bb1a958b5a3d",
   "metadata": {
    "tags": []
   },
   "outputs": [],
   "source": [
    "api_key = os.getenv(\"SEGMENTSAPI\")\n",
    "client = SegmentsClient(api_key)"
   ]
  },
  {
   "cell_type": "code",
   "execution_count": 12,
   "id": "8b7502d0-e166-4541-9786-70114d90587c",
   "metadata": {
    "tags": []
   },
   "outputs": [],
   "source": [
    "exclude_paths = [\n",
    "    \"session_20240610170622-119479\"\n",
    "]"
   ]
  },
  {
   "cell_type": "code",
   "execution_count": 13,
   "id": "381e301d-3421-478b-a2e3-4db1d9ad418d",
   "metadata": {
    "tags": []
   },
   "outputs": [],
   "source": [
    "samples = client.get_samples(dataset_name, per_page=10000, label_status=[\"LABELED\", \"REVIEWED\"]) # LABELED/REVIEWED\n",
    "pre_segments_labels = [(client.get_label(_sample.uuid), _sample) for _sample in samples]"
   ]
  },
  {
   "cell_type": "code",
   "execution_count": 14,
   "id": "16cb4c98-367b-45df-ba26-bcc045878715",
   "metadata": {
    "tags": []
   },
   "outputs": [
    {
     "data": {
      "text/plain": [
       "872"
      ]
     },
     "execution_count": 14,
     "metadata": {},
     "output_type": "execute_result"
    }
   ],
   "source": [
    "len(samples)"
   ]
  },
  {
   "cell_type": "code",
   "execution_count": 15,
   "id": "b9da450f-a092-461f-8f1b-01541aac9007",
   "metadata": {
    "tags": []
   },
   "outputs": [],
   "source": [
    "segments_labels = []\n",
    "for _label in pre_segments_labels:\n",
    "    to_add = True\n",
    "    for _path in exclude_paths:\n",
    "        if _path in _label[1].metadata[\"dat_path_fluo\"]:\n",
    "            to_add = False\n",
    "\n",
    "    if to_add:\n",
    "        segments_labels.append(_label)"
   ]
  },
  {
   "cell_type": "code",
   "execution_count": 16,
   "id": "99ef0301-83c0-4195-a54b-8158b3566ef6",
   "metadata": {
    "tags": []
   },
   "outputs": [],
   "source": [
    "from collections import defaultdict\n",
    "leaderboard = defaultdict(int)\n",
    "chk_labels = segments_labels\n",
    "for _label, _sample in chk_labels:\n",
    "    leaderboard[_label.created_by] += 1\n",
    "    # break"
   ]
  },
  {
   "cell_type": "code",
   "execution_count": 17,
   "id": "dff0772f-057e-4681-bfd3-4e2e32a0b874",
   "metadata": {
    "tags": []
   },
   "outputs": [
    {
     "data": {
      "text/plain": [
       "defaultdict(int, {'jmarkow': 872})"
      ]
     },
     "execution_count": 17,
     "metadata": {},
     "output_type": "execute_result"
    }
   ],
   "source": [
    "leaderboard"
   ]
  },
  {
   "cell_type": "code",
   "execution_count": 18,
   "id": "a92a5253-0622-4258-8a23-318334a92120",
   "metadata": {
    "tags": []
   },
   "outputs": [],
   "source": [
    "# write out frames to new avi file for loading"
   ]
  },
  {
   "cell_type": "code",
   "execution_count": 19,
   "id": "745f251e-dc6c-4f4a-b707-1396fc776738",
   "metadata": {
    "tags": []
   },
   "outputs": [],
   "source": [
    "uniq_files = sorted(list(set([_[1].metadata[\"dat_path_reflect\"] for _ in segments_labels])))"
   ]
  },
  {
   "cell_type": "code",
   "execution_count": 20,
   "id": "6790c8aa-4238-4ef5-9797-d5f26d999ace",
   "metadata": {
    "tags": []
   },
   "outputs": [],
   "source": [
    "segments_dset = client.get_dataset(dataset_name)\n",
    "segments_cats = segments_dset.task_attributes.categories\n",
    "segments_id_map = {_cat.id: _cat.name for _cat in segments_cats}"
   ]
  },
  {
   "cell_type": "code",
   "execution_count": 21,
   "id": "10822520-c7ce-4b64-b95a-00fe62faf157",
   "metadata": {
    "tags": []
   },
   "outputs": [],
   "source": [
    "# set up skeleton\n",
    "use_skeleton = sio.Skeleton(name=\"markolab-skeleton-v0\")\n",
    "[use_skeleton.add_node(_name) for _name in segments_id_map.values()]\n",
    "is_joints = False\n",
    "if \"hindleg_L\" in segments_id_map.values():\n",
    "    use_skeleton.add_edge(\"hindleg_L\", \"back_bottom\")\n",
    "    use_skeleton.add_edge(\"hindleg_R\", \"back_bottom\")\n",
    "    use_skeleton.add_edge(\"tail_tip\", \"tail_middle\")\n",
    "    use_skeleton.add_edge(\"tail_middle\", \"tail_base\")\n",
    "    use_skeleton.add_edge(\"tail_base\", \"back_bottom\")\n",
    "    use_skeleton.add_edge(\"back_bottom\", \"back_middle\")\n",
    "    use_skeleton.add_edge(\"back_middle\", \"back_top\")\n",
    "    use_skeleton.add_edge(\"foreleg_L\", \"back_top\")\n",
    "    use_skeleton.add_edge(\"foreleg_R\", \"back_top\")\n",
    "    use_skeleton.add_symmetry(\"foreleg_L\", \"foreleg_R\")\n",
    "    use_skeleton.add_symmetry(\"hindleg_L\", \"hindleg_R\")\n",
    "elif \"knee_L\" in segments_id_map.values():\n",
    "    is_joints = True\n",
    "    use_skeleton.add_symmetry(\"knee_L\", \"knee_R\")"
   ]
  },
  {
   "cell_type": "code",
   "execution_count": 23,
   "id": "9d192635-e12a-493f-9e74-bf65038f4dfe",
   "metadata": {
    "tags": []
   },
   "outputs": [],
   "source": [
    "# get some essentials\n",
    "reader = vid.io.AutoReader(dat_paths_reflect[0])"
   ]
  },
  {
   "cell_type": "code",
   "execution_count": 24,
   "id": "7287f301-d78c-4466-8384-30fac96108fc",
   "metadata": {
    "tags": []
   },
   "outputs": [],
   "source": [
    "writer_kwargs = {\"frame_size\": reader.frame_size,\n",
    "                 \"dtype\": reader.dtype,\n",
    "                 \"fps\": reader.fps,\n",
    "                 \"pixel_format\": reader.pixel_format}"
   ]
  },
  {
   "cell_type": "code",
   "execution_count": 25,
   "id": "6eaec496-09a7-4337-82e9-f2edf8d5e31b",
   "metadata": {
    "tags": []
   },
   "outputs": [],
   "source": [
    "reader.close()"
   ]
  },
  {
   "cell_type": "code",
   "execution_count": 26,
   "id": "38872ca7-480f-4919-9afb-37ccc878a417",
   "metadata": {
    "tags": []
   },
   "outputs": [],
   "source": [
    "bground_path = \"_bground\""
   ]
  },
  {
   "cell_type": "code",
   "execution_count": 30,
   "id": "857bcfa0-a4d5-4e24-9dd6-10bb48cf6085",
   "metadata": {
    "tags": []
   },
   "outputs": [
    {
     "data": {
      "application/vnd.jupyter.widget-view+json": {
       "model_id": "6213b1b1c0804cc9b6ff0c35af53bd4e",
       "version_major": 2,
       "version_minor": 0
      },
      "text/plain": [
       "  0%|          | 0/1 [00:00<?, ?it/s]"
      ]
     },
     "metadata": {},
     "output_type": "display_data"
    },
    {
     "data": {
      "application/vnd.jupyter.widget-view+json": {
       "model_id": "5c9392eaab1b4d07a390ce193d127ba4",
       "version_major": 2,
       "version_minor": 0
      },
      "text/plain": [
       "  0%|          | 0/3 [00:00<?, ?it/s]"
      ]
     },
     "metadata": {},
     "output_type": "display_data"
    },
    {
     "data": {
      "application/vnd.jupyter.widget-view+json": {
       "model_id": "21118708b5204a2583679a1c79207e77",
       "version_major": 2,
       "version_minor": 0
      },
      "text/plain": [
       "  0%|          | 0/5 [00:00<?, ?it/s]"
      ]
     },
     "metadata": {},
     "output_type": "display_data"
    },
    {
     "name": "stdout",
     "output_type": "stream",
     "text": [
      "n(labels) 872\n"
     ]
    },
    {
     "data": {
      "application/vnd.jupyter.widget-view+json": {
       "model_id": "f53c1568a8cb45698c124feaccdfea1a",
       "version_major": 2,
       "version_minor": 0
      },
      "text/plain": [
       "  0%|          | 0/5 [00:00<?, ?it/s]"
      ]
     },
     "metadata": {},
     "output_type": "display_data"
    },
    {
     "name": "stdout",
     "output_type": "stream",
     "text": [
      "n(labels) 872\n"
     ]
    },
    {
     "data": {
      "application/vnd.jupyter.widget-view+json": {
       "model_id": "e95ef29995b04819bef6f0f951062b42",
       "version_major": 2,
       "version_minor": 0
      },
      "text/plain": [
       "  0%|          | 0/5 [00:00<?, ?it/s]"
      ]
     },
     "metadata": {},
     "output_type": "display_data"
    },
    {
     "name": "stdout",
     "output_type": "stream",
     "text": [
      "n(labels) 872\n"
     ]
    }
   ],
   "source": [
    "# bpass = [None, (1, 3), (1, 5)]\n",
    "bpass = [None]\n",
    "weights = [\n",
    "    None,  # fuse\n",
    "    (0.0, 1.0),  # reflect only\n",
    "    (1.0, 0.0),  # fluo only\n",
    "]  # fluo vs reflect weights\n",
    "force = True\n",
    "save_prefix = dataset_name.split(\"/\")[1]\n",
    "\n",
    "for _bpass in tqdm(bpass):\n",
    "    for _weights in tqdm(weights):\n",
    "        save_path = os.path.join(output_dir, f\"{save_prefix}_weights-{_weights}_bpass-{_bpass}.avi\")\n",
    "        if os.path.exists(save_path) and (not force):\n",
    "            continue\n",
    "\n",
    "        save_path_sleap = os.path.splitext(save_path)[0] + \".slp\"\n",
    "        save_path_sleap_embed = os.path.splitext(save_path)[0] + \"_embed.slp\"\n",
    "        save_path_metadata = os.path.splitext(save_path)[0] + \".toml\"\n",
    "\n",
    "        writer_kwargs[\"pixel_format\"] = \"bgr24\" if _weights is None else \"gray\"\n",
    "        writer = vid.io.AviWriter(save_path, **writer_kwargs)\n",
    "        vid_obj = sio.Video.from_filename(save_path, grayscale=(not _weights is None))\n",
    "\n",
    "        cur_idx = 0\n",
    "        all_labeled_frames = []\n",
    "        all_segments_metadata = {\"segments_metadata\": []}\n",
    "        for _file in tqdm(uniq_files):\n",
    "            use_labels = [\n",
    "                (_label, _sample)\n",
    "                for _label, _sample in segments_labels\n",
    "                if _sample.metadata[\"dat_path_reflect\"] == _file\n",
    "            ]\n",
    "            use_frames = [_sample.metadata[\"frame_index\"] for _label, _sample in use_labels]\n",
    "\n",
    "            _tmp_fname = _file.replace(\"-reflectance.avi\", \"-fluorescence.avi\")\n",
    "            fluo_fname = os.path.join(root_dir, os.path.join(*_tmp_fname.split(os.sep)[-5:]))\n",
    "            fluo_reader = vid.io.AutoReader(fluo_fname)\n",
    "\n",
    "            reflect_fname = os.path.join(root_dir, os.path.join(*_file.split(os.sep)[-5:]))\n",
    "            reflect_reader = vid.io.AutoReader(reflect_fname)\n",
    "            reflect_frames = reflect_reader.get_frames(use_frames)\n",
    "            fluo_frames = fluo_reader.get_frames(use_frames).copy()\n",
    "            reflect_reader.close()\n",
    "            fluo_reader.close()\n",
    "\n",
    "            dirname = os.path.dirname(reflect_fname)\n",
    "            bground_fname = os.path.splitext(os.path.basename(fluo_fname))[0]\n",
    "            use_bground_path = os.path.join(dirname, bground_path, f\"{bground_fname}.hdf5\")\n",
    "\n",
    "            with h5py.File(use_bground_path, \"r\") as f:\n",
    "                rolling_bgrounds = f[\"bground\"][()]\n",
    "                idxs = f[\"frame_idxs\"][()]\n",
    "\n",
    "            for i, (_idx, _frame) in enumerate(zip(use_frames, fluo_frames)):\n",
    "                use_bground = np.argmin(np.abs(idxs - _idx))\n",
    "                fluo_frames[i] = np.clip(_frame - rolling_bgrounds[use_bground], 0, 255).astype(\"uint8\")\n",
    "\n",
    "            if _weights is not None:\n",
    "                write_frames = np.zeros_like(reflect_frames)\n",
    "\n",
    "                for i, (_reflect, _fluo) in enumerate(zip(reflect_frames, fluo_frames)):\n",
    "                    frame_index = use_frames[i]\n",
    "\n",
    "                    if _bpass is not None:\n",
    "                        proc_fluo = bp_filter(_fluo.astype(\"float32\"), *_bpass)\n",
    "                    else:\n",
    "                        proc_fluo = _fluo.astype(\"float32\")\n",
    "                    proc_fluo[proc_fluo <= 0] = 0\n",
    "\n",
    "                    if _weights[1] == 1:\n",
    "                        new_im = _reflect.astype(\"uint8\")  # skip normalization if we're not combining\n",
    "                    elif _weights[0] == 1:\n",
    "                        new_im = proc_fluo.astype(\"uint8\")  # skip normalization if we're not combining\n",
    "                    else:\n",
    "                        new_im = _weights[0] * proc_fluo + _weights[1] * _reflect\n",
    "                        new_im = (new_im - new_im.min()) / (new_im.max() - new_im.min())\n",
    "                        new_im *= 255\n",
    "                        new_im = new_im.astype(\"uint8\")\n",
    "\n",
    "                    write_frames[i] = new_im\n",
    "            else:\n",
    "                write_frames = np.zeros(\n",
    "                    (\n",
    "                        reflect_frames.shape[0],\n",
    "                        reflect_frames.shape[1],\n",
    "                        reflect_frames.shape[2],\n",
    "                        3,  # bgr\n",
    "                    ),\n",
    "                    dtype=\"uint8\",\n",
    "                )\n",
    "                for i, (_reflect, _fluo) in enumerate(zip(reflect_frames, fluo_frames)):\n",
    "\n",
    "                    if _bpass is not None:\n",
    "                        proc_fluo = bp_filter(_fluo.astype(\"float32\"), *_bpass)\n",
    "                    else:\n",
    "                        proc_fluo = _fluo.astype(\"float32\")\n",
    "                    proc_fluo[proc_fluo <= 0] = 0\n",
    "\n",
    "                    write_frames[i][..., 0] = proc_fluo.astype(\"uint8\")\n",
    "                    write_frames[i][..., 1] = _reflect\n",
    "                    write_frames[i][..., 2] = _reflect\n",
    "\n",
    "            for (_label, _sample), _frame in zip(use_labels, write_frames):\n",
    "                use_points = {}\n",
    "                for _annotation in _label.attributes.annotations:\n",
    "                    x, y = _annotation.points[0]\n",
    "                    name = segments_id_map[_annotation.category_id]\n",
    "                    common_name = name.split(\" \")[0]\n",
    "                    use_points[common_name] = sio.Point(x=x, y=y, visible=True, complete=True)\n",
    "                if len(use_points) > 0:\n",
    "                    # only write a frame if we're here...\n",
    "                    writer.write_frames([_frame], progress_bar=False)\n",
    "                    instance = sio.Instance(skeleton=use_skeleton, points=use_points)\n",
    "                    labeled_frame = sio.LabeledFrame(video=vid_obj, instances=[instance], frame_idx=cur_idx)\n",
    "                    all_labeled_frames.append(labeled_frame)\n",
    "\n",
    "                    # metadata to stash\n",
    "                    metadata = {\n",
    "                        \"uuid\": _sample.uuid,\n",
    "                        \"dat_path_fluo\": _sample.metadata[\"dat_path_fluo\"],\n",
    "                        \"dat_path_reflect\": _sample.metadata[\"dat_path_reflect\"],\n",
    "                        \"img_path\": _sample.metadata[\"img_path\"],\n",
    "                        \"frame_index\": _sample.metadata[\"frame_index\"],\n",
    "                        \"camera\": _sample.metadata[\"camera\"],\n",
    "                        \"pad\": _sample.metadata[\"pad\"],\n",
    "                        \"dataset_index\": len(all_labeled_frames) - 1,\n",
    "                    }\n",
    "                    all_segments_metadata[\"segments_metadata\"].append(metadata)\n",
    "                    cur_idx += 1\n",
    "\n",
    "            # read in frames, map to avi etc.\n",
    "\n",
    "        writer.close()\n",
    "        labels = sio.Labels(all_labeled_frames)\n",
    "        print(f\"n(labels) {len(labels)}\")\n",
    "        with open(save_path_metadata, \"w\") as f:\n",
    "            toml.dump(all_segments_metadata, f)\n",
    "        labels.save(save_path_sleap, embed=False)\n",
    "        labels.save(save_path_sleap_embed, embed=True)"
   ]
  },
  {
   "cell_type": "code",
   "execution_count": 32,
   "id": "1a59ae3d-50f4-4033-b7a8-0b8512169322",
   "metadata": {
    "tags": []
   },
   "outputs": [],
   "source": [
    "test = sio.load_file(save_path_sleap)"
   ]
  },
  {
   "cell_type": "code",
   "execution_count": 33,
   "id": "0a6603ee-1396-4cf5-bb5f-4cb6f118185e",
   "metadata": {},
   "outputs": [],
   "source": [
    "labels = test.labeled_frames"
   ]
  },
  {
   "cell_type": "code",
   "execution_count": 36,
   "id": "43e2285c-e728-4ce4-af07-3a27d4d94492",
   "metadata": {
    "tags": []
   },
   "outputs": [],
   "source": [
    "instance = labels[10].instances[0]\n"
   ]
  },
  {
   "cell_type": "code",
   "execution_count": 37,
   "id": "feebf1cc-341b-417f-b365-c76b548a83d0",
   "metadata": {
    "tags": []
   },
   "outputs": [
    {
     "data": {
      "image/png": "[encoded data removed]",
      "text/plain": [
       "<Figure size 640x480 with 1 Axes>"
      ]
     },
     "metadata": {},
     "output_type": "display_data"
    }
   ],
   "source": [
    "plt.imshow(labels[10].image[:,:,0])\n",
    "for _node, _point in instance.points.items():\n",
    "    # pass\n",
    "    plt.scatter(_point.x, _point.y, s=10, c=\"r\")"
   ]
  }
 ],
 "metadata": {
  "kernelspec": {
   "display_name": "Python 3 (ipykernel)",
   "language": "python",
   "name": "python3"
  },
  "language_info": {
   "codemirror_mode": {
    "name": "ipython",
    "version": 3
   },
   "file_extension": ".py",
   "mimetype": "text/x-python",
   "name": "python",
   "nbconvert_exporter": "python",
   "pygments_lexer": "ipython3",
   "version": "3.10.0"
  }
 },
 "nbformat": 4,
 "nbformat_minor": 5
}
