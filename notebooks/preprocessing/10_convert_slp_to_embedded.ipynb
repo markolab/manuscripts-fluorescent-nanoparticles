{
 "cells": [
  {
   "cell_type": "code",
   "execution_count": 11,
   "id": "b36625c3-8fad-41cf-8e40-89e797051029",
   "metadata": {},
   "outputs": [],
   "source": [
    "import glob\n",
    "import os\n",
    "from tqdm.auto import tqdm\n"
   ]
  },
  {
   "cell_type": "code",
   "execution_count": 12,
   "id": "5921aa1c-cd2c-49f6-be11-ee78205d520c",
   "metadata": {
    "tags": []
   },
   "outputs": [],
   "source": [
    "import shutil"
   ]
  },
  {
   "cell_type": "code",
   "execution_count": 13,
   "id": "0382217c-3354-4611-b3fe-e47351cab9ff",
   "metadata": {},
   "outputs": [],
   "source": [
    "# file_filter = \"/storage/home/hcoda1/4/jmarkowitz30/shared_folder/active_lab_members/markowitz_jeffrey/active_projects/keypoints_basler_nir_plexiglass_arena/sleap_training_round2/_labels_qd/*embed-False*.slp\" "
   ]
  },
  {
   "cell_type": "code",
   "execution_count": 14,
   "id": "5ac9d4de-8961-4da4-b798-9843ac2939cc",
   "metadata": {
    "tags": []
   },
   "outputs": [],
   "source": [
    "file_filter = \"/storage/home/hcoda1/4/jmarkowitz30/shared_folder/active_lab_members/markowitz_jeffrey/active_projects/keypoints_basler_nir_plexiglass_arena/sleap_training_round2/_labels_qd/kpoint_training_dataset_qd_alignment_kneejoints_reflect_only_round2_manual_labeling_nofluo_version-v[1-2]-embed-False.slp\""
   ]
  },
  {
   "cell_type": "code",
   "execution_count": 15,
   "id": "65056222-720d-44c3-853a-825255c78ab3",
   "metadata": {},
   "outputs": [],
   "source": [
    "data_files = sorted(glob.glob(file_filter))"
   ]
  },
  {
   "cell_type": "code",
   "execution_count": 16,
   "id": "9f0ba161-b61c-4c62-bc69-bcb704cd81b5",
   "metadata": {
    "tags": []
   },
   "outputs": [
    {
     "name": "stdout",
     "output_type": "stream",
     "text": [
      "['/storage/home/hcoda1/4/jmarkowitz30/shared_folder/active_lab_members/markowitz_jeffrey/active_projects/keypoints_basler_nir_plexiglass_arena/sleap_training_round2/_labels_qd/kpoint_training_dataset_qd_alignment_kneejoints_reflect_only_round2_manual_labeling_nofluo_version-v1-embed-False.slp', '/storage/home/hcoda1/4/jmarkowitz30/shared_folder/active_lab_members/markowitz_jeffrey/active_projects/keypoints_basler_nir_plexiglass_arena/sleap_training_round2/_labels_qd/kpoint_training_dataset_qd_alignment_kneejoints_reflect_only_round2_manual_labeling_nofluo_version-v2-embed-False.slp']\n"
     ]
    }
   ],
   "source": [
    "print(data_files)"
   ]
  },
  {
   "cell_type": "code",
   "execution_count": 17,
   "id": "2655131b-ca63-43a5-9a7c-95a479b55097",
   "metadata": {
    "tags": []
   },
   "outputs": [],
   "source": [
    "force = False"
   ]
  },
  {
   "cell_type": "markdown",
   "id": "50625988-c318-470f-b2a4-b01f9e700dfc",
   "metadata": {
    "jp-MarkdownHeadingCollapsed": true,
    "tags": []
   },
   "source": [
    "# sleap_io version"
   ]
  },
  {
   "cell_type": "code",
   "execution_count": null,
   "id": "f76bdc54-be47-4145-baca-26b807d5d5eb",
   "metadata": {},
   "outputs": [],
   "source": [
    "import sleap_io as sio"
   ]
  },
  {
   "cell_type": "code",
   "execution_count": null,
   "id": "5fc739ad-6387-4f78-875a-5ba67432b435",
   "metadata": {
    "tags": []
   },
   "outputs": [],
   "source": [
    "for original_file in tqdm(data_files):\n",
    "    original_mdata_file = original_file.replace(\".slp\", \".toml\")\n",
    "    new_file = original_file.replace(\"embed-False\", \"embed-True\")\n",
    "    if os.path.exists(new_file) and (not force):\n",
    "        continue\n",
    "    new_mdata_file = new_file.replace(\".slp\", \".toml\")\n",
    "    original_data = sio.load_file(original_file)\n",
    "    original_data.save(new_file, embed=True)\n",
    "    shutil.copyfile(original_mdata_file, new_mdata_file)"
   ]
  },
  {
   "cell_type": "markdown",
   "id": "2127d235-a6bc-4c13-b6fd-1f3edb51771e",
   "metadata": {},
   "source": [
    "# SLEAP version (for some reason only this works for large embedded files)"
   ]
  },
  {
   "cell_type": "code",
   "execution_count": 18,
   "id": "45961ee8-5970-4fcc-b19d-af00b2a5efd8",
   "metadata": {},
   "outputs": [],
   "source": [
    "import sleap"
   ]
  },
  {
   "cell_type": "code",
   "execution_count": null,
   "id": "a0bbaffc-501c-4502-a574-b5a018a47dc9",
   "metadata": {},
   "outputs": [
    {
     "data": {
      "application/vnd.jupyter.widget-view+json": {
       "model_id": "92ec5a6a3cbe40ec83fbe41e79935919",
       "version_major": 2,
       "version_minor": 0
      },
      "text/plain": [
       "  0%|          | 0/2 [00:00<?, ?it/s]"
      ]
     },
     "metadata": {},
     "output_type": "display_data"
    }
   ],
   "source": [
    "for original_file in tqdm(data_files):\n",
    "    original_mdata_file = original_file.replace(\".slp\", \".toml\")\n",
    "    new_file = original_file.replace(\"embed-False\", \"embed-True-sleap-version\")\n",
    "    if os.path.exists(new_file) and (not force):\n",
    "        continue\n",
    "    new_mdata_file = new_file.replace(\".slp\", \".toml\")\n",
    "    original_data = sleap.load_file(original_file)\n",
    "    original_data.save(new_file, with_images=True)\n",
    "    shutil.copyfile(original_mdata_file, new_mdata_file)"
   ]
  },
  {
   "cell_type": "code",
   "execution_count": null,
   "id": "399a0246-07fb-496d-9ba9-fe5083898718",
   "metadata": {},
   "outputs": [],
   "source": [
    "print(new_file)"
   ]
  },
  {
   "cell_type": "code",
   "execution_count": null,
   "id": "a75f7fc3-73e9-4d25-adba-203601615f03",
   "metadata": {},
   "outputs": [],
   "source": []
  }
 ],
 "metadata": {
  "kernelspec": {
   "display_name": "Python 3 (ipykernel)",
   "language": "python",
   "name": "python3"
  },
  "language_info": {
   "codemirror_mode": {
    "name": "ipython",
    "version": 3
   },
   "file_extension": ".py",
   "mimetype": "text/x-python",
   "name": "python",
   "nbconvert_exporter": "python",
   "pygments_lexer": "ipython3",
   "version": "3.7.12"
  }
 },
 "nbformat": 4,
 "nbformat_minor": 5
}
