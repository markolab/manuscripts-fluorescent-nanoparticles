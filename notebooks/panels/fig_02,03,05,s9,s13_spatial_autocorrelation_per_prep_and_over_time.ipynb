{
 "cells": [
  {
   "cell_type": "code",
   "execution_count": 1,
   "id": "6fdf449c-18e7-4dcc-a194-9de011757c91",
   "metadata": {
    "tags": []
   },
   "outputs": [],
   "source": [
    "%load_ext autoreload\n",
    "%autoreload 2\n",
    "%matplotlib inline"
   ]
  },
  {
   "cell_type": "code",
   "execution_count": 2,
   "id": "b25fd5e0-464c-4c6e-93d1-1082c5d1aa1e",
   "metadata": {
    "tags": []
   },
   "outputs": [],
   "source": [
    "import os\n",
    "import copy\n",
    "import cv2\n",
    "import matplotlib.pyplot as plt\n",
    "import numpy as np\n",
    "import toml\n",
    "import glob\n",
    "import joblib\n",
    "import h5py\n",
    "from tqdm.auto import tqdm\n",
    "from qd_analysis.fig import setup_plotting_env"
   ]
  },
  {
   "cell_type": "code",
   "execution_count": 3,
   "id": "0c9b2f24-2f03-473f-bb43-96ff3f96c0d2",
   "metadata": {
    "tags": []
   },
   "outputs": [],
   "source": [
    "from joblib import Parallel, delayed\n",
    "import pandas as pd\n",
    "import seaborn as sns"
   ]
  },
  {
   "cell_type": "code",
   "execution_count": 4,
   "id": "1b5edcf3-a7f9-44cb-9a3d-7efd532c36b2",
   "metadata": {},
   "outputs": [],
   "source": [
    "from markovids import vid, pcl"
   ]
  },
  {
   "cell_type": "code",
   "execution_count": 5,
   "id": "74c1dfed-8845-4f8c-a82f-682bc86c71f4",
   "metadata": {},
   "outputs": [],
   "source": [
    "config = toml.load(\"../preprocessing/config.toml\")"
   ]
  },
  {
   "cell_type": "code",
   "execution_count": 6,
   "id": "18ae09ed-96c6-46e8-8f2f-cd2aac5cfbbd",
   "metadata": {
    "tags": []
   },
   "outputs": [],
   "source": [
    "fig_dir = config[\"dirs\"][\"figs\"]\n",
    "os.makedirs(fig_dir, exist_ok=True)"
   ]
  },
  {
   "cell_type": "code",
   "execution_count": 7,
   "id": "d328eea9-74e4-47dc-b5d1-cafca60d335d",
   "metadata": {
    "tags": []
   },
   "outputs": [],
   "source": [
    "npcols = [\"ave_corr\", \"ave_raw_corr\", \"intrinsic_matrix\", \"distortion_coeffs\"] "
   ]
  },
  {
   "cell_type": "code",
   "execution_count": 8,
   "id": "1e0d7ede-4141-4e13-be18-2025dbcb1113",
   "metadata": {
    "tags": []
   },
   "outputs": [],
   "source": [
    "base_colors = sns.color_palette(\"deep\", n_colors=7)\n",
    "palette = {\"qd_vascular_labels\": base_colors[0],\n",
    "           \"qd_cell_labels\": base_colors[1],\n",
    "           \"qd_beads\": base_colors[2],\n",
    "           \"qd_beads_v2\": base_colors[3],\n",
    "           \"qd_conj_fibro_click_v2\": base_colors[4],\n",
    "           \"qd_conj_coll_click_v2\": base_colors[5],\n",
    "           \"qd_cell_labels_v2\": base_colors[6]}"
   ]
  },
  {
   "cell_type": "markdown",
   "id": "6f12f675-5df4-4982-8f00-f564d4c77e3c",
   "metadata": {},
   "source": [
    "# Load in data"
   ]
  },
  {
   "cell_type": "code",
   "execution_count": 9,
   "id": "dfa941d2-686e-4972-ad98-1abc885f1011",
   "metadata": {
    "tags": []
   },
   "outputs": [],
   "source": [
    "corr_df = pd.read_parquet(\n",
    "    os.path.join(config[\"dirs\"][\"data\"], \"dataframes/fluorescence_autocorrelation.parquet\")\n",
    ")\n",
    "corr_df.loc[corr_df[\"subject\"].str.contains(\"qdr_exp\"), \"exp_type\"] = \"exposure\""
   ]
  },
  {
   "cell_type": "code",
   "execution_count": 10,
   "id": "29d7244d-5232-4eac-b684-187cdc4e3faa",
   "metadata": {
    "tags": []
   },
   "outputs": [
    {
     "data": {
      "application/vnd.jupyter.widget-view+json": {
       "model_id": "c54f236a911d404082f1c989ad3a4452",
       "version_major": 2,
       "version_minor": 0
      },
      "text/plain": [
       "  0%|          | 0/1470 [00:00<?, ?it/s]"
      ]
     },
     "metadata": {},
     "output_type": "display_data"
    }
   ],
   "source": [
    "filenames = corr_df[\"filename\"].unique()\n",
    "metadata = {}\n",
    "save_metadata = {\"gain\": {}, \"pulse_width\": {}}\n",
    "for _filename in tqdm(filenames):\n",
    "    metadata[_filename] = toml.load(os.path.join(os.path.dirname(_filename), \"../metadata.toml\")) \n",
    "    cameras = list(metadata[_filename][\"cameras\"].keys())\n",
    "    save_metadata[\"gain\"][_filename] = np.round(metadata[_filename][\"camera_metadata\"][cameras[0]][\"Gain\"])\n",
    "    save_metadata[\"pulse_width\"][_filename] = metadata[_filename][\"cli_parameters\"][\"hw_trigger_pulse_width\"][1]\n",
    "corr_df[\"gain\"] = corr_df[\"filename\"].map(save_metadata[\"gain\"])\n",
    "corr_df[\"pulse_width\"] = corr_df[\"filename\"].map(save_metadata[\"pulse_width\"])"
   ]
  },
  {
   "cell_type": "code",
   "execution_count": 11,
   "id": "7a983d48-8869-4076-a494-c3ceea0fc0d9",
   "metadata": {
    "tags": []
   },
   "outputs": [],
   "source": [
    "exclude_subjects = [\"qd_beads_01\",\"qd_beads_02\",\"qd_beads_03\"] # pilot experiments\n",
    "corr_df = corr_df.query(\"~subject.isin(@exclude_subjects)\")"
   ]
  },
  {
   "cell_type": "code",
   "execution_count": 12,
   "id": "f7706c2e-c20b-484b-9f8f-941d1523d985",
   "metadata": {
    "tags": []
   },
   "outputs": [],
   "source": [
    "for _col in npcols:\n",
    "    corr_df[_col] = corr_df[_col].apply(np.vstack)"
   ]
  },
  {
   "cell_type": "code",
   "execution_count": 13,
   "id": "7c8bc959-7ebb-4c5a-8b5c-c56941c87d40",
   "metadata": {
    "tags": []
   },
   "outputs": [],
   "source": [
    "im_width, im_height = corr_df[\"ave_corr\"].iat[0].shape"
   ]
  },
  {
   "cell_type": "code",
   "execution_count": 14,
   "id": "0d67e319-54c8-4d36-a60e-1a1ed2909daf",
   "metadata": {
    "tags": []
   },
   "outputs": [],
   "source": [
    "max_lag = im_width // 2\n",
    "lags = np.arange(-max_lag, max_lag)"
   ]
  },
  {
   "cell_type": "code",
   "execution_count": 15,
   "id": "faaca1d9-e425-4a51-b630-a9c0c010ed67",
   "metadata": {
    "tags": []
   },
   "outputs": [],
   "source": [
    "xx, yy = np.meshgrid(np.arange(im_width), np.arange(im_height))"
   ]
  },
  {
   "cell_type": "code",
   "execution_count": 16,
   "id": "6e600c47-e537-4511-b228-15ab10dcc822",
   "metadata": {
    "tags": []
   },
   "outputs": [],
   "source": [
    "ave_matrix = np.stack(list(corr_df[\"intrinsic_matrix\"])).mean(axis=0)\n",
    "# this is really just for viz and sanity checks"
   ]
  },
  {
   "cell_type": "code",
   "execution_count": 17,
   "id": "02b4018f-7a43-4c49-bcef-a2125e2ee741",
   "metadata": {
    "tags": []
   },
   "outputs": [],
   "source": [
    "px = ave_matrix[0,2]\n",
    "py = ave_matrix[1,2]\n",
    "fx = ave_matrix[0,0]\n",
    "fy = ave_matrix[1,1]"
   ]
  },
  {
   "cell_type": "code",
   "execution_count": 18,
   "id": "f3553b66-1b85-4a8a-b5b7-1ebf8851a1f4",
   "metadata": {
    "tags": []
   },
   "outputs": [],
   "source": [
    "z = 304.8 # distance to middle in mm(approximate), corresponds to 12 inches\n",
    "parameters = {}\n",
    "xhat = z * (xx - px) / fx\n",
    "yhat = z * (yy - py) / fy\n",
    "ymm_per_px = np.diff(yhat,axis=0).mean()\n",
    "xmm_per_px = np.diff(xhat,axis=1).mean()\n",
    "    # coords[k] = (xx - v[\"px\"])"
   ]
  },
  {
   "cell_type": "code",
   "execution_count": 19,
   "id": "1c7361bc-fcbe-48cc-ace4-c2969e544023",
   "metadata": {
    "tags": []
   },
   "outputs": [],
   "source": [
    "use_mm_per_px = np.mean([xmm_per_px, ymm_per_px])"
   ]
  },
  {
   "cell_type": "code",
   "execution_count": 20,
   "id": "80b04294-2d8d-4978-94e1-db1540bec77f",
   "metadata": {
    "tags": []
   },
   "outputs": [],
   "source": [
    "xs = np.arange(-max_lag, max_lag) * use_mm_per_px\n",
    "ys = np.arange(-max_lag, max_lag) * use_mm_per_px"
   ]
  },
  {
   "cell_type": "code",
   "execution_count": 21,
   "id": "8aa28689-4455-4624-a203-fed40c25d291",
   "metadata": {
    "tags": []
   },
   "outputs": [],
   "source": [
    "tqdm.pandas()"
   ]
  },
  {
   "cell_type": "code",
   "execution_count": 22,
   "id": "793a89f1-701a-4402-84ca-83e4fab8bfd9",
   "metadata": {
    "tags": []
   },
   "outputs": [],
   "source": [
    "crop = slice(im_width // 2 - 30, im_width // 2 + 30)"
   ]
  },
  {
   "cell_type": "code",
   "execution_count": 23,
   "id": "729e7113-be86-4823-88d3-a4f58b8fcc96",
   "metadata": {
    "tags": []
   },
   "outputs": [
    {
     "data": {
      "application/vnd.jupyter.widget-view+json": {
       "model_id": "520e506d80c24938911b86b0f5682342",
       "version_major": 2,
       "version_minor": 0
      },
      "text/plain": [
       "  0%|          | 0/1370 [00:00<?, ?it/s]"
      ]
     },
     "metadata": {},
     "output_type": "display_data"
    }
   ],
   "source": [
    "fits = corr_df[\"ave_raw_corr\"].progress_apply(lambda x: pcl.fluo.fit_2d_gaussian_with_moments(x[crop,crop])[0])\n",
    "fits = fits.apply(pd.Series)"
   ]
  },
  {
   "cell_type": "code",
   "execution_count": 24,
   "id": "b84e23dc-15d7-4415-82a4-b40cad218c02",
   "metadata": {
    "tags": []
   },
   "outputs": [],
   "source": [
    "fits.columns = [f\"fit_{_}\" for _ in fits.columns]"
   ]
  },
  {
   "cell_type": "code",
   "execution_count": 25,
   "id": "fa37bcb7-97ec-4152-a609-32c811734041",
   "metadata": {
    "tags": []
   },
   "outputs": [],
   "source": [
    "try:\n",
    "    corr_df = corr_df.join(fits)\n",
    "except ValueError:\n",
    "    corr_df = corr_df.drop(fits.columns, axis=1)\n",
    "    corr_df = corr_df.join(fits)"
   ]
  },
  {
   "cell_type": "markdown",
   "id": "c26e2ce6-b8f0-4d26-a151-cd0f1dd38f84",
   "metadata": {
    "tags": []
   },
   "source": [
    "# Spatial autocorrelation on day 0"
   ]
  },
  {
   "cell_type": "code",
   "execution_count": 26,
   "id": "bbf0dd9c-613b-496f-bf02-a834a68a652d",
   "metadata": {
    "tags": []
   },
   "outputs": [],
   "source": [
    "use_corr_df = corr_df.query(\"days==0\")"
   ]
  },
  {
   "cell_type": "code",
   "execution_count": 27,
   "id": "d6a4307f-1033-4ee8-90a6-18eef972d86d",
   "metadata": {
    "tags": []
   },
   "outputs": [],
   "source": [
    "setup_plotting_env()"
   ]
  },
  {
   "cell_type": "code",
   "execution_count": 28,
   "id": "9bf06ba2-d929-4220-8b2c-d9a72c98f06a",
   "metadata": {
    "tags": []
   },
   "outputs": [],
   "source": [
    "max_display = 5."
   ]
  },
  {
   "cell_type": "code",
   "execution_count": 29,
   "id": "2a7ac2ca-a024-478d-88f1-e9af62b2cb06",
   "metadata": {
    "tags": []
   },
   "outputs": [],
   "source": [
    "im_params = {\"cmap\": \"cubehelix\", \"vmin\": 0, \"vmax\": 1}\n",
    "ax_params = {\"xticks\": np.arange(-5., 5.1, 2.5), \"yticks\": np.arange(-5., 5.1, 2.5),\n",
    "             \"xlim\": (-max_display, max_display), \"ylim\": (-max_display, max_display)}"
   ]
  },
  {
   "cell_type": "code",
   "execution_count": 30,
   "id": "d155e8d0-0051-46cd-a8b1-67881c256abd",
   "metadata": {
    "tags": []
   },
   "outputs": [],
   "source": [
    "show_categories = [\n",
    "    \"qd_vascular_labels\",\n",
    "    \"qd_cell_labels\",\n",
    "    \"qd_beads\", \n",
    "]"
   ]
  },
  {
   "cell_type": "code",
   "execution_count": 31,
   "id": "510b1ba9-5541-4736-bef5-67f6d7498bd7",
   "metadata": {
    "tags": []
   },
   "outputs": [
    {
     "data": {
      "image/png": "[encoded data removed]",
      "text/plain": [
       "<Figure size 100x300 with 4 Axes>"
      ]
     },
     "metadata": {},
     "output_type": "display_data"
    }
   ],
   "source": [
    "fig, ax = plt.subplots(\n",
    "    len(show_categories),\n",
    "    1,\n",
    "    figsize=(1, 1 * len(show_categories)),\n",
    "    sharex=True,\n",
    "    sharey=True,\n",
    ")\n",
    "for _category, _ax in zip(show_categories, ax):\n",
    "    _ave = np.stack(\n",
    "        use_corr_df.query(f\"days == 0 & exp_type == '{_category}'\")[\"ave_corr\"].to_list()\n",
    "    ).mean(axis=0)\n",
    "    h = _ax.imshow(\n",
    "        _ave,\n",
    "        **im_params,\n",
    "        extent=[\n",
    "            -max_lag * use_mm_per_px,\n",
    "            max_lag * use_mm_per_px,\n",
    "            -max_lag * use_mm_per_px,\n",
    "            max_lag * use_mm_per_px,\n",
    "        ],\n",
    "    )\n",
    "    _ax.set_title(_category, color=palette[_category])\n",
    "ax[0].set_ylabel(\"Y (mm)\")\n",
    "ax[-1].set_xlabel(\"X (mm)\")\n",
    "ax[0].set(**ax_params)\n",
    "fig.colorbar(h, ax=ax, shrink=.4, pad=.15, ticks=[0,1])\n",
    "fig.show()\n",
    "fig.savefig(os.path.join(fig_dir, f\"qd_spatial_autocorr_{show_categories}.pdf\"), dpi=600, bbox_inches=\"tight\")"
   ]
  },
  {
   "cell_type": "markdown",
   "id": "228f3b49-011b-474b-88b4-7e179f5dfb0e",
   "metadata": {},
   "source": [
    "# Look at diffusion..."
   ]
  },
  {
   "cell_type": "code",
   "execution_count": 32,
   "id": "91c510b2-966c-4491-a8f9-018e3ba3e036",
   "metadata": {
    "tags": []
   },
   "outputs": [],
   "source": [
    "plt_df = corr_df.groupby([\"exp_type\", \"subject\", \"camera\", \"days\"])[[\"fit_amplitude\",\"fit_sigma_x\", \"fit_sigma_y\"]].mean().reset_index()"
   ]
  },
  {
   "cell_type": "code",
   "execution_count": 33,
   "id": "29c980cf-d1a5-4b4d-ab58-33e8bfd6bfa0",
   "metadata": {},
   "outputs": [],
   "source": [
    "threshold = 0"
   ]
  },
  {
   "cell_type": "code",
   "execution_count": 34,
   "id": "f13cfb52-a9ba-4b25-89cf-d71cd15aa571",
   "metadata": {
    "tags": []
   },
   "outputs": [],
   "source": [
    "plt_df = plt_df.query(\"fit_amplitude > @threshold\")"
   ]
  },
  {
   "cell_type": "code",
   "execution_count": 35,
   "id": "c0d1c928-9d0b-4ff5-8970-5247213f5a84",
   "metadata": {
    "tags": []
   },
   "outputs": [],
   "source": [
    "palette = { \"qd_cell_labels_v2\": sns.color_palette(\"bright\")[1],\n",
    "            \"qd_beads_v2\": sns.color_palette(\"bright\")[2],\n",
    "            \"qd_conj_coll_click_v2\": sns.color_palette(\"bright\")[3],\n",
    "            \"qd_conj_fibro_click_v2\": sns.color_palette(\"bright\")[4]}"
   ]
  },
  {
   "cell_type": "code",
   "execution_count": 36,
   "id": "badcda98-f500-476f-8b77-112e941299b5",
   "metadata": {},
   "outputs": [],
   "source": [
    "setup_plotting_env()"
   ]
  },
  {
   "cell_type": "code",
   "execution_count": 37,
   "id": "03e9efa3-6cf3-4205-8f8a-3d56cb81ecdb",
   "metadata": {
    "tags": []
   },
   "outputs": [
    {
     "data": {
      "image/png": "[encoded data removed]",
      "text/plain": [
       "<Figure size 250x250 with 4 Axes>"
      ]
     },
     "metadata": {},
     "output_type": "display_data"
    }
   ],
   "source": [
    "fig, ax = plt.subplots(2, 2, figsize=(2.5,2.5), sharex=\"col\", sharey=True, layout=\"constrained\")\n",
    "sns.lineplot(\n",
    "    plt_df,\n",
    "    x=\"days\",\n",
    "    y=\"fit_sigma_x\",\n",
    "    hue=\"exp_type\",\n",
    "    palette=palette,\n",
    "    hue_order=[\n",
    "        # \"qd_beads_v2\",\n",
    "        # \"qd_cell_labels_v2\",\n",
    "        \"qd_conj_fibro_click_v2\",\n",
    "        \"qd_conj_coll_click_v2\",\n",
    "    ],\n",
    "    err_kws={\"alpha\": .5},\n",
    "    marker=\"o\",\n",
    "    legend=False,\n",
    "    ax=ax[0][1],\n",
    ")\n",
    "sns.lineplot(\n",
    "    plt_df,\n",
    "    x=\"days\",\n",
    "    y=\"fit_sigma_y\",\n",
    "    hue=\"exp_type\",\n",
    "    palette=palette,\n",
    "    hue_order=[\n",
    "        # \"qd_beads_v2\",\n",
    "        # \"qd_cell_labels_v2\",\n",
    "        \"qd_conj_fibro_click_v2\",\n",
    "        \"qd_conj_coll_click_v2\",\n",
    "    ],\n",
    "    err_kws={\"alpha\": .5},\n",
    "    legend=False,\n",
    "    marker=\"o\",\n",
    "    ax=ax[1][1],\n",
    ")\n",
    "\n",
    "sns.lineplot(\n",
    "    plt_df,\n",
    "    x=\"days\",\n",
    "    y=\"fit_sigma_x\",\n",
    "    hue=\"exp_type\",\n",
    "    palette=palette,\n",
    "    hue_order=[\n",
    "        \"qd_beads_v2\",\n",
    "        # \"qd_cell_labels_v2\",\n",
    "    ],\n",
    "    err_kws={\"alpha\": .5},\n",
    "    marker=\"o\",\n",
    "    legend=False,\n",
    "    ax=ax[0][0],\n",
    ")\n",
    "sns.lineplot(\n",
    "    plt_df,\n",
    "    x=\"days\",\n",
    "    y=\"fit_sigma_y\",\n",
    "    hue=\"exp_type\",\n",
    "    palette=palette,\n",
    "    hue_order=[\n",
    "        \"qd_beads_v2\",\n",
    "        # \"qd_cell_labels_v2\",\n",
    "    ],\n",
    "    err_kws={\"alpha\": .5},\n",
    "    legend=False,\n",
    "    marker=\"o\",\n",
    "    ax=ax[1][0],\n",
    ")\n",
    "\n",
    "ax[0][1].set_ylim(0,15)\n",
    "ax[0][1].set_xlim(0,150)\n",
    "ax[1][0].set_xlim(0,20)\n",
    "ax[1][0].set_xlabel(\"\")\n",
    "ax[1][1].set_xlabel(\"\")\n",
    "fig.supxlabel(\"Days post-injection\")\n",
    "# ax[1].set_xticks([0, 130])\n",
    "# ax[1].legend(bbox_to_anchor=(1.05,1.))\n",
    "ax[0][0].set_ylabel(\"X-axis spread (pixels)\")\n",
    "ax[1][0].set_ylabel(\"Y-axis spread (pixels)\")\n",
    "# ax[1].set_xlabel(\"Days post-injection\")\n",
    "sns.despine(trim=True, offset=5)\n",
    "fig.savefig(os.path.join(fig_dir, \"autocorr_xyspread_antibodies&beadsv2.pdf\"), bbox_inches=\"tight\", dpi=600)"
   ]
  },
  {
   "cell_type": "markdown",
   "id": "4ee0cc54-61f3-4de3-9248-d17af7ef0ced",
   "metadata": {},
   "source": [
    "# Have a look at spatial autocorrelation for the dilution series..."
   ]
  },
  {
   "cell_type": "code",
   "execution_count": 38,
   "id": "1adb7674-aea6-4f23-8811-3d1aae7a30b8",
   "metadata": {},
   "outputs": [],
   "source": [
    "def get_center_value(x, radius=10):\n",
    "    h, w = x.shape\n",
    "    use_mask = np.zeros(x.shape, dtype=\"bool\")\n",
    "    h, w = x.shape\n",
    "    cy, cx = h // 2, w // 2\n",
    "    Y, X = np.ogrid[:h, :w]\n",
    "    r = np.sqrt((Y - cy)**2 + (X - cx)**2)\n",
    "    use_mask[r < radius] = 1\n",
    "    peak_power = x[use_mask].mean()\n",
    "    return peak_power"
   ]
  },
  {
   "cell_type": "code",
   "execution_count": 39,
   "id": "80968957-1de4-4242-9909-c97d60f3cc41",
   "metadata": {},
   "outputs": [],
   "source": [
    "def get_border_amplitude(x, radius=(10,100)):\n",
    "    use_mask = np.zeros(x.shape, dtype=\"bool\")\n",
    "    h, w = x.shape\n",
    "    cy, cx = h // 2, w // 2\n",
    "    Y, X = np.ogrid[:h, :w]\n",
    "    r = np.sqrt((Y - cy)**2 + (X - cx)**2)\n",
    "    use_mask[(r > radius[0]) & (r<radius[1])] = 1\n",
    "    noise_power = x[use_mask].mean()\n",
    "    return noise_power"
   ]
  },
  {
   "cell_type": "code",
   "execution_count": 40,
   "id": "dd0a2554-331c-4352-b7f6-aa1cebe97a00",
   "metadata": {
    "tags": []
   },
   "outputs": [],
   "source": [
    "cell_label_df = corr_df.query(\"subject.str.contains('cell') and days == 0 and exp_type != 'exposure' and pulse_width == .023\").copy()"
   ]
  },
  {
   "cell_type": "code",
   "execution_count": 41,
   "id": "2d11f94c-b2b5-45a4-a961-a57fdbb81a99",
   "metadata": {
    "tags": []
   },
   "outputs": [],
   "source": [
    "cell_label_df[\"volume\"] = cell_label_df[\"subject\"].str.extract(\"(\\.*\\d+)ul\").astype(\"float\")\n",
    "cell_label_df[\"volume\"] = cell_label_df[\"volume\"].fillna(2)"
   ]
  },
  {
   "cell_type": "code",
   "execution_count": 42,
   "id": "4843192e-5aee-49f8-9c01-d35ac375811f",
   "metadata": {},
   "outputs": [],
   "source": [
    "cell_label_df[\"corr_peak\"] = cell_label_df[\"ave_corr\"].apply(get_center_value)\n",
    "cell_label_df[\"corr_std\"] = cell_label_df[\"ave_corr\"].apply(get_border_amplitude)\n",
    "cell_label_df[\"corr_snr\"] = ((cell_label_df[\"corr_peak\"] - cell_label_df[\"corr_std\"]))"
   ]
  },
  {
   "cell_type": "code",
   "execution_count": 43,
   "id": "1f0ef442-1a1d-4a62-a162-2042f71a6ad4",
   "metadata": {
    "tags": []
   },
   "outputs": [],
   "source": [
    "ave_cell_label_df = cell_label_df.groupby([\"subject\", \"camera\", \"volume\"])[\n",
    "    [\"corr_peak\", \"corr_snr\", \"corr_std\", \"fit_amplitude\", \"fit_sigma_x\", \"fit_sigma_y\"]\n",
    "].mean()"
   ]
  },
  {
   "cell_type": "code",
   "execution_count": 44,
   "id": "49b76c75-c06e-4d6c-8092-eec6517c4a58",
   "metadata": {},
   "outputs": [],
   "source": [
    "ave_cell_label_df[\"fit_ratio\"] = (\n",
    "    ave_cell_label_df[\"fit_sigma_x\"] / ave_cell_label_df[\"fit_sigma_y\"]\n",
    ")"
   ]
  },
  {
   "cell_type": "code",
   "execution_count": 45,
   "id": "27334af3-1be7-49e9-9842-1b97b511dd92",
   "metadata": {
    "tags": []
   },
   "outputs": [
    {
     "data": {
      "image/png": "[encoded data removed]",
      "text/plain": [
       "<Figure size 150x300 with 2 Axes>"
      ]
     },
     "metadata": {},
     "output_type": "display_data"
    }
   ],
   "source": [
    "fig, ax = plt.subplots(2, 1, figsize=(1.5,3), sharex=True, sharey=True)\n",
    "sns.boxplot(\n",
    "    data=ave_cell_label_df,\n",
    "    x=\"volume\",\n",
    "    y=\"fit_sigma_x\",\n",
    "    showfliers=False,\n",
    "    showcaps=False,\n",
    "    color=\"tab:orange\",\n",
    "    ax=ax[0],\n",
    ")\n",
    "sns.boxplot(\n",
    "    data=ave_cell_label_df,\n",
    "    x=\"volume\",\n",
    "    y=\"fit_sigma_y\",\n",
    "    showfliers=False,\n",
    "    color=\"tab:orange\",\n",
    "    showcaps=False,\n",
    "    ax=ax[1],\n",
    ")\n",
    "ax[1].set_ylim(3,10)\n",
    "ax[1].set_xlabel(\"Injection volume (µL)\")\n",
    "ax[0].set_ylabel(\"X-axis spread (pixels)\")\n",
    "ax[1].set_ylabel(\"Y-axis spread (pixels)\")\n",
    "sns.despine(trim=True)\n",
    "fig.savefig(os.path.join(fig_dir, \"autocorr_xyspread_dilution_cell_labels.pdf\"), bbox_inches=\"tight\", dpi=600)"
   ]
  },
  {
   "cell_type": "code",
   "execution_count": 46,
   "id": "d9a5ff42-6bc6-4c89-9cb1-0f699edad4c0",
   "metadata": {},
   "outputs": [
    {
     "data": {
      "image/png": "[encoded data removed]",
      "text/plain": [
       "<Figure size 150x150 with 1 Axes>"
      ]
     },
     "metadata": {},
     "output_type": "display_data"
    }
   ],
   "source": [
    "fig, ax = plt.subplots(1, figsize=(1.5,1.5))\n",
    "sns.boxplot(\n",
    "    data=ave_cell_label_df,\n",
    "    x=\"volume\",\n",
    "    y=\"fit_ratio\",\n",
    "    color=\"tab:orange\",\n",
    "    showfliers=False,\n",
    "    showcaps=False,\n",
    ")\n",
    "ax.axhline(y=1, color=\"k\")\n",
    "ax.set_ylim(.75, 1.25)\n",
    "sns.despine(trim=True)\n",
    "fig.savefig(os.path.join(fig_dir, \"autocorr_spread_x-to-y-ratio_dilution_cell_labels.pdf\"), bbox_inches=\"tight\", dpi=600)"
   ]
  },
  {
   "cell_type": "markdown",
   "id": "99b0d611-04a8-47cd-a1f3-97dd4d11126c",
   "metadata": {},
   "source": [
    "# Load in fluorescence amplitudes to get some SNR measurements..."
   ]
  },
  {
   "cell_type": "code",
   "execution_count": 47,
   "id": "b2280318-864c-4364-81b3-db105aec3589",
   "metadata": {},
   "outputs": [],
   "source": [
    "fluo_df = pd.read_parquet(    \n",
    "    os.path.join(config[\"dirs\"][\"data\"], \"dataframes/fluorescence_intensity_over_time.parquet\")\n",
    ")\n",
    "fluo_df.loc[fluo_df[\"subject\"].str.contains(\"qdr_exp\"),\"exp_type\"] = \"exposure\""
   ]
  },
  {
   "cell_type": "code",
   "execution_count": 48,
   "id": "385d31f5-2e7f-4dac-b8af-6b5399f8e944",
   "metadata": {},
   "outputs": [
    {
     "data": {
      "application/vnd.jupyter.widget-view+json": {
       "model_id": "7f26840b475f4ac4a30ad3ce668c0c92",
       "version_major": 2,
       "version_minor": 0
      },
      "text/plain": [
       "  0%|          | 0/1470 [00:00<?, ?it/s]"
      ]
     },
     "metadata": {},
     "output_type": "display_data"
    }
   ],
   "source": [
    "filenames = fluo_df[\"filename\"].unique()\n",
    "metadata = {}\n",
    "save_metadata = {\"gain\": {}}\n",
    "for _filename in tqdm(filenames):\n",
    "    try:\n",
    "        metadata[_filename] = toml.load(os.path.join(os.path.dirname(_filename), \"../metadata.toml\")) \n",
    "    except FileNotFoundError:\n",
    "        continue\n",
    "    cameras = list(metadata[_filename][\"cameras\"].keys())\n",
    "    save_metadata[\"gain\"][_filename] = np.round(metadata[_filename][\"camera_metadata\"][cameras[0]][\"Gain\"])\n",
    "fluo_df[\"gain\"] = fluo_df[\"filename\"].map(save_metadata[\"gain\"])"
   ]
  },
  {
   "cell_type": "code",
   "execution_count": 49,
   "id": "4a369d55-efef-49bb-8b37-13e5ee659330",
   "metadata": {},
   "outputs": [],
   "source": [
    "fluo_df[\"pulse_width\"] = fluo_df[\"hw_trigger_pulse_width\"].apply(lambda x: float(x.split(\", \")[1][:-1]))"
   ]
  },
  {
   "cell_type": "code",
   "execution_count": 50,
   "id": "dc62b2d3-b4b5-4da0-b952-ae0c3deb0b1a",
   "metadata": {},
   "outputs": [],
   "source": [
    "fluo_df[\"volume\"] = fluo_df[\"subject\"].str.extract(\"(\\.*\\d+)ul\").astype(\"float\")\n",
    "fluo_df[\"volume\"] = fluo_df[\"volume\"].fillna(2)\n",
    "use_fluo_df = fluo_df.query(\"subject.str.contains('cell') and days == 0 and exp_type != 'exposure' and pulse_width == .023\").copy()"
   ]
  },
  {
   "cell_type": "code",
   "execution_count": 51,
   "id": "b27ac144-591f-4861-badc-1a167b1f7efd",
   "metadata": {},
   "outputs": [],
   "source": [
    "plt_var = \"q1.0_fullframe_bpass\""
   ]
  },
  {
   "cell_type": "code",
   "execution_count": 52,
   "id": "90b993a2-44d9-4402-ac6d-84494b1b7d08",
   "metadata": {},
   "outputs": [],
   "source": [
    "plt_data = (\n",
    "    use_fluo_df.groupby([\"days\", \"subject\", \"camera\", \"exp_type\", \"pulse_width\", \"volume\"])[plt_var]\n",
    "    .mean()\n",
    ").reset_index()"
   ]
  },
  {
   "cell_type": "code",
   "execution_count": 53,
   "id": "03909484-468c-4c42-a654-e605be056f90",
   "metadata": {},
   "outputs": [],
   "source": [
    "blank_ci = fluo_df.query(\"exp_type == 'vehicle_v2'\").groupby([\"subject\",\"filename\"])[plt_var].mean()\n",
    "rng = np.random.default_rng(seed=0)\n",
    "rand_mus = [blank_ci.sample(frac=1, replace=True, random_state=rng).mean() for _ in range(1000)]\n",
    "rand_mus = pd.DataFrame(rand_mus)\n",
    "ci_high = rand_mus.quantile(.99)"
   ]
  },
  {
   "cell_type": "code",
   "execution_count": 54,
   "id": "c6ca80b4-1b4a-427c-9a3b-9e7386738ce8",
   "metadata": {},
   "outputs": [
    {
     "data": {
      "image/png": "[encoded data removed]",
      "text/plain": [
       "<Figure size 125x250 with 2 Axes>"
      ]
     },
     "metadata": {},
     "output_type": "display_data"
    }
   ],
   "source": [
    "fig, ax = plt.subplots(2, 1, figsize=(1.25,2.5), sharex=True)\n",
    "\n",
    "sns.boxplot(\n",
    "    data=ave_cell_label_df,\n",
    "    x=\"volume\",\n",
    "    y=\"fit_ratio\",\n",
    "    color=\"tab:orange\",\n",
    "    showfliers=False,\n",
    "    showcaps=False,\n",
    "    ax=ax[0],\n",
    ")\n",
    "ax[0].axhline(y=1, color=\"k\")\n",
    "ax[0].set_ylim(.75, 1.25)\n",
    "# sns.despine(trim=True)\n",
    "\n",
    "sns.boxplot(\n",
    "    plt_data,\n",
    "    showcaps=False,\n",
    "    showfliers=False,\n",
    "    color=\"tab:orange\",\n",
    "    x=\"volume\",\n",
    "    y=\"q1.0_fullframe_bpass\",\n",
    "    ax=ax[1],\n",
    ")\n",
    "xlims = ax[1].get_xlim()\n",
    "ax[1].fill_between(x=xlims, y1=[ci_high.iat[0]]*2, color=\"k\", alpha=.3)\n",
    "ax[1].axhline(y=ci_high.iat[0], color=\"k\", lw=1.5)\n",
    "ax[1].set_xlim(xlims)\n",
    "ax[1].set_ylim(0,120)\n",
    "ax[1].set_ylabel(\"Time average\")\n",
    "ax[1].set_xlabel(\"Injection volume (µL)\")\n",
    "sns.despine(offset=5, trim=True)\n",
    "fig.savefig(os.path.join(fig_dir, \"average_aspect_ratio_and_fluorescence_dilution_cell_labels.pdf\"), bbox_inches=\"tight\", dpi=600)"
   ]
  },
  {
   "cell_type": "code",
   "execution_count": 55,
   "id": "db5db925-322f-4994-8171-cef3e89652e2",
   "metadata": {},
   "outputs": [],
   "source": [
    "use_fluo_df = fluo_df.query(\"subject.str.contains('cell') and days == 0 and exp_type == 'exposure'\").copy()"
   ]
  },
  {
   "cell_type": "code",
   "execution_count": 56,
   "id": "18219904-06f9-4f69-a330-10d19c153df7",
   "metadata": {},
   "outputs": [],
   "source": [
    "plt_data = (\n",
    "    use_fluo_df.groupby([\"days\", \"subject\", \"camera\", \"exp_type\", \"pulse_width\", \"gain\", \"volume\"])[plt_var]\n",
    "    .mean()\n",
    ").reset_index()"
   ]
  },
  {
   "cell_type": "code",
   "execution_count": 57,
   "id": "2b26ca26-c055-43f6-ac52-7af6d82358d4",
   "metadata": {},
   "outputs": [],
   "source": [
    "exposure_df = corr_df.query(\"days == 0 and exp_type == 'exposure'\").copy()\n",
    "exposure_df[\"im_size\"] = exposure_df[\"im_shape\"].apply(np.prod)\n",
    "exposure_df[\"corr_peak\"] = exposure_df[\"ave_corr\"].apply(get_center_value)\n",
    "exposure_df[\"corr_std\"] = exposure_df[\"ave_corr\"].apply(get_border_amplitude)\n",
    "exposure_df[\"corr_snr\"] = ((exposure_df[\"corr_peak\"] - exposure_df[\"corr_std\"]))\n",
    "ave_corr_df = exposure_df.groupby([\"exp_type\",\"pulse_width\",\"gain\",\"filename\"])[[\"corr_snr\",\"fit_sigma_x\",\"fit_sigma_y\"]].mean().reset_index()"
   ]
  },
  {
   "cell_type": "code",
   "execution_count": 58,
   "id": "afae2a22-90f3-467a-ab8f-f3d8dd65b8fc",
   "metadata": {},
   "outputs": [
    {
     "data": {
      "image/png": "[encoded data removed]",
      "text/plain": [
       "<Figure size 150x450 with 3 Axes>"
      ]
     },
     "metadata": {},
     "output_type": "display_data"
    }
   ],
   "source": [
    "fig, ax = plt.subplots(3,1, figsize=(1.5,4.5))\n",
    "sns.boxplot(\n",
    "    plt_data,\n",
    "    showfliers=False,\n",
    "    showcaps=False,\n",
    "    hue=\"pulse_width\",\n",
    "    palette=sns.color_palette(\"tab10\")[1:3],\n",
    "    x=\"gain\",\n",
    "    y=\"q1.0_fullframe_bpass\",\n",
    "    ax=ax[0],\n",
    "    legend=False,\n",
    ")\n",
    "sns.boxplot(\n",
    "    data=ave_corr_df,\n",
    "    x=\"gain\",\n",
    "    y=\"fit_sigma_x\",\n",
    "    showfliers=False,\n",
    "    showcaps=False,\n",
    "    hue=\"pulse_width\",\n",
    "    palette=sns.color_palette(\"tab10\")[1:3],\n",
    "    ax=ax[1],\n",
    "    legend=False,\n",
    ")\n",
    "sns.boxplot(\n",
    "    data=ave_corr_df,\n",
    "    x=\"gain\",\n",
    "    y=\"fit_sigma_y\",\n",
    "    showfliers=False,\n",
    "    showcaps=False,\n",
    "    hue=\"pulse_width\",\n",
    "    palette=sns.color_palette(\"tab10\")[1:3],\n",
    "    ax=ax[2],\n",
    ")\n",
    "ax[1].set_ylim(4,25)\n",
    "ax[2].set_ylim(4,25)\n",
    "# ax[1].set_xlabel(\"Gain (dB)\")\n",
    "ax[0].set_ylabel(\"Time average fluo.\")\n",
    "ax[1].set_ylabel(\"X-axis spread (pixels)\")\n",
    "ax[2].set_ylabel(\"Y-axis spread (pixels)\")\n",
    "\n",
    "sns.despine(trim=True)\n",
    "fig.savefig(os.path.join(fig_dir, \"autocorr_xyspread_gain.pdf\"), bbox_inches=\"tight\", dpi=600)"
   ]
  },
  {
   "cell_type": "code",
   "execution_count": null,
   "id": "360c630b-0185-40c8-9c6f-8abf9d11263a",
   "metadata": {},
   "outputs": [],
   "source": []
  }
 ],
 "metadata": {
  "kernelspec": {
   "display_name": "Python 3 (ipykernel)",
   "language": "python",
   "name": "python3"
  },
  "language_info": {
   "codemirror_mode": {
    "name": "ipython",
    "version": 3
   },
   "file_extension": ".py",
   "mimetype": "text/x-python",
   "name": "python",
   "nbconvert_exporter": "python",
   "pygments_lexer": "ipython3",
   "version": "3.10.0"
  }
 },
 "nbformat": 4,
 "nbformat_minor": 5
}
