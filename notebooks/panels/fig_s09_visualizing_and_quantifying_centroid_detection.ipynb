{
 "cells": [
  {
   "cell_type": "code",
   "execution_count": 1,
   "id": "6fdf449c-18e7-4dcc-a194-9de011757c91",
   "metadata": {
    "tags": []
   },
   "outputs": [],
   "source": [
    "%load_ext autoreload\n",
    "%autoreload 2\n",
    "%matplotlib inline"
   ]
  },
  {
   "cell_type": "code",
   "execution_count": 2,
   "id": "b36625c3-8fad-41cf-8e40-89e797051029",
   "metadata": {
    "tags": []
   },
   "outputs": [],
   "source": [
    "import os\n",
    "import matplotlib.pyplot as plt\n",
    "import numpy as np\n",
    "import skimage\n",
    "import toml\n",
    "import glob\n",
    "from tqdm.auto import tqdm\n",
    "import joblib\n",
    "import pandas as pd\n",
    "import seaborn as sns"
   ]
  },
  {
   "cell_type": "code",
   "execution_count": 3,
   "id": "33b17db1-5ff6-4729-bc5e-80afd1f85518",
   "metadata": {},
   "outputs": [],
   "source": [
    "from qd_analysis.fig import setup_plotting_env"
   ]
  },
  {
   "cell_type": "code",
   "execution_count": 4,
   "id": "b349fb58-1bc9-4ed2-ba7b-42b95b3f09ca",
   "metadata": {
    "tags": []
   },
   "outputs": [],
   "source": [
    "import socket\n",
    "hostname = socket.gethostname()\n",
    "\n",
    "config = toml.load(\"../preprocessing/config.toml\")\n",
    "if \"pace\" in hostname:\n",
    "    save_dir = config[\"dirs\"][\"analysis\"]\n",
    "    fig_dir = os.path.expanduser(\"~/shared_folder/active_lab_members/markowitz_jeffrey/panels/2025-04 (QD paper round 2)/\")\n",
    "else:\n",
    "    save_dir = os.path.expanduser(\"~/Desktop/data/qds_sciadv_rebuttal/quantum_dot_analysis/\")\n",
    "\n",
    "use_joints = False"
   ]
  },
  {
   "cell_type": "code",
   "execution_count": 5,
   "id": "388d4c85-619d-442c-b338-a6dd9dc04a2c",
   "metadata": {
    "tags": []
   },
   "outputs": [],
   "source": [
    "if use_joints:\n",
    "    save_file = os.path.join(save_dir, \"kpoint_training_dataset_qd_alignment_kneejoints_reflect_only_round2_manual_labeling_nofluo_version-v1.parquet\") \n",
    "else:\n",
    "    save_file = os.path.join(save_dir, \"kpoint_training_dataset_qd_alignment_round2_manual_labeling_nofluo_version-v1.parquet\")     "
   ]
  },
  {
   "cell_type": "code",
   "execution_count": 6,
   "id": "b683bb93-a5b9-4170-a62c-8dc85bece705",
   "metadata": {
    "tags": []
   },
   "outputs": [],
   "source": [
    "qd_df = pd.read_parquet(save_file)"
   ]
  },
  {
   "cell_type": "code",
   "execution_count": 7,
   "id": "13034b9a-60d4-486c-8ed3-b588c5eb531b",
   "metadata": {
    "tags": []
   },
   "outputs": [],
   "source": [
    "tqdm.pandas()"
   ]
  },
  {
   "cell_type": "code",
   "execution_count": 8,
   "id": "aee4eb0a-4969-4517-995f-b5c4fbd96d0f",
   "metadata": {
    "tags": []
   },
   "outputs": [],
   "source": [
    "# use all data if on PACE, otherwise trim down for laptop\n",
    "if \"pace\" in hostname:\n",
    "    use_df = qd_df.query(\"crop_valid\").groupby(\"kpoint_name\").sample(2000, random_state=0).copy()\n",
    "else:\n",
    "    use_df = qd_df.query(\"crop_valid\").groupby(\"kpoint_name\").sample(2000, random_state=0).copy()\n",
    "use_df.index = np.arange(len(use_df))"
   ]
  },
  {
   "cell_type": "code",
   "execution_count": 9,
   "id": "808602f2-9f2e-453e-8ba6-d9449d6e2214",
   "metadata": {
    "tags": []
   },
   "outputs": [
    {
     "data": {
      "application/vnd.jupyter.widget-view+json": {
       "model_id": "029e948027d14422aeca10c611b8ae38",
       "version_major": 2,
       "version_minor": 0
      },
      "text/plain": [
       "  0%|          | 0/20000 [00:00<?, ?it/s]"
      ]
     },
     "metadata": {},
     "output_type": "display_data"
    }
   ],
   "source": [
    "use_df[\"crop_im\"] = use_df[\"crop_im\"].progress_apply(lambda x: np.clip(np.vstack(x).astype(\"int16\"), 0, np.inf))"
   ]
  },
  {
   "cell_type": "markdown",
   "id": "6d47d1a8-2709-449e-af98-b0becbc7a7d6",
   "metadata": {},
   "source": [
    "# user functions"
   ]
  },
  {
   "cell_type": "code",
   "execution_count": 10,
   "id": "ba041cc6-e1f5-4f6e-a94f-e4f6f4891eb8",
   "metadata": {},
   "outputs": [
    {
     "data": {
      "text/plain": [
       "(30, 30)"
      ]
     },
     "execution_count": 10,
     "metadata": {},
     "output_type": "execute_result"
    }
   ],
   "source": [
    "use_df[\"crop_im\"].iat[0].shape"
   ]
  },
  {
   "cell_type": "code",
   "execution_count": 11,
   "id": "6700e4a8-1959-4565-99c6-f90e1bb5dbda",
   "metadata": {
    "tags": []
   },
   "outputs": [],
   "source": [
    "def get_new_center(im, detect_blob=False):\n",
    "    new_im = im.copy()\n",
    "    if detect_blob:\n",
    "        mask = pcl.fluo.get_closest_blob(new_im)\n",
    "        new_im[mask == 0] = 0\n",
    "\n",
    "    kpoint_gauss_params, kpoint_moment_params = (\n",
    "        pcl.fluo.fit_2d_gaussian_with_moments(\n",
    "            new_im, loss=\"linear\",\n",
    "        )\n",
    "    )\n",
    "    kpoint_com = [\n",
    "        kpoint_moment_params[\"x0\"],\n",
    "        kpoint_moment_params[\"y0\"],\n",
    "        kpoint_moment_params[\"sigma_x\"],\n",
    "        kpoint_moment_params[\"sigma_y\"]\n",
    "    ]\n",
    "\n",
    "    if kpoint_gauss_params is not None:\n",
    "        kpoint_com_gauss = [\n",
    "            kpoint_gauss_params[\"x0\"],\n",
    "            kpoint_gauss_params[\"y0\"],\n",
    "            kpoint_gauss_params[\"sigma_x\"],\n",
    "            kpoint_gauss_params[\"sigma_y\"],\n",
    "        ]\n",
    "    else:\n",
    "        kpoint_com_gauss = [np.nan, np.nan, np.nan, np.nan]\n",
    "    return {\"com\": kpoint_com, \"com_gauss\": kpoint_com_gauss}"
   ]
  },
  {
   "cell_type": "markdown",
   "id": "68059efa-29be-4db5-99f2-84a2b8bb716d",
   "metadata": {},
   "source": [
    "# apply different methods here...\n",
    "1. CoM\n",
    "2. Gauss CoM\n",
    "3. Blob detected CoM\n",
    "4. Blob detected Gauss CoM"
   ]
  },
  {
   "cell_type": "code",
   "execution_count": 12,
   "id": "ffbf9ecc-7b09-441f-bbc9-0f013e8cef31",
   "metadata": {
    "tags": []
   },
   "outputs": [],
   "source": [
    "from markovids import pcl"
   ]
  },
  {
   "cell_type": "code",
   "execution_count": 13,
   "id": "3c8214ca-80a4-425b-bc0b-37650b3c4354",
   "metadata": {
    "tags": []
   },
   "outputs": [],
   "source": [
    "from scipy.ndimage import shift"
   ]
  },
  {
   "cell_type": "code",
   "execution_count": 14,
   "id": "310db898-931e-4ce1-9189-21448cef411a",
   "metadata": {
    "tags": []
   },
   "outputs": [
    {
     "data": {
      "application/vnd.jupyter.widget-view+json": {
       "model_id": "8155365762a04ad8b07f6f26d11e1cfc",
       "version_major": 2,
       "version_minor": 0
      },
      "text/plain": [
       "  0%|          | 0/20000 [00:00<?, ?it/s]"
      ]
     },
     "metadata": {},
     "output_type": "display_data"
    },
    {
     "data": {
      "application/vnd.jupyter.widget-view+json": {
       "model_id": "cb2f0767394c4082bdb7be763829372f",
       "version_major": 2,
       "version_minor": 0
      },
      "text/plain": [
       "  0%|          | 0/20000 [00:00<?, ?it/s]"
      ]
     },
     "metadata": {},
     "output_type": "display_data"
    }
   ],
   "source": [
    "no_blob_com = use_df[\"crop_im\"].progress_apply(lambda x: get_new_center(x, detect_blob=False))\n",
    "blob_com = use_df[\"crop_im\"].progress_apply(lambda x: get_new_center(x, detect_blob=True))"
   ]
  },
  {
   "cell_type": "code",
   "execution_count": 15,
   "id": "4c40a977-bd96-4e32-aa5d-e1a26560ab79",
   "metadata": {
    "tags": []
   },
   "outputs": [],
   "source": [
    "shift_kwargs = {\"mode\": \"constant\", \"cval\": 0.0}"
   ]
  },
  {
   "cell_type": "code",
   "execution_count": 16,
   "id": "b129b403-d6c4-4fbe-be77-347c5b079325",
   "metadata": {
    "tags": []
   },
   "outputs": [
    {
     "data": {
      "application/vnd.jupyter.widget-view+json": {
       "model_id": "820da70db27c4cd2a3829d33c1ccf4df",
       "version_major": 2,
       "version_minor": 0
      },
      "text/plain": [
       "  0%|          | 0/20000 [00:00<?, ?it/s]"
      ]
     },
     "metadata": {},
     "output_type": "display_data"
    }
   ],
   "source": [
    "use_df[\"crop_im_com_no_blob\"] = None\n",
    "use_df[\"crop_im_com_gauss_no_blob\"] = None\n",
    "use_df[\"crop_im_com_blob\"] = None\n",
    "use_df[\"crop_im_com_gauss_blob\"] = None\n",
    "\n",
    "body_parts = sorted(use_df[\"kpoint_name\"].unique())\n",
    "im_shape = use_df[\"crop_im\"].iat[0].shape\n",
    "center_y, center_x = im_shape[0] // 2, im_shape[1] // 2\n",
    "\n",
    "for i in tqdm(range(len(use_df))):\n",
    "    \n",
    "    x1 = np.isnan(no_blob_com.iloc[i][\"com\"]).any()\n",
    "    x2 = np.isnan(no_blob_com.iloc[i][\"com_gauss\"]).any()\n",
    "    x3 = np.isnan(blob_com.iloc[i][\"com_gauss\"]).any()\n",
    "    x4 = np.isnan(blob_com.iloc[i][\"com_gauss\"]).any()\n",
    "\n",
    "    if x1 or x2 or x3 or x4:\n",
    "        continue\n",
    "    \n",
    "    im = use_df[\"crop_im\"].iat[i]\n",
    "    _part = use_df[\"kpoint_name\"].iat[i]\n",
    "\n",
    "    use_shift = [\n",
    "        center_y - no_blob_com.iloc[i][\"com\"][1],\n",
    "        center_x - no_blob_com.iloc[i][\"com\"][0],\n",
    "    ]\n",
    "\n",
    "    use_df.at[i, \"fit_sigma_x_com_no_blob\"] = no_blob_com.iloc[i][\"com\"][2]\n",
    "    use_df.at[i, \"fit_sigma_y_com_no_blob\"] = no_blob_com.iloc[i][\"com\"][3]\n",
    "    use_df.at[i,\"crop_im_com_no_blob\"] = shift(im, use_shift, **shift_kwargs)\n",
    "    \n",
    "    use_shift = [\n",
    "        center_y - no_blob_com.iloc[i][\"com_gauss\"][1],\n",
    "        center_x - no_blob_com.iloc[i][\"com_gauss\"][0],\n",
    "    ]\n",
    "\n",
    "    use_df.at[i, \"fit_sigma_x_com_gauss_no_blob\"] = no_blob_com.iloc[i][\"com_gauss\"][2]\n",
    "    use_df.at[i, \"fit_sigma_y_com_gauss_no_blob\"] = no_blob_com.iloc[i][\"com_gauss\"][3]\n",
    "    use_df.at[i,\"crop_im_com_gauss_no_blob\"] = shift(im, use_shift, **shift_kwargs)\n",
    "    \n",
    "    use_shift = [\n",
    "        center_y - blob_com.iloc[i][\"com\"][1],\n",
    "        center_x - blob_com.iloc[i][\"com\"][0],\n",
    "    ]\n",
    "\n",
    "    use_df.at[i, \"fit_sigma_x_com_blob\"] = blob_com.iloc[i][\"com\"][2]\n",
    "    use_df.at[i, \"fit_sigma_y_com_blob\"] = blob_com.iloc[i][\"com\"][3]\n",
    "    use_df.at[i,\"crop_im_com_blob\"] = shift(im, use_shift, **shift_kwargs)\n",
    "\n",
    "    use_shift = [\n",
    "        center_y - blob_com.iloc[i][\"com_gauss\"][1],\n",
    "        center_x - blob_com.iloc[i][\"com_gauss\"][0],\n",
    "    ]\n",
    "\n",
    "    use_df.at[i, \"fit_sigma_x_com_gauss_blob\"] = blob_com.iloc[i][\"com_gauss\"][2]\n",
    "    use_df.at[i, \"fit_sigma_y_com_gauss_blob\"] = blob_com.iloc[i][\"com_gauss\"][3]\n",
    "    use_df.at[i,\"crop_im_com_gauss_blob\"] = shift(im, use_shift, **shift_kwargs)"
   ]
  },
  {
   "cell_type": "code",
   "execution_count": 17,
   "id": "70454da5-1880-471d-9a28-77993d4d46b8",
   "metadata": {
    "tags": []
   },
   "outputs": [],
   "source": [
    "show_pixels = slice(center_y - 15, center_y + 15)\n",
    "cmap_kwargs = {\"vmin\": 0, \"vmax\": 165, \"cmap\": \"turbo\"}"
   ]
  },
  {
   "cell_type": "code",
   "execution_count": 19,
   "id": "58bcc691-820b-460d-9d4c-e7e272a4a408",
   "metadata": {
    "tags": []
   },
   "outputs": [],
   "source": [
    "# for _part in body_parts:\n",
    "#     fig, ax = plt.subplots(2, 3, figsize=(6,4), sharex=True, sharey=True)\n",
    "#     for rax, _blob in zip(ax, [\"no_blob\",\"blob\"]):\n",
    "#         for _ax, _com in zip(rax[1:], [\"com\",\"com_gauss\"]):\n",
    "#             key = f\"{_blob}_{_com}\"\n",
    "#             h = _ax.imshow(np.mean(shift_ims[key][_part],axis=0)[show_pixels][:,show_pixels], **cmap_kwargs) \n",
    "#             _ax.axis(\"off\")\n",
    "#             _ax.set_title(key)\n",
    "#     ax[0][0].imshow(np.mean(shift_ims[\"raw\"][_part],axis=0)[show_pixels][:,show_pixels], **cmap_kwargs) \n",
    "#     ax[1][0].axis(\"off\")\n",
    "#     fig.suptitle(_part)\n",
    "#     fig.colorbar(h, ax=ax.ravel(), shrink=.5)"
   ]
  },
  {
   "cell_type": "markdown",
   "id": "71f1423c-8c74-4c94-962d-841c51b859f0",
   "metadata": {},
   "source": [
    "# For simplicity combine, back, paws and tail"
   ]
  },
  {
   "cell_type": "code",
   "execution_count": 22,
   "id": "05fb4131-f281-4ade-a5a4-5afd7273d8b4",
   "metadata": {
    "tags": []
   },
   "outputs": [],
   "source": [
    "import cmocean"
   ]
  },
  {
   "cell_type": "code",
   "execution_count": 23,
   "id": "1a5e5ab8-ae18-4409-989c-34a1c1e95453",
   "metadata": {
    "tags": []
   },
   "outputs": [],
   "source": [
    "# now combine back, tail, paws\n",
    "segments = {}\n",
    "segments[\"back\"]  = [\"back_bottom\",\"back_middle\",\"back_top\"]\n",
    "segments[\"paws\"]  = [\"foreleg_L\", \"foreleg_R\", \"hindleg_L\", \"hindleg_R\"]\n",
    "segments[\"tail\"]  = [\"tail_base\", \"tail_middle\", \"tail_tip\"]\n",
    "map_body_part_to_segment = {}\n",
    "for k, v in segments.items():\n",
    "    for _v in v:\n",
    "        map_body_part_to_segment[_v] = k"
   ]
  },
  {
   "cell_type": "code",
   "execution_count": 24,
   "id": "fbe04943-8308-4cc2-ba4c-11d64d7d2b08",
   "metadata": {
    "tags": []
   },
   "outputs": [],
   "source": [
    "use_df[\"segment\"] = use_df[\"kpoint_name\"].map(map_body_part_to_segment)"
   ]
  },
  {
   "cell_type": "code",
   "execution_count": 25,
   "id": "8d3011b6-ec2c-4521-952f-9f0f607e46e6",
   "metadata": {
    "tags": []
   },
   "outputs": [],
   "source": [
    "aliases = {\"crop_im\": \"original\",\n",
    "           \"crop_im_com_no_blob\": \"CoM\",\n",
    "           \"crop_im_com_blob\": \"CoM + Cleanup\",\n",
    "           \"crop_im_com_gauss_no_blob\": \"Gauss.\",\n",
    "           \"crop_im_com_gauss_blob\": \"Gauss. + Cleanup\"} # aliases for plotting im keys"
   ]
  },
  {
   "cell_type": "code",
   "execution_count": 26,
   "id": "cf633e26-2e34-4dc8-9e43-04e569c25214",
   "metadata": {
    "tags": []
   },
   "outputs": [],
   "source": [
    "plt_order = [\"crop_im\", \"crop_im_com_no_blob\", \"crop_im_com_blob\", \"crop_im_com_gauss_no_blob\", \"crop_im_com_gauss_blob\"]\n",
    "segments_im = {_k: use_df.groupby(\"segment\")[_k].mean() for _k in plt_order}"
   ]
  },
  {
   "cell_type": "code",
   "execution_count": 27,
   "id": "414763ee-2060-48b0-a45b-3ad83aab2927",
   "metadata": {
    "tags": []
   },
   "outputs": [],
   "source": [
    "nrows = len(segments_im)\n",
    "ncols = len(list(segments_im.values())[0])"
   ]
  },
  {
   "cell_type": "code",
   "execution_count": 28,
   "id": "e0fd7b62-e79d-4512-bcda-2dc9365ff169",
   "metadata": {
    "tags": []
   },
   "outputs": [],
   "source": [
    "show_pixels = slice(center_y - 15, center_y + 15)\n",
    "# cmap_kwargs = {\"vmin\": 0, \"vmax\": 150, \"cmap\": cmocean.cm.ice}\n",
    "cmap_kwargs = {\"vmin\": 0, \"vmax\": 150, \"cmap\": \"inferno\"}"
   ]
  },
  {
   "cell_type": "code",
   "execution_count": 29,
   "id": "83eb93d8-fcbd-4c7e-9728-bd7bfa87d921",
   "metadata": {},
   "outputs": [],
   "source": [
    "setup_plotting_env()"
   ]
  },
  {
   "cell_type": "code",
   "execution_count": 30,
   "id": "b07b3bb2-b227-49b4-b9c7-7299c53df0ab",
   "metadata": {},
   "outputs": [],
   "source": [
    "base_palette = sns.color_palette(\"tab10\", n_colors=len(plt_order))"
   ]
  },
  {
   "cell_type": "code",
   "execution_count": 31,
   "id": "1e64df62-ece0-4bd4-aef3-c38912c5b2a2",
   "metadata": {},
   "outputs": [],
   "source": [
    "# make a palette, use for borders, boxplots, etc.\n",
    "palette = dict(list(zip(plt_order, base_palette)))"
   ]
  },
  {
   "cell_type": "code",
   "execution_count": 32,
   "id": "4b6592ba-3ec5-4471-87c6-c4de207ce62c",
   "metadata": {},
   "outputs": [
    {
     "data": {
      "text/plain": [
       "{'crop_im': (0.12156862745098039, 0.4666666666666667, 0.7058823529411765),\n",
       " 'crop_im_com_no_blob': (1.0, 0.4980392156862745, 0.054901960784313725),\n",
       " 'crop_im_com_blob': (0.17254901960784313,\n",
       "  0.6274509803921569,\n",
       "  0.17254901960784313),\n",
       " 'crop_im_com_gauss_no_blob': (0.8392156862745098,\n",
       "  0.15294117647058825,\n",
       "  0.1568627450980392),\n",
       " 'crop_im_com_gauss_blob': (0.5803921568627451,\n",
       "  0.403921568627451,\n",
       "  0.7411764705882353)}"
      ]
     },
     "execution_count": 32,
     "metadata": {},
     "output_type": "execute_result"
    }
   ],
   "source": [
    "palette"
   ]
  },
  {
   "cell_type": "code",
   "execution_count": 65,
   "id": "3d657ef8-ae12-4e3e-806a-023be6437ba8",
   "metadata": {
    "tags": []
   },
   "outputs": [
    {
     "data": {
      "image/png": "[encoded data removed]",
      "text/plain": [
       "<Figure size 300x500 with 16 Axes>"
      ]
     },
     "metadata": {},
     "output_type": "display_data"
    }
   ],
   "source": [
    "fig, ax = plt.subplots(nrows, ncols, figsize=(1 * ncols, 1 * nrows), sharex=True, sharey=True)\n",
    "for rax, (com_type, ims) in zip(ax, segments_im.items()):\n",
    "    for _ax, (body_part, im) in zip(rax, ims.items()):\n",
    "        h =_ax.imshow(im[show_pixels][:, show_pixels], **cmap_kwargs)\n",
    "        row = _ax.get_subplotspec().rowspan.start\n",
    "        col = _ax.get_subplotspec().colspan.start\n",
    "        if row == 0:\n",
    "            _ax.set_title(body_part)\n",
    "        if col == 0:\n",
    "            _ax.set_ylabel(aliases[com_type], color=palette[com_type])\n",
    "        _ax.set_xticks([])\n",
    "        _ax.set_yticks([])\n",
    "        # for k, v in _ax.spines.items():\n",
    "        #     _ax.spines[k].set_color(palette[com_type])\n",
    "        #     _ax.spines[k].set_linewidth(2.5)\n",
    "            # v.set_color(palette[com_type])\n",
    "fig.subplots_adjust(hspace=-.5, wspace=0.15)\n",
    "cbar = fig.colorbar(h, ax=ax.ravel(), shrink=.25)\n",
    "cbar.set_label(\"Pixel intensity\")\n",
    "fig.savefig(os.path.join(fig_dir, \"centroid_strategy_visualization.pdf\"), bbox_inches=\"tight\", dpi=600)\n",
    "# _ax.axis(\"off\")"
   ]
  },
  {
   "cell_type": "code",
   "execution_count": 42,
   "id": "94e4b38d-6376-4e89-96a3-fbe4a1cb72a2",
   "metadata": {
    "tags": []
   },
   "outputs": [],
   "source": [
    "plt_order = [\"crop_im\", \"crop_im_com_no_blob\", \"crop_im_com_blob\", \"crop_im_com_gauss_no_blob\", \"crop_im_com_gauss_blob\"]\n",
    "# segments_im = {_k: use_df.groupby(\"segment\")[_k].mean() for _k in plt_order}"
   ]
  },
  {
   "cell_type": "code",
   "execution_count": 43,
   "id": "48192606-6192-4d5f-b179-d6a9d94e9590",
   "metadata": {
    "tags": []
   },
   "outputs": [],
   "source": [
    "def get_radial_profile(image, center=None, binsize=1):\n",
    "    y, x = np.indices(image.shape)\n",
    "\n",
    "    if center is None:\n",
    "        center = image.shape[1] // 2, image.shape[0] // 2\n",
    "\n",
    "    r = np.sqrt((x - center[0])**2 + (y - center[1])**2)\n",
    "    r = np.round((r *  1 / binsize)).astype(np.int32)\n",
    "\n",
    "    r_max = int(r.max()) + 1\n",
    "    radial_mean = np.bincount(r.ravel(), image.ravel()) / np.bincount(r.ravel())\n",
    "    \n",
    "    return np.arange(len(radial_mean)) * binsize, radial_mean"
   ]
  },
  {
   "cell_type": "code",
   "execution_count": 44,
   "id": "015a7c60-84c6-4ae5-bb55-8d006a96c6e3",
   "metadata": {
    "tags": []
   },
   "outputs": [
    {
     "name": "stderr",
     "output_type": "stream",
     "text": [
      "/tmp/ipykernel_2831505/4155812931.py:11: RuntimeWarning: invalid value encountered in divide\n",
      "  radial_mean = np.bincount(r.ravel(), image.ravel()) / np.bincount(r.ravel())\n"
     ]
    }
   ],
   "source": [
    "ave_segments = use_df.groupby([\"segment\",\"kpoint_avi_fname\"])[plt_order].mean()\n",
    "ave_segments_radial_profile = ave_segments.map(lambda x: get_radial_profile(x, binsize=.5))\n",
    "index_names = ave_segments_radial_profile.index.names"
   ]
  },
  {
   "cell_type": "code",
   "execution_count": 45,
   "id": "ed522c17-3f95-4b8b-af43-0f0828924f94",
   "metadata": {
    "tags": []
   },
   "outputs": [],
   "source": [
    "dfs = []\n",
    "for k, v in ave_segments_radial_profile.iterrows():\n",
    "    for _crop_type, (_bins, _bin_means) in v.items():\n",
    "        _df = pd.DataFrame()\n",
    "        _df[\"bin\"] = _bins\n",
    "        _df[\"bin_mean\"] = _bin_means\n",
    "        _df[\"crop_type\"] = aliases[_crop_type]\n",
    "        for _key_name, _key_value in zip(index_names, k):\n",
    "            _df[_key_name] = _key_value\n",
    "        dfs.append(_df)"
   ]
  },
  {
   "cell_type": "code",
   "execution_count": 46,
   "id": "f1e3f851-5919-4c9a-b064-b6d350bcc39a",
   "metadata": {
    "tags": []
   },
   "outputs": [],
   "source": [
    "radial_df = pd.concat(dfs, ignore_index=True)"
   ]
  },
  {
   "cell_type": "code",
   "execution_count": 47,
   "id": "664842da-2514-42b9-8c52-fe7a987c2efd",
   "metadata": {
    "tags": []
   },
   "outputs": [],
   "source": [
    "def get_snr(df, right_edge=None, left_edge=2):\n",
    "    if right_edge is None:\n",
    "        right_edge = df[\"bin\"].max() - 2\n",
    "    df_peak = df.loc[df[\"bin\"]<left_edge]\n",
    "    df_noise = df.loc[(df[\"bin\"]>right_edge)]\n",
    "    return df_peak[\"bin_mean\"].mean()\n",
    "    # return df_peak[\"bin_mean\"].mean() / df_noise[\"bin_mean\"].mean()"
   ]
  },
  {
   "cell_type": "code",
   "execution_count": 48,
   "id": "73b85ff3-2d38-4c74-ba3f-e47bcdb2854d",
   "metadata": {
    "tags": []
   },
   "outputs": [],
   "source": [
    "def get_halfway(df, resolution=.1, interpolate_kwargs={\"method\":\"slinear\"}): \n",
    "    new_series = pd.Series(data=df[\"bin_mean\"].values, index=df[\"bin\"].values).sort_index()\n",
    "    new_series = new_series.reindex(np.arange(0, len(new_series), resolution))\n",
    "    new_series = new_series.interpolate(**interpolate_kwargs)\n",
    "    peak_value = new_series.loc[0]\n",
    "    for k, v in new_series.items():\n",
    "        if v<=(peak_value*.5):\n",
    "            return k\n",
    "    return np.nan\n",
    "        "
   ]
  },
  {
   "cell_type": "code",
   "execution_count": 49,
   "id": "e7663d28-d56d-4c16-80de-7389505b47a8",
   "metadata": {
    "tags": []
   },
   "outputs": [
    {
     "name": "stderr",
     "output_type": "stream",
     "text": [
      "/tmp/ipykernel_2831505/3249359716.py:3: DeprecationWarning: DataFrameGroupBy.apply operated on the grouping columns. This behavior is deprecated, and in a future version of pandas the grouping columns will be excluded from the operation. Either pass `include_groups=False` to exclude the groupings or explicitly select the grouping columns after groupby to silence this warning.\n",
      "  .apply(lambda x: get_snr(x, right_edge=15, left_edge=.5))\n"
     ]
    }
   ],
   "source": [
    "radial_df_snr = (\n",
    "    radial_df.groupby([\"crop_type\", \"segment\", \"kpoint_avi_fname\"])\n",
    "    .apply(lambda x: get_snr(x, right_edge=15, left_edge=.5))\n",
    "    .rename(\"snr\")\n",
    "    .reset_index()\n",
    ")"
   ]
  },
  {
   "cell_type": "code",
   "execution_count": 50,
   "id": "67234010-b23d-4cda-8eac-4c0c770ec42d",
   "metadata": {
    "tags": []
   },
   "outputs": [
    {
     "name": "stderr",
     "output_type": "stream",
     "text": [
      "/tmp/ipykernel_2831505/512710509.py:1: DeprecationWarning: DataFrameGroupBy.apply operated on the grouping columns. This behavior is deprecated, and in a future version of pandas the grouping columns will be excluded from the operation. Either pass `include_groups=False` to exclude the groupings or explicitly select the grouping columns after groupby to silence this warning.\n",
      "  radial_df_halfway = radial_df.groupby([\"crop_type\",\"segment\",\"kpoint_avi_fname\"]).apply(get_halfway).rename(\"halfway\").reset_index()\n"
     ]
    }
   ],
   "source": [
    "radial_df_halfway = radial_df.groupby([\"crop_type\",\"segment\",\"kpoint_avi_fname\"]).apply(get_halfway).rename(\"halfway\").reset_index() "
   ]
  },
  {
   "cell_type": "code",
   "execution_count": 51,
   "id": "74cd0d20-ba72-49ce-9bef-7123398bc7f7",
   "metadata": {
    "tags": []
   },
   "outputs": [],
   "source": [
    "snr_order = radial_df_snr.groupby(\"crop_type\")[\"snr\"].median().sort_values()[::-1].index\n",
    "halfway_order = radial_df_halfway.groupby(\"crop_type\")[\"halfway\"].median().sort_values().index"
   ]
  },
  {
   "cell_type": "code",
   "execution_count": 52,
   "id": "fdcaf89a-e6e2-4b59-a2d1-ab0efc49110c",
   "metadata": {},
   "outputs": [],
   "source": [
    "kwargs = {\"x\": \"crop_type\",\n",
    "          \"hue\": \"crop_type\",\n",
    "          \"showcaps\": False,\n",
    "          \"showfliers\": False,}"
   ]
  },
  {
   "cell_type": "code",
   "execution_count": 57,
   "id": "42c50984-71bc-445c-87aa-d3fcf143db6f",
   "metadata": {},
   "outputs": [],
   "source": [
    "palette_aliases = { aliases[k]: v for k, v in palette.items() }"
   ]
  },
  {
   "cell_type": "code",
   "execution_count": 59,
   "id": "323822d1-4292-4f8b-aa2f-3e37cdf40190",
   "metadata": {
    "tags": []
   },
   "outputs": [
    {
     "name": "stderr",
     "output_type": "stream",
     "text": [
      "/tmp/ipykernel_2831505/2870046779.py:17: UserWarning: set_ticklabels() should only be used with a fixed number of ticks, i.e. after set_ticks() or using a FixedLocator.\n",
      "  _ax.set_xticklabels(_ax.get_xticklabels(), rotation=45, ha='right')\n",
      "/tmp/ipykernel_2831505/2870046779.py:17: UserWarning: set_ticklabels() should only be used with a fixed number of ticks, i.e. after set_ticks() or using a FixedLocator.\n",
      "  _ax.set_xticklabels(_ax.get_xticklabels(), rotation=45, ha='right')\n"
     ]
    },
    {
     "data": {
      "image/png": "[encoded data removed]",
      "text/plain": [
       "<Figure size 325x200 with 2 Axes>"
      ]
     },
     "metadata": {},
     "output_type": "display_data"
    }
   ],
   "source": [
    "fig, ax = plt.subplots(1, 2, figsize=(3.25,2))\n",
    "sns.boxplot(data=radial_df_snr,\n",
    "            order=snr_order,\n",
    "            y=\"snr\",\n",
    "            ax=ax[0],\n",
    "            hue_order=snr_order,\n",
    "            palette=palette_aliases,\n",
    "            **kwargs)\n",
    "sns.boxplot(data=radial_df_halfway,\n",
    "            y=\"halfway\",\n",
    "            order=halfway_order,\n",
    "            hue_order=snr_order,\n",
    "            palette=palette_aliases,\n",
    "            **kwargs)\n",
    "for _ax in ax:\n",
    "    # _ax.tick_params(axis=\"x\", rotation=45)\n",
    "    _ax.set_xticklabels(_ax.get_xticklabels(), rotation=45, ha='right')\n",
    "    _ax.set_xlabel(\"\")\n",
    "sns.despine(trim=True)\n",
    "fig.tight_layout()\n",
    "fig.savefig(os.path.join(fig_dir, \"centroid_strategy_snr-and-halfpointdecay.pdf\"), bbox_inches=\"tight\", dpi=600)"
   ]
  },
  {
   "cell_type": "code",
   "execution_count": 60,
   "id": "5b463441-1127-41c4-a81b-03c1c160ed09",
   "metadata": {
    "tags": []
   },
   "outputs": [],
   "source": [
    "from qd_analysis.fig import setup_plotting_env"
   ]
  },
  {
   "cell_type": "code",
   "execution_count": 61,
   "id": "cc51b837-876a-476b-a9c1-9ef109e302b2",
   "metadata": {
    "tags": []
   },
   "outputs": [],
   "source": [
    "setup_plotting_env()"
   ]
  },
  {
   "cell_type": "code",
   "execution_count": 63,
   "id": "d9b4cca5-211f-4b63-a7ec-a584ae8791a9",
   "metadata": {
    "tags": []
   },
   "outputs": [
    {
     "data": {
      "image/png": "[encoded data removed]",
      "text/plain": [
       "<Figure size 387.875x170 with 3 Axes>"
      ]
     },
     "metadata": {},
     "output_type": "display_data"
    }
   ],
   "source": [
    "g = sns.relplot(data=radial_df,\n",
    "            x=\"bin\",\n",
    "            y=\"bin_mean\",\n",
    "            col=\"segment\",\n",
    "            hue=\"crop_type\",\n",
    "            palette=palette_aliases,\n",
    "            kind=\"line\",\n",
    "            height=1.7,\n",
    "            aspect=.6,\n",
    "            err_kws={\"alpha\": .5},\n",
    "            errorbar=(\"ci\",95))\n",
    "sns.despine(trim=True)\n",
    "g.set_titles(row_template=\"{row_name}\", col_template=\"{col_name}\")\n",
    "g.fig.savefig(os.path.join(fig_dir, \"centroid_strategy_radial_profile.pdf\"), bbox_inches=\"tight\", dpi=600)"
   ]
  },
  {
   "cell_type": "markdown",
   "id": "fbaf08dd-5a75-48f2-bc6e-75c68ec68ea2",
   "metadata": {},
   "source": [
    "# Simulate uncertainty in detecting the peak"
   ]
  },
  {
   "cell_type": "code",
   "execution_count": null,
   "id": "eb42d40d-d518-486d-b06d-8ddd787961a7",
   "metadata": {},
   "outputs": [],
   "source": [
    "from sklearn.model_selection import ParameterGrid\n",
    "import warnings\n",
    "from copy import deepcopy"
   ]
  },
  {
   "cell_type": "code",
   "execution_count": null,
   "id": "22d2f9e3-1fa0-4872-ba07-47fbcfa6c9e9",
   "metadata": {},
   "outputs": [],
   "source": [
    "def generate_gaussian_blob(size=30, amplitude=12.0, center=None, sigma_x=6.0, sigma_y=7.0, noise_std=3.0):\n",
    "    \"\"\"Generate a 2D Gaussian blob image with optional Gaussian noise.\"\"\"\n",
    "    x = np.arange(size)\n",
    "    y = np.arange(size)\n",
    "    xx, yy = np.meshgrid(x, y)\n",
    "\n",
    "    if center is None:\n",
    "        center = (size // 2, size // 2)\n",
    "    x0, y0 = center\n",
    "\n",
    "    blob = amplitude * np.exp(\n",
    "        -(((xx - x0)**2) / (2 * sigma_x**2) + ((yy - y0)**2) / (2 * sigma_y**2))\n",
    "    )\n",
    "\n",
    "    if noise_std > 0:\n",
    "        blob += np.random.normal(0, noise_std, blob.shape)\n",
    "\n",
    "    return blob"
   ]
  },
  {
   "cell_type": "code",
   "execution_count": null,
   "id": "49a0be3c-fafe-4aa3-b441-5cc93ddb55d6",
   "metadata": {},
   "outputs": [],
   "source": [
    "grid_dct = {\n",
    "    \"amplitude\": [15],\n",
    "    \"noise_std\": np.arange(.5, 3, .25),\n",
    "    \"sigma\": np.arange(4, 16, 1.),\n",
    "    \"aspect_ratio\": np.arange(1., 2.01, .25)\n",
    "}\n"
   ]
  },
  {
   "cell_type": "code",
   "execution_count": null,
   "id": "a69e2e04-d4a6-4fe2-8446-837d3da4e269",
   "metadata": {},
   "outputs": [],
   "source": [
    "nrepeats = 100"
   ]
  },
  {
   "cell_type": "code",
   "execution_count": null,
   "id": "4c85d9c6-b565-484a-9dca-c2858c285528",
   "metadata": {},
   "outputs": [],
   "source": [
    "param_grid = ParameterGrid(grid_dct)"
   ]
  },
  {
   "cell_type": "code",
   "execution_count": null,
   "id": "70ee0783-7b22-4afd-b546-78c65438b066",
   "metadata": {},
   "outputs": [],
   "source": [
    "save_file = os.path.join(config[\"dirs\"][\"analysis\"], \"peak_location_uncertainty_simulations.parquet\")"
   ]
  },
  {
   "cell_type": "code",
   "execution_count": null,
   "id": "2ee6be07-b6b9-4558-a488-942047f56f5d",
   "metadata": {},
   "outputs": [],
   "source": [
    "force = False"
   ]
  },
  {
   "cell_type": "code",
   "execution_count": null,
   "id": "b796a929-fe4d-481c-ab8e-4a4ce1141e62",
   "metadata": {
    "scrolled": true
   },
   "outputs": [],
   "source": [
    "if not os.path.exists(save_file) or force:\n",
    "    dcts = []\n",
    "    for _params in tqdm(param_grid):\n",
    "        use_params = deepcopy(_params)\n",
    "        sigma_x, sigma_y = use_params[\"sigma\"], use_params[\"sigma\"]\n",
    "        sigma_x = use_params[\"aspect_ratio\"] * sigma_x\n",
    "        use_params.pop(\"sigma\")\n",
    "        use_params.pop(\"aspect_ratio\")\n",
    "        for _repeat in range(nrepeats):\n",
    "            im = generate_gaussian_blob(**use_params, sigma_x=sigma_x, sigma_y=sigma_y)\n",
    "            cx, cy = im.shape[1] // 2, im.shape[0] // 2\n",
    "            with warnings.catch_warnings():\n",
    "                warnings.simplefilter(\"ignore\")\n",
    "                gauss_params, com_params = pcl.fluo.fit_2d_gaussian_with_moments(im)\n",
    "            _dct = {}\n",
    "            for k, v in _params.items():\n",
    "                _dct[k] = v\n",
    "            if gauss_params is not None:\n",
    "                _dct[\"gauss_error\"] = np.linalg.norm([gauss_params[\"x0\"] - cx, gauss_params[\"y0\"] - cy])\n",
    "                _dct[\"com_error\"] = np.linalg.norm([com_params[\"x0\"] - cx, com_params[\"y0\"] - cy])\n",
    "            else:\n",
    "                _dct[\"gauss_error\"] = np.nan\n",
    "                _dct[\"com_error\"] = np.nan\n",
    "            _dct[\"repeat\"] = _repeat\n",
    "            dcts.append(_dct)\n",
    "    peak_df = pd.DataFrame(dcts)\n",
    "    peak_df.to_parquet(save_file)\n",
    "else:\n",
    "    peak_df = pd.read_parquet(save_file)"
   ]
  },
  {
   "cell_type": "code",
   "execution_count": null,
   "id": "3579c9f1-e97b-41c5-a683-e2e3de068e40",
   "metadata": {},
   "outputs": [],
   "source": [
    "agg_columns = list(grid_dct.keys())"
   ]
  },
  {
   "cell_type": "code",
   "execution_count": null,
   "id": "b3b1fabb-aa74-442b-a359-0ba41d7b6693",
   "metadata": {},
   "outputs": [],
   "source": [
    "peak_df[\"snr\"] = (peak_df[\"amplitude\"] / peak_df[\"noise_std\"]).round(1)"
   ]
  },
  {
   "cell_type": "code",
   "execution_count": null,
   "id": "c1ea7b3d-1a46-46c4-bc45-3813a97923cf",
   "metadata": {},
   "outputs": [],
   "source": [
    "agg_columns += [\"snr\"]"
   ]
  },
  {
   "cell_type": "code",
   "execution_count": null,
   "id": "293d864c-cf91-44d9-8586-14d6f3d7c584",
   "metadata": {},
   "outputs": [],
   "source": [
    "agg_df = peak_df.groupby(agg_columns).quantile(.95)"
   ]
  },
  {
   "cell_type": "code",
   "execution_count": null,
   "id": "a208ffa6-36d2-4bbf-ac29-dd56b3339fb4",
   "metadata": {},
   "outputs": [],
   "source": [
    "pairs = [\n",
    "    [\"snr\",\"sigma\"],\n",
    "    [\"snr\",\"aspect_ratio\"]\n",
    "]"
   ]
  },
  {
   "cell_type": "code",
   "execution_count": null,
   "id": "e9fd13e5-4a33-4c8e-9068-fe804b0fee5e",
   "metadata": {},
   "outputs": [],
   "source": [
    "setup_plotting_env()"
   ]
  },
  {
   "cell_type": "code",
   "execution_count": null,
   "id": "b05e3ac6-a72f-4cd6-bac2-591d02ca0c8e",
   "metadata": {},
   "outputs": [],
   "source": [
    "kwargs = {\"cmap\": \"viridis\",\n",
    "          # \"center\": 5,\n",
    "          # \"vmin\": 0,\n",
    "          # \"vmax\": 10}\n",
    "          \"norm\": plt.matplotlib.colors.LogNorm(vmin=.1, vmax=100)}"
   ]
  },
  {
   "cell_type": "code",
   "execution_count": null,
   "id": "5f6226a7-45cc-4ea4-9b89-a9a0835d24c2",
   "metadata": {},
   "outputs": [],
   "source": [
    "fig, ax = plt.subplots(2, 2, figsize=(3.25,2.75))\n",
    "cbar_ax = fig.add_axes([.93, .3, .02, .3])\n",
    "for i, (rax, _pair) in enumerate(zip(ax, pairs)):\n",
    "    h1 = sns.heatmap(\n",
    "        agg_df.groupby(_pair)[\"gauss_error\"].min().unstack(),\n",
    "        **kwargs,\n",
    "        ax=rax[0],\n",
    "        cbar=False,\n",
    "    )\n",
    "    h2 = sns.heatmap(\n",
    "        agg_df.groupby(_pair)[\"gauss_error\"].max().unstack(),\n",
    "        **kwargs,\n",
    "        ax=rax[1],\n",
    "        cbar_ax=cbar_ax,\n",
    "        cbar=i==0,\n",
    "    )\n",
    "\n",
    "    if i == 0:\n",
    "        rax[0].set_title(\"Min projection\")\n",
    "        rax[1].set_title(\"Max projection\")\n",
    "\n",
    "# cbar_ax.set_frame_on(True)\n",
    "cbar_ax.spines[\"outline\"].set(visible=True, lw=.8, edgecolor=\"black\")\n",
    "\n",
    "for _ax in ax.ravel():\n",
    "    _ax.invert_yaxis()\n",
    "    # colors = _ax.collections[0].get_facecolors()\n",
    "    # _ax.collections[0].set_edgecolors(colors)\n",
    "fig.tight_layout(rect=[0, 0, .93, 1])\n",
    "fig.savefig(os.path.join(fig_dir, \"centroid_uncertainty_sim_heatmap.pdf\"), bbox_inches=\"tight\", dpi=600)"
   ]
  },
  {
   "cell_type": "code",
   "execution_count": null,
   "id": "bbef84d0-f066-4789-b3f5-5d6bf93255e6",
   "metadata": {},
   "outputs": [],
   "source": [
    "cmap = plt.colormaps[\"turbo\"]\n",
    "over = cmap.colors[-1]\n",
    "kwargs = {\"levels\": [0, .5, 1, 1.5, 2, 2.5, 3],\n",
    "          \"cmap\": cmap,\n",
    "          \"extend\": \"max\"}"
   ]
  },
  {
   "cell_type": "code",
   "execution_count": null,
   "id": "bac766bd-520f-4033-9ec2-5da2564028f6",
   "metadata": {},
   "outputs": [],
   "source": [
    "fig, ax = plt.subplots(2, 2, figsize=(3.25,2.75), sharex=\"row\", sharey=\"row\")\n",
    "for i, (rax, _pair) in enumerate(zip(ax, pairs)):\n",
    "\n",
    "    im_min = agg_df.groupby(_pair)[\"gauss_error\"].min().unstack()\n",
    "    X, Y = np.meshgrid(im_min.columns, im_min.index)\n",
    "    CS = rax[0].contourf(X, Y, im_min.values, **kwargs)\n",
    "    CS.cmap.set_under(\"b\")\n",
    "    CS.cmap.set_over(over)\n",
    "\n",
    "    im_max = agg_df.groupby(_pair)[\"gauss_error\"].max().unstack()\n",
    "    CS = rax[1].contourf(X, Y, im_max.values, **kwargs)\n",
    "    CS.cmap.set_under(\"b\")\n",
    "    CS.cmap.set_over(over)\n",
    "\n",
    "    if i == 0:\n",
    "        rax[0].set_title(\"Min projection\")\n",
    "        rax[1].set_title(\"Max projection\")\n",
    "    \n",
    "    rax[0].set_xlabel(_pair[1])\n",
    "    rax[1].set_xlabel(_pair[1])    \n",
    "    rax[0].set_ylabel(_pair[0])\n",
    "\n",
    "fig.tight_layout()\n",
    "fig.colorbar(CS, ax=ax.ravel().tolist(), shrink=.7, pad=.05)\n",
    "fig.savefig(os.path.join(fig_dir, \"centroid_uncertainty_sim_contours.pdf\"), bbox_inches=\"tight\", dpi=600)"
   ]
  },
  {
   "cell_type": "code",
   "execution_count": null,
   "id": "f60cc5e9-0794-4e8b-bd1f-9fecfa89e767",
   "metadata": {},
   "outputs": [],
   "source": []
  },
  {
   "cell_type": "code",
   "execution_count": null,
   "id": "71405237-6ee7-4a3a-b835-9940f6f0664b",
   "metadata": {},
   "outputs": [],
   "source": []
  },
  {
   "cell_type": "code",
   "execution_count": null,
   "id": "b237bc67-6a8a-4afa-8afe-22d1b3835b63",
   "metadata": {},
   "outputs": [],
   "source": []
  }
 ],
 "metadata": {
  "kernelspec": {
   "display_name": "Python 3 (ipykernel)",
   "language": "python",
   "name": "python3"
  },
  "language_info": {
   "codemirror_mode": {
    "name": "ipython",
    "version": 3
   },
   "file_extension": ".py",
   "mimetype": "text/x-python",
   "name": "python",
   "nbconvert_exporter": "python",
   "pygments_lexer": "ipython3",
   "version": "3.10.0"
  }
 },
 "nbformat": 4,
 "nbformat_minor": 5
}
