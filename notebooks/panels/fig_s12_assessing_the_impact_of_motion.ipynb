{
 "cells": [
  {
   "cell_type": "code",
   "execution_count": 1,
   "id": "6fdf449c-18e7-4dcc-a194-9de011757c91",
   "metadata": {
    "tags": []
   },
   "outputs": [],
   "source": [
    "%load_ext autoreload\n",
    "%autoreload 2\n",
    "%matplotlib inline"
   ]
  },
  {
   "cell_type": "code",
   "execution_count": 2,
   "id": "b58e8410-32ab-40ef-9e65-1bde34ddfb43",
   "metadata": {
    "tags": []
   },
   "outputs": [],
   "source": [
    "import os\n",
    "import matplotlib.pyplot as plt\n",
    "import numpy as np\n",
    "import skimage\n",
    "import toml\n",
    "import glob\n",
    "import joblib\n",
    "import pandas as pd\n",
    "import seaborn as sns\n",
    "from scipy.stats import binned_statistic_2d\n",
    "from tqdm.auto import tqdm"
   ]
  },
  {
   "cell_type": "code",
   "execution_count": 3,
   "id": "b349fb58-1bc9-4ed2-ba7b-42b95b3f09ca",
   "metadata": {
    "tags": []
   },
   "outputs": [],
   "source": [
    "config = toml.load(\"../preprocessing/config.toml\")\n",
    "data_dir = config[\"dirs\"][\"data\"]\n",
    "fig_dir = os.path.expanduser(\"~/shared_folder/active_lab_members/markowitz_jeffrey/panels/2025-04 (QD paper round 2)/\")\n"
   ]
  },
  {
   "cell_type": "code",
   "execution_count": 4,
   "id": "dcebc8c5-508c-4fa5-becd-7a91ad0662d0",
   "metadata": {},
   "outputs": [],
   "source": [
    "dist_df = pd.read_parquet(os.path.join(data_dir, \"dataframes/accuracy_v_distance_from_camera.parquet\"))"
   ]
  },
  {
   "cell_type": "code",
   "execution_count": 5,
   "id": "0e23c776-1136-4f4c-96f0-b2b5c4fb70bf",
   "metadata": {},
   "outputs": [],
   "source": [
    "filtered_dataset_fname = \"/storage/coda1/p-jmarkowitz30/0/shared/active_lab_members/markowitz_jeffrey/active_projects/keypoints_basler_nir_plexiglass_arena/sleap_training_round2/_labels_qd/kpoint_training_dataset_qd_alignment_round2_manual_labeling_nofluo_version-v1.parquet\""
   ]
  },
  {
   "cell_type": "code",
   "execution_count": 6,
   "id": "4a0df74a-e30a-44f8-a5d4-6645ff68042a",
   "metadata": {},
   "outputs": [],
   "source": [
    "filtered_qd_df = pd.read_parquet(filtered_dataset_fname) "
   ]
  },
  {
   "cell_type": "code",
   "execution_count": 8,
   "id": "718b93cd-48fd-4a2b-87ed-062ce480cab1",
   "metadata": {},
   "outputs": [],
   "source": [
    "use_cols = [\"centroid_x_world\",\"centroid_y_world\",\"centroid_z_world\"]\n",
    "\n",
    "vel_df = dist_df.drop_duplicates([\"session\",\"frame_index\"])\n",
    "diff_df = vel_df.groupby(\"session\")[use_cols].transform(lambda x: x.rolling(6,1,True).mean().diff())"
   ]
  },
  {
   "cell_type": "code",
   "execution_count": 9,
   "id": "b320af60-47d6-4f2c-8546-b59f18033389",
   "metadata": {},
   "outputs": [],
   "source": [
    "diff_df[\"velocity\"] = np.linalg.norm(diff_df.iloc[:,:2],axis=1)"
   ]
  },
  {
   "cell_type": "code",
   "execution_count": 10,
   "id": "0786d56d-3f08-46a9-95e2-136231fbe94b",
   "metadata": {},
   "outputs": [],
   "source": [
    "use_velocity = diff_df[\"velocity\"].to_numpy()"
   ]
  },
  {
   "cell_type": "code",
   "execution_count": 11,
   "id": "20f90eb1-d730-42d6-b943-7ef1c5e03dfd",
   "metadata": {},
   "outputs": [],
   "source": [
    "eps = 1e-8"
   ]
  },
  {
   "cell_type": "code",
   "execution_count": 12,
   "id": "6b5009ea-9ae9-418f-ad3f-3c069ac4f1c7",
   "metadata": {},
   "outputs": [],
   "source": [
    "from scipy.ndimage import label"
   ]
  },
  {
   "cell_type": "code",
   "execution_count": 13,
   "id": "7d288dd6-ee53-4c01-9804-ee252f027ab9",
   "metadata": {},
   "outputs": [],
   "source": [
    "# reasonable thresholds:\n",
    "# 1. 50 mm/s conservative movement threshold\n",
    "# 2. 100 mm/s faster movement\n",
    "# 3. movement for at least 200 ms (~ 6 frames)\n",
    "speed_thresholds = np.arange(25, 200, 10)\n",
    "period = .035\n",
    "min_movement_duration = .1\n",
    "min_movement_samples = np.ceil(min_movement_duration / period)"
   ]
  },
  {
   "cell_type": "code",
   "execution_count": 14,
   "id": "0c7411cb-58b8-4801-9674-fe18d617a6ca",
   "metadata": {},
   "outputs": [],
   "source": [
    "filtered_qd_df[\"session\"] = filtered_qd_df[\"kpoint_avi_fname\"].str.extract(\"(session_[0-9|\\-]+) \")"
   ]
  },
  {
   "cell_type": "code",
   "execution_count": 15,
   "id": "e014f9c0-ac8e-467b-88b3-a76b1764f5fd",
   "metadata": {},
   "outputs": [],
   "source": [
    "filtered_qd_df[\"match_col\"]= list(zip(filtered_qd_df[\"session\"], filtered_qd_df[\"frame_index\"]))\n",
    "dist_df[\"match_col\"]= list(zip(dist_df[\"session\"], dist_df[\"frame_index\"]))"
   ]
  },
  {
   "cell_type": "code",
   "execution_count": 16,
   "id": "ad332ac5-f96a-4148-a081-62571a0541b7",
   "metadata": {},
   "outputs": [],
   "source": [
    "filtered_pairs = filtered_qd_df[\"match_col\"].drop_duplicates()"
   ]
  },
  {
   "cell_type": "code",
   "execution_count": 17,
   "id": "bc965072-71f3-426d-a1a8-b954912b8e90",
   "metadata": {},
   "outputs": [],
   "source": [
    "all_session_idx_pairs = dist_df[\"match_col\"].drop_duplicates()\n",
    "filtered_session_idx_pairs = all_session_idx_pairs[all_session_idx_pairs.isin(filtered_pairs)]"
   ]
  },
  {
   "cell_type": "code",
   "execution_count": 18,
   "id": "93b22e22-6779-414e-b761-c707626e0376",
   "metadata": {},
   "outputs": [],
   "source": [
    "lst = []\n",
    "\n",
    "for _threshold in speed_thresholds:\n",
    "    is_moving = (use_velocity / period) > _threshold\n",
    "    labeled, _ = label(is_moving)\n",
    "    counts = np.bincount(labeled[labeled > 0])\n",
    "    valid_labels = np.flatnonzero(counts >= min_movement_samples)\n",
    "    \n",
    "    # anything with this session and frame index is now considered moving\n",
    "    session_idx_pairs = dist_df.loc[diff_df.iloc[valid_labels].index][\"match_col\"]\n",
    "    \n",
    "    # what's the proportion we find in the subset of pairs that were in the filtered data?\n",
    "    matches = filtered_session_idx_pairs.isin(session_idx_pairs).mean()\n",
    "    # matches = session_index_pairs.isin(filtered_session_idx_pairs).sum()\n",
    "\n",
    "    # now normalize by the total number of session/index pairs in the filtered data\n",
    "    lst.append(matches * 1e2)"
   ]
  },
  {
   "cell_type": "code",
   "execution_count": 19,
   "id": "78292cd6-8b89-4ae5-bf85-a64bfecb000d",
   "metadata": {},
   "outputs": [],
   "source": [
    "from qd_analysis.fig import setup_plotting_env"
   ]
  },
  {
   "cell_type": "code",
   "execution_count": 20,
   "id": "cb1eeb29-f153-4b79-bc4f-308e1191c0a9",
   "metadata": {},
   "outputs": [],
   "source": [
    "setup_plotting_env()"
   ]
  },
  {
   "cell_type": "code",
   "execution_count": 21,
   "id": "f2596fc1-d45e-42e1-b38e-62ca10fbca26",
   "metadata": {},
   "outputs": [],
   "source": [
    "pal = sns.color_palette(\"Reds\")"
   ]
  },
  {
   "cell_type": "code",
   "execution_count": 22,
   "id": "8d59deb3-56d3-45c1-b096-8162a066e2a0",
   "metadata": {},
   "outputs": [],
   "source": [
    "shade_regions = {\n",
    "    (20,50): pal[0],\n",
    "    (50,75): pal[1],\n",
    "    (75,100): pal[2],\n",
    "    (100,200): pal[3]\n",
    "}"
   ]
  },
  {
   "cell_type": "code",
   "execution_count": 25,
   "id": "f904da33-a050-4fc9-9be8-44fb9b041f4e",
   "metadata": {},
   "outputs": [
    {
     "data": {
      "image/png": "[encoded data removed]",
      "text/plain": [
       "<Figure size 150x150 with 1 Axes>"
      ]
     },
     "metadata": {},
     "output_type": "display_data"
    }
   ],
   "source": [
    "fig, ax = plt.subplots(1, figsize=(1.5,1.5))\n",
    "ax.plot(speed_thresholds, lst, ms=5, marker=\"o\")\n",
    "ax.set_ylabel(\"Percent frames\\nexceed threshold\")\n",
    "ax.set_xlabel(\"Speed threshold (mm/s)\")\n",
    "ylims = ax.get_ylim()\n",
    "xlims = ax.get_xlim()\n",
    "ax.set_xlim(*xlims)\n",
    "ax.set_ylim(*ylims)\n",
    "for k, v in shade_regions.items():\n",
    "    ax.fill_between(k, y1=ylims[0], y2=ylims[1], color=v, label=f\"{k[0]}-{k[1]} mm/s\")\n",
    "ax.set_xticks(np.arange(25,205,25))\n",
    "ax.set_yticks(np.arange(0,5.5,1.))\n",
    "ax.legend(bbox_to_anchor=(1.05,.5), title=\"Speed\", title_fontsize=7)\n",
    "sns.despine(offset=5, trim=True)\n",
    "fig.savefig(os.path.join(fig_dir, \"mouse_speed_autolabeled_dataset_proportion.pdf\"), bbox_inches=\"tight\", dpi=600)"
   ]
  }
 ],
 "metadata": {
  "kernelspec": {
   "display_name": "data-analysis (local)",
   "language": "python",
   "name": "data_analysis_local"
  },
  "language_info": {
   "codemirror_mode": {
    "name": "ipython",
    "version": 3
   },
   "file_extension": ".py",
   "mimetype": "text/x-python",
   "name": "python",
   "nbconvert_exporter": "python",
   "pygments_lexer": "ipython3",
   "version": "3.10.0"
  }
 },
 "nbformat": 4,
 "nbformat_minor": 5
}
