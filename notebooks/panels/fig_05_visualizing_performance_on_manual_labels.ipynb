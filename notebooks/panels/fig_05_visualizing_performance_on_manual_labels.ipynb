{
 "cells": [
  {
   "cell_type": "code",
   "execution_count": 1,
   "id": "6fdf449c-18e7-4dcc-a194-9de011757c91",
   "metadata": {
    "tags": []
   },
   "outputs": [],
   "source": [
    "%load_ext autoreload\n",
    "%autoreload 2\n",
    "%matplotlib inline"
   ]
  },
  {
   "cell_type": "code",
   "execution_count": 2,
   "id": "f93b337e-75d6-4f3c-8375-038ae34f790a",
   "metadata": {
    "tags": []
   },
   "outputs": [],
   "source": [
    "import os\n",
    "import matplotlib.pyplot as plt\n",
    "import numpy as np\n",
    "import toml\n",
    "import h5py\n",
    "import joblib\n",
    "import pandas as pd\n",
    "import seaborn as sns\n",
    "import re\n",
    "import warnings\n",
    "import json\n",
    "\n",
    "from glob import glob\n",
    "from tqdm.auto import tqdm\n",
    "from markovids import vid, pcl\n",
    "from qd_analysis.fig import setup_plotting_env"
   ]
  },
  {
   "cell_type": "markdown",
   "id": "5ae6e564-6e34-41c6-b628-197e2387ee78",
   "metadata": {},
   "source": [
    "## Gather data and predicted keypoints"
   ]
  },
  {
   "cell_type": "code",
   "execution_count": 3,
   "id": "df32d947-f2e1-4da9-bb61-7e49b2ff6d62",
   "metadata": {},
   "outputs": [],
   "source": [
    "config = toml.load(\"../preprocessing/config.toml\")\n",
    "save_file = os.path.join(config[\"dirs\"][\"data\"], \"dataframes/sleap_metrics_qd_training.parquet\")\n",
    "\n",
    "fig_dir = config[\"dirs\"][\"figs\"]\n",
    "os.makedirs(fig_dir, exist_ok=True)"
   ]
  },
  {
   "cell_type": "code",
   "execution_count": 4,
   "id": "6fb11734-c50c-4159-9833-475869f92778",
   "metadata": {},
   "outputs": [],
   "source": [
    "data_dir = os.path.join(config[\"dirs\"][\"data\"], \"dataframes/\")\n",
    "data_files = sorted(glob(os.path.join(data_dir, \"manually_labeled_data_*.parquet\")))"
   ]
  },
  {
   "cell_type": "code",
   "execution_count": 5,
   "id": "46e8486f-b43b-42de-8ab0-eb48119f06e7",
   "metadata": {
    "tags": []
   },
   "outputs": [
    {
     "data": {
      "application/vnd.jupyter.widget-view+json": {
       "model_id": "b394c8f3a7244dc0abd12fb860dc43fa",
       "version_major": 2,
       "version_minor": 0
      },
      "text/plain": [
       "  0%|          | 0/3 [00:00<?, ?it/s]"
      ]
     },
     "metadata": {},
     "output_type": "display_data"
    }
   ],
   "source": [
    "dfs = []\n",
    "for _file in tqdm(data_files):\n",
    "    _df = pd.read_parquet(_file)\n",
    "    _df[\"filename\"] = _file\n",
    "    dfs.append(_df)"
   ]
  },
  {
   "cell_type": "markdown",
   "id": "e7ba29e3-cb01-45f4-bb6d-5fc21621629f",
   "metadata": {},
   "source": [
    "# Analyze results"
   ]
  },
  {
   "cell_type": "code",
   "execution_count": 6,
   "id": "848973bf-7e1a-42e6-a9b4-19e8b89cddfd",
   "metadata": {},
   "outputs": [],
   "source": [
    "result_df = pd.concat(dfs, ignore_index=True)"
   ]
  },
  {
   "cell_type": "code",
   "execution_count": 7,
   "id": "cc3639a9-9dba-4497-b95c-005fe49f62f6",
   "metadata": {},
   "outputs": [],
   "source": [
    "def get_l2_norm(df, x1=\"kpoint_x\", x2=\"gt_x\", y1=\"kpoint_y\", y2=\"gt_y\"):\n",
    "    return np.linalg.norm([df[x1] - df[x2], df[y1] - df[y2]])"
   ]
  },
  {
   "cell_type": "code",
   "execution_count": 8,
   "id": "868bb965-2fc8-41c5-bef8-1e7e3de9d1f4",
   "metadata": {},
   "outputs": [],
   "source": [
    "tqdm.pandas()"
   ]
  },
  {
   "cell_type": "code",
   "execution_count": 9,
   "id": "e40b8005-e0d2-4039-9bb5-5ca19e4a0748",
   "metadata": {},
   "outputs": [],
   "source": [
    "aliases = {\"(0.0, 1.0)\": \"reflect\",\n",
    "           \"(1.0, 0.0)\": \"fluo\",\n",
    "           \"None\": \"reflect+fluo\"}"
   ]
  },
  {
   "cell_type": "code",
   "execution_count": 10,
   "id": "590b6618-671e-4c04-9fe1-0da04e96882e",
   "metadata": {},
   "outputs": [],
   "source": [
    "result_df[\"model_input\"] = result_df[\"model_weight\"].map(aliases)"
   ]
  },
  {
   "cell_type": "code",
   "execution_count": 11,
   "id": "8086b746-fd49-4a89-9c23-83d818530557",
   "metadata": {},
   "outputs": [],
   "source": [
    "# fluo_threshold = 200\n",
    "dist_cols = [\"kpoint_com_gauss_gt_l2\",\"kpoint_gt_l2\"]\n",
    "dset_type = \"test\""
   ]
  },
  {
   "cell_type": "code",
   "execution_count": 12,
   "id": "177a1544-123f-4fd0-8d79-00c73871536e",
   "metadata": {},
   "outputs": [],
   "source": [
    "palette = dict(list(zip([\"reflect\",\"fluo\",\"reflect+fluo\"], sns.color_palette(\"tab10\"))))"
   ]
  },
  {
   "cell_type": "markdown",
   "id": "93a0e694-3c55-4934-9543-b6338c55d470",
   "metadata": {},
   "source": [
    "# first plot different modalities, what should we use?"
   ]
  },
  {
   "cell_type": "code",
   "execution_count": 13,
   "id": "a80975ac-a691-4371-987f-7082c040a0e6",
   "metadata": {},
   "outputs": [],
   "source": [
    "plt_df = result_df.query(\"filename.str.contains('modalities') and dset_type == @dset_type\").copy()\n",
    "# plt_df[\"high_fluo\"] = plt_df[\"kpoint_amp_gauss\"] > fluo_threshold"
   ]
  },
  {
   "cell_type": "code",
   "execution_count": 14,
   "id": "6e536ee6-eac1-4449-bf58-8a113fe4e98f",
   "metadata": {},
   "outputs": [],
   "source": [
    "ave_df = plt_df.groupby([\"model_input\",\"model_dir\"])[dist_cols].mean().reset_index()"
   ]
  },
  {
   "cell_type": "code",
   "execution_count": 15,
   "id": "14a12029-a43e-4c6f-a20a-01779ef09ac4",
   "metadata": {},
   "outputs": [],
   "source": [
    "setup_plotting_env()"
   ]
  },
  {
   "cell_type": "code",
   "execution_count": 16,
   "id": "7aa48c79-c6dd-46de-939e-50d7ffec4fb6",
   "metadata": {
    "tags": []
   },
   "outputs": [
    {
     "name": "stderr",
     "output_type": "stream",
     "text": [
      "/tmp/ipykernel_243880/221097915.py:12: UserWarning: set_ticklabels() should only be used with a fixed number of ticks, i.e. after set_ticks() or using a FixedLocator.\n",
      "  ax.set_xticklabels(ax.get_xticklabels(), rotation=45, ha='right')\n"
     ]
    },
    {
     "data": {
      "image/png": "[encoded data removed]",
      "text/plain": [
       "<Figure size 140x140 with 1 Axes>"
      ]
     },
     "metadata": {},
     "output_type": "display_data"
    }
   ],
   "source": [
    "fig, ax = plt.subplots(1, figsize=(1.4, 1.4))\n",
    "sns.stripplot(\n",
    "    data=ave_df,\n",
    "    order=list(palette.keys()),\n",
    "    hue=\"model_input\",\n",
    "    palette=palette,\n",
    "    x=\"model_input\",\n",
    "    y=\"kpoint_gt_l2\",\n",
    ")\n",
    "ax.set_xlabel(\"\")\n",
    "ax.set_ylabel(\"Ave. distance to\\nmanual label (pixels)\")\n",
    "ax.set_xticklabels(ax.get_xticklabels(), rotation=45, ha='right')\n",
    "sns.despine()\n",
    "fig.tight_layout()\n",
    "fig.savefig(os.path.join(fig_dir, \"manual_label_performance_modalities.pdf\"), bbox_inches=\"tight\", dpi=600)"
   ]
  },
  {
   "cell_type": "code",
   "execution_count": 17,
   "id": "9a803236-5868-4af1-8a0c-4f3e2b525f1f",
   "metadata": {},
   "outputs": [],
   "source": [
    "plt_df2 = (\n",
    "    plt_df\n",
    "    .groupby([\"model_input\", \"model_dir\"])[dist_cols]\n",
    "    .mean()\n",
    "    .melt(ignore_index=False)\n",
    "    .reset_index()\n",
    ")"
   ]
  },
  {
   "cell_type": "code",
   "execution_count": 18,
   "id": "63293cb2-6756-4c2f-80f5-9d25926b3cbb",
   "metadata": {},
   "outputs": [
    {
     "name": "stderr",
     "output_type": "stream",
     "text": [
      "/tmp/ipykernel_243880/3154690374.py:31: UserWarning: set_ticklabels() should only be used with a fixed number of ticks, i.e. after set_ticks() or using a FixedLocator.\n",
      "  g.axes.ravel()[-1].set_xticklabels([\"w/o fluo.\",\"w/ fluo.\"], rotation=45, ha='right')\n"
     ]
    },
    {
     "data": {
      "text/plain": [
       "[Text(0, 0, 'w/o fluo.'), Text(1, 0, 'w/ fluo.')]"
      ]
     },
     "execution_count": 18,
     "metadata": {},
     "output_type": "execute_result"
    },
    {
     "data": {
      "image/png": "[encoded data removed]",
      "text/plain": [
       "<Figure size 161.5x285 with 3 Axes>"
      ]
     },
     "metadata": {},
     "output_type": "display_data"
    }
   ],
   "source": [
    "# fig, ax = plt.subplots(1, figsize=(1.25, 2.))\n",
    "g = sns.catplot(\n",
    "    sharey=True,\n",
    "    kind=\"strip\",\n",
    "    data=plt_df2,\n",
    "    row=\"model_input\",\n",
    "    row_order=list(palette.keys()),\n",
    "    y=\"value\",\n",
    "    hue=\"model_input\",\n",
    "    palette=palette,\n",
    "    x=\"variable\",\n",
    "    order=[\"kpoint_gt_l2\",\"kpoint_com_gauss_gt_l2\"],\n",
    "    height=.95,\n",
    "    jitter=False,\n",
    "    legend=False,\n",
    "    aspect=1.7,\n",
    ")\n",
    "\n",
    "def test(x, y, use_id, hue, color, data):\n",
    "    ax = plt.gca()\n",
    "    xticks = ax.get_xticks()\n",
    "    ids = data[use_id].unique()\n",
    "    for _id in ids:\n",
    "        pts = data.loc[data[use_id] == _id][y].values[::-1]\n",
    "        plt.plot(xticks, pts, lw=1, alpha=.75, color=palette[data[hue].iat[0]])\n",
    "\n",
    "g.map_dataframe(test, \"variable\", \"value\", \"model_dir\", \"model_input\")\n",
    "g.set_titles(row_template=\"{row_name}\", col_template=\"{col_name}\")\n",
    "g.set(ylabel=\"Ave. distance to\\nmanual label (pixels)\", xlabel=\"\", xlim=(-.5, 1.5))\n",
    "sns.despine(offset=3, trim=False)\n",
    "g.axes.ravel()[-1].set_xticklabels([\"w/o fluo.\",\"w/ fluo.\"], rotation=45, ha='right')\n",
    "# g.fig.savefig(os.path.join(fig_dir, \"manual_label_performance_refinement_per_model.pdf\"), bbox_inches=\"tight\", dpi=600)"
   ]
  },
  {
   "cell_type": "code",
   "execution_count": 19,
   "id": "0c791bc2-a4be-4b9d-89e1-107d5daec0f3",
   "metadata": {},
   "outputs": [],
   "source": [
    "plt_df[\"kpoint_com_gauss_diff\"] = plt_df[\"kpoint_com_gauss_gt_l2\"] - plt_df[\"kpoint_gt_l2\"]"
   ]
  },
  {
   "cell_type": "code",
   "execution_count": 20,
   "id": "e4b5d32d-c141-4db9-a44c-c2ea44e647ce",
   "metadata": {},
   "outputs": [],
   "source": [
    "# get best model for diffs"
   ]
  },
  {
   "cell_type": "code",
   "execution_count": 21,
   "id": "2f9616b6-8f06-4f34-8ddb-b51f823c8c24",
   "metadata": {},
   "outputs": [],
   "source": [
    "best_models = plt_df.groupby([\"model_input\",\"model_dir\"])[\"kpoint_gt_l2\"].mean().groupby(\"model_input\").idxmin()"
   ]
  },
  {
   "cell_type": "code",
   "execution_count": 22,
   "id": "e164b977-a6c5-481c-8799-eee0b607e28e",
   "metadata": {},
   "outputs": [],
   "source": [
    "best_models = best_models.apply(lambda x: x[1]).tolist()"
   ]
  },
  {
   "cell_type": "code",
   "execution_count": 23,
   "id": "e971011a-f3cc-452d-8866-c54ded163b9a",
   "metadata": {},
   "outputs": [],
   "source": [
    "plt_df2 = plt_df"
   ]
  },
  {
   "cell_type": "code",
   "execution_count": 24,
   "id": "d4c161ac-2a00-4bfe-b20e-0f2906f5c7ad",
   "metadata": {},
   "outputs": [],
   "source": [
    "diffs = plt_df2.groupby([\"model_input\",\"dset_index\"])[\"kpoint_com_gauss_diff\"].mean().reset_index()"
   ]
  },
  {
   "cell_type": "code",
   "execution_count": 25,
   "id": "d0be0e8b-7d89-401a-ba7d-a3e0781d9667",
   "metadata": {},
   "outputs": [
    {
     "data": {
      "image/png": "[encoded data removed]",
      "text/plain": [
       "<Figure size 172x240 with 3 Axes>"
      ]
     },
     "metadata": {},
     "output_type": "display_data"
    }
   ],
   "source": [
    "g = sns.displot(\n",
    "    data=diffs,\n",
    "    fill=True,\n",
    "    x=\"kpoint_com_gauss_diff\",\n",
    "    row=\"model_input\",\n",
    "    row_order=list(palette.keys()),\n",
    "    hue=\"model_input\",\n",
    "    kind=\"hist\",\n",
    "    height=.8,\n",
    "    alpha=1,\n",
    "    aspect=2.15,\n",
    "    legend=False,\n",
    "    bins=np.arange(-7,7,.5),\n",
    "    facet_kws={\"sharex\":True,\"sharey\":True},\n",
    ")\n",
    "g.set(xlim=(-6,6), xticks=(-7,0,7), xlabel=\"Refined - unrefined error\", title=\"\")\n",
    "g.refline(x=0, color=\"k\", alpha=.5)\n",
    "plt.subplots_adjust(hspace=.05)\n",
    "sns.despine(trim=True, offset=3)\n",
    "for _ax in g.fig.axes[:-1]:\n",
    "    _ax.tick_params(axis='x', length=0)\n",
    "    _ax.spines['bottom'].set_visible(False)\n",
    "g.fig.savefig(os.path.join(fig_dir, \"manual_label_performance_refinement_per_frame.pdf\"), bbox_inches=\"tight\", dpi=600)\n",
    "# g.set_titles(col_template=\"\", row_template=\"\")"
   ]
  },
  {
   "cell_type": "code",
   "execution_count": null,
   "id": "83063836-7cd3-4e7d-9288-6e516c490d62",
   "metadata": {},
   "outputs": [],
   "source": []
  },
  {
   "cell_type": "markdown",
   "id": "c38e2669-1318-4be8-8aef-14d396da6ba2",
   "metadata": {},
   "source": [
    "# Now that we've shown refinement let's show performance across subsamples"
   ]
  },
  {
   "cell_type": "code",
   "execution_count": 26,
   "id": "32d83f53-52d0-4ed5-88f8-0f537015c6ad",
   "metadata": {},
   "outputs": [],
   "source": [
    "plt_df = result_df.query(\"filename.str.contains('subsample') and dset_type == @dset_type\").copy()\n",
    "plt_df[\"high_fluo\"] = plt_df[\"kpoint_amp_gauss\"] > 0"
   ]
  },
  {
   "cell_type": "code",
   "execution_count": 27,
   "id": "6abe9309-2719-4f5f-8d79-c27d9ee58d60",
   "metadata": {},
   "outputs": [],
   "source": [
    "plt_df2 = plt_df.query(\"high_fluo\").groupby([\"nframes train\",\"model_dir\",\"model_weight\"])[dist_cols].mean().melt(ignore_index=False).reset_index()"
   ]
  },
  {
   "cell_type": "code",
   "execution_count": 28,
   "id": "5073911d-9576-48a3-a48f-b2a297efcd61",
   "metadata": {},
   "outputs": [],
   "source": [
    "from scipy.optimize import curve_fit, least_squares"
   ]
  },
  {
   "cell_type": "code",
   "execution_count": 29,
   "id": "8d27bdb8-cdf8-4e82-b65a-db8d096f420b",
   "metadata": {},
   "outputs": [],
   "source": [
    "def exp_decay(x, a, b, c):\n",
    "    return a * np.exp(-b * x) + c\n",
    "# def log_decay(x, a, x0, c):\n",
    "    # return a * np.log(x + x0) + c\n",
    "def power_law_decay(x, a, b, c):\n",
    "    return a / ((x + 1) ** b) + c"
   ]
  },
  {
   "cell_type": "code",
   "execution_count": 30,
   "id": "61f2bb3c-f8d9-46cc-a5d5-aa662ed5c04f",
   "metadata": {},
   "outputs": [],
   "source": [
    "def residuals(params, x, y):\n",
    "    a, b, c = params\n",
    "    return power_law_decay(x, a, b, c) - y"
   ]
  },
  {
   "cell_type": "code",
   "execution_count": 31,
   "id": "935487b9-a081-410c-8962-a75930297070",
   "metadata": {},
   "outputs": [],
   "source": [
    "# resample data 1,000 times, refit, etc."
   ]
  },
  {
   "cell_type": "code",
   "execution_count": 32,
   "id": "8068bbd2-172f-4c7e-b30b-526f4f5f6f80",
   "metadata": {},
   "outputs": [],
   "source": [
    "domain = (50, 700)\n",
    "bounds = ([1e-6, 0.01, -np.inf], [1e6, 10, np.inf])"
   ]
  },
  {
   "cell_type": "code",
   "execution_count": 33,
   "id": "1390f542-aea9-48b6-b6e8-c62b40ffed59",
   "metadata": {},
   "outputs": [],
   "source": [
    "plt_df2 = plt_df2.query(\"variable == 'kpoint_gt_l2'\").sort_values(\"nframes train\")"
   ]
  },
  {
   "cell_type": "code",
   "execution_count": 34,
   "id": "fe15e169-ffc2-4587-baa3-74832f6b2902",
   "metadata": {},
   "outputs": [],
   "source": [
    "nboots = 1000"
   ]
  },
  {
   "cell_type": "code",
   "execution_count": 35,
   "id": "c271bd4f-f668-4e57-a35e-68a2aa86ae99",
   "metadata": {},
   "outputs": [
    {
     "data": {
      "application/vnd.jupyter.widget-view+json": {
       "model_id": "ef8912b09fb64cd499dd936b866bd1a5",
       "version_major": 2,
       "version_minor": 0
      },
      "text/plain": [
       "  0%|          | 0/1000 [00:00<?, ?it/s]"
      ]
     },
     "metadata": {},
     "output_type": "display_data"
    }
   ],
   "source": [
    "fits = []\n",
    "xvecs = []\n",
    "reps  = []\n",
    "weights= []\n",
    "for _weight in [\"None\"]:\n",
    "    for _boot in tqdm(range(nboots)):\n",
    "        use_df = plt_df2.query(\"model_weight == @_weight\").sample(len(plt_df2), replace=True)\n",
    "        x_data = use_df[\"nframes train\"].values\n",
    "        y_data = use_df[\"value\"].values\n",
    "        x0_guess = [1.0, 1.0, np.min(y_data)]\n",
    "        \n",
    "        result = least_squares(\n",
    "            residuals,\n",
    "            x0_guess,\n",
    "            args=(x_data, y_data),\n",
    "            bounds=bounds,\n",
    "            method=\"trf\",\n",
    "            loss=\"linear\",\n",
    "            f_scale=1.0,\n",
    "        )\n",
    "        \n",
    "        fits.append(power_law_decay(np.arange(*domain), *result.x))\n",
    "        xvecs.append(np.arange(*domain))\n",
    "        reps.append(np.ones((len(xvecs[-1]),1)) * _boot)\n",
    "        weights += [_weight] * len(xvecs[-1])\n",
    "# fit_a, fit_b = popt"
   ]
  },
  {
   "cell_type": "code",
   "execution_count": 36,
   "id": "f740b18e-b380-40ec-a70c-0abc03b82b7a",
   "metadata": {},
   "outputs": [],
   "source": [
    "fit_mat = np.vstack(fits)\n",
    "fits = np.concatenate(fits)\n",
    "xvecs = np.concatenate(xvecs)\n",
    "reps = np.concatenate(reps).squeeze()"
   ]
  },
  {
   "cell_type": "code",
   "execution_count": 37,
   "id": "daad81f1-96d7-4418-a16d-21b1e8122d7d",
   "metadata": {},
   "outputs": [],
   "source": [
    "dat = np.vstack([fits, xvecs, reps])"
   ]
  },
  {
   "cell_type": "code",
   "execution_count": 38,
   "id": "3283e3f2-09f7-425b-9187-d0d9d111b7a6",
   "metadata": {},
   "outputs": [],
   "source": [
    "fit_df = pd.DataFrame(data=dat.T,columns=[\"y\",\"x\", \"rep\"])\n",
    "fit_df[\"model_weight\"] = weights"
   ]
  },
  {
   "cell_type": "code",
   "execution_count": 39,
   "id": "712738c5-c502-419d-9256-4fa87ef97bed",
   "metadata": {},
   "outputs": [],
   "source": [
    "fit_df[\"y_diff\"] = fit_df.groupby([\"model_weight\",\"rep\"])[\"y\"].transform(lambda x: x.diff())"
   ]
  },
  {
   "cell_type": "code",
   "execution_count": 40,
   "id": "bf172f3d-d28c-434c-a1c8-1b598c1f6574",
   "metadata": {},
   "outputs": [],
   "source": [
    "setup_plotting_env()"
   ]
  },
  {
   "cell_type": "code",
   "execution_count": 41,
   "id": "573b506b",
   "metadata": {
    "tags": []
   },
   "outputs": [
    {
     "data": {
      "image/png": "[encoded data removed]",
      "text/plain": [
       "<Figure size 270x145 with 2 Axes>"
      ]
     },
     "metadata": {},
     "output_type": "display_data"
    }
   ],
   "source": [
    "fig, ax = plt.subplots(1, 2, figsize=(2.7, 1.45), sharex=True, sharey=False)\n",
    "sns.lineplot(\n",
    "    data=fit_df,\n",
    "    x=\"x\",\n",
    "    y=\"y\",\n",
    "    legend=False,\n",
    "    errorbar=(\"pi\",95),\n",
    "    hue=\"model_weight\",\n",
    "    # color=\"k\",\n",
    "    ax=ax[0],\n",
    ")\n",
    "sns.scatterplot(\n",
    "    data=plt_df2,\n",
    "    x=\"nframes train\",\n",
    "    y=\"value\",\n",
    "    legend=False,\n",
    "    color=palette[\"reflect+fluo\"],\n",
    "    ax=ax[0],\n",
    "    # hue=\"variable\",\n",
    "    # hue_order=[\"kpoint_com_gauss_gt_l2\"],\n",
    ")\n",
    "\n",
    "sns.lineplot(\n",
    "    data=fit_df,\n",
    "    x=\"x\",\n",
    "    y=\"y_diff\",\n",
    "    legend=False,\n",
    "    errorbar=(\"pi\",95),\n",
    "    color=\"k\",\n",
    "    ax=ax[1],\n",
    ")\n",
    "ax[1].set_ylabel(\"dy/dx\")\n",
    "ax[1].set_xlabel(\"N(training frames)\")\n",
    "# ax.plot(np.arange(50, 700), power_law_decay(np.arange(50,700), *popt))\n",
    "ax[0].set_xticks(np.arange(0,801,150))\n",
    "ax[0].set_xlabel(\"N(training frames)\")\n",
    "ax[0].set_ylabel(\"Distance to QD (pixels)\")\n",
    "ax[0].set_ylim(0,20)\n",
    "sns.despine(offset=3,trim=True)\n",
    "# ax.set_xticklabels(ax.get_xticklabels(), rotation=45, ha='right')\n",
    "\n",
    "# ax.set_yscale(\"log\")\n",
    "fig.tight_layout()\n",
    "# fig.savefig(os.path.join(fig_dir, \"manual_label_performance_subsample.pdf\"), bbox_inches=\"tight\", dpi=600)"
   ]
  },
  {
   "cell_type": "code",
   "execution_count": 42,
   "id": "6a76dc60-4014-41cb-8fc2-a7bf012bcd03",
   "metadata": {},
   "outputs": [],
   "source": [
    "# get the derivative across all fits???"
   ]
  },
  {
   "cell_type": "markdown",
   "id": "a59393dc-e714-4826-a71e-e619a228fc3f",
   "metadata": {},
   "source": [
    "# Parameter scan"
   ]
  },
  {
   "cell_type": "code",
   "execution_count": 43,
   "id": "d74f7e21-af30-40b5-9c6c-e925f4667933",
   "metadata": {},
   "outputs": [],
   "source": [
    "param_df = result_df.query(\"filename.str.contains('sweep') and dset_type == @dset_type\").copy()"
   ]
  },
  {
   "cell_type": "code",
   "execution_count": 44,
   "id": "b41478e7-5f62-4b19-947c-28dc734cef2f",
   "metadata": {},
   "outputs": [],
   "source": [
    "chk_params = [\n",
    "    \"backbone_output_stride\",\n",
    "    \"backbone_filters\",\n",
    "    \"backbone_filters_rate\",\n",
    "    \"backbone_max_stride\",\n",
    "    \"head_output_stride\",\n",
    "    \"head_sigma\",\n",
    "]\n",
    "output_var = [\"kpoint_gt_l2\"]"
   ]
  },
  {
   "cell_type": "code",
   "execution_count": 45,
   "id": "ad0c107b-fe92-4604-becb-98823dfdcc20",
   "metadata": {},
   "outputs": [],
   "source": [
    "param_df = (\n",
    "    param_df\n",
    "    # param_df.query(\"backbone_filters_rate == 2 and backbone_filters == 64\")\n",
    "    .groupby(chk_params + [\"model_dir\"])[output_var]\n",
    "    .mean()\n",
    "    .reset_index()\n",
    ")"
   ]
  },
  {
   "cell_type": "code",
   "execution_count": 46,
   "id": "506d0397-7eee-4167-9538-5bf5eddd9036",
   "metadata": {},
   "outputs": [],
   "source": [
    "cmap_kwargs = {\n",
    "    \"cmap\": \"spring\",\n",
    "    \"vmin\": 3,\n",
    "    \"vmax\": 6,\n",
    "    \"linewidths\": .5,\n",
    "    \"linecolor\": \"black\",\n",
    "}"
   ]
  },
  {
   "cell_type": "code",
   "execution_count": 47,
   "id": "260f5c36-dcda-4c60-9996-9a436fbfd052",
   "metadata": {},
   "outputs": [
    {
     "name": "stderr",
     "output_type": "stream",
     "text": [
      "/tmp/ipykernel_243880/1942824643.py:47: UserWarning: This figure includes Axes that are not compatible with tight_layout, so results might be incorrect.\n",
      "  fig.tight_layout(rect=[0, 0, .9, 1])\n"
     ]
    },
    {
     "data": {
      "image/png": "[encoded data removed]",
      "text/plain": [
       "<Figure size 300x300 with 5 Axes>"
      ]
     },
     "metadata": {},
     "output_type": "display_data"
    }
   ],
   "source": [
    "fig, ax = plt.subplots(2, 2, figsize=(3., 3.), sharey=\"row\", sharex=False)\n",
    "cbar_ax = fig.add_axes([.91, .3, .03, .4])\n",
    "sns.heatmap(\n",
    "    param_df.groupby([\"head_sigma\", \"backbone_max_stride\"])[\"kpoint_gt_l2\"]\n",
    "    .min()\n",
    "    .unstack(),\n",
    "    ax=ax[0][0],\n",
    "    cbar=False,\n",
    "    **cmap_kwargs,\n",
    ")\n",
    "sns.heatmap(\n",
    "    param_df.groupby([\"head_sigma\", \"head_output_stride\"])[\"kpoint_gt_l2\"]\n",
    "    .min()\n",
    "    .unstack(),\n",
    "    ax=ax[0][1],\n",
    "    cbar=True,\n",
    "    cbar_ax=cbar_ax,\n",
    "    **cmap_kwargs,\n",
    ")\n",
    "sns.heatmap(\n",
    "    param_df.groupby([\"backbone_max_stride\", \"head_output_stride\"])[\"kpoint_gt_l2\"]\n",
    "    .min()\n",
    "    .unstack(),\n",
    "    ax=ax[1][0],\n",
    "    cbar=True,\n",
    "    cbar_ax=cbar_ax,\n",
    "    **cmap_kwargs,\n",
    ")\n",
    "h = sns.heatmap(\n",
    "    param_df.groupby([\"backbone_max_stride\", \"backbone_filters_rate\"])[\"kpoint_gt_l2\"]\n",
    "    .min()\n",
    "    .unstack(),\n",
    "    ax=ax[1][1],\n",
    "    cbar=True,\n",
    "    cbar_ax=cbar_ax,\n",
    "    **cmap_kwargs,\n",
    ")\n",
    "colorbar = h.collections[0].colorbar\n",
    "colorbar.set_label(\"Ave. heldout pixel error\")\n",
    "# Set the spines of the colorbar axis\n",
    "for _ax in ax.ravel():\n",
    "    # _ax.set_yticklabels(_ax.get_yticklabels(), rotation=90)\n",
    "    for _, spine in _ax.spines.items():\n",
    "        spine.set_visible(True)\n",
    "for spine in cbar_ax.spines.values():\n",
    "    spine.set(visible=True, lw=0.8, edgecolor='black')\n",
    "fig.tight_layout(rect=[0, 0, .9, 1])\n",
    "\n",
    "ax[0][0].set_yticklabels(ax[0][0].get_yticklabels(), rotation=0)\n",
    "ax[1][0].set_yticklabels(ax[1][0].get_yticklabels(), rotation=0)\n",
    "\n",
    "fig.savefig(os.path.join(fig_dir, \"manual_label_performance_parameter_sweeps.pdf\"), bbox_inches=\"tight\", dpi=600)"
   ]
  },
  {
   "cell_type": "code",
   "execution_count": null,
   "id": "29040149-c3ef-4a96-8b64-a6bdc11de2c6",
   "metadata": {},
   "outputs": [],
   "source": []
  },
  {
   "cell_type": "code",
   "execution_count": null,
   "id": "d0f08eff-b842-4b6d-bf78-20ed8e169fc6",
   "metadata": {},
   "outputs": [],
   "source": []
  }
 ],
 "metadata": {
  "kernelspec": {
   "display_name": "Python 3 (ipykernel)",
   "language": "python",
   "name": "python3"
  },
  "language_info": {
   "codemirror_mode": {
    "name": "ipython",
    "version": 3
   },
   "file_extension": ".py",
   "mimetype": "text/x-python",
   "name": "python",
   "nbconvert_exporter": "python",
   "pygments_lexer": "ipython3",
   "version": "3.10.0"
  }
 },
 "nbformat": 4,
 "nbformat_minor": 5
}
