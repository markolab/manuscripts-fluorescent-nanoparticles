{
 "cells": [
  {
   "cell_type": "code",
   "execution_count": 1,
   "id": "6fdf449c-18e7-4dcc-a194-9de011757c91",
   "metadata": {
    "tags": []
   },
   "outputs": [],
   "source": [
    "%load_ext autoreload\n",
    "%autoreload 2\n",
    "%matplotlib inline"
   ]
  },
  {
   "cell_type": "code",
   "execution_count": 2,
   "id": "4d60d688-a5a9-484d-9b15-b125123099f6",
   "metadata": {
    "tags": []
   },
   "outputs": [],
   "source": [
    "import os\n",
    "import cv2\n",
    "import matplotlib.pyplot as plt\n",
    "import numpy as np\n",
    "import toml\n",
    "import glob\n",
    "import pandas as pd\n",
    "import seaborn as sns\n",
    "import czifile\n",
    "import joblib\n",
    "from qd_analysis.fig import setup_plotting_env\n",
    "from scipy.stats import mannwhitneyu\n",
    "from tqdm.auto import tqdm\n",
    "from skimage.filters import threshold_otsu\n",
    "from skimage.measure import regionprops_table\n",
    "from cellpose import models\n",
    "from skimage.exposure import rescale_intensity\n",
    "from lxml import etree"
   ]
  },
  {
   "cell_type": "markdown",
   "id": "f5cb8c58-09f8-44c3-a0ef-d43637b65a68",
   "metadata": {},
   "source": [
    "## User functions"
   ]
  },
  {
   "cell_type": "code",
   "execution_count": 3,
   "id": "b0ea9376-9290-4d10-ab9f-0d79f3a820f8",
   "metadata": {
    "tags": []
   },
   "outputs": [],
   "source": [
    "# Scale channels to 0–255 using percentiles for robustness\n",
    "def scale_to_uint8(channel, pmin=1, pmax=95.):\n",
    "    vmin, vmax = np.percentile(channel, (pmin, pmax))\n",
    "    scaled = rescale_intensity(channel, in_range=(vmin, vmax), out_range=(0, 255))\n",
    "    return scaled.astype(np.uint8)"
   ]
  },
  {
   "cell_type": "code",
   "execution_count": 4,
   "id": "9fb679f9-19da-486b-a732-7f9376dc81f5",
   "metadata": {
    "tags": []
   },
   "outputs": [],
   "source": [
    "def scale_im(im, channel_mapping=[1, 0, 2], pmin_red=20, pmin_all=20, pmax_red=95, pmax_all=99):\n",
    "    composite = np.zeros((im.shape[1], im.shape[2], 3), dtype=\"uint8\")\n",
    "    for i, _ch in enumerate(channel_mapping):\n",
    "        if i == 0:\n",
    "            # red is a little dimmer\n",
    "            pmin = pmin_all\n",
    "            pmax = pmax_red\n",
    "        else:\n",
    "            pmin = pmin_all\n",
    "            pmax = pmax_all\n",
    "        composite[..., i] = scale_to_uint8(im[_ch], pmin, pmax)\n",
    "    return composite"
   ]
  },
  {
   "cell_type": "code",
   "execution_count": 5,
   "id": "5fa166a8-5c7d-4c8c-932b-0dcbd932036e",
   "metadata": {},
   "outputs": [],
   "source": [
    "config = toml.load(\"../preprocessing/config.toml\")"
   ]
  },
  {
   "cell_type": "code",
   "execution_count": 6,
   "id": "a81f525d-2152-4b9c-882b-0898f262d451",
   "metadata": {},
   "outputs": [],
   "source": [
    "data_dirs = [\n",
    "    os.path.join(config[\"dirs\"][\"data\"], \"histology_round2_wpa-and-dapi\"),\n",
    "]\n",
    "\n",
    "fig_dir = config[\"dirs\"][\"figs\"]\n",
    "os.makedirs(fig_dir, exist_ok=True)"
   ]
  },
  {
   "cell_type": "code",
   "execution_count": 7,
   "id": "f6d82859-b290-4e62-8125-b5d06eb112f7",
   "metadata": {},
   "outputs": [],
   "source": [
    "data_files = []\n",
    "for _dir in data_dirs:\n",
    "    data_files += sorted(glob.glob(os.path.join(_dir, \"*20X.czi\")))"
   ]
  },
  {
   "cell_type": "code",
   "execution_count": 8,
   "id": "5b7fd113-0d40-48f9-91aa-1f4f18571a5b",
   "metadata": {},
   "outputs": [],
   "source": [
    "slide_summary = pd.read_excel(os.path.join(data_dirs[0], \"histology_round2_summary.xlsx\"))"
   ]
  },
  {
   "cell_type": "code",
   "execution_count": 9,
   "id": "d37e28d1-64dc-4b93-991d-b5d88b284dae",
   "metadata": {
    "tags": []
   },
   "outputs": [
    {
     "data": {
      "application/vnd.jupyter.widget-view+json": {
       "model_id": "88cb5a23b949405b83ba58b97cbcbbd7",
       "version_major": 2,
       "version_minor": 0
      },
      "text/plain": [
       "  0%|          | 0/17 [00:00<?, ?it/s]"
      ]
     },
     "metadata": {},
     "output_type": "display_data"
    }
   ],
   "source": [
    "store_dat = {}\n",
    "for _file in tqdm(data_files):\n",
    "    key = os.path.splitext(os.path.basename(_file))[0]\n",
    "    with czifile.CziFile(_file) as f:\n",
    "        store_dat[(key,_file)] = f.asarray().squeeze()"
   ]
  },
  {
   "cell_type": "code",
   "execution_count": 10,
   "id": "eddd5788-000b-47da-bb7c-d3ac9fcdebba",
   "metadata": {
    "tags": []
   },
   "outputs": [],
   "source": [
    "with czifile.CziFile(data_files[0]) as f:\n",
    "    metadata_xml = f.metadata()\n",
    "czi_parsed = etree.fromstring(metadata_xml)\n",
    "root = czi_parsed.getroottree()\n",
    "channels_xml = root.findall(\".//Dimensions/Channels\")[0].getchildren()"
   ]
  },
  {
   "cell_type": "code",
   "execution_count": 11,
   "id": "2948ae21-5a7f-4603-bfbd-7416697cc168",
   "metadata": {
    "tags": []
   },
   "outputs": [],
   "source": [
    "im_size = root.findall(\".//Scaling\")"
   ]
  },
  {
   "cell_type": "code",
   "execution_count": 12,
   "id": "b51b4b37-c73d-4ea2-8b36-708c6acb5233",
   "metadata": {
    "tags": []
   },
   "outputs": [],
   "source": [
    "if czi_parsed.tag.startswith('{'):\n",
    "    ns_uri = czi_parsed.tag.split('}')[0].strip('{')\n",
    "    ns = {'ns': ns_uri}\n",
    "    prefix = 'ns:'\n",
    "else:\n",
    "    ns = None\n",
    "    prefix = ''"
   ]
  },
  {
   "cell_type": "code",
   "execution_count": 13,
   "id": "9de825a2-7dbb-4d9c-8371-b75bf925704a",
   "metadata": {
    "tags": []
   },
   "outputs": [],
   "source": [
    "distances = {}\n",
    "for axis in ['X', 'Y', 'Z']:\n",
    "    xpath = f\".//{prefix}Distance[@Id='{axis}']\"\n",
    "    element = root.find(xpath, namespaces=ns)\n",
    "    if element is not None:\n",
    "        value_m = float(element.getchildren()[0].text)\n",
    "        # value_m = float(element.get('Value'))\n",
    "        distances[axis] = value_m * 1e6  # meters → microns\n",
    "    else:\n",
    "        distances[axis] = None"
   ]
  },
  {
   "cell_type": "code",
   "execution_count": 14,
   "id": "0b04d859-4b4a-4719-898b-1b51f88836c8",
   "metadata": {
    "tags": []
   },
   "outputs": [],
   "source": [
    "channels = [_.values() for _ in channels_xml]"
   ]
  },
  {
   "cell_type": "code",
   "execution_count": 15,
   "id": "7b2c6dd1-37b4-4b73-a995-94081a40df24",
   "metadata": {
    "tags": []
   },
   "outputs": [],
   "source": [
    "composites = {}\n",
    "for k, v in store_dat.items():\n",
    "    composites[k] = scale_im(v)"
   ]
  },
  {
   "cell_type": "code",
   "execution_count": 16,
   "id": "6d563a60-8a96-436f-9ec7-c30561a812a5",
   "metadata": {
    "tags": []
   },
   "outputs": [],
   "source": [
    "# TODO: scale bar...get it from metadata"
   ]
  },
  {
   "cell_type": "code",
   "execution_count": 17,
   "id": "dd19a976-3385-4989-800c-56ae5cdab170",
   "metadata": {
    "tags": []
   },
   "outputs": [],
   "source": [
    "height, width = list(store_dat.values())[0].shape[1:]"
   ]
  },
  {
   "cell_type": "code",
   "execution_count": 18,
   "id": "8594dbd5-e5c3-4904-bdce-4f26b1125f09",
   "metadata": {
    "tags": []
   },
   "outputs": [],
   "source": [
    "# scale bar µm = 100\n",
    "scale_bar_x = 50\n",
    "scale_bar_offset = (50, height - 50)\n",
    "scale_bar_x_pixels = scale_bar_x * (1 / distances[\"X\"])\n",
    "median_footprint = 5"
   ]
  },
  {
   "cell_type": "code",
   "execution_count": 19,
   "id": "c80bd715-1c2d-4bb0-9cfb-82e4d583574b",
   "metadata": {
    "tags": []
   },
   "outputs": [
    {
     "data": {
      "application/vnd.jupyter.widget-view+json": {
       "model_id": "296b84367f5d40df887d3b50ba6fbdc6",
       "version_major": 2,
       "version_minor": 0
      },
      "text/plain": [
       "  0%|          | 0/17 [00:00<?, ?it/s]"
      ]
     },
     "metadata": {},
     "output_type": "display_data"
    }
   ],
   "source": [
    "for (k, _file), v in tqdm(composites.items()):\n",
    "    fname = f\"cell_vs_vasc_{k}_scale-{scale_bar_x}-um\"\n",
    "\n",
    "    if os.path.exists(os.path.join(fig_dir, f\"{fname}.pdf\")):\n",
    "        continue\n",
    "\n",
    "    fig, ax = plt.subplots(1, 4, figsize=(12, 4))\n",
    "    use_v = v.copy()\n",
    "    for i in range(v.ndim):\n",
    "        # use_v[...,i] = median(use_v[...,i], disk(median_footprint))\n",
    "        use_v[..., i] = cv2.medianBlur(use_v[..., i], median_footprint)\n",
    "    for i, _ax in enumerate(ax):\n",
    "        if i < 3:\n",
    "            plt_v = np.zeros_like(use_v)\n",
    "            plt_v[..., i] = use_v[..., i]\n",
    "        else:\n",
    "            plt_v = use_v\n",
    "        _ax.imshow(plt_v)\n",
    "        _ax.plot(\n",
    "            [scale_bar_offset[0], scale_bar_offset[0] + scale_bar_x_pixels],\n",
    "            [scale_bar_offset[1], scale_bar_offset[1]],\n",
    "            \"-\",\n",
    "            color=\"w\",\n",
    "            lw=3,\n",
    "        )\n",
    "        _ax.axis(\"off\")\n",
    "    fig.suptitle(k, y=0.85)\n",
    "    fig.subplots_adjust(wspace=0.05)\n",
    "    fig.savefig(os.path.join(fig_dir, f\"{fname}.pdf\"), dpi=1200, bbox_inches=\"tight\")\n",
    "    fig.savefig(os.path.join(fig_dir, f\"{fname}.png\"), dpi=1200, bbox_inches=\"tight\")\n",
    "    # break"
   ]
  },
  {
   "cell_type": "code",
   "execution_count": 20,
   "id": "8a3e51c7-3a1d-462e-a4d7-7c95783485be",
   "metadata": {
    "tags": []
   },
   "outputs": [],
   "source": [
    "channel_mapping = [1, 0, 2]"
   ]
  },
  {
   "cell_type": "code",
   "execution_count": 21,
   "id": "1df7e20c-c536-42f2-903c-bdb9b9958c51",
   "metadata": {
    "tags": []
   },
   "outputs": [],
   "source": [
    "dapi = [i for i, _tup in enumerate(channels) if \"dapi\" in _tup[1].lower()][0]\n",
    "wga = [i for i, _tup in enumerate(channels) if \"af488\" in _tup[1].lower()][0]\n",
    "qdot = [i for i, _tup in enumerate(channels) if \"qd800\" in _tup[1].lower()][0]"
   ]
  },
  {
   "cell_type": "code",
   "execution_count": 22,
   "id": "2880f360-52d2-48c8-877f-e8bb2dde721f",
   "metadata": {
    "tags": []
   },
   "outputs": [],
   "source": [
    "window_size = (400, 400)"
   ]
  },
  {
   "cell_type": "code",
   "execution_count": 23,
   "id": "80798641-dd70-44fa-8d40-7563ad4927a3",
   "metadata": {
    "tags": []
   },
   "outputs": [],
   "source": [
    "test_im = list(store_dat.values())[-2]"
   ]
  },
  {
   "cell_type": "code",
   "execution_count": 24,
   "id": "cd7d17bf-2de9-493c-bac4-c901b15443b4",
   "metadata": {
    "tags": []
   },
   "outputs": [],
   "source": [
    "model = models.Cellpose(model_type='cyto2', gpu=False)"
   ]
  },
  {
   "cell_type": "code",
   "execution_count": 25,
   "id": "b02cd084-38df-487c-a044-4ac89dc3559e",
   "metadata": {
    "tags": []
   },
   "outputs": [
    {
     "data": {
      "application/vnd.jupyter.widget-view+json": {
       "model_id": "fad372cbf20040e6af433133c5f68d4e",
       "version_major": 2,
       "version_minor": 0
      },
      "text/plain": [
       "  0%|          | 0/17 [00:00<?, ?it/s]"
      ]
     },
     "metadata": {},
     "output_type": "display_data"
    }
   ],
   "source": [
    "results = []\n",
    "for (k, _file), v in tqdm(store_dat.items(), total=len(store_dat)):\n",
    "    thresh_dapi = threshold_otsu(v[dapi])\n",
    "    thresh_wga = threshold_otsu(v[wga])\n",
    "    thresh_qdot = threshold_otsu(v[qdot])\n",
    "    use_dir = os.path.dirname(_file)\n",
    "    save_file = os.path.join(use_dir, f\"{k}.pkl\")\n",
    "\n",
    "    # need to save these, load from file if we already did it...\n",
    "    if not os.path.exists(save_file):\n",
    "        masks, _, _, _ = model.eval(\n",
    "            v,\n",
    "            diameter=None,  # automatic size estimation\n",
    "            channels=[wga, dapi],  # [cytoplasm, nucleus], 0 means grayscale\n",
    "            channel_axis=0,\n",
    "            flow_threshold=0.4,\n",
    "            cellprob_threshold=0.0,\n",
    "        )\n",
    "        joblib.dump({\"masks\": masks}, save_file)\n",
    "    else:\n",
    "        masks = joblib.load(save_file)[\"masks\"]\n",
    "\n",
    "    qdot_im = v[qdot]\n",
    "    wga_im = v[wga]\n",
    "    dapi_im = v[dapi]\n",
    "    qdot_im_norm = (qdot_im - qdot_im.min()) / (qdot_im.max() - qdot_im.min())\n",
    "    qdot_mask = qdot_im > thresh_qdot\n",
    "    dapi_mask = dapi_im > thresh_dapi\n",
    "    wga_mask = wga_im > thresh_wga\n",
    "\n",
    "    cell_mask = masks > 0\n",
    "\n",
    "    percell_qdot_fluo = regionprops_table(masks, intensity_image=qdot_im, properties=[\"mean_intensity\"])[\n",
    "        \"mean_intensity\"\n",
    "    ]\n",
    "    percell_qdot_fluo_norm = regionprops_table(masks, intensity_image=qdot_im_norm, properties=[\"mean_intensity\"])[\n",
    "        \"mean_intensity\"\n",
    "    ]\n",
    "    percell_qdot_mask = regionprops_table(\n",
    "        masks, intensity_image=qdot_mask.astype(\"float\"), properties=[\"mean_intensity\"]\n",
    "    )[\"mean_intensity\"]\n",
    "    total_area = qdot_mask.sum() / qdot_mask.size\n",
    "\n",
    "    qdot_in_wga = qdot_im[wga_mask].sum()\n",
    "    qdot_in_dapi = qdot_im[dapi_mask].sum()\n",
    "    qdot_total = qdot_im.sum()\n",
    "\n",
    "    fraction_qdot_in_wga = qdot_in_wga / qdot_total\n",
    "    fraction_wga_area = wga_mask.sum() / wga_mask.size\n",
    "    enrichment_wga = fraction_qdot_in_wga / fraction_wga_area\n",
    "\n",
    "    fraction_qdot_in_dapi = qdot_in_dapi / qdot_total\n",
    "    fraction_dapi_area = dapi_mask.sum() / dapi_mask.size\n",
    "    enrichment_dapi = fraction_qdot_in_dapi / fraction_dapi_area\n",
    "\n",
    "    # get correlations, masked and unmasked (cell v noncell?)\n",
    "\n",
    "    rois = np.arange(len(percell_qdot_fluo))\n",
    "    new_df = pd.DataFrame()\n",
    "    new_df[\"qdot_fluo\"] = percell_qdot_fluo\n",
    "    new_df[\"qdot_fluo_norm\"] = percell_qdot_fluo_norm\n",
    "    new_df[\"roi\"] = rois\n",
    "    new_df[\"qdot_mean_noncell_fluo\"] = qdot_im[masks <= 0].mean()\n",
    "    new_df[\"qdot_mean_noncell_fluo_norm\"] = qdot_im_norm[masks <= 0].mean()\n",
    "    new_df[\"qdot_mean_cell_fluo_norm\"] = qdot_im_norm[masks > 0].mean()\n",
    "    new_df[\"filename\"] = k\n",
    "    new_df[\"filename_fig\"] = f\"cell_vs_vasc_{k}_scale-{scale_bar_x}-um\"\n",
    "    # new_df[\"filename\"] = os.path.splitext(os.path.basename(_file))[0]\n",
    "    results.append(new_df)\n",
    "    # now with masks, we can get regionprops!"
   ]
  },
  {
   "cell_type": "code",
   "execution_count": 26,
   "id": "40a32efe-fded-4275-ae8e-e173714b817b",
   "metadata": {},
   "outputs": [],
   "source": [
    "result_df = pd.concat(results, ignore_index=True)\n",
    "result_df[\"qdot_type\"] = result_df[\"filename\"].str.contains(\"cell\")\n",
    "result_df[\"qdot_type\"] = result_df[\"qdot_type\"].map({True: \"cell_labeling\", False: \"vascular\"})\n",
    "result_df[\"qdot_fluo_norm_ratio\"] = result_df[\"qdot_fluo_norm\"] / result_df[\"qdot_mean_noncell_fluo_norm\"]\n",
    "result_df = pd.merge(result_df, slide_summary, left_on=\"filename_fig\", right_on=\"filename\", suffixes=(None,\"_slide_summary\"))"
   ]
  },
  {
   "cell_type": "code",
   "execution_count": 27,
   "id": "e5fa3967-4d9a-4e28-98b6-ee6b9dc962f9",
   "metadata": {
    "tags": []
   },
   "outputs": [],
   "source": [
    "colors = {\n",
    "    \"cell_labeling\": sns.color_palette(\"tab10\")[1],\n",
    "    \"collagen_ab\": sns.color_palette(\"bright\")[3],\n",
    "    \"vascular\": sns.color_palette(\"tab10\")[0],\n",
    "}"
   ]
  },
  {
   "cell_type": "code",
   "execution_count": 28,
   "id": "38a20287-abf7-4229-8a6e-f3e28ae3c85c",
   "metadata": {
    "tags": []
   },
   "outputs": [],
   "source": [
    "# use_df = result_df.query(\"qdot_total_area<inf\")"
   ]
  },
  {
   "cell_type": "code",
   "execution_count": 29,
   "id": "b8e06a2f-3798-4568-94eb-8bca8145af5f",
   "metadata": {},
   "outputs": [],
   "source": [
    "setup_plotting_env()"
   ]
  },
  {
   "cell_type": "code",
   "execution_count": 30,
   "id": "d9ac9501-ea75-44c5-87b7-33bef69fdcdc",
   "metadata": {},
   "outputs": [],
   "source": [
    "result_df[\"group\"] = result_df.groupby(\"injection\")[\"group\"].transform(lambda x: x.astype(\"category\").cat.codes)"
   ]
  },
  {
   "cell_type": "code",
   "execution_count": 31,
   "id": "4d0fa937-730c-4455-b299-53f9771cb411",
   "metadata": {},
   "outputs": [],
   "source": [
    "result_df[\"distance um relative\"] = result_df.groupby([\"injection\",\"group\"])[\"distance um\"].transform(lambda x: x - x.min())\n",
    "result_df[\"slice relative\"] = result_df.groupby([\"injection\",\"group\"])[\"total slice number\"].transform(lambda x: x - x.min())\n",
    "result_df[\"qdot_type\"] = result_df[\"qdot_type\"].astype(\"category\")\n",
    "result_df[\"qdot_type\"] = result_df[\"qdot_type\"].cat.set_categories([\"vascular\",\"cell_labeling\"], ordered=True)"
   ]
  },
  {
   "cell_type": "code",
   "execution_count": 32,
   "id": "d6c2cb8d-93ca-45bc-b903-21a004c240fb",
   "metadata": {},
   "outputs": [],
   "source": [
    "combined_keys = result_df[[\"group\",\"slice relative\"]].apply(tuple, axis=1)\n",
    "# Factorize the combined keys to get numerical group IDs\n",
    "group_ids, unique_combinations = pd.factorize(combined_keys)\n",
    "result_df[\"group_id\"] = group_ids\n",
    "result_df[\"slice relative cat\"] = result_df.groupby(\"injection\")[\"group_id\"].transform(lambda x: pd.factorize(x)[0])"
   ]
  },
  {
   "cell_type": "code",
   "execution_count": 33,
   "id": "1942c922-268c-45a6-af67-a28e762a9d22",
   "metadata": {},
   "outputs": [],
   "source": [
    "divisor = 6\n",
    "offset = result_df[\"slice relative cat\"].mean() / divisor\n",
    "center_points = result_df[\"qdot_type\"].cat.codes.astype(\"float\") * 1.5\n",
    "\n",
    "result_df[\"x_scaled\"] = center_points + (result_df[\"slice relative cat\"] / divisor - offset)\n",
    "label_points = sorted(center_points.unique())\n",
    "\n",
    "cmap = plt.colormaps[\"turbo\"]\n",
    "kwargs = {\"levels\": result_df[\"slice relative cat\"],\n",
    "          \"cmap\": cmap}\n",
    "\n",
    "n_categories = result_df[\"slice relative cat\"].nunique()\n",
    "\n",
    "cmap = plt.matplotlib.colors.ListedColormap(sns.color_palette(\"turbo\",n_colors=n_categories))\n",
    "norm = plt.matplotlib.colors.BoundaryNorm(boundaries=np.arange(-0.5, n_categories + 0.5, 1), ncolors=n_categories)\n",
    "\n",
    "scatter_kwargs = {\n",
    "    # \"style\":\"group\",\n",
    "    \"legend\":False,\n",
    "    \"hue\": \"qdot_type\",\n",
    "    \"palette\": colors,\n",
    "    # \"markers\":[\"o\", \"D\"],  # Optional: explicitly set marker shapes\n",
    "    \"s\":30,  # Optional: increase marker size\n",
    "    \"alpha\":1.0,\n",
    "    \"cmap\":cmap,\n",
    "    \"norm\":norm,\n",
    "    \"clip_on\":False,\n",
    "}"
   ]
  },
  {
   "cell_type": "code",
   "execution_count": null,
   "id": "a87b802d-57ae-483a-82b4-b1cbe8aa6fb9",
   "metadata": {},
   "outputs": [],
   "source": []
  },
  {
   "cell_type": "code",
   "execution_count": 35,
   "id": "7b2be4c4-d3aa-4a51-a2c2-36c054255c3c",
   "metadata": {
    "tags": []
   },
   "outputs": [
    {
     "name": "stderr",
     "output_type": "stream",
     "text": [
      "/storage/home/hcoda1/4/jmarkowitz30/.local/lib/python3.10/site-packages/seaborn/relational.py:438: UserWarning: No data for colormapping provided via 'c'. Parameters 'cmap', 'norm' will be ignored\n",
      "  points = ax.scatter(x=x, y=y, **kws)\n"
     ]
    },
    {
     "data": {
      "image/png": "[encoded data removed]",
      "text/plain": [
       "<Figure size 150x240 with 2 Axes>"
      ]
     },
     "metadata": {},
     "output_type": "display_data"
    }
   ],
   "source": [
    "fig, ax = plt.subplots(1, figsize=(1.5, 2.4))\n",
    "plt_data = (\n",
    "    result_df.groupby([\"qdot_type\", \"filename\", \"distance um relative\", \"slice relative cat\", \"group\"], observed=True)[\n",
    "        [\"x_scaled\", \"qdot_fluo_norm_ratio\"]\n",
    "    ]\n",
    "    .median()\n",
    "    .reset_index()\n",
    ").dropna()\n",
    "xticks = plt_data[[\"x_scaled\",\"slice relative cat\"]].drop_duplicates()\n",
    "sns.scatterplot(\n",
    "    data=plt_data,\n",
    "    x=\"x_scaled\",\n",
    "    y=\"qdot_fluo_norm_ratio\",\n",
    "    # c=plt_data[\"slice relative cat\"],\n",
    "    ax=ax,\n",
    "    **scatter_kwargs,\n",
    ")\n",
    "ax.set_xlabel(\"Slice number\", fontsize=5)\n",
    "ax.set_xticks(xticks[\"x_scaled\"], xticks[\"slice relative cat\"])\n",
    "fig.tight_layout()\n",
    "\n",
    "ax.set_ylabel(\"QD fluorescence ratio (in cell / outside cell)\")\n",
    "ax2 = ax.twiny()\n",
    "ax2.spines[\"bottom\"].set_position((\"axes\", -0.20))\n",
    "ax2.tick_params(\"both\", length=0, width=0, which=\"minor\")\n",
    "ax2.tick_params(\"both\", direction=\"out\", which=\"major\")\n",
    "ax2.xaxis.set_ticks_position(\"bottom\")\n",
    "ax2.xaxis.set_label_position(\"bottom\")\n",
    "\n",
    "xlims = ax.get_xlim()\n",
    "major_ticks = [xlims[0], (xlims[0] + xlims[1]) / 2.0, xlims[1]]\n",
    "ax2.set_xticks(major_ticks)\n",
    "ax2.xaxis.set_major_formatter(plt.matplotlib.ticker.NullFormatter())\n",
    "ax2.xaxis.set_minor_locator(\n",
    "    plt.matplotlib.ticker.FixedLocator(((major_ticks[0] + major_ticks[1]) / 2, (major_ticks[1] + major_ticks[2]) / 2))\n",
    ")\n",
    "ax2.xaxis.set_minor_formatter(plt.matplotlib.ticker.FixedFormatter([\"QD800.1\", \"QD800.2\"]))\n",
    "sns.despine(trim=True)\n",
    "\n",
    "# sm = plt.matplotlib.cm.ScalarMappable(cmap=cmap, norm=norm)\n",
    "# sm.set_array([])  # Required for ScalarMappable with colorbar\n",
    "\n",
    "# cbar = plt.colorbar(sm, ticks=np.arange(n_categories), ax=ax, pad=0.15, shrink=0.6)\n",
    "# cbar.set_label(\"Slice no.\")\n",
    "# cbar.ax.tick_params(which=\"minor\", length=0)\n",
    "# cbar.ax.minorticks_off()\n",
    "\n",
    "fig.savefig(os.path.join(fig_dir, \"histology_cell_vs_vasc_cell-noncell-ratio.pdf\"), bbox_inches=\"tight\", dpi=600)"
   ]
  },
  {
   "cell_type": "code",
   "execution_count": 36,
   "id": "82bfed7b-8c3f-442c-9b01-841b72fefa06",
   "metadata": {},
   "outputs": [
    {
     "name": "stderr",
     "output_type": "stream",
     "text": [
      "/tmp/ipykernel_1348869/234885922.py:1: FutureWarning: The default of observed=False is deprecated and will be changed to True in a future version of pandas. Pass observed=False to retain current behavior or observed=True to adopt the future default and silence this warning.\n",
      "  group1 = result_df.groupby([\"qdot_type\", \"filename\"])[\"qdot_fluo_norm_ratio\"].median().loc[\"cell_labeling\"]\n",
      "/tmp/ipykernel_1348869/234885922.py:2: FutureWarning: The default of observed=False is deprecated and will be changed to True in a future version of pandas. Pass observed=False to retain current behavior or observed=True to adopt the future default and silence this warning.\n",
      "  group2 = result_df.groupby([\"qdot_type\", \"filename\"])[\"qdot_fluo_norm_ratio\"].median().loc[\"vascular\"]\n"
     ]
    }
   ],
   "source": [
    "group1 = result_df.groupby([\"qdot_type\", \"filename\"])[\"qdot_fluo_norm_ratio\"].median().loc[\"cell_labeling\"]\n",
    "group2 = result_df.groupby([\"qdot_type\", \"filename\"])[\"qdot_fluo_norm_ratio\"].median().loc[\"vascular\"]\n",
    "\n",
    "stat = mannwhitneyu(group1, group2)\n",
    "\n",
    "n1 = len(group1)\n",
    "n2 = len(group2)\n",
    "\n",
    "f = stat.statistic / (n1 * n2)\n",
    "\n",
    "stat_dct = {}\n",
    "stat_dct[\"cell_vs_vasc\"] = {}\n",
    "stat_dct[\"cell_vs_vasc\"][\"p\"] = stat.pvalue\n",
    "stat_dct[\"cell_vs_vasc\"][\"statistic\"] = stat.statistic\n",
    "stat_dct[\"cell_vs_vasc\"][\"f\"] = f\n",
    "stat_dct[\"cell_vs_vasc\"][\"n(cell_labeling)\"] = n1\n",
    "stat_dct[\"cell_vs_vasc\"][\"n(vascular)\"] = n2\n",
    "stat_dct[\"cell_vs_vasc\"][\"cell_labeling_stats\"] = group1.describe()\n",
    "stat_dct[\"cell_vs_vasc\"][\"vascular_stats\"] = group2.describe()\n",
    "stat_dct[\"cell_vs_vasc\"][\"test\"] = mannwhitneyu.__name__"
   ]
  },
  {
   "cell_type": "code",
   "execution_count": 37,
   "id": "fa49c21c-f9b8-441e-8215-4ac2dbbebfa3",
   "metadata": {},
   "outputs": [],
   "source": [
    "with open(os.path.join(fig_dir, \"histology_cell_vs_vasc_cell-noncell-ratio.toml\"), \"w\") as f:\n",
    "    toml.dump(stat_dct, f)"
   ]
  },
  {
   "cell_type": "markdown",
   "id": "70909a51-341f-44f6-a29a-d2528e563b82",
   "metadata": {},
   "source": [
    "# Analyze Collagen co-localization"
   ]
  },
  {
   "cell_type": "code",
   "execution_count": 38,
   "id": "8b1bca26-f2e2-42f1-b62a-9853e17b4e09",
   "metadata": {},
   "outputs": [],
   "source": [
    "data_dir = os.path.join(config[\"dirs\"][\"data\"], \"histology_round2_collagen-and-dapi\")\n",
    "data_files = sorted(glob.glob(os.path.join(data_dir, \"*63X.czi\")))\n",
    "# data_files = [_file for _file in data_files if \"BF\" not in _file]"
   ]
  },
  {
   "cell_type": "code",
   "execution_count": 39,
   "id": "c45c7ff3-c676-40a6-800e-442fd21bc087",
   "metadata": {
    "tags": []
   },
   "outputs": [
    {
     "data": {
      "application/vnd.jupyter.widget-view+json": {
       "model_id": "da3871c7fb84438d95345386f2fe4b24",
       "version_major": 2,
       "version_minor": 0
      },
      "text/plain": [
       "  0%|          | 0/23 [00:00<?, ?it/s]"
      ]
     },
     "metadata": {},
     "output_type": "display_data"
    }
   ],
   "source": [
    "store_dat = {}\n",
    "for _file in tqdm(data_files):\n",
    "    key = os.path.splitext(os.path.basename(_file))[0]\n",
    "    with czifile.CziFile(_file) as f:\n",
    "        store_dat[(key,_file)] = f.asarray().squeeze()"
   ]
  },
  {
   "cell_type": "code",
   "execution_count": 40,
   "id": "00898d22-e957-4cc8-8a62-9d0f7ad4dd40",
   "metadata": {
    "tags": []
   },
   "outputs": [],
   "source": [
    "with czifile.CziFile(data_files[0]) as f:\n",
    "    metadata_xml = f.metadata()\n",
    "czi_parsed = etree.fromstring(metadata_xml)\n",
    "root = czi_parsed.getroottree()\n",
    "channels_xml = root.findall(\".//Dimensions/Channels\")[0].getchildren()"
   ]
  },
  {
   "cell_type": "code",
   "execution_count": 41,
   "id": "aed2903d-0992-4c63-abc6-9f6b764d5181",
   "metadata": {
    "tags": []
   },
   "outputs": [],
   "source": [
    "distances = {}\n",
    "for axis in ['X', 'Y', 'Z']:\n",
    "    xpath = f\".//{prefix}Distance[@Id='{axis}']\"\n",
    "    element = root.find(xpath, namespaces=ns)\n",
    "    if element is not None:\n",
    "        value_m = float(element.getchildren()[0].text)\n",
    "        # value_m = float(element.get('Value'))\n",
    "        distances[axis] = value_m * 1e6  # meters → microns\n",
    "    else:\n",
    "        distances[axis] = None"
   ]
  },
  {
   "cell_type": "code",
   "execution_count": 42,
   "id": "d3ffd679-4353-4df0-947f-6f1b28880494",
   "metadata": {
    "tags": []
   },
   "outputs": [],
   "source": [
    "channels = [_.values() for _ in channels_xml]"
   ]
  },
  {
   "cell_type": "code",
   "execution_count": 43,
   "id": "6fac9461-6d1c-4fde-8a3b-a320addacdb8",
   "metadata": {
    "tags": []
   },
   "outputs": [
    {
     "data": {
      "application/vnd.jupyter.widget-view+json": {
       "model_id": "fddb121bf1db4dc08e1fe95f5d649286",
       "version_major": 2,
       "version_minor": 0
      },
      "text/plain": [
       "  0%|          | 0/23 [00:00<?, ?it/s]"
      ]
     },
     "metadata": {},
     "output_type": "display_data"
    }
   ],
   "source": [
    "composites = {}\n",
    "for k, v in tqdm(store_dat.items()):\n",
    "    # composites[k] = scale_im(v, pmin_red=40, pmin_all=30, pmax_red=90, pmax_all=95)\n",
    "    composites[k] = scale_im(v)"
   ]
  },
  {
   "cell_type": "code",
   "execution_count": 44,
   "id": "4f74a79f-03b2-46af-8711-05ff2d622a1a",
   "metadata": {
    "tags": []
   },
   "outputs": [],
   "source": [
    "height, width = list(store_dat.values())[0].shape[1:]"
   ]
  },
  {
   "cell_type": "code",
   "execution_count": 45,
   "id": "1364072b-9bf7-4153-a958-dc38e6664f87",
   "metadata": {
    "tags": []
   },
   "outputs": [],
   "source": [
    "scale_bar_x = 10\n",
    "scale_bar_offset = (50, height - 50)\n",
    "scale_bar_x_pixels = scale_bar_x * (1 / distances[\"X\"])"
   ]
  },
  {
   "cell_type": "code",
   "execution_count": 46,
   "id": "eaa24211-b73e-463f-a0ae-ca2dee9b45cf",
   "metadata": {},
   "outputs": [],
   "source": [
    "median_footprint = 5"
   ]
  },
  {
   "cell_type": "code",
   "execution_count": 47,
   "id": "c76c4553-8075-4270-a5b0-d87e14a3107e",
   "metadata": {
    "tags": []
   },
   "outputs": [
    {
     "data": {
      "application/vnd.jupyter.widget-view+json": {
       "model_id": "5c290130ecbe47e4958f4898a09c8238",
       "version_major": 2,
       "version_minor": 0
      },
      "text/plain": [
       "  0%|          | 0/23 [00:00<?, ?it/s]"
      ]
     },
     "metadata": {},
     "output_type": "display_data"
    }
   ],
   "source": [
    "for (k, _file), v in tqdm(composites.items()):\n",
    "    fname = f\"coll-ab_vs_vasc_{k}_scale-{scale_bar_x}-um\"\n",
    "    if os.path.exists(os.path.join(fig_dir, f\"{fname}.pdf\")):\n",
    "        continue\n",
    "\n",
    "    fig, ax = plt.subplots(1, 4, figsize=(12, 4))\n",
    "    use_v = v.copy()\n",
    "    for i in range(v.ndim):\n",
    "        # use_v[...,i] = median(use_v[i], disk(median_footprint))\n",
    "        use_v[..., i] = cv2.medianBlur(use_v[..., i], median_footprint)\n",
    "    for i, _ax in enumerate(ax):\n",
    "        if i < 3:\n",
    "            plt_v = np.zeros_like(use_v)\n",
    "            plt_v[..., i] = use_v[..., i]\n",
    "        else:\n",
    "            plt_v = use_v\n",
    "        _ax.imshow(plt_v)\n",
    "        _ax.plot(\n",
    "            [scale_bar_offset[0], scale_bar_offset[0] + scale_bar_x_pixels],\n",
    "            [scale_bar_offset[1], scale_bar_offset[1]],\n",
    "            \"-\",\n",
    "            color=\"w\",\n",
    "            lw=3,\n",
    "        )\n",
    "        _ax.axis(\"off\")\n",
    "    fig.suptitle(k, y=0.85)\n",
    "    fig.subplots_adjust(wspace=0.05)\n",
    "    fig.savefig(os.path.join(fig_dir, f\"{fname}.pdf\"), dpi=1200, bbox_inches=\"tight\")\n",
    "    fig.savefig(os.path.join(fig_dir, f\"{fname}.png\"), dpi=1200, bbox_inches=\"tight\")\n",
    "    # break"
   ]
  },
  {
   "cell_type": "code",
   "execution_count": 48,
   "id": "6ca009ac-1fe2-403d-9f5a-731a9eb84b5a",
   "metadata": {
    "tags": []
   },
   "outputs": [],
   "source": [
    "channel_mapping = [1, 0, 2]"
   ]
  },
  {
   "cell_type": "code",
   "execution_count": 49,
   "id": "1ea0e868-32ec-48a5-b5a3-5c41cdb9b4e2",
   "metadata": {
    "tags": []
   },
   "outputs": [],
   "source": [
    "dapi = [i for i, _tup in enumerate(channels) if \"dapi\" in _tup[1].lower()][0]\n",
    "coll = [i for i, _tup in enumerate(channels) if \"af488\" in _tup[1].lower()][0]\n",
    "qdot = [i for i, _tup in enumerate(channels) if \"qd800\" in _tup[1].lower()][0]"
   ]
  },
  {
   "cell_type": "code",
   "execution_count": 50,
   "id": "2df433eb-8664-41ab-acfc-cb87667acbd9",
   "metadata": {
    "tags": []
   },
   "outputs": [],
   "source": [
    "results = []\n",
    "for (k, _file), v in store_dat.items():\n",
    "    qdot_im = v[qdot]\n",
    "    coll_im = v[coll]\n",
    "    dapi_im = v[dapi]\n",
    "\n",
    "    # Threshold to create masks\n",
    "    thresh_qdot = threshold_otsu(qdot_im)\n",
    "    qdot_mask = qdot_im > thresh_qdot\n",
    "\n",
    "    qdot_im_norm = (qdot_im - qdot_im.min()) / (qdot_im.max() - qdot_im.min())\n",
    "    thresh_coll = threshold_otsu(coll_im)\n",
    "    coll_mask = coll_im > thresh_coll\n",
    "\n",
    "    thresh_dapi = threshold_otsu(coll_im)\n",
    "    dapi_mask = dapi_im > thresh_dapi\n",
    "    total_area = qdot_mask.sum() / qdot_mask.size\n",
    "\n",
    "    results.append(\n",
    "        {\n",
    "            \"filename\": k,\n",
    "            \"filename_fig\": f\"coll-ab_vs_vasc_{k}_scale-{scale_bar_x}-um\",\n",
    "            \"collagen_qdot_fluo_norm\": qdot_im_norm[coll_mask].mean(),\n",
    "            \"collagen_qdot_fluo\": qdot_im[coll_mask].mean(),\n",
    "            \"dapi_qdot_fluo_norm\": qdot_im_norm[dapi_mask].mean(),\n",
    "            \"dapi_qdot_fluo\": qdot_im[dapi_mask].mean(),\n",
    "            \"total_area\": total_area,\n",
    "            \n",
    "        }\n",
    "    )"
   ]
  },
  {
   "cell_type": "code",
   "execution_count": 51,
   "id": "e84e8c57-eeb9-46ad-8ed4-933247000b60",
   "metadata": {
    "tags": []
   },
   "outputs": [],
   "source": [
    "result_df = pd.DataFrame(results)"
   ]
  },
  {
   "cell_type": "code",
   "execution_count": 52,
   "id": "2f451f54-0cbb-4f31-9395-10dd84181040",
   "metadata": {
    "tags": []
   },
   "outputs": [],
   "source": [
    "result_df[\"qdot_type\"] = ~result_df[\"filename\"].str.contains(\"vasc\")\n",
    "result_df[\"qdot_type\"] = result_df[\"qdot_type\"].map({True: \"collagen_ab\", False: \"vascular\"})\n",
    "result_df[\"collagen_qdot_fluo_norm_ratio\"] = result_df[\"collagen_qdot_fluo_norm\"] / result_df[\"dapi_qdot_fluo_norm\"]\n",
    "result_df = pd.merge(result_df, slide_summary, left_on=\"filename_fig\", right_on=\"filename\", suffixes=(None,\"_slide_summary\"))"
   ]
  },
  {
   "cell_type": "code",
   "execution_count": 53,
   "id": "dc3a9d8c-a09b-4947-a149-9d28c25bad9a",
   "metadata": {},
   "outputs": [],
   "source": [
    "result_df[\"group\"] = result_df.groupby(\"injection\")[\"group\"].transform(lambda x: x.astype(\"category\").cat.codes)"
   ]
  },
  {
   "cell_type": "code",
   "execution_count": 54,
   "id": "25b089e8-178e-4f3c-82c8-f645ad1212e3",
   "metadata": {},
   "outputs": [],
   "source": [
    "result_df[\"distance um relative\"] = result_df.groupby([\"injection\",\"group\"])[\"distance um\"].transform(lambda x: x - x.min())\n",
    "result_df[\"slice relative\"] = result_df.groupby([\"injection\",\"group\"])[\"total slice number\"].transform(lambda x: x - x.min())\n",
    "result_df[\"qdot_type\"] = result_df[\"qdot_type\"].astype(\"category\")\n",
    "result_df[\"qdot_type\"] = result_df[\"qdot_type\"].cat.set_categories([\"vascular\",\"collagen_ab\"], ordered=True)"
   ]
  },
  {
   "cell_type": "code",
   "execution_count": 55,
   "id": "3fecf039-d3f3-4bde-bb16-cfe0e705469e",
   "metadata": {},
   "outputs": [],
   "source": [
    "combined_keys = result_df[[\"group\",\"slice relative\"]].apply(tuple, axis=1)\n",
    "group_ids, unique_combinations = pd.factorize(combined_keys)\n",
    "result_df[\"group_id\"] = group_ids\n",
    "result_df[\"slice relative cat\"] = result_df.groupby(\"injection\")[\"group_id\"].transform(lambda x: pd.factorize(x)[0])"
   ]
  },
  {
   "cell_type": "code",
   "execution_count": 56,
   "id": "fbe8c6d8-8286-4f72-b582-4d87dce8062f",
   "metadata": {},
   "outputs": [],
   "source": [
    "divisor = 6\n",
    "offset = result_df[\"slice relative cat\"].mean() / divisor\n",
    "center_points = result_df[\"qdot_type\"].cat.codes.astype(\"float\") * 1.2\n",
    "\n",
    "result_df[\"x_scaled\"] = center_points + (result_df[\"slice relative cat\"] / divisor - offset)\n",
    "label_points = sorted(center_points.unique())\n",
    "\n",
    "cmap = plt.colormaps[\"turbo\"]\n",
    "kwargs = {\"levels\": result_df[\"slice relative cat\"],\n",
    "          \"cmap\": cmap}\n",
    "\n",
    "n_categories = result_df[\"slice relative cat\"].nunique()\n",
    "\n",
    "cmap = plt.matplotlib.colors.ListedColormap(sns.color_palette(\"turbo\",n_colors=n_categories))\n",
    "norm = plt.matplotlib.colors.BoundaryNorm(boundaries=np.arange(-0.5, n_categories + 0.5, 1), ncolors=n_categories)\n",
    "\n",
    "scatter_kwargs = {\n",
    "    # \"style\":\"group\",\n",
    "    \"legend\":False,\n",
    "    \"hue\": \"qdot_type\",\n",
    "    \"palette\": colors,\n",
    "    # \"markers\":[\"o\", \"D\"],  # Optional: explicitly set marker shapes\n",
    "    \"s\":30,  # Optional: increase marker size\n",
    "    \"alpha\":1.0,\n",
    "    \"cmap\":cmap,\n",
    "    \"norm\":norm,\n",
    "    \"clip_on\":False,\n",
    "}"
   ]
  },
  {
   "cell_type": "code",
   "execution_count": 57,
   "id": "5e12a0c1-9376-4f85-9a0a-88cfa859bfaf",
   "metadata": {},
   "outputs": [
    {
     "name": "stderr",
     "output_type": "stream",
     "text": [
      "/storage/home/hcoda1/4/jmarkowitz30/.local/lib/python3.10/site-packages/seaborn/relational.py:438: UserWarning: No data for colormapping provided via 'c'. Parameters 'cmap', 'norm' will be ignored\n",
      "  points = ax.scatter(x=x, y=y, **kws)\n"
     ]
    },
    {
     "data": {
      "image/png": "[encoded data removed]",
      "text/plain": [
       "<Figure size 160x220 with 2 Axes>"
      ]
     },
     "metadata": {},
     "output_type": "display_data"
    }
   ],
   "source": [
    "fig, ax = plt.subplots(1, figsize=(1.6, 2.2))\n",
    "plt_data = (\n",
    "    result_df.groupby([\"qdot_type\", \"filename\", \"distance um relative\", \"slice relative cat\", \"group\"], observed=True)[\n",
    "        [\"x_scaled\", \"collagen_qdot_fluo_norm_ratio\"]\n",
    "    ]\n",
    "    .median()\n",
    "    .reset_index()\n",
    ").dropna()\n",
    "xticks = plt_data[[\"x_scaled\",\"slice relative cat\"]].drop_duplicates()\n",
    "\n",
    "sns.scatterplot(\n",
    "    data=plt_data,\n",
    "    x=\"x_scaled\",\n",
    "    y=\"collagen_qdot_fluo_norm_ratio\",\n",
    "    ax=ax,\n",
    "    **scatter_kwargs,\n",
    ")\n",
    "\n",
    "ax.set_xlabel(\"Slice number\", fontsize=5)\n",
    "ax.set_xticks(xticks[\"x_scaled\"], xticks[\"slice relative cat\"])\n",
    "fig.tight_layout()\n",
    "\n",
    "ax.set_ylabel(\"QD fluorescence ratio (in cell / outside cell)\")\n",
    "\n",
    "ax2 = ax.twiny()\n",
    "ax2.spines[\"bottom\"].set_position((\"axes\", -0.20))\n",
    "ax2.tick_params(\"both\", length=0, width=0, which=\"minor\")\n",
    "ax2.tick_params(\"both\", direction=\"out\", which=\"major\")\n",
    "ax2.xaxis.set_ticks_position(\"bottom\")\n",
    "ax2.xaxis.set_label_position(\"bottom\")\n",
    "\n",
    "xlims = ax.get_xlim()\n",
    "major_ticks = [xlims[0], (xlims[0] + xlims[1]) / 2.0, xlims[1]]\n",
    "ax2.set_xticks(major_ticks)\n",
    "ax2.xaxis.set_major_formatter(plt.matplotlib.ticker.NullFormatter())\n",
    "ax2.xaxis.set_minor_locator(\n",
    "    plt.matplotlib.ticker.FixedLocator(((major_ticks[0] + major_ticks[1]) / 2, (major_ticks[1] + major_ticks[2]) / 2))\n",
    ")\n",
    "ax2.xaxis.set_minor_formatter(plt.matplotlib.ticker.FixedFormatter([\"QD800.1\", \"QD800.4.COLLAGEN\"]))\n",
    "sns.despine(trim=True)\n",
    "ax.set_ylabel(\"QD fluorescence ratio (collagen/DAPI)\")\n",
    "fig.savefig(os.path.join(fig_dir, \"histology_collagen_vs_vasc_fluo-ratio.pdf\"), bbox_inches=\"tight\", dpi=600)"
   ]
  },
  {
   "cell_type": "code",
   "execution_count": 59,
   "id": "08c3b64f-2ead-4aa8-9121-8b24ba92a2a7",
   "metadata": {
    "tags": []
   },
   "outputs": [
    {
     "name": "stderr",
     "output_type": "stream",
     "text": [
      "/tmp/ipykernel_1348869/3897043956.py:1: FutureWarning: The default of observed=False is deprecated and will be changed to True in a future version of pandas. Pass observed=False to retain current behavior or observed=True to adopt the future default and silence this warning.\n",
      "  group1 = result_df.groupby([\"qdot_type\", \"filename\"])[\"collagen_qdot_fluo_norm_ratio\"].median().loc[\"collagen_ab\"]\n",
      "/tmp/ipykernel_1348869/3897043956.py:2: FutureWarning: The default of observed=False is deprecated and will be changed to True in a future version of pandas. Pass observed=False to retain current behavior or observed=True to adopt the future default and silence this warning.\n",
      "  group2 = result_df.groupby([\"qdot_type\", \"filename\"])[\"collagen_qdot_fluo_norm_ratio\"].median().loc[\"vascular\"]\n"
     ]
    }
   ],
   "source": [
    "group1 = result_df.groupby([\"qdot_type\", \"filename\"])[\"collagen_qdot_fluo_norm_ratio\"].median().loc[\"collagen_ab\"]\n",
    "group2 = result_df.groupby([\"qdot_type\", \"filename\"])[\"collagen_qdot_fluo_norm_ratio\"].median().loc[\"vascular\"]\n",
    "\n",
    "stat = mannwhitneyu(group1, group2)\n",
    "\n",
    "n1 = len(group1)\n",
    "n2 = len(group2)\n",
    "\n",
    "f = stat.statistic / (n1 * n2)\n",
    "\n",
    "stat_dct = {}\n",
    "stat_dct[\"collagen-ab_vs_vasc\"] = {}\n",
    "stat_dct[\"collagen-ab_vs_vasc\"][\"p\"] = stat.pvalue\n",
    "stat_dct[\"collagen-ab_vs_vasc\"][\"statistic\"] = stat.statistic\n",
    "stat_dct[\"collagen-ab_vs_vasc\"][\"f\"] = f\n",
    "stat_dct[\"collagen-ab_vs_vasc\"][\"n(collagen_ab)\"] = n1\n",
    "stat_dct[\"collagen-ab_vs_vasc\"][\"n(vascular)\"] = n2\n",
    "stat_dct[\"collagen-ab_vs_vasc\"][\"collagen_ab_stats\"] = group1.describe()\n",
    "stat_dct[\"collagen-ab_vs_vasc\"][\"vascular_stats\"] = group2.describe()\n",
    "stat_dct[\"collagen-ab_vs_vasc\"][\"test\"] = mannwhitneyu.__name__"
   ]
  },
  {
   "cell_type": "code",
   "execution_count": 60,
   "id": "fcffee96-d4e2-4e1b-b7fc-9db5d79894b0",
   "metadata": {},
   "outputs": [],
   "source": [
    "with open(os.path.join(fig_dir, \"histology_collagen_vs_vasc_enrichment-ratio.toml\"), \"w\") as f:\n",
    "    toml.dump(stat_dct, f)"
   ]
  },
  {
   "cell_type": "code",
   "execution_count": null,
   "id": "d1673673-1bbf-4dd4-863f-3adc881a75a7",
   "metadata": {},
   "outputs": [],
   "source": []
  },
  {
   "cell_type": "code",
   "execution_count": null,
   "id": "171585e0-875e-4bb9-aec4-1686fc125336",
   "metadata": {},
   "outputs": [],
   "source": []
  }
 ],
 "metadata": {
  "kernelspec": {
   "display_name": "data-analysis (local)",
   "language": "python",
   "name": "data_analysis_local"
  },
  "language_info": {
   "codemirror_mode": {
    "name": "ipython",
    "version": 3
   },
   "file_extension": ".py",
   "mimetype": "text/x-python",
   "name": "python",
   "nbconvert_exporter": "python",
   "pygments_lexer": "ipython3",
   "version": "3.10.0"
  }
 },
 "nbformat": 4,
 "nbformat_minor": 5
}
