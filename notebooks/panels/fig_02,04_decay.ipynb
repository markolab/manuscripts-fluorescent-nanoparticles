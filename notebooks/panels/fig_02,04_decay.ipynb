{
 "cells": [
  {
   "cell_type": "code",
   "execution_count": 1,
   "id": "d22916dc-c184-4952-b808-34d526c9b5d9",
   "metadata": {
    "tags": []
   },
   "outputs": [],
   "source": [
    "%load_ext autoreload\n",
    "%autoreload 2\n",
    "%matplotlib inline"
   ]
  },
  {
   "cell_type": "code",
   "execution_count": 2,
   "id": "c3ec79fe-3762-43dc-8825-f1a826a7f4b4",
   "metadata": {
    "tags": []
   },
   "outputs": [],
   "source": [
    "import os\n",
    "import matplotlib.pyplot as plt\n",
    "import numpy as np\n",
    "import toml\n",
    "import pandas as pd\n",
    "import seaborn as sns\n",
    "from qd_analysis.fig import setup_plotting_env\n",
    "from scipy.stats import mannwhitneyu"
   ]
  },
  {
   "cell_type": "markdown",
   "id": "bdb6af78-dd92-4b5f-a533-a31359064f6a",
   "metadata": {
    "tags": []
   },
   "source": [
    "## User functions"
   ]
  },
  {
   "cell_type": "code",
   "execution_count": 3,
   "id": "6bff0cab-b479-4d1a-9207-3167f48a8658",
   "metadata": {},
   "outputs": [],
   "source": [
    "def get_time_to_baseline(df, cutoff=None):\n",
    "    _test = df.set_index(\"days\")[\"value\"]\n",
    "    _index_cut = _test[_test >= cutoff].index\n",
    "    if len(_index_cut) == 0:\n",
    "        return np.nan\n",
    "    else:\n",
    "        return np.max(_index_cut)"
   ]
  },
  {
   "cell_type": "code",
   "execution_count": 4,
   "id": "87de1ba8-2d34-40d4-a68d-6711c5c92412",
   "metadata": {},
   "outputs": [],
   "source": [
    "config = toml.load(\"../preprocessing/config.toml\")"
   ]
  },
  {
   "cell_type": "code",
   "execution_count": 5,
   "id": "e66b7679-6b4d-45a6-bfce-c165ad13abb6",
   "metadata": {
    "tags": []
   },
   "outputs": [],
   "source": [
    "fig_dir = config[\"dirs\"][\"figs\"]\n",
    "os.makedirs(fig_dir, exist_ok=True)"
   ]
  },
  {
   "cell_type": "code",
   "execution_count": 6,
   "id": "cd4198b6-a794-4ffd-b3ad-eb0009f970d0",
   "metadata": {},
   "outputs": [],
   "source": [
    "fluo_df = pd.read_parquet(os.path.join(config[\"dirs\"][\"data\"], \"dataframes/fluorescence_intensity_over_time.parquet\"))"
   ]
  },
  {
   "cell_type": "markdown",
   "id": "3484db15-cb8a-4c08-8bcc-c7ab05ff55ad",
   "metadata": {},
   "source": [
    "Note that you need to re-run the notebook 4 times:\n",
    "\n",
    "1. plt_vars == q1.0 or q1.0_fullframe_bpass (this corresponds to max in mouse roi or mouse over bandpassed full frame)\n",
    "2. agg_func == q0.95 of mean (this corresponds to 95th percentile across time or average)"
   ]
  },
  {
   "cell_type": "code",
   "execution_count": 7,
   "id": "ea23eac3-4d27-409d-a3d6-caa9e70e5ec7",
   "metadata": {},
   "outputs": [],
   "source": [
    "plt_vars = [\"q1.0_fullframe_bpass\"]\n",
    "agg_func = lambda x: np.quantile(x, 0.95)\n",
    "agg_func.__name__ = \"q.95\"\n",
    "agg_funcs = [agg_func, np.mean]"
   ]
  },
  {
   "cell_type": "code",
   "execution_count": 8,
   "id": "664611c2-5e5d-4bd7-a578-e9e1814e0aa9",
   "metadata": {},
   "outputs": [
    {
     "name": "stderr",
     "output_type": "stream",
     "text": [
      "/tmp/ipykernel_195318/2870905186.py:3: FutureWarning: The provided callable <function mean at 0x15552f1d4280> is currently using SeriesGroupBy.mean. In a future version of pandas, the provided callable will be used directly. To keep current behavior pass the string \"mean\" instead.\n",
      "  .agg(agg_funcs)\n"
     ]
    }
   ],
   "source": [
    "plt_data = (\n",
    "    fluo_df.groupby([\"days\", \"subject\", \"camera\", \"exp_type\"])[plt_vars]\n",
    "    .agg(agg_funcs)\n",
    ")"
   ]
  },
  {
   "cell_type": "code",
   "execution_count": 9,
   "id": "e7bb36f4-03bc-4b16-ad98-7a00ac643109",
   "metadata": {
    "tags": []
   },
   "outputs": [],
   "source": [
    "plt_data = plt_data.melt(ignore_index=False, col_level=1, var_name=\"agg_func\").reset_index()"
   ]
  },
  {
   "cell_type": "code",
   "execution_count": 10,
   "id": "2ef19961-12c9-4265-930e-3766db0e4de9",
   "metadata": {
    "tags": []
   },
   "outputs": [
    {
     "name": "stderr",
     "output_type": "stream",
     "text": [
      "/tmp/ipykernel_195318/4047291581.py:4: FutureWarning: The provided callable <function mean at 0x15552f1d4280> is currently using SeriesGroupBy.mean. In a future version of pandas, the provided callable will be used directly. To keep current behavior pass the string \"mean\" instead.\n",
      "  .agg(agg_funcs)\n"
     ]
    }
   ],
   "source": [
    "blank_ci = (\n",
    "    fluo_df.loc[fluo_df[\"exp_type\"].isin([\"vehicle\", \"blank\"])]\n",
    "    .groupby([\"subject\", \"filename\"])[plt_vars]\n",
    "    .agg(agg_funcs)\n",
    ")"
   ]
  },
  {
   "cell_type": "code",
   "execution_count": 11,
   "id": "1e92e379-d720-406d-99d9-484e2720b512",
   "metadata": {},
   "outputs": [],
   "source": [
    "rng = np.random.default_rng(seed=0)"
   ]
  },
  {
   "cell_type": "code",
   "execution_count": 12,
   "id": "fc0c5ea2-60f5-48a9-9e4a-ef9b0834934d",
   "metadata": {
    "tags": []
   },
   "outputs": [],
   "source": [
    "rand_mus = [blank_ci.sample(frac=1, replace=True, random_state=rng).mean() for _ in range(1000)]\n",
    "rand_mus = pd.DataFrame(rand_mus)"
   ]
  },
  {
   "cell_type": "code",
   "execution_count": 13,
   "id": "6d34abec-71e7-4db9-9595-11c72769c218",
   "metadata": {
    "tags": []
   },
   "outputs": [],
   "source": [
    "ci_high = rand_mus.quantile(.99)"
   ]
  },
  {
   "cell_type": "code",
   "execution_count": 14,
   "id": "9ab1f755-09f9-489f-b712-7e3fd032be7b",
   "metadata": {},
   "outputs": [],
   "source": [
    "plt_data.loc[plt_data[\"exp_type\"].isin([\"qd_cell_labels\", \"qd_vascular_labels\"]), \"exp_class\"] = \"base_qds\"\n",
    "plt_data.loc[plt_data[\"exp_type\"].isin([\"vehicle\", \"blank\"]), \"exp_class\"] = \"ctrl\"\n",
    "plt_data.loc[plt_data[\"subject\"].str.lower().str.contains(\"qdr_exp\"), \"exp_class\"] = \"exposure\"\n",
    "plt_data.loc[plt_data[\"subject\"].str.lower().str.contains(\"qdr_exp\"), \"exp_type\"] = \"exposure\""
   ]
  },
  {
   "cell_type": "code",
   "execution_count": 15,
   "id": "1f03d3aa-a057-400b-96f3-7a53d367a96d",
   "metadata": {},
   "outputs": [],
   "source": [
    "exclude_subjects = [\"qd_beads_01\", \"qd_beads_02\", \"qd_beads_03\"]"
   ]
  },
  {
   "cell_type": "markdown",
   "id": "7d282244-4f3d-4ebd-98f8-bfcf07dce05d",
   "metadata": {
    "tags": []
   },
   "source": [
    "## Fig 1 comparison, qds vs blank/vehicle"
   ]
  },
  {
   "cell_type": "code",
   "execution_count": 16,
   "id": "8cf56474-341b-43c3-9558-6a01aeb5f76d",
   "metadata": {},
   "outputs": [],
   "source": [
    "setup_plotting_env()"
   ]
  },
  {
   "cell_type": "code",
   "execution_count": 17,
   "id": "e28f54e9-b1a6-464b-84b6-2dccd542eb65",
   "metadata": {},
   "outputs": [
    {
     "data": {
      "image/png": "[encoded data removed]",
      "text/plain": [
       "<Figure size 216.625x250 with 2 Axes>"
      ]
     },
     "metadata": {},
     "output_type": "display_data"
    }
   ],
   "source": [
    "# fig, ax = plt.subplots(1, figsize=(0.9, 1.25))\n",
    "g = sns.catplot(\n",
    "    plt_data.query(\"days==0\")\n",
    "    .groupby([\"exp_class\", \"exp_type\", \"subject\",\"agg_func\"])[\"value\"]\n",
    "    .mean()\n",
    "    .reset_index(),\n",
    "    kind=\"strip\",\n",
    "    row=\"agg_func\",\n",
    "    x=\"exp_class\",\n",
    "    order=[\"base_qds\", \"ctrl\"],\n",
    "    hue=\"exp_type\",\n",
    "    hue_order=[\"qd_cell_labels\", \"qd_vascular_labels\", \"blank\", \"vehicle\"],\n",
    "    palette={\n",
    "        \"qd_cell_labels\": sns.color_palette(\"tab10\")[1],\n",
    "        \"qd_vascular_labels\": sns.color_palette(\"tab10\")[0],\n",
    "        \"blank\": sns.color_palette(\"tab10\")[2],\n",
    "        \"vehicle\": sns.color_palette(\"tab10\")[2],\n",
    "    },\n",
    "    y=\"value\",\n",
    "    dodge=True,\n",
    "    height=1.25,\n",
    "    aspect=1.05,\n",
    "    sharey=False,\n",
    ")\n",
    "g.set(xlabel=\"\")\n",
    "g.set_titles(row_template=\"{row_name}\")\n",
    "# fig.legend().remove()\n",
    "# ax.legend(bbox_to_anchor=(1, 0.5))\n",
    "# g.fig.tight_layout()\n",
    "sns.despine(offset=5, trim=False)\n",
    "# fig.savefig(\n",
    "#     os.path.join(fig_dir, f\"qds_v_vehicle_permouse_{agg_func.__name__}_{plt_vars[0]}.pdf\"), bbox_inches=\"tight\"\n",
    "# )"
   ]
  },
  {
   "cell_type": "code",
   "execution_count": 18,
   "id": "5702d7ce-1eae-44b2-8f62-c43c3f8e56d0",
   "metadata": {},
   "outputs": [],
   "source": [
    "mu = plt_data.query(\"days==0\").groupby([\"exp_class\", \"agg_func\", \"subject\"])[\"value\"].mean()"
   ]
  },
  {
   "cell_type": "code",
   "execution_count": 19,
   "id": "401ca878-bb40-497b-9b3b-fe612a5732cf",
   "metadata": {},
   "outputs": [],
   "source": [
    "snr = mu.loc[\"base_qds\"] / mu.loc[\"ctrl\"].mean()"
   ]
  },
  {
   "cell_type": "code",
   "execution_count": 20,
   "id": "fe6d3dda-f256-49ff-a8ff-21e1628ec5c2",
   "metadata": {},
   "outputs": [
    {
     "data": {
      "text/plain": [
       "agg_func  subject   \n",
       "mean      qd_exp_01      82.583333\n",
       "          qd_exp_02      75.080645\n",
       "          qd_exp_03      72.830769\n",
       "          qd_vasc_01     84.124444\n",
       "          qd_vasc_02     73.065217\n",
       "          qd_vasc_03     63.731818\n",
       "q.95      qd_exp_01     111.470000\n",
       "          qd_exp_02     108.730000\n",
       "          qd_exp_03     109.360000\n",
       "          qd_vasc_01    108.920000\n",
       "          qd_vasc_02    103.200000\n",
       "          qd_vasc_03    106.750000\n",
       "Name: value, dtype: float64"
      ]
     },
     "execution_count": 20,
     "metadata": {},
     "output_type": "execute_result"
    }
   ],
   "source": [
    "mu.loc[\"base_qds\"]"
   ]
  },
  {
   "cell_type": "code",
   "execution_count": 21,
   "id": "04724b83-a29a-4858-a071-46191e59dbf6",
   "metadata": {},
   "outputs": [],
   "source": [
    "agg_funcs_names = [_.__name__ for _ in agg_funcs]"
   ]
  },
  {
   "cell_type": "code",
   "execution_count": 22,
   "id": "d2bb1888-2dc0-4a3f-b215-4d9f83fe5ebe",
   "metadata": {},
   "outputs": [],
   "source": [
    "stat_func = mannwhitneyu\n",
    "stat_dct = {}\n",
    "for _func in agg_funcs_names:\n",
    "    val, pval = stat_func(mu.loc[\"base_qds\",_func], mu.loc[\"ctrl\",_func])\n",
    "    \n",
    "    stat_dct[_func] = {\n",
    "        \"test\": stat_func.__name__,\n",
    "        \"n\": {},\n",
    "        \"statistic\": val,\n",
    "        \"pval\": pval,\n",
    "    }"
   ]
  },
  {
   "cell_type": "code",
   "execution_count": 23,
   "id": "8b9afeb6-0aa7-4a89-8235-7cc2e4dcb7e1",
   "metadata": {},
   "outputs": [
    {
     "data": {
      "text/plain": [
       "{'q.95': {'test': 'mannwhitneyu',\n",
       "  'n': {},\n",
       "  'statistic': 36.0,\n",
       "  'pval': 0.0021645021645021645},\n",
       " 'mean': {'test': 'mannwhitneyu',\n",
       "  'n': {},\n",
       "  'statistic': 36.0,\n",
       "  'pval': 0.0021645021645021645}}"
      ]
     },
     "execution_count": 23,
     "metadata": {},
     "output_type": "execute_result"
    }
   ],
   "source": [
    "stat_dct"
   ]
  },
  {
   "cell_type": "code",
   "execution_count": 24,
   "id": "3369e08b-ed20-4344-84f9-944a3f7dcfe7",
   "metadata": {},
   "outputs": [],
   "source": [
    "for _func in agg_funcs_names:\n",
    "    mu_agg = mu.xs(_func, level=\"agg_func\")\n",
    "    for k, v in mu_agg.groupby(\"exp_class\").size().items():\n",
    "        stat_dct[_func][\"n\"][k] = v\n",
    "\n",
    "    stat_dct[_func][\"snr\"] = {}\n",
    "    stat_dct[_func][\"snr\"][\"mean\"] = snr.loc[_func].mean()\n",
    "    stat_dct[_func][\"snr\"][\"std\"] = snr.loc[_func].std()"
   ]
  },
  {
   "cell_type": "code",
   "execution_count": 25,
   "id": "d2fa5bcf-7b55-4672-ae3c-cab6ae9fa739",
   "metadata": {},
   "outputs": [],
   "source": [
    "with open(os.path.join(fig_dir, f\"stats_figure1_{plt_vars}.toml\"), \"w\") as f:\n",
    "    toml.dump(stat_dct, f)"
   ]
  },
  {
   "cell_type": "markdown",
   "id": "bdfab239-824a-4f9f-8fae-5ec23e305d1c",
   "metadata": {
    "tags": []
   },
   "source": [
    "## Timecourse"
   ]
  },
  {
   "cell_type": "code",
   "execution_count": 26,
   "id": "0bba0c14-9ae3-45e0-b524-91039947b4b2",
   "metadata": {},
   "outputs": [],
   "source": [
    "setup_plotting_env()"
   ]
  },
  {
   "cell_type": "code",
   "execution_count": 27,
   "id": "fca2a45c-83de-40a1-89da-75da2fcdfc3b",
   "metadata": {},
   "outputs": [],
   "source": [
    "ci_color = \"w\" if plt.rcParams[\"axes.facecolor\"] == \"black\" else \"k\"\n",
    "# sns.set_context(\"paper\", font_scale=.8)"
   ]
  },
  {
   "cell_type": "code",
   "execution_count": 28,
   "id": "dde35f19-f604-4a79-8449-c2725df4dd67",
   "metadata": {},
   "outputs": [],
   "source": [
    "exclude_subjects = [\"qd_beads_01\", \"qd_beads_02\", \"qd_beads_03\"]"
   ]
  },
  {
   "cell_type": "code",
   "execution_count": 29,
   "id": "e775c15b-8b46-46b7-9e6a-abdcfd25aca4",
   "metadata": {},
   "outputs": [],
   "source": [
    "hue_orders = [\n",
    "    [\n",
    "        \"qd_vascular_labels\",\n",
    "        \"qd_cell_labels\",\n",
    "    ],\n",
    "    [\n",
    "        \"qd_vascular_labels\",\n",
    "        \"qd_cell_labels\",\n",
    "        \"qd_beads\",\n",
    "    ],\n",
    "]"
   ]
  },
  {
   "cell_type": "code",
   "execution_count": 30,
   "id": "bd505f55-3ce0-4291-a639-0cef8cbbe395",
   "metadata": {},
   "outputs": [],
   "source": [
    "base_colors = sns.color_palette(\"deep\")\n",
    "palette = {\n",
    "    \"qd_vascular_labels\": base_colors[0],\n",
    "    \"qd_cell_labels\": base_colors[1],\n",
    "    \"qd_beads\": base_colors[2],\n",
    "    \"qd_beads_v2\": base_colors[3],\n",
    "    \"qd_vascular_labels_high_light\": base_colors[3],\n",
    "}"
   ]
  },
  {
   "cell_type": "code",
   "execution_count": 31,
   "id": "ebabc2ff-6285-4701-92a8-002bba8d73d0",
   "metadata": {},
   "outputs": [],
   "source": [
    "plt_groups = list(palette.keys())"
   ]
  },
  {
   "cell_type": "code",
   "execution_count": 32,
   "id": "909b0bf2-2779-4349-b4ce-07cd333c28f8",
   "metadata": {},
   "outputs": [],
   "source": [
    "setup_plotting_env()"
   ]
  },
  {
   "cell_type": "code",
   "execution_count": 33,
   "id": "95d8d242-9e0a-49d5-9ffc-a6349d5986fb",
   "metadata": {},
   "outputs": [
    {
     "data": {
      "text/plain": [
       "['q1.0_fullframe_bpass']"
      ]
     },
     "execution_count": 33,
     "metadata": {},
     "output_type": "execute_result"
    }
   ],
   "source": [
    "plt_vars"
   ]
  },
  {
   "cell_type": "code",
   "execution_count": 34,
   "id": "a10adaa7-4389-4221-a009-e11adede2bfc",
   "metadata": {},
   "outputs": [
    {
     "data": {
      "text/plain": [
       "q1.0_fullframe_bpass  q.95    60.435833\n",
       "                      mean    33.883614\n",
       "Name: 0.99, dtype: float64"
      ]
     },
     "execution_count": 34,
     "metadata": {},
     "output_type": "execute_result"
    }
   ],
   "source": [
    "ci_high"
   ]
  },
  {
   "cell_type": "code",
   "execution_count": 35,
   "id": "59358447-4cc2-4203-9611-8c82718df03b",
   "metadata": {
    "tags": []
   },
   "outputs": [
    {
     "name": "stdout",
     "output_type": "stream",
     "text": [
      "60.43583333333334\n",
      "33.88361423238597\n"
     ]
    },
    {
     "data": {
      "image/png": "[encoded data removed]",
      "text/plain": [
       "<Figure size 140x280 with 2 Axes>"
      ]
     },
     "metadata": {},
     "output_type": "display_data"
    },
    {
     "name": "stdout",
     "output_type": "stream",
     "text": [
      "60.43583333333334\n",
      "33.88361423238597\n"
     ]
    },
    {
     "data": {
      "image/png": "[encoded data removed]",
      "text/plain": [
       "<Figure size 140x280 with 2 Axes>"
      ]
     },
     "metadata": {},
     "output_type": "display_data"
    }
   ],
   "source": [
    "for hue_order in hue_orders:\n",
    "    g = sns.relplot(\n",
    "        data=plt_data.query(\"~subject.isin(@exclude_subjects)\"),\n",
    "        row=\"agg_func\",\n",
    "        x=\"days\",\n",
    "        y=\"value\",\n",
    "        kind=\"line\",\n",
    "        estimator=\"mean\",\n",
    "        errorbar=(\"sd\", 1),\n",
    "        facet_kws={\"sharey\": False},\n",
    "        err_kws={\"alpha\": 0.8},\n",
    "        palette=palette,\n",
    "        hue=\"exp_type\",\n",
    "        hue_order=hue_order,\n",
    "        marker=\"o\",\n",
    "        ms=2.5,\n",
    "        aspect=1.0,\n",
    "        height=1.4,\n",
    "        legend=False,\n",
    "    )\n",
    "    # g.set(xlim=(0,12))\n",
    "    g.set_titles(col_template=\"{col_name}\", row_template=\"{row_name}\")\n",
    "    if \"qd_beads\" not in hue_order[-1]:\n",
    "        g.set(xlim=(0, 7), xlabel=\"Days post-injection\")\n",
    "    else:\n",
    "        g.set(xlim=(0, 21), xlabel=\"Days post-injection\")\n",
    "    for _ax, _name in zip(g.axes.ravel(), agg_funcs):\n",
    "        y_boundary = ci_high.loc[plt_vars[0], _ax.get_title()]\n",
    "        print(y_boundary)\n",
    "        _ax.axhline(y_boundary, color=ci_color, ls=\"--\")\n",
    "        xlim = _ax.get_xlim()\n",
    "        ylim = _ax.get_ylim()\n",
    "        _ax.fill_between(xlim, ylim[0], y_boundary, alpha=0.3, zorder=-300, color=ci_color)\n",
    "        _ax.set_xlim(xlim)\n",
    "        if \"qd_beads\" not in hue_order[-1]:\n",
    "            _ax.set_xticks(np.arange(0, xlim[1] + 1, 1))\n",
    "        else:\n",
    "            _ax.set_xticks(np.arange(0, xlim[1] + 1, 4))\n",
    "    g.axes[0][0].set_ylabel(\"Pixel intensity\")\n",
    "    sns.despine(offset=5, trim=True)\n",
    "    g.fig.savefig(\n",
    "        os.path.join(fig_dir, f\"qd_fluorescence_decay_{hue_order}_{plt_vars}.pdf\"),\n",
    "        bbox_inches=\"tight\",\n",
    "    )\n",
    "    plt.show()"
   ]
  },
  {
   "cell_type": "code",
   "execution_count": 36,
   "id": "56777293-e3ca-49e9-88e3-4498777bc589",
   "metadata": {},
   "outputs": [],
   "source": [
    "use_cutoff = ci_high[plt_vars[0]]"
   ]
  },
  {
   "cell_type": "code",
   "execution_count": 37,
   "id": "fe5abf48-d991-4a66-b9a8-d0cb0b1a5d61",
   "metadata": {},
   "outputs": [],
   "source": [
    "decay_times = (\n",
    "    plt_data.query(\"~subject.isin(@exclude_subjects)\")\n",
    "    .groupby([\"exp_type\", \"subject\", \"camera\", \"agg_func\"])[[\"subject\", \"camera\", \"days\", \"value\"]]\n",
    "    .apply(lambda x: get_time_to_baseline(x, use_cutoff.loc[x.name[-1]]))\n",
    "    .dropna()\n",
    "    .rename(\"decay\")\n",
    "    # .reset_index()\n",
    ")"
   ]
  },
  {
   "cell_type": "code",
   "execution_count": 38,
   "id": "ec451a36-5b18-4e5d-a993-c60b33a05ca6",
   "metadata": {},
   "outputs": [],
   "source": [
    "brightness = (\n",
    "    plt_data.query(\"~subject.isin(@exclude_subjects) and days <= 0.0\")\n",
    "    .groupby([\"exp_type\", \"subject\", \"camera\", \"agg_func\"])[\"value\"]\n",
    "    .mean()\n",
    "    .dropna()\n",
    "    .rename(\"brightness\")\n",
    "    # .reset_index()\n",
    ")"
   ]
  },
  {
   "cell_type": "code",
   "execution_count": 39,
   "id": "59753af6-9035-4cce-ac24-b50c228d0f42",
   "metadata": {},
   "outputs": [],
   "source": [
    "plt_data_combined = pd.concat([decay_times, brightness],axis=1)\n",
    "plt_data_combined = plt_data_combined.melt(ignore_index=False).reset_index()"
   ]
  },
  {
   "cell_type": "code",
   "execution_count": 40,
   "id": "7fd926e6-a319-45e2-8a04-7b7e32b98cf2",
   "metadata": {},
   "outputs": [
    {
     "data": {
      "image/png": "[encoded data removed]",
      "text/plain": [
       "<Figure size 385.375x300 with 4 Axes>"
      ]
     },
     "metadata": {},
     "output_type": "display_data"
    },
    {
     "data": {
      "image/png": "[encoded data removed]",
      "text/plain": [
       "<Figure size 385.375x300 with 4 Axes>"
      ]
     },
     "metadata": {},
     "output_type": "display_data"
    }
   ],
   "source": [
    "for hue_order in hue_orders:\n",
    "    g = sns.catplot(\n",
    "        data=plt_data_combined,\n",
    "        col=\"agg_func\",\n",
    "        row=\"variable\",\n",
    "        row_order=[\"brightness\",\"decay\"],\n",
    "        y=\"value\",\n",
    "        hue=\"exp_type\",\n",
    "        hue_order=hue_order,\n",
    "        palette=palette,\n",
    "        dodge=True,\n",
    "        kind=\"strip\",\n",
    "        sharey=False,\n",
    "        height=1.5\n",
    "    )\n",
    "    g.set(xticks=[])\n",
    "    g.set_titles(row_template=\"{row_name}\", col_template=\"{col_name}\")\n",
    "    sns.despine(offset=5, trim=True)\n",
    "    g.fig.savefig(\n",
    "        os.path.join(fig_dir, f\"qd_fluorescence_decay_rate_brightness_{hue_order}_{plt_vars[0]}.pdf\"),\n",
    "        bbox_inches=\"tight\",\n",
    "    )"
   ]
  },
  {
   "cell_type": "markdown",
   "id": "7cf44c5e-0118-4c9f-92aa-86be0c4ad8d7",
   "metadata": {},
   "source": [
    "# Looking at conjugation w/ v2"
   ]
  },
  {
   "cell_type": "code",
   "execution_count": 41,
   "id": "104f7093-f76e-4fab-877f-30124e1ac67d",
   "metadata": {},
   "outputs": [],
   "source": [
    "setup_plotting_env()"
   ]
  },
  {
   "cell_type": "code",
   "execution_count": 42,
   "id": "e0f93f0f-e2e6-4cd7-9063-83ded8e197d3",
   "metadata": {},
   "outputs": [],
   "source": [
    "ci_color = \"w\" if plt.rcParams[\"axes.facecolor\"] == \"black\" else \"k\"\n",
    "# sns.set_context(\"paper\", font_scale=.8)"
   ]
  },
  {
   "cell_type": "code",
   "execution_count": 43,
   "id": "993ed7fe-85cb-4fea-8cf0-1a4156045066",
   "metadata": {
    "tags": []
   },
   "outputs": [
    {
     "name": "stderr",
     "output_type": "stream",
     "text": [
      "/tmp/ipykernel_195318/2341640521.py:1: FutureWarning: The provided callable <function mean at 0x15552f1d4280> is currently using SeriesGroupBy.mean. In a future version of pandas, the provided callable will be used directly. To keep current behavior pass the string \"mean\" instead.\n",
      "  blank_ci = fluo_df.query(\"exp_type == 'vehicle_v2'\").groupby([\"subject\", \"filename\"])[plt_vars].agg(agg_funcs)\n"
     ]
    }
   ],
   "source": [
    "blank_ci = fluo_df.query(\"exp_type == 'vehicle_v2'\").groupby([\"subject\", \"filename\"])[plt_vars].agg(agg_funcs)\n",
    "\n",
    "rng = np.random.default_rng(seed=0)\n",
    "\n",
    "rand_mus = [blank_ci.sample(frac=1, replace=True, random_state=rng).mean() for _ in range(1000)]\n",
    "rand_mus = pd.DataFrame(rand_mus)\n",
    "\n",
    "ci_high = rand_mus.quantile(.99)"
   ]
  },
  {
   "cell_type": "code",
   "execution_count": 44,
   "id": "c0f67836-eafa-4b9a-adc8-d1633c2485fe",
   "metadata": {},
   "outputs": [],
   "source": [
    "hue_order = [\n",
    "    \"qd_beads_v2\",\n",
    "    \"qd_conj_coll_click_v2\",\n",
    "    \"qd_conj_fibro_click_v2\",\n",
    "]"
   ]
  },
  {
   "cell_type": "code",
   "execution_count": 45,
   "id": "ef35c149-e054-41ba-b6ef-6e591f398d43",
   "metadata": {},
   "outputs": [],
   "source": [
    "palette = sns.color_palette(\"bright\")[2:]"
   ]
  },
  {
   "cell_type": "code",
   "execution_count": 46,
   "id": "6b02afaa-aada-4070-b1d8-97458a7ca684",
   "metadata": {},
   "outputs": [],
   "source": [
    "plt.style.use(\"default\")"
   ]
  },
  {
   "cell_type": "code",
   "execution_count": 47,
   "id": "2a3a1814-4cfb-4236-9fec-77329c9125f1",
   "metadata": {},
   "outputs": [],
   "source": [
    "ci_color = \"w\" if plt.rcParams[\"axes.facecolor\"] == \"black\" else \"k\""
   ]
  },
  {
   "cell_type": "code",
   "execution_count": 48,
   "id": "41c362eb-8305-4af5-bd2c-ac10dd114545",
   "metadata": {},
   "outputs": [],
   "source": [
    "setup_plotting_env()"
   ]
  },
  {
   "cell_type": "code",
   "execution_count": 49,
   "id": "d981d482-b73b-405d-8be6-589114e788d3",
   "metadata": {
    "tags": []
   },
   "outputs": [
    {
     "name": "stderr",
     "output_type": "stream",
     "text": [
      "/tmp/ipykernel_195318/603064536.py:1: UserWarning: The palette list has more values (8) than needed (3), which may not be intended.\n",
      "  g = sns.relplot(\n"
     ]
    },
    {
     "data": {
      "image/png": "[encoded data removed]",
      "text/plain": [
       "<Figure size 261.25x300 with 2 Axes>"
      ]
     },
     "metadata": {},
     "output_type": "display_data"
    }
   ],
   "source": [
    "g = sns.relplot(\n",
    "    data=plt_data.query(\"~subject.isin(@exclude_subjects)\"),\n",
    "    row=\"agg_func\",\n",
    "    x=\"days\",\n",
    "    y=\"value\",\n",
    "    kind=\"line\",\n",
    "    estimator=\"mean\",\n",
    "    errorbar=(\"sd\", 1),\n",
    "    facet_kws={\"sharey\": False},\n",
    "    err_kws={\"alpha\": 0.6},\n",
    "    palette=palette,\n",
    "    hue=\"exp_type\",\n",
    "    hue_order=hue_order,\n",
    "    marker=\"o\",\n",
    "    ms=2.5,\n",
    "    # mfc=\"w\",\n",
    "    aspect=1.1,\n",
    "    height=1.5,\n",
    "    # height=3,\n",
    "    # legend=False,\n",
    ")\n",
    "# g.set(xlim=(0,12))\n",
    "g.set_titles(col_template=\"{col_name}\", row_template=\"{row_name}\")\n",
    "# g.set(xlim=(0,30))\n",
    "g.axes[0][0].set_ylabel(\"Pixel intensity\")\n",
    "\n",
    "for _ax, _name in zip(g.axes.ravel(), agg_funcs_names):\n",
    "    y_boundary = ci_high.loc[plt_vars[0], _name]\n",
    "    _ax.axhline(y_boundary, color=ci_color, ls=\"--\")\n",
    "    xlim = _ax.get_xlim()\n",
    "    ylim = _ax.get_ylim()\n",
    "    _ax.fill_between(xlim, ylim[0], y_boundary, alpha=0.3, zorder=-300, color=ci_color)\n",
    "    _ax.set_xlim(xlim)\n",
    "    _ax.set_xticks(np.arange(0, xlim[1] + 1, 30))\n",
    "\n",
    "sns.despine(offset=5, trim=True)\n",
    "g.fig.savefig(\n",
    "    os.path.join(fig_dir, f\"qd_fluorescence_decay_{hue_order}_{plt_vars[0]}_rigv2.pdf\"),\n",
    "    bbox_inches=\"tight\",\n",
    ")"
   ]
  },
  {
   "cell_type": "code",
   "execution_count": 50,
   "id": "00d2e945-dcfb-47db-b727-97daca25654f",
   "metadata": {},
   "outputs": [],
   "source": [
    "use_cutoff_v2 = ci_high[plt_vars[0]]"
   ]
  },
  {
   "cell_type": "code",
   "execution_count": 51,
   "id": "e1f0e29b-fec5-4c6d-a637-534bb698919c",
   "metadata": {},
   "outputs": [],
   "source": [
    "decay_times_v2 = (\n",
    "    plt_data.query(\"~subject.isin(@exclude_subjects)\")\n",
    "    .groupby([\"exp_type\", \"subject\", \"camera\", \"agg_func\"])[[\"subject\", \"camera\", \"days\", \"value\"]]\n",
    "    .apply(lambda x: get_time_to_baseline(x, use_cutoff_v2.loc[x.name[-1]]))\n",
    "    .dropna()\n",
    "    .rename(\"decay\")\n",
    "    # .dropna()\n",
    "    # .reset_index()\n",
    ")"
   ]
  },
  {
   "cell_type": "code",
   "execution_count": 52,
   "id": "543e00b2-da31-42ba-a3f5-9815c5bbe351",
   "metadata": {},
   "outputs": [],
   "source": [
    "plt_data_combined = pd.concat([decay_times_v2, brightness],axis=1)\n",
    "plt_data_combined = plt_data_combined.melt(ignore_index=False).reset_index()"
   ]
  },
  {
   "cell_type": "code",
   "execution_count": 53,
   "id": "06e326ec-a64e-44ed-a21a-c4cf90af1564",
   "metadata": {},
   "outputs": [
    {
     "name": "stderr",
     "output_type": "stream",
     "text": [
      "/tmp/ipykernel_195318/3352535295.py:1: UserWarning: The palette list has more values (8) than needed (3), which may not be intended.\n",
      "  g = sns.catplot(\n"
     ]
    },
    {
     "data": {
      "image/png": "[encoded data removed]",
      "text/plain": [
       "<Figure size 396.25x300 with 4 Axes>"
      ]
     },
     "metadata": {},
     "output_type": "display_data"
    }
   ],
   "source": [
    "g = sns.catplot(\n",
    "    data=plt_data_combined,\n",
    "    col=\"agg_func\",\n",
    "    row=\"variable\",\n",
    "    row_order=[\"brightness\",\"decay\"],\n",
    "    y=\"value\",\n",
    "    hue=\"exp_type\",\n",
    "    hue_order=hue_order,\n",
    "    palette=palette,\n",
    "    dodge=True,\n",
    "    kind=\"strip\",\n",
    "    sharey=False,\n",
    "    height=1.5\n",
    ")\n",
    "g.set(xticks=[])\n",
    "g.set_titles(row_template=\"{row_name}\", col_template=\"{col_name}\")\n",
    "sns.despine(offset=5, trim=True)\n",
    "g.fig.savefig(\n",
    "    os.path.join(fig_dir, f\"qd_fluorescence_decay_rate_brightness_{hue_order}_{plt_vars[0]}.pdf\"),\n",
    "    bbox_inches=\"tight\",\n",
    ")"
   ]
  },
  {
   "cell_type": "markdown",
   "id": "f7320c3c-7f5a-4cec-b9e8-5809d2f6ed3f",
   "metadata": {},
   "source": [
    "# Slightly different brightness calculations for beads_v2 (account for mean better)"
   ]
  },
  {
   "cell_type": "code",
   "execution_count": 54,
   "id": "17c87f6e-a5f5-46b9-afb6-540c3af86fae",
   "metadata": {},
   "outputs": [],
   "source": [
    "agg_func_snr = np.mean"
   ]
  },
  {
   "cell_type": "code",
   "execution_count": 55,
   "id": "58500e11-8393-412f-b37d-93f6b258e050",
   "metadata": {
    "tags": []
   },
   "outputs": [
    {
     "name": "stderr",
     "output_type": "stream",
     "text": [
      "/tmp/ipykernel_195318/2627372728.py:2: FutureWarning: The provided callable <function mean at 0x15552f1d4280> is currently using DataFrameGroupBy.mean. In a future version of pandas, the provided callable will be used directly. To keep current behavior pass the string \"mean\" instead.\n",
      "  fluo_df.groupby([\"days\", \"subject\", \"camera\", \"exp_type\"])[[\"std_intensity_fullframe_bpass\"]].agg(agg_func_snr)\n"
     ]
    }
   ],
   "source": [
    "plt_data = (\n",
    "    fluo_df.groupby([\"days\", \"subject\", \"camera\", \"exp_type\"])[[\"std_intensity_fullframe_bpass\"]].agg(agg_func_snr)\n",
    "    # .mean()\n",
    ")"
   ]
  },
  {
   "cell_type": "code",
   "execution_count": 56,
   "id": "ae3fbc12-2683-4e1a-8708-a9c20d89c7e2",
   "metadata": {
    "tags": []
   },
   "outputs": [],
   "source": [
    "plt_data = plt_data.melt(ignore_index=False).reset_index()"
   ]
  },
  {
   "cell_type": "code",
   "execution_count": 57,
   "id": "39751655-ef9b-4c88-99a0-8e41e43a2325",
   "metadata": {},
   "outputs": [],
   "source": [
    "plt_data.loc[plt_data[\"exp_type\"].isin([\"qd_cell_labels\", \"qd_vascular_labels\"]), \"exp_class\"] = \"base_qds\"\n",
    "plt_data.loc[plt_data[\"exp_type\"].isin([\"vehicle\", \"blank\"]), \"exp_class\"] = \"ctrl\""
   ]
  },
  {
   "cell_type": "code",
   "execution_count": 58,
   "id": "6dcf72d4-4b38-4b7d-9038-f0fed2728c91",
   "metadata": {},
   "outputs": [],
   "source": [
    "brightness_snr = (\n",
    "    plt_data.query(\"~subject.isin(@exclude_subjects) and variable == 'std_intensity_fullframe_bpass' and days <= 0.0\")\n",
    "    .groupby([\"exp_type\", \"subject\", \"camera\"])[\"value\"]\n",
    "    .mean()\n",
    "    .rename(\"brightness\")\n",
    "    .reset_index()\n",
    ")"
   ]
  },
  {
   "cell_type": "code",
   "execution_count": 59,
   "id": "7c18b473-1098-4355-a764-109eae51fd3e",
   "metadata": {},
   "outputs": [],
   "source": [
    "hue_order = [\"qd_vascular_labels\", \"qd_cell_labels\", \"qd_beads\", \"qd_beads_v2\"]"
   ]
  },
  {
   "cell_type": "code",
   "execution_count": 60,
   "id": "2412ed44-f1a7-4fff-aaff-b0634b92d129",
   "metadata": {},
   "outputs": [],
   "source": [
    "baseline = brightness_snr.query(\"exp_type in ['blank','vehicle']\")"
   ]
  },
  {
   "cell_type": "code",
   "execution_count": 61,
   "id": "8d0326cd-e451-4e55-bbb0-7c6e46faf069",
   "metadata": {},
   "outputs": [],
   "source": [
    "baseline_v2 = brightness_snr.query(\"exp_type in ['vehicle_v2']\")"
   ]
  },
  {
   "cell_type": "code",
   "execution_count": 62,
   "id": "23b0a1d5-0b58-4bb2-96aa-f19cafda53d3",
   "metadata": {},
   "outputs": [],
   "source": [
    "snr_v2 = brightness_snr.query(\"exp_type.str.contains('v2')\")[\"brightness\"] / baseline_v2[\"brightness\"].mean()"
   ]
  },
  {
   "cell_type": "code",
   "execution_count": 63,
   "id": "f2b6cfa9-80ab-4426-9d94-637c8ded84a4",
   "metadata": {},
   "outputs": [],
   "source": [
    "brightness_snr[\"snr\"] = brightness_snr[\"brightness\"] / baseline[\"brightness\"].mean()\n",
    "brightness_snr.loc[snr_v2.index, \"snr\"] = snr_v2"
   ]
  },
  {
   "cell_type": "code",
   "execution_count": 64,
   "id": "8483e417-320a-4be0-992e-053361b0fa93",
   "metadata": {},
   "outputs": [],
   "source": [
    "setup_plotting_env()"
   ]
  },
  {
   "cell_type": "code",
   "execution_count": 65,
   "id": "1115d9a5-7072-4c28-ae38-a80e71fd2735",
   "metadata": {},
   "outputs": [],
   "source": [
    "# sns.set_context(\"paper\")"
   ]
  },
  {
   "cell_type": "code",
   "execution_count": 66,
   "id": "0068a6b3-8308-403d-ad79-acec9b086f09",
   "metadata": {},
   "outputs": [
    {
     "name": "stderr",
     "output_type": "stream",
     "text": [
      "/tmp/ipykernel_195318/3605126496.py:4: UserWarning: set_ticklabels() should only be used with a fixed number of ticks, i.e. after set_ticks() or using a FixedLocator.\n",
      "  ax.set_xticklabels([\"var. 1\", \"var. 2\", \"var. 3\", \"var. 3 (rig v2)\"])\n"
     ]
    },
    {
     "data": {
      "image/png": "[encoded data removed]",
      "text/plain": [
       "<Figure size 100x150 with 1 Axes>"
      ]
     },
     "metadata": {},
     "output_type": "display_data"
    }
   ],
   "source": [
    "fig, ax = plt.subplots(1, figsize=(1, 1.5))\n",
    "sns.stripplot(brightness_snr, x=\"exp_type\", y=\"snr\", order=hue_order)\n",
    "ax.set_yticks(np.arange(0, 20, 5))\n",
    "ax.set_xticklabels([\"var. 1\", \"var. 2\", \"var. 3\", \"var. 3 (rig v2)\"])\n",
    "ax.tick_params(axis=\"x\", rotation=45)\n",
    "ax.set_xlabel(\"\")\n",
    "ax.set_ylim(0, 20)\n",
    "sns.despine(offset=5, trim=True)\n",
    "fig.savefig(os.path.join(fig_dir, \"beads_v2_snr_comparison.pdf\"), bbox_inches=\"tight\", dpi=600)"
   ]
  },
  {
   "cell_type": "code",
   "execution_count": 67,
   "id": "622c525e-6828-4fe0-8a9b-4a279f71ec6c",
   "metadata": {},
   "outputs": [],
   "source": [
    "stat_func = mannwhitneyu\n",
    "groups = sorted(\n",
    "    [\n",
    "        \"qd_cell_labels\",\n",
    "        \"qd_vascular_labels\",\n",
    "        \"qd_beads\",\n",
    "        \"qd_beads_v2\",\n",
    "        \"qd_conj_coll_click_v2\",\n",
    "        \"qd_conj_fibro_click_v2\",\n",
    "    ]\n",
    ")\n",
    "stat_dct = {}\n",
    "for i, _group1 in enumerate(groups):\n",
    "    for _group2 in groups[i + 1 :]:\n",
    "        for _func in agg_funcs_names:\n",
    "            if _group1 == _group2:\n",
    "                continue\n",
    "            dat = decay_times.xs(_func, level=\"agg_func\").reset_index().set_index(\"exp_type\")[\"decay\"]\n",
    "            dat1 = dat.loc[_group1]\n",
    "            dat2 = dat.loc[_group2]\n",
    "            n1 = len(dat1)\n",
    "            n2 = len(dat2)\n",
    "            val, pval = stat_func(dat1, dat2)\n",
    "            subkey = f\"{_group1}-{_group2}-{_func}\"\n",
    "            stat_dct[subkey] = {}\n",
    "            stat_dct[subkey][\"decay_time\"] = {}\n",
    "            stat_dct[subkey][\"decay_time\"][\"statistic\"] = val\n",
    "            stat_dct[subkey][\"decay_time\"][\"pval\"] = pval\n",
    "            stat_dct[subkey][\"decay_time\"][\"test\"] = stat_func.__name__\n",
    "            stat_dct[subkey][\"decay_time\"][\"f\"] = val / (n1 * n2)\n",
    "    \n",
    "            dat = decay_times_v2.xs(_func, level=\"agg_func\").reset_index().set_index(\"exp_type\")[\"decay\"]\n",
    "            dat1 = dat.loc[_group1]\n",
    "            dat2 = dat.loc[_group2]\n",
    "            n1 = len(dat1)\n",
    "            n2 = len(dat2)\n",
    "            val, pval = stat_func(dat1, dat2)\n",
    "            subkey = f\"{_group1}-{_group2}-{_func}\"\n",
    "            stat_dct[subkey][\"decay_time_v2\"] = {}\n",
    "            stat_dct[subkey][\"decay_time_v2\"][\"statistic\"] = val\n",
    "            stat_dct[subkey][\"decay_time_v2\"][\"pval\"] = pval\n",
    "            stat_dct[subkey][\"decay_time_v2\"][\"test\"] = stat_func.__name__\n",
    "            stat_dct[subkey][\"decay_time_v2\"][\"f\"] = val / (n1 * n2)\n",
    "    \n",
    "            dat = brightness.xs(_func, level=\"agg_func\").reset_index().set_index(\"exp_type\")[\"brightness\"]\n",
    "            dat1 = dat.loc[_group1]\n",
    "            dat2 = dat.loc[_group2]\n",
    "            n1 = len(dat1)\n",
    "            n2 = len(dat2)\n",
    "            val, pval = stat_func(dat1, dat2)\n",
    "            subkey = f\"{_group1}-{_group2}-{_func}\"\n",
    "            stat_dct[subkey][\"brightness\"] = {}\n",
    "            stat_dct[subkey][\"brightness\"][\"statistic\"] = val\n",
    "            stat_dct[subkey][\"brightness\"][\"pval\"] = pval\n",
    "            stat_dct[subkey][\"brightness\"][\"test\"] = stat_func.__name__\n",
    "            stat_dct[subkey][\"brightness\"][\"f\"] = val / (n1 * n2)\n",
    "    \n",
    "            dat = brightness_snr.reset_index().set_index(\"exp_type\")[\"snr\"]\n",
    "            dat1 = dat.loc[_group1]\n",
    "            dat2 = dat.loc[_group2]\n",
    "            n1 = len(dat1)\n",
    "            n2 = len(dat2)\n",
    "            val, pval = stat_func(dat1, dat2)\n",
    "            subkey = f\"{_group1}-{_group2}-{_func}\"\n",
    "            stat_dct[subkey][\"brightness_snr\"] = {}\n",
    "            stat_dct[subkey][\"brightness_snr\"][\"statistic\"] = val\n",
    "            stat_dct[subkey][\"brightness_snr\"][\"pval\"] = pval\n",
    "            stat_dct[subkey][\"brightness_snr\"][\"test\"] = stat_func.__name__\n",
    "            stat_dct[subkey][\"brightness_snr\"][\"f\"] = val / (n1 * n2)\n",
    "\n",
    "# stat_dct = {\n",
    "#     \"test\": stat_func.__name__,\n",
    "#     \"n\": {},\n",
    "#     \"statistic\": val,\n",
    "#     \"pval\": pval,\n",
    "# }"
   ]
  },
  {
   "cell_type": "code",
   "execution_count": 68,
   "id": "0a9effa3-2aaa-4476-8171-02db3b7026cc",
   "metadata": {},
   "outputs": [],
   "source": [
    "stat_dct[\"n\"] = {}\n",
    "for k, v in decay_times.xs(\"mean\", level=\"agg_func\").groupby(\"exp_type\").size().items():\n",
    "    stat_dct[\"n\"][k] = v"
   ]
  },
  {
   "cell_type": "code",
   "execution_count": 69,
   "id": "23242459-e5f9-4ee9-89be-88fb9f2f17c8",
   "metadata": {},
   "outputs": [],
   "source": [
    "decay_times_summary_dict = (\n",
    "    decay_times.rename(\"decay\").reset_index().groupby([\"exp_type\", \"agg_func\"])[\"decay\"].agg([\"mean\", \"std\"]).to_dict()\n",
    ")\n",
    "brightness_summary_dict = (\n",
    "    brightness.rename(\"brightness\")\n",
    "    .reset_index()\n",
    "    .groupby([\"exp_type\", \"agg_func\"])[\"brightness\"]\n",
    "    .agg([\"mean\", \"std\"])\n",
    "    .to_dict()\n",
    ")\n",
    "decay_times_v2_summary_dict = (\n",
    "    decay_times_v2.rename(\"decay\")\n",
    "    .reset_index()\n",
    "    .groupby([\"exp_type\", \"agg_func\"])[\"decay\"]\n",
    "    .agg([\"mean\", \"std\"])\n",
    "    .to_dict()\n",
    ")\n",
    "# brightness_v2_summary_dict = brightness_v2.groupby(\"exp_type\")[\"brightness\"].agg([\"mean\",\"std\"]).to_dict()\n",
    "snr_summary_dict = brightness_snr.groupby(\"exp_type\")[\"snr\"].agg([\"mean\", \"std\"]).to_dict()"
   ]
  },
  {
   "cell_type": "code",
   "execution_count": 70,
   "id": "18bb1b62-1e40-4d4f-9334-8ce32f15f54c",
   "metadata": {},
   "outputs": [],
   "source": [
    "stat_dct[\"decay_times_summary\"] = decay_times_summary_dict\n",
    "stat_dct[\"brightness_summary\"] = brightness_summary_dict\n",
    "stat_dct[\"decay_times_v2_summary\"] = decay_times_v2_summary_dict\n",
    "stat_dct[\"snr_summary\"] = snr_summary_dict"
   ]
  },
  {
   "cell_type": "code",
   "execution_count": 71,
   "id": "edb62f80-9c0f-441f-b0d8-d20feb82102f",
   "metadata": {},
   "outputs": [],
   "source": [
    "def tuple_to_str(dct):\n",
    "    if isinstance(dct, dict):\n",
    "        new_dct = {}\n",
    "        for k, v in dct.items():\n",
    "            new_key = str(k)\n",
    "            new_dct[new_key] = tuple_to_str(v)\n",
    "        return new_dct\n",
    "    else:\n",
    "        return dct\n",
    "    return new_dct"
   ]
  },
  {
   "cell_type": "code",
   "execution_count": 72,
   "id": "418e31fa-dffe-4e5a-abf8-b715df1a6d06",
   "metadata": {},
   "outputs": [],
   "source": [
    "stat_dct = tuple_to_str(stat_dct)"
   ]
  },
  {
   "cell_type": "code",
   "execution_count": 73,
   "id": "204928c9-bc4c-43d6-9600-137875195719",
   "metadata": {},
   "outputs": [],
   "source": [
    "with open(\n",
    "    os.path.join(fig_dir, f\"stats_figure1_brightness_and_decay_{agg_func.__name__}_{plt_vars[0]}.toml\"), \"w\"\n",
    ") as f:\n",
    "    toml.dump(stat_dct, f)"
   ]
  },
  {
   "cell_type": "markdown",
   "id": "d01ed210-1b3f-4a3e-8813-07a020cacd8d",
   "metadata": {},
   "source": [
    "# Checking validity of fullframe vs. ROI (does not depend on agg_func or plt_vars)"
   ]
  },
  {
   "cell_type": "code",
   "execution_count": 74,
   "id": "9ec71412-8477-4e46-b08b-823c944b1d2e",
   "metadata": {},
   "outputs": [],
   "source": [
    "include_exps = [\n",
    "    \"qd_cell_labels\",\n",
    "    \"qd_vascular_labels\",\n",
    "    # \"qd_beads\",\n",
    "    # \"qd_beads_v2\",\n",
    "]"
   ]
  },
  {
   "cell_type": "code",
   "execution_count": 75,
   "id": "99e461a4-7383-41c7-b248-be8478e91884",
   "metadata": {},
   "outputs": [],
   "source": [
    "check_df = fluo_df.query(\"exp_type.isin(@include_exps) and days > 0\")"
   ]
  },
  {
   "cell_type": "code",
   "execution_count": 76,
   "id": "f2f9a159-c63a-46d4-8ae8-ee7e390b7930",
   "metadata": {},
   "outputs": [],
   "source": [
    "agg_func = lambda x: np.quantile(x, 0.95)\n",
    "agg_func.__name__ = \"q.95\"\n",
    "use_funcs = [\"mean\", agg_func]"
   ]
  },
  {
   "cell_type": "code",
   "execution_count": 77,
   "id": "8eccab0a-145c-4a98-a37f-798e2e937759",
   "metadata": {},
   "outputs": [],
   "source": [
    "agg_df = (\n",
    "    check_df.groupby(\"filename\")[[\"q1.0\", \"q1.0_fullframe_bpass\", \"q1.0_fullframe_raw\"]].agg(use_funcs).reset_index()\n",
    ")"
   ]
  },
  {
   "cell_type": "code",
   "execution_count": 78,
   "id": "8f2a17bb-4d87-4e0c-b4ed-5c2201a1d918",
   "metadata": {},
   "outputs": [],
   "source": [
    "agg_df.columns = [\"_\".join(_) for _ in agg_df.columns]"
   ]
  },
  {
   "cell_type": "code",
   "execution_count": 79,
   "id": "d68fdeaf-dff5-4996-b904-55d6c1750842",
   "metadata": {},
   "outputs": [
    {
     "data": {
      "image/png": "[encoded data removed]",
      "text/plain": [
       "<Figure size 350x175 with 2 Axes>"
      ]
     },
     "metadata": {},
     "output_type": "display_data"
    }
   ],
   "source": [
    "fig, ax = plt.subplots(1, 2, figsize=(3.5, 1.75), sharex=False, sharey=False)\n",
    "x = \"q1.0_mean\"\n",
    "y = \"q1.0_fullframe_bpass_mean\"\n",
    "sns.scatterplot(data=agg_df, x=x, y=y, ax=ax[0])\n",
    "corr1 = agg_df[[x, y]].corr().iloc[0, 1]\n",
    "ax[0].set_title(f\"r={corr1:0.3f}\")\n",
    "\n",
    "x = \"q1.0_q.95\"\n",
    "y = \"q1.0_fullframe_bpass_q.95\"\n",
    "corr2 = agg_df[[x, y]].corr().iloc[0, 1]\n",
    "\n",
    "sns.scatterplot(data=agg_df, x=x, y=y, ax=ax[1])\n",
    "ax[1].set_title(f\"r={corr2:0.3f}\")\n",
    "fig.tight_layout()\n",
    "ticks = np.arange(0, 150, 25)\n",
    "for _ax in ax:\n",
    "    _ax.set_xticks(ticks)\n",
    "    _ax.set_yticks(ticks)\n",
    "    _ax.set_aspect(\"equal\")\n",
    "ax[0].set_xlim(0, 130)\n",
    "ax[0].set_ylim(0, 130)\n",
    "ax[1].set_xlim(0, 150)\n",
    "ax[1].set_ylim(0, 150)\n",
    "fig.savefig(os.path.join(fig_dir, \"roi_v_nonroi_scatterplots_with_pearson.pdf\"), bbox_inches=\"tight\", dpi=600)"
   ]
  },
  {
   "cell_type": "code",
   "execution_count": null,
   "id": "f0a4a1e0-76a0-479b-97de-88f476a371ba",
   "metadata": {},
   "outputs": [],
   "source": []
  },
  {
   "cell_type": "code",
   "execution_count": null,
   "id": "c81a35a8-6d25-4699-9fd5-83840f4d741e",
   "metadata": {},
   "outputs": [],
   "source": []
  },
  {
   "cell_type": "code",
   "execution_count": null,
   "id": "5cdc7f10-de2c-4326-bcb2-c7004da61b71",
   "metadata": {},
   "outputs": [],
   "source": []
  },
  {
   "cell_type": "code",
   "execution_count": null,
   "id": "748244e5-6691-496a-84bd-557378c52f49",
   "metadata": {},
   "outputs": [],
   "source": []
  }
 ],
 "metadata": {
  "kernelspec": {
   "display_name": "Python 3 (ipykernel)",
   "language": "python",
   "name": "python3"
  },
  "language_info": {
   "codemirror_mode": {
    "name": "ipython",
    "version": 3
   },
   "file_extension": ".py",
   "mimetype": "text/x-python",
   "name": "python",
   "nbconvert_exporter": "python",
   "pygments_lexer": "ipython3",
   "version": "3.10.0"
  }
 },
 "nbformat": 4,
 "nbformat_minor": 5
}
