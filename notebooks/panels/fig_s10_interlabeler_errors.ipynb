{
 "cells": [
  {
   "cell_type": "code",
   "execution_count": 1,
   "id": "5f17da30-45c1-48dc-88ed-cb3c5371e855",
   "metadata": {
    "tags": []
   },
   "outputs": [],
   "source": [
    "%load_ext autoreload\n",
    "%autoreload 2\n",
    "%matplotlib inline"
   ]
  },
  {
   "cell_type": "code",
   "execution_count": 16,
   "id": "cafc1fdb-7b91-4b6b-85a9-ec83e53cdf00",
   "metadata": {
    "tags": []
   },
   "outputs": [],
   "source": [
    "import os\n",
    "import matplotlib.pyplot as plt\n",
    "import numpy as np\n",
    "import pandas as pd\n",
    "import seaborn as sns\n",
    "import toml\n",
    "import joblib\n",
    "import sleap_io as sio\n",
    "import json\n",
    "from tqdm.auto import tqdm\n",
    "from qd_analysis.fig import setup_plotting_env\n",
    "from qd_analysis.kpoints import get_pairwise_l2, get_pairwise_qd_l2\n",
    "from segments import SegmentsClient"
   ]
  },
  {
   "cell_type": "code",
   "execution_count": 17,
   "id": "e8697015-baa3-487a-bb8a-93dfe1ca81aa",
   "metadata": {
    "tags": []
   },
   "outputs": [],
   "source": [
    "aliases = {\n",
    "    \"back_bottom\": \"Back bottom\",\n",
    "    \"back_middle\": \"Back middle\",\n",
    "    \"back_top\": \"Back top\",\n",
    "    \"knee_L\": \"L. knee\",\n",
    "    \"knee_R\": \"R. knee\",\n",
    "    \"hindleg_L\": \"L. hindpaw\",\n",
    "    \"hindleg_R\": \"R. hindpaw\",\n",
    "    \"foreleg_L\": \"L. forepaw\",\n",
    "    \"foreleg_R\": \"R. forepaw\",\n",
    "    \"tail_base\": \"Tail base\",\n",
    "    \"tail_middle\": \"Tail middle\",\n",
    "    \"tail_tip\": \"Tail tip\",\n",
    "}"
   ]
  },
  {
   "cell_type": "markdown",
   "id": "e74fb1d3-952f-459f-b833-c83c13f7d7a7",
   "metadata": {},
   "source": [
    "## User functions"
   ]
  },
  {
   "cell_type": "markdown",
   "id": "f4db7909-1a47-4b61-a01c-4221d914053a",
   "metadata": {},
   "source": [
    "# Get what already exists on segments"
   ]
  },
  {
   "cell_type": "markdown",
   "id": "37ab32a2-dd47-48eb-be7e-0b88f22e7600",
   "metadata": {},
   "source": [
    "1. Get segments.ai labels, per labeled\n",
    "1. Merge everything\n",
    "1. Save per body part and per camera\n",
    "1. Compare to fluo aligned data"
   ]
  },
  {
   "cell_type": "code",
   "execution_count": 18,
   "id": "668e3bd9-5ecf-4462-8af9-737b9cb0a70d",
   "metadata": {},
   "outputs": [],
   "source": [
    "def get_l2_norm(df, x1=\"x\", y1=\"y\", x2=\"x_segments\", y2=\"y_segments\"):\n",
    "    return np.linalg.norm([df[x1] - df[x2], df[y1] - df[y2]])"
   ]
  },
  {
   "cell_type": "code",
   "execution_count": 19,
   "id": "82f46aee-6118-4942-828d-d2a53e40ad09",
   "metadata": {
    "tags": []
   },
   "outputs": [],
   "source": [
    "config = toml.load(\"../preprocessing/config.toml\")\n",
    "data_dir = os.path.join(config[\"dirs\"][\"data\"], \"interlabeler_error\")\n",
    "fig_dir = \"/storage/home/hcoda1/4/jmarkowitz30/shared_folder/active_lab_members/markowitz_jeffrey/panels/2025-04 (QD paper round 2)\""
   ]
  },
  {
   "cell_type": "code",
   "execution_count": 20,
   "id": "badb0de8-2cd7-4d36-a762-a3b140ad303b",
   "metadata": {
    "tags": []
   },
   "outputs": [],
   "source": [
    "force = False\n",
    "save_file = os.path.join(data_dir, \"interlabeler_samples.pkl\")"
   ]
  },
  {
   "cell_type": "code",
   "execution_count": 21,
   "id": "c03a25ae-a30c-46ff-8bc4-819e7b809d62",
   "metadata": {},
   "outputs": [],
   "source": [
    "api_key = os.getenv(\"SEGMENTSAPI\")\n",
    "client = SegmentsClient(api_key)"
   ]
  },
  {
   "cell_type": "code",
   "execution_count": 22,
   "id": "a39ffa50-554b-4b1a-8ee5-cd96b1e19e59",
   "metadata": {
    "tags": []
   },
   "outputs": [],
   "source": [
    "dset_root_name = \"jmarkow/basler-nir-plexiglass-arena-keypoints-fused-round2-reflectonly-\"\n",
    "dset_labelers = [\"claire\", \"brittany\", \"zeynep\", \"amartya\"]\n",
    "\n",
    "if (not os.path.exists(save_file)) or force:\n",
    "    labels = {}\n",
    "    for _labeler in tqdm(dset_labelers):\n",
    "        dset_name = f\"{dset_root_name}{_labeler}\"\n",
    "        samples = client.get_samples(\n",
    "            dset_name, per_page=10000, label_status=[\"LABELED\", \"REVIEWED\"]\n",
    "        )  # LABELED/REVIEWED\n",
    "        labels[_labeler] = [(client.get_label(_sample.uuid), _sample) for _sample in samples]\n",
    "    joblib.dump(labels, save_file)\n",
    "else:\n",
    "    labels = joblib.load(save_file)"
   ]
  },
  {
   "cell_type": "code",
   "execution_count": 23,
   "id": "c7540e2c-1dce-48ea-ab8b-a40817d845ac",
   "metadata": {
    "tags": []
   },
   "outputs": [],
   "source": [
    "segments_dset = client.get_dataset(f\"{dset_root_name}{dset_labelers[0]}\")\n",
    "segments_cats = segments_dset.task_attributes.categories\n",
    "segments_id_map = {_cat.id: _cat.name for _cat in segments_cats}"
   ]
  },
  {
   "cell_type": "code",
   "execution_count": 24,
   "id": "16274594-1982-4ae9-9296-d87cdda43d8e",
   "metadata": {
    "tags": []
   },
   "outputs": [],
   "source": [
    "nlabels = {}\n",
    "for k, v in labels.items():\n",
    "    nlabels[k] = len(v)"
   ]
  },
  {
   "cell_type": "code",
   "execution_count": 25,
   "id": "9ad92aa8-4c53-42d4-b9e5-cc1066aed4d9",
   "metadata": {
    "tags": []
   },
   "outputs": [],
   "source": [
    "# segments_dset_kneejoints = client.get_dataset(dset_name)\n",
    "# segments_cats_kneejoints = segments_dset.task_attributes.categories\n",
    "# segments_id_map_kneejoints = {_cat.id: _cat.name for _cat in segments_cats}"
   ]
  },
  {
   "cell_type": "code",
   "execution_count": 26,
   "id": "9db13643-6b85-4f75-b32d-58bd867efabc",
   "metadata": {
    "tags": []
   },
   "outputs": [],
   "source": [
    "reference_labeler = max(nlabels, key=nlabels.get)\n",
    "other_labelers = [_labeler for _labeler in dset_labelers if _labeler is not reference_labeler]"
   ]
  },
  {
   "cell_type": "code",
   "execution_count": 27,
   "id": "33dee493-9809-473c-91ba-c40120f0cd61",
   "metadata": {
    "tags": []
   },
   "outputs": [],
   "source": [
    "dfs = []\n",
    "for k, v in labels.items():\n",
    "    for _label in v:\n",
    "        keypoints = _label[0].attributes.annotations\n",
    "        img_path = _label[1].metadata[\"img_path\"]\n",
    "        xs = []\n",
    "        ys = []\n",
    "        names = []\n",
    "        for _kpoint in keypoints:\n",
    "            x, y = _kpoint.points[0]\n",
    "            kpoint_name = segments_id_map[_kpoint.category_id]\n",
    "            xs.append(x)\n",
    "            ys.append(y)\n",
    "            names.append(kpoint_name)\n",
    "        _df = pd.DataFrame({\"x\": xs, \"y\": ys, \"kpoint_name\": names})\n",
    "        _df[\"img_path\"] = os.path.basename(img_path)\n",
    "        _df[\"labeler\"] = k\n",
    "        dfs.append(_df)"
   ]
  },
  {
   "cell_type": "code",
   "execution_count": 28,
   "id": "08f6e5f1-278f-406a-bb47-e989fbf70c54",
   "metadata": {
    "tags": []
   },
   "outputs": [],
   "source": [
    "kpoint_df = pd.concat(dfs, ignore_index=True)"
   ]
  },
  {
   "cell_type": "code",
   "execution_count": 29,
   "id": "39ce6b61-5cf8-452f-89b3-7456c17b512b",
   "metadata": {
    "tags": []
   },
   "outputs": [
    {
     "name": "stderr",
     "output_type": "stream",
     "text": [
      "/tmp/ipykernel_244133/1956381827.py:2: DeprecationWarning: DataFrameGroupBy.apply operated on the grouping columns. This behavior is deprecated, and in a future version of pandas the grouping columns will be excluded from the operation. Either pass `include_groups=False` to exclude the groupings or explicitly select the grouping columns after groupby to silence this warning.\n",
      "  pairwise_distances = kpoint_df_ave.groupby([\"img_path\", \"kpoint_name\"]).apply(get_pairwise_l2)\n"
     ]
    }
   ],
   "source": [
    "kpoint_df_ave = kpoint_df.groupby([\"img_path\", \"kpoint_name\", \"labeler\"])[[\"x\", \"y\"]].mean().reset_index()\n",
    "pairwise_distances = kpoint_df_ave.groupby([\"img_path\", \"kpoint_name\"]).apply(get_pairwise_l2)"
   ]
  },
  {
   "cell_type": "markdown",
   "id": "fe39985a-619e-4395-8543-d6a75ccd3bd3",
   "metadata": {
    "tags": []
   },
   "source": [
    "# Keypoints relative to QDs"
   ]
  },
  {
   "cell_type": "code",
   "execution_count": 30,
   "id": "2b24dd79-c919-4371-8a3c-4e32207b2636",
   "metadata": {},
   "outputs": [],
   "source": [
    "dset_name = \"jmarkow/basler-nir-plexiglass-arena-keypoints-fused-round2\"\n",
    "save_file = os.path.join(data_dir, \"interlabeler_samples_qd.pkl\")\n",
    "\n",
    "if (not os.path.exists(save_file)) or force:\n",
    "    labels_qd = {}\n",
    "    samples = client.get_samples(dset_name, per_page=10000, label_status=[\"LABELED\", \"REVIEWED\"])  # LABELED/REVIEWED\n",
    "    labels_qd = [(client.get_label(_sample.uuid), _sample) for _sample in samples]\n",
    "    joblib.dump(labels_qd, save_file)\n",
    "else:\n",
    "    labels_qd = joblib.load(save_file)"
   ]
  },
  {
   "cell_type": "code",
   "execution_count": 31,
   "id": "d198c467-2d82-44a4-a2d1-92b78877ea7c",
   "metadata": {},
   "outputs": [],
   "source": [
    "segments_dset = client.get_dataset(dset_name)\n",
    "segments_cats = segments_dset.task_attributes.categories\n",
    "segments_id_cat_map = {_cat.id: _cat.name for _cat in segments_cats}\n",
    "segments_cat_id_map = {v: k for k, v in segments_id_cat_map.items()}"
   ]
  },
  {
   "cell_type": "code",
   "execution_count": 36,
   "id": "191446ba-c5ff-4162-be15-47565cdf8ccd",
   "metadata": {
    "tags": []
   },
   "outputs": [],
   "source": [
    "# TODO COPY MANUAL LABELS!\n",
    "qd_label_file = os.path.join(config[\"dirs\"][\"data\"], \"manually_labeled_keypoints/manual_label_standard-keypoints.slp\")"
   ]
  },
  {
   "cell_type": "code",
   "execution_count": 37,
   "id": "0a295540-048d-4d62-90da-d54e76bab004",
   "metadata": {
    "tags": []
   },
   "outputs": [],
   "source": [
    "labels_qd_slp = sio.load_file(qd_label_file).labeled_frames\n",
    "labels_qd_slp_metadata = toml.load(qd_label_file.replace(\".slp\", \".toml\"))[\"segments_metadata\"]"
   ]
  },
  {
   "cell_type": "code",
   "execution_count": 38,
   "id": "a522ac99-47db-4bce-aa5f-d5c552a5dfa4",
   "metadata": {},
   "outputs": [],
   "source": [
    "for i, _metadata in enumerate(labels_qd_slp_metadata):\n",
    "    # get matching segments metadata\n",
    "    target_uuid = _metadata[\"uuid\"]\n",
    "    match_label = None\n",
    "    for _label, _label_mdata in labels_qd:\n",
    "        if _label.sample_uuid == _metadata[\"uuid\"]:\n",
    "            match_label = _label\n",
    "    if match_label is not None:\n",
    "        labels_qd_slp_metadata[i][\"segments_label\"] = match_label\n",
    "    else:\n",
    "        labels_qd_slp_metadata[i][\"segments_label\"] = None"
   ]
  },
  {
   "cell_type": "code",
   "execution_count": 39,
   "id": "6ef04628-57d6-40c8-a400-18d2b52ae1c8",
   "metadata": {
    "tags": []
   },
   "outputs": [],
   "source": [
    "dfs = []\n",
    "for _label_slp, _metadata in zip(labels_qd_slp, labels_qd_slp_metadata):\n",
    "    xs = []\n",
    "    ys = []\n",
    "    xs_segments = []\n",
    "    ys_segments = []\n",
    "    names = []\n",
    "    _segments_annotations = _metadata[\"segments_label\"].attributes.annotations\n",
    "    _segments_points = {\n",
    "        segments_id_cat_map[_annotation.category_id]: _annotation.points[0] for _annotation in _segments_annotations\n",
    "    }\n",
    "    for k, v in _label_slp.instances[0].points.items():\n",
    "        # should exist in new file...\n",
    "        kpoint_name = k.name\n",
    "        x, y = v.x, v.y\n",
    "        xs.append(x)\n",
    "        ys.append(y)\n",
    "        try:\n",
    "            x_segments, y_segments = _segments_points[kpoint_name][0], _segments_points[kpoint_name][1]\n",
    "        except KeyError:\n",
    "            x_segments, y_segments = np.nan, np.nan\n",
    "        xs_segments.append(x_segments)\n",
    "        ys_segments.append(y_segments)\n",
    "        names.append(kpoint_name)\n",
    "\n",
    "    _df = pd.DataFrame({\"x\": xs, \"y\": ys, \"x_segments\": xs_segments, \"y_segments\": ys_segments, \"kpoint_name\": names})\n",
    "    _df[\"img_path\"] = os.path.basename(_metadata[\"img_path\"])\n",
    "    _df[\"labeler\"] = \"qd\"\n",
    "    _df[\"labeler_segments\"] = _metadata[\"segments_label\"].created_by\n",
    "    dfs.append(_df)\n",
    "    # pass"
   ]
  },
  {
   "cell_type": "code",
   "execution_count": 40,
   "id": "9bdcb70f-b288-462b-b720-76a274a82e3d",
   "metadata": {
    "tags": []
   },
   "outputs": [],
   "source": [
    "kpoint_qd_df = pd.concat(dfs, ignore_index=True)\n",
    "kpoint_join_df = pd.concat([kpoint_df, kpoint_qd_df])\n",
    "kpoint_labeler_average = (\n",
    "    kpoint_join_df.query(\"labeler != 'qd'\").groupby([\"kpoint_name\", \"img_path\"])[[\"x\", \"y\"]].mean().reset_index()\n",
    ")\n",
    "kpoint_labeler_average[\"labeler\"] = \"labeler_average\"\n",
    "kpoint_join_df = pd.concat([kpoint_join_df, kpoint_labeler_average], ignore_index=True)"
   ]
  },
  {
   "cell_type": "code",
   "execution_count": 41,
   "id": "6bec9cbf-9478-4c85-a553-5998c889ae3a",
   "metadata": {},
   "outputs": [],
   "source": [
    "kpoint_qd_df[\"segments_to_qd_l2_error\"] = kpoint_qd_df.apply(get_l2_norm, axis=1)"
   ]
  },
  {
   "cell_type": "code",
   "execution_count": 42,
   "id": "41be56f4-96de-4939-bd06-324597416332",
   "metadata": {
    "tags": []
   },
   "outputs": [
    {
     "name": "stderr",
     "output_type": "stream",
     "text": [
      "/tmp/ipykernel_244133/2253549250.py:2: DeprecationWarning: DataFrameGroupBy.apply operated on the grouping columns. This behavior is deprecated, and in a future version of pandas the grouping columns will be excluded from the operation. Either pass `include_groups=False` to exclude the groupings or explicitly select the grouping columns after groupby to silence this warning.\n",
      "  pairwise_distances_qd = kpoint_join_df_ave.groupby([\"img_path\", \"kpoint_name\"]).apply(get_pairwise_qd_l2)\n"
     ]
    }
   ],
   "source": [
    "kpoint_join_df_ave = kpoint_join_df.groupby([\"img_path\", \"kpoint_name\", \"labeler\"])[[\"x\", \"y\"]].mean().reset_index()\n",
    "pairwise_distances_qd = kpoint_join_df_ave.groupby([\"img_path\", \"kpoint_name\"]).apply(get_pairwise_qd_l2)"
   ]
  },
  {
   "cell_type": "code",
   "execution_count": 43,
   "id": "791e0740-e737-4fea-96f8-1056ce91f320",
   "metadata": {
    "tags": []
   },
   "outputs": [],
   "source": [
    "pairwise_distances_qd = pairwise_distances_qd.dropna()\n",
    "pairwise_distances_qd = pairwise_distances_qd.apply(pd.Series)\n",
    "pairwise_distances_qd_l2error = pairwise_distances_qd.map(np.linalg.norm)"
   ]
  },
  {
   "cell_type": "code",
   "execution_count": 44,
   "id": "4292b1b1-c6ec-4176-8a9e-d40ba9553a39",
   "metadata": {
    "tags": []
   },
   "outputs": [],
   "source": [
    "pairwise_distances_qd_diff = pairwise_distances_qd.transform(lambda x: x - pairwise_distances_qd[\"labeler_average\"])\n",
    "\n",
    "# here we assume average displacement accounts for any bias in determining qd location\n",
    "# what's left should be labeler jitter\n",
    "pairwise_distances_qd_diff_l2_error = pairwise_distances_qd_diff.map(np.linalg.norm).drop(\"labeler_average\", axis=1)"
   ]
  },
  {
   "cell_type": "code",
   "execution_count": 45,
   "id": "22f3cfa6-9ffd-43ae-87ff-76720026fc56",
   "metadata": {
    "tags": []
   },
   "outputs": [],
   "source": [
    "not_nans = (~pairwise_distances_qd.drop(\"labeler_average\", axis=1).isnull()).sum(axis=1)\n",
    "pairwise_distances_qd_diff_l2_error = pairwise_distances_qd_diff_l2_error.loc[not_nans > 1]"
   ]
  },
  {
   "cell_type": "code",
   "execution_count": 46,
   "id": "76dfbc10-8d39-4021-9671-c23f39e6f787",
   "metadata": {
    "tags": []
   },
   "outputs": [],
   "source": [
    "distances_labeler_to_qd = pairwise_distances_qd_l2error.dropna().apply(pd.Series)\n",
    "cols = [_col for _col in distances_labeler_to_qd.columns if \"average\" not in _col]\n",
    "replace_cols = {_col: f\"reviewer_{i}\" for i, _col in enumerate(cols)}\n",
    "distances_labeler_to_qd = distances_labeler_to_qd.rename(columns=replace_cols)\n",
    "distances_labeler_to_qd = distances_labeler_to_qd.melt(\n",
    "    ignore_index=False, var_name=\"labeler\", value_name=\"l2_error\"\n",
    ").reset_index()"
   ]
  },
  {
   "cell_type": "code",
   "execution_count": 47,
   "id": "516104d5-258d-4fe3-8767-03fcb23b451d",
   "metadata": {
    "tags": []
   },
   "outputs": [],
   "source": [
    "plt_order = sorted(distances_labeler_to_qd[\"labeler\"].unique())\n",
    "plt_order = plt_order[1:] + plt_order[:1]"
   ]
  },
  {
   "cell_type": "markdown",
   "id": "6945bea1-e912-4e06-8080-257db75a34a6",
   "metadata": {
    "tags": []
   },
   "source": [
    "# Pairwise distances for knee joints"
   ]
  },
  {
   "cell_type": "code",
   "execution_count": 48,
   "id": "1068f1df-f4d4-45ee-a755-22d303138372",
   "metadata": {
    "tags": []
   },
   "outputs": [],
   "source": [
    "dset_root_name_kneejoints = \"jmarkow/basler-nir-plexiglass-arena-keypoints-fused-kneejoints-reflectonly-\"\n",
    "dset_labelers_kneejoints = [\"claire\", \"brittany\", \"zeynep\", \"amartya\"]"
   ]
  },
  {
   "cell_type": "code",
   "execution_count": 49,
   "id": "fe084406-c976-4161-8f38-84a530dbb7b3",
   "metadata": {
    "tags": []
   },
   "outputs": [],
   "source": [
    "save_file = os.path.join(data_dir, \"interlabeler_samples_kneejoints.pkl\")"
   ]
  },
  {
   "cell_type": "code",
   "execution_count": 50,
   "id": "072a8f5d-303a-4353-890b-8d02b3241eba",
   "metadata": {
    "tags": []
   },
   "outputs": [],
   "source": [
    "if (not os.path.exists(save_file)) or force:\n",
    "    labels_kneejoints = {}\n",
    "    for _labeler in tqdm(dset_labelers_kneejoints):\n",
    "        dset_name = f\"{dset_root_name_kneejoints}{_labeler}\"\n",
    "        samples = client.get_samples(\n",
    "            dset_name, per_page=10000, label_status=[\"LABELED\", \"REVIEWED\"]\n",
    "        )  # LABELED/REVIEWED\n",
    "        labels_kneejoints[_labeler] = [(client.get_label(_sample.uuid), _sample) for _sample in samples]\n",
    "    joblib.dump(labels_kneejoints, save_file)\n",
    "else:\n",
    "    labels_kneejoints = joblib.load(save_file)"
   ]
  },
  {
   "cell_type": "code",
   "execution_count": 51,
   "id": "01612660-9f8d-4e1f-ab50-7cd3bf2b39ed",
   "metadata": {
    "tags": []
   },
   "outputs": [],
   "source": [
    "segments_dset_kneejoints = client.get_dataset(f\"{dset_root_name_kneejoints}{dset_labelers[0]}\")\n",
    "segments_cats_kneejoints = segments_dset_kneejoints.task_attributes.categories\n",
    "segments_id_map_kneejoints = {_cat.id: _cat.name for _cat in segments_cats_kneejoints}"
   ]
  },
  {
   "cell_type": "code",
   "execution_count": 52,
   "id": "caa45ce6-02b2-4bde-b2e6-a99423da38c0",
   "metadata": {
    "tags": []
   },
   "outputs": [],
   "source": [
    "nlabels = {}\n",
    "for k, v in labels.items():\n",
    "    nlabels[k] = len(v)"
   ]
  },
  {
   "cell_type": "code",
   "execution_count": 53,
   "id": "da19aec2-a643-4ba2-88ea-3008cecb6a04",
   "metadata": {
    "tags": []
   },
   "outputs": [],
   "source": [
    "reference_labeler = max(nlabels, key=nlabels.get)\n",
    "other_labelers = [_labeler for _labeler in dset_labelers if _labeler is not reference_labeler]"
   ]
  },
  {
   "cell_type": "code",
   "execution_count": 54,
   "id": "a6b53548-d8c2-44a7-9c0b-cf9255ba970d",
   "metadata": {},
   "outputs": [
    {
     "data": {
      "text/plain": [
       "Sample(uuid='23590a73-8baa-4f7b-a14f-03bfa5e53961', name='session_20240610152529-475597_Basler-267601741000-24383488_1000.png-claire', attributes=ImageSampleAttributes(image=URL(url='https://segmentsai-prod.s3.eu-west-2.amazonaws.com/assets/jmarkow/0abe6097-14cc-4e7e-816d-d08d8db55635.png', signed_url=None)), metadata={'pad': 0, 'camera': 'Basler-267601741000-24383488', 'labeler': 'claire', 'img_path': '/storage/home/hcoda1/4/jmarkowitz30/shared_folder/active_lab_members/markowitz_jeffrey/active_projects/keypoints_basler_nir_plexiglass_arena/segments_ai_labeling_export_fused_round2_reflect_only/session_20240610152529-475597_Basler-267601741000-24383488_1000.png', 'frame_index': 1000, 'dat_path_fluo': '/home/jmarkow/data_dir/active_projects/quantum_dots/timecourse_02/session_20240610152529-475597 (system76-pc)/_proc/Basler-267601741000-24383488-fluorescence.avi', 'dat_path_reflect': '/home/jmarkow/data_dir/active_projects/quantum_dots/timecourse_02/session_20240610152529-475597 (system76-pc)/_proc/Basler-267601741000-24383488-reflectance.avi', 'original_img_path': '/home/jmarkow/data_dir/active_projects/keypoints_basler_nir_plexiglass_arena/segments_ai_labeling_export_fused/session_20240610152529-475597_Basler-267601741000-24383488_1000.png', 'original_segments_name': 'session_20240610152529-475597_Basler-267601741000-24383488_1000.png', 'original_segments_uuid': '4b02cb4c-dc87-472d-8939-0e079fd98e4d'}, created_at='2025-04-09T03:37:12.843411Z', created_by='jmarkow', assigned_labeler=None, assigned_reviewer=None, priority=0.0, label=None, issues=None, dataset_full_name=None)"
      ]
     },
     "execution_count": 54,
     "metadata": {},
     "output_type": "execute_result"
    }
   ],
   "source": [
    "list(labels.values())[0][1][1]"
   ]
  },
  {
   "cell_type": "code",
   "execution_count": 55,
   "id": "4d3ff1bf-25ff-49b4-938b-d5dced554cad",
   "metadata": {
    "tags": []
   },
   "outputs": [],
   "source": [
    "dfs = []\n",
    "for k, v in labels_kneejoints.items():\n",
    "    for _label in v:\n",
    "        keypoints = _label[0].attributes.annotations\n",
    "        img_path = _label[1].metadata[\"img_path\"]\n",
    "        xs = []\n",
    "        ys = []\n",
    "        names = []\n",
    "        for _kpoint in keypoints:\n",
    "            x, y = _kpoint.points[0]\n",
    "            kpoint_name = segments_id_map_kneejoints[_kpoint.category_id]\n",
    "            xs.append(x)\n",
    "            ys.append(y)\n",
    "            names.append(kpoint_name)\n",
    "        _df = pd.DataFrame({\"x\": xs, \"y\": ys, \"kpoint_name\": names})\n",
    "        _df[\"img_path\"] = os.path.basename(img_path)\n",
    "        _df[\"labeler\"] = k\n",
    "        dfs.append(_df)"
   ]
  },
  {
   "cell_type": "code",
   "execution_count": 56,
   "id": "75c948a7-6004-4248-80c5-d6db67fb7123",
   "metadata": {
    "tags": []
   },
   "outputs": [],
   "source": [
    "kpoint_kneejoints_df = pd.concat(dfs, ignore_index=True)"
   ]
  },
  {
   "cell_type": "code",
   "execution_count": 57,
   "id": "631e4cb6-2d93-49c9-899e-1f36ab0e467f",
   "metadata": {
    "tags": []
   },
   "outputs": [
    {
     "name": "stderr",
     "output_type": "stream",
     "text": [
      "/tmp/ipykernel_244133/1998460046.py:4: DeprecationWarning: DataFrameGroupBy.apply operated on the grouping columns. This behavior is deprecated, and in a future version of pandas the grouping columns will be excluded from the operation. Either pass `include_groups=False` to exclude the groupings or explicitly select the grouping columns after groupby to silence this warning.\n",
      "  pairwise_distances_kneejoints = kpoint_kneejoints_df_ave.groupby([\"img_path\", \"kpoint_name\"]).apply(get_pairwise_l2)\n"
     ]
    }
   ],
   "source": [
    "kpoint_kneejoints_df_ave = (\n",
    "    kpoint_kneejoints_df.groupby([\"img_path\", \"kpoint_name\", \"labeler\"])[[\"x\", \"y\"]].mean().reset_index()\n",
    ")\n",
    "pairwise_distances_kneejoints = kpoint_kneejoints_df_ave.groupby([\"img_path\", \"kpoint_name\"]).apply(get_pairwise_l2)"
   ]
  },
  {
   "cell_type": "markdown",
   "id": "4069e93d-f9e8-4c3b-a276-46b3867273b5",
   "metadata": {
    "tags": []
   },
   "source": [
    "# Now repeat for kneejoints w/ qds..."
   ]
  },
  {
   "cell_type": "code",
   "execution_count": 58,
   "id": "dffec757-c83f-4710-8a7f-a7bb3d14df60",
   "metadata": {},
   "outputs": [],
   "source": [
    "dset_name = \"jmarkow/basler-nir-plexiglass-arena-keypoints-fused-kneejoints\"\n",
    "save_file = os.path.join(data_dir, \"interlabeler_samples_kneejoints_qd.pkl\")\n",
    "force = False\n",
    "if (not os.path.exists(save_file)) or force:\n",
    "    samples = client.get_samples(dset_name, per_page=10000, label_status=[\"LABELED\", \"REVIEWED\"])  # LABELED/REVIEWED\n",
    "    labels_qd_kneejoints = [(client.get_label(_sample.uuid), _sample) for _sample in samples]\n",
    "    joblib.dump(labels_qd_kneejoints, save_file)\n",
    "else:\n",
    "    labels_qd_kneejoints = joblib.load(save_file)"
   ]
  },
  {
   "cell_type": "code",
   "execution_count": 59,
   "id": "300e16a6-aa75-4685-b4bd-82918308632b",
   "metadata": {},
   "outputs": [],
   "source": [
    "segments_dset = client.get_dataset(dset_name)\n",
    "segments_cats = segments_dset.task_attributes.categories\n",
    "segments_id_cat_map = {_cat.id: _cat.name for _cat in segments_cats}\n",
    "segments_cat_id_map = {v: k for k, v in segments_id_cat_map.items()}"
   ]
  },
  {
   "cell_type": "code",
   "execution_count": 60,
   "id": "f377e5c0-2e2f-43d7-a350-0d866baa8de0",
   "metadata": {
    "tags": []
   },
   "outputs": [],
   "source": [
    "qd_label_file_kneejoints = os.path.join(config[\"dirs\"][\"data\"], \"manually_labeled_keypoints/manual_label_kneejoints.slp\")"
   ]
  },
  {
   "cell_type": "code",
   "execution_count": 61,
   "id": "f579c00d-023a-4814-8901-dbe657d81ccc",
   "metadata": {
    "tags": []
   },
   "outputs": [],
   "source": [
    "labels_qd_kneejoints_slp = sio.load_file(qd_label_file_kneejoints).labeled_frames\n",
    "labels_qd_kneejoints_slp_metadata = toml.load(qd_label_file_kneejoints.replace(\".slp\", \".toml\"))[\"segments_metadata\"]"
   ]
  },
  {
   "cell_type": "code",
   "execution_count": 62,
   "id": "bed625a8-e189-4d64-87b7-5b9b4b774e80",
   "metadata": {},
   "outputs": [
    {
     "data": {
      "text/plain": [
       "{'knee_L': 1, 'knee_R': 2}"
      ]
     },
     "execution_count": 62,
     "metadata": {},
     "output_type": "execute_result"
    }
   ],
   "source": [
    "segments_cat_id_map"
   ]
  },
  {
   "cell_type": "code",
   "execution_count": 63,
   "id": "07112e72-c58a-4957-861d-35eabc85ccab",
   "metadata": {},
   "outputs": [],
   "source": [
    "for i, _metadata in enumerate(labels_qd_kneejoints_slp_metadata):\n",
    "    # get matching segments metadata\n",
    "    target_uuid = _metadata[\"uuid\"]\n",
    "    match_label = None\n",
    "    for _label, _label_mdata in labels_qd_kneejoints:\n",
    "        if _label.sample_uuid == _metadata[\"uuid\"]:\n",
    "            match_label = _label\n",
    "    if match_label is not None:\n",
    "        labels_qd_kneejoints_slp_metadata[i][\"segments_label\"] = match_label\n",
    "    else:\n",
    "        labels_qd_kneejoints_slp_metadata[i][\"segments_label\"] = None"
   ]
  },
  {
   "cell_type": "code",
   "execution_count": 64,
   "id": "0b1e2d62-685d-4341-a156-89447909bf37",
   "metadata": {
    "tags": []
   },
   "outputs": [],
   "source": [
    "dfs = []\n",
    "for _label_slp, _metadata in zip(labels_qd_kneejoints_slp, labels_qd_kneejoints_slp_metadata):\n",
    "    xs = []\n",
    "    ys = []\n",
    "    xs_segments = []\n",
    "    ys_segments = []\n",
    "    names = []\n",
    "    _segments_annotations = _metadata[\"segments_label\"].attributes.annotations\n",
    "    _segments_points = {\n",
    "        segments_id_cat_map[_annotation.category_id]: _annotation.points[0] for _annotation in _segments_annotations\n",
    "    }\n",
    "    for k, v in _label_slp.instances[0].points.items():\n",
    "        # should exist in new file...\n",
    "        kpoint_name = k.name\n",
    "        x, y = v.x, v.y\n",
    "        xs.append(x)\n",
    "        ys.append(y)\n",
    "        try:\n",
    "            x_segments, y_segments = _segments_points[kpoint_name][0], _segments_points[kpoint_name][1]\n",
    "        except KeyError:\n",
    "            x_segments, y_segments = np.nan, np.nan\n",
    "        xs_segments.append(x_segments)\n",
    "        ys_segments.append(y_segments)\n",
    "        names.append(kpoint_name)\n",
    "\n",
    "    _df = pd.DataFrame({\"x\": xs, \"y\": ys, \"x_segments\": xs_segments, \"y_segments\": ys_segments, \"kpoint_name\": names})\n",
    "    _df[\"img_path\"] = os.path.basename(_metadata[\"img_path\"])\n",
    "    _df[\"labeler\"] = \"qd\"\n",
    "    _df[\"labeler_segments\"] = _metadata[\"segments_label\"].created_by\n",
    "    dfs.append(_df)\n",
    "    # pass"
   ]
  },
  {
   "cell_type": "code",
   "execution_count": 65,
   "id": "40425b66-65e2-4a60-a88f-c6c019dd27ea",
   "metadata": {
    "tags": []
   },
   "outputs": [],
   "source": [
    "kpoint_qd_kneejoints_df = pd.concat(dfs, ignore_index=True)\n",
    "kpoint_join_kneejoints_df = pd.concat([kpoint_kneejoints_df, kpoint_qd_kneejoints_df])\n",
    "kpoint_labeler_average = (\n",
    "    kpoint_join_kneejoints_df.query(\"labeler != 'qd'\")\n",
    "    .groupby([\"kpoint_name\", \"img_path\"])[[\"x\", \"y\"]]\n",
    "    .mean()\n",
    "    .reset_index()\n",
    ")\n",
    "kpoint_labeler_average[\"labeler\"] = \"labeler_average\"\n",
    "kpoint_join_kneejoints_df = pd.concat([kpoint_join_kneejoints_df, kpoint_labeler_average], ignore_index=True)"
   ]
  },
  {
   "cell_type": "code",
   "execution_count": 66,
   "id": "20a532d7-ced8-415e-a3f3-c30ff911fffe",
   "metadata": {},
   "outputs": [],
   "source": [
    "kpoint_qd_kneejoints_df[\"segments_to_qd_l2_error\"] = kpoint_qd_kneejoints_df.apply(get_l2_norm, axis=1)"
   ]
  },
  {
   "cell_type": "code",
   "execution_count": 67,
   "id": "ee06377d-4829-4d84-a695-724a664fa781",
   "metadata": {
    "tags": []
   },
   "outputs": [
    {
     "name": "stderr",
     "output_type": "stream",
     "text": [
      "/tmp/ipykernel_244133/3335572796.py:4: DeprecationWarning: DataFrameGroupBy.apply operated on the grouping columns. This behavior is deprecated, and in a future version of pandas the grouping columns will be excluded from the operation. Either pass `include_groups=False` to exclude the groupings or explicitly select the grouping columns after groupby to silence this warning.\n",
      "  pairwise_distances_qd_kneejoints = kpoint_join_kneejoints_df_ave.groupby([\"img_path\", \"kpoint_name\"]).apply(\n"
     ]
    }
   ],
   "source": [
    "kpoint_join_kneejoints_df_ave = (\n",
    "    kpoint_join_kneejoints_df.groupby([\"img_path\", \"kpoint_name\", \"labeler\"])[[\"x\", \"y\"]].mean().reset_index()\n",
    ")\n",
    "pairwise_distances_qd_kneejoints = kpoint_join_kneejoints_df_ave.groupby([\"img_path\", \"kpoint_name\"]).apply(\n",
    "    get_pairwise_qd_l2\n",
    ")"
   ]
  },
  {
   "cell_type": "code",
   "execution_count": 68,
   "id": "3def2f25-1cbf-488e-9704-6105134a1dde",
   "metadata": {
    "tags": []
   },
   "outputs": [],
   "source": [
    "pairwise_distances_qd_kneejoints = pairwise_distances_qd_kneejoints.dropna()\n",
    "pairwise_distances_qd_kneejoints = pairwise_distances_qd_kneejoints.apply(pd.Series)\n",
    "pairwise_distances_qd_l2error_kneejoints = pairwise_distances_qd_kneejoints.map(np.linalg.norm)"
   ]
  },
  {
   "cell_type": "code",
   "execution_count": 69,
   "id": "b33d50b7-8d26-40c3-88bf-f12ae71575fc",
   "metadata": {
    "tags": []
   },
   "outputs": [],
   "source": [
    "# diff_mean = pairwise_distances_qd.groupby(\"kpoint_name\").mean()\n",
    "pairwise_distances_qd_diff_kneejoints = pairwise_distances_qd_kneejoints.transform(\n",
    "    lambda x: x - pairwise_distances_qd_kneejoints[\"labeler_average\"]\n",
    ")\n",
    "\n",
    "# here we assume average displacement accounts for any bias in determining qd location\n",
    "# what's left should be labeler jitter\n",
    "pairwise_distances_qd_diff_l2_error_kneejoints = pairwise_distances_qd_diff_kneejoints.map(np.linalg.norm).drop(\n",
    "    \"labeler_average\", axis=1\n",
    ")"
   ]
  },
  {
   "cell_type": "code",
   "execution_count": 70,
   "id": "e5ef19f1-9a2c-43b1-b956-62e1d67b92f3",
   "metadata": {
    "tags": []
   },
   "outputs": [],
   "source": [
    "not_nans = (~pairwise_distances_qd_kneejoints.drop(\"labeler_average\", axis=1).isnull()).sum(axis=1)\n",
    "pairwise_distances_qd_diff_l2_error_kneejoints = pairwise_distances_qd_diff_l2_error_kneejoints.loc[not_nans > 1]"
   ]
  },
  {
   "cell_type": "code",
   "execution_count": 71,
   "id": "e2a6934a-5d57-4280-85b1-3375104097b2",
   "metadata": {
    "tags": []
   },
   "outputs": [],
   "source": [
    "distances_labeler_to_qd_kneejoints = pairwise_distances_qd_l2error_kneejoints.dropna().apply(pd.Series)\n",
    "cols = [_col for _col in distances_labeler_to_qd_kneejoints.columns if \"average\" not in _col]\n",
    "replace_cols = {_col: f\"reviewer_{i}\" for i, _col in enumerate(cols)}\n",
    "distances_labeler_to_qd_kneejoints = distances_labeler_to_qd_kneejoints.rename(columns=replace_cols)\n",
    "distances_labeler_to_qd_kneejoints = distances_labeler_to_qd_kneejoints.melt(\n",
    "    ignore_index=False, var_name=\"labeler\", value_name=\"l2_error\"\n",
    ").reset_index()"
   ]
  },
  {
   "cell_type": "code",
   "execution_count": 72,
   "id": "0334b6e2-d866-4ba0-9ce2-2403b2f899f6",
   "metadata": {
    "tags": []
   },
   "outputs": [],
   "source": [
    "plt_order = sorted(distances_labeler_to_qd_kneejoints[\"labeler\"].unique())\n",
    "plt_order = plt_order[1:] + plt_order[:1]"
   ]
  },
  {
   "cell_type": "code",
   "execution_count": 73,
   "id": "8cef9ce2-1a3b-4e5d-94f7-412a76d13610",
   "metadata": {
    "tags": []
   },
   "outputs": [],
   "source": [
    "setup_plotting_env()"
   ]
  },
  {
   "cell_type": "code",
   "execution_count": 74,
   "id": "141eda43-188e-4f48-88cd-578c0f1a540c",
   "metadata": {
    "tags": []
   },
   "outputs": [],
   "source": [
    "from scipy.stats import mode"
   ]
  },
  {
   "cell_type": "code",
   "execution_count": 75,
   "id": "8cecb6ff-0054-4c9c-91b9-d0dc7d7a190c",
   "metadata": {
    "tags": []
   },
   "outputs": [],
   "source": [
    "stats = {\"pairwise\": {\"mean\": pairwise_distances_kneejoints.mean(), \"median\": pairwise_distances_kneejoints.median()}}"
   ]
  },
  {
   "cell_type": "markdown",
   "id": "bdc49f90-5e1a-4fd2-91e1-5110a28144ff",
   "metadata": {},
   "source": [
    "# Plotting everything together"
   ]
  },
  {
   "cell_type": "code",
   "execution_count": 76,
   "id": "1909f4a3-a81d-441a-94ca-762ff4cffe5f",
   "metadata": {
    "tags": []
   },
   "outputs": [],
   "source": [
    "# now combine back, tail, paws\n",
    "segments = {}\n",
    "segments[\"back\"] = [\"back_bottom\", \"back_middle\", \"back_top\"]\n",
    "segments[\"paws\"] = [\"foreleg_L\", \"foreleg_R\", \"hindleg_L\", \"hindleg_R\"]\n",
    "segments[\"tail\"] = [\"tail_base\", \"tail_middle\", \"tail_tip\"]\n",
    "segments[\"knee\"] = [\"knee_L\", \"knee_R\"]\n",
    "map_body_part_to_segment = {}\n",
    "for k, v in segments.items():\n",
    "    for _v in v:\n",
    "        map_body_part_to_segment[_v] = k"
   ]
  },
  {
   "cell_type": "code",
   "execution_count": 77,
   "id": "e8fd5d8d-a278-447f-b04f-9636b582d113",
   "metadata": {
    "tags": []
   },
   "outputs": [],
   "source": [
    "stats = {\n",
    "    \"pairwise\": dict(pairwise_distances.describe()),\n",
    "    \"pairwise_kneejoints\": dict(pairwise_distances_kneejoints.describe()),\n",
    "}"
   ]
  },
  {
   "cell_type": "code",
   "execution_count": 78,
   "id": "dc96b121-41e3-4db1-9611-fd73f4eecdaf",
   "metadata": {
    "tags": []
   },
   "outputs": [],
   "source": [
    "stats[\"to_qd\"] = distances_labeler_to_qd.groupby(\"labeler\")[\"l2_error\"].agg([\"mean\", \"median\"]).to_dict()"
   ]
  },
  {
   "cell_type": "code",
   "execution_count": 79,
   "id": "f45cb346-75ac-430f-a3b6-1817e3ff7817",
   "metadata": {
    "tags": []
   },
   "outputs": [],
   "source": [
    "pal = sns.color_palette(\"bright\")\n",
    "stats_colors = {\"mean\": pal[3], \"median\": pal[1], \"50%\": pal[1]}"
   ]
  },
  {
   "cell_type": "code",
   "execution_count": 80,
   "id": "fa28c847-6d98-4b97-a89f-2f1c53ffe4f6",
   "metadata": {
    "tags": []
   },
   "outputs": [],
   "source": [
    "plt_stats = [\"mean\", \"50%\"]"
   ]
  },
  {
   "cell_type": "code",
   "execution_count": 81,
   "id": "1b039c7f-cc59-4176-a9be-8eab8292b0d4",
   "metadata": {
    "tags": []
   },
   "outputs": [],
   "source": [
    "hist_kwargs = {\n",
    "    \"bins\": np.arange(0, 26, 1),\n",
    "    \"element\": \"step\",\n",
    "    \"alpha\": 0.6,\n",
    "    \"clip_on\": False,\n",
    "    \"fill\": True,\n",
    "    \"linewidth\": 0,\n",
    "}"
   ]
  },
  {
   "cell_type": "code",
   "execution_count": 82,
   "id": "2be62d1a-ad4e-4710-a5b2-aa51ca50439f",
   "metadata": {},
   "outputs": [],
   "source": [
    "setup_plotting_env()"
   ]
  },
  {
   "cell_type": "code",
   "execution_count": 83,
   "id": "fca3eaf4-5122-4474-8448-5fac9a2c7e3a",
   "metadata": {
    "tags": []
   },
   "outputs": [
    {
     "data": {
      "image/png": "[encoded data removed]",
      "text/plain": [
       "<Figure size 130x150 with 1 Axes>"
      ]
     },
     "metadata": {},
     "output_type": "display_data"
    }
   ],
   "source": [
    "fig, ax = plt.subplots(1, figsize=(1.3, 1.5))\n",
    "sns.boxplot(\n",
    "    distances_labeler_to_qd,\n",
    "    order=plt_order,\n",
    "    y=\"labeler\",\n",
    "    x=\"l2_error\",\n",
    "    color=[0.5] * 3,\n",
    "    width=0.6,\n",
    "    showfliers=False,\n",
    "    showcaps=False,\n",
    ")\n",
    "ax.set_ylabel(\"\")\n",
    "ax.tick_params(axis=\"y\", which=\"major\", labelsize=7)\n",
    "ax.set_xlabel(\"Distance between\\nkeypoint and QD (pixels)\")\n",
    "# ax.axvline(x=2.9)\n",
    "sns.despine(trim=True)"
   ]
  },
  {
   "cell_type": "code",
   "execution_count": 84,
   "id": "d169bb81-0997-4494-a23f-0d4192ba4fe4",
   "metadata": {
    "tags": []
   },
   "outputs": [],
   "source": [
    "plt_df = (\n",
    "    pd.concat([pairwise_distances, pairwise_distances_kneejoints], ignore_index=False).rename(\"l2_error\").reset_index()\n",
    ")\n",
    "# plt_df2 = pairwise_distances_kneejoints.rename(\"l2_error\")\n",
    "# plt_df = pairwise_distances.rename(\"l2_error\").groupby([\"img_path\",\"kpoint_name\"]).mean().dropna().reset_index()\n",
    "nbody_parts = plt_df[\"kpoint_name\"].nunique()\n",
    "plt_df[\"segment\"] = plt_df[\"kpoint_name\"].map(map_body_part_to_segment)\n",
    "plt_df[\"kpoint_name\"] = plt_df[\"kpoint_name\"].map(aliases)\n",
    "nsegments = plt_df[\"segment\"].nunique()"
   ]
  },
  {
   "cell_type": "code",
   "execution_count": 85,
   "id": "136ce847-9814-49fa-970f-795068f49df4",
   "metadata": {
    "tags": []
   },
   "outputs": [
    {
     "data": {
      "text/plain": [
       "<seaborn.axisgrid.FacetGrid at 0x1554a6233c70>"
      ]
     },
     "execution_count": 85,
     "metadata": {},
     "output_type": "execute_result"
    },
    {
     "data": {
      "image/png": "[encoded data removed]",
      "text/plain": [
       "<Figure size 300x450 with 12 Axes>"
      ]
     },
     "metadata": {},
     "output_type": "display_data"
    }
   ],
   "source": [
    "# Initialize the FacetGrid object\n",
    "pal = sns.cubehelix_palette(nbody_parts, rot=-0.25, light=0.7)\n",
    "g = sns.FacetGrid(\n",
    "    plt_df, col=\"kpoint_name\", col_wrap=2, hue=\"kpoint_name\", aspect=2, height=0.75, palette=pal, sharey=True\n",
    ")\n",
    "g.map(\n",
    "    sns.histplot, \"l2_error\", bins=np.arange(0, 20, 1), element=\"step\", clip_on=False, fill=True, alpha=1, linewidth=0\n",
    ")\n",
    "# g.map(sns.kdeplot, \"l2_error\", clip_on=False, color=\"w\", lw=2, bw_adjust=0.5)\n",
    "g.refline(x=2.5, linewidth=1, linestyle=\"-\", color=\"y\", clip_on=False)\n",
    "\n",
    "\n",
    "# Define and use a simple function to label the plot in axes coordinates\n",
    "def label(x, color, label):\n",
    "    ax = plt.gca()\n",
    "    ax.text(\n",
    "        0.5,\n",
    "        0.6,\n",
    "        label,\n",
    "        fontweight=\"bold\",\n",
    "        color=color,\n",
    "        ha=\"left\",\n",
    "        va=\"bottom\",\n",
    "        transform=ax.transAxes,\n",
    "    )\n",
    "\n",
    "\n",
    "g.map(label, \"kpoint_name\")\n",
    "g.figure.subplots_adjust(hspace=0.25)\n",
    "g.set_titles(\"\")\n",
    "g.set(xlabel=\"Max pairwise distance (pixels)\", xlim=(0, 20), xticks=np.arange(0, 25, 5))\n",
    "# g.despine(bottom=True, left=True)\n",
    "g.despine(trim=True)"
   ]
  },
  {
   "cell_type": "code",
   "execution_count": 86,
   "id": "7036b5e3-0cd0-4510-ba35-e57aef9b609e",
   "metadata": {},
   "outputs": [],
   "source": [
    "median_error = plt_df.groupby(\"segment\")[\"l2_error\"].median()"
   ]
  },
  {
   "cell_type": "code",
   "execution_count": 87,
   "id": "e4f69bea-ee15-42cf-b65e-1d9d1e77c2c9",
   "metadata": {},
   "outputs": [
    {
     "data": {
      "text/plain": [
       "segment\n",
       "back     5.835452\n",
       "knee     5.166883\n",
       "paws     4.580240\n",
       "tail    11.901269\n",
       "Name: l2_error, dtype: float64"
      ]
     },
     "execution_count": 87,
     "metadata": {},
     "output_type": "execute_result"
    }
   ],
   "source": [
    "median_error"
   ]
  },
  {
   "cell_type": "code",
   "execution_count": 88,
   "id": "17bc309d-d610-4e01-9f35-3b69e1421a7f",
   "metadata": {},
   "outputs": [],
   "source": [
    "# config = toml.load(\"../preprocessing/config.toml\")\n",
    "save_file = os.path.join(config[\"dirs\"][\"analysis\"], \"sleap_metrics_qd_training.parquet\")\n",
    "# fig_dir = \"/storage/home/hcoda1/4/jmarkowitz30/shared_folder/active_lab_members/markowitz_jeffrey/panels/2025-04 (QD paper round 2)\"\n",
    "\n",
    "\n",
    "autolabel_df = pd.read_parquet(save_file)"
   ]
  },
  {
   "cell_type": "code",
   "execution_count": 89,
   "id": "240151e0-4d0d-4aef-bffe-bce981ff354b",
   "metadata": {},
   "outputs": [],
   "source": [
    "body_parts_cols = autolabel_df.filter(regex=\"test_dist.parts\").columns\n",
    "body_parts = [_part.split(\".\")[-1] for _part in body_parts_cols]"
   ]
  },
  {
   "cell_type": "code",
   "execution_count": 90,
   "id": "55fc829d-cb1d-415f-8698-d25d52042998",
   "metadata": {},
   "outputs": [],
   "source": [
    "plt_points = autolabel_df.set_index([\"is_joint\", \"condition\", \"nframes_train\"])[body_parts_cols]\n",
    "plt_points.columns = body_parts\n",
    "plt_points = plt_points.melt(ignore_index=False, var_name=\"kpoint\").reset_index()"
   ]
  },
  {
   "cell_type": "code",
   "execution_count": 91,
   "id": "06ea6b4a-b338-412e-9b26-cf87eb344bcb",
   "metadata": {},
   "outputs": [],
   "source": [
    "plt_points[\"segment\"] = plt_points[\"kpoint\"].map(map_body_part_to_segment)"
   ]
  },
  {
   "cell_type": "code",
   "execution_count": 92,
   "id": "62b916f3-d475-4141-bc2c-bd53ece8e18d",
   "metadata": {},
   "outputs": [],
   "source": [
    "median_error_auto = (\n",
    "    plt_points.query(\"condition=='all' and nframes_train>10000\")\n",
    "    .groupby(\"segment\")[\"value\"]\n",
    "    .nsmallest(5)\n",
    "    .groupby(\"segment\")\n",
    "    .median()\n",
    ")"
   ]
  },
  {
   "cell_type": "code",
   "execution_count": 93,
   "id": "007b22d3-9ba9-46de-9734-02d171c8ff40",
   "metadata": {
    "tags": []
   },
   "outputs": [
    {
     "data": {
      "image/png": "[encoded data removed]",
      "text/plain": [
       "<Figure size 264x240 with 4 Axes>"
      ]
     },
     "metadata": {},
     "output_type": "display_data"
    }
   ],
   "source": [
    "# Initialize the FacetGrid object\n",
    "pal = sns.cubehelix_palette(nsegments, rot=-0.25, light=0.7)\n",
    "g = sns.FacetGrid(plt_df, col=\"segment\", col_wrap=2, hue=\"segment\", aspect=1.1, height=1.2, palette=pal, sharey=True)\n",
    "g.map(\n",
    "    sns.histplot,\n",
    "    \"l2_error\",\n",
    "    **hist_kwargs,\n",
    ")\n",
    "# g.map(sns.kdeplot, \"l2_error\", clip_on=False, color=\"w\", lw=2, bw_adjust=0.5)\n",
    "g.refline(y=0, linewidth=2, linestyle=\"-\", color=None, clip_on=False)\n",
    "\n",
    "\n",
    "# Define and use a simple function to label the plot in axes coordinates\n",
    "def label(x, color, label):\n",
    "    segment_median = median_error[label]\n",
    "    segment_median_auto = median_error_auto[label]\n",
    "    ax = plt.gca()\n",
    "    ax.text(\n",
    "        0.5,\n",
    "        0.8,\n",
    "        f\"{label}: {segment_median:0.2f}\",\n",
    "        fontweight=\"bold\",\n",
    "        color=color,\n",
    "        ha=\"left\",\n",
    "        va=\"bottom\",\n",
    "        transform=ax.transAxes,\n",
    "    )\n",
    "    ax.text(\n",
    "        0.5,\n",
    "        0.5,\n",
    "        f\"{label}: {segment_median_auto:0.2f}\",\n",
    "        fontweight=\"bold\",\n",
    "        color=\"r\",\n",
    "        # color=color,\n",
    "        ha=\"left\",\n",
    "        va=\"bottom\",\n",
    "        transform=ax.transAxes,\n",
    "    )\n",
    "    ax.axvline(x=segment_median_auto, color=\"r\")\n",
    "    ax.axvline(x=segment_median, color=color)\n",
    "\n",
    "\n",
    "g.map(label, \"segment\")\n",
    "g.figure.subplots_adjust(hspace=0.25)\n",
    "g.set_titles(\"\")\n",
    "g.set(xlabel=\"\", xlim=(0, 25), xticks=np.arange(0, 26, 5))\n",
    "g.fig.supxlabel(\"Max pairwise distance (pixels)\", x=0.5, y=0.01, ha=\"center\", fontsize=7)\n",
    "# g.despine(bottom=True, left=True)\n",
    "g.despine(trim=True)\n",
    "g.fig.savefig(os.path.join(fig_dir, \"interlabeler_distance_by_segment.pdf\"), dpi=600, bbox_inches=\"tight\")"
   ]
  },
  {
   "cell_type": "code",
   "execution_count": 94,
   "id": "2f3035fa-83cf-4104-95b5-c119ba8065de",
   "metadata": {},
   "outputs": [],
   "source": [
    "# now show performance of QD-Pi alongside this..."
   ]
  },
  {
   "cell_type": "code",
   "execution_count": 95,
   "id": "3f54d7ff-c58a-4890-838c-885499642058",
   "metadata": {
    "tags": []
   },
   "outputs": [
    {
     "data": {
      "image/png": "[encoded data removed]",
      "text/plain": [
       "<Figure size 125x300 with 2 Axes>"
      ]
     },
     "metadata": {},
     "output_type": "display_data"
    }
   ],
   "source": [
    "fig, ax = plt.subplots(2, 1, figsize=(1.25, 3.0), sharex=True, sharey=False)\n",
    "\n",
    "sns.histplot(x=pairwise_distances, ax=ax[0], **hist_kwargs)\n",
    "for _stat in plt_stats:\n",
    "    ax[0].axvline(x=stats[\"pairwise\"][_stat], color=stats_colors[_stat], lw=2)\n",
    "\n",
    "sns.histplot(x=pairwise_distances_kneejoints, ax=ax[1], **hist_kwargs)\n",
    "for _stat in plt_stats:\n",
    "    ax[1].axvline(x=stats[\"pairwise_kneejoints\"][_stat], color=stats_colors[_stat], lw=2)\n",
    "\n",
    "ax[1].set_xlim(0, 30)\n",
    "ax[1].set_xlabel(\"Max pairwise error\\n(pixels, per frame)\")\n",
    "ax[0].set_ylabel(\"Count\")\n",
    "sns.despine(trim=True, offset=5)"
   ]
  },
  {
   "cell_type": "code",
   "execution_count": 96,
   "id": "707c6d90-1365-4c3b-b385-56409ac72750",
   "metadata": {
    "tags": []
   },
   "outputs": [],
   "source": [
    "# need to think about what we compare kneejoints to..."
   ]
  },
  {
   "cell_type": "code",
   "execution_count": 97,
   "id": "43aea389-5b42-4715-bb5b-81b31c32af6f",
   "metadata": {},
   "outputs": [],
   "source": [
    "bins = np.arange(0, 30, 0.35)\n",
    "kwargs = {\n",
    "    \"bins\": bins,\n",
    "    \"stat\": \"percent\",\n",
    "    \"element\": \"step\",\n",
    "    # \"fill\": True\n",
    "}"
   ]
  },
  {
   "cell_type": "code",
   "execution_count": 98,
   "id": "6cd7e0af-614f-4359-967e-6383a46e058e",
   "metadata": {},
   "outputs": [
    {
     "data": {
      "image/png": "[encoded data removed]",
      "text/plain": [
       "<Figure size 300x250 with 6 Axes>"
      ]
     },
     "metadata": {},
     "output_type": "display_data"
    }
   ],
   "source": [
    "# DUAL Y AXIS\n",
    "fig, ax = plt.subplots(2, 2, figsize=(3, 2.5), sharex=True, sharey=\"row\")\n",
    "second_axis_ylim = (0, 25)\n",
    "for i, rax in enumerate(ax):\n",
    "    cumulative = i > 0\n",
    "    fill = not cumulative\n",
    "    for j, ax1 in enumerate(rax):\n",
    "        use_knee = j > 0\n",
    "        color = \"tab:blue\"\n",
    "        if use_knee:\n",
    "            standard_kpoints = plt_df.query(\"kpoint_name.str.contains('knee')\")[\"l2_error\"]\n",
    "            qd_kpoints = kpoint_qd_kneejoints_df[\"segments_to_qd_l2_error\"]\n",
    "        else:\n",
    "            standard_kpoints = plt_df.query(\"~kpoint_name.str.contains('knee')\")[\"l2_error\"]\n",
    "            qd_kpoints = kpoint_qd_df[\"segments_to_qd_l2_error\"]\n",
    "\n",
    "        sns.histplot(standard_kpoints, ax=ax1, color=color, fill=fill, cumulative=cumulative, clip_on=False, **kwargs)\n",
    "        if not cumulative:\n",
    "            ax1.tick_params(axis=\"y\", labelcolor=color, color=color)\n",
    "            ax1.spines[\"left\"].set_color(color)\n",
    "\n",
    "        color = \"tab:orange\"\n",
    "        if not cumulative:\n",
    "            ax2 = ax1.twinx()\n",
    "        else:\n",
    "            ax2 = ax1\n",
    "        sns.histplot(qd_kpoints, ax=ax2, color=color, fill=fill, cumulative=cumulative, clip_on=False, **kwargs)\n",
    "        if not cumulative:\n",
    "            ax2.tick_params(axis=\"y\", labelcolor=color, color=color)\n",
    "            ax2.set_ylim(*second_axis_ylim)\n",
    "            ax2.set_ylabel(\"\")\n",
    "            ax2.spines[\"right\"].set_color(color)\n",
    "            ax1.spines[\"top\"].set_visible(False)\n",
    "            ax1.spines[\"right\"].set_visible(False)\n",
    "            ax2.spines[\"left\"].set_visible(False)\n",
    "            ax2.spines[\"top\"].set_visible(False)\n",
    "        if i == 0:\n",
    "            ax1.set_title(f\"Knee: {use_knee}\")\n",
    "        ax1.set_xlabel(\"\")\n",
    "\n",
    "ax[-1][0].set_ylabel(\"Percent (cumulative)\")\n",
    "fig.tight_layout()\n",
    "fig.supxlabel(\"Distance between labeler point and QD (pixels)\", fontsize=7, ha=\"center\", x=0.52, y=-0.01)\n",
    "fig.savefig(os.path.join(fig_dir, \"interlabeler_vs_qd_distance.pdf\"), dpi=600, bbox_inches=\"tight\")"
   ]
  },
  {
   "cell_type": "code",
   "execution_count": 99,
   "id": "f6b7ea01-c9bc-46bd-9bc2-125d3b6aebd0",
   "metadata": {},
   "outputs": [
    {
     "data": {
      "text/plain": [
       "labeler_segments\n",
       "amartya             220\n",
       "brittanyaddison    2360\n",
       "cdeng              4270\n",
       "eulutas            1480\n",
       "jmarkow              40\n",
       "triesn              250\n",
       "dtype: int64"
      ]
     },
     "execution_count": 99,
     "metadata": {},
     "output_type": "execute_result"
    }
   ],
   "source": [
    "# remap to reviewer names, let's show boxplots with\n",
    "# their distance to qd without fluorescence? or\n",
    "# distance to other labelers on same plot...\n",
    "kpoint_qd_df.groupby(\"labeler_segments\").size()"
   ]
  },
  {
   "cell_type": "code",
   "execution_count": 100,
   "id": "e677eb4e-9fbd-4b31-a96f-2e594d3a89c5",
   "metadata": {},
   "outputs": [],
   "source": [
    "kpoint_qd_df[\"segment\"] = kpoint_qd_df[\"kpoint_name\"].map(map_body_part_to_segment)"
   ]
  },
  {
   "cell_type": "code",
   "execution_count": 101,
   "id": "e4cfbc5d-89a9-4540-a746-11192be5129b",
   "metadata": {},
   "outputs": [],
   "source": [
    "plt_qd_df = kpoint_qd_df[[\"segments_to_qd_l2_error\", \"labeler_segments\", \"img_path\", \"kpoint_name\", \"segment\"]]"
   ]
  },
  {
   "cell_type": "code",
   "execution_count": 102,
   "id": "8e1e9165-2a02-4fbe-8e2f-2f19b5873ed4",
   "metadata": {},
   "outputs": [],
   "source": [
    "plt_qd_df = plt_qd_df.rename(columns={\"labeler_segments\": \"labeler\", \"segments_to_qd_l2_error\": \"l2_error\"})"
   ]
  },
  {
   "cell_type": "code",
   "execution_count": 103,
   "id": "5f01f831-b544-4bc8-9312-54a30633f040",
   "metadata": {},
   "outputs": [],
   "source": [
    "plt_df[\"labeler\"] = \"pairwise\"\n",
    "plt_df[\"labeler_type\"] = \"manual\""
   ]
  },
  {
   "cell_type": "code",
   "execution_count": 104,
   "id": "14660f35-f2ce-42ae-af3e-9abfb0de5599",
   "metadata": {},
   "outputs": [],
   "source": [
    "plt_qd_df[\"labeler_type\"] = \"QD\"\n",
    "# plt_qd_df = plt_qd_df.groupby(\"labeler\").filter(lambda x: len(x) > 50)\n",
    "\n",
    "labeler_lst = sorted(plt_qd_df[\"labeler\"].unique())\n",
    "new_reviewer_name_map = {_name: f\"Reviewer {i}\" for i, _name in enumerate(labeler_lst)}\n",
    "\n",
    "plt_qd_df[\"labeler\"] = plt_qd_df[\"labeler\"].map(new_reviewer_name_map)\n",
    "combined_plt_df = pd.concat([plt_df, plt_qd_df], ignore_index=True)"
   ]
  },
  {
   "cell_type": "code",
   "execution_count": 105,
   "id": "1a2df928-ccad-4441-9309-f10ab82d2848",
   "metadata": {},
   "outputs": [
    {
     "data": {
      "image/png": "[encoded data removed]",
      "text/plain": [
       "<Figure size 200x240 with 1 Axes>"
      ]
     },
     "metadata": {},
     "output_type": "display_data"
    }
   ],
   "source": [
    "fig, ax = plt.subplots(1, figsize=(2, 2.4))\n",
    "sns.boxplot(\n",
    "    combined_plt_df,\n",
    "    # order=plt_order,\n",
    "    y=\"labeler\",\n",
    "    order=[\"pairwise\"] + list(new_reviewer_name_map.values()),\n",
    "    x=\"l2_error\",\n",
    "    hue=\"segment\",\n",
    "    palette=sns.cubehelix_palette(nsegments, rot=-0.25, light=0.7),\n",
    "    # color=[.5]*3,\n",
    "    legend=False,\n",
    "    width=0.9,\n",
    "    showfliers=False,\n",
    "    showcaps=False,\n",
    ")\n",
    "ax.set_ylabel(\"\")\n",
    "ax.tick_params(axis=\"y\", which=\"major\", labelsize=7)\n",
    "ax.set_xlabel(\"Distance between\\nkeypoint and QD (pixels)\")\n",
    "ax.set_yticks(ax.get_yticks())\n",
    "ax.set_yticklabels(ax.get_yticklabels(), rotation=45, va=\"top\")\n",
    "ax.set_xlim(0.01, 100)\n",
    "# l = ax.legend()\n",
    "# l.set(bbox_to_anchor=(1.05,.5))\n",
    "# l = ax.legend()\n",
    "# l.set(bbox_to_anchor=(1.5,.5))\n",
    "# ax.axvline(x=2.9)\n",
    "# sns.despine(trim=True)\n",
    "ax.set_xscale(\"log\")\n",
    "fig.tight_layout()\n",
    "fig.savefig(os.path.join(fig_dir, \"interlabeler_vs_qd_distance_by_reviewer.pdf\"), dpi=600)"
   ]
  },
  {
   "cell_type": "code",
   "execution_count": 106,
   "id": "a4f7166c-b063-4393-885d-ccce8d7abd57",
   "metadata": {},
   "outputs": [],
   "source": [
    "# output stuff to toml file"
   ]
  },
  {
   "cell_type": "code",
   "execution_count": 107,
   "id": "a6e7ff22-7378-439a-a78c-6d7c2383507b",
   "metadata": {},
   "outputs": [],
   "source": [
    "stats[\"all_labelers_pairwise_not_knee_median\"] = plt_df.query(\"~kpoint_name.str.contains('knee')\")[\"l2_error\"].median()\n",
    "stats[\"all_labelers_pairwise_knee_median\"] = plt_df.query(\"kpoint_name.str.contains('knee')\")[\"l2_error\"].median()\n",
    "stats[\"all_labelers_pairwise_by_segment_median\"] = plt_df.groupby(\"segment\")[\"l2_error\"].median().to_dict()\n",
    "stats[\"all_labelers_to_qd_median\"] = plt_qd_df[\"l2_error\"].median()\n",
    "stats[\"all_labelers_to_qd_by_segment_median\"] = plt_qd_df.groupby(\"segment\")[\"l2_error\"].median().to_dict()\n",
    "stats[\"all_labelers_to_qd_by_labeler_median\"] = plt_qd_df.groupby(\"labeler\")[\"l2_error\"].median().to_dict()\n",
    "stats[\"all_labelers_pairwise_nframes\"] = (\n",
    "    plt_df.dropna(subset=[\"l2_error\"]).query(\"~kpoint_name.str.contains('knee')\")[\"img_path\"].nunique()\n",
    ")\n",
    "stats[\"all_labelers_pairwise_nframes_kneejoints\"] = (\n",
    "    plt_df.dropna(subset=[\"l2_error\"]).query(\"kpoint_name.str.contains('knee')\")[\"img_path\"].nunique()\n",
    ")\n",
    "stats[\"all_labelers_pairwise_nlabelers\"] = kpoint_df[\"labeler\"].nunique()\n",
    "stats[\"all_labelers_to_qd_nframes\"] = kpoint_qd_df.dropna()[\"img_path\"].nunique()\n",
    "stats[\"all_labelers_to_qd_nlabelers\"] = kpoint_qd_df.dropna()[\"labeler_segments\"].nunique()"
   ]
  },
  {
   "cell_type": "code",
   "execution_count": 108,
   "id": "9fe1460e-4532-47b1-9bb3-d94b09df46e4",
   "metadata": {},
   "outputs": [],
   "source": [
    "stats_fname = \"keypoint_errors_stats.toml\"\n",
    "with open(os.path.join(fig_dir, stats_fname), \"w\") as f:\n",
    "    toml.dump(stats, f)"
   ]
  },
  {
   "cell_type": "code",
   "execution_count": null,
   "id": "be23e1ac-ddab-4a1c-be08-e239d5c44285",
   "metadata": {},
   "outputs": [],
   "source": []
  },
  {
   "cell_type": "code",
   "execution_count": null,
   "id": "0f87760f-2671-49ae-843b-25b0a3b161af",
   "metadata": {},
   "outputs": [],
   "source": []
  }
 ],
 "metadata": {
  "kernelspec": {
   "display_name": "Python 3 (ipykernel)",
   "language": "python",
   "name": "python3"
  },
  "language_info": {
   "codemirror_mode": {
    "name": "ipython",
    "version": 3
   },
   "file_extension": ".py",
   "mimetype": "text/x-python",
   "name": "python",
   "nbconvert_exporter": "python",
   "pygments_lexer": "ipython3",
   "version": "3.10.0"
  }
 },
 "nbformat": 4,
 "nbformat_minor": 5
}
