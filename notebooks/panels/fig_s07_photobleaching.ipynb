{
 "cells": [
  {
   "cell_type": "code",
   "execution_count": 1,
   "id": "5f17da30-45c1-48dc-88ed-cb3c5371e855",
   "metadata": {
    "tags": []
   },
   "outputs": [],
   "source": [
    "%load_ext autoreload\n",
    "%autoreload 2\n",
    "%matplotlib inline"
   ]
  },
  {
   "cell_type": "code",
   "execution_count": 2,
   "id": "162f13f7-e252-4318-b9f3-f19e5fb8db40",
   "metadata": {
    "tags": []
   },
   "outputs": [],
   "source": [
    "import os\n",
    "import copy\n",
    "import cv2\n",
    "import glob\n",
    "import matplotlib.pyplot as plt\n",
    "import numpy as np\n",
    "import json\n",
    "import seaborn as sns\n",
    "import pandas as pd\n",
    "import toml\n",
    "import h5py\n",
    "from qd_analysis.fig import setup_plotting_env\n",
    "from markovids import vid"
   ]
  },
  {
   "cell_type": "code",
   "execution_count": 3,
   "id": "6cfd8942-e1f9-4b49-84d3-62b4156742ad",
   "metadata": {},
   "outputs": [],
   "source": [
    "config = toml.load(\"../preprocessing/config.toml\")\n",
    "fig_dir = config[\"dirs\"][\"figs\"]\n",
    "os.makedirs(fig_dir, exist_ok=True)\n",
    "vid_dir = \"/storage/home/hcoda1/4/jmarkowitz30/shared_folder/active_lab_members/markowitz_jeffrey/active_projects/quantum_dots/photobleaching_slides/session_20241021122909-449662 (system76-pc)/\""
   ]
  },
  {
   "cell_type": "code",
   "execution_count": 4,
   "id": "b35f5d58-e268-408e-8384-8e9015ad6d35",
   "metadata": {},
   "outputs": [],
   "source": [
    "avis = sorted(glob.glob(os.path.join(vid_dir, \"*.avi\")))"
   ]
  },
  {
   "cell_type": "code",
   "execution_count": 5,
   "id": "ad725b5b-e24d-4319-8a27-00d8bc3abc13",
   "metadata": {},
   "outputs": [],
   "source": [
    "use_file = avis[0]"
   ]
  },
  {
   "cell_type": "code",
   "execution_count": 6,
   "id": "fac1494c-80e6-4818-8cc5-efbf4867b810",
   "metadata": {},
   "outputs": [],
   "source": [
    "reader = vid.io.AutoReader(use_file)"
   ]
  },
  {
   "cell_type": "code",
   "execution_count": 7,
   "id": "39251546-c194-4070-958e-39abc9f8cb1c",
   "metadata": {},
   "outputs": [],
   "source": [
    "tstamps_file = os.path.splitext(use_file)[0] + \".txt\""
   ]
  },
  {
   "cell_type": "code",
   "execution_count": 8,
   "id": "4cf9e99d-5130-40d0-9bec-be8803842528",
   "metadata": {},
   "outputs": [],
   "source": [
    "tstamps = vid.io.read_timestamps(tstamps_file)"
   ]
  },
  {
   "cell_type": "code",
   "execution_count": 9,
   "id": "b8259cd4-2471-4c48-974f-9ec8f0e7624e",
   "metadata": {},
   "outputs": [],
   "source": [
    "zero_time = tstamps[\"system_timestamp\"].diff().cumsum()"
   ]
  },
  {
   "cell_type": "code",
   "execution_count": 10,
   "id": "7bfaaa54-82d7-45fc-a787-b0d1f7934468",
   "metadata": {},
   "outputs": [],
   "source": [
    "_test = reader.get_frames()"
   ]
  },
  {
   "cell_type": "code",
   "execution_count": 11,
   "id": "ec222222-a0e4-484c-a564-1344ad306278",
   "metadata": {},
   "outputs": [],
   "source": [
    "reader.close()"
   ]
  },
  {
   "cell_type": "code",
   "execution_count": 12,
   "id": "e6c66321-ce9f-4079-b10a-68c8dc0b6a94",
   "metadata": {},
   "outputs": [],
   "source": [
    "roi_y = slice(560,570)\n",
    "roi_x = slice(470,483)"
   ]
  },
  {
   "cell_type": "code",
   "execution_count": 13,
   "id": "cdd5a1cb-2d97-4a0c-9ee0-997dd9911eb3",
   "metadata": {},
   "outputs": [],
   "source": [
    "blank_y = slice(650,660)\n",
    "blank_x = slice(550,565)"
   ]
  },
  {
   "cell_type": "code",
   "execution_count": 15,
   "id": "98e203af-63a8-49e7-b69c-46c6dad3f876",
   "metadata": {},
   "outputs": [],
   "source": [
    "ctrl_trace = _test[1:,blank_y,blank_x].max(axis=(1,2))\n",
    "roi_trace = _test[1:,roi_y,roi_x].max(axis=(1,2))\n",
    "xvec = zero_time[1:] / 3600"
   ]
  },
  {
   "cell_type": "code",
   "execution_count": 16,
   "id": "6d6374b1-9097-43af-888f-b83477c72c53",
   "metadata": {},
   "outputs": [],
   "source": [
    "setup_plotting_env()"
   ]
  },
  {
   "cell_type": "code",
   "execution_count": 17,
   "id": "1916e9a0-2931-4732-a9b3-f99f3aaef57c",
   "metadata": {},
   "outputs": [],
   "source": [
    "_test_norm = _test.copy().astype(\"float32\")"
   ]
  },
  {
   "cell_type": "code",
   "execution_count": 18,
   "id": "9056c722-e7c1-407a-8c89-2e7f5196f037",
   "metadata": {},
   "outputs": [],
   "source": [
    "corrs = []\n",
    "for i in range(len(_test)):\n",
    "    corrs.append(np.abs(_test[i,roi_y,roi_x] - _test[-50:,roi_y,roi_x].mean(axis=0, keepdims=False)).mean())"
   ]
  },
  {
   "cell_type": "code",
   "execution_count": 19,
   "id": "dd7a0880-7574-4930-8c78-36f7598c2800",
   "metadata": {},
   "outputs": [
    {
     "data": {
      "image/png": "[encoded data removed]",
      "text/plain": [
       "<Figure size 200x200 with 2 Axes>"
      ]
     },
     "metadata": {},
     "output_type": "display_data"
    }
   ],
   "source": [
    "fig, ax = plt.subplots(2, 1, figsize=(2,2), sharex=True)\n",
    "ax[0].plot(xvec, roi_trace, color=\"r\", label=\"QD800.1\")\n",
    "ax[0].plot(xvec, ctrl_trace, color=\"k\", alpha=.5, label=\"Blank pixels\")\n",
    "ax[0].set_ylabel(\"Peak intensity\")\n",
    "ax[0].legend()\n",
    "ax[0].set_xticks([0,12,24])\n",
    "ax[1].plot(zero_time / 3600, pd.Series(corrs).rolling(50,1,True).mean())\n",
    "ax[1].set_ylim(0,15)\n",
    "ax[1].set_xlabel(\"Time (hours)\")\n",
    "ax[1].set_ylabel(\"Mean absolute error\")\n",
    "sns.despine(offset=5, trim=True)\n",
    "fig.savefig(os.path.join(fig_dir, \"qd_photobleaching.pdf\"), bbox_inches=\"tight\")"
   ]
  }
 ],
 "metadata": {
  "kernelspec": {
   "display_name": "Python 3 (ipykernel)",
   "language": "python",
   "name": "python3"
  },
  "language_info": {
   "codemirror_mode": {
    "name": "ipython",
    "version": 3
   },
   "file_extension": ".py",
   "mimetype": "text/x-python",
   "name": "python",
   "nbconvert_exporter": "python",
   "pygments_lexer": "ipython3",
   "version": "3.10.0"
  }
 },
 "nbformat": 4,
 "nbformat_minor": 5
}
