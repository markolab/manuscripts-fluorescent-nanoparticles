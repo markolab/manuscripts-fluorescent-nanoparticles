{
 "cells": [
  {
   "cell_type": "code",
   "execution_count": 1,
   "id": "6fdf449c-18e7-4dcc-a194-9de011757c91",
   "metadata": {
    "tags": []
   },
   "outputs": [],
   "source": [
    "%load_ext autoreload\n",
    "%autoreload 2\n",
    "%matplotlib inline"
   ]
  },
  {
   "cell_type": "code",
   "execution_count": 2,
   "id": "60cf61e8-2208-457d-a1d7-11fbef158858",
   "metadata": {
    "tags": []
   },
   "outputs": [],
   "source": [
    "import os\n",
    "import matplotlib.pyplot as plt\n",
    "import numpy as np\n",
    "import toml\n",
    "import seaborn as sns\n",
    "import pandas as pd\n",
    "\n",
    "from tqdm.auto import tqdm\n",
    "from qd_analysis.fig import setup_plotting_env\n",
    "from scipy.optimize import least_squares"
   ]
  },
  {
   "cell_type": "code",
   "execution_count": 3,
   "id": "8d27bdb8-cdf8-4e82-b65a-db8d096f420b",
   "metadata": {},
   "outputs": [],
   "source": [
    "def exp_decay(x, a, b, c):\n",
    "    return a * np.exp(-b * x) + c\n",
    "\n",
    "\n",
    "def power_law_decay(x, a, b, c):\n",
    "    return a / ((x + 1.0) ** b) + c\n",
    "\n",
    "\n",
    "def power_law_decay_inv(x, a, b, c):\n",
    "    return a * (1 - 1 / ((x + 1.0) ** b)) + c"
   ]
  },
  {
   "cell_type": "code",
   "execution_count": 4,
   "id": "fbf18163-1ad5-4121-98cc-506522054328",
   "metadata": {},
   "outputs": [],
   "source": [
    "def fit_curve_power_law(\n",
    "    vals,\n",
    "    x=\"nframes_train\",\n",
    "    y=\"test_dist.avg\",\n",
    "    bounds=([1e-6, 0.01, 1e-6, -np.inf], [1e6, 10, 100, np.inf]),\n",
    "    domain=(50, int(1e5)),\n",
    "    invert=False,\n",
    "    loss=\"linear\",\n",
    "    method=\"trf\",\n",
    "):\n",
    "    eval_points = np.arange(domain[0], domain[1], 100)\n",
    "    use_x, use_y = vals.index, vals.values\n",
    "    idx = (use_x >= domain[0]) & (use_x <= domain[1])\n",
    "    use_x = use_x[idx]\n",
    "    use_y = use_y[idx]\n",
    "\n",
    "    y_min = np.nanmin(use_y)\n",
    "    y_max = np.nanmax(use_y)\n",
    "\n",
    "    if invert:\n",
    "        x0_guess = [1.0, 0.05, 0.0]\n",
    "    else:\n",
    "        x0_guess = [1.0, 0.05, 0.0]\n",
    "    # Bounds: (min, max) for a, b, c\n",
    "    lower_bounds = [1e-6, 0.01, -1e2]\n",
    "    upper_bounds = [1e3, 1.0, 1e2]\n",
    "\n",
    "    # Residuals for least_squares\n",
    "    use_func = power_law_decay if not invert else power_law_decay_inv\n",
    "\n",
    "    def residuals(params, x, y):\n",
    "        a, b, c = params\n",
    "        return use_func(x, a, b, c) - y\n",
    "\n",
    "    result = least_squares(\n",
    "        residuals,\n",
    "        x0_guess,\n",
    "        args=(use_x, use_y),\n",
    "        bounds=(lower_bounds, upper_bounds),\n",
    "        method=method,\n",
    "        loss=loss,\n",
    "        f_scale=1.0,  # threshold for switching between L2 and L1\n",
    "    )\n",
    "    return (\n",
    "        eval_points,\n",
    "        use_func(eval_points, *result.x),\n",
    "        dict(\n",
    "            list(\n",
    "                zip(\n",
    "                    [\n",
    "                        \"a\",\n",
    "                        \"b\",\n",
    "                        \"c\",\n",
    "                    ],\n",
    "                    result.x,\n",
    "                )\n",
    "            )\n",
    "        ),\n",
    "    )"
   ]
  },
  {
   "cell_type": "markdown",
   "id": "8ef1d3ae-b688-4c60-bdb0-a9aad4e7ca1b",
   "metadata": {},
   "source": [
    "# Parse grid search"
   ]
  },
  {
   "cell_type": "markdown",
   "id": "c53afbee-357b-4b5f-b1c4-39f0dfbf573b",
   "metadata": {},
   "source": [
    "1. TODO: need to check mAP test/train to see how robust learning is\n",
    "2. TODO: match 1 with overall performance (maybe equal weighting after normalize?)"
   ]
  },
  {
   "cell_type": "code",
   "execution_count": 5,
   "id": "4a1ecd3b-0d4c-4c92-9417-412cf0f892de",
   "metadata": {},
   "outputs": [],
   "source": [
    "config = toml.load(\"../preprocessing/config.toml\")\n",
    "save_file = os.path.join(config[\"dirs\"][\"data\"], \"dataframes/sleap_metrics_qd_training.parquet\")\n",
    "\n",
    "fig_dir = config[\"dirs\"][\"figs\"]\n",
    "os.makedirs(fig_dir, exist_ok=True)"
   ]
  },
  {
   "cell_type": "code",
   "execution_count": 6,
   "id": "d21b8950-9df3-4dd3-9471-ebc3585499a9",
   "metadata": {},
   "outputs": [],
   "source": [
    "df = pd.read_parquet(save_file)"
   ]
  },
  {
   "cell_type": "code",
   "execution_count": 7,
   "id": "4fd1dd27-714b-4083-b58e-c3aba53a960f",
   "metadata": {
    "tags": []
   },
   "outputs": [],
   "source": [
    "use_y = \"test_dist.avg\"\n",
    "domain = (50, 2e5)"
   ]
  },
  {
   "cell_type": "code",
   "execution_count": 8,
   "id": "fea02fe1-9694-4d91-9d61-29e6554c150d",
   "metadata": {},
   "outputs": [],
   "source": [
    "# save off results so we're not waiting!"
   ]
  },
  {
   "cell_type": "code",
   "execution_count": 9,
   "id": "586c29a9-0a92-41de-8e14-aa226bbe1458",
   "metadata": {
    "tags": []
   },
   "outputs": [
    {
     "data": {
      "application/vnd.jupyter.widget-view+json": {
       "model_id": "2af14bf95e1045948adda623ed11defb",
       "version_major": 2,
       "version_minor": 0
      },
      "text/plain": [
       "  0%|          | 0/1000 [00:00<?, ?it/s]"
      ]
     },
     "metadata": {},
     "output_type": "display_data"
    }
   ],
   "source": [
    "# repeat this 1000 times\n",
    "fits = []\n",
    "dfs = []\n",
    "nboots = 1000\n",
    "for _boot in tqdm(range(nboots)):\n",
    "    boot_fit = (\n",
    "        df.set_index(\"nframes_train\")\n",
    "        .groupby([\"is_joint\", \"condition\"])[use_y]\n",
    "        .apply(\n",
    "            lambda x: fit_curve_power_law(\n",
    "                x.sample(len(x), replace=True),\n",
    "                y=use_y,\n",
    "                domain=domain,\n",
    "            ),\n",
    "            include_groups=False,\n",
    "        )\n",
    "    )\n",
    "    for (is_joint, condition), (eval_points, fit, parameters) in boot_fit.items():\n",
    "        _df = pd.DataFrame()\n",
    "        _df[\"eval_points\"] = eval_points\n",
    "        _df[\"fit\"] = fit\n",
    "        _df[\"is_joint\"] = is_joint\n",
    "        _df[\"condition\"] = condition\n",
    "        _df[\"nboot\"] = _boot\n",
    "        for k, v in parameters.items():\n",
    "            _df[f\"parameters.{k}\"] = v\n",
    "        dfs.append(_df)\n",
    "\n",
    "boot_df = pd.concat(dfs)"
   ]
  },
  {
   "cell_type": "code",
   "execution_count": 10,
   "id": "feb40dba-564c-4940-8aa7-2f4919aad0a1",
   "metadata": {},
   "outputs": [],
   "source": [
    "def get_threshold_crossing(x, threshold=4.9):\n",
    "    idx = x[x <= threshold].index\n",
    "    try:\n",
    "        return min(idx)\n",
    "    except ValueError:\n",
    "        return np.nan"
   ]
  },
  {
   "cell_type": "code",
   "execution_count": 11,
   "id": "499b51ae-0644-45c5-b8c1-ef3044338615",
   "metadata": {},
   "outputs": [],
   "source": [
    "# thresholds = [6.12, 4.9, 2.45] # 2.5, 2, 1\n",
    "thresholds = [4.9, 2.45]"
   ]
  },
  {
   "cell_type": "code",
   "execution_count": 12,
   "id": "bda4b404-54f4-4bd8-b86b-dc0643e8adc5",
   "metadata": {},
   "outputs": [],
   "source": [
    "threshold_dict = {}\n",
    "for _threshold in thresholds:\n",
    "    threshold_crossings = boot_df.groupby([\"is_joint\", \"condition\", \"nboot\"]).apply(\n",
    "        lambda x: get_threshold_crossing(x.set_index(\"eval_points\")[\"fit\"], threshold=_threshold), include_groups=False\n",
    "    )\n",
    "    med_crossings = threshold_crossings.groupby([\"is_joint\",\"condition\"]).median()\n",
    "    key = str(_threshold)\n",
    "    threshold_dict[key] = {}\n",
    "    threshold_dict[key][\"standard\"] = med_crossings.loc[False].to_dict()\n",
    "    threshold_dict[key][\"kneejoints\"] = med_crossings.loc[True].to_dict() "
   ]
  },
  {
   "cell_type": "code",
   "execution_count": 13,
   "id": "0f415d82-598a-4b2f-924e-189f7773a4db",
   "metadata": {},
   "outputs": [],
   "source": [
    "with open(os.path.join(fig_dir, \"autolabel_threshold_crossings.toml\"), \"w\") as f:\n",
    "    toml.dump(threshold_dict, f)"
   ]
  },
  {
   "cell_type": "code",
   "execution_count": 14,
   "id": "1a6a1626-b768-40b6-9afa-2e4fd6854477",
   "metadata": {},
   "outputs": [
    {
     "name": "stdout",
     "output_type": "stream",
     "text": [
      "{'4.9': {'standard': {'all': 850.0, 'different': 18950.0, 'same': 450.0}, 'kneejoints': {'all': 350.0, 'different': 3250.0, 'same': 250.0}}, '2.45': {'standard': {'all': 88350.0, 'different': nan, 'same': 26350.0}, 'kneejoints': {'all': nan, 'different': nan, 'same': 47550.0}}}\n"
     ]
    }
   ],
   "source": [
    "print(threshold_dict)"
   ]
  },
  {
   "cell_type": "code",
   "execution_count": 15,
   "id": "270526bd-f7ce-4707-bf65-9ddb59f39916",
   "metadata": {},
   "outputs": [],
   "source": [
    "linestyles = [\"--\", \":\"]\n",
    "magnification = 0.008 / 0.3048  # focal length / object distance\n",
    "pixelsize = 5.5e-6\n",
    "nyquist_limit = pixelsize / magnification * 2.3 * 1e3  # convert to mm\n",
    "mm_per_px = 0.4086988622772185  # at 12 inches away\n",
    "theoretical_limit = nyquist_limit / mm_per_px"
   ]
  },
  {
   "cell_type": "code",
   "execution_count": 16,
   "id": "28bac9cf-ab92-4d0e-b3cf-28863e75e681",
   "metadata": {},
   "outputs": [],
   "source": [
    "setup_plotting_env()"
   ]
  },
  {
   "cell_type": "code",
   "execution_count": 17,
   "id": "f97a4b1b-05d6-4898-811c-aee4a0c08c86",
   "metadata": {},
   "outputs": [],
   "source": [
    "ylims = {True: (1., 10),\n",
    "         False: (1., 100)}"
   ]
  },
  {
   "cell_type": "code",
   "execution_count": 18,
   "id": "a7f397a3-c0ec-4612-bf4a-9f4271ba518e",
   "metadata": {},
   "outputs": [
    {
     "data": {
      "text/html": [
       "<svg  width=\"550\" height=\"55\"><rect x=\"0\" y=\"0\" width=\"55\" height=\"55\" style=\"fill:#1f77b4;stroke-width:2;stroke:rgb(255,255,255)\"/><rect x=\"55\" y=\"0\" width=\"55\" height=\"55\" style=\"fill:#ff7f0e;stroke-width:2;stroke:rgb(255,255,255)\"/><rect x=\"110\" y=\"0\" width=\"55\" height=\"55\" style=\"fill:#2ca02c;stroke-width:2;stroke:rgb(255,255,255)\"/><rect x=\"165\" y=\"0\" width=\"55\" height=\"55\" style=\"fill:#d62728;stroke-width:2;stroke:rgb(255,255,255)\"/><rect x=\"220\" y=\"0\" width=\"55\" height=\"55\" style=\"fill:#9467bd;stroke-width:2;stroke:rgb(255,255,255)\"/><rect x=\"275\" y=\"0\" width=\"55\" height=\"55\" style=\"fill:#8c564b;stroke-width:2;stroke:rgb(255,255,255)\"/><rect x=\"330\" y=\"0\" width=\"55\" height=\"55\" style=\"fill:#e377c2;stroke-width:2;stroke:rgb(255,255,255)\"/><rect x=\"385\" y=\"0\" width=\"55\" height=\"55\" style=\"fill:#7f7f7f;stroke-width:2;stroke:rgb(255,255,255)\"/><rect x=\"440\" y=\"0\" width=\"55\" height=\"55\" style=\"fill:#bcbd22;stroke-width:2;stroke:rgb(255,255,255)\"/><rect x=\"495\" y=\"0\" width=\"55\" height=\"55\" style=\"fill:#17becf;stroke-width:2;stroke:rgb(255,255,255)\"/></svg>"
      ],
      "text/plain": [
       "[(0.12156862745098039, 0.4666666666666667, 0.7058823529411765),\n",
       " (1.0, 0.4980392156862745, 0.054901960784313725),\n",
       " (0.17254901960784313, 0.6274509803921569, 0.17254901960784313),\n",
       " (0.8392156862745098, 0.15294117647058825, 0.1568627450980392),\n",
       " (0.5803921568627451, 0.403921568627451, 0.7411764705882353),\n",
       " (0.5490196078431373, 0.33725490196078434, 0.29411764705882354),\n",
       " (0.8901960784313725, 0.4666666666666667, 0.7607843137254902),\n",
       " (0.4980392156862745, 0.4980392156862745, 0.4980392156862745),\n",
       " (0.7372549019607844, 0.7411764705882353, 0.13333333333333333),\n",
       " (0.09019607843137255, 0.7450980392156863, 0.8117647058823529)]"
      ]
     },
     "execution_count": 18,
     "metadata": {},
     "output_type": "execute_result"
    }
   ],
   "source": [
    "sns.color_palette(\"tab10\")"
   ]
  },
  {
   "cell_type": "code",
   "execution_count": 19,
   "id": "f29a379c-2ad0-43c5-9eba-11f185e60863",
   "metadata": {},
   "outputs": [],
   "source": [
    "colors = {\n",
    "    \"same\": \"tab:green\",\n",
    "    \"all\": \"tab:blue\",\n",
    "    \"different\": \"tab:orange\",\n",
    "}"
   ]
  },
  {
   "cell_type": "code",
   "execution_count": 20,
   "id": "b6de63a5-6a77-420b-9abe-857f7e834518",
   "metadata": {},
   "outputs": [
    {
     "data": {
      "image/png": "[encoded data removed]",
      "text/plain": [
       "<Figure size 400x230 with 2 Axes>"
      ]
     },
     "metadata": {},
     "output_type": "display_data"
    }
   ],
   "source": [
    "fig, ax = plt.subplots(1, 2, figsize=(4.0, 2.3), sharex=True, sharey=False)\n",
    "for _is_joint, _ax in zip([False, True], ax):\n",
    "\n",
    "    sns.lineplot(\n",
    "        boot_df.query(\"is_joint == @_is_joint\"),\n",
    "        x=\"eval_points\",\n",
    "        y=\"fit\",\n",
    "        errorbar=(\"pi\", 95),\n",
    "        palette=colors,\n",
    "        hue_order=list(colors.keys()),\n",
    "        hue=\"condition\",\n",
    "        legend=False,\n",
    "        ax=_ax,\n",
    "    )\n",
    "\n",
    "    sns.scatterplot(\n",
    "        df.query(\"is_joint == @_is_joint and nframes_train.between(50,1e5)\"),\n",
    "        x=\"nframes_train\",\n",
    "        y=use_y,\n",
    "        hue=\"condition\",\n",
    "        hue_order=list(colors.keys()),\n",
    "        palette=colors,\n",
    "        alpha=0.6,\n",
    "        clip_on=False,\n",
    "        ec=\"none\",\n",
    "        legend=False,\n",
    "        lw=0,\n",
    "        s=12,\n",
    "        ax=_ax,\n",
    "    )\n",
    "\n",
    "    fit_lines = list(_ax.lines)\n",
    "    fit_labels = list(colors.keys())\n",
    "    for _threshold, _ls in zip(thresholds, linestyles):\n",
    "        l = _ax.axhline(y=_threshold, zorder=-500, color=\"k\", ls=_ls, alpha=0.5, label=\"thresh\")\n",
    "        fit_lines.append(l)\n",
    "        fit_labels.append(\"thresh\")\n",
    "    l = _ax.axhline(y=theoretical_limit, zorder=-500, color=\"m\", ls=\"-\", alpha=1.0, label=\"theory\")\n",
    "    fit_lines.append(l)\n",
    "    fit_labels.append(\"theory\")\n",
    "\n",
    "_ax.legend(handles=fit_lines, labels=fit_labels, bbox_to_anchor=(1.05, 0.5))\n",
    "\n",
    "for _is_joint, _ax in zip([False, True], ax):\n",
    "    _ax.set_xscale(\"log\")\n",
    "    _ax.set_yscale(\"log\")\n",
    "    _ax.set_ylim(*ylims[_is_joint])\n",
    "    _ax.set_xlabel(\"\")\n",
    "    _ax.set_ylabel(\"Avg. heldout pixel error\")\n",
    "    _ax.set_xlabel(\"N(training frames)\")\n",
    "fig.tight_layout()\n",
    "sns.despine(offset=5, trim=False)\n",
    "fig.savefig(os.path.join(fig_dir, \"autolabel_keypoint_tracker_pixelerror.pdf\"), bbox_inches=\"tight\", dpi=600)"
   ]
  },
  {
   "cell_type": "markdown",
   "id": "efef171e-54ef-4856-9ddf-9c7d8b736ee1",
   "metadata": {},
   "source": [
    "# Body parts"
   ]
  },
  {
   "cell_type": "code",
   "execution_count": 21,
   "id": "3a2e71bd-09d1-4dcb-84da-e5ed2d2c75ba",
   "metadata": {},
   "outputs": [],
   "source": [
    "body_parts_cols = df.query(\"~is_joint\").filter(regex=\"test_dist.parts\").dropna(axis=1).columns\n",
    "body_parts = [_part.split(\".\")[-1] for _part in body_parts_cols]"
   ]
  },
  {
   "cell_type": "code",
   "execution_count": 22,
   "id": "0e8199e1-94e3-485a-8cd1-dc7a09321c56",
   "metadata": {},
   "outputs": [
    {
     "data": {
      "text/plain": [
       "'/storage/home/hcoda1/4/jmarkowitz30/shared_folder/active_lab_members/markowitz_jeffrey/active_projects/keypoints_basler_nir_plexiglass_arena/sleap_training_round2/keypoints_from_qds_all_cameras_kneejoints_v3/models/unet_filters-64_max_stride-64_training_labels-kpoint_training_dataset_qd_alignment_kneejoints_reflect_only_round2_manual_labeling_nofluo_version-v1-embed-False.slp_training_subsample-60_repeat-0.single_instance/initial_config.json'"
      ]
     },
     "execution_count": 22,
     "metadata": {},
     "output_type": "execute_result"
    }
   ],
   "source": [
    "df[\"filename\"].iat[0]"
   ]
  },
  {
   "cell_type": "code",
   "execution_count": 23,
   "id": "1e2f45e6-07aa-41e3-990d-de05bef8030f",
   "metadata": {},
   "outputs": [
    {
     "data": {
      "text/plain": [
       "test_dist.parts.foreleg_L      8.052452\n",
       "test_dist.parts.foreleg_R      6.977166\n",
       "test_dist.parts.hindleg_L      4.502418\n",
       "test_dist.parts.hindleg_R      4.320263\n",
       "test_dist.parts.back_top       3.833876\n",
       "test_dist.parts.back_middle    4.377209\n",
       "test_dist.parts.back_bottom    4.193759\n",
       "test_dist.parts.tail_base      3.519257\n",
       "test_dist.parts.tail_middle    5.899094\n",
       "test_dist.parts.tail_tip       4.744229\n",
       "dtype: float64"
      ]
     },
     "execution_count": 23,
     "metadata": {},
     "output_type": "execute_result"
    }
   ],
   "source": [
    "df.query(\"condition == 'all' and nframes_train == 1000\").groupby([\"nframes_train\",\"filename\"])[body_parts_cols].mean().mean()"
   ]
  },
  {
   "cell_type": "code",
   "execution_count": 24,
   "id": "1d5d9b26-741d-4be7-a077-a7d2592afaa0",
   "metadata": {},
   "outputs": [
    {
     "data": {
      "application/vnd.jupyter.widget-view+json": {
       "model_id": "a925e601a01444a6a941a656502db89f",
       "version_major": 2,
       "version_minor": 0
      },
      "text/plain": [
       "  0%|          | 0/1000 [00:00<?, ?it/s]"
      ]
     },
     "metadata": {},
     "output_type": "display_data"
    }
   ],
   "source": [
    "# repeat this 1000 times\n",
    "fits = []\n",
    "dfs = []\n",
    "nboots = 1000\n",
    "for _boot in tqdm(range(nboots)):\n",
    "    boot_fit = (\n",
    "        df.dropna(subset=body_parts_cols).set_index(\"nframes_train\").groupby([\"is_joint\",\"condition\"])[body_parts_cols].agg(\n",
    "            lambda x: fit_curve_power_law(\n",
    "                x.sample(len(x), replace=True),\n",
    "                y=use_y,\n",
    "                domain=domain,\n",
    "            ),\n",
    "            # include_groups=False,\n",
    "        )\n",
    "    )\n",
    "    for (col, body_part) in zip(body_parts_cols, body_parts):\n",
    "        for (is_joint, condition), (eval_points, fit, parameters) in boot_fit[col].items():\n",
    "            _df = pd.DataFrame()\n",
    "            _df[\"eval_points\"] = eval_points\n",
    "            _df[\"fit\"] = fit\n",
    "            _df[\"is_joint\"] = is_joint\n",
    "            _df[\"condition\"] = condition\n",
    "            _df[\"nboot\"] = _boot\n",
    "            _df[\"kpoint\"] = body_part\n",
    "            for k, v in parameters.items():\n",
    "                _df[f\"parameters.{k}\"] = v\n",
    "            dfs.append(_df)"
   ]
  },
  {
   "cell_type": "code",
   "execution_count": 25,
   "id": "cc7feb59-1eb8-420e-a9da-ede863c9f5ee",
   "metadata": {},
   "outputs": [],
   "source": [
    "boot_df_kpoints = pd.concat(dfs)"
   ]
  },
  {
   "cell_type": "code",
   "execution_count": 26,
   "id": "54c5b73c-796a-4101-8c2b-9d756f24f483",
   "metadata": {},
   "outputs": [],
   "source": [
    "plt_points = df.set_index([\"is_joint\", \"condition\", \"nframes_train\"])[body_parts_cols]\n",
    "plt_points.columns = body_parts\n",
    "plt_points = plt_points.melt(ignore_index=False, var_name=\"kpoint\").reset_index()"
   ]
  },
  {
   "cell_type": "code",
   "execution_count": null,
   "id": "8b88c6e9-6b85-468c-9dfa-189125cb91d4",
   "metadata": {},
   "outputs": [],
   "source": []
  },
  {
   "cell_type": "code",
   "execution_count": 27,
   "id": "927a260c-77b1-4035-91ef-1ac7967378a8",
   "metadata": {},
   "outputs": [],
   "source": [
    "kpoint_aliases = {\n",
    "    \"foreleg_L\": \"Left forepaw\",\n",
    "    \"foreleg_R\": \"Right forepaw\",\n",
    "    \"hindleg_L\": \"Left hindpaw\",\n",
    "    \"hindleg_R\": \"Right hindpaw\",\n",
    "    \"tail_tip\": \"Tail tip\",\n",
    "    \"tail_middle\": \"Tail middle\",\n",
    "    \"tail_base\": \"Tail base\",\n",
    "    \"back_bottom\": \"Back bottom\",\n",
    "    \"back_middle\": \"Back middle\",\n",
    "    \"back_top\": \"Back top\",\n",
    "}"
   ]
  },
  {
   "cell_type": "code",
   "execution_count": 28,
   "id": "aca0cebd-df85-4195-8b80-126b391562e0",
   "metadata": {},
   "outputs": [],
   "source": [
    "boot_df_kpoints[\"kpoint_alias\"] = boot_df_kpoints[\"kpoint\"].map(kpoint_aliases)\n",
    "plt_points[\"kpoint_alias\"] = plt_points[\"kpoint\"].map(kpoint_aliases)\n"
   ]
  },
  {
   "cell_type": "code",
   "execution_count": 29,
   "id": "161afee3-3760-4d85-a731-99e6a63b47b9",
   "metadata": {},
   "outputs": [],
   "source": [
    "hue_order = list(kpoint_aliases.values())"
   ]
  },
  {
   "cell_type": "code",
   "execution_count": 30,
   "id": "6c56b093-347e-44f7-9f64-d18c1c835e04",
   "metadata": {},
   "outputs": [],
   "source": [
    "conditions = [\"different\", \"same\", \"all\"]"
   ]
  },
  {
   "cell_type": "code",
   "execution_count": 31,
   "id": "f7c8361c-8c18-4b6f-a170-6c4a1137c67f",
   "metadata": {},
   "outputs": [
    {
     "name": "stderr",
     "output_type": "stream",
     "text": [
      "/tmp/ipykernel_243248/2551484588.py:45: UserWarning: Mismatched number of handles and labels: len(handles) = 13 len(labels) = 19\n",
      "  ax[-1].legend(handles=fit_lines, labels=fit_labels, bbox_to_anchor=(1.05, 1.0))\n"
     ]
    },
    {
     "data": {
      "image/png": "[encoded data removed]",
      "text/plain": [
       "<Figure size 475x180 with 3 Axes>"
      ]
     },
     "metadata": {},
     "output_type": "display_data"
    }
   ],
   "source": [
    "fig, ax = plt.subplots(1, 3, figsize=(4.75, 1.8), sharex=True, sharey=True)\n",
    "for _ax, _condition in zip(ax, conditions):\n",
    "    sns.lineplot(\n",
    "        boot_df_kpoints.query(\"~is_joint and condition == @_condition\"),\n",
    "        x=\"eval_points\",\n",
    "        y=\"fit\",\n",
    "        errorbar=(\"pi\", 95),\n",
    "        err_kws={\"alpha\": 0.5},\n",
    "        palette=\"colorblind\",\n",
    "        hue_order=hue_order,\n",
    "        legend=False,\n",
    "        hue=\"kpoint_alias\",\n",
    "        ax=_ax,\n",
    "    )\n",
    "    sns.scatterplot(\n",
    "        plt_points.query(\"~is_joint and condition == @_condition\"),\n",
    "        x=\"nframes_train\",\n",
    "        y=\"value\",\n",
    "        hue=\"kpoint_alias\",\n",
    "        hue_order=hue_order,\n",
    "        palette=\"colorblind\",\n",
    "        alpha=0.6,\n",
    "        clip_on=False,\n",
    "        ec=\"none\",\n",
    "        legend=False,\n",
    "        lw=0,\n",
    "        s=12,\n",
    "        ax=_ax,\n",
    "    )\n",
    "\n",
    "    fit_lines = list(_ax.lines)\n",
    "    fit_labels = hue_order\n",
    "    for _threshold, _ls in zip(thresholds, linestyles):\n",
    "        l = _ax.axhline(y=_threshold, zorder=-500, color=\"k\", ls=_ls, alpha=0.5, label=\"thresh\")\n",
    "        fit_lines.append(l)\n",
    "        fit_labels.append(\"thresh\")\n",
    "    l = _ax.axhline(y=theoretical_limit, zorder=-500, color=\"m\", ls=\"-\", alpha=1.0, label=\"theory\")\n",
    "    fit_lines.append(l)\n",
    "    fit_labels.append(\"theory\")\n",
    "    _ax.set_title(_condition)\n",
    "    _ax.set_xlabel(\"\")\n",
    "    _ax.set_ylabel(\"\")\n",
    "\n",
    "ax[0].set_ylabel(\"Avg. heldout pixel error\")\n",
    "ax[-1].legend(handles=fit_lines, labels=fit_labels, bbox_to_anchor=(1.05, 1.0))\n",
    "ax[0].set_xscale(\"log\")\n",
    "ax[0].set_yscale(\"log\")\n",
    "fig.supxlabel(\"N(training frames)\", fontsize=7, x=0.5, ha=\"center\", y=-0.05)\n",
    "fig.savefig(\n",
    "    os.path.join(fig_dir, \"autolabel_keypoint_tracker_pixelerror_perbodypart.pdf\"), bbox_inches=\"tight\", dpi=600\n",
    ")"
   ]
  },
  {
   "cell_type": "markdown",
   "id": "b4aeb2ff-088f-44b7-a4f5-03804fdab25e",
   "metadata": {},
   "source": [
    "# Other metrics"
   ]
  },
  {
   "cell_type": "code",
   "execution_count": 32,
   "id": "285e4e40-830e-40db-a5f7-74065db4a1c2",
   "metadata": {},
   "outputs": [],
   "source": [
    "metric_cols = [\"test_vis.precision\", \"test_vis.recall\", \"test_oks.mOKS\"]\n",
    "metric_names = [\"precision\", \"recall\", \"oks\"]"
   ]
  },
  {
   "cell_type": "code",
   "execution_count": 33,
   "id": "e8271285-d0c1-4dd2-9a23-2dd93371ac99",
   "metadata": {},
   "outputs": [
    {
     "data": {
      "application/vnd.jupyter.widget-view+json": {
       "model_id": "00845572837341da87302fc3b551861c",
       "version_major": 2,
       "version_minor": 0
      },
      "text/plain": [
       "  0%|          | 0/1000 [00:00<?, ?it/s]"
      ]
     },
     "metadata": {},
     "output_type": "display_data"
    }
   ],
   "source": [
    "# repeat this 1000 times\n",
    "fits = []\n",
    "dfs = []\n",
    "nboots = 1000\n",
    "for _boot in tqdm(range(nboots)):\n",
    "    boot_fit = (\n",
    "        df.dropna(subset=metric_cols).set_index(\"nframes_train\").groupby([\"is_joint\",\"condition\"])[metric_cols].agg(\n",
    "            lambda x: fit_curve_power_law(\n",
    "                x.sample(len(x), replace=True),\n",
    "                y=use_y,\n",
    "                invert=True,\n",
    "                domain=domain,\n",
    "            ),\n",
    "            # include_groups=False,\n",
    "        )\n",
    "    )\n",
    "    for (metric, name) in zip(metric_cols, metric_names):\n",
    "        for (is_joint, condition), (eval_points, fit, parameters) in boot_fit[metric].items():\n",
    "            _df = pd.DataFrame()\n",
    "            _df[\"eval_points\"] = eval_points\n",
    "            _df[\"fit\"] = fit\n",
    "            _df[\"is_joint\"] = is_joint\n",
    "            _df[\"condition\"] = condition\n",
    "            _df[\"nboot\"] = _boot\n",
    "            _df[\"metric\"] = name \n",
    "            for k, v in parameters.items():\n",
    "                _df[f\"parameters.{k}\"] = v\n",
    "            dfs.append(_df)"
   ]
  },
  {
   "cell_type": "code",
   "execution_count": 34,
   "id": "5a4efe86-bd1f-4d1b-a3fa-e28580d2a7d4",
   "metadata": {},
   "outputs": [],
   "source": [
    "boot_df_other_metrics = pd.concat(dfs)"
   ]
  },
  {
   "cell_type": "code",
   "execution_count": 35,
   "id": "03d3bdce-b9ef-4156-8843-df868b577eaf",
   "metadata": {},
   "outputs": [],
   "source": [
    "metrics = boot_df_other_metrics[\"metric\"].unique()"
   ]
  },
  {
   "cell_type": "code",
   "execution_count": 36,
   "id": "010181d6-9739-41c6-bfd7-49d4a54705c1",
   "metadata": {},
   "outputs": [],
   "source": [
    "plt_points = df.set_index([\"is_joint\", \"condition\", \"nframes_train\"])[metric_cols]\n",
    "plt_points.columns = metric_names\n",
    "plt_points = plt_points.melt(ignore_index=False, var_name=\"metric\").reset_index()"
   ]
  },
  {
   "cell_type": "code",
   "execution_count": 37,
   "id": "6fb321cb-81b2-43b6-8e81-d5a5259805f1",
   "metadata": {},
   "outputs": [
    {
     "data": {
      "image/png": "[encoded data removed]",
      "text/plain": [
       "<Figure size 230x350 with 3 Axes>"
      ]
     },
     "metadata": {},
     "output_type": "display_data"
    }
   ],
   "source": [
    "fig, ax = plt.subplots(3, 1, figsize=(2.3, 3.5), sharey=False, sharex=True)\n",
    "for _metric, _ax in zip(metrics, ax):\n",
    "    sns.lineplot(\n",
    "        boot_df_other_metrics.query(\"~is_joint and metric == @_metric\"),\n",
    "        x=\"eval_points\",\n",
    "        y=\"fit\",\n",
    "        errorbar=(\"pi\", 95),\n",
    "        palette=colors,\n",
    "        hue=\"condition\",\n",
    "        hue_order=list(colors.keys()),\n",
    "        legend=False,\n",
    "        ax=_ax,\n",
    "    )\n",
    "    sns.scatterplot(\n",
    "        plt_points.query(\"~is_joint and metric == @_metric\"),\n",
    "        x=\"nframes_train\",\n",
    "        y=\"value\",\n",
    "        hue=\"condition\",\n",
    "        palette=colors,\n",
    "        hue_order=list(colors.keys()),\n",
    "        alpha=0.6,\n",
    "        clip_on=False,\n",
    "        ec=\"none\",\n",
    "        legend=False,\n",
    "        lw=0,\n",
    "        s=12,\n",
    "        ax=_ax,\n",
    "    )\n",
    "    _ax.set_ylabel(_metric)\n",
    "    _ax.set_xlabel(\"\")\n",
    "ax[-1].set_xscale(\"log\")\n",
    "fit_lines = list(ax[-1].lines)\n",
    "ax[-1].legend(handles=fit_lines, labels=list(colors.keys()), bbox_to_anchor=(1.05,1.))\n",
    "ax[-1].set_xlabel(\"N(training frames)\")\n",
    "fig.tight_layout()\n",
    "fig.savefig(os.path.join(fig_dir, \"autolabel_keypoint_tracker_othermetrics.pdf\"), bbox_inches=\"tight\", dpi=600)"
   ]
  },
  {
   "cell_type": "code",
   "execution_count": null,
   "id": "83c66591-697a-4594-8648-789a7288ec69",
   "metadata": {},
   "outputs": [],
   "source": []
  },
  {
   "cell_type": "code",
   "execution_count": null,
   "id": "3b4a5f18-bfad-46c3-8c5e-2b78d222f19b",
   "metadata": {},
   "outputs": [],
   "source": []
  }
 ],
 "metadata": {
  "kernelspec": {
   "display_name": "Python 3 (ipykernel)",
   "language": "python",
   "name": "python3"
  },
  "language_info": {
   "codemirror_mode": {
    "name": "ipython",
    "version": 3
   },
   "file_extension": ".py",
   "mimetype": "text/x-python",
   "name": "python",
   "nbconvert_exporter": "python",
   "pygments_lexer": "ipython3",
   "version": "3.10.0"
  }
 },
 "nbformat": 4,
 "nbformat_minor": 5
}
