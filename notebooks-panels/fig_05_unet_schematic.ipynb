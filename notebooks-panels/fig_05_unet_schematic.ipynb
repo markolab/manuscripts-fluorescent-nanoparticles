{
 "cells": [
  {
   "cell_type": "code",
   "execution_count": 3,
   "id": "5f17da30-45c1-48dc-88ed-cb3c5371e855",
   "metadata": {
    "tags": []
   },
   "outputs": [],
   "source": [
    "%load_ext autoreload\n",
    "%autoreload 2\n",
    "%matplotlib inline"
   ]
  },
  {
   "cell_type": "code",
   "execution_count": 4,
   "id": "2bb4d11f-4b33-493a-b19c-5147a781fa2a",
   "metadata": {},
   "outputs": [],
   "source": [
    "# import sleap, get confidence maps on some nice data, etc..."
   ]
  },
  {
   "cell_type": "code",
   "execution_count": 5,
   "id": "32ebef63-7529-4361-8cf1-0a4bfb076968",
   "metadata": {
    "tags": []
   },
   "outputs": [
    {
     "name": "stderr",
     "output_type": "stream",
     "text": [
      "2024-06-28 15:31:02.981423: W tensorflow/stream_executor/platform/default/dso_loader.cc:64] Could not load dynamic library 'libcudart.so.11.0'; dlerror: libcudart.so.11.0: cannot open shared object file: No such file or directory; LD_LIBRARY_PATH: /home/jmarkow/miniconda3/envs/sleap-analysis/lib/python3.10/site-packages/cv2/../../lib64:\n",
      "2024-06-28 15:31:02.981451: I tensorflow/stream_executor/cuda/cudart_stub.cc:29] Ignore above cudart dlerror if you do not have a GPU set up on your machine.\n"
     ]
    }
   ],
   "source": [
    "import os\n",
    "import io\n",
    "import copy\n",
    "import cv2\n",
    "import glob\n",
    "import matplotlib.pyplot as plt\n",
    "import numpy as np\n",
    "import seaborn as sns\n",
    "import pandas as pd\n",
    "import sleap\n",
    "import toml\n",
    "import h5py\n",
    "from markovids import vid"
   ]
  },
  {
   "cell_type": "code",
   "execution_count": 6,
   "id": "9383167d-0120-47be-8ecb-16fbbe985aa7",
   "metadata": {},
   "outputs": [],
   "source": [
    "save_dir = \"/mnt/data/jmarkow/panels/2024-06 (QD paper)\""
   ]
  },
  {
   "cell_type": "code",
   "execution_count": 7,
   "id": "e85ee89f-bcde-4af0-a5d5-1b05ac816348",
   "metadata": {},
   "outputs": [],
   "source": [
    "fused_model = \"/home/jmarkow/data_dir/active_projects/keypoints_basler_nir_plexiglass_arena/sleap_training/gridsearch_fused_02/models/unet_filters_rate-1.75_training_labels-train_frames_fused_weights-(0.9, 0.1)_bpass-None.slp_repeat-0.single_instance/\""
   ]
  },
  {
   "cell_type": "code",
   "execution_count": 8,
   "id": "a6791105-4b8e-49bd-a3c2-219ea3cff1fc",
   "metadata": {},
   "outputs": [],
   "source": [
    "avi_dir = \"/home/jmarkow/data_dir/active_projects/keypoints_basler_nir_plexiglass_arena/keypoint_inference_export_fused_weights-(0.9, 0.1)_bpass-None\""
   ]
  },
  {
   "cell_type": "code",
   "execution_count": 9,
   "id": "ccc5bd60-2dcb-4f69-84f6-2ae81fb92a62",
   "metadata": {},
   "outputs": [],
   "source": [
    "avis = sorted(glob.glob(os.path.join(avi_dir, \"*.avi\")))"
   ]
  },
  {
   "cell_type": "code",
   "execution_count": 10,
   "id": "5af6c7a4-a381-4d2e-977b-0091e3feeba8",
   "metadata": {},
   "outputs": [],
   "source": [
    "use_file = avis[0]\n",
    "use_metadata = use_file.replace(\".avi\",\".toml\")\n",
    "use_frames = range(10)\n",
    "metadata = toml.load(use_metadata)"
   ]
  },
  {
   "cell_type": "code",
   "execution_count": 11,
   "id": "6e215f4a-ad4f-4325-817c-db4a90a300e0",
   "metadata": {},
   "outputs": [],
   "source": [
    "reflect_file = metadata[\"export_metadata\"][\"file\"]\n",
    "fluo_file = reflect_file.replace(\"-reflectance.avi\",\"-fluorescence.avi\")"
   ]
  },
  {
   "cell_type": "code",
   "execution_count": 12,
   "id": "d9944371-6280-4aa1-b02a-a7a12cc69933",
   "metadata": {},
   "outputs": [
    {
     "name": "stderr",
     "output_type": "stream",
     "text": [
      "2024-06-28 15:31:04.846098: W tensorflow/stream_executor/platform/default/dso_loader.cc:64] Could not load dynamic library 'libcuda.so.1'; dlerror: libcuda.so.1: cannot open shared object file: No such file or directory; LD_LIBRARY_PATH: /home/jmarkow/miniconda3/envs/sleap-analysis/lib/python3.10/site-packages/cv2/../../lib64:\n",
      "2024-06-28 15:31:04.846124: W tensorflow/stream_executor/cuda/cuda_driver.cc:269] failed call to cuInit: UNKNOWN ERROR (303)\n",
      "2024-06-28 15:31:04.846140: I tensorflow/stream_executor/cuda/cuda_diagnostics.cc:156] kernel driver does not appear to be running on this host (ip-172-31-73-192): /proc/driver/nvidia/version does not exist\n",
      "2024-06-28 15:31:04.895921: I tensorflow/core/platform/cpu_feature_guard.cc:151] This TensorFlow binary is optimized with oneAPI Deep Neural Network Library (oneDNN) to use the following CPU instructions in performance-critical operations:  AVX2 FMA\n",
      "To enable them in other operations, rebuild TensorFlow with the appropriate compiler flags.\n"
     ]
    }
   ],
   "source": [
    "sleap_model = sleap.load_model(fused_model)"
   ]
  },
  {
   "cell_type": "code",
   "execution_count": 13,
   "id": "41330373-0fed-44c2-8246-25920957de99",
   "metadata": {},
   "outputs": [],
   "source": [
    "inf_model = sleap_model.inference_model"
   ]
  },
  {
   "cell_type": "code",
   "execution_count": 15,
   "id": "b978e1ae-dc3e-406b-822b-c921a5708312",
   "metadata": {},
   "outputs": [],
   "source": [
    "confmap_config = sleap_model.confmap_config"
   ]
  },
  {
   "cell_type": "code",
   "execution_count": 19,
   "id": "ef80acef-8622-49e2-bdbb-6c2c492c6374",
   "metadata": {},
   "outputs": [],
   "source": [
    "confmap_skeleton = confmap_config.data.labels.skeletons"
   ]
  },
  {
   "cell_type": "code",
   "execution_count": 23,
   "id": "a2069a42-c1ef-4b2a-b97c-1b776d8b86ad",
   "metadata": {},
   "outputs": [],
   "source": [
    "confmap_node_names = [_.name for _ in confmap_skeleton[0].nodes]"
   ]
  },
  {
   "cell_type": "code",
   "execution_count": 32,
   "id": "5b2c018e-2bb9-4d2e-ab25-862ba31cb5ac",
   "metadata": {},
   "outputs": [],
   "source": [
    "use_pred_vid_obj = sleap.Video.from_filename(use_file)\n",
    "use_fluo_vid_obj = sleap.Video.from_filename(fluo_file)\n",
    "use_reflect_vid_obj = sleap.Video.from_filename(reflect_file)\n"
   ]
  },
  {
   "cell_type": "code",
   "execution_count": 33,
   "id": "4d57e6f1-f458-4006-ab78-582a81e6b20d",
   "metadata": {},
   "outputs": [],
   "source": [
    "dirname = os.path.dirname(fluo_file)\n",
    "basename = os.path.splitext(os.path.basename(fluo_file))[0]"
   ]
  },
  {
   "cell_type": "code",
   "execution_count": 34,
   "id": "d4b3f387-8a4f-4b26-bb3f-4263194cc954",
   "metadata": {},
   "outputs": [],
   "source": [
    "bground_name = os.path.join(dirname, \"_bground\", f\"{basename}.hdf5\")"
   ]
  },
  {
   "cell_type": "code",
   "execution_count": 35,
   "id": "66305f7d-cc38-4230-b698-cb1578704227",
   "metadata": {},
   "outputs": [],
   "source": [
    "with h5py.File(bground_name, \"r\") as f:\n",
    "    bgrounds = f[\"bground\"][()]\n",
    "    bgrounds_idxs = f[\"frame_idxs\"][()]"
   ]
  },
  {
   "cell_type": "code",
   "execution_count": 36,
   "id": "0c60af4c-2f65-483c-8ccc-a20d642b5005",
   "metadata": {},
   "outputs": [],
   "source": [
    "pred_frames = use_pred_vid_obj.get_frames(use_frames)\n",
    "fluo_frames = use_fluo_vid_obj.get_frames(use_frames) \n",
    "reflect_frames = use_reflect_vid_obj.get_frames(use_frames)"
   ]
  },
  {
   "cell_type": "code",
   "execution_count": 37,
   "id": "433a2110-a28e-407f-9736-c418c7e79b7a",
   "metadata": {},
   "outputs": [],
   "source": [
    "single_instance_layer = inf_model.single_instance_layer\n",
    "single_instance_layer.return_confmaps = True"
   ]
  },
  {
   "cell_type": "code",
   "execution_count": 38,
   "id": "d434cc25-9fc8-4f2c-9f44-e2c5cb448806",
   "metadata": {},
   "outputs": [
    {
     "name": "stderr",
     "output_type": "stream",
     "text": [
      "2024-06-28 15:34:55.649339: W tensorflow/core/framework/cpu_allocator_impl.cc:82] Allocation of 2684354560 exceeds 10% of free system memory.\n",
      "2024-06-28 15:34:55.880453: W tensorflow/core/framework/cpu_allocator_impl.cc:82] Allocation of 2684354560 exceeds 10% of free system memory.\n",
      "2024-06-28 15:34:56.320570: W tensorflow/core/framework/cpu_allocator_impl.cc:82] Allocation of 2684354560 exceeds 10% of free system memory.\n",
      "2024-06-28 15:34:56.763453: W tensorflow/core/framework/cpu_allocator_impl.cc:82] Allocation of 2684354560 exceeds 10% of free system memory.\n",
      "2024-06-28 15:34:57.888668: W tensorflow/core/framework/cpu_allocator_impl.cc:82] Allocation of 2684354560 exceeds 10% of free system memory.\n",
      "2024-06-28 15:35:15.457905: W tensorflow/core/grappler/costs/op_level_cost_estimator.cc:690] Error in PredictCost() for the op: op: \"CropAndResize\" attr { key: \"T\" value { type: DT_FLOAT } } attr { key: \"extrapolation_value\" value { f: 0 } } attr { key: \"method\" value { s: \"bilinear\" } } inputs { dtype: DT_FLOAT shape { dim { size: 100 } dim { size: 256 } dim { size: 256 } dim { size: 1 } } } inputs { dtype: DT_FLOAT shape { dim { size: -2 } dim { size: 4 } } } inputs { dtype: DT_INT32 shape { dim { size: -2 } } } inputs { dtype: DT_INT32 shape { dim { size: 2 } } } device { type: \"CPU\" vendor: \"AuthenticAMD\" model: \"241\" frequency: 2650 num_cores: 16 environment { key: \"cpu_instruction_set\" value: \"AVX SSE, SSE2, SSE3, SSSE3, SSE4.1, SSE4.2\" } environment { key: \"eigen\" value: \"3.4.90\" } l1_cache_size: 32768 l2_cache_size: 524288 l3_cache_size: 33554432 memory_size: 268435456 } outputs { dtype: DT_FLOAT shape { dim { size: -2 } dim { size: -3 } dim { size: -4 } dim { size: 1 } } }\n"
     ]
    }
   ],
   "source": [
    "results = single_instance_layer(pred_frames)\n",
    "confmaps = results[\"confmaps\"].numpy().squeeze()"
   ]
  },
  {
   "cell_type": "code",
   "execution_count": 39,
   "id": "a1b316e2-52b2-45e4-b5f3-607ea2689e4f",
   "metadata": {},
   "outputs": [],
   "source": [
    "plt_frame = 0"
   ]
  },
  {
   "cell_type": "code",
   "execution_count": 40,
   "id": "2a2ffafa-ec24-4311-8c20-86c9b55d36b7",
   "metadata": {},
   "outputs": [],
   "source": [
    "output_scale = confmaps[plt_frame].shape[0] / fluo_frames[plt_frame].shape[0]"
   ]
  },
  {
   "cell_type": "code",
   "execution_count": 41,
   "id": "783b66f9-c335-4743-bfb7-c0dc2a638019",
   "metadata": {},
   "outputs": [],
   "source": [
    "segmented_map = plt.matplotlib.colors.LinearSegmentedColormap"
   ]
  },
  {
   "cell_type": "code",
   "execution_count": 42,
   "id": "7eb16040-e8ab-47c6-8165-61f769d6e1e2",
   "metadata": {},
   "outputs": [],
   "source": [
    "rng = np.random.default_rng(seed=10)\n",
    "\n",
    "vals = np.linspace(0,1,256)\n",
    "rng.shuffle(vals)\n",
    "color_list = plt.cm.colors.ListedColormap(plt.cm.turbo(vals)).colors"
   ]
  },
  {
   "cell_type": "code",
   "execution_count": 43,
   "id": "bb80f92c-8a92-4d6c-b826-b720ed22b9ec",
   "metadata": {},
   "outputs": [],
   "source": [
    "node_colors = {k: v for k, v in zip(confmap_node_names, color_list.tolist())}"
   ]
  },
  {
   "cell_type": "code",
   "execution_count": 44,
   "id": "8ca7f979-94e4-4ecd-b8df-1440a761774c",
   "metadata": {},
   "outputs": [],
   "source": [
    "# color_list = plt.cm.colors.ListedColormap(rng.random(size=(256,3))).colors"
   ]
  },
  {
   "cell_type": "code",
   "execution_count": 45,
   "id": "73471652-3056-4f33-b043-86a21bc405d6",
   "metadata": {},
   "outputs": [],
   "source": [
    "use_roi = np.array([300, 700, 500, 900])\n",
    "confmap_roi = np.round(use_roi * output_scale).astype(\"int\")"
   ]
  },
  {
   "cell_type": "code",
   "execution_count": 46,
   "id": "016c2565-7c4d-4d48-aa5a-44471c9606e0",
   "metadata": {},
   "outputs": [],
   "source": [
    "from qd_analysis.fig import setup_plotting_env"
   ]
  },
  {
   "cell_type": "code",
   "execution_count": 50,
   "id": "94cd5952-3251-4ce9-8588-30a0bca5cd02",
   "metadata": {},
   "outputs": [
    {
     "data": {
      "text/plain": [
       "['foreleg_L',\n",
       " 'foreleg_R',\n",
       " 'hindleg_L',\n",
       " 'hindleg_R',\n",
       " 'back_top',\n",
       " 'back_middle',\n",
       " 'back_bottom',\n",
       " 'tail_base',\n",
       " 'tail_middle',\n",
       " 'tail_tip']"
      ]
     },
     "execution_count": 50,
     "metadata": {},
     "output_type": "execute_result"
    }
   ],
   "source": [
    "confmap_node_names"
   ]
  },
  {
   "cell_type": "code",
   "execution_count": 51,
   "id": "f5f73422-474c-4263-a4d2-e219cbb2f161",
   "metadata": {},
   "outputs": [
    {
     "data": {
      "image/png": "[encoded data removed]",
      "text/plain": [
       "<Figure size 400x400 with 4 Axes>"
      ]
     },
     "metadata": {},
     "output_type": "display_data"
    }
   ],
   "source": [
    "fig, ax = plt.subplots(2, 2, figsize=(4, 4))\n",
    "\n",
    "ax[0, 0].imshow(\n",
    "    reflect_frames[plt_frame][\n",
    "        use_roi[0] : use_roi[1], use_roi[2] : use_roi[3]\n",
    "    ].squeeze(),\n",
    "    cmap=\"gray\",\n",
    "    vmin=0,\n",
    "    vmax=255,\n",
    ")\n",
    "bground_sub = np.clip(fluo_frames[plt_frame].astype(\"int\").squeeze() - bgrounds[0], 0, np.inf)\n",
    "ax[1, 0].imshow(\n",
    "    bground_sub[use_roi[0] : use_roi[1], use_roi[2] : use_roi[3]].squeeze(),\n",
    "    cmap=\"rocket\",\n",
    "    vmin=0,\n",
    "    vmax=255,\n",
    ")\n",
    "for _node, _idx in zip(confmap_node_names, range(confmaps[plt_frame].shape[-1])):\n",
    "    use_map = confmaps[\n",
    "        plt_frame, confmap_roi[0] : confmap_roi[1], confmap_roi[2] : confmap_roi[3], _idx\n",
    "    ].squeeze()\n",
    "\n",
    "    new_cmap = plt.cm.colors.LinearSegmentedColormap.from_list(\n",
    "        name=_idx, colors=[[0, 0, 0], node_colors[_node]], N=1000,\n",
    "    )\n",
    "    masked_data = np.ma.masked_where(use_map < 0.6, use_map)\n",
    "    new_cmap.set_bad([0, 0, 0, 0])\n",
    "    ax[0, 1].set_facecolor([0, 0, 0])\n",
    "    ax[0, 1].imshow(\n",
    "        masked_data,\n",
    "        # alpha=0.25,\n",
    "        origin=\"upper\",\n",
    "        vmin=0,\n",
    "        vmax=1,\n",
    "        extent=[\n",
    "            -0.5,\n",
    "            use_map.shape[1] / output_scale - 0.5,\n",
    "            use_map.shape[0] / output_scale - 0.5,\n",
    "            -0.5,\n",
    "        ],\n",
    "        cmap=new_cmap,\n",
    "        interpolation=\"none\",\n",
    "    )\n",
    "ax[1,1].axis(\"off\")\n",
    "for _ax in ax.ravel():\n",
    "    _ax.set_xticks([])\n",
    "    _ax.set_yticks([])\n",
    "fig.subplots_adjust(hspace=.05, wspace=.05)\n",
    "fig.savefig(os.path.join(save_dir, \"beads_v2_labeling_confidence_map_output.pdf\"), bbox_inches=\"tight\", dpi=600)"
   ]
  },
  {
   "cell_type": "code",
   "execution_count": 52,
   "id": "6a1f77af-3b72-47f4-9afb-bec4b8929a20",
   "metadata": {},
   "outputs": [],
   "source": [
    "# ALSO SHOW A LABELING EXAMPLE!"
   ]
  },
  {
   "cell_type": "code",
   "execution_count": 53,
   "id": "4e62692b-9fd7-4b0a-ab15-bb1a958b5a3d",
   "metadata": {},
   "outputs": [
    {
     "name": "stdout",
     "output_type": "stream",
     "text": [
      "INFO:segments.client:Initialized successfully.\n"
     ]
    }
   ],
   "source": [
    "from segments import SegmentsClient\n",
    "\n",
    "# You can find your api key at https://segments.ai/account\n",
    "api_key = \"1978af2b394403a851cb1cabaa6050da00c838f5\"\n",
    "client = SegmentsClient(api_key)"
   ]
  },
  {
   "cell_type": "code",
   "execution_count": 54,
   "id": "381e301d-3421-478b-a2e3-4db1d9ad418d",
   "metadata": {},
   "outputs": [],
   "source": [
    "dataset_name = \"jmarkow/basler-nir-plexiglass-arena-keypoints-fused\" \n",
    "samples = client.get_samples(dataset_name, per_page=1000, label_status=[\"REVIEWED\"])\n",
    "pre_segments_labels = [(client.get_label(_sample.uuid), _sample) for _sample in samples]"
   ]
  },
  {
   "cell_type": "code",
   "execution_count": 55,
   "id": "2bec11a2-a9ef-4054-b33c-d08bbb938094",
   "metadata": {},
   "outputs": [],
   "source": [
    "# load the file straight from segments, map back to original data, etc..."
   ]
  },
  {
   "cell_type": "code",
   "execution_count": 77,
   "id": "2310da45-d602-4e32-a4f4-4a33f5775a24",
   "metadata": {},
   "outputs": [],
   "source": [
    "dset = client.get_dataset(dataset_name)"
   ]
  },
  {
   "cell_type": "code",
   "execution_count": 83,
   "id": "71a64b5b-e106-4847-8cd9-ab2b9eccd8f6",
   "metadata": {},
   "outputs": [],
   "source": [
    "cat_id_to_node_name = {_.id: _.name for _ in dset.task_attributes.categories}"
   ]
  },
  {
   "cell_type": "code",
   "execution_count": 56,
   "id": "b61d708e-6c8f-4854-b49c-772339fa3060",
   "metadata": {},
   "outputs": [],
   "source": [
    "use_label, use_sample = pre_segments_labels[150]"
   ]
  },
  {
   "cell_type": "code",
   "execution_count": 57,
   "id": "ad6895b4-4543-4ed1-9cab-72ac069c8f5e",
   "metadata": {},
   "outputs": [],
   "source": [
    "kpoints = use_label.attributes.annotations"
   ]
  },
  {
   "cell_type": "code",
   "execution_count": 58,
   "id": "52ff73f4-cd8f-4957-9581-bd9f7f64aa99",
   "metadata": {},
   "outputs": [],
   "source": [
    "frame_index = use_sample.metadata[\"frame_index\"]\n",
    "fluo_fname = use_sample.metadata[\"dat_path_fluo\"]\n",
    "reflect_fname = use_sample.metadata[\"dat_path_reflect\"]"
   ]
  },
  {
   "cell_type": "code",
   "execution_count": 59,
   "id": "0122a771-22da-4860-b562-b05dfa395cc3",
   "metadata": {},
   "outputs": [],
   "source": [
    "fluo_reader = vid.io.AutoReader(fluo_fname)\n",
    "reflect_reader = vid.io.AutoReader(reflect_fname)"
   ]
  },
  {
   "cell_type": "code",
   "execution_count": 60,
   "id": "c2ee87af-3f81-4fc4-a5a9-e8e0565b1bb1",
   "metadata": {},
   "outputs": [],
   "source": [
    "fluo_frame = fluo_reader.get_frames(frame_index).squeeze()\n",
    "reflect_frame = reflect_reader.get_frames(frame_index).squeeze()"
   ]
  },
  {
   "cell_type": "code",
   "execution_count": 61,
   "id": "0465d1e0-d8f2-4926-8b6c-4eff7d8c5f47",
   "metadata": {},
   "outputs": [],
   "source": [
    "dirname = os.path.dirname(fluo_fname)\n",
    "basename = os.path.splitext(os.path.basename(fluo_fname))[0]"
   ]
  },
  {
   "cell_type": "code",
   "execution_count": 62,
   "id": "fe3adc63-c276-4716-a86c-e94e15342118",
   "metadata": {},
   "outputs": [],
   "source": [
    "bground_fname = os.path.join(dirname, \"_bground\", f\"{basename}.hdf5\")"
   ]
  },
  {
   "cell_type": "code",
   "execution_count": 63,
   "id": "4281fa28-5ab9-4f0c-968f-92159b3d5b51",
   "metadata": {},
   "outputs": [],
   "source": [
    "with h5py.File(bground_fname, \"r\") as f:\n",
    "    bgrounds = f[\"bground\"][()]\n",
    "    bgrounds_idxs = f[\"frame_idxs\"][()]"
   ]
  },
  {
   "cell_type": "code",
   "execution_count": 64,
   "id": "707e7e24-7842-4535-9839-a81f601547b9",
   "metadata": {},
   "outputs": [],
   "source": [
    "use_bground = np.argmin(np.abs(frame_index - bgrounds_idxs))"
   ]
  },
  {
   "cell_type": "code",
   "execution_count": 65,
   "id": "e60c7e19-e8d3-489c-8382-97c38d3ab60e",
   "metadata": {},
   "outputs": [],
   "source": [
    "fluo_reader.close()\n",
    "reflect_reader.close()"
   ]
  },
  {
   "cell_type": "code",
   "execution_count": 66,
   "id": "38772a2f-3053-4adc-b728-ca57cafb0951",
   "metadata": {},
   "outputs": [],
   "source": [
    "bground_sub = np.clip(fluo_frame.astype(\"int\") - bgrounds[use_bground],0,np.inf)"
   ]
  },
  {
   "cell_type": "code",
   "execution_count": 67,
   "id": "92c5ae07-42a4-4706-8fe1-5e167d50b469",
   "metadata": {},
   "outputs": [],
   "source": [
    "alpha = .7"
   ]
  },
  {
   "cell_type": "code",
   "execution_count": 68,
   "id": "ba24c317-4001-4f8e-b2c6-32a080cc3a10",
   "metadata": {},
   "outputs": [],
   "source": [
    "new_im = alpha * bground_sub + (1 - alpha) * reflect_frame\n",
    "new_im = (new_im - new_im.min()) / (new_im.max() - new_im.min())"
   ]
  },
  {
   "cell_type": "code",
   "execution_count": 69,
   "id": "d2844101-02f0-437f-8602-da56870ffdfe",
   "metadata": {},
   "outputs": [],
   "source": [
    "use_roi = [600, 450, 500, 850]"
   ]
  },
  {
   "cell_type": "code",
   "execution_count": 70,
   "id": "e1e2cc8a-c9b2-497d-a734-ad272171a38c",
   "metadata": {},
   "outputs": [],
   "source": [
    "# show images pre-synthesis..."
   ]
  },
  {
   "cell_type": "code",
   "execution_count": null,
   "id": "77bd8d1a-014d-4538-a6e3-abe612c67427",
   "metadata": {},
   "outputs": [],
   "source": []
  },
  {
   "cell_type": "code",
   "execution_count": 71,
   "id": "18062218-b2e8-45a7-9abc-da4a586049d9",
   "metadata": {},
   "outputs": [
    {
     "data": {
      "image/png": "[encoded data removed]",
      "text/plain": [
       "<Figure size 300x300 with 2 Axes>"
      ]
     },
     "metadata": {},
     "output_type": "display_data"
    }
   ],
   "source": [
    "fig, ax = plt.subplots(2, 1, figsize=(3,3), sharex=True, sharey=True)\n",
    "ax[0].imshow(reflect_frame, cmap=\"gray\", vmin=0, vmax=255)\n",
    "ax[1].imshow(bground_sub, cmap=\"rocket\", vmin=0, vmax=255)\n",
    "ax[1].set_xlim(*use_roi[2:])\n",
    "ax[1].set_ylim(*use_roi[:2])\n",
    "for _ax in ax:\n",
    "    _ax.axis(\"off\")\n",
    "fig.savefig(os.path.join(save_dir, \"beads_v2_labeling_fluorescence.pdf\"), bbox_inches=\"tight\", dpi=600)\n",
    "# fig.tight_layout()"
   ]
  },
  {
   "cell_type": "code",
   "execution_count": 74,
   "id": "f39c120f-7ec0-435a-ad3a-46feaa43330b",
   "metadata": {},
   "outputs": [
    {
     "data": {
      "text/plain": [
       "ImageVectorAnnotation(id=1, category_id=10, points=[[559.22, 551.24]], type='point', attributes={})"
      ]
     },
     "execution_count": 74,
     "metadata": {},
     "output_type": "execute_result"
    }
   ],
   "source": [
    "kpoints[0]"
   ]
  },
  {
   "cell_type": "code",
   "execution_count": 86,
   "id": "2646bdec-bf32-41eb-aeae-63554306e293",
   "metadata": {},
   "outputs": [
    {
     "data": {
      "image/png": "[encoded data removed]",
      "text/plain": [
       "<Figure size 300x300 with 1 Axes>"
      ]
     },
     "metadata": {},
     "output_type": "display_data"
    }
   ],
   "source": [
    "fig, ax = plt.subplots(1, figsize=(3, 3))\n",
    "ax.imshow(new_im, cmap=\"gray\", alpha=1.0)\n",
    "for _kpoint in kpoints:\n",
    "    x, y = _kpoint.points[0]\n",
    "    ax.scatter(\n",
    "        x,\n",
    "        y,\n",
    "        ec=None,\n",
    "        lw=0,\n",
    "        s=45,\n",
    "        alpha=.75,\n",
    "        fc=node_colors[cat_id_to_node_name[_kpoint.category_id]],\n",
    "    )\n",
    "    # ax.scatter(\n",
    "    #     x,\n",
    "    #     y,\n",
    "    #     fc=\"none\",\n",
    "    #     s=45,\n",
    "    #     alpha=1.,\n",
    "    #     ec=node_colors[cat_id_to_node_name[_kpoint.category_id]],\n",
    "    #     lw=.5,\n",
    "    # )\n",
    "ax.set_xlim(*use_roi[2:])\n",
    "ax.set_ylim(*use_roi[:2])\n",
    "ax.axis(\"off\")\n",
    "fig.tight_layout()\n",
    "fig.savefig(os.path.join(save_dir, \"beads_v2_labeling_fused_with_manual_labels.pdf\"), bbox_inches=\"tight\", dpi=600)"
   ]
  },
  {
   "cell_type": "code",
   "execution_count": null,
   "id": "97af24b8-0187-4049-b021-b82bca4cc8f6",
   "metadata": {},
   "outputs": [],
   "source": []
  },
  {
   "cell_type": "code",
   "execution_count": null,
   "id": "dce41cbe-a3b4-40fe-8630-18226be673a8",
   "metadata": {},
   "outputs": [],
   "source": []
  }
 ],
 "metadata": {
  "kernelspec": {
   "display_name": "Python [conda env:sleap-analysis]",
   "language": "python",
   "name": "conda-env-sleap-analysis-py"
  },
  "language_info": {
   "codemirror_mode": {
    "name": "ipython",
    "version": 3
   },
   "file_extension": ".py",
   "mimetype": "text/x-python",
   "name": "python",
   "nbconvert_exporter": "python",
   "pygments_lexer": "ipython3",
   "version": "3.10.13"
  }
 },
 "nbformat": 4,
 "nbformat_minor": 5
}
