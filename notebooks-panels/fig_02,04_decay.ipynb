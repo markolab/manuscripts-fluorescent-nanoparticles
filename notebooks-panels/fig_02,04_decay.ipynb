{
 "cells": [
  {
   "cell_type": "code",
   "execution_count": 1,
   "id": "38403494-2e72-4577-beb8-4a7f3f0b528a",
   "metadata": {
    "tags": []
   },
   "outputs": [
    {
     "name": "stdout",
     "output_type": "stream",
     "text": [
      "Jupyter environment detected. Enabling Open3D WebVisualizer.\n",
      "[Open3D INFO] WebRTC GUI backend enabled.\n",
      "[Open3D INFO] WebRTCWindowSystem: HTTP handshake server disabled.\n"
     ]
    }
   ],
   "source": [
    "import os\n",
    "import copy\n",
    "import matplotlib.pyplot as plt\n",
    "import numpy as np\n",
    "import toml\n",
    "import glob\n",
    "from tqdm.auto import tqdm\n",
    "from markovids import vid\n",
    "import pandas as pd\n",
    "import seaborn as sns"
   ]
  },
  {
   "cell_type": "code",
   "execution_count": 2,
   "id": "31aeb7b1-dbbe-4531-b900-cdcafc128437",
   "metadata": {},
   "outputs": [],
   "source": [
    "from qd_analysis.fig import setup_plotting_env"
   ]
  },
  {
   "cell_type": "markdown",
   "id": "bdb6af78-dd92-4b5f-a533-a31359064f6a",
   "metadata": {},
   "source": [
    "## User functions"
   ]
  },
  {
   "cell_type": "code",
   "execution_count": 3,
   "id": "6bff0cab-b479-4d1a-9207-3167f48a8658",
   "metadata": {},
   "outputs": [],
   "source": [
    "def get_time_to_baseline(df, cutoff=None):\n",
    "    _test = df.set_index(\"days\")[\"value\"]\n",
    "    _index_cut = _test[_test>=cutoff].index\n",
    "    if len(_index_cut) == 0:\n",
    "        return np.nan\n",
    "    else:\n",
    "        return np.max(_index_cut)\n",
    "    # find first timepoint that gets below cutoff..."
   ]
  },
  {
   "cell_type": "code",
   "execution_count": 4,
   "id": "e66b7679-6b4d-45a6-bfce-c165ad13abb6",
   "metadata": {
    "tags": []
   },
   "outputs": [],
   "source": [
    "save_dir = \"/mnt/data/jmarkow/panels/2024-06 (QD paper)\"\n",
    "os.makedirs(save_dir, exist_ok=True)"
   ]
  },
  {
   "cell_type": "code",
   "execution_count": 5,
   "id": "c8cca5b4-01e5-48d3-b3b6-976dfd0fd069",
   "metadata": {},
   "outputs": [],
   "source": [
    "config = toml.load(\"../preprocessing/config.toml\")"
   ]
  },
  {
   "cell_type": "code",
   "execution_count": 6,
   "id": "69a17e2b-3a70-46fd-979d-20ce2df13c8b",
   "metadata": {},
   "outputs": [],
   "source": [
    "fluo_df = pd.read_parquet(os.path.join(config[\"dirs\"][\"analysis\"], \"fluorescence_intensity_over_time.parquet\"))"
   ]
  },
  {
   "cell_type": "code",
   "execution_count": 7,
   "id": "c50b23cb-85ef-4c75-a486-725712b55879",
   "metadata": {},
   "outputs": [],
   "source": [
    "# TODO move into cleanup function\n",
    "fluo_df = fluo_df.loc[~((fluo_df[\"start_time\"].dt.floor(\"d\") == \"2024-06-10\") & (fluo_df[\"subject\"] == \"qd_beads_08\"))].copy()"
   ]
  },
  {
   "cell_type": "code",
   "execution_count": 8,
   "id": "ea23eac3-4d27-409d-a3d6-caa9e70e5ec7",
   "metadata": {},
   "outputs": [],
   "source": [
    "plt_vars = [\"q1.0_fullframe_bpass\"]\n",
    "agg_func = lambda x: np.quantile(x, .95)\n",
    "agg_func.__name__ = \"q.95\"\n",
    "# agg_func = np.mean"
   ]
  },
  {
   "cell_type": "code",
   "execution_count": 9,
   "id": "561e229a-1b1a-421d-a9ab-f31d9ef07a95",
   "metadata": {},
   "outputs": [],
   "source": [
    "# plt_vars = [\"std_intensity_fullframe_bpass\"]\n",
    "# # agg_func = lambda x: np.quantile(x, .5)\n",
    "# # agg_func.__name__ = \"q.95\"\n",
    "# agg_func = np.mean"
   ]
  },
  {
   "cell_type": "code",
   "execution_count": 10,
   "id": "fb20ddcc-7b8e-4182-8d94-5750288411b4",
   "metadata": {
    "tags": []
   },
   "outputs": [],
   "source": [
    "plt_data = (\n",
    "    fluo_df.groupby([\"days\", \"subject\", \"camera\", \"exp_type\"])[plt_vars]\n",
    "    .agg(agg_func)\n",
    "    # .mean()\n",
    ")"
   ]
  },
  {
   "cell_type": "code",
   "execution_count": 11,
   "id": "e7bb36f4-03bc-4b16-ad98-7a00ac643109",
   "metadata": {
    "tags": []
   },
   "outputs": [],
   "source": [
    "plt_data = plt_data.melt(ignore_index=False).reset_index()"
   ]
  },
  {
   "cell_type": "code",
   "execution_count": 12,
   "id": "2ef19961-12c9-4265-930e-3766db0e4de9",
   "metadata": {
    "tags": []
   },
   "outputs": [],
   "source": [
    "blank_ci = fluo_df.loc[fluo_df[\"exp_type\"].isin([\"vehicle\",\"blank\"])].groupby([\"subject\",\"filename\"])[plt_vars].agg(agg_func)"
   ]
  },
  {
   "cell_type": "code",
   "execution_count": 13,
   "id": "1e92e379-d720-406d-99d9-484e2720b512",
   "metadata": {},
   "outputs": [],
   "source": [
    "rng = np.random.default_rng(seed=0)"
   ]
  },
  {
   "cell_type": "code",
   "execution_count": 14,
   "id": "fc0c5ea2-60f5-48a9-9e4a-ef9b0834934d",
   "metadata": {
    "tags": []
   },
   "outputs": [],
   "source": [
    "rand_mus = [blank_ci.sample(frac=1, replace=True, random_state=rng).mean() for _ in range(1000)]\n",
    "rand_mus = pd.DataFrame(rand_mus)"
   ]
  },
  {
   "cell_type": "code",
   "execution_count": 15,
   "id": "6d34abec-71e7-4db9-9595-11c72769c218",
   "metadata": {
    "tags": []
   },
   "outputs": [],
   "source": [
    "ci_high = rand_mus.mean() + 2.96 * rand_mus.std()\n",
    "ci_low = rand_mus.mean() - 2.96 * rand_mus.std()\n",
    "\n",
    "# ci_low = pd.DataFrame(rand_mus).quantile(.001)"
   ]
  },
  {
   "cell_type": "code",
   "execution_count": 16,
   "id": "f8a7a4e4-0b64-4fd0-aaf0-2be7e4da2be2",
   "metadata": {
    "tags": []
   },
   "outputs": [],
   "source": [
    "def normalize_to_day0(df, val=\"value\"):\n",
    "    idx = df.index\n",
    "    vals = (df[val] / df.loc[df[\"days\"]==0][val].mean()).values\n",
    "    vals *= 1e2\n",
    "    return pd.Series(data=vals, index=idx, name=\"test\").to_frame()"
   ]
  },
  {
   "cell_type": "code",
   "execution_count": 17,
   "id": "8e941f1b-a763-4c9c-851a-87c4e1084c9e",
   "metadata": {
    "tags": []
   },
   "outputs": [],
   "source": [
    "new_vals = plt_data.groupby([\"subject\",\"variable\", \"camera\"])[[\"value\", \"days\"]].apply(normalize_to_day0)\n",
    "new_vals.index = new_vals.index.get_level_values(-1)"
   ]
  },
  {
   "cell_type": "code",
   "execution_count": 18,
   "id": "42748927-197b-43e5-8312-1daaed98c0a9",
   "metadata": {},
   "outputs": [],
   "source": [
    "new_val_to_copy = plt_data.copy()\n",
    "new_val_to_copy[\"value\"] = new_vals\n",
    "new_val_to_copy[\"variable\"] = new_val_to_copy[\"variable\"].apply(lambda x: f\"{x}_norm\")"
   ]
  },
  {
   "cell_type": "code",
   "execution_count": 19,
   "id": "5f360017-b922-487f-8c08-948f4654151b",
   "metadata": {},
   "outputs": [],
   "source": [
    "plt_data = pd.concat([plt_data, new_val_to_copy], ignore_index=True)"
   ]
  },
  {
   "cell_type": "code",
   "execution_count": 20,
   "id": "9ab1f755-09f9-489f-b712-7e3fd032be7b",
   "metadata": {},
   "outputs": [],
   "source": [
    "plt_data.loc[plt_data[\"exp_type\"].isin([\"qd_cell_labels\", \"qd_vascular_labels\"]), \"exp_class\"] = \"base_qds\"\n",
    "plt_data.loc[plt_data[\"exp_type\"].isin([\"vehicle\", \"blank\"]), \"exp_class\"] = \"ctrl\"\n",
    "# plt_data.loc[plt_data[\"exp_type\"].isin([\"qd_beads\"]), \"exp_class\"] = \"beads\"\n",
    "# plt_data.loc[plt_data[\"exp_type\"].isin([\"qd_beads_v2\"]), \"exp_class\"] = \"beads_v2\""
   ]
  },
  {
   "cell_type": "code",
   "execution_count": 21,
   "id": "1f03d3aa-a057-400b-96f3-7a53d367a96d",
   "metadata": {},
   "outputs": [],
   "source": [
    "exclude_subjects = [\"qd_beads_01\",\"qd_beads_02\",\"qd_beads_03\"]"
   ]
  },
  {
   "cell_type": "markdown",
   "id": "7d282244-4f3d-4ebd-98f8-bfcf07dce05d",
   "metadata": {},
   "source": [
    "## Fig 1 comparison, qds vs blank/vehicle"
   ]
  },
  {
   "cell_type": "code",
   "execution_count": 22,
   "id": "2a0ec0f9-ab7f-4ffa-aaf8-bca30a147528",
   "metadata": {},
   "outputs": [],
   "source": [
    "from scipy.stats import wilcoxon, mannwhitneyu, ttest_ind\n",
    "from qd_analysis.fig import setup_plotting_env"
   ]
  },
  {
   "cell_type": "code",
   "execution_count": 23,
   "id": "8cf56474-341b-43c3-9558-6a01aeb5f76d",
   "metadata": {},
   "outputs": [],
   "source": [
    "setup_plotting_env()"
   ]
  },
  {
   "cell_type": "code",
   "execution_count": 24,
   "id": "5702d7ce-1eae-44b2-8f62-c43c3f8e56d0",
   "metadata": {},
   "outputs": [],
   "source": [
    "mu = plt_data.query(\"days==0 and variable==@plt_vars[0]\").groupby([\"exp_class\",\"subject\"])[\"value\"].mean()"
   ]
  },
  {
   "cell_type": "code",
   "execution_count": 25,
   "id": "e28f54e9-b1a6-464b-84b6-2dccd542eb65",
   "metadata": {},
   "outputs": [
    {
     "data": {
      "image/png": "[encoded data removed]",
      "text/plain": [
       "<Figure size 125.556x150 with 1 Axes>"
      ]
     },
     "metadata": {},
     "output_type": "display_data"
    }
   ],
   "source": [
    "# fig, ax = plt.subplots(1, figsize=(2.,2.))\n",
    "g = sns.catplot(\n",
    "    plt_data.query(\"days==0 and variable==@plt_vars[0]\")\n",
    "    .groupby([\"exp_class\", \"subject\", \"variable\"])[\"value\"]\n",
    "    .mean()\n",
    "    .reset_index(),\n",
    "    x=\"exp_class\",\n",
    "    y=\"value\",\n",
    "    kind=\"strip\",\n",
    "    col=\"variable\",\n",
    "    sharey=False,\n",
    "    height=1.5,\n",
    "    aspect=.8,\n",
    ")\n",
    "sns.despine(offset=5, trim=False)\n",
    "g.set_titles(row_template=\"{row_name}\", col_template=\"{col_name}\")\n",
    "g.set(xlabel=\"\")\n",
    "g.fig.tight_layout()\n",
    "g.fig.savefig(os.path.join(save_dir, f\"qds_v_vehicle_permouse_{agg_func.__name__}.pdf\"), bbox_inches=\"tight\")"
   ]
  },
  {
   "cell_type": "code",
   "execution_count": 26,
   "id": "401ca878-bb40-497b-9b3b-fe612a5732cf",
   "metadata": {},
   "outputs": [],
   "source": [
    "snr = (mu.loc[\"base_qds\"] / mu.loc[\"ctrl\"].mean())"
   ]
  },
  {
   "cell_type": "code",
   "execution_count": 27,
   "id": "d2bb1888-2dc0-4a3f-b215-4d9f83fe5ebe",
   "metadata": {},
   "outputs": [],
   "source": [
    "stat_func = mannwhitneyu\n",
    "val, pval = stat_func(mu.loc[\"base_qds\"], mu.loc[\"ctrl\"])\n",
    "\n",
    "stat_dct = {\n",
    "    \"test\": stat_func.__name__,\n",
    "    \"n\": {},\n",
    "    \"statistic\": val,\n",
    "    \"pval\": pval,\n",
    "}"
   ]
  },
  {
   "cell_type": "code",
   "execution_count": 28,
   "id": "eb490db5-d256-42de-8849-58a4b4780f00",
   "metadata": {},
   "outputs": [],
   "source": [
    "for k, v in mu.groupby(\"exp_class\").size().items():\n",
    "    stat_dct[\"n\"][k] = v"
   ]
  },
  {
   "cell_type": "code",
   "execution_count": 29,
   "id": "2cabf014-508a-4167-9bcc-5d2b97a17298",
   "metadata": {},
   "outputs": [],
   "source": [
    "stat_dct[\"snr\"] = {}\n",
    "stat_dct[\"snr\"][\"mean\"] = snr.mean()\n",
    "stat_dct[\"snr\"][\"std\"] = snr.std()"
   ]
  },
  {
   "cell_type": "code",
   "execution_count": 30,
   "id": "d2fa5bcf-7b55-4672-ae3c-cab6ae9fa739",
   "metadata": {},
   "outputs": [],
   "source": [
    "with open(os.path.join(save_dir, f\"stats_figure1_{agg_func.__name__}.toml\"), \"w\") as f:\n",
    "    toml.dump(stat_dct, f)"
   ]
  },
  {
   "cell_type": "code",
   "execution_count": 31,
   "id": "f5c6c727-770c-4fab-9bbe-d885fd8f6923",
   "metadata": {},
   "outputs": [
    {
     "data": {
      "text/plain": [
       "{'test': 'mannwhitneyu',\n",
       " 'n': {'base_qds': 6, 'ctrl': 6},\n",
       " 'statistic': 36.0,\n",
       " 'pval': 0.0021645021645021645,\n",
       " 'snr': {'mean': 2.0413348024555327, 'std': 0.05331938581647871}}"
      ]
     },
     "execution_count": 31,
     "metadata": {},
     "output_type": "execute_result"
    }
   ],
   "source": [
    "stat_dct"
   ]
  },
  {
   "cell_type": "markdown",
   "id": "bdfab239-824a-4f9f-8fae-5ec23e305d1c",
   "metadata": {},
   "source": [
    "## Timecourse"
   ]
  },
  {
   "cell_type": "code",
   "execution_count": 32,
   "id": "0bba0c14-9ae3-45e0-b524-91039947b4b2",
   "metadata": {},
   "outputs": [],
   "source": [
    "setup_plotting_env()"
   ]
  },
  {
   "cell_type": "code",
   "execution_count": 33,
   "id": "fca2a45c-83de-40a1-89da-75da2fcdfc3b",
   "metadata": {},
   "outputs": [],
   "source": [
    "ci_color = \"w\" if plt.rcParams[\"axes.facecolor\"] == \"black\" else \"k\"\n",
    "# sns.set_context(\"paper\", font_scale=.8)"
   ]
  },
  {
   "cell_type": "code",
   "execution_count": 34,
   "id": "dde35f19-f604-4a79-8449-c2725df4dd67",
   "metadata": {},
   "outputs": [],
   "source": [
    "exclude_subjects = [\"qd_beads_01\",\"qd_beads_02\",\"qd_beads_03\"]"
   ]
  },
  {
   "cell_type": "code",
   "execution_count": 35,
   "id": "e775c15b-8b46-46b7-9e6a-abdcfd25aca4",
   "metadata": {},
   "outputs": [],
   "source": [
    "hue_order=[\n",
    "        \"qd_vascular_labels\",\n",
    "        \"qd_cell_labels\",\n",
    "        \"qd_beads\",\n",
    "    ]"
   ]
  },
  {
   "cell_type": "code",
   "execution_count": 36,
   "id": "bd505f55-3ce0-4291-a639-0cef8cbbe395",
   "metadata": {},
   "outputs": [],
   "source": [
    "base_colors = sns.color_palette(\"deep\")\n",
    "palette = {\"qd_vascular_labels\": base_colors[0],\n",
    "           \"qd_cell_labels\": base_colors[1],\n",
    "           \"qd_beads\": base_colors[2],\n",
    "           \"qd_beads_v2\": base_colors[3],\n",
    "           \"qd_vascular_labels_high_light\": base_colors[3]}"
   ]
  },
  {
   "cell_type": "code",
   "execution_count": 37,
   "id": "ebabc2ff-6285-4701-92a8-002bba8d73d0",
   "metadata": {},
   "outputs": [],
   "source": [
    "plt_groups = list(palette.keys())"
   ]
  },
  {
   "cell_type": "code",
   "execution_count": 38,
   "id": "59358447-4cc2-4203-9611-8c82718df03b",
   "metadata": {
    "tags": []
   },
   "outputs": [
    {
     "data": {
      "image/png": "[encoded data removed]",
      "text/plain": [
       "<Figure size 140x140 with 1 Axes>"
      ]
     },
     "metadata": {},
     "output_type": "display_data"
    }
   ],
   "source": [
    "g = sns.relplot(\n",
    "    data=plt_data.query(\"~subject.isin(@exclude_subjects)\"),\n",
    "    row=\"variable\",\n",
    "    row_order=plt_vars,\n",
    "    x=\"days\",\n",
    "    y=\"value\",\n",
    "    kind=\"line\",\n",
    "    estimator=\"mean\",\n",
    "    errorbar=(\"sd\", 1),\n",
    "    facet_kws={\"sharey\": False},\n",
    "    err_kws={\"alpha\": 0.8},\n",
    "    palette=palette,\n",
    "    hue=\"exp_type\",\n",
    "    hue_order=hue_order,\n",
    "    marker=\"o\",\n",
    "    ms=2.5,\n",
    "    aspect=1.,\n",
    "    height=1.4,\n",
    "    legend=False,\n",
    ")\n",
    "# g.set(xlim=(0,12))\n",
    "g.set_titles(col_template=\"{col_name}\", row_template=\"{row_name}\")\n",
    "if \"qd_beads\" not in hue_order[-1]:\n",
    "    g.set(xlim=(0, 7), xlabel=\"Days post-injection\")\n",
    "else:\n",
    "    g.set(xlim=(0, 21), xlabel=\"Days post-injection\")\n",
    "for _ax, _name in zip(g.axes.ravel(), plt_vars):\n",
    "    _ax.axhline(ci_high[_name], color=ci_color, ls=\"--\")\n",
    "    _ax.axhline(ci_low[_name], color=ci_color, ls=\"--\")\n",
    "    xlim = _ax.get_xlim()\n",
    "    _ax.fill_between(\n",
    "        xlim, ci_low[_name], ci_high[_name], alpha=0.3, zorder=-300, color=ci_color\n",
    "    )\n",
    "    _ax.set_xlim(xlim)\n",
    "    if \"qd_beads\" not in hue_order[-1]:\n",
    "        _ax.set_xticks(np.arange(0, xlim[1] + 1, 1))\n",
    "    else:        \n",
    "        _ax.set_xticks(np.arange(0, xlim[1] + 1, 4))\n",
    "g.axes[0][0].set_ylabel(\"Pixel intensity\")\n",
    "# g.axes[1][0].set_ylabel(\"Percent day 0\")\n",
    "\n",
    "sns.despine(offset=5, trim=True)\n",
    "g.fig.savefig(os.path.join(save_dir, f\"qd_fluorescence_decay_{hue_order}_{agg_func.__name__}.pdf\"), bbox_inches=\"tight\")"
   ]
  },
  {
   "cell_type": "code",
   "execution_count": 39,
   "id": "56777293-e3ca-49e9-88e3-4498777bc589",
   "metadata": {},
   "outputs": [],
   "source": [
    "use_cutoff = ci_high[plt_vars[0]]"
   ]
  },
  {
   "cell_type": "code",
   "execution_count": 40,
   "id": "fe5abf48-d991-4a66-b9a8-d0cb0b1a5d61",
   "metadata": {},
   "outputs": [],
   "source": [
    "decay_times = plt_data.query(\"variable == @plt_vars[0] and ~subject.isin(@exclude_subjects)\").groupby([\"exp_type\", \"subject\", \"camera\"])[\n",
    "    [\"subject\", \"camera\", \"days\", \"value\"]\n",
    "].apply(lambda x: get_time_to_baseline(x, use_cutoff)).dropna().rename(\"decay\").dropna().reset_index()"
   ]
  },
  {
   "cell_type": "code",
   "execution_count": 41,
   "id": "1b314322-53b0-4f78-b773-301df853e066",
   "metadata": {},
   "outputs": [],
   "source": [
    "# 1. brightness on day 0 \n",
    "# 2. time to 75-50"
   ]
  },
  {
   "cell_type": "code",
   "execution_count": 42,
   "id": "12f48573-308e-46d8-9d45-3f714a6d2549",
   "metadata": {},
   "outputs": [
    {
     "name": "stderr",
     "output_type": "stream",
     "text": [
      "/tmp/ipykernel_3859/3983213671.py:3: DeprecationWarning: DataFrameGroupBy.apply operated on the grouping columns. This behavior is deprecated, and in a future version of pandas the grouping columns will be excluded from the operation. Either pass `include_groups=False` to exclude the groupings or explicitly select the grouping columns after groupby to silence this warning.\n",
      "  ).apply(lambda x: (x[\"value\"].diff() / x[\"days\"].diff()).mean()).rename(\"decay\").dropna().reset_index()\n"
     ]
    }
   ],
   "source": [
    "decay_rate = plt_data.query(\"~subject.isin(@exclude_subjects) and variable == 'q1.0_fullframe_bpass_norm'\").groupby(\n",
    "    [\"exp_type\", \"subject\", \"camera\"]\n",
    ").apply(lambda x: (x[\"value\"].diff() / x[\"days\"].diff()).mean()).rename(\"decay\").dropna().reset_index()"
   ]
  },
  {
   "cell_type": "code",
   "execution_count": 43,
   "id": "ec451a36-5b18-4e5d-a993-c60b33a05ca6",
   "metadata": {},
   "outputs": [],
   "source": [
    "brightness = plt_data.query(\"~subject.isin(@exclude_subjects) and variable == 'q1.0_fullframe_bpass' and days <= 0.0\").groupby(\n",
    "    [\"exp_type\", \"subject\", \"camera\"])[\"value\"].mean().rename(\"brightness\").reset_index()"
   ]
  },
  {
   "cell_type": "code",
   "execution_count": 44,
   "id": "903057ce-b7ee-4947-8bd7-439a1a43f76f",
   "metadata": {},
   "outputs": [],
   "source": [
    "# overall brightness"
   ]
  },
  {
   "cell_type": "code",
   "execution_count": 45,
   "id": "edabda4a-3b3c-4a62-b190-f29b516cb74b",
   "metadata": {},
   "outputs": [
    {
     "data": {
      "image/png": "[encoded data removed]",
      "text/plain": [
       "<Figure size 110x230 with 2 Axes>"
      ]
     },
     "metadata": {},
     "output_type": "display_data"
    }
   ],
   "source": [
    "fig, ax = plt.subplots(2, 1, figsize=(1.1, 2.3), sharex=True, sharey=False)\n",
    "sns.stripplot(\n",
    "    data=brightness,\n",
    "    hue=\"exp_type\",\n",
    "    hue_order=hue_order,\n",
    "    palette=palette,\n",
    "    dodge=True,\n",
    "    y=\"brightness\",\n",
    "    ax=ax[0],\n",
    ")\n",
    "sns.stripplot(\n",
    "    data=decay_times,\n",
    "    hue=\"exp_type\",\n",
    "    hue_order=hue_order,\n",
    "    palette=palette,\n",
    "    dodge=True,\n",
    "    y=\"decay\",\n",
    "    ax=ax[1],\n",
    ")\n",
    "for _ax in ax:\n",
    "    _ax.set_xticks([])\n",
    "ax[0].legend().remove()\n",
    "ax[0].set_ylabel(\"Fluo. on day 0\")\n",
    "ax[1].legend().remove()\n",
    "ax[1].legend(bbox_to_anchor=(1.05, 0.5))\n",
    "ax[1].set_xlabel(\"QD variant\")\n",
    "ax[1].set_ylabel(\"Fluo. longevity (days)\")\n",
    "sns.despine(offset=5, trim=True)\n",
    "fig.savefig(os.path.join(save_dir, f\"qd_fluorescence_decay_rate_brightness_{hue_order}_{agg_func.__name__}.pdf\"), bbox_inches=\"tight\")"
   ]
  },
  {
   "cell_type": "markdown",
   "id": "7cf44c5e-0118-4c9f-92aa-86be0c4ad8d7",
   "metadata": {},
   "source": [
    "# Looking at conjugation w/ v2"
   ]
  },
  {
   "cell_type": "code",
   "execution_count": 46,
   "id": "104f7093-f76e-4fab-877f-30124e1ac67d",
   "metadata": {},
   "outputs": [],
   "source": [
    "setup_plotting_env()"
   ]
  },
  {
   "cell_type": "code",
   "execution_count": 47,
   "id": "e0f93f0f-e2e6-4cd7-9063-83ded8e197d3",
   "metadata": {},
   "outputs": [],
   "source": [
    "ci_color = \"w\" if plt.rcParams[\"axes.facecolor\"] == \"black\" else \"k\"\n",
    "# sns.set_context(\"paper\", font_scale=.8)"
   ]
  },
  {
   "cell_type": "code",
   "execution_count": 48,
   "id": "6db85783-b13c-41ee-a6ee-5e516f17ce7c",
   "metadata": {},
   "outputs": [
    {
     "data": {
      "text/plain": [
       "array(['qd_cell_labels', 'blank', 'qd_alg', 'vehicle',\n",
       "       'qd_vascular_labels', 'qd_alg_caco3', 'qd_saqd', 'qd_beads',\n",
       "       'qd_beads_v2', 'null_v2', 'vehicle_v2', 'qd_cell_labels_v2',\n",
       "       'qd_conj_fibro_click_v2', 'qd_conj_coll_click_v2',\n",
       "       'qd_conj_fibro_bio_v2', 'qd_conj_coll_bio_v2'], dtype=object)"
      ]
     },
     "execution_count": 48,
     "metadata": {},
     "output_type": "execute_result"
    }
   ],
   "source": [
    "fluo_df[\"exp_type\"].unique()"
   ]
  },
  {
   "cell_type": "code",
   "execution_count": 49,
   "id": "02454deb-d548-4c7f-801d-bfbc84ffa875",
   "metadata": {
    "tags": []
   },
   "outputs": [],
   "source": [
    "blank_ci = fluo_df.query(\"exp_type == 'vehicle_v2'\").groupby([\"subject\",\"filename\"])[plt_vars].agg(agg_func)"
   ]
  },
  {
   "cell_type": "code",
   "execution_count": 50,
   "id": "cb74988b-9c62-43d4-80d2-679da030ab26",
   "metadata": {},
   "outputs": [],
   "source": [
    "rng = np.random.default_rng(seed=0)"
   ]
  },
  {
   "cell_type": "code",
   "execution_count": 51,
   "id": "0c849109-9d7f-420c-864e-c6af792fb950",
   "metadata": {
    "tags": []
   },
   "outputs": [],
   "source": [
    "rand_mus = [blank_ci.sample(frac=1, replace=True, random_state=rng).mean() for _ in range(1000)]\n",
    "rand_mus = pd.DataFrame(rand_mus)"
   ]
  },
  {
   "cell_type": "code",
   "execution_count": 52,
   "id": "b08e0b51-aabe-40b6-8985-b76433134b6c",
   "metadata": {
    "tags": []
   },
   "outputs": [],
   "source": [
    "ci_high = rand_mus.mean() + 2.96 * rand_mus.std()\n",
    "ci_low = rand_mus.mean() - 2.96 * rand_mus.std()\n",
    "\n",
    "# ci_low = pd.DataFrame(rand_mus).quantile(.001)"
   ]
  },
  {
   "cell_type": "code",
   "execution_count": 53,
   "id": "c0f67836-eafa-4b9a-adc8-d1633c2485fe",
   "metadata": {},
   "outputs": [],
   "source": [
    "hue_order=[\n",
    "        # \"qd_cell_labels_v2\", \n",
    "        \"qd_beads_v2\",\n",
    "        \"qd_conj_coll_click_v2\",\n",
    "        \"qd_conj_fibro_click_v2\",\n",
    "        # \"qd_conj_coll_bio_v2\",\n",
    "        # \"qd_conj_fibro_bio_v2\",\n",
    "        # \"vehicle_v2\",\n",
    "    ]"
   ]
  },
  {
   "cell_type": "code",
   "execution_count": 54,
   "id": "ef35c149-e054-41ba-b6ef-6e591f398d43",
   "metadata": {},
   "outputs": [],
   "source": [
    "palette = sns.color_palette(\"bright\")[2:]\n",
    "# palette = {\"qd_vascular_labels\": base_colors[0],\n",
    "#            \"qd_cell_labels\": base_colors[1],\n",
    "#            \"qd_beads\": base_colors[2],\n",
    "#            \"qd_beads_v2\": base_colors[3],\n",
    "#            \"qd_vascular_labels_high_light\": base_colors[3]}"
   ]
  },
  {
   "cell_type": "code",
   "execution_count": 55,
   "id": "51141989-c5c4-4369-8cb2-6586490953db",
   "metadata": {},
   "outputs": [
    {
     "data": {
      "text/plain": [
       "[(0.10196078431372549, 0.788235294117647, 0.2196078431372549),\n",
       " (0.9098039215686274, 0.0, 0.043137254901960784),\n",
       " (0.5450980392156862, 0.16862745098039217, 0.8862745098039215),\n",
       " (0.6235294117647059, 0.2823529411764706, 0.0),\n",
       " (0.9450980392156862, 0.2980392156862745, 0.7568627450980392),\n",
       " (0.6392156862745098, 0.6392156862745098, 0.6392156862745098),\n",
       " (1.0, 0.7686274509803922, 0.0),\n",
       " (0.0, 0.8431372549019608, 1.0)]"
      ]
     },
     "execution_count": 55,
     "metadata": {},
     "output_type": "execute_result"
    }
   ],
   "source": [
    "palette"
   ]
  },
  {
   "cell_type": "code",
   "execution_count": 56,
   "id": "e32a71d9-1b2f-4321-a0d5-cdab14140f48",
   "metadata": {},
   "outputs": [],
   "source": [
    "# sns.set_context(\"paper\")"
   ]
  },
  {
   "cell_type": "code",
   "execution_count": 57,
   "id": "6b02afaa-aada-4070-b1d8-97458a7ca684",
   "metadata": {},
   "outputs": [],
   "source": [
    "# plt.style.use(\"dark_background\")"
   ]
  },
  {
   "cell_type": "code",
   "execution_count": 58,
   "id": "2a3a1814-4cfb-4236-9fec-77329c9125f1",
   "metadata": {},
   "outputs": [],
   "source": [
    "ci_color = \"w\" if plt.rcParams[\"axes.facecolor\"] == \"black\" else \"k\"\n",
    "# sns.set_context(\"paper\", font_scale=.8)"
   ]
  },
  {
   "cell_type": "code",
   "execution_count": 59,
   "id": "d981d482-b73b-405d-8be6-589114e788d3",
   "metadata": {
    "tags": []
   },
   "outputs": [
    {
     "name": "stderr",
     "output_type": "stream",
     "text": [
      "/tmp/ipykernel_3859/3851929395.py:1: UserWarning: The palette list has more values (8) than needed (3), which may not be intended.\n",
      "  g = sns.relplot(\n"
     ]
    },
    {
     "data": {
      "image/png": "[encoded data removed]",
      "text/plain": [
       "<Figure size 271.125x140 with 1 Axes>"
      ]
     },
     "metadata": {},
     "output_type": "display_data"
    }
   ],
   "source": [
    "g = sns.relplot(\n",
    "    data=plt_data.query(\"~subject.isin(@exclude_subjects)\"),\n",
    "    row=\"variable\",\n",
    "    row_order=plt_vars,\n",
    "    x=\"days\",\n",
    "    y=\"value\",\n",
    "    kind=\"line\",\n",
    "    estimator=\"mean\",\n",
    "    errorbar=(\"sd\", 1),\n",
    "    facet_kws={\"sharey\": False},\n",
    "    err_kws={\"alpha\": 0.6},\n",
    "    palette=palette,\n",
    "    hue=\"exp_type\",\n",
    "    hue_order=hue_order,\n",
    "    marker=\"o\",\n",
    "    ms=2.5,\n",
    "    aspect=1.25,\n",
    "    height=1.4,\n",
    "    # legend=False,\n",
    ")\n",
    "# g.set(xlim=(0,12))\n",
    "g.set_titles(col_template=\"{col_name}\", row_template=\"{row_name}\")\n",
    "# g.set(xlim=(0,30))\n",
    "g.axes[0][0].set_ylabel(\"Pixel intensity\")\n",
    "\n",
    "for _ax, _name in zip(g.axes.ravel(), plt_vars):\n",
    "    _ax.axhline(ci_high[_name], color=ci_color, ls=\"--\")\n",
    "    _ax.axhline(ci_low[_name], color=ci_color, ls=\"--\")\n",
    "    xlim = _ax.get_xlim()\n",
    "    _ax.fill_between(\n",
    "        xlim, ci_low[_name], ci_high[_name], alpha=0.3, zorder=-300, color=ci_color\n",
    "    )\n",
    "    _ax.set_xlim(xlim)\n",
    "    _ax.set_xticks(np.arange(0, xlim[1] + 1, 5))\n",
    "\n",
    "sns.despine(offset=5, trim=True)\n",
    "g.fig.savefig(os.path.join(save_dir, f\"qd_fluorescence_decay_{hue_order}_{agg_func.__name__}_rigv2.pdf\"), bbox_inches=\"tight\")"
   ]
  },
  {
   "cell_type": "code",
   "execution_count": 60,
   "id": "00d2e945-dcfb-47db-b727-97daca25654f",
   "metadata": {},
   "outputs": [],
   "source": [
    "use_cutoff_v2 = ci_high[plt_vars[0]]"
   ]
  },
  {
   "cell_type": "code",
   "execution_count": 61,
   "id": "e1f0e29b-fec5-4c6d-a637-534bb698919c",
   "metadata": {},
   "outputs": [],
   "source": [
    "decay_times_v2 = plt_data.query(\"variable == @plt_vars[0] and ~subject.isin(@exclude_subjects)\").groupby([\"exp_type\", \"subject\", \"camera\"])[\n",
    "    [\"subject\", \"camera\", \"days\", \"value\"]\n",
    "].apply(lambda x: get_time_to_baseline(x, use_cutoff_v2)).dropna().rename(\"decay\").dropna().reset_index()"
   ]
  },
  {
   "cell_type": "code",
   "execution_count": 62,
   "id": "a6fcd3bd-ad63-4d3c-8556-ee22a4b5f347",
   "metadata": {},
   "outputs": [
    {
     "name": "stderr",
     "output_type": "stream",
     "text": [
      "/tmp/ipykernel_3859/1378884127.py:3: DeprecationWarning: DataFrameGroupBy.apply operated on the grouping columns. This behavior is deprecated, and in a future version of pandas the grouping columns will be excluded from the operation. Either pass `include_groups=False` to exclude the groupings or explicitly select the grouping columns after groupby to silence this warning.\n",
      "  ).apply(lambda x: (x[\"value\"].diff() / x[\"days\"].diff()).mean()).rename(\"decay\").dropna().reset_index()\n"
     ]
    }
   ],
   "source": [
    "decay_rate_v2 = plt_data.query(\"~subject.isin(@exclude_subjects) and variable == 'q1.0_fullframe_bpass_norm'\").groupby(\n",
    "    [\"exp_type\", \"subject\", \"camera\"]\n",
    ").apply(lambda x: (x[\"value\"].diff() / x[\"days\"].diff()).mean()).rename(\"decay\").dropna().reset_index()"
   ]
  },
  {
   "cell_type": "code",
   "execution_count": 63,
   "id": "9f833dd1-30cd-4134-904f-6dd9835c37bc",
   "metadata": {},
   "outputs": [],
   "source": [
    "# brightness_v2 = plt_data.query(\"~subject.isin(@exclude_subjects) and variable == 'q1.0_fullframe_bpass' and days <= 0.0\").groupby(\n",
    "#     [\"exp_type\", \"subject\", \"camera\"])[\"value\"].mean().rename(\"brightness\").reset_index()"
   ]
  },
  {
   "cell_type": "code",
   "execution_count": 64,
   "id": "b97b45bb-5567-4bcc-b463-51dc24e07aba",
   "metadata": {},
   "outputs": [],
   "source": [
    "# overall brightness"
   ]
  },
  {
   "cell_type": "code",
   "execution_count": 65,
   "id": "e1b5a838-1c53-4baf-8ecc-5ca795f28709",
   "metadata": {},
   "outputs": [
    {
     "name": "stderr",
     "output_type": "stream",
     "text": [
      "/tmp/ipykernel_3859/1625300204.py:2: UserWarning: The palette list has more values (8) than needed (3), which may not be intended.\n",
      "  sns.stripplot(\n",
      "/tmp/ipykernel_3859/1625300204.py:11: UserWarning: The palette list has more values (8) than needed (3), which may not be intended.\n",
      "  sns.stripplot(\n"
     ]
    },
    {
     "data": {
      "image/png": "[encoded data removed]",
      "text/plain": [
       "<Figure size 110x230 with 2 Axes>"
      ]
     },
     "metadata": {},
     "output_type": "display_data"
    }
   ],
   "source": [
    "fig, ax = plt.subplots(2, 1, figsize=(1.1, 2.3), sharex=True, sharey=False)\n",
    "sns.stripplot(\n",
    "    data=brightness,\n",
    "    hue=\"exp_type\",\n",
    "    hue_order=hue_order,\n",
    "    palette=palette,\n",
    "    dodge=True,\n",
    "    y=\"brightness\",\n",
    "    ax=ax[0],\n",
    ")\n",
    "sns.stripplot(\n",
    "    data=decay_times_v2,\n",
    "    hue=\"exp_type\",\n",
    "    hue_order=hue_order,\n",
    "    palette=palette,\n",
    "    dodge=True,\n",
    "    y=\"decay\",\n",
    "    ax=ax[1],\n",
    ")\n",
    "for _ax in ax:\n",
    "    _ax.set_xticks([])\n",
    "ax[0].legend().remove()\n",
    "ax[0].set_ylabel(\"Fluo. on day 0\")\n",
    "ax[1].legend().remove()\n",
    "ax[1].legend(bbox_to_anchor=(1.05, 0.5))\n",
    "ax[1].set_xlabel(\"QD variant\")\n",
    "ax[1].set_ylabel(\"Fluo. longevity (days)\")\n",
    "sns.despine(offset=5, trim=True)\n",
    "fig.savefig(os.path.join(save_dir, f\"qd_fluorescence_decay_rate_brightness_{hue_order}_{agg_func.__name__}_rigv2.pdf\"), bbox_inches=\"tight\")"
   ]
  },
  {
   "cell_type": "markdown",
   "id": "f7320c3c-7f5a-4cec-b9e8-5809d2f6ed3f",
   "metadata": {},
   "source": [
    "# Slightly different brightness calculations for beads_v2 (account for mean better)"
   ]
  },
  {
   "cell_type": "code",
   "execution_count": 66,
   "id": "17c87f6e-a5f5-46b9-afb6-540c3af86fae",
   "metadata": {},
   "outputs": [],
   "source": [
    "plt_vars = [\"std_intensity_fullframe_bpass\"]\n",
    "# agg_func = lambda x: np.quantile(x, .5)\n",
    "# agg_func.__name__ = \"q.95\"\n",
    "agg_func_snr = np.mean"
   ]
  },
  {
   "cell_type": "code",
   "execution_count": 67,
   "id": "58500e11-8393-412f-b37d-93f6b258e050",
   "metadata": {
    "tags": []
   },
   "outputs": [
    {
     "name": "stderr",
     "output_type": "stream",
     "text": [
      "/tmp/ipykernel_3859/692032113.py:3: FutureWarning: The provided callable <function mean at 0x7fd84aafadd0> is currently using DataFrameGroupBy.mean. In a future version of pandas, the provided callable will be used directly. To keep current behavior pass the string \"mean\" instead.\n",
      "  .agg(agg_func_snr)\n"
     ]
    }
   ],
   "source": [
    "plt_data = (\n",
    "    fluo_df.groupby([\"days\", \"subject\", \"camera\", \"exp_type\"])[plt_vars]\n",
    "    .agg(agg_func_snr)\n",
    "    # .mean()\n",
    ")"
   ]
  },
  {
   "cell_type": "code",
   "execution_count": 68,
   "id": "ae3fbc12-2683-4e1a-8708-a9c20d89c7e2",
   "metadata": {
    "tags": []
   },
   "outputs": [],
   "source": [
    "plt_data = plt_data.melt(ignore_index=False).reset_index()"
   ]
  },
  {
   "cell_type": "code",
   "execution_count": 69,
   "id": "39751655-ef9b-4c88-99a0-8e41e43a2325",
   "metadata": {},
   "outputs": [],
   "source": [
    "plt_data.loc[plt_data[\"exp_type\"].isin([\"qd_cell_labels\", \"qd_vascular_labels\"]), \"exp_class\"] = \"base_qds\"\n",
    "plt_data.loc[plt_data[\"exp_type\"].isin([\"vehicle\", \"blank\"]), \"exp_class\"] = \"ctrl\""
   ]
  },
  {
   "cell_type": "code",
   "execution_count": 70,
   "id": "6dcf72d4-4b38-4b7d-9038-f0fed2728c91",
   "metadata": {},
   "outputs": [],
   "source": [
    "brightness_snr = plt_data.query(\"~subject.isin(@exclude_subjects) and variable == @plt_vars[0] and days <= 0.0\").groupby(\n",
    "    [\"exp_type\", \"subject\", \"camera\"])[\"value\"].mean().rename(\"brightness\").reset_index()"
   ]
  },
  {
   "cell_type": "code",
   "execution_count": 71,
   "id": "b6809ede-b4ee-40e3-a0f1-05747513725e",
   "metadata": {},
   "outputs": [],
   "source": [
    "reader = vid.io.AutoReader(fluo_df[\"filename\"].iat[0])"
   ]
  },
  {
   "cell_type": "code",
   "execution_count": 72,
   "id": "78a581e8-35c7-4676-befc-814ac6f938af",
   "metadata": {},
   "outputs": [],
   "source": [
    "npixels = np.prod(reader.frame_size)"
   ]
  },
  {
   "cell_type": "code",
   "execution_count": 73,
   "id": "cbc148be-48ab-43d9-bd74-57b66f765ff5",
   "metadata": {},
   "outputs": [],
   "source": [
    "reader.close()"
   ]
  },
  {
   "cell_type": "code",
   "execution_count": 74,
   "id": "7c18b473-1098-4355-a764-109eae51fd3e",
   "metadata": {},
   "outputs": [],
   "source": [
    "hue_order = [\"qd_vascular_labels\", \"qd_cell_labels\", \"qd_beads\", \"qd_beads_v2\"]"
   ]
  },
  {
   "cell_type": "code",
   "execution_count": 75,
   "id": "2412ed44-f1a7-4fff-aaff-b0634b92d129",
   "metadata": {},
   "outputs": [],
   "source": [
    "baseline = brightness_snr.query(\"exp_type in ['blank','vehicle']\")"
   ]
  },
  {
   "cell_type": "code",
   "execution_count": 76,
   "id": "8d0326cd-e451-4e55-bbb0-7c6e46faf069",
   "metadata": {},
   "outputs": [],
   "source": [
    "baseline_v2 = brightness_snr.query(\"exp_type in ['vehicle_v2']\")"
   ]
  },
  {
   "cell_type": "code",
   "execution_count": 77,
   "id": "23b0a1d5-0b58-4bb2-96aa-f19cafda53d3",
   "metadata": {},
   "outputs": [],
   "source": [
    "snr_v2 = brightness_snr.query(\"exp_type.str.contains('v2')\")[\"brightness\"] / baseline_v2[\"brightness\"].mean()"
   ]
  },
  {
   "cell_type": "code",
   "execution_count": 78,
   "id": "c9da4143-6983-4007-9c4b-0454b10c0915",
   "metadata": {},
   "outputs": [
    {
     "data": {
      "text/plain": [
       "15     1.466314\n",
       "16     1.035481\n",
       "17     1.376678\n",
       "18     1.200158\n",
       "19     0.838768\n",
       "         ...   \n",
       "195    1.251928\n",
       "196    0.797211\n",
       "197    1.131404\n",
       "198    1.272751\n",
       "199    0.754566\n",
       "Name: brightness, Length: 90, dtype: float64"
      ]
     },
     "execution_count": 78,
     "metadata": {},
     "output_type": "execute_result"
    }
   ],
   "source": [
    "snr_v2"
   ]
  },
  {
   "cell_type": "code",
   "execution_count": 79,
   "id": "f2b6cfa9-80ab-4426-9d94-637c8ded84a4",
   "metadata": {},
   "outputs": [],
   "source": [
    "brightness_snr[\"snr\"] = brightness_snr[\"brightness\"] / baseline[\"brightness\"].mean()\n",
    "brightness_snr.loc[snr_v2.index, \"snr\"] = snr_v2 "
   ]
  },
  {
   "cell_type": "code",
   "execution_count": 80,
   "id": "8483e417-320a-4be0-992e-053361b0fa93",
   "metadata": {},
   "outputs": [],
   "source": [
    "setup_plotting_env()"
   ]
  },
  {
   "cell_type": "code",
   "execution_count": 81,
   "id": "1115d9a5-7072-4c28-ae38-a80e71fd2735",
   "metadata": {},
   "outputs": [],
   "source": [
    "# sns.set_context(\"paper\")"
   ]
  },
  {
   "cell_type": "code",
   "execution_count": 82,
   "id": "0068a6b3-8308-403d-ad79-acec9b086f09",
   "metadata": {},
   "outputs": [
    {
     "name": "stderr",
     "output_type": "stream",
     "text": [
      "/tmp/ipykernel_3859/1401599070.py:7: UserWarning: set_ticklabels() should only be used with a fixed number of ticks, i.e. after set_ticks() or using a FixedLocator.\n",
      "  ax.set_xticklabels([\"var. 1\",\"var. 2\",\"var. 3\",\"var. 3 (rig v2)\"])\n"
     ]
    },
    {
     "data": {
      "image/png": "[encoded data removed]",
      "text/plain": [
       "<Figure size 100x150 with 1 Axes>"
      ]
     },
     "metadata": {},
     "output_type": "display_data"
    }
   ],
   "source": [
    "fig, ax = plt.subplots(1, figsize=(1,1.5))\n",
    "sns.stripplot(brightness_snr,\n",
    "              x=\"exp_type\",\n",
    "              y=\"snr\",\n",
    "              order=hue_order)\n",
    "ax.set_yticks(np.arange(0, 20, 5))\n",
    "ax.set_xticklabels([\"var. 1\",\"var. 2\",\"var. 3\",\"var. 3 (rig v2)\"])\n",
    "ax.tick_params(axis='x', rotation=45)\n",
    "ax.set_xlabel(\"\")\n",
    "ax.set_ylim(0, 20)\n",
    "sns.despine(offset=5, trim=True)\n",
    "fig.savefig(os.path.join(save_dir, \"beads_v2_snr_comparison.pdf\"), bbox_inches=\"tight\", dpi=600)"
   ]
  },
  {
   "cell_type": "code",
   "execution_count": 83,
   "id": "622c525e-6828-4fe0-8a9b-4a279f71ec6c",
   "metadata": {},
   "outputs": [],
   "source": [
    "stat_func = mannwhitneyu\n",
    "groups = sorted([\"qd_cell_labels\", \"qd_vascular_labels\", \"qd_beads\",\"qd_beads_v2\", \"qd_conj_coll_click_v2\",\"qd_conj_fibro_click_v2\"])\n",
    "stat_dct = {}\n",
    "for i, _group1 in enumerate(groups):\n",
    "    for _group2  in groups[i+1:]:\n",
    "        if _group1 == _group2:\n",
    "            continue\n",
    "        dat = decay_times.set_index(\"exp_type\")[\"decay\"]\n",
    "        dat1 = dat.loc[_group1]\n",
    "        dat2 = dat.loc[_group2]\n",
    "        n1 = len(dat1)\n",
    "        n2 = len(dat2)\n",
    "        val, pval = stat_func(dat1, dat2)\n",
    "        subkey = f\"{_group1}-{_group2}\"\n",
    "        stat_dct[subkey] = {}\n",
    "        stat_dct[subkey][\"decay_time\"] = {}\n",
    "        stat_dct[subkey][\"decay_time\"][\"statistic\"] = val\n",
    "        stat_dct[subkey][\"decay_time\"][\"pval\"] = pval\n",
    "        stat_dct[subkey][\"decay_time\"][\"test\"] = stat_func.__name__\n",
    "        stat_dct[subkey][\"decay_time\"][\"f\"] = val  / (n1*n2)\n",
    "\n",
    "\n",
    "        dat = decay_times_v2.set_index(\"exp_type\")[\"decay\"]\n",
    "        dat1 = dat.loc[_group1]\n",
    "        dat2 = dat.loc[_group2]\n",
    "        n1 = len(dat1)\n",
    "        n2 = len(dat2)\n",
    "        val, pval = stat_func(dat1, dat2)\n",
    "        subkey = f\"{_group1}-{_group2}\"\n",
    "        stat_dct[subkey][\"decay_time_v2\"] = {}\n",
    "        stat_dct[subkey][\"decay_time_v2\"][\"statistic\"] = val\n",
    "        stat_dct[subkey][\"decay_time_v2\"][\"pval\"] = pval\n",
    "        stat_dct[subkey][\"decay_time_v2\"][\"test\"] = stat_func.__name__\n",
    "        stat_dct[subkey][\"decay_time_v2\"][\"f\"] = val  / (n1*n2)\n",
    "\n",
    "        dat = brightness.set_index(\"exp_type\")[\"brightness\"]\n",
    "        dat1 = dat.loc[_group1]\n",
    "        dat2 = dat.loc[_group2]\n",
    "        n1 = len(dat1)\n",
    "        n2 = len(dat2)\n",
    "        val, pval = stat_func(dat1, dat2)\n",
    "        subkey = f\"{_group1}-{_group2}\"\n",
    "        stat_dct[subkey][\"brightness\"] = {}\n",
    "        stat_dct[subkey][\"brightness\"][\"statistic\"] = val\n",
    "        stat_dct[subkey][\"brightness\"][\"pval\"] = pval\n",
    "        stat_dct[subkey][\"brightness\"][\"test\"] = stat_func.__name__\n",
    "        stat_dct[subkey][\"brightness\"][\"f\"] = val  / (n1*n2)\n",
    "\n",
    "        dat = brightness_snr.set_index(\"exp_type\")[\"snr\"]\n",
    "        dat1 = dat.loc[_group1]\n",
    "        dat2 = dat.loc[_group2]\n",
    "        n1 = len(dat1)\n",
    "        n2 = len(dat2)\n",
    "        val, pval = stat_func(dat1, dat2)\n",
    "        subkey = f\"{_group1}-{_group2}\"\n",
    "        stat_dct[subkey][\"brightness_snr\"] = {}\n",
    "        stat_dct[subkey][\"brightness_snr\"][\"statistic\"] = val\n",
    "        stat_dct[subkey][\"brightness_snr\"][\"pval\"] = pval\n",
    "        stat_dct[subkey][\"brightness_snr\"][\"test\"] = stat_func.__name__\n",
    "        stat_dct[subkey][\"brightness_snr\"][\"f\"] = val  / (n1*n2)\n",
    "        \n",
    "# stat_dct = {\n",
    "#     \"test\": stat_func.__name__,\n",
    "#     \"n\": {},\n",
    "#     \"statistic\": val,\n",
    "#     \"pval\": pval,\n",
    "# }"
   ]
  },
  {
   "cell_type": "code",
   "execution_count": 84,
   "id": "0a9effa3-2aaa-4476-8171-02db3b7026cc",
   "metadata": {},
   "outputs": [],
   "source": [
    "stat_dct[\"n\"] = {}\n",
    "for k, v in decay_rate.groupby(\"exp_type\").size().items():\n",
    "    stat_dct[\"n\"][k] = v"
   ]
  },
  {
   "cell_type": "code",
   "execution_count": 85,
   "id": "4b1ffbb2-5f7c-46b7-b1f8-448989955ed3",
   "metadata": {},
   "outputs": [
    {
     "data": {
      "text/plain": [
       "{'qd_beads-qd_beads_v2': {'decay_time': {'statistic': 165.5,\n",
       "   'pval': 0.026159040214902035,\n",
       "   'test': 'mannwhitneyu',\n",
       "   'f': 0.7355555555555555},\n",
       "  'decay_time_v2': {'statistic': 220.0,\n",
       "   'pval': 2.3986254031068648e-06,\n",
       "   'test': 'mannwhitneyu',\n",
       "   'f': 0.9777777777777777},\n",
       "  'brightness': {'statistic': 106.0,\n",
       "   'pval': 0.8033339632526271,\n",
       "   'test': 'mannwhitneyu',\n",
       "   'f': 0.4711111111111111},\n",
       "  'brightness_snr': {'statistic': 0.0,\n",
       "   'pval': 3.3918213908250945e-06,\n",
       "   'test': 'mannwhitneyu',\n",
       "   'f': 0.0}},\n",
       " 'qd_beads-qd_cell_labels': {'decay_time': {'statistic': 225.0,\n",
       "   'pval': 2.2760631419476453e-06,\n",
       "   'test': 'mannwhitneyu',\n",
       "   'f': 1.0},\n",
       "  'decay_time_v2': {'statistic': 225.0,\n",
       "   'pval': 1.9732739133712241e-07,\n",
       "   'test': 'mannwhitneyu',\n",
       "   'f': 1.0},\n",
       "  'brightness': {'statistic': 144.5,\n",
       "   'pval': 0.191115455995173,\n",
       "   'test': 'mannwhitneyu',\n",
       "   'f': 0.6422222222222222},\n",
       "  'brightness_snr': {'statistic': 195.0,\n",
       "   'pval': 0.0006709034051003711,\n",
       "   'test': 'mannwhitneyu',\n",
       "   'f': 0.8666666666666667}},\n",
       " 'qd_beads-qd_conj_coll_click_v2': {'decay_time': {'statistic': 0.0,\n",
       "   'pval': 1.52075722809125e-05,\n",
       "   'test': 'mannwhitneyu',\n",
       "   'f': 0.0},\n",
       "  'decay_time_v2': {'statistic': 0.0,\n",
       "   'pval': 2.1848245563108234e-06,\n",
       "   'test': 'mannwhitneyu',\n",
       "   'f': 0.0},\n",
       "  'brightness': {'statistic': 88.0,\n",
       "   'pval': 0.4878229367175113,\n",
       "   'test': 'mannwhitneyu',\n",
       "   'f': 0.5866666666666667},\n",
       "  'brightness_snr': {'statistic': 0.0,\n",
       "   'pval': 3.588130594020882e-05,\n",
       "   'test': 'mannwhitneyu',\n",
       "   'f': 0.0}},\n",
       " 'qd_beads-qd_conj_fibro_click_v2': {'decay_time': {'statistic': 0.0,\n",
       "   'pval': 1.52075722809125e-05,\n",
       "   'test': 'mannwhitneyu',\n",
       "   'f': 0.0},\n",
       "  'decay_time_v2': {'statistic': 0.0,\n",
       "   'pval': 2.1848245563108234e-06,\n",
       "   'test': 'mannwhitneyu',\n",
       "   'f': 0.0},\n",
       "  'brightness': {'statistic': 93.0,\n",
       "   'pval': 0.33140594694491454,\n",
       "   'test': 'mannwhitneyu',\n",
       "   'f': 0.62},\n",
       "  'brightness_snr': {'statistic': 0.0,\n",
       "   'pval': 3.588130594020882e-05,\n",
       "   'test': 'mannwhitneyu',\n",
       "   'f': 0.0}},\n",
       " 'qd_beads-qd_vascular_labels': {'decay_time': {'statistic': 225.0,\n",
       "   'pval': 2.4980983034803576e-06,\n",
       "   'test': 'mannwhitneyu',\n",
       "   'f': 1.0},\n",
       "  'decay_time_v2': {'statistic': 225.0,\n",
       "   'pval': 1.2937394003461027e-07,\n",
       "   'test': 'mannwhitneyu',\n",
       "   'f': 1.0},\n",
       "  'brightness': {'statistic': 173.0,\n",
       "   'pval': 0.012791753231264654,\n",
       "   'test': 'mannwhitneyu',\n",
       "   'f': 0.7688888888888888},\n",
       "  'brightness_snr': {'statistic': 189.0,\n",
       "   'pval': 0.001619713575230349,\n",
       "   'test': 'mannwhitneyu',\n",
       "   'f': 0.84}},\n",
       " 'qd_beads_v2-qd_cell_labels': {'decay_time': {'statistic': 225.0,\n",
       "   'pval': 2.350261842916834e-06,\n",
       "   'test': 'mannwhitneyu',\n",
       "   'f': 1.0},\n",
       "  'decay_time_v2': {'statistic': 225.0,\n",
       "   'pval': 7.934861345998575e-07,\n",
       "   'test': 'mannwhitneyu',\n",
       "   'f': 1.0},\n",
       "  'brightness': {'statistic': 142.5,\n",
       "   'pval': 0.22084507151192823,\n",
       "   'test': 'mannwhitneyu',\n",
       "   'f': 0.6333333333333333},\n",
       "  'brightness_snr': {'statistic': 225.0,\n",
       "   'pval': 3.3918213908250945e-06,\n",
       "   'test': 'mannwhitneyu',\n",
       "   'f': 1.0}},\n",
       " 'qd_beads_v2-qd_conj_coll_click_v2': {'decay_time': {'statistic': 0.0,\n",
       "   'pval': 1.597732946346418e-05,\n",
       "   'test': 'mannwhitneyu',\n",
       "   'f': 0.0},\n",
       "  'decay_time_v2': {'statistic': 0.0,\n",
       "   'pval': 1.5333760082894072e-05,\n",
       "   'test': 'mannwhitneyu',\n",
       "   'f': 0.0},\n",
       "  'brightness': {'statistic': 86.0,\n",
       "   'pval': 0.5602735733449105,\n",
       "   'test': 'mannwhitneyu',\n",
       "   'f': 0.5733333333333334},\n",
       "  'brightness_snr': {'statistic': 123.0,\n",
       "   'pval': 0.008418044065352098,\n",
       "   'test': 'mannwhitneyu',\n",
       "   'f': 0.82}},\n",
       " 'qd_beads_v2-qd_conj_fibro_click_v2': {'decay_time': {'statistic': 0.0,\n",
       "   'pval': 1.597732946346418e-05,\n",
       "   'test': 'mannwhitneyu',\n",
       "   'f': 0.0},\n",
       "  'decay_time_v2': {'statistic': 0.0,\n",
       "   'pval': 1.5333760082894072e-05,\n",
       "   'test': 'mannwhitneyu',\n",
       "   'f': 0.0},\n",
       "  'brightness': {'statistic': 88.0,\n",
       "   'pval': 0.4880740931652481,\n",
       "   'test': 'mannwhitneyu',\n",
       "   'f': 0.5866666666666667},\n",
       "  'brightness_snr': {'statistic': 121.0,\n",
       "   'pval': 0.011606559575880577,\n",
       "   'test': 'mannwhitneyu',\n",
       "   'f': 0.8066666666666666}},\n",
       " 'qd_beads_v2-qd_vascular_labels': {'decay_time': {'statistic': 225.0,\n",
       "   'pval': 2.5782433126794544e-06,\n",
       "   'test': 'mannwhitneyu',\n",
       "   'f': 1.0},\n",
       "  'decay_time_v2': {'statistic': 225.0,\n",
       "   'pval': 5.632684736538277e-07,\n",
       "   'test': 'mannwhitneyu',\n",
       "   'f': 1.0},\n",
       "  'brightness': {'statistic': 158.0,\n",
       "   'pval': 0.06191158290478604,\n",
       "   'test': 'mannwhitneyu',\n",
       "   'f': 0.7022222222222222},\n",
       "  'brightness_snr': {'statistic': 225.0,\n",
       "   'pval': 3.3918213908250945e-06,\n",
       "   'test': 'mannwhitneyu',\n",
       "   'f': 1.0}},\n",
       " 'qd_cell_labels-qd_conj_coll_click_v2': {'decay_time': {'statistic': 0.0,\n",
       "   'pval': 1.3412475516525024e-05,\n",
       "   'test': 'mannwhitneyu',\n",
       "   'f': 0.0},\n",
       "  'decay_time_v2': {'statistic': 0.0,\n",
       "   'pval': 2.1848245563108234e-06,\n",
       "   'test': 'mannwhitneyu',\n",
       "   'f': 0.0},\n",
       "  'brightness': {'statistic': 66.0,\n",
       "   'pval': 0.6372224178335537,\n",
       "   'test': 'mannwhitneyu',\n",
       "   'f': 0.44},\n",
       "  'brightness_snr': {'statistic': 0.0,\n",
       "   'pval': 3.588130594020882e-05,\n",
       "   'test': 'mannwhitneyu',\n",
       "   'f': 0.0}},\n",
       " 'qd_cell_labels-qd_conj_fibro_click_v2': {'decay_time': {'statistic': 0.0,\n",
       "   'pval': 1.3412475516525024e-05,\n",
       "   'test': 'mannwhitneyu',\n",
       "   'f': 0.0},\n",
       "  'decay_time_v2': {'statistic': 0.0,\n",
       "   'pval': 2.1848245563108234e-06,\n",
       "   'test': 'mannwhitneyu',\n",
       "   'f': 0.0},\n",
       "  'brightness': {'statistic': 79.0,\n",
       "   'pval': 0.8460330515634142,\n",
       "   'test': 'mannwhitneyu',\n",
       "   'f': 0.5266666666666666},\n",
       "  'brightness_snr': {'statistic': 0.0,\n",
       "   'pval': 3.588130594020882e-05,\n",
       "   'test': 'mannwhitneyu',\n",
       "   'f': 0.0}},\n",
       " 'qd_cell_labels-qd_vascular_labels': {'decay_time': {'statistic': 219.0,\n",
       "   'pval': 6.9143653089592625e-06,\n",
       "   'test': 'mannwhitneyu',\n",
       "   'f': 0.9733333333333334},\n",
       "  'decay_time_v2': {'statistic': 225.0,\n",
       "   'pval': 1.2937394003461027e-07,\n",
       "   'test': 'mannwhitneyu',\n",
       "   'f': 1.0},\n",
       "  'brightness': {'statistic': 142.0,\n",
       "   'pval': 0.22897717637243786,\n",
       "   'test': 'mannwhitneyu',\n",
       "   'f': 0.6311111111111111},\n",
       "  'brightness_snr': {'statistic': 111.0,\n",
       "   'pval': 0.9669147771731937,\n",
       "   'test': 'mannwhitneyu',\n",
       "   'f': 0.49333333333333335}},\n",
       " 'qd_conj_coll_click_v2-qd_conj_fibro_click_v2': {'decay_time': {'statistic': 50.0,\n",
       "   'pval': 1.0,\n",
       "   'test': 'mannwhitneyu',\n",
       "   'f': 0.5},\n",
       "  'decay_time_v2': {'statistic': 50.0,\n",
       "   'pval': 1.0,\n",
       "   'test': 'mannwhitneyu',\n",
       "   'f': 0.5},\n",
       "  'brightness': {'statistic': 58.0,\n",
       "   'pval': 0.5707503880581739,\n",
       "   'test': 'mannwhitneyu',\n",
       "   'f': 0.58},\n",
       "  'brightness_snr': {'statistic': 43.0,\n",
       "   'pval': 0.6231762238821174,\n",
       "   'test': 'mannwhitneyu',\n",
       "   'f': 0.43}},\n",
       " 'qd_conj_coll_click_v2-qd_vascular_labels': {'decay_time': {'statistic': 150.0,\n",
       "   'pval': 1.552461183385572e-05,\n",
       "   'test': 'mannwhitneyu',\n",
       "   'f': 1.0},\n",
       "  'decay_time_v2': {'statistic': 150.0,\n",
       "   'pval': 1.136955937790743e-06,\n",
       "   'test': 'mannwhitneyu',\n",
       "   'f': 1.0},\n",
       "  'brightness': {'statistic': 106.5,\n",
       "   'pval': 0.08545036776470862,\n",
       "   'test': 'mannwhitneyu',\n",
       "   'f': 0.71},\n",
       "  'brightness_snr': {'statistic': 150.0,\n",
       "   'pval': 3.588130594020882e-05,\n",
       "   'test': 'mannwhitneyu',\n",
       "   'f': 1.0}},\n",
       " 'qd_conj_fibro_click_v2-qd_vascular_labels': {'decay_time': {'statistic': 150.0,\n",
       "   'pval': 1.552461183385572e-05,\n",
       "   'test': 'mannwhitneyu',\n",
       "   'f': 1.0},\n",
       "  'decay_time_v2': {'statistic': 150.0,\n",
       "   'pval': 1.136955937790743e-06,\n",
       "   'test': 'mannwhitneyu',\n",
       "   'f': 1.0},\n",
       "  'brightness': {'statistic': 80.5,\n",
       "   'pval': 0.7814703327779584,\n",
       "   'test': 'mannwhitneyu',\n",
       "   'f': 0.5366666666666666},\n",
       "  'brightness_snr': {'statistic': 150.0,\n",
       "   'pval': 3.588130594020882e-05,\n",
       "   'test': 'mannwhitneyu',\n",
       "   'f': 1.0}},\n",
       " 'n': {'null_v2': 15,\n",
       "  'qd_alg': 10,\n",
       "  'qd_alg_caco3': 10,\n",
       "  'qd_beads': 15,\n",
       "  'qd_beads_v2': 15,\n",
       "  'qd_cell_labels': 15,\n",
       "  'qd_cell_labels_v2': 10,\n",
       "  'qd_conj_coll_bio_v2': 10,\n",
       "  'qd_conj_coll_click_v2': 10,\n",
       "  'qd_conj_fibro_bio_v2': 10,\n",
       "  'qd_conj_fibro_click_v2': 10,\n",
       "  'qd_saqd': 15,\n",
       "  'qd_vascular_labels': 15}}"
      ]
     },
     "execution_count": 85,
     "metadata": {},
     "output_type": "execute_result"
    }
   ],
   "source": [
    "stat_dct"
   ]
  },
  {
   "cell_type": "code",
   "execution_count": 86,
   "id": "23242459-e5f9-4ee9-89be-88fb9f2f17c8",
   "metadata": {},
   "outputs": [],
   "source": [
    "decay_rate_summary_dict = decay_rate.groupby(\"exp_type\")[\"decay\"].agg([\"mean\",\"std\"]).to_dict()\n",
    "decay_times_summary_dict = decay_times.groupby(\"exp_type\")[\"decay\"].agg([\"mean\",\"std\"]).to_dict()\n",
    "brightness_summary_dict = brightness.groupby(\"exp_type\")[\"brightness\"].agg([\"mean\",\"std\"]).to_dict()\n",
    "decay_rate_v2_summary_dict = decay_rate_v2.groupby(\"exp_type\")[\"decay\"].agg([\"mean\",\"std\"]).to_dict()\n",
    "decay_times_v2_summary_dict = decay_times_v2.groupby(\"exp_type\")[\"decay\"].agg([\"mean\",\"std\"]).to_dict()\n",
    "# brightness_v2_summary_dict = brightness_v2.groupby(\"exp_type\")[\"brightness\"].agg([\"mean\",\"std\"]).to_dict()\n",
    "snr_summary_dict = brightness_snr.groupby(\"exp_type\")[\"snr\"].agg([\"mean\",\"std\"]).to_dict()"
   ]
  },
  {
   "cell_type": "code",
   "execution_count": 87,
   "id": "d9fc7132-22fc-4873-9ac1-b9a2d2668a10",
   "metadata": {},
   "outputs": [
    {
     "data": {
      "text/html": [
       "<div>\n",
       "<style scoped>\n",
       "    .dataframe tbody tr th:only-of-type {\n",
       "        vertical-align: middle;\n",
       "    }\n",
       "\n",
       "    .dataframe tbody tr th {\n",
       "        vertical-align: top;\n",
       "    }\n",
       "\n",
       "    .dataframe thead th {\n",
       "        text-align: right;\n",
       "    }\n",
       "</style>\n",
       "<table border=\"1\" class=\"dataframe\">\n",
       "  <thead>\n",
       "    <tr style=\"text-align: right;\">\n",
       "      <th></th>\n",
       "      <th>exp_type</th>\n",
       "      <th>subject</th>\n",
       "      <th>camera</th>\n",
       "      <th>decay</th>\n",
       "    </tr>\n",
       "  </thead>\n",
       "  <tbody>\n",
       "    <tr>\n",
       "      <th>0</th>\n",
       "      <td>blank</td>\n",
       "      <td>qd_blank</td>\n",
       "      <td>Basler-267601741000-24383488</td>\n",
       "      <td>0.0</td>\n",
       "    </tr>\n",
       "    <tr>\n",
       "      <th>1</th>\n",
       "      <td>blank</td>\n",
       "      <td>qd_blank</td>\n",
       "      <td>Basler-26760175421F-24461855</td>\n",
       "      <td>0.0</td>\n",
       "    </tr>\n",
       "    <tr>\n",
       "      <th>2</th>\n",
       "      <td>blank</td>\n",
       "      <td>qd_blank_01</td>\n",
       "      <td>Basler-26760175421F-24461855</td>\n",
       "      <td>0.0</td>\n",
       "    </tr>\n",
       "    <tr>\n",
       "      <th>3</th>\n",
       "      <td>blank</td>\n",
       "      <td>qd_blank_02</td>\n",
       "      <td>Basler-267601746223-24404515</td>\n",
       "      <td>0.0</td>\n",
       "    </tr>\n",
       "    <tr>\n",
       "      <th>4</th>\n",
       "      <td>blank</td>\n",
       "      <td>qd_blank_02</td>\n",
       "      <td>Basler-26760175421F-24461855</td>\n",
       "      <td>0.0</td>\n",
       "    </tr>\n",
       "    <tr>\n",
       "      <th>...</th>\n",
       "      <td>...</td>\n",
       "      <td>...</td>\n",
       "      <td>...</td>\n",
       "      <td>...</td>\n",
       "    </tr>\n",
       "    <tr>\n",
       "      <th>158</th>\n",
       "      <td>qd_vascular_labels</td>\n",
       "      <td>qd_vasc_03</td>\n",
       "      <td>Basler-2676017611A4-24514980</td>\n",
       "      <td>0.0</td>\n",
       "    </tr>\n",
       "    <tr>\n",
       "      <th>159</th>\n",
       "      <td>vehicle</td>\n",
       "      <td>qd_vehicle_01</td>\n",
       "      <td>Basler-267601746223-24404515</td>\n",
       "      <td>0.0</td>\n",
       "    </tr>\n",
       "    <tr>\n",
       "      <th>160</th>\n",
       "      <td>vehicle</td>\n",
       "      <td>qd_vehicle_01</td>\n",
       "      <td>Basler-26760175421F-24461855</td>\n",
       "      <td>0.0</td>\n",
       "    </tr>\n",
       "    <tr>\n",
       "      <th>161</th>\n",
       "      <td>vehicle</td>\n",
       "      <td>qd_vehicle_03</td>\n",
       "      <td>Basler-267601746223-24404515</td>\n",
       "      <td>0.0</td>\n",
       "    </tr>\n",
       "    <tr>\n",
       "      <th>162</th>\n",
       "      <td>vehicle</td>\n",
       "      <td>qd_vehicle_03</td>\n",
       "      <td>Basler-26760175421F-24461855</td>\n",
       "      <td>0.0</td>\n",
       "    </tr>\n",
       "  </tbody>\n",
       "</table>\n",
       "<p>163 rows × 4 columns</p>\n",
       "</div>"
      ],
      "text/plain": [
       "               exp_type        subject                        camera  decay\n",
       "0                 blank       qd_blank  Basler-267601741000-24383488    0.0\n",
       "1                 blank       qd_blank  Basler-26760175421F-24461855    0.0\n",
       "2                 blank    qd_blank_01  Basler-26760175421F-24461855    0.0\n",
       "3                 blank    qd_blank_02  Basler-267601746223-24404515    0.0\n",
       "4                 blank    qd_blank_02  Basler-26760175421F-24461855    0.0\n",
       "..                  ...            ...                           ...    ...\n",
       "158  qd_vascular_labels     qd_vasc_03  Basler-2676017611A4-24514980    0.0\n",
       "159             vehicle  qd_vehicle_01  Basler-267601746223-24404515    0.0\n",
       "160             vehicle  qd_vehicle_01  Basler-26760175421F-24461855    0.0\n",
       "161             vehicle  qd_vehicle_03  Basler-267601746223-24404515    0.0\n",
       "162             vehicle  qd_vehicle_03  Basler-26760175421F-24461855    0.0\n",
       "\n",
       "[163 rows x 4 columns]"
      ]
     },
     "execution_count": 87,
     "metadata": {},
     "output_type": "execute_result"
    }
   ],
   "source": [
    "decay_times"
   ]
  },
  {
   "cell_type": "code",
   "execution_count": 88,
   "id": "18bb1b62-1e40-4d4f-9334-8ce32f15f54c",
   "metadata": {},
   "outputs": [],
   "source": [
    "stat_dct[\"decay_rate_summary\"] = decay_rate_summary_dict\n",
    "stat_dct[\"decay_times_summary\"] = decay_times_summary_dict\n",
    "stat_dct[\"brightness_summary\"] = brightness_summary_dict\n",
    "stat_dct[\"decay_rate_v2_summary\"] = decay_rate_v2_summary_dict\n",
    "stat_dct[\"decay_times_v2_summary\"] = decay_times_v2_summary_dict\n",
    "# stat_dct[\"brightness_v2_summary\"] = brightness_summary_dict\n",
    "stat_dct[\"snr_summary\"] = snr_summary_dict"
   ]
  },
  {
   "cell_type": "code",
   "execution_count": 89,
   "id": "204928c9-bc4c-43d6-9600-137875195719",
   "metadata": {},
   "outputs": [],
   "source": [
    "with open(os.path.join(save_dir, f\"stats_figure1_brightness_and_decay_{agg_func.__name__}.toml\"), \"w\") as f:\n",
    "    toml.dump(stat_dct, f)"
   ]
  },
  {
   "cell_type": "code",
   "execution_count": 90,
   "id": "a428da63-a3be-4e15-9f49-b89a7ba40e8e",
   "metadata": {},
   "outputs": [
    {
     "data": {
      "text/plain": [
       "0.18167283140436702"
      ]
     },
     "execution_count": 90,
     "metadata": {},
     "output_type": "execute_result"
    }
   ],
   "source": [
    "7613 / np.sum(range(290))"
   ]
  },
  {
   "cell_type": "code",
   "execution_count": 91,
   "id": "f0ac0813-5a89-4a89-8e46-042114b3d72f",
   "metadata": {},
   "outputs": [
    {
     "data": {
      "text/plain": [
       "{'mean': {'blank': 0.0,\n",
       "  'null_v2': 4.384615384615385,\n",
       "  'qd_alg': 0.8,\n",
       "  'qd_alg_caco3': 1.4,\n",
       "  'qd_beads': 20.666666666666668,\n",
       "  'qd_beads_v2': 14.0,\n",
       "  'qd_cell_labels': 6.8,\n",
       "  'qd_cell_labels_v2': 15.4,\n",
       "  'qd_conj_coll_bio_v2': 10.5,\n",
       "  'qd_conj_coll_click_v2': 42.0,\n",
       "  'qd_conj_fibro_bio_v2': 14.0,\n",
       "  'qd_conj_fibro_click_v2': 42.0,\n",
       "  'qd_saqd': 0.8666666666666667,\n",
       "  'qd_vascular_labels': 3.0,\n",
       "  'vehicle': 0.0,\n",
       "  'vehicle_v2': 0.0},\n",
       " 'std': {'blank': 0.0,\n",
       "  'null_v2': 1.5566235649883127,\n",
       "  'qd_alg': 0.4216370213557839,\n",
       "  'qd_alg_caco3': 0.8432740427115677,\n",
       "  'qd_beads': 1.290994448735805,\n",
       "  'qd_beads_v2': 2.53546276418555,\n",
       "  'qd_cell_labels': 0.7745966692414834,\n",
       "  'qd_cell_labels_v2': 2.9514591494904874,\n",
       "  'qd_conj_coll_bio_v2': 4.949747468305833,\n",
       "  'qd_conj_coll_click_v2': 0.0,\n",
       "  'qd_conj_fibro_bio_v2': 0.0,\n",
       "  'qd_conj_fibro_click_v2': 0.0,\n",
       "  'qd_saqd': 0.35186577527449836,\n",
       "  'qd_vascular_labels': 0.0,\n",
       "  'vehicle': 0.0,\n",
       "  'vehicle_v2': 0.0}}"
      ]
     },
     "execution_count": 91,
     "metadata": {},
     "output_type": "execute_result"
    }
   ],
   "source": [
    "stat_dct[\"decay_times_v2_summary\"]"
   ]
  },
  {
   "cell_type": "code",
   "execution_count": 92,
   "id": "cf5024af-ded6-4ae1-8844-33a0fe6b86b8",
   "metadata": {},
   "outputs": [
    {
     "data": {
      "text/plain": [
       "10"
      ]
     },
     "execution_count": 92,
     "metadata": {},
     "output_type": "execute_result"
    }
   ],
   "source": [
    "len(plt_data.query(\"exp_type == 'vehicle_v2'\"))"
   ]
  },
  {
   "cell_type": "code",
   "execution_count": null,
   "id": "e3d78b58-7f53-4b95-824d-e5b2df07a60b",
   "metadata": {},
   "outputs": [],
   "source": []
  },
  {
   "cell_type": "code",
   "execution_count": null,
   "id": "269c105d-c383-40d6-9534-9d4b82f3b447",
   "metadata": {},
   "outputs": [],
   "source": []
  }
 ],
 "metadata": {
  "kernelspec": {
   "display_name": "Python [conda env:data_analysis]",
   "language": "python",
   "name": "conda-env-data_analysis-py"
  },
  "language_info": {
   "codemirror_mode": {
    "name": "ipython",
    "version": 3
   },
   "file_extension": ".py",
   "mimetype": "text/x-python",
   "name": "python",
   "nbconvert_exporter": "python",
   "pygments_lexer": "ipython3",
   "version": "3.10.0"
  }
 },
 "nbformat": 4,
 "nbformat_minor": 5
}
