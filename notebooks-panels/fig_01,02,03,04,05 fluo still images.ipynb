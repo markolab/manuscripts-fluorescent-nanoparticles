{
 "cells": [
  {
   "cell_type": "code",
   "execution_count": 1,
   "id": "6fdf449c-18e7-4dcc-a194-9de011757c91",
   "metadata": {
    "tags": []
   },
   "outputs": [],
   "source": [
    "%load_ext autoreload\n",
    "%autoreload 2\n",
    "%matplotlib inline"
   ]
  },
  {
   "cell_type": "code",
   "execution_count": 2,
   "id": "b25fd5e0-464c-4c6e-93d1-1082c5d1aa1e",
   "metadata": {
    "tags": []
   },
   "outputs": [
    {
     "name": "stdout",
     "output_type": "stream",
     "text": [
      "Jupyter environment detected. Enabling Open3D WebVisualizer.\n",
      "[Open3D INFO] WebRTC GUI backend enabled.\n",
      "[Open3D INFO] WebRTCWindowSystem: HTTP handshake server disabled.\n"
     ]
    }
   ],
   "source": [
    "import os\n",
    "import copy\n",
    "import cv2\n",
    "import matplotlib.pyplot as plt\n",
    "import numpy as np\n",
    "import skimage\n",
    "import toml\n",
    "import glob\n",
    "import h5py\n",
    "import re\n",
    "from collections import defaultdict\n",
    "from tqdm.auto import tqdm\n",
    "from markovids import pcl, vid, depth\n",
    "from qd_analysis.fig import setup_plotting_env\n",
    "from qd_analysis.util import load_example_frames"
   ]
  },
  {
   "cell_type": "code",
   "execution_count": 3,
   "id": "4f3b9332-f833-44cb-9c90-289d79778622",
   "metadata": {
    "tags": []
   },
   "outputs": [],
   "source": [
    "from scipy import signal"
   ]
  },
  {
   "cell_type": "code",
   "execution_count": 4,
   "id": "433b263a-08c3-4d7d-8dee-748fdae52e5a",
   "metadata": {
    "tags": []
   },
   "outputs": [],
   "source": [
    "import warnings"
   ]
  },
  {
   "cell_type": "code",
   "execution_count": 5,
   "id": "959a3d07-17c7-4480-bc93-002fb9e0fa4a",
   "metadata": {
    "tags": []
   },
   "outputs": [],
   "source": [
    "from skimage.measure import regionprops_table"
   ]
  },
  {
   "cell_type": "code",
   "execution_count": 6,
   "id": "0c9b2f24-2f03-473f-bb43-96ff3f96c0d2",
   "metadata": {
    "tags": []
   },
   "outputs": [],
   "source": [
    "from joblib import Parallel, delayed\n",
    "import pandas as pd\n",
    "import seaborn as sns"
   ]
  },
  {
   "cell_type": "code",
   "execution_count": 7,
   "id": "5bdc7c55-8b45-4a9a-b34c-0933260b578a",
   "metadata": {
    "tags": []
   },
   "outputs": [],
   "source": [
    "segmentation_dir = \"_segmentation_tau-0-pretrain\""
   ]
  },
  {
   "cell_type": "markdown",
   "id": "bdb6af78-dd92-4b5f-a533-a31359064f6a",
   "metadata": {},
   "source": [
    "## User functions"
   ]
  },
  {
   "cell_type": "code",
   "execution_count": 8,
   "id": "b9f8dae6-94ff-4de3-a469-01ee0b83f140",
   "metadata": {},
   "outputs": [],
   "source": [
    "def get_mouse_roi(\n",
    "    fluo_frame,\n",
    "    reflect_frame,\n",
    "    mask,\n",
    "    bbox_width=250,\n",
    "    bbox_height=250,\n",
    "    buffer=150,\n",
    "    threshold=5,\n",
    "    hist_equalization=True,\n",
    "    mask_only=False,\n",
    "    clahe=None,\n",
    "):\n",
    "    if hist_equalization and (clahe is None):\n",
    "        clahe = cv2.createCLAHE(clipLimit=4.0, tileGridSize=(8, 8))\n",
    "    h, w = fluo_frame.shape\n",
    "    if not mask_only:\n",
    "        yy, xx = np.where((fluo_frame * mask) > threshold)\n",
    "    else:\n",
    "        yy, xx = np.where(mask > 0)\n",
    "    try:\n",
    "        corner = (max(min(xx) - buffer // 2, 0), max(min(yy) - buffer // 2, 0))\n",
    "    except ValueError:\n",
    "        return None, None\n",
    "    bbox = (\n",
    "        (max(corner[0], 0), min(corner[0] + bbox_width + 2 * buffer // 2, w - 1)),\n",
    "        (max(corner[1], 0), min(corner[1] + bbox_height + 2 * buffer // 2, h - 1)),\n",
    "    )\n",
    "    plt_fluo = fluo_frame[range(*bbox[1])][:, range(*bbox[0])]\n",
    "    if hist_equalization:\n",
    "        plt_reflect = clahe.apply(reflect_frame[range(*bbox[1])][:, range(*bbox[0])])\n",
    "        # plt_reflect = cv2.equalizeHist(reflect_frame[range(*bbox[1])][:, range(*bbox[0])])\n",
    "    else:\n",
    "        plt_reflect = reflect_frame[range(*bbox[1])][:, range(*bbox[0])]\n",
    "    return plt_fluo, plt_reflect"
   ]
  },
  {
   "cell_type": "code",
   "execution_count": 9,
   "id": "e66b7679-6b4d-45a6-bfce-c165ad13abb6",
   "metadata": {
    "tags": []
   },
   "outputs": [],
   "source": [
    "save_dir = \"/mnt/data/jmarkow/panels/2024-06 (QD paper)\"\n",
    "os.makedirs(save_dir, exist_ok=True)"
   ]
  },
  {
   "cell_type": "code",
   "execution_count": 10,
   "id": "7dbc4d25-2494-4342-9488-1d44ecad7b24",
   "metadata": {
    "tags": []
   },
   "outputs": [],
   "source": [
    "base_dir = \"/mnt/data/jmarkow/active_projects/quantum_dots/timecourse_01\"\n",
    "fluo_files = sorted(glob.glob(os.path.join(base_dir, \"**\", \"Basler*fluorescence.avi\"), recursive=True))\n",
    "base_dir = \"/mnt/data/jmarkow/active_projects/quantum_dots/timecourse_01_agarose_beads\"\n",
    "fluo_files += sorted(glob.glob(os.path.join(base_dir, \"**\", \"Basler*fluorescence.avi\"), recursive=True))"
   ]
  },
  {
   "cell_type": "code",
   "execution_count": 11,
   "id": "3039448e-c393-43f7-bde7-1d03ba9c1dd9",
   "metadata": {},
   "outputs": [],
   "source": [
    "base_dir_v2 = \"/mnt/data/jmarkow/active_projects/quantum_dots/timecourse_02\"\n",
    "fluo_files_v2 = sorted(glob.glob(os.path.join(base_dir_v2, \"**\", \"Basler*fluorescence.avi\"), recursive=True))\n",
    "base_dir_v2 = \"/mnt/data/jmarkow/active_projects/quantum_dots/timecourse_02_joints\"\n",
    "fluo_files_v2 += sorted(glob.glob(os.path.join(base_dir_v2, \"**\", \"Basler*fluorescence.avi\"), recursive=True))"
   ]
  },
  {
   "cell_type": "code",
   "execution_count": 12,
   "id": "783c8701-e8cc-4aa5-90b4-64177d54018e",
   "metadata": {},
   "outputs": [],
   "source": [
    "include_keywords = [\"exp\",\"ep\",\"beads\",\"vasc\",\"vehicle\",\"conj\",\"blank\",\"light_test\"]\n",
    "# include_keywords = [\"beads\", \"exp\", \"ep\", \"vehicle\"]\n",
    "# include_keywords = [\"beads\"]"
   ]
  },
  {
   "cell_type": "code",
   "execution_count": 13,
   "id": "044bc3c9-798d-4926-b335-677f32868e8a",
   "metadata": {},
   "outputs": [],
   "source": [
    "calibration_data = toml.load(\"/home/jmarkow/data_dir/active_projects/quantum_dots/timecourse_01_calibration.toml\")\n",
    "calibration_data_v2 = toml.load(\"/home/jmarkow/data_dir/active_projects/quantum_dots/timecourse_02_calibration_v2.toml\")\n"
   ]
  },
  {
   "cell_type": "code",
   "execution_count": 14,
   "id": "7438f75a-23d0-4038-8e57-a2f28a5a3132",
   "metadata": {},
   "outputs": [],
   "source": [
    "# load background, subtract off from frame we want to use\n",
    "# TODO REFLECTANCE!!!"
   ]
  },
  {
   "cell_type": "code",
   "execution_count": 15,
   "id": "1d89a849-d22c-49f5-bf2f-d627eb424120",
   "metadata": {},
   "outputs": [
    {
     "data": {
      "application/vnd.jupyter.widget-view+json": {
       "model_id": "fc0e118163a64fcd8562842580eca269",
       "version_major": 2,
       "version_minor": 0
      },
      "text/plain": [
       "  0%|          | 0/156 [00:00<?, ?it/s]"
      ]
     },
     "metadata": {},
     "output_type": "display_data"
    }
   ],
   "source": [
    "# get subject names and filter that stuff...\n",
    "metadata = {}\n",
    "dirs = sorted(list(set([os.path.dirname(_) for _ in fluo_files])))\n",
    "for _dir in tqdm(dirs):\n",
    "    metadata[_dir] = toml.load(os.path.join(_dir, \"../metadata.toml\"))"
   ]
  },
  {
   "cell_type": "code",
   "execution_count": 16,
   "id": "214d3fe7-8970-46b5-8baa-8f7a8edd3db6",
   "metadata": {},
   "outputs": [
    {
     "data": {
      "application/vnd.jupyter.widget-view+json": {
       "model_id": "79b5aadafd9d45e9ae804ca580461906",
       "version_major": 2,
       "version_minor": 0
      },
      "text/plain": [
       "  0%|          | 0/43 [00:00<?, ?it/s]"
      ]
     },
     "metadata": {},
     "output_type": "display_data"
    }
   ],
   "source": [
    "# get subject names and filter that stuff...\n",
    "metadata_v2 = {}\n",
    "dirs = sorted(list(set([os.path.dirname(_) for _ in fluo_files_v2])))\n",
    "for _dir in tqdm(dirs):\n",
    "    metadata_v2[_dir] = toml.load(os.path.join(_dir, \"../metadata.toml\"))"
   ]
  },
  {
   "cell_type": "code",
   "execution_count": 17,
   "id": "8883f79b-e68c-44dc-96a9-3f1d7e84378f",
   "metadata": {},
   "outputs": [],
   "source": [
    "keep_dirs_qd_exp = sorted([\n",
    "    _file\n",
    "    for _file in metadata.keys()\n",
    "    if \"qd_exp_01\" in metadata[_file][\"user_input\"][\"subject\"].lower()\n",
    "])"
   ]
  },
  {
   "cell_type": "code",
   "execution_count": 18,
   "id": "132c2f64-d490-47a8-aa5e-dc8c99f18003",
   "metadata": {},
   "outputs": [],
   "source": [
    "keep_dirs_vehicle = sorted([\n",
    "    _file\n",
    "    for _file in metadata.keys()\n",
    "    if \"vehicle\" in metadata[_file][\"user_input\"][\"subject\"].lower()\n",
    "])"
   ]
  },
  {
   "cell_type": "code",
   "execution_count": 19,
   "id": "ee7a3d3b-6875-4da3-8eed-b5e3b03cb024",
   "metadata": {},
   "outputs": [],
   "source": [
    "cameras = sorted(list(list(metadata.values())[0][\"cameras\"].keys()))"
   ]
  },
  {
   "cell_type": "code",
   "execution_count": 22,
   "id": "08c70c1d-f39e-40c1-b331-731bd6d486db",
   "metadata": {},
   "outputs": [],
   "source": [
    "load_dct = {}\n",
    "for _cam in cameras:\n",
    "    load_dct[_cam] = {}\n",
    "    load_dct[_cam][\"intrinsic_matrix\"] = np.array(calibration_data[\"intrinsics\"][_cam])\n",
    "    load_dct[_cam][\"distortion_coeffs\"] = np.array(calibration_data[\"distortion_coeffs\"][_cam] )"
   ]
  },
  {
   "cell_type": "code",
   "execution_count": 23,
   "id": "88af08a4-2c76-473a-87f0-29ca4002b2f4",
   "metadata": {},
   "outputs": [],
   "source": [
    "load_dct_v2 = {}\n",
    "for _cam in cameras:\n",
    "    load_dct_v2[_cam] = {}\n",
    "    load_dct_v2[_cam][\"intrinsic_matrix\"] = np.array(calibration_data_v2[\"intrinsics\"][_cam])\n",
    "    load_dct_v2[_cam][\"distortion_coeffs\"] = np.array(calibration_data_v2[\"distortion_coeffs\"][_cam] )"
   ]
  },
  {
   "cell_type": "markdown",
   "id": "e9dbde92-92e4-4190-bad3-12f448c148d8",
   "metadata": {},
   "source": [
    "# Fig S3 filmstrip"
   ]
  },
  {
   "cell_type": "code",
   "execution_count": null,
   "id": "2aae26c3-6443-4ca6-b225-96e57de15142",
   "metadata": {},
   "outputs": [],
   "source": [
    "fluo_frames = {}\n",
    "fluo_bgrounds = {}\n",
    "fluo_frames_raw = {}\n",
    "reflect_frames = {}\n",
    "masks = {}\n",
    "timestamps ={}"
   ]
  },
  {
   "cell_type": "code",
   "execution_count": null,
   "id": "0537204c-f9a1-441c-a34d-61c4277f34e6",
   "metadata": {},
   "outputs": [],
   "source": [
    "use_dir = keep_dirs_qd_exp[0]\n",
    "use_metadata = toml.load(os.path.join(use_dir, \"..\", \"metadata.toml\"))\n",
    "cameras = list(use_metadata[\"camera_metadata\"].keys())"
   ]
  },
  {
   "cell_type": "code",
   "execution_count": null,
   "id": "daea6cbb-14ef-4a69-b48e-699c9021271c",
   "metadata": {},
   "outputs": [],
   "source": [
    "load_cameras = cameras"
   ]
  },
  {
   "cell_type": "code",
   "execution_count": null,
   "id": "b2feb90e-4bfd-40a1-a882-407bcf9fda35",
   "metadata": {},
   "outputs": [],
   "source": [
    "# get a blank and a high intensity animal...\n",
    "(\n",
    "    fluo_frames[\"cell_labeling\"],\n",
    "    reflect_frames[\"cell_labeling\"],\n",
    "    masks[\"cell_labeling\"],\n",
    "    timestamps[\"cell_labeling\"],\n",
    "    fluo_bgrounds[\"cell_labeling\"],\n",
    ") = load_example_frames(use_dir, frame_range=range(0,300), load_cameras=load_cameras, load_dct=load_dct) # 0 looks pretty good...\n"
   ]
  },
  {
   "cell_type": "code",
   "execution_count": null,
   "id": "97d949d7-c00a-4a63-a403-233e428189ce",
   "metadata": {},
   "outputs": [],
   "source": [
    "(\n",
    "    fluo_frames_raw[\"cell_labeling\"],\n",
    "    _,\n",
    "    _,\n",
    "    _,\n",
    "    _,\n",
    ") = load_example_frames(keep_dirs_qd_exp[0], frame_range=range(0,300), bground_subtract_fluorescence=False, load_dct=load_dct, load_cameras=load_cameras) # 0 looks pretty good..."
   ]
  },
  {
   "cell_type": "code",
   "execution_count": null,
   "id": "27d77631-0109-4d5b-b6a4-f03960a7fb1c",
   "metadata": {},
   "outputs": [],
   "source": [
    "# get relevant background..."
   ]
  },
  {
   "cell_type": "code",
   "execution_count": null,
   "id": "e8f95a79-dfa6-48e0-8f11-7ce2fec4c682",
   "metadata": {},
   "outputs": [],
   "source": [
    "ts_paths = {os.path.join(use_dir, \"..\", f\"{_cam}.txt\"): _cam for _cam in cameras}"
   ]
  },
  {
   "cell_type": "code",
   "execution_count": null,
   "id": "45cc1848-d357-419c-aea3-f9ca5d4b86fb",
   "metadata": {},
   "outputs": [],
   "source": [
    "ts, use_merged_ts = vid.io.read_timestamps_multicam(ts_paths, merge_tolerance=0.001)\n",
    "use_merged_ts = use_merged_ts.dropna()\n",
    "ts_fluo = use_merged_ts.loc[\n",
    "    np.mod(use_merged_ts.index, 2) == 0\n",
    "]  # fluorescence is 0,2,4,etc..\n",
    "ts_reflect = use_merged_ts.loc[\n",
    "    np.mod(use_merged_ts.index, 2) == 1\n",
    "]  # reflectance is 1,3,5,...\n",
    "\n",
    "ts_idx = ts_reflect.index.get_indexer(ts_fluo.index, method=\"nearest\", tolerance=2)\n",
    "ts_include = np.flatnonzero(ts_idx >= 0)  # -1 if we don't get a match\n",
    "ts_fluo = ts_fluo.iloc[ts_include]\n",
    "ts_reflect = ts_reflect.iloc[\n",
    "    ts_reflect.index.get_indexer(ts_fluo.index, method=\"nearest\", tolerance=2)\n",
    "]"
   ]
  },
  {
   "cell_type": "code",
   "execution_count": null,
   "id": "e96db2fa-d823-4d79-9ad5-b6e40c67c215",
   "metadata": {},
   "outputs": [],
   "source": [
    "reflect_kwargs = {\"vmin\": 0, \"vmax\": 155, \"cmap\": \"gray\"}\n",
    "fluo_kwargs = {\"vmin\": 0, \"vmax\": 75, \"cmap\": \"inferno\"}\n",
    "fluo_raw_kwargs = {\"vmin\": 0, \"vmax\": 125, \"cmap\": \"inferno\"}\n",
    "plt_frames = np.arange(100,120,5)"
   ]
  },
  {
   "cell_type": "code",
   "execution_count": null,
   "id": "7eb27fb1-dfb4-4bb8-9546-646a59cd9fce",
   "metadata": {},
   "outputs": [],
   "source": [
    "use_timestamps = timestamps[\"cell_labeling\"][\"frame_id\"].copy()\n",
    "# use_timestamps -= use_timestamps.iloc[0]\n",
    "use_timestamps = use_timestamps.iloc[plt_frames]\n",
    "\n",
    "plt_timestamps = ts_fluo.loc[use_timestamps,\"system_timestamp\"]\n",
    "plt_timestamps -= plt_timestamps.iloc[0]\n",
    "\n",
    "plt_timestamps = plt_timestamps.round(2)"
   ]
  },
  {
   "cell_type": "code",
   "execution_count": null,
   "id": "b683d4d2-3f7a-40a1-adab-d3632120276b",
   "metadata": {},
   "outputs": [],
   "source": [
    "# show processing pipeline using an example frame and bground subtract..."
   ]
  },
  {
   "cell_type": "code",
   "execution_count": null,
   "id": "fe4d1b72-354d-4541-b7b1-5f7387d39afd",
   "metadata": {},
   "outputs": [],
   "source": [
    "use_cam = load_cameras[0]\n",
    "use_bground = 0\n",
    "use_frame = 0\n",
    "use_condition = \"cell_labeling\""
   ]
  },
  {
   "cell_type": "code",
   "execution_count": null,
   "id": "57eb60f6-b118-4947-b936-6bdea1686e41",
   "metadata": {},
   "outputs": [],
   "source": [
    "fig, ax = plt.subplots(1, 3, figsize=(5, 2))\n",
    "ax[0].imshow(fluo_frames_raw[use_condition][use_cam][use_frame], **fluo_kwargs)\n",
    "ax[1].imshow(fluo_bgrounds[use_condition][use_cam][\"bground\"][use_bground], **fluo_kwargs)\n",
    "h1 = ax[2].imshow(fluo_frames[use_condition][use_cam][use_frame], **fluo_kwargs)\n",
    "titles = [\"raw\", \"bground\", \"subtracted\"]\n",
    "for _ax, _title in zip(ax, titles):\n",
    "    _ax.axis(\"off\")\n",
    "    _ax.set_title(_title, fontsize=7)\n",
    "\n",
    "fig.subplots_adjust(wspace=0.05, hspace=0.05)\n",
    "cbar1 = fig.colorbar(h1, ax=list(ax.ravel()), shrink=.35, aspect=10, pad=.01)\n",
    "cbar1.set_ticks([fluo_kwargs[\"vmin\"], fluo_kwargs[\"vmax\"]])\n",
    "cbar1.ax.tick_params(labelsize=5)\n",
    "fig.savefig(os.path.join(save_dir, \"still_images_bground_sub_example.pdf\"), bbox_inches=\"tight\", dpi=600)"
   ]
  },
  {
   "cell_type": "code",
   "execution_count": null,
   "id": "116871ec-f8fd-4db7-a8d3-0efde973c7f6",
   "metadata": {},
   "outputs": [],
   "source": [
    "fig, ax = plt.subplots(len(load_cameras), len(plt_frames), figsize=(1.5 * len(plt_frames), 1.5 * len(load_cameras)))\n",
    "# ax = ax.T\n",
    "use_cam = load_cameras[1]\n",
    "use_condition = \"cell_labeling\"\n",
    "for _camera, rax in zip(load_cameras, ax):\n",
    "    for _frame, _ax in zip(plt_frames, rax):\n",
    "        h1 = _ax.imshow(reflect_frames[use_condition][_camera][_frame], **reflect_kwargs)\n",
    "        # h2 = _ax[1].imshow(plt_fluo[_condition][use_cam], **fluo_kwargs)\n",
    "for _ax, _timestamp in zip(ax[0], plt_timestamps):\n",
    "    _ax.set_title(f\"{_timestamp} seconds\", fontsize=5)\n",
    "for _ax in ax.ravel():\n",
    "    _ax.axis(\"off\")\n",
    "fig.subplots_adjust(wspace=0.05, hspace=0.05)\n",
    "cbar1 = fig.colorbar(h1, ax=list(ax.ravel()), shrink=.15, aspect=10, pad=.01)\n",
    "cbar1.set_ticks([reflect_kwargs[\"vmin\"], reflect_kwargs[\"vmax\"]])\n",
    "# fig.tight_layout()\n",
    "\n",
    "# cbar2 = fig.colorbar(h2, ax=list(ax.ravel()), shrink=.4, aspect=10, pad=.05)\n",
    "# cbar2.set_ticks([fluo_kwargs[\"vmin\"], fluo_kwargs[\"vmax\"]])\n",
    "fig.savefig(os.path.join(save_dir, \"still_images_cell_labeling_0h_filmstrip_reflect.pdf\"), bbox_inches=\"tight\", dpi=600)"
   ]
  },
  {
   "cell_type": "code",
   "execution_count": null,
   "id": "3845eca1-eb1a-4e9b-88b0-0bcc1a52cee4",
   "metadata": {},
   "outputs": [],
   "source": [
    "fig, ax = plt.subplots(len(load_cameras), len(plt_frames), figsize=(1.5 * len(plt_frames), 1.5 * len(load_cameras)))\n",
    "# ax = ax.T\n",
    "use_cam = load_cameras[1]\n",
    "use_condition = \"cell_labeling\"\n",
    "for _camera, rax in zip(load_cameras, ax):\n",
    "    for _frame, _ax in zip(plt_frames, rax):\n",
    "        h1 = _ax.imshow(fluo_frames[use_condition][_camera][_frame], **fluo_kwargs)\n",
    "        # h2 = _ax[1].imshow(plt_fluo[_condition][use_cam], **fluo_kwargs)\n",
    "for _ax, _timestamp in zip(ax[0], plt_timestamps):\n",
    "    _ax.set_title(f\"{_timestamp} seconds\", fontsize=5)\n",
    "for _ax in ax.ravel():\n",
    "    _ax.axis(\"off\")\n",
    "fig.subplots_adjust(wspace=0.05, hspace=0.05)\n",
    "cbar1 = fig.colorbar(h1, ax=list(ax.ravel()), shrink=.15, aspect=10, pad=.01)\n",
    "cbar1.set_ticks([fluo_kwargs[\"vmin\"], fluo_kwargs[\"vmax\"]])\n",
    "# fig.tight_layout()\n",
    "\n",
    "# cbar2 = fig.colorbar(h2, ax=list(ax.ravel()), shrink=.4, aspect=10, pad=.05)\n",
    "# cbar2.set_ticks([fluo_kwargs[\"vmin\"], fluo_kwargs[\"vmax\"]])\n",
    "fig.savefig(os.path.join(save_dir, \"still_images_cell_labeling_0h_filmstrip_fluo.pdf\"), bbox_inches=\"tight\", dpi=600)"
   ]
  },
  {
   "cell_type": "markdown",
   "id": "124c5d1d-d6ad-4d7c-a01b-95b7e9987dc9",
   "metadata": {},
   "source": [
    "# Fig S4 filmstrip"
   ]
  },
  {
   "cell_type": "code",
   "execution_count": null,
   "id": "41af8f6b-7719-4a33-8705-be38d2712048",
   "metadata": {},
   "outputs": [],
   "source": [
    "keep_dirs_qd_exp = sorted([\n",
    "    _file\n",
    "    for _file in metadata.keys()\n",
    "    if \"qd_exp_03\" in metadata[_file][\"user_input\"][\"subject\"].lower()\n",
    "])"
   ]
  },
  {
   "cell_type": "code",
   "execution_count": null,
   "id": "a2b89607-e1b2-482e-8433-f91375ad40af",
   "metadata": {},
   "outputs": [],
   "source": [
    "fluo_frames = {}\n",
    "fluo_frames_raw = {}\n",
    "reflect_frames = {}\n",
    "masks = {}\n",
    "timestamps ={}"
   ]
  },
  {
   "cell_type": "code",
   "execution_count": null,
   "id": "7fe0d50c-06e3-4d0f-9d08-5bfd15991a2c",
   "metadata": {},
   "outputs": [],
   "source": [
    "use_dir = keep_dirs_qd_exp[1]\n",
    "use_metadata = toml.load(os.path.join(use_dir, \"..\", \"metadata.toml\"))\n",
    "cameras = list(use_metadata[\"camera_metadata\"].keys())"
   ]
  },
  {
   "cell_type": "code",
   "execution_count": null,
   "id": "785d00cc-c6b1-4a2a-91f4-4fb8674de89b",
   "metadata": {},
   "outputs": [],
   "source": [
    "use_dir"
   ]
  },
  {
   "cell_type": "code",
   "execution_count": null,
   "id": "0e2fc34f-65f3-4247-afa3-f077e0be48d7",
   "metadata": {},
   "outputs": [],
   "source": [
    "load_cameras = cameras"
   ]
  },
  {
   "cell_type": "code",
   "execution_count": null,
   "id": "2e27fd38-25f7-43bc-a054-5f2fab9f1685",
   "metadata": {},
   "outputs": [],
   "source": [
    "# get a blank and a high intensity animal...\n",
    "(\n",
    "    fluo_frames[\"cell_labeling\"],\n",
    "    reflect_frames[\"cell_labeling\"],\n",
    "    masks[\"cell_labeling\"],\n",
    "    timestamps[\"cell_labeling\"],\n",
    "    _,\n",
    ") = load_example_frames(use_dir, frame_range=range(200, 700), load_dct=load_dct, load_cameras=load_cameras) # 0 looks pretty good...\n",
    "\n",
    "# (\n",
    "#     fluo_frames[\"vehicle\"],\n",
    "#     reflect_frames[\"vehicle\"],\n",
    "#     masks[\"vehicle\"],\n",
    "#     timestamps[\"vehicle\"],\n",
    "# ) = load_example_frames(keep_dirs_vehicle[0], frame_range=range(0,300), load_dct=load_dct, load_cameras=load_cameras)"
   ]
  },
  {
   "cell_type": "code",
   "execution_count": null,
   "id": "0ba46749-df9b-4452-bfa8-e08e49b59655",
   "metadata": {},
   "outputs": [],
   "source": [
    "# get relevant background..."
   ]
  },
  {
   "cell_type": "code",
   "execution_count": null,
   "id": "810bcb5f-6757-4d72-8a35-dc0f48af209a",
   "metadata": {},
   "outputs": [],
   "source": [
    "ts_paths = {os.path.join(use_dir, \"..\", f\"{_cam}.txt\"): _cam for _cam in cameras}"
   ]
  },
  {
   "cell_type": "code",
   "execution_count": null,
   "id": "9bd65401-7854-4ce0-8973-001b46920b44",
   "metadata": {},
   "outputs": [],
   "source": [
    "ts, use_merged_ts = vid.io.read_timestamps_multicam(ts_paths, merge_tolerance=0.001)\n",
    "use_merged_ts = use_merged_ts.dropna()\n",
    "ts_fluo = use_merged_ts.loc[\n",
    "    np.mod(use_merged_ts.index, 2) == 0\n",
    "]  # fluorescence is 0,2,4,etc..\n",
    "ts_reflect = use_merged_ts.loc[\n",
    "    np.mod(use_merged_ts.index, 2) == 1\n",
    "]  # reflectance is 1,3,5,...\n",
    "\n",
    "ts_idx = ts_reflect.index.get_indexer(ts_fluo.index, method=\"nearest\", tolerance=2)\n",
    "ts_include = np.flatnonzero(ts_idx >= 0)  # -1 if we don't get a match\n",
    "ts_fluo = ts_fluo.iloc[ts_include]\n",
    "ts_reflect = ts_reflect.iloc[\n",
    "    ts_reflect.index.get_indexer(ts_fluo.index, method=\"nearest\", tolerance=2)\n",
    "]"
   ]
  },
  {
   "cell_type": "code",
   "execution_count": null,
   "id": "60f95f61-d926-495e-aa6b-c6c0182b1f72",
   "metadata": {},
   "outputs": [],
   "source": [
    "reflect_kwargs = {\"vmin\": 0, \"vmax\": 155, \"cmap\": \"gray\"}\n",
    "fluo_kwargs = {\"vmin\": 0, \"vmax\": 75, \"cmap\": \"inferno\"}\n",
    "fluo_raw_kwargs = {\"vmin\": 0, \"vmax\": 125, \"cmap\": \"inferno\"}\n",
    "plt_frames = np.arange(100, 140, 10)"
   ]
  },
  {
   "cell_type": "code",
   "execution_count": null,
   "id": "c4ca9550-9922-4e84-99df-de20bc3afac2",
   "metadata": {},
   "outputs": [],
   "source": [
    "use_timestamps = timestamps[\"cell_labeling\"][\"frame_id\"].copy()\n",
    "# use_timestamps -= use_timestamps.iloc[0]\n",
    "use_timestamps = use_timestamps.iloc[plt_frames]\n",
    "\n",
    "plt_timestamps = ts_fluo.loc[use_timestamps,\"system_timestamp\"]\n",
    "plt_timestamps -= plt_timestamps.iloc[0]\n",
    "\n",
    "plt_timestamps = plt_timestamps.round(2)"
   ]
  },
  {
   "cell_type": "code",
   "execution_count": null,
   "id": "0c46f9e0-443a-4ca9-8efe-95e2a88795c4",
   "metadata": {},
   "outputs": [],
   "source": [
    "# show processing pipeline using an example frame and bground subtract..."
   ]
  },
  {
   "cell_type": "code",
   "execution_count": null,
   "id": "33f05b1f-2563-48c8-ac7b-ceb3857f4409",
   "metadata": {},
   "outputs": [],
   "source": [
    "use_cam = load_cameras[0]\n",
    "use_bground = 0\n",
    "use_frame = 0\n",
    "use_condition = \"cell_labeling\""
   ]
  },
  {
   "cell_type": "code",
   "execution_count": null,
   "id": "6096a2e9-079c-4f2f-8035-202e26dbf9cf",
   "metadata": {},
   "outputs": [],
   "source": [
    "fig, ax = plt.subplots(len(load_cameras), len(plt_frames), figsize=(1.5 * len(plt_frames), 1.5 * len(load_cameras)))\n",
    "# ax = ax.T\n",
    "use_cam = load_cameras[1]\n",
    "use_condition = \"cell_labeling\"\n",
    "for _camera, rax in zip(load_cameras, ax):\n",
    "    for _frame, _ax in zip(plt_frames, rax):\n",
    "        h1 = _ax.imshow(reflect_frames[use_condition][_camera][_frame], **reflect_kwargs)\n",
    "        # h2 = _ax[1].imshow(plt_fluo[_condition][use_cam], **fluo_kwargs)\n",
    "for _ax, _timestamp in zip(ax[0], plt_timestamps):\n",
    "    _ax.set_title(f\"{_timestamp} seconds\", fontsize=5)\n",
    "for _ax in ax.ravel():\n",
    "    _ax.axis(\"off\")\n",
    "fig.subplots_adjust(wspace=0.05, hspace=0.05)\n",
    "cbar1 = fig.colorbar(h1, ax=list(ax.ravel()), shrink=.15, aspect=10, pad=.01)\n",
    "cbar1.set_ticks([reflect_kwargs[\"vmin\"], reflect_kwargs[\"vmax\"]])\n",
    "# fig.tight_layout()\n",
    "\n",
    "# cbar2 = fig.colorbar(h2, ax=list(ax.ravel()), shrink=.4, aspect=10, pad=.05)\n",
    "# cbar2.set_ticks([fluo_kwargs[\"vmin\"], fluo_kwargs[\"vmax\"]])\n",
    "fig.savefig(os.path.join(save_dir, \"still_images_cell_labeling_0h_filmstrip_reflect_02.pdf\"), bbox_inches=\"tight\", dpi=600)"
   ]
  },
  {
   "cell_type": "code",
   "execution_count": null,
   "id": "12b9b76a-a098-4e97-9bfc-7094f9854b3a",
   "metadata": {},
   "outputs": [],
   "source": [
    "fig, ax = plt.subplots(len(load_cameras), len(plt_frames), figsize=(1.5 * len(plt_frames), 1.5 * len(load_cameras)))\n",
    "# ax = ax.T\n",
    "use_cam = load_cameras[1]\n",
    "use_condition = \"cell_labeling\"\n",
    "for _camera, rax in zip(load_cameras, ax):\n",
    "    for _frame, _ax in zip(plt_frames, rax):\n",
    "        h1 = _ax.imshow(fluo_frames[use_condition][_camera][_frame], **fluo_kwargs)\n",
    "        # h2 = _ax[1].imshow(plt_fluo[_condition][use_cam], **fluo_kwargs)\n",
    "for _ax, _timestamp in zip(ax[0], plt_timestamps):\n",
    "    _ax.set_title(f\"{_timestamp} seconds\", fontsize=5)\n",
    "for _ax in ax.ravel():\n",
    "    _ax.axis(\"off\")\n",
    "fig.subplots_adjust(wspace=0.05, hspace=0.05)\n",
    "cbar1 = fig.colorbar(h1, ax=list(ax.ravel()), shrink=.15, aspect=10, pad=.01)\n",
    "cbar1.set_ticks([fluo_kwargs[\"vmin\"], fluo_kwargs[\"vmax\"]])\n",
    "# fig.tight_layout()\n",
    "\n",
    "# cbar2 = fig.colorbar(h2, ax=list(ax.ravel()), shrink=.4, aspect=10, pad=.05)\n",
    "# cbar2.set_ticks([fluo_kwargs[\"vmin\"], fluo_kwargs[\"vmax\"]])\n",
    "fig.savefig(os.path.join(save_dir, \"still_images_cell_labeling_0h_filmstrip_fluo_02.pdf\"), bbox_inches=\"tight\", dpi=600)"
   ]
  },
  {
   "cell_type": "markdown",
   "id": "4dfada98-8917-4877-a10c-95ad6c74f09a",
   "metadata": {},
   "source": [
    "# Fig S7 filmstrip"
   ]
  },
  {
   "cell_type": "code",
   "execution_count": null,
   "id": "21cdbb57-4e2d-4acc-aa22-53d3f9d72577",
   "metadata": {},
   "outputs": [],
   "source": [
    "keep_dirs_qd_exp = sorted([\n",
    "    _file\n",
    "    for _file in metadata_v2.keys()\n",
    "    if \"qd_beads_09\" in metadata_v2[_file][\"user_input\"][\"subject\"].lower()\n",
    "])"
   ]
  },
  {
   "cell_type": "code",
   "execution_count": null,
   "id": "e638c5fe-3bc1-488a-83ae-4c13b6fbd6f7",
   "metadata": {},
   "outputs": [],
   "source": [
    "fluo_frames = {}\n",
    "fluo_frames_raw = {}\n",
    "reflect_frames = {}\n",
    "masks = {}\n",
    "timestamps ={}"
   ]
  },
  {
   "cell_type": "code",
   "execution_count": null,
   "id": "4f7545e1-94e1-42b1-918c-bb5cc323e024",
   "metadata": {},
   "outputs": [],
   "source": [
    "use_dir = keep_dirs_qd_exp[1]\n",
    "use_metadata = toml.load(os.path.join(use_dir, \"..\", \"metadata.toml\"))\n",
    "cameras = list(use_metadata[\"camera_metadata\"].keys())"
   ]
  },
  {
   "cell_type": "code",
   "execution_count": null,
   "id": "40d77f01-bfa9-482c-86b0-723c6203ba2a",
   "metadata": {},
   "outputs": [],
   "source": [
    "use_dir"
   ]
  },
  {
   "cell_type": "code",
   "execution_count": null,
   "id": "bf6c18a5-1072-4786-af47-275822299132",
   "metadata": {},
   "outputs": [],
   "source": [
    "load_cameras = cameras"
   ]
  },
  {
   "cell_type": "code",
   "execution_count": null,
   "id": "5dd88d65-3198-473e-a0b2-fc52f18fae71",
   "metadata": {},
   "outputs": [],
   "source": [
    "# get a blank and a high intensity animal...\n",
    "(\n",
    "    fluo_frames[\"beads_v2\"],\n",
    "    reflect_frames[\"beads_v2\"],\n",
    "    masks[\"beads_v2\"],\n",
    "    timestamps[\"beads_v2\"],\n",
    "    _,\n",
    ") = load_example_frames(use_dir, frame_range=range(200, 700), load_dct=load_dct_v2, load_cameras=load_cameras) # 0 looks pretty good...\n",
    "\n",
    "# (\n",
    "#     fluo_frames[\"vehicle\"],\n",
    "#     reflect_frames[\"vehicle\"],\n",
    "#     masks[\"vehicle\"],\n",
    "#     timestamps[\"vehicle\"],\n",
    "# ) = load_example_frames(keep_dirs_vehicle[0], frame_range=range(0,300), load_dct=load_dct, load_cameras=load_cameras)"
   ]
  },
  {
   "cell_type": "code",
   "execution_count": null,
   "id": "f4526831-c026-4de4-bf9a-e6a5b0c5f748",
   "metadata": {},
   "outputs": [],
   "source": [
    "# get relevant background..."
   ]
  },
  {
   "cell_type": "code",
   "execution_count": null,
   "id": "4f7346d1-8bfe-4fbb-9f95-27a4202a4940",
   "metadata": {},
   "outputs": [],
   "source": [
    "ts_paths = {os.path.join(use_dir, \"..\", f\"{_cam}.txt\"): _cam for _cam in cameras}"
   ]
  },
  {
   "cell_type": "code",
   "execution_count": null,
   "id": "9233ae0d-6e4a-4e90-a426-49bc1f74bf60",
   "metadata": {},
   "outputs": [],
   "source": [
    "ts, use_merged_ts = vid.io.read_timestamps_multicam(ts_paths, merge_tolerance=0.001)\n",
    "use_merged_ts = use_merged_ts.dropna()\n",
    "ts_fluo = use_merged_ts.loc[\n",
    "    np.mod(use_merged_ts.index, 2) == 0\n",
    "]  # fluorescence is 0,2,4,etc..\n",
    "ts_reflect = use_merged_ts.loc[\n",
    "    np.mod(use_merged_ts.index, 2) == 1\n",
    "]  # reflectance is 1,3,5,...\n",
    "\n",
    "ts_idx = ts_reflect.index.get_indexer(ts_fluo.index, method=\"nearest\", tolerance=2)\n",
    "ts_include = np.flatnonzero(ts_idx >= 0)  # -1 if we don't get a match\n",
    "ts_fluo = ts_fluo.iloc[ts_include]\n",
    "ts_reflect = ts_reflect.iloc[\n",
    "    ts_reflect.index.get_indexer(ts_fluo.index, method=\"nearest\", tolerance=2)\n",
    "]"
   ]
  },
  {
   "cell_type": "code",
   "execution_count": null,
   "id": "bf500675-8589-42f8-822a-b88d87adcbc7",
   "metadata": {},
   "outputs": [],
   "source": [
    "reflect_kwargs = {\"vmin\": 0, \"vmax\": 255, \"cmap\": \"gray\"}\n",
    "fluo_kwargs = {\"vmin\": 0, \"vmax\": 150, \"cmap\": \"inferno\"}\n",
    "fluo_raw_kwargs = {\"vmin\": 0, \"vmax\": 125, \"cmap\": \"inferno\"}\n",
    "plt_frames = np.arange(100, 140, 10)"
   ]
  },
  {
   "cell_type": "code",
   "execution_count": null,
   "id": "f5fd69f1-61b6-4d33-b721-fd5963dcd471",
   "metadata": {},
   "outputs": [],
   "source": [
    "use_timestamps = timestamps[\"beads_v2\"][\"frame_id\"].copy()\n",
    "# use_timestamps -= use_timestamps.iloc[0]\n",
    "use_timestamps = use_timestamps.iloc[plt_frames]\n",
    "\n",
    "plt_timestamps = ts_fluo.loc[use_timestamps,\"system_timestamp\"]\n",
    "plt_timestamps -= plt_timestamps.iloc[0]\n",
    "\n",
    "plt_timestamps = plt_timestamps.round(2)"
   ]
  },
  {
   "cell_type": "code",
   "execution_count": null,
   "id": "5fc94487-be4f-4a42-a101-8e0d9e3fa51f",
   "metadata": {},
   "outputs": [],
   "source": [
    "# show processing pipeline using an example frame and bground subtract..."
   ]
  },
  {
   "cell_type": "code",
   "execution_count": null,
   "id": "5f490f44-7824-41d2-b602-a128e2389bed",
   "metadata": {},
   "outputs": [],
   "source": [
    "use_cam = load_cameras[0]\n",
    "use_bground = 0\n",
    "use_frame = 0\n",
    "use_condition = \"beads_v2\""
   ]
  },
  {
   "cell_type": "code",
   "execution_count": null,
   "id": "f41a2d49-a045-47de-8f50-1d49a29ef078",
   "metadata": {},
   "outputs": [],
   "source": [
    "fig, ax = plt.subplots(len(load_cameras), len(plt_frames), figsize=(1.5 * len(plt_frames), 1.5 * len(load_cameras)))\n",
    "# ax = ax.T\n",
    "use_cam = load_cameras[1]\n",
    "# use_condition = \"cell_labeling\"\n",
    "for _camera, rax in zip(load_cameras, ax):\n",
    "    for _frame, _ax in zip(plt_frames, rax):\n",
    "        h1 = _ax.imshow(reflect_frames[use_condition][_camera][_frame], **reflect_kwargs)\n",
    "        # h2 = _ax[1].imshow(plt_fluo[_condition][use_cam], **fluo_kwargs)\n",
    "for _ax, _timestamp in zip(ax[0], plt_timestamps):\n",
    "    _ax.set_title(f\"{_timestamp} seconds\", fontsize=5)\n",
    "for _ax in ax.ravel():\n",
    "    _ax.axis(\"off\")\n",
    "fig.subplots_adjust(wspace=0.05, hspace=0.05)\n",
    "cbar1 = fig.colorbar(h1, ax=list(ax.ravel()), shrink=.15, aspect=10, pad=.01)\n",
    "cbar1.set_ticks([reflect_kwargs[\"vmin\"], reflect_kwargs[\"vmax\"]])\n",
    "# fig.tight_layout()\n",
    "\n",
    "# cbar2 = fig.colorbar(h2, ax=list(ax.ravel()), shrink=.4, aspect=10, pad=.05)\n",
    "# cbar2.set_ticks([fluo_kwargs[\"vmin\"], fluo_kwargs[\"vmax\"]])\n",
    "fig.savefig(os.path.join(save_dir, \"still_images_beads_v2_0h_filmstrip_reflect_01.pdf\"), bbox_inches=\"tight\", dpi=600)"
   ]
  },
  {
   "cell_type": "code",
   "execution_count": null,
   "id": "73fbbf64-641b-4fc6-a223-6023ed16b3cb",
   "metadata": {},
   "outputs": [],
   "source": [
    "fig, ax = plt.subplots(len(load_cameras), len(plt_frames), figsize=(1.5 * len(plt_frames), 1.5 * len(load_cameras)))\n",
    "# ax = ax.T\n",
    "use_cam = load_cameras[1]\n",
    "# use_condition = \"cell_labeling\"\n",
    "for _camera, rax in zip(load_cameras, ax):\n",
    "    for _frame, _ax in zip(plt_frames, rax):\n",
    "        h1 = _ax.imshow(fluo_frames[use_condition][_camera][_frame], **fluo_kwargs)\n",
    "        # h2 = _ax[1].imshow(plt_fluo[_condition][use_cam], **fluo_kwargs)\n",
    "for _ax, _timestamp in zip(ax[0], plt_timestamps):\n",
    "    _ax.set_title(f\"{_timestamp} seconds\", fontsize=5)\n",
    "for _ax in ax.ravel():\n",
    "    _ax.axis(\"off\")\n",
    "fig.subplots_adjust(wspace=0.05, hspace=0.05)\n",
    "cbar1 = fig.colorbar(h1, ax=list(ax.ravel()), shrink=.15, aspect=10, pad=.01)\n",
    "cbar1.set_ticks([fluo_kwargs[\"vmin\"], fluo_kwargs[\"vmax\"]])\n",
    "# fig.tight_layout()\n",
    "\n",
    "# cbar2 = fig.colorbar(h2, ax=list(ax.ravel()), shrink=.4, aspect=10, pad=.05)\n",
    "# cbar2.set_ticks([fluo_kwargs[\"vmin\"], fluo_kwargs[\"vmax\"]])\n",
    "fig.savefig(os.path.join(save_dir, \"still_images_beads_v2_0h_filmstrip_fluo_02.pdf\"), bbox_inches=\"tight\", dpi=600)"
   ]
  },
  {
   "cell_type": "markdown",
   "id": "f371dc53-557b-4ac2-a982-25034b2962dd",
   "metadata": {},
   "source": [
    "# Fig 1 (day 0 stills, fluo only)"
   ]
  },
  {
   "cell_type": "code",
   "execution_count": null,
   "id": "bccb3206-fd3f-4b33-9030-3f8b2fa581c4",
   "metadata": {},
   "outputs": [],
   "source": [
    "fluo_frames = {}\n",
    "reflect_frames = {}\n",
    "masks = {}\n",
    "timestamps ={}"
   ]
  },
  {
   "cell_type": "code",
   "execution_count": null,
   "id": "f1213040-5195-41f8-8f19-b68f12914f4f",
   "metadata": {},
   "outputs": [],
   "source": [
    "load_cameras = [cameras[0], cameras[1], cameras[2]]"
   ]
  },
  {
   "cell_type": "code",
   "execution_count": null,
   "id": "2e8489ae-3f46-499d-a6d3-bea1cd2620f0",
   "metadata": {},
   "outputs": [],
   "source": [
    "# get a blank and a high intensity animal...\n",
    "(\n",
    "    fluo_frames[\"cell_labeling\"],\n",
    "    reflect_frames[\"cell_labeling\"],\n",
    "    masks[\"cell_labeling\"],\n",
    "    timestamps[\"cell_labeling\"],\n",
    "    _,\n",
    ") = load_example_frames(keep_dirs_qd_exp[0], frame_range=range(2000,2300), load_dct=load_dct, load_cameras=load_cameras) # 0 looks pretty good...\n",
    "(\n",
    "    fluo_frames[\"vehicle\"],\n",
    "    reflect_frames[\"vehicle\"],\n",
    "    masks[\"vehicle\"],\n",
    "    timestamps[\"vehicle\"],\n",
    "    _,\n",
    ") = load_example_frames(keep_dirs_vehicle[0], frame_range=range(2000,2300), load_dct=load_dct, load_cameras=load_cameras)"
   ]
  },
  {
   "cell_type": "code",
   "execution_count": null,
   "id": "f524def0-aa7b-433b-af04-87071fd9ba1a",
   "metadata": {},
   "outputs": [],
   "source": [
    "import cmocean"
   ]
  },
  {
   "cell_type": "code",
   "execution_count": null,
   "id": "b9cf8c45-a559-482e-90fb-e6cfe58d3ff9",
   "metadata": {},
   "outputs": [],
   "source": [
    "setup_plotting_env()"
   ]
  },
  {
   "cell_type": "code",
   "execution_count": null,
   "id": "0137cfcf-774b-4762-88b7-1ca65c268fc0",
   "metadata": {},
   "outputs": [],
   "source": [
    "bbox_width = 250\n",
    "bbox_height = 150\n",
    "buffer = 100\n",
    "reflect_kwargs = {\"vmin\": 0, \"vmax\": 150, \"cmap\": \"gray\"}\n",
    "fluo_kwargs = {\"vmin\": 0, \"vmax\": 75, \"cmap\": \"inferno\"}\n",
    "use_frame = {\"cell_labeling\": 225, \"vehicle\": 102} # 100 good for cell labeling\n",
    "threshold = 10"
   ]
  },
  {
   "cell_type": "code",
   "execution_count": null,
   "id": "d2338eda-5b6c-4560-a4ee-209c4beebfeb",
   "metadata": {},
   "outputs": [],
   "source": [
    "plt_fluo = {}\n",
    "plt_reflect = {}\n",
    "clahe = cv2.createCLAHE(clipLimit=1., tileGridSize=(32, 32))\n",
    "for _condition in fluo_frames.keys():\n",
    "    plt_fluo[_condition] = {}\n",
    "    plt_reflect[_condition] = {}\n",
    "    for _cam in load_cameras:\n",
    "        plt_fluo[_condition][_cam], plt_reflect[_condition][_cam] = get_mouse_roi(\n",
    "            fluo_frames[_condition][_cam][use_frame[_condition]],\n",
    "            reflect_frames[_condition][_cam][use_frame[_condition]],\n",
    "            masks[_condition][_cam][use_frame[_condition]],\n",
    "            bbox_width=bbox_width,\n",
    "            bbox_height=bbox_height,\n",
    "            buffer=buffer,\n",
    "            threshold=threshold,\n",
    "            hist_equalization=False,\n",
    "            clahe=clahe,\n",
    "        )"
   ]
  },
  {
   "cell_type": "code",
   "execution_count": null,
   "id": "d59fa107-fa40-4e5e-972e-42cdebab71ca",
   "metadata": {},
   "outputs": [],
   "source": [
    "fig, ax = plt.subplots(2, 2, figsize=(4.5,3.))\n",
    "ax = ax.T\n",
    "use_cam = load_cameras[1]\n",
    "for _condition, _ax in zip([\"vehicle\", \"cell_labeling\"], ax):\n",
    "    h1 = _ax[0].imshow(plt_reflect[_condition][use_cam], **reflect_kwargs)\n",
    "    h2 = _ax[1].imshow(plt_fluo[_condition][use_cam], **fluo_kwargs)\n",
    "for _ax in ax.ravel():\n",
    "    _ax.axis(\"off\")\n",
    "fig.subplots_adjust(wspace=0.05, hspace=0.05)\n",
    "# fig.tight_layout()\n",
    "cbar1 = fig.colorbar(h1, ax=list(ax.ravel()), shrink=.4, aspect=10, pad=0.)\n",
    "cbar1.set_ticks([reflect_kwargs[\"vmin\"], reflect_kwargs[\"vmax\"]])\n",
    "cbar2 = fig.colorbar(h2, ax=list(ax.ravel()), shrink=.4, aspect=10, pad=.05)\n",
    "cbar2.set_ticks([fluo_kwargs[\"vmin\"], fluo_kwargs[\"vmax\"]])\n",
    "fig.savefig(os.path.join(save_dir, \"still_images_vehicle_v_cell_labeling_0h.pdf\"), bbox_inches=\"tight\", dpi=600)"
   ]
  },
  {
   "cell_type": "markdown",
   "id": "dcc105d5-58b0-4f9e-bcdc-4447b8ba2951",
   "metadata": {},
   "source": [
    "# Fig. 2 example, cell labeling vs vascular labels, +2-3 days"
   ]
  },
  {
   "cell_type": "code",
   "execution_count": null,
   "id": "c32cca07-b0c5-490f-b53e-b80ee3979bd2",
   "metadata": {},
   "outputs": [],
   "source": [
    "import re"
   ]
  },
  {
   "cell_type": "code",
   "execution_count": null,
   "id": "87280049-2b30-4317-820f-894bfb1bbbc2",
   "metadata": {},
   "outputs": [],
   "source": [
    "# get subject names and filter that stuff...\n",
    "metadata = {}\n",
    "dirs = sorted(list(set([os.path.dirname(_) for _ in fluo_files])))\n",
    "for _dir in tqdm(dirs):\n",
    "    metadata[_dir] = toml.load(os.path.join(_dir, \"../metadata.toml\"))"
   ]
  },
  {
   "cell_type": "code",
   "execution_count": null,
   "id": "023ce631-e2b9-48ca-86f7-e39b0249811e",
   "metadata": {},
   "outputs": [],
   "source": [
    "cameras = sorted(list(list(metadata.values())[0][\"cameras\"].keys()))"
   ]
  },
  {
   "cell_type": "code",
   "execution_count": null,
   "id": "d7810584-834b-459f-9ec3-8edbe9e1d349",
   "metadata": {},
   "outputs": [],
   "source": [
    "from collections import defaultdict"
   ]
  },
  {
   "cell_type": "code",
   "execution_count": null,
   "id": "34b23c0f-cb71-4b4c-bed4-fb582c4af128",
   "metadata": {},
   "outputs": [],
   "source": [
    "keep_dirs_qd_exp = defaultdict(dict)\n",
    "keep_dirs_vasc_exp = defaultdict(dict)\n",
    "for k, _metadata in metadata.items():\n",
    "    try:\n",
    "        hours_from_injection = int(re.search(\"(\\d+)h\", _metadata[\"user_input\"][\"notes\"]).groups(0)[0])\n",
    "    except AttributeError:\n",
    "        hours_from_injection = np.inf\n",
    "\n",
    "\n",
    "    subject = _metadata[\"user_input\"][\"subject\"].lower()\n",
    "    \n",
    "    if (\"qd_exp\" not in subject) and (\"vasc\" not in subject):\n",
    "        continue\n",
    "    \n",
    "    if \"qd_exp\" in subject:\n",
    "        keep_dirs_qd_exp[subject][hours_from_injection] = k\n",
    "    else:\n",
    "        keep_dirs_vasc_exp[subject][hours_from_injection] = k\n"
   ]
  },
  {
   "cell_type": "code",
   "execution_count": null,
   "id": "91af5576-395f-45db-a2c6-0f9c64dcff91",
   "metadata": {},
   "outputs": [],
   "source": [
    "keep_dirs_qd_exp[\"qd_exp_01\"][1]"
   ]
  },
  {
   "cell_type": "code",
   "execution_count": null,
   "id": "bdb5d29e-91a7-4c67-a18d-b2798939b22b",
   "metadata": {},
   "outputs": [],
   "source": [
    "fluo_frames_2 = defaultdict(dict)\n",
    "reflect_frames_2 = defaultdict(dict)\n",
    "masks_2 = defaultdict(dict)\n",
    "timestamps_2 = defaultdict(dict)"
   ]
  },
  {
   "cell_type": "code",
   "execution_count": null,
   "id": "ec8a6233-886c-46b5-aa17-9164ba7de0f2",
   "metadata": {},
   "outputs": [],
   "source": [
    "load_hours = [1, 24, 48]\n",
    "load_cameras = [cameras[1]]"
   ]
  },
  {
   "cell_type": "code",
   "execution_count": null,
   "id": "0b6e5a07-3240-4368-8f67-1f137517714f",
   "metadata": {},
   "outputs": [],
   "source": [
    "# get a blank and a high intensity animal...\n",
    "for _hour in tqdm(load_hours):\n",
    "    (\n",
    "        fluo_frames_2[\"cell_labeling\"][_hour],\n",
    "        reflect_frames_2[\"cell_labeling\"][_hour],\n",
    "        masks_2[\"cell_labeling\"][_hour],\n",
    "        _,\n",
    "        _,\n",
    "        # timestamps[\"cell_labeling\"],\n",
    "    ) = load_example_frames(keep_dirs_qd_exp[\"qd_exp_01\"][_hour], frame_range=range(2000,2500), load_dct=load_dct, load_cameras=load_cameras) # 0 looks pretty good..."
   ]
  },
  {
   "cell_type": "code",
   "execution_count": null,
   "id": "ab5b6cff-70eb-45ed-8524-a3ee5488291f",
   "metadata": {},
   "outputs": [],
   "source": [
    "# get a blank and a high intensity animal...\n",
    "for _hour in tqdm(load_hours):\n",
    "    (\n",
    "        fluo_frames_2[\"vascular\"][_hour],\n",
    "        reflect_frames_2[\"vascular\"][_hour],\n",
    "        masks_2[\"vascular\"][_hour],\n",
    "        _,\n",
    "        _,\n",
    "        # timestamps[\"cell_labeling\"],\n",
    "    ) = load_example_frames(keep_dirs_vasc_exp[\"qd_vasc_02\"][_hour], frame_range=range(2000,2500), load_dct=load_dct, load_cameras=load_cameras) # 0 looks pretty good..."
   ]
  },
  {
   "cell_type": "code",
   "execution_count": null,
   "id": "be151d7c-be5f-4442-8a8e-9ac23d4a80bf",
   "metadata": {},
   "outputs": [],
   "source": [
    "bbox_width = 250\n",
    "bbox_height = 150\n",
    "buffer = 150\n",
    "reflect_kwargs = {\"vmin\": 0, \"vmax\": 200, \"cmap\": \"gray\"}\n",
    "fluo_kwargs = {\"vmin\": 0, \"vmax\": 75, \"cmap\": \"inferno\"}\n",
    "use_frame = {\"cell_labeling\": {1: 20, 24: 1, 48: 20}, \"vascular\": {1: 150, 24: 100, 48: 9}}\n",
    "threshold = 5"
   ]
  },
  {
   "cell_type": "code",
   "execution_count": null,
   "id": "4abf075a-4730-4ca6-a434-ca4e2a55afc1",
   "metadata": {},
   "outputs": [],
   "source": [
    "plt_fluo = defaultdict(dict)\n",
    "plt_reflect = defaultdict(dict)\n",
    "\n",
    "for _condition in fluo_frames_2.keys():\n",
    "    # plt_fluo[_condition] = {}\n",
    "    # plt_reflect[_condition] = {}\n",
    "    plt_fluo[_condition] = defaultdict(dict)\n",
    "    plt_reflect[_condition] = defaultdict(dict)\n",
    "        \n",
    "    for _cam in load_cameras:\n",
    "        for _hour in load_hours:\n",
    "            fluo_frame = fluo_frames_2[_condition][_hour][_cam][use_frame[_condition][_hour]]\n",
    "            mask = masks_2[_condition][_hour][_cam][use_frame[_condition][_hour]].astype(\"uint8\")\n",
    "            reflect_frame = reflect_frames_2[_condition][_hour][_cam][use_frame[_condition][_hour]]\n",
    "            plt_fluo[_condition][_hour][_cam], plt_reflect[_condition][_hour][_cam] = get_mouse_roi(\n",
    "                fluo_frame,\n",
    "                reflect_frame,\n",
    "                mask,\n",
    "                bbox_width=bbox_width,\n",
    "                bbox_height=bbox_height,\n",
    "                buffer=buffer,\n",
    "                threshold=threshold,\n",
    "            )"
   ]
  },
  {
   "cell_type": "code",
   "execution_count": null,
   "id": "d87ada84-73e1-434a-a283-6f187193db04",
   "metadata": {},
   "outputs": [],
   "source": [
    "# show progression over 48 hours..."
   ]
  },
  {
   "cell_type": "code",
   "execution_count": null,
   "id": "838c0bd4-7760-4a97-904c-bcb47a085f39",
   "metadata": {},
   "outputs": [],
   "source": [
    "fig, ax = plt.subplots(2, len(load_hours), figsize=(6,3.))\n",
    "# ax = ax.T\n",
    "\n",
    "for _condition, rax in zip([\"vascular\", \"cell_labeling\"], ax):\n",
    "    for _hour, _ax in zip(load_hours, rax):\n",
    "        h1 = _ax.imshow(plt_fluo[_condition][_hour][use_cam], **fluo_kwargs)\n",
    "        \n",
    "for _ax in ax.ravel():\n",
    "    _ax.axis(\"off\")\n",
    "fig.subplots_adjust(wspace=0.05, hspace=0.05)\n",
    "# # fig.tight_layout()\n",
    "cbar1 = fig.colorbar(h1, ax=list(ax.ravel()), shrink=.4, aspect=10, pad=0.05)\n",
    "cbar1.set_ticks([fluo_kwargs[\"vmin\"], fluo_kwargs[\"vmax\"]])\n",
    "fig.savefig(os.path.join(save_dir, \"still_images_vascular_v_cell_labeling_0h-24h-48h.pdf\"), bbox_inches=\"tight\", dpi=600)"
   ]
  },
  {
   "cell_type": "markdown",
   "id": "2f48d900-9f18-4384-bc48-4985347abfa3",
   "metadata": {},
   "source": [
    "# Fig 3 example, cell labeling vs agarose beads, +7 days"
   ]
  },
  {
   "cell_type": "code",
   "execution_count": null,
   "id": "9c0fe2ad-7750-4dd0-a740-adcc949c1b90",
   "metadata": {},
   "outputs": [],
   "source": [
    "import re"
   ]
  },
  {
   "cell_type": "code",
   "execution_count": null,
   "id": "3db2f01f-fb52-4408-813b-6f602f672654",
   "metadata": {},
   "outputs": [],
   "source": [
    "# get subject names and filter that stuff...\n",
    "metadata = {}\n",
    "dirs = sorted(list(set([os.path.dirname(_) for _ in fluo_files])))\n",
    "for _dir in tqdm(dirs):\n",
    "    metadata[_dir] = toml.load(os.path.join(_dir, \"../metadata.toml\"))"
   ]
  },
  {
   "cell_type": "code",
   "execution_count": null,
   "id": "480e53bd-d13b-48d8-af83-63322923e025",
   "metadata": {},
   "outputs": [],
   "source": [
    "cameras = sorted(list(list(metadata.values())[0][\"cameras\"].keys()))"
   ]
  },
  {
   "cell_type": "code",
   "execution_count": null,
   "id": "ee18287c-c4a8-48b1-9eb2-fe7d5d54c035",
   "metadata": {},
   "outputs": [],
   "source": [
    "from collections import defaultdict"
   ]
  },
  {
   "cell_type": "code",
   "execution_count": null,
   "id": "7a34a6ea-5109-42b5-958d-5c47649cfa67",
   "metadata": {},
   "outputs": [],
   "source": [
    "keep_dirs_qd_exp = defaultdict(dict)\n",
    "keep_dirs_beads_exp = defaultdict(dict)\n",
    "keep_dirs_vasc_exp = defaultdict(dict)\n",
    "for k, _metadata in metadata.items():\n",
    "    try:\n",
    "        hours_from_injection = int(re.search(\"(\\d+)h\", _metadata[\"user_input\"][\"notes\"]).groups(0)[0])\n",
    "    except AttributeError:\n",
    "        hours_from_injection = np.inf\n",
    "\n",
    "\n",
    "    subject = _metadata[\"user_input\"][\"subject\"].lower()\n",
    "    \n",
    "    if (\"qd_exp\" not in subject) and (\"qd_beads\" not in subject) and (\"vasc\" not in subject):\n",
    "        continue\n",
    "    \n",
    "    if \"qd_exp\" in subject:\n",
    "        keep_dirs_qd_exp[subject][hours_from_injection] = k\n",
    "    elif \"beads\" in subject:\n",
    "        keep_dirs_beads_exp[subject][hours_from_injection] = k\n",
    "    else:\n",
    "        keep_dirs_vasc_exp[subject][hours_from_injection] = k"
   ]
  },
  {
   "cell_type": "code",
   "execution_count": null,
   "id": "35bdbd07-c8a2-450c-8aab-01c3802c41fc",
   "metadata": {},
   "outputs": [],
   "source": [
    "load_hours = [1, 48, 96]\n",
    "load_cameras = [cameras[1]]"
   ]
  },
  {
   "cell_type": "code",
   "execution_count": null,
   "id": "73b8ebf1-6b12-4af4-a9b8-cdb274da2016",
   "metadata": {},
   "outputs": [],
   "source": [
    "fluo_frames_3 = defaultdict(dict)\n",
    "reflect_frames_3 = defaultdict(dict)\n",
    "masks_3 = defaultdict(dict)\n",
    "timestamps_3 = defaultdict(dict)"
   ]
  },
  {
   "cell_type": "code",
   "execution_count": null,
   "id": "eb9ec4d9-0d15-4a90-bcd8-5b0ff887ba1d",
   "metadata": {},
   "outputs": [],
   "source": [
    "# get a blank and a high intensity animal...\n",
    "for _hour in tqdm(load_hours):\n",
    "    (\n",
    "        fluo_frames_3[\"cell_labeling\"][_hour],\n",
    "        reflect_frames_3[\"cell_labeling\"][_hour],\n",
    "        masks_3[\"cell_labeling\"][_hour],\n",
    "        _,\n",
    "        _,\n",
    "        # timestamps[\"cell_labeling\"],\n",
    "    ) = load_example_frames(keep_dirs_qd_exp[\"qd_exp_01\"][_hour], frame_range=range(2000,2500), load_dct=load_dct, load_cameras=load_cameras) # 0 looks pretty good..."
   ]
  },
  {
   "cell_type": "code",
   "execution_count": null,
   "id": "5c2a7dd1-992a-467a-adab-88b2c7726d1a",
   "metadata": {},
   "outputs": [],
   "source": [
    "# get a blank and a high intensity animal...\n",
    "for _hour in tqdm(load_hours):\n",
    "    (\n",
    "        fluo_frames_3[\"beads\"][_hour],\n",
    "        reflect_frames_3[\"beads\"][_hour],\n",
    "        masks_3[\"beads\"][_hour],\n",
    "        _,\n",
    "        _,\n",
    "        # timestamps[\"cell_labeling\"],\n",
    "    ) = load_example_frames(keep_dirs_beads_exp[\"qd_beads_03\"][_hour], frame_range=range(0,500), load_dct=load_dct, load_cameras=load_cameras) # 0 looks pretty good..."
   ]
  },
  {
   "cell_type": "code",
   "execution_count": null,
   "id": "61832fba-3d75-4df2-8b31-93004c08db10",
   "metadata": {},
   "outputs": [],
   "source": [
    "bbox_width = 250\n",
    "bbox_height = 150\n",
    "buffer = 150\n",
    "reflect_kwargs = {\"vmin\": 0, \"vmax\": 200, \"cmap\": \"gray\"}\n",
    "fluo_kwargs = {\"vmin\": 0, \"vmax\": 75, \"cmap\": \"inferno\"}\n",
    "use_frame = {\"cell_labeling\": {1: 20, 48: 20, 96: 450}, \"beads\": {1: 80, 48: 400, 96: 270}}\n",
    "threshold = 5"
   ]
  },
  {
   "cell_type": "code",
   "execution_count": null,
   "id": "097a51b9-5df2-43e7-9994-3cb9e4197568",
   "metadata": {},
   "outputs": [],
   "source": [
    "plt_fluo = defaultdict(dict)\n",
    "plt_reflect = defaultdict(dict)\n",
    "\n",
    "for _condition in fluo_frames_3.keys():\n",
    "    # plt_fluo[_condition] = {}\n",
    "    # plt_reflect[_condition] = {}\n",
    "    plt_fluo[_condition] = defaultdict(dict)\n",
    "    plt_reflect[_condition] = defaultdict(dict)\n",
    "        \n",
    "    for _cam in load_cameras:\n",
    "        for _hour in load_hours:\n",
    "            fluo_frame = fluo_frames_3[_condition][_hour][_cam][use_frame[_condition][_hour]]\n",
    "            mask = masks_3[_condition][_hour][_cam][use_frame[_condition][_hour]].astype(\"uint8\")\n",
    "            reflect_frame = reflect_frames_3[_condition][_hour][_cam][use_frame[_condition][_hour]]\n",
    "            plt_fluo[_condition][_hour][_cam], plt_reflect[_condition][_hour][_cam] = get_mouse_roi(\n",
    "                fluo_frame,\n",
    "                reflect_frame,\n",
    "                mask,\n",
    "                bbox_width=bbox_width,\n",
    "                bbox_height=bbox_height,\n",
    "                buffer=buffer,\n",
    "                threshold=threshold,\n",
    "            )"
   ]
  },
  {
   "cell_type": "code",
   "execution_count": null,
   "id": "7ec1a2e3-cce8-4247-b7cd-96e1c837034b",
   "metadata": {},
   "outputs": [],
   "source": [
    "fig, ax = plt.subplots(2, len(load_hours), figsize=(6,3.))\n",
    "# ax = ax.T\n",
    "\n",
    "for _condition, rax in zip([\"cell_labeling\", \"beads\"], ax):\n",
    "    for _hour, _ax in zip(load_hours, rax):\n",
    "        h1 = _ax.imshow(plt_fluo[_condition][_hour][use_cam], **fluo_kwargs)\n",
    "        \n",
    "for _ax in ax.ravel():\n",
    "    _ax.axis(\"off\")\n",
    "fig.subplots_adjust(wspace=0.05, hspace=0.05)\n",
    "# # fig.tight_layout()\n",
    "cbar1 = fig.colorbar(h1, ax=list(ax.ravel()), shrink=.4, aspect=10, pad=0.05)\n",
    "cbar1.set_ticks([fluo_kwargs[\"vmin\"], fluo_kwargs[\"vmax\"]])\n",
    "fig.savefig(os.path.join(save_dir, \"still_images_cell_labeling_v_beads_0h-48h-96h.pdf\"), bbox_inches=\"tight\", dpi=600)"
   ]
  },
  {
   "cell_type": "markdown",
   "id": "52ff41f4-f010-4997-95fd-c0b5bdb00682",
   "metadata": {},
   "source": [
    "# Fig 5 Beads v2"
   ]
  },
  {
   "cell_type": "code",
   "execution_count": null,
   "id": "887bf26d-54d0-4cb2-a352-81a3ffabee6b",
   "metadata": {},
   "outputs": [],
   "source": [
    "cameras = sorted(list(list(metadata.values())[0][\"cameras\"].keys()))"
   ]
  },
  {
   "cell_type": "code",
   "execution_count": null,
   "id": "2fb6895e-383c-4127-8f23-f8e8a35c5862",
   "metadata": {},
   "outputs": [],
   "source": [
    "keep_dirs_beads_exp = defaultdict(dict)\n",
    "keep_dirs_beads_v2_exp = defaultdict(dict)\n",
    "for k, _metadata in metadata.items():\n",
    "    try:\n",
    "        hours_from_injection = int(re.search(\"(\\d+)h\", _metadata[\"user_input\"][\"notes\"]).groups(0)[0])\n",
    "    except AttributeError:\n",
    "        hours_from_injection = np.inf\n",
    "    subject = _metadata[\"user_input\"][\"subject\"].lower()\n",
    "    if \"beads\" in subject:\n",
    "        keep_dirs_beads_exp[subject][hours_from_injection] = k\n",
    "for k, _metadata in metadata_v2.items():\n",
    "    try:\n",
    "        hours_from_injection = int(re.search(\"(\\d+)h\", _metadata[\"user_input\"][\"notes\"]).groups(0)[0])\n",
    "    except AttributeError:\n",
    "        hours_from_injection = np.inf\n",
    "    subject = _metadata[\"user_input\"][\"subject\"].lower()\n",
    "    if \"beads\" in subject:\n",
    "        keep_dirs_beads_v2_exp[subject][hours_from_injection] = k"
   ]
  },
  {
   "cell_type": "code",
   "execution_count": null,
   "id": "c4b296b4-17d7-4bf4-a767-c5af28a576a4",
   "metadata": {},
   "outputs": [],
   "source": [
    "load_hours = [24, 48, 96]\n",
    "load_cameras = [cameras[1]]"
   ]
  },
  {
   "cell_type": "code",
   "execution_count": null,
   "id": "93d99686-211d-4744-aae3-4132e98b5667",
   "metadata": {},
   "outputs": [],
   "source": [
    "fluo_frames_4 = defaultdict(dict)\n",
    "reflect_frames_4 = defaultdict(dict)\n",
    "masks_4 = defaultdict(dict)\n",
    "timestamps_4 = defaultdict(dict)"
   ]
  },
  {
   "cell_type": "code",
   "execution_count": null,
   "id": "22c6348d-ace5-4e91-984b-ff1a61a65631",
   "metadata": {},
   "outputs": [],
   "source": [
    "# get a blank and a high intensity animal...\n",
    "for _hour in tqdm(load_hours):\n",
    "    (\n",
    "        fluo_frames_4[\"beads\"][_hour],\n",
    "        reflect_frames_4[\"beads\"][_hour],\n",
    "        masks_4[\"beads\"][_hour],\n",
    "        _,\n",
    "        _,\n",
    "        # timestamps[\"beads\"],\n",
    "    ) = load_example_frames(keep_dirs_beads_exp[\"qd_beads_03\"][_hour], frame_range=range(2000,2500), load_dct=load_dct, load_cameras=load_cameras) # 0 looks pretty good..."
   ]
  },
  {
   "cell_type": "code",
   "execution_count": null,
   "id": "879c0b28-acc0-4e2a-9462-b1c87eb1c003",
   "metadata": {},
   "outputs": [],
   "source": [
    "# get a blank and a high intensity animal...\n",
    "for _hour in tqdm(load_hours):\n",
    "    (\n",
    "        fluo_frames_4[\"beads_v2\"][_hour],\n",
    "        reflect_frames_4[\"beads_v2\"][_hour],\n",
    "        masks_4[\"beads_v2\"][_hour],\n",
    "        _,\n",
    "        _,\n",
    "        # timestamps[\"cell_labeling\"],\n",
    "    ) = load_example_frames(keep_dirs_beads_v2_exp[\"qd_beads_07\"][_hour], frame_range=range(0,500), load_dct=load_dct_v2, load_cameras=load_cameras) # 0 looks pretty good..."
   ]
  },
  {
   "cell_type": "code",
   "execution_count": null,
   "id": "cd4bfda0-98e5-44c2-92f3-3fad159b944a",
   "metadata": {},
   "outputs": [],
   "source": []
  },
  {
   "cell_type": "code",
   "execution_count": null,
   "id": "69a1dd94-aaca-4be6-b9b2-8df94af69eb5",
   "metadata": {},
   "outputs": [],
   "source": [
    "bbox_width = 250\n",
    "bbox_height = 150\n",
    "buffer = 150\n",
    "reflect_kwargs = {\"vmin\": 0, \"vmax\": 200, \"cmap\": \"gray\"}\n",
    "fluo_kwargs = {\"vmin\": 0, \"vmax\": 150, \"cmap\": \"inferno\"}\n",
    "use_frame = {\"beads\": {24: 20, 48: 20, 96: 450}, \"beads_v2\": {24: 80, 48: 200, 96: 100}}\n",
    "threshold = 5"
   ]
  },
  {
   "cell_type": "code",
   "execution_count": null,
   "id": "d0bf19c7-3919-48d5-834e-26c5c577e93a",
   "metadata": {},
   "outputs": [],
   "source": [
    "plt_fluo = defaultdict(dict)\n",
    "plt_reflect = defaultdict(dict)\n",
    "\n",
    "for _condition in fluo_frames_4.keys():\n",
    "    # plt_fluo[_condition] = {}\n",
    "    # plt_reflect[_condition] = {}\n",
    "    plt_fluo[_condition] = defaultdict(dict)\n",
    "    plt_reflect[_condition] = defaultdict(dict)\n",
    "        \n",
    "    for _cam in load_cameras:\n",
    "        for _hour in load_hours:\n",
    "            fluo_frame = fluo_frames_4[_condition][_hour][_cam][use_frame[_condition][_hour]]\n",
    "            mask = masks_4[_condition][_hour][_cam][use_frame[_condition][_hour]].astype(\"uint8\")\n",
    "            reflect_frame = reflect_frames_4[_condition][_hour][_cam][use_frame[_condition][_hour]]\n",
    "            plt_fluo[_condition][_hour][_cam], plt_reflect[_condition][_hour][_cam] = get_mouse_roi(\n",
    "                fluo_frame,\n",
    "                reflect_frame,\n",
    "                mask,\n",
    "                bbox_width=bbox_width,\n",
    "                bbox_height=bbox_height,\n",
    "                buffer=buffer,\n",
    "                threshold=threshold,\n",
    "            )"
   ]
  },
  {
   "cell_type": "code",
   "execution_count": null,
   "id": "7babcd3b-8b26-484d-a536-cd430f6d5078",
   "metadata": {},
   "outputs": [],
   "source": [
    "use_cam = cameras[1]"
   ]
  },
  {
   "cell_type": "code",
   "execution_count": null,
   "id": "d204f550-eccc-4391-88f7-f0e94ec50b3a",
   "metadata": {},
   "outputs": [],
   "source": [
    "fig, ax = plt.subplots(2, len(load_hours), figsize=(6,3.))\n",
    "# ax = ax.T\n",
    "\n",
    "for _condition, rax in zip([\"beads\", \"beads_v2\"], ax):\n",
    "    for _hour, _ax in zip(load_hours, rax):\n",
    "        h1 = _ax.imshow(plt_fluo[_condition][_hour][use_cam], **fluo_kwargs)\n",
    "        \n",
    "for _ax in ax.ravel():\n",
    "    _ax.axis(\"off\")\n",
    "fig.subplots_adjust(wspace=0.05, hspace=0.05)\n",
    "# # fig.tight_layout()\n",
    "cbar1 = fig.colorbar(h1, ax=list(ax.ravel()), shrink=.4, aspect=10, pad=0.05)\n",
    "cbar1.set_ticks([fluo_kwargs[\"vmin\"], fluo_kwargs[\"vmax\"]])\n",
    "fig.savefig(os.path.join(save_dir, \"still_images_beads_vs_beads_v2_24h-48h-96h.pdf\"), bbox_inches=\"tight\", dpi=600)"
   ]
  },
  {
   "cell_type": "markdown",
   "id": "1858ed88-86f0-4195-9b75-add11d4ff4de",
   "metadata": {},
   "source": [
    "# Fig 6 Beads in knee joints"
   ]
  },
  {
   "cell_type": "code",
   "execution_count": 22,
   "id": "990d96c2-0122-4a6c-a238-fa72434684b1",
   "metadata": {},
   "outputs": [],
   "source": [
    "# NEED TO MODIFY ACCORDINGLY"
   ]
  },
  {
   "cell_type": "code",
   "execution_count": 23,
   "id": "b0959fe2-2460-453d-9958-8387f3b6d32a",
   "metadata": {},
   "outputs": [],
   "source": [
    "cameras = sorted(list(list(metadata.values())[0][\"cameras\"].keys()))"
   ]
  },
  {
   "cell_type": "code",
   "execution_count": 24,
   "id": "b38e77a9-e946-48e0-95c6-fb6e45b91249",
   "metadata": {},
   "outputs": [],
   "source": [
    "keep_dirs_beads_knee = defaultdict(dict)\n",
    "for k, _metadata in metadata_v2.items():\n",
    "    try:\n",
    "        hours_from_injection = int(re.search(\"(\\d+)h\", _metadata[\"user_input\"][\"notes\"]).groups(0)[0])\n",
    "    except AttributeError:\n",
    "        hours_from_injection = np.inf\n",
    "    subject = _metadata[\"user_input\"][\"subject\"].lower()\n",
    "    if \"knee\" in subject:\n",
    "        keep_dirs_beads_knee[subject][hours_from_injection] = k"
   ]
  },
  {
   "cell_type": "code",
   "execution_count": 25,
   "id": "9c7602f7-3a34-4851-8de1-fdaf3827b7fc",
   "metadata": {},
   "outputs": [],
   "source": [
    "load_hours = [1]\n",
    "load_cameras = cameras"
   ]
  },
  {
   "cell_type": "code",
   "execution_count": 26,
   "id": "2c07cf2c-c438-4505-bdbc-9429cc15961a",
   "metadata": {},
   "outputs": [],
   "source": [
    "fluo_frames_5 = defaultdict(dict)\n",
    "reflect_frames_5 = defaultdict(dict)\n",
    "masks_5 = defaultdict(dict)\n",
    "timestamps_5 = defaultdict(dict)"
   ]
  },
  {
   "cell_type": "code",
   "execution_count": 27,
   "id": "b609478c-10fd-4d72-836e-ae1f87c077b0",
   "metadata": {},
   "outputs": [
    {
     "data": {
      "text/plain": [
       "'/mnt/data/jmarkow/active_projects/quantum_dots/timecourse_02_joints/session_20240807185653-046788 (system76-pc)/_proc'"
      ]
     },
     "execution_count": 27,
     "metadata": {},
     "output_type": "execute_result"
    }
   ],
   "source": [
    "keep_dirs_beads_knee[\"qd_knee_03\"][1]"
   ]
  },
  {
   "cell_type": "code",
   "execution_count": 28,
   "id": "9f18ccee-e785-415d-b970-365bf0bc526e",
   "metadata": {},
   "outputs": [
    {
     "data": {
      "application/vnd.jupyter.widget-view+json": {
       "model_id": "937ce749816a455388d5dc37bb104a3c",
       "version_major": 2,
       "version_minor": 0
      },
      "text/plain": [
       "  0%|          | 0/1 [00:00<?, ?it/s]"
      ]
     },
     "metadata": {},
     "output_type": "display_data"
    },
    {
     "name": "stderr",
     "output_type": "stream",
     "text": [
      "/home/jmarkow/dev/python/markovids/src/markovids/vid/io.py:552: UserWarning: No intrinsic matrix or distortion coefficients, skipping undistortion\n",
      "  warnings.warn(\"No intrinsic matrix or distortion coefficients, skipping undistortion\")\n",
      "/home/jmarkow/dev/python/markovids/src/markovids/vid/io.py:552: UserWarning: No intrinsic matrix or distortion coefficients, skipping undistortion\n",
      "  warnings.warn(\"No intrinsic matrix or distortion coefficients, skipping undistortion\")\n",
      "/home/jmarkow/dev/python/markovids/src/markovids/vid/io.py:552: UserWarning: No intrinsic matrix or distortion coefficients, skipping undistortion\n",
      "  warnings.warn(\"No intrinsic matrix or distortion coefficients, skipping undistortion\")\n",
      "/home/jmarkow/dev/python/markovids/src/markovids/vid/io.py:552: UserWarning: No intrinsic matrix or distortion coefficients, skipping undistortion\n",
      "  warnings.warn(\"No intrinsic matrix or distortion coefficients, skipping undistortion\")\n",
      "/home/jmarkow/dev/python/markovids/src/markovids/vid/io.py:552: UserWarning: No intrinsic matrix or distortion coefficients, skipping undistortion\n",
      "  warnings.warn(\"No intrinsic matrix or distortion coefficients, skipping undistortion\")\n",
      "/home/jmarkow/dev/python/markovids/src/markovids/vid/io.py:552: UserWarning: No intrinsic matrix or distortion coefficients, skipping undistortion\n",
      "  warnings.warn(\"No intrinsic matrix or distortion coefficients, skipping undistortion\")\n",
      "/home/jmarkow/dev/python/markovids/src/markovids/vid/io.py:552: UserWarning: No intrinsic matrix or distortion coefficients, skipping undistortion\n",
      "  warnings.warn(\"No intrinsic matrix or distortion coefficients, skipping undistortion\")\n",
      "/home/jmarkow/dev/python/markovids/src/markovids/vid/io.py:552: UserWarning: No intrinsic matrix or distortion coefficients, skipping undistortion\n",
      "  warnings.warn(\"No intrinsic matrix or distortion coefficients, skipping undistortion\")\n",
      "/home/jmarkow/dev/python/markovids/src/markovids/vid/io.py:552: UserWarning: No intrinsic matrix or distortion coefficients, skipping undistortion\n",
      "  warnings.warn(\"No intrinsic matrix or distortion coefficients, skipping undistortion\")\n",
      "/home/jmarkow/dev/python/markovids/src/markovids/vid/io.py:552: UserWarning: No intrinsic matrix or distortion coefficients, skipping undistortion\n",
      "  warnings.warn(\"No intrinsic matrix or distortion coefficients, skipping undistortion\")\n"
     ]
    }
   ],
   "source": [
    "# get a blank and a high intensity animal...\n",
    "for _hour in tqdm(load_hours):\n",
    "    (\n",
    "        fluo_frames_5[\"beads\"][_hour],\n",
    "        reflect_frames_5[\"beads\"][_hour],\n",
    "        masks_5[\"beads\"][_hour],\n",
    "        _,\n",
    "        _,\n",
    "        # timestamps[\"beads\"],\n",
    "    ) = load_example_frames(keep_dirs_beads_knee[\"qd_knee_03\"][_hour], frame_range=range(4000,4800), load_dct=load_dct, load_cameras=load_cameras) # 0 looks pretty good..."
   ]
  },
  {
   "cell_type": "code",
   "execution_count": 177,
   "id": "accdb3b4-caca-4b0d-b9cc-eaee66b7c01c",
   "metadata": {},
   "outputs": [],
   "source": [
    "bbox_width = 250\n",
    "bbox_height = 300\n",
    "buffer = 200\n",
    "reflect_kwargs = {\"vmin\": 0, \"vmax\": 255, \"cmap\": \"gray\"}\n",
    "fluo_kwargs = {\"vmin\": 0, \"vmax\": 150, \"cmap\": \"inferno\"}\n",
    "use_frame = {\"beads\": {1: 465, 48: 20, 96: 450}}\n",
    "threshold = 0"
   ]
  },
  {
   "cell_type": "code",
   "execution_count": 178,
   "id": "a7fdcb78-44a6-4367-acae-753f5c3e871b",
   "metadata": {},
   "outputs": [],
   "source": [
    "plt_fluo = defaultdict(dict)\n",
    "plt_reflect = defaultdict(dict)\n",
    "\n",
    "for _condition in fluo_frames_5.keys():\n",
    "    # plt_fluo[_condition] = {}\n",
    "    # plt_reflect[_condition] = {}\n",
    "    plt_fluo[_condition] = defaultdict(dict)\n",
    "    plt_reflect[_condition] = defaultdict(dict)\n",
    "        \n",
    "    for _cam in load_cameras:\n",
    "        for _hour in load_hours:\n",
    "            fluo_frame = fluo_frames_5[_condition][_hour][_cam][use_frame[_condition][_hour]]\n",
    "            mask = masks_5[_condition][_hour][_cam][use_frame[_condition][_hour]].astype(\"uint8\")\n",
    "            reflect_frame = reflect_frames_5[_condition][_hour][_cam][use_frame[_condition][_hour]]\n",
    "            \n",
    "            # MATCH ACROSS VIEWS????\n",
    "            \n",
    "            plt_fluo[_condition][_hour][_cam], plt_reflect[_condition][_hour][_cam] = get_mouse_roi(\n",
    "                fluo_frame,\n",
    "                reflect_frame,\n",
    "                mask,\n",
    "                bbox_width=bbox_width,\n",
    "                bbox_height=bbox_height,\n",
    "                buffer=buffer,\n",
    "                threshold=threshold,\n",
    "                mask_only=True,\n",
    "                hist_equalization=False,\n",
    "            )"
   ]
  },
  {
   "cell_type": "code",
   "execution_count": 179,
   "id": "f6411900-39f2-4ff0-b428-3b51bc1ed959",
   "metadata": {},
   "outputs": [],
   "source": [
    "# show fluo and reflectance in a short sequence...\n",
    "use_hour = 1\n",
    "show_cameras = cameras"
   ]
  },
  {
   "cell_type": "code",
   "execution_count": 185,
   "id": "a4fbf829-0a37-41fb-98e7-a3fa0cd2d703",
   "metadata": {},
   "outputs": [],
   "source": [
    "setup_plotting_env()"
   ]
  },
  {
   "cell_type": "code",
   "execution_count": 186,
   "id": "571b0775-fdd4-413c-9412-c39c4c2e4e66",
   "metadata": {},
   "outputs": [
    {
     "ename": "KeyError",
     "evalue": "1",
     "output_type": "error",
     "traceback": [
      "\u001b[0;31m---------------------------------------------------------------------------\u001b[0m",
      "\u001b[0;31mKeyError\u001b[0m                                  Traceback (most recent call last)",
      "Cell \u001b[0;32mIn[186], line 5\u001b[0m\n\u001b[1;32m      3\u001b[0m \u001b[38;5;28;01mfor\u001b[39;00m i, _camera \u001b[38;5;129;01min\u001b[39;00m \u001b[38;5;28menumerate\u001b[39m(show_cameras):\n\u001b[1;32m      4\u001b[0m     \u001b[38;5;28;01mtry\u001b[39;00m:\n\u001b[0;32m----> 5\u001b[0m         h1 \u001b[38;5;241m=\u001b[39m ax[\u001b[38;5;241m0\u001b[39m][i]\u001b[38;5;241m.\u001b[39mimshow(\u001b[43mplt_fluo\u001b[49m\u001b[43m[\u001b[49m\u001b[38;5;124;43m\"\u001b[39;49m\u001b[38;5;124;43mbeads\u001b[39;49m\u001b[38;5;124;43m\"\u001b[39;49m\u001b[43m]\u001b[49m\u001b[43m[\u001b[49m\u001b[43muse_hour\u001b[49m\u001b[43m]\u001b[49m[_camera], \u001b[38;5;241m*\u001b[39m\u001b[38;5;241m*\u001b[39mfluo_kwargs)\n\u001b[1;32m      6\u001b[0m         h2 \u001b[38;5;241m=\u001b[39m ax[\u001b[38;5;241m1\u001b[39m][i]\u001b[38;5;241m.\u001b[39mimshow(plt_reflect[\u001b[38;5;124m\"\u001b[39m\u001b[38;5;124mbeads\u001b[39m\u001b[38;5;124m\"\u001b[39m][use_hour][_camera], \u001b[38;5;241m*\u001b[39m\u001b[38;5;241m*\u001b[39mreflect_kwargs)\n\u001b[1;32m      7\u001b[0m     \u001b[38;5;28;01mexcept\u001b[39;00m \u001b[38;5;167;01mTypeError\u001b[39;00m:\n",
      "\u001b[0;31mKeyError\u001b[0m: 1"
     ]
    },
    {
     "data": {
      "image/png": "[encoded data removed]",
      "text/plain": [
       "<Figure size 750x300 with 10 Axes>"
      ]
     },
     "metadata": {},
     "output_type": "display_data"
    }
   ],
   "source": [
    "fig, ax = plt.subplots(2, len(show_cameras), figsize=(len(show_cameras)*1.5,3))\n",
    "\n",
    "for i, _camera in enumerate(show_cameras):\n",
    "    try:\n",
    "        h1 = ax[0][i].imshow(plt_fluo[\"beads\"][use_hour][_camera], **fluo_kwargs)\n",
    "        h2 = ax[1][i].imshow(plt_reflect[\"beads\"][use_hour][_camera], **reflect_kwargs)\n",
    "    except TypeError:\n",
    "        continue\n",
    "\n",
    "for _ax in ax.ravel():\n",
    "    _ax.axis(\"off\")\n",
    "\n",
    "fig.subplots_adjust(wspace=0.05, hspace=0.05)\n",
    "# # fig.tight_layout()\n",
    "cbar1 = fig.colorbar(h1, ax=list(ax[0].ravel()), shrink=.4, aspect=10, pad=0.05)\n",
    "cbar1.set_ticks([fluo_kwargs[\"vmin\"], fluo_kwargs[\"vmax\"]])\n",
    "cbar2 = fig.colorbar(h2, ax=list(ax[1].ravel()), shrink=.4, aspect=10, pad=0.05)\n",
    "cbar2.set_ticks([reflect_kwargs[\"vmin\"], reflect_kwargs[\"vmax\"]])\n",
    "fig.savefig(os.path.join(save_dir, \"kneejoints-1h-multiview.pdf\"), bbox_inches=\"tight\", dpi=600)"
   ]
  },
  {
   "cell_type": "code",
   "execution_count": null,
   "id": "edb4ee19-5385-4765-b8ae-92579dff9e08",
   "metadata": {},
   "outputs": [],
   "source": [
    "seq = range(450,470,5)"
   ]
  },
  {
   "cell_type": "code",
   "execution_count": null,
   "id": "6a0f62a3-8d18-456f-9c2d-4a2b2538654a",
   "metadata": {},
   "outputs": [],
   "source": [
    "plt_fluo = defaultdict(dict)\n",
    "plt_reflect = defaultdict(dict)\n",
    "use_condition = \"beads\"\n",
    "use_camera = cameras[3]\n",
    "use_hour = 1\n",
    "\n",
    "# MATCH ACROSS VIEWS????\n",
    "for i, _frame in enumerate(seq):\n",
    "    \n",
    "    fluo_frame = fluo_frames_5[use_condition][use_hour][use_camera][_frame]\n",
    "    mask = masks_5[use_condition][use_hour][use_camera][_frame].astype(\"uint8\")\n",
    "    reflect_frame = reflect_frames_5[use_condition][use_hour][use_camera][_frame]\n",
    "\n",
    "    plt_fluo[i], plt_reflect[i] = get_mouse_roi(\n",
    "        fluo_frame,\n",
    "        reflect_frame,\n",
    "        mask,\n",
    "        bbox_width=bbox_width,\n",
    "        bbox_height=bbox_height,\n",
    "        buffer=buffer,\n",
    "        threshold=threshold,\n",
    "        mask_only=True,\n",
    "        hist_equalization=False,\n",
    "    )"
   ]
  },
  {
   "cell_type": "code",
   "execution_count": null,
   "id": "feea5145-83ae-4a72-8df8-9de43c1c7eaa",
   "metadata": {},
   "outputs": [],
   "source": [
    "fig, ax = plt.subplots(2, len(seq), figsize=(len(seq)*1.5,3))\n",
    "\n",
    "for i in range(len(seq)):\n",
    "    try:\n",
    "        h1 = ax[0][i].imshow(plt_fluo[i], **fluo_kwargs)\n",
    "        h2 = ax[1][i].imshow(plt_reflect[i], **reflect_kwargs)\n",
    "    except TypeError:\n",
    "        continue\n",
    "\n",
    "for _ax in ax.ravel():\n",
    "    _ax.axis(\"off\")\n",
    "\n",
    "fig.subplots_adjust(wspace=0.05, hspace=0.05)\n",
    "# # fig.tight_layout()\n",
    "# cbar1 = fig.colorbar(h1, ax=list(ax.ravel()), shrink=.4, aspect=10, pad=0.05)\n",
    "# cbar1.set_ticks([fluo_kwargs[\"vmin\"], fluo_kwargs[\"vmax\"]])\n",
    "\n",
    "cbar1 = fig.colorbar(h1, ax=list(ax[0].ravel()), shrink=.4, aspect=10, pad=0.05)\n",
    "cbar1.set_ticks([fluo_kwargs[\"vmin\"], fluo_kwargs[\"vmax\"]])\n",
    "cbar2 = fig.colorbar(h2, ax=list(ax[1].ravel()), shrink=.4, aspect=10, pad=0.05)\n",
    "cbar2.set_ticks([reflect_kwargs[\"vmin\"], reflect_kwargs[\"vmax\"]])\n",
    "fig.savefig(os.path.join(save_dir, \"kneejoints-1h-sequence-camera3.pdf\"), bbox_inches=\"tight\", dpi=600)"
   ]
  },
  {
   "cell_type": "code",
   "execution_count": 187,
   "id": "5a96b8f5-3048-48f9-8274-588ac247280b",
   "metadata": {},
   "outputs": [
    {
     "data": {
      "text/plain": [
       "[450, 455, 460, 465]"
      ]
     },
     "execution_count": 187,
     "metadata": {},
     "output_type": "execute_result"
    }
   ],
   "source": [
    "list(seq)"
   ]
  },
  {
   "cell_type": "code",
   "execution_count": null,
   "id": "87f123fb-caf1-47eb-8134-6fefbca1caeb",
   "metadata": {},
   "outputs": [],
   "source": []
  }
 ],
 "metadata": {
  "kernelspec": {
   "display_name": "Python [conda env:data_analysis]",
   "language": "python",
   "name": "conda-env-data_analysis-py"
  },
  "language_info": {
   "codemirror_mode": {
    "name": "ipython",
    "version": 3
   },
   "file_extension": ".py",
   "mimetype": "text/x-python",
   "name": "python",
   "nbconvert_exporter": "python",
   "pygments_lexer": "ipython3",
   "version": "3.10.0"
  }
 },
 "nbformat": 4,
 "nbformat_minor": 5
}
