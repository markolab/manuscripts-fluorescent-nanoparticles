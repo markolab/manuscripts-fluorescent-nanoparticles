{
 "cells": [
  {
   "cell_type": "code",
   "execution_count": 1,
   "id": "6fdf449c-18e7-4dcc-a194-9de011757c91",
   "metadata": {
    "tags": []
   },
   "outputs": [],
   "source": [
    "%load_ext autoreload\n",
    "%autoreload 2\n",
    "%matplotlib inline"
   ]
  },
  {
   "cell_type": "code",
   "execution_count": 2,
   "id": "b25fd5e0-464c-4c6e-93d1-1082c5d1aa1e",
   "metadata": {
    "tags": []
   },
   "outputs": [],
   "source": [
    "import os\n",
    "import copy\n",
    "import cv2\n",
    "import matplotlib.pyplot as plt\n",
    "import numpy as np\n",
    "import toml\n",
    "import glob\n",
    "import joblib\n",
    "import h5py\n",
    "from tqdm.auto import tqdm\n",
    "from qd_analysis.fig import setup_plotting_env"
   ]
  },
  {
   "cell_type": "code",
   "execution_count": 3,
   "id": "0c9b2f24-2f03-473f-bb43-96ff3f96c0d2",
   "metadata": {
    "tags": []
   },
   "outputs": [],
   "source": [
    "from joblib import Parallel, delayed\n",
    "import pandas as pd\n",
    "import seaborn as sns"
   ]
  },
  {
   "cell_type": "code",
   "execution_count": 4,
   "id": "e66b7679-6b4d-45a6-bfce-c165ad13abb6",
   "metadata": {
    "tags": []
   },
   "outputs": [],
   "source": [
    "save_dir = \"/mnt/data/jmarkow/panels/2024-06 (QD paper)\"\n",
    "os.makedirs(save_dir, exist_ok=True)"
   ]
  },
  {
   "cell_type": "code",
   "execution_count": 5,
   "id": "c8cca5b4-01e5-48d3-b3b6-976dfd0fd069",
   "metadata": {},
   "outputs": [],
   "source": [
    "config = toml.load(\"../preprocessing/config.toml\")"
   ]
  },
  {
   "cell_type": "code",
   "execution_count": 6,
   "id": "d328eea9-74e4-47dc-b5d1-cafca60d335d",
   "metadata": {},
   "outputs": [],
   "source": [
    "npcols = [\"ave_corr\", \"intrinsic_matrix\", \"distortion_coeffs\"] "
   ]
  },
  {
   "cell_type": "code",
   "execution_count": 7,
   "id": "7161e8de-21bc-4dda-9413-d272d1653cbc",
   "metadata": {},
   "outputs": [],
   "source": [
    "show_categories = [\n",
    "    \"qd_vascular_labels\",\n",
    "    \"qd_cell_labels\", \n",
    "    \"qd_beads\", \n",
    "    # \"qd_beads_v2\",\n",
    "    # \"qd_vascular_labels_high_light\",\n",
    "]"
   ]
  },
  {
   "cell_type": "code",
   "execution_count": 8,
   "id": "1e0d7ede-4141-4e13-be18-2025dbcb1113",
   "metadata": {},
   "outputs": [],
   "source": [
    "base_colors = sns.color_palette(\"deep\")\n",
    "palette = {\"qd_vascular_labels\": base_colors[0],\n",
    "           \"qd_cell_labels\": base_colors[1],\n",
    "           \"qd_beads\": base_colors[2],\n",
    "           \"qd_beads_v2\": base_colors[3]}"
   ]
  },
  {
   "cell_type": "code",
   "execution_count": 9,
   "id": "7d4d9f67-ba53-4fb5-96e7-cb5d7cbcd842",
   "metadata": {},
   "outputs": [],
   "source": [
    "# https://stackoverflow.com/questions/22686183/calculate-the-standard-deviation-of-a-gaussian\n",
    "# https://en.wikipedia.org/wiki/Variance\n",
    "# from equation for variance use x^2.dot(probs) - mu^2 (mu pinned to 0 here...\n",
    "def get_spread(dat, xs=None):\n",
    "    py = dat.sum(axis=1)\n",
    "    px = dat.sum(axis=0)\n",
    "    if xs is None:\n",
    "        xs = np.arange(len(px))\n",
    "    py /= py.sum()\n",
    "    px /= px.sum()\n",
    "    stdx = np.sqrt((xs**2).dot(px) - 0) \n",
    "    stdy = np.sqrt((xs**2).dot(py) - 0)\n",
    "    return stdx, stdy"
   ]
  },
  {
   "cell_type": "code",
   "execution_count": 10,
   "id": "9f3ec158-a76c-4a30-a1d5-4c01b335493a",
   "metadata": {},
   "outputs": [],
   "source": [
    "corr_df = pd.read_parquet(os.path.join(config[\"dirs\"][\"analysis\"],\"fluorescence_autocorrelation.parquet\"))"
   ]
  },
  {
   "cell_type": "code",
   "execution_count": 11,
   "id": "6855c66a-2665-47aa-a2c9-b28e0691744f",
   "metadata": {},
   "outputs": [],
   "source": [
    "exclude_subjects = [\"qd_beads_01\",\"qd_beads_02\",\"qd_beads_03\",\"qd_beads_08\"]"
   ]
  },
  {
   "cell_type": "code",
   "execution_count": 12,
   "id": "bbf0dd9c-613b-496f-bf02-a834a68a652d",
   "metadata": {},
   "outputs": [],
   "source": [
    "corr_df = corr_df.query(\"~subject.isin(@exclude_subjects) and days<=0\")"
   ]
  },
  {
   "cell_type": "code",
   "execution_count": 13,
   "id": "f7706c2e-c20b-484b-9f8f-941d1523d985",
   "metadata": {},
   "outputs": [],
   "source": [
    "for _col in npcols:\n",
    "    corr_df[_col] = corr_df[_col].apply(np.vstack)"
   ]
  },
  {
   "cell_type": "code",
   "execution_count": 14,
   "id": "7c8bc959-7ebb-4c5a-8b5c-c56941c87d40",
   "metadata": {},
   "outputs": [],
   "source": [
    "im_width, im_height = corr_df[\"ave_corr\"].iat[0].shape"
   ]
  },
  {
   "cell_type": "code",
   "execution_count": 15,
   "id": "0d67e319-54c8-4d36-a60e-1a1ed2909daf",
   "metadata": {},
   "outputs": [],
   "source": [
    "max_lag = im_width // 2\n",
    "lags = np.arange(-max_lag, max_lag + 1)"
   ]
  },
  {
   "cell_type": "code",
   "execution_count": 16,
   "id": "faaca1d9-e425-4a51-b630-a9c0c010ed67",
   "metadata": {},
   "outputs": [],
   "source": [
    "xx, yy = np.meshgrid(np.arange(im_width), np.arange(im_height))"
   ]
  },
  {
   "cell_type": "code",
   "execution_count": 17,
   "id": "6e600c47-e537-4511-b228-15ab10dcc822",
   "metadata": {},
   "outputs": [],
   "source": [
    "ave_matrix = np.stack(list(corr_df[\"intrinsic_matrix\"])).mean(axis=0)\n",
    "# this is really just for viz and sanity checks"
   ]
  },
  {
   "cell_type": "code",
   "execution_count": 18,
   "id": "02b4018f-7a43-4c49-bcef-a2125e2ee741",
   "metadata": {},
   "outputs": [],
   "source": [
    "px = ave_matrix[0,2]\n",
    "py = ave_matrix[1,2]\n",
    "fx = ave_matrix[0,0]\n",
    "fy = ave_matrix[1,1]"
   ]
  },
  {
   "cell_type": "code",
   "execution_count": 19,
   "id": "f3553b66-1b85-4a8a-b5b7-1ebf8851a1f4",
   "metadata": {},
   "outputs": [],
   "source": [
    "z = 304.8 # distance to middle in mm(approximate), corresponds to 12 inches\n",
    "parameters = {}\n",
    "xhat = z * (xx - px) / fx\n",
    "yhat = z * (yy - py) / fy\n",
    "ymm_per_px = np.diff(yhat,axis=0).mean()\n",
    "xmm_per_px = np.diff(xhat,axis=1).mean()\n",
    "    # coords[k] = (xx - v[\"px\"])"
   ]
  },
  {
   "cell_type": "code",
   "execution_count": 20,
   "id": "1c7361bc-fcbe-48cc-ace4-c2969e544023",
   "metadata": {},
   "outputs": [],
   "source": [
    "use_mm_per_px = np.mean([xmm_per_px, ymm_per_px])"
   ]
  },
  {
   "cell_type": "code",
   "execution_count": 21,
   "id": "80b04294-2d8d-4978-94e1-db1540bec77f",
   "metadata": {},
   "outputs": [],
   "source": [
    "xs = np.arange(-max_lag, max_lag + 1) * use_mm_per_px"
   ]
  },
  {
   "cell_type": "code",
   "execution_count": null,
   "id": "d9649b92-7328-4e03-91c4-914afc523e69",
   "metadata": {},
   "outputs": [],
   "source": []
  },
  {
   "cell_type": "code",
   "execution_count": 22,
   "id": "d9ecbbfa-8cdc-42d7-b62d-47f1d98204ab",
   "metadata": {},
   "outputs": [],
   "source": [
    "\n",
    "\n",
    "spread_df = corr_df[\"ave_corr\"].apply(get_spread).apply(pd.Series).rename(columns={0: \"spread_x\", 1: \"spread_y\"})\n",
    "try:\n",
    "    corr_df = corr_df.join(spread_df)\n",
    "except ValueError:\n",
    "    print(\"Skipping...\")\n",
    "    pass"
   ]
  },
  {
   "cell_type": "code",
   "execution_count": 23,
   "id": "6c2324da-9b95-48f4-b20a-58bf60eccd57",
   "metadata": {},
   "outputs": [],
   "source": [
    "# average and show spread???"
   ]
  },
  {
   "cell_type": "code",
   "execution_count": 24,
   "id": "1e549df9-2b64-40b9-8b44-8e1b56648379",
   "metadata": {},
   "outputs": [],
   "source": [
    "spread_plt_df = corr_df.query(\"days == 0\").groupby([\"subject\",\"exp_type\",\"camera\"])[[\"spread_x\",\"spread_y\"]].mean()\n",
    "spread_plt_df = spread_plt_df.melt(ignore_index=False).reset_index()"
   ]
  },
  {
   "cell_type": "code",
   "execution_count": 25,
   "id": "4751706c-cc82-42be-adc2-887a816065f7",
   "metadata": {},
   "outputs": [],
   "source": [
    "# sns.set_context(\"paper\", font_scale=.8)"
   ]
  },
  {
   "cell_type": "code",
   "execution_count": 26,
   "id": "d6a4307f-1033-4ee8-90a6-18eef972d86d",
   "metadata": {},
   "outputs": [],
   "source": [
    "setup_plotting_env()"
   ]
  },
  {
   "cell_type": "code",
   "execution_count": 28,
   "id": "9bf06ba2-d929-4220-8b2c-d9a72c98f06a",
   "metadata": {},
   "outputs": [],
   "source": [
    "max_display = 5."
   ]
  },
  {
   "cell_type": "code",
   "execution_count": 29,
   "id": "2a7ac2ca-a024-478d-88f1-e9af62b2cb06",
   "metadata": {},
   "outputs": [],
   "source": [
    "im_params = {\"cmap\": \"cubehelix\", \"vmin\": 0, \"vmax\": 1}\n",
    "ax_params = {\"xticks\": np.arange(-5., 5.1, 2.5), \"yticks\": np.arange(-5., 5.1, 2.5),\n",
    "             \"xlim\": (-max_display, max_display), \"ylim\": (-max_display, max_display)}"
   ]
  },
  {
   "cell_type": "code",
   "execution_count": 30,
   "id": "e9bc6d27-94d5-4318-8303-33e03b341caa",
   "metadata": {},
   "outputs": [],
   "source": [
    "# colorbar..."
   ]
  },
  {
   "cell_type": "code",
   "execution_count": 31,
   "id": "510b1ba9-5541-4736-bef5-67f6d7498bd7",
   "metadata": {},
   "outputs": [
    {
     "data": {
      "image/png": "[encoded data removed]",
      "text/plain": [
       "<Figure size 100x300 with 4 Axes>"
      ]
     },
     "metadata": {},
     "output_type": "display_data"
    }
   ],
   "source": [
    "fig, ax = plt.subplots(\n",
    "    len(show_categories),\n",
    "    1,\n",
    "    figsize=(1, 1 * len(show_categories)),\n",
    "    sharex=True,\n",
    "    sharey=True,\n",
    ")\n",
    "for _category, _ax in zip(show_categories, ax):\n",
    "    _ave = np.stack(\n",
    "        corr_df.query(f\"days == 0 & exp_type == '{_category}'\")[\"ave_corr\"].to_list()\n",
    "    ).mean(axis=0)\n",
    "    h = _ax.imshow(\n",
    "        _ave,\n",
    "        **im_params,\n",
    "        extent=[\n",
    "            -max_lag * use_mm_per_px,\n",
    "            max_lag * use_mm_per_px,\n",
    "            -max_lag * use_mm_per_px,\n",
    "            max_lag * use_mm_per_px,\n",
    "        ],\n",
    "    )\n",
    "    _ax.set_title(_category, color=palette[_category])\n",
    "ax[0].set_ylabel(\"Y (mm)\")\n",
    "ax[-1].set_xlabel(\"X (mm)\")\n",
    "ax[0].set(**ax_params)\n",
    "fig.colorbar(h, ax=ax, shrink=.5)\n",
    "fig.show()\n",
    "fig.savefig(os.path.join(save_dir, f\"qd_spatial_autocorr_{show_categories}.pdf\"), dpi=600, bbox_inches=\"tight\")"
   ]
  },
  {
   "cell_type": "code",
   "execution_count": 32,
   "id": "b8e06438-a130-40d3-bfa1-6b7626d3a399",
   "metadata": {},
   "outputs": [],
   "source": [
    "stat_df = spread_plt_df.groupby([\"exp_type\",\"variable\"])[\"value\"].agg({\"mean\",\"std\"})"
   ]
  },
  {
   "cell_type": "code",
   "execution_count": 33,
   "id": "3921da3b-6bd8-4d58-b490-737774120824",
   "metadata": {},
   "outputs": [],
   "source": [
    "stat_dct = stat_df.to_dict()\n",
    "new_stat_dct = {}\n",
    "for k, v in stat_dct.items():\n",
    "    new_stat_dct[k] = {}\n",
    "    for k2, v2 in stat_dct[k].items():\n",
    "        new_k2 = \"-\".join(k2)\n",
    "        new_stat_dct[k][new_k2] = v2"
   ]
  },
  {
   "cell_type": "code",
   "execution_count": 34,
   "id": "2968b529-6d5e-4ca9-9776-dd3e02d9af64",
   "metadata": {},
   "outputs": [],
   "source": [
    "with open(os.path.join(save_dir, f\"stats_figure1_spatialautocorrelation.toml\"), \"w\") as f:\n",
    "    toml.dump(new_stat_dct, f)"
   ]
  },
  {
   "cell_type": "code",
   "execution_count": null,
   "id": "a8a43497-416e-45ec-b266-b21f6eafad43",
   "metadata": {},
   "outputs": [],
   "source": []
  }
 ],
 "metadata": {
  "kernelspec": {
   "display_name": "Python [conda env:data_analysis]",
   "language": "python",
   "name": "conda-env-data_analysis-py"
  },
  "language_info": {
   "codemirror_mode": {
    "name": "ipython",
    "version": 3
   },
   "file_extension": ".py",
   "mimetype": "text/x-python",
   "name": "python",
   "nbconvert_exporter": "python",
   "pygments_lexer": "ipython3",
   "version": "3.10.0"
  }
 },
 "nbformat": 4,
 "nbformat_minor": 5
}
