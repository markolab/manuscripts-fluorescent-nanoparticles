{
 "cells": [
  {
   "cell_type": "code",
   "execution_count": 1,
   "id": "5f17da30-45c1-48dc-88ed-cb3c5371e855",
   "metadata": {
    "tags": []
   },
   "outputs": [],
   "source": [
    "%load_ext autoreload\n",
    "%autoreload 2\n",
    "%matplotlib inline"
   ]
  },
  {
   "cell_type": "code",
   "execution_count": 2,
   "id": "32ebef63-7529-4361-8cf1-0a4bfb076968",
   "metadata": {
    "tags": []
   },
   "outputs": [],
   "source": [
    "import os\n",
    "import io\n",
    "import copy\n",
    "import cv2\n",
    "import matplotlib.pyplot as plt\n",
    "import numpy as np\n",
    "import seaborn as sns\n",
    "import pandas as pd"
   ]
  },
  {
   "cell_type": "code",
   "execution_count": null,
   "id": "41330373-0fed-44c2-8246-25920957de99",
   "metadata": {},
   "outputs": [],
   "source": []
  },
  {
   "cell_type": "code",
   "execution_count": 3,
   "id": "9383167d-0120-47be-8ecb-16fbbe985aa7",
   "metadata": {},
   "outputs": [],
   "source": [
    "save_dir = \"/mnt/data/jmarkow/panels/2024-06 (QD paper)\""
   ]
  },
  {
   "cell_type": "code",
   "execution_count": 11,
   "id": "d48db7f7-080d-4093-a25c-e53cf5acf52e",
   "metadata": {},
   "outputs": [],
   "source": [
    "csv= \"/home/jmarkow/data_dir/active_projects/quantum_dots/misc/qdot_spectra/Qdot 800.csv\"\n",
    "led_excel = \"/home/jmarkow/data_dir/active_projects/quantum_dots/misc/qdot_spectra/Raw Spectral Distribution Data.xlsx\""
   ]
  },
  {
   "cell_type": "code",
   "execution_count": 12,
   "id": "eb1b8e3c-ab24-46f1-9211-61c2ac127ea9",
   "metadata": {},
   "outputs": [],
   "source": [
    "df = pd.read_csv(csv).set_index(\"Wavelength\")"
   ]
  },
  {
   "cell_type": "code",
   "execution_count": 20,
   "id": "157c82cc-ea20-4489-8fd1-c3bbd77ae428",
   "metadata": {},
   "outputs": [],
   "source": [
    "lights = {\"new_660\": \"094111\",\n",
    "          \"old_730\": \"095051\"}"
   ]
  },
  {
   "cell_type": "code",
   "execution_count": 22,
   "id": "8a02edab-0545-49ba-8caa-59239c558249",
   "metadata": {},
   "outputs": [],
   "source": [
    "led_dfs = []\n",
    "for _light_name, _sheet_name in lights.items():\n",
    "    _df = pd.read_excel(led_excel, sheet_name=_sheet_name)\n",
    "    _df[\"light_name\"] = _light_name\n",
    "    led_dfs.append(_df)"
   ]
  },
  {
   "cell_type": "code",
   "execution_count": 26,
   "id": "b04e5220-512f-4f19-a5b6-a7190a4fc1ad",
   "metadata": {},
   "outputs": [],
   "source": [
    "led_df = pd.concat(led_dfs)\n",
    "led_df = led_df.set_index(\"Wavelength (nm)\")"
   ]
  },
  {
   "cell_type": "code",
   "execution_count": 6,
   "id": "b8f6809e-39ed-42d5-b5ba-8043945fd714",
   "metadata": {},
   "outputs": [],
   "source": [
    "sns.set_context(\"paper\")"
   ]
  },
  {
   "cell_type": "code",
   "execution_count": 7,
   "id": "eef45900-863c-4a2c-8af4-0a7e9c94dc3d",
   "metadata": {},
   "outputs": [
    {
     "data": {
      "image/png": "[encoded data removed]",
      "text/plain": [
       "<Figure size 125x125 with 1 Axes>"
      ]
     },
     "metadata": {},
     "output_type": "display_data"
    }
   ],
   "source": [
    "fig, ax = plt.subplots(1, figsize=(1.25,1.25))\n",
    "ax.fill_between(df.index, df[\"Excitation\"].values, fc=\"k\", ec=\"k\",alpha=.25, label=\"Excite\")\n",
    "ax.fill_between(df.index, df[\"Emission\"].values, fc=\"r\", ec=\"k\", label=\"Emit\")\n",
    "ax.legend(bbox_to_anchor=(1.8, .9))\n",
    "ax.spines[[\"left\", \"right\", \"top\"]].set_visible(False)\n",
    "ax.set_yticks([])\n",
    "ax.set_xticks([200,600,1000])\n",
    "ax.set_xlabel(\"$\\lambda$\")\n",
    "fig.savefig(os.path.join(save_dir, \"qdot800_spectra_thermo.pdf\"), bbox_inches=\"tight\")\n",
    "# sns.despine(offset=5)\n"
   ]
  },
  {
   "cell_type": "code",
   "execution_count": 29,
   "id": "1909a570-06ce-49ee-8306-7f2c6d64f57e",
   "metadata": {},
   "outputs": [],
   "source": [
    "show_lights = [\"old_730\", \"new_660\"]"
   ]
  },
  {
   "cell_type": "code",
   "execution_count": 46,
   "id": "39cf316c-09de-453c-bcdf-2f58218938f5",
   "metadata": {},
   "outputs": [
    {
     "data": {
      "text/plain": [
       "430"
      ]
     },
     "execution_count": 46,
     "metadata": {},
     "output_type": "execute_result"
    }
   ],
   "source": [
    "df[\"Excitation\"].index.get_loc(730)"
   ]
  },
  {
   "cell_type": "code",
   "execution_count": 45,
   "id": "979a5db4-7f51-43d2-8aef-a38302879f5a",
   "metadata": {},
   "outputs": [
    {
     "data": {
      "text/plain": [
       "2.296627584"
      ]
     },
     "execution_count": 45,
     "metadata": {},
     "output_type": "execute_result"
    }
   ],
   "source": [
    "df[\"Excitation\"].iloc[361]"
   ]
  },
  {
   "cell_type": "code",
   "execution_count": 47,
   "id": "8ec422d6-4126-4862-8b30-992c90b3f38c",
   "metadata": {},
   "outputs": [
    {
     "data": {
      "text/plain": [
       "0.902534349"
      ]
     },
     "execution_count": 47,
     "metadata": {},
     "output_type": "execute_result"
    }
   ],
   "source": [
    "df[\"Excitation\"].iloc[430]"
   ]
  },
  {
   "cell_type": "code",
   "execution_count": 99,
   "id": "1ff0a0c3-4db8-4b65-9bea-f456a58ea863",
   "metadata": {},
   "outputs": [],
   "source": [
    "new_df = led_df.query(\"light_name == 'old_730'\")\n",
    "fwhm = new_df.loc[new_df[\"Relative Irradiance\"] > .5].index"
   ]
  },
  {
   "cell_type": "code",
   "execution_count": 100,
   "id": "3ece469e-822b-421f-91a8-13b2af5b11bb",
   "metadata": {},
   "outputs": [],
   "source": [
    "edges = (fwhm.min(), fwhm.max())"
   ]
  },
  {
   "cell_type": "code",
   "execution_count": 101,
   "id": "0253ecad-6d0a-403f-abc6-31cf8d27b373",
   "metadata": {},
   "outputs": [],
   "source": [
    "from scipy import integrate"
   ]
  },
  {
   "cell_type": "code",
   "execution_count": 102,
   "id": "91a84a6f-5020-4e46-b891-e7935c59671b",
   "metadata": {},
   "outputs": [
    {
     "data": {
      "text/plain": [
       "31.4980458465"
      ]
     },
     "execution_count": 102,
     "metadata": {},
     "output_type": "execute_result"
    }
   ],
   "source": [
    "integrate.trapezoid(df[\"Excitation\"].iloc[np.unique(df[\"Excitation\"].index.get_indexer(fwhm, method=\"nearest\"))])"
   ]
  },
  {
   "cell_type": "code",
   "execution_count": 156,
   "id": "ed8e4537-89fd-4c2c-857e-86a1b74f2502",
   "metadata": {},
   "outputs": [],
   "source": [
    "vals = led_df.groupby(\"light_name\").idxmax()\n",
    "idxs = df[\"Excitation\"].index.get_indexer(vals.to_numpy().squeeze(), method=\"nearest\")\n",
    "yidxs = df[\"Excitation\"].iloc[idxs]"
   ]
  },
  {
   "cell_type": "code",
   "execution_count": 174,
   "id": "e4f26b58-0e7b-4e33-bdfb-21e5fb149389",
   "metadata": {},
   "outputs": [],
   "source": [
    "colors = {\n",
    "    \"new_660\": [.7, 0, 0],\n",
    "    \"old_730\": [1, 0, 0]\n",
    "}"
   ]
  },
  {
   "cell_type": "code",
   "execution_count": 175,
   "id": "dcef7127-9be1-4994-b28c-6bdb5d596b5c",
   "metadata": {},
   "outputs": [
    {
     "data": {
      "image/png": "[encoded data removed]",
      "text/plain": [
       "<Figure size 150x220 with 3 Axes>"
      ]
     },
     "metadata": {},
     "output_type": "display_data"
    }
   ],
   "source": [
    "fig, ax = plt.subplots(3, 1, figsize=(1.5,2.2), height_ratios=[3, 1, 1], sharex=True, sharey=False)\n",
    "\n",
    "ax[0].fill_between(df.index, df[\"Excitation\"].values, fc=\"k\", ec=\"k\",alpha=.25, label=\"Excite\")\n",
    "for _ax, _light in zip(ax[1:], show_lights):\n",
    "    plt_df = led_df.query(\"light_name == @_light\")\n",
    "    _ax.fill_between(plt_df.index, plt_df[\"Relative Irradiance\"] * 100, fc=colors[_light], ec=None)\n",
    "\n",
    "ax[0].set_ylim(0, 3)\n",
    "ax[0].set_yticks(np.arange(3.1))\n",
    "for (_light, _val), _yidx in zip(vals.iterrows(), yidxs):\n",
    "    ax[0].plot([0, _val.iat[0]], [_yidx] * 2, color=colors[_light])\n",
    "# ax.legend(bbox_to_anchor=(1.8, .9))\n",
    "for _ax in ax:\n",
    "    _ax.spines[[\"right\", \"top\"]].set_visible(False)\n",
    "for _ax in ax[1:]:\n",
    "    _ax.spines[\"left\"].set_visible(False)\n",
    "    _ax.set_ylim(0, 100)\n",
    "    _ax.set_yticks([])\n",
    "    # _ax.set(yticklength=0)\n",
    "ax[-1].set_xticks(np.arange(500, 801, 100))\n",
    "ax[-1].set_xlabel(\"$\\lambda$\")\n",
    "ax[-1].set_xlim(600, 800)\n",
    "\n",
    "fig.tight_layout()\n",
    "fig.savefig(os.path.join(save_dir, \"qdot800_spectra_thermo_excitation_lights_highlighted.pdf\"), bbox_inches=\"tight\")"
   ]
  },
  {
   "cell_type": "code",
   "execution_count": null,
   "id": "8d53d5d2-93c4-4e71-a643-d906616184b3",
   "metadata": {},
   "outputs": [],
   "source": [
    "exp_decay = lambda x, tau: np.exp(-x/tau)"
   ]
  },
  {
   "cell_type": "code",
   "execution_count": null,
   "id": "78fb3424-b83b-4f47-99e0-057c5dbdf436",
   "metadata": {},
   "outputs": [],
   "source": [
    "fig, ax = plt.subplots(1, figsize=(1.25, 1.25))\n",
    "ax.plot(exp_decay(np.arange(100), 1000), clip_on=False, color=\"r\", lw=1, label=\"High\")\n",
    "ax.plot(exp_decay(np.arange(100), 100), clip_on=False, color=\"r\", ls=\"--\", lw=1, label=\"Low\")\n",
    "ax.spines[[\"top\",\"right\"]].set_visible(False)\n",
    "ax.set_yticks([0,1])\n",
    "ax.set_ylim(0,1)\n",
    "ax.set_xticks([0, 100])\n",
    "ax.set_xlim(0,100)\n",
    "ax.set_ylim(0,1)\n",
    "ax.set_xlabel(\"Time\")\n",
    "ax.set_ylabel(\"Fluoresence\")\n",
    "ax.legend(bbox_to_anchor=(1.2, .5))\n",
    "sns.despine(offset=5)\n",
    "fig.savefig(os.path.join(save_dir, \"qdot_photostability.pdf\"), bbox_inches=\"tight\")\n"
   ]
  },
  {
   "cell_type": "code",
   "execution_count": null,
   "id": "d5099ae0-0d25-46db-853b-225b27e9c878",
   "metadata": {},
   "outputs": [],
   "source": [
    "# temporal multiplexing"
   ]
  },
  {
   "cell_type": "code",
   "execution_count": null,
   "id": "4ee315e8-1944-4285-ad16-49e51d4fefc6",
   "metadata": {},
   "outputs": [],
   "source": [
    "# load in metadata file and use to derive schematic..."
   ]
  },
  {
   "cell_type": "code",
   "execution_count": null,
   "id": "ef497eb0-2707-45bb-aa9f-9c4b24ee1f2c",
   "metadata": {},
   "outputs": [],
   "source": [
    "import toml"
   ]
  },
  {
   "cell_type": "code",
   "execution_count": null,
   "id": "3b971a2a-eceb-4bd1-b44c-b90bd4e1be2e",
   "metadata": {},
   "outputs": [],
   "source": [
    "metadata_fname = \"/home/jmarkow/data_dir/active_projects/quantum_dots/timecourse_01/session_20231204114743-438357 (system76-pc)/metadata.toml\""
   ]
  },
  {
   "cell_type": "code",
   "execution_count": null,
   "id": "28e2ba09-2368-4a29-9127-25d2365c90d5",
   "metadata": {},
   "outputs": [],
   "source": [
    "metadata = toml.load(metadata_fname)"
   ]
  },
  {
   "cell_type": "code",
   "execution_count": null,
   "id": "3dc77bfd-651f-4446-b1a2-018a4a5b5e25",
   "metadata": {},
   "outputs": [],
   "source": [
    "trigger_hi = np.array(metadata[\"cli_parameters\"][\"hw_trigger_pulse_width\"]) # reflect then fluo\n",
    "trigger_lo = np.array(metadata[\"cli_parameters\"][\"hw_trigger_pulse_low\"])"
   ]
  },
  {
   "cell_type": "code",
   "execution_count": null,
   "id": "88329bd0-54aa-421f-ba4d-4ece37a6c6d0",
   "metadata": {},
   "outputs": [],
   "source": [
    "trigger_hi"
   ]
  },
  {
   "cell_type": "code",
   "execution_count": null,
   "id": "25cfa8a1-0e1a-4a33-913a-af25e06dd7aa",
   "metadata": {},
   "outputs": [],
   "source": [
    "fs = 5000\n",
    "samples_hi = {}\n",
    "samples_lo = {}\n",
    "samples_hi[\"reflect\"] = np.round(trigger_hi[0] * fs).astype(\"int\")\n",
    "samples_hi[\"fluo\"] = np.round(trigger_hi[1] * fs).astype(\"int\")\n",
    "samples_lo[\"reflect\"] = np.round(trigger_lo[0] * fs).astype(\"int\")\n",
    "samples_lo[\"fluo\"] = np.round(trigger_lo[1] * fs).astype(\"int\")"
   ]
  },
  {
   "cell_type": "code",
   "execution_count": null,
   "id": "b4298295-abfc-4d15-832b-681682269e31",
   "metadata": {},
   "outputs": [],
   "source": [
    "# one cycle is hi then lo then other hi + lo\n",
    "cycles = {}\n",
    "cycles[\"reflect\"] = []\n",
    "cycles[\"reflect\"] += [1 for _ in range(samples_hi[\"reflect\"])]\n",
    "cycles[\"reflect\"] += [0 for _ in range(samples_lo[\"reflect\"])]\n",
    "cycles[\"reflect\"] += [0 for _ in range(samples_lo[\"fluo\"] + samples_hi[\"fluo\"])]\n"
   ]
  },
  {
   "cell_type": "code",
   "execution_count": null,
   "id": "e6e733d6-85f9-49d6-8640-443cc4c447dc",
   "metadata": {},
   "outputs": [],
   "source": [
    "cycles[\"fluo\"] = []\n",
    "cycles[\"fluo\"] += [0 for _ in range(samples_lo[\"reflect\"] + samples_hi[\"reflect\"])]\n",
    "cycles[\"fluo\"] += [1 for _ in range(samples_hi[\"fluo\"])]\n",
    "cycles[\"fluo\"] += [0 for _ in range(samples_lo[\"fluo\"])]"
   ]
  },
  {
   "cell_type": "code",
   "execution_count": null,
   "id": "d6c1c1ce-03d9-4297-bc27-14ce2f8105ab",
   "metadata": {},
   "outputs": [],
   "source": [
    "ncycles = 7"
   ]
  },
  {
   "cell_type": "code",
   "execution_count": null,
   "id": "8dcea4f1-a06c-4b0c-b4bc-2f230754bf27",
   "metadata": {},
   "outputs": [],
   "source": [
    "plt_fluo = cycles[\"fluo\"] * ncycles\n",
    "plt_reflect = cycles[\"reflect\"] * ncycles\n"
   ]
  },
  {
   "cell_type": "code",
   "execution_count": null,
   "id": "bbc7dc61-c2e8-4712-886e-f10a79f62fb2",
   "metadata": {},
   "outputs": [],
   "source": [
    "fig, ax = plt.subplots(2,1, figsize=(1.25,1))\n",
    "ax[1].step(np.arange(len(plt_fluo)), plt_fluo, color=[.5, 0, 0], lw=.5)\n",
    "ax[0].step(np.arange(len(plt_fluo)), plt_reflect, color=[1, 0, 0], lw=.5)\n",
    "for _ax in ax:\n",
    "    _ax.axis(\"off\")\n",
    "fig.savefig(os.path.join(save_dir, \"multiplex_schematic.pdf\"), bbox_inches=\"tight\")\n"
   ]
  },
  {
   "cell_type": "code",
   "execution_count": null,
   "id": "92d4f4a1-a8b0-4c16-b5da-582bf927c3e4",
   "metadata": {},
   "outputs": [],
   "source": [
    "samples_hi"
   ]
  },
  {
   "cell_type": "code",
   "execution_count": null,
   "id": "a78d48b9-308e-4ce4-88bc-dad7f9223dc1",
   "metadata": {},
   "outputs": [],
   "source": []
  }
 ],
 "metadata": {
  "kernelspec": {
   "display_name": "Python [conda env:sleap-analysis]",
   "language": "python",
   "name": "conda-env-sleap-analysis-py"
  },
  "language_info": {
   "codemirror_mode": {
    "name": "ipython",
    "version": 3
   },
   "file_extension": ".py",
   "mimetype": "text/x-python",
   "name": "python",
   "nbconvert_exporter": "python",
   "pygments_lexer": "ipython3",
   "version": "3.10.13"
  }
 },
 "nbformat": 4,
 "nbformat_minor": 5
}
